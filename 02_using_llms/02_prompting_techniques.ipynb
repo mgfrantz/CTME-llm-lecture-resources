{
 "cells": [
  {
   "cell_type": "code",
   "execution_count": 9,
   "metadata": {},
   "outputs": [],
   "source": [
    "import litellm\n",
    "from litellm import completion\n",
    "import numpy as np\n",
    "litellm.drop_params = True\n",
    "\n",
    "def call_llm(prompt, **kwargs):\n",
    "    if \"temperature\" not in kwargs:\n",
    "        kwargs[\"temperature\"] = 1.2\n",
    "    response = completion(\n",
    "        model=\"ollama/llama3.1\", \n",
    "        messages=[{ \"content\": prompt,\"role\": \"user\"}], \n",
    "        api_base=\"http://localhost:11434\",\n",
    "        **kwargs\n",
    "    )\n",
    "    choice = response.choices[0]\n",
    "    if choice.finish_reason == \"tool_calls\":\n",
    "        tool_call_data = choice.message.tool_calls[0]\n",
    "        tool_call_str = f\"{tool_call_data.function.name}(**{tool_call_data.function.arguments})\"\n",
    "        return eval(tool_call_str)\n",
    "    else:\n",
    "        return choice.message.content"
   ]
  },
  {
   "cell_type": "code",
   "execution_count": 38,
   "metadata": {},
   "outputs": [],
   "source": [
    "reviews = [\n",
    "    \"I loved this movie!\",\n",
    "    \"I hated this movie!\",\n",
    "    \"I watched this movie.\",\n",
    "]"
   ]
  },
  {
   "cell_type": "code",
   "execution_count": 47,
   "metadata": {},
   "outputs": [
    {
     "name": "stdout",
     "output_type": "stream",
     "text": [
      "I loved this movie!\n",
      "Positive\n",
      "I hated this movie!\n",
      "Negative\n",
      "I watched this movie.\n",
      "Neutral\n"
     ]
    }
   ],
   "source": [
    "zero_shot_sentiment_template = \"\"\"\n",
    "Classify the sentiment of the following text as positive, negative, or neutral. \\\n",
    "Only return the classification. \n",
    "Text: {text}\n",
    "Answer: \\\n",
    "\"\"\"\n",
    "for review in reviews:\n",
    "    print(review)\n",
    "    print(call_llm(zero_shot_sentiment_template.format(text=review)))"
   ]
  },
  {
   "cell_type": "code",
   "execution_count": 48,
   "metadata": {},
   "outputs": [
    {
     "name": "stdout",
     "output_type": "stream",
     "text": [
      "I loved this movie!\n",
      "positive\n",
      "I hated this movie!\n",
      "negative\n",
      "I watched this movie.\n",
      "neutral\n"
     ]
    }
   ],
   "source": [
    "few_shot_sentiment_template = \"\"\"\n",
    "Classify the sentiment of the following text as positive, negative, or neutral. \\\n",
    "Only return the classification. \\\n",
    "Examples:\n",
    "\n",
    "Text: The food was delicious\n",
    "Answer: positive\n",
    "\n",
    "Text: I did not enjoy the scenery\n",
    "Answer: negative\n",
    "\n",
    "Text: Go straight then turn left at the stop sign\n",
    "Answer: neutral\n",
    "\n",
    "Text: It smelled so bad\n",
    "Answer: negative\n",
    "\n",
    "Text: I had a great time\n",
    "Answer: positive\n",
    "\n",
    "Text: {text}\n",
    "Answer: \\\n",
    "\"\"\"\n",
    "for review in reviews:\n",
    "    print(review)\n",
    "    print(call_llm(few_shot_sentiment_template.format(text=review)))"
   ]
  },
  {
   "cell_type": "code",
   "execution_count": 24,
   "metadata": {},
   "outputs": [
    {
     "name": "stdout",
     "output_type": "stream",
     "text": [
      "Let's break it down step by step.\n",
      "\n",
      "Step 1: Evaluate the expression inside the parentheses, (1+3).\n",
      "\n",
      "(1+3) = 4\n",
      "\n",
      "So, now we have: 4^2 - 2\n",
      "\n",
      "Step 2: Evaluate the exponentiation, 4^2.\n",
      "\n",
      "4^2 = 16\n",
      "\n",
      "Now we have: 16 - 2\n",
      "\n",
      "Step 3: Finally, subtract 2 from 16.\n",
      "\n",
      "16 - 2 = 14\n",
      "\n",
      "So, (1+3)^2 - 2 = 14.\n",
      "==================================================\n",
      "Let's break down the expression step by step.\n",
      "\n",
      "We start with the inside of the parentheses:\n",
      "\n",
      "(1 + 3) = 4\n",
      "\n",
      "So now we have:\n",
      "\n",
      "4^2 - 2\n",
      "\n",
      "Next, let's evaluate the exponent:\n",
      "\n",
      "4^2 = 16 (since 4 multiplied by itself is 16)\n",
      "\n",
      "Now we have:\n",
      "\n",
      "16 - 2\n",
      "\n",
      "Finally, let's subtract:\n",
      "\n",
      "16 - 2 = 14\n",
      "\n",
      "Therefore, the final answer is:\n",
      "\n",
      "14\n",
      "==================================================\n",
      "To find the value of (1+3)^2 - 2, let's follow the order of operations.\n",
      "\n",
      "**Step 1: Evaluate the expression inside the parentheses**\n",
      "(1+3) = 4\n",
      "\n",
      "**Step 2: Square the result**\n",
      "4^2 = 16\n",
      "\n",
      "**Step 3: Subtract 2 from the squared result**\n",
      "16 - 2 = 14\n",
      "\n",
      "Therefore, (1+3)^2 - 2 = 14.\n",
      "==================================================\n"
     ]
    }
   ],
   "source": [
    "for _ in range(3):\n",
    "    print(call_llm(\"What is (1+3)^2 - 2? Let's think step by step.\", temperature=1.99))\n",
    "    print(\"=\" * 50)"
   ]
  },
  {
   "cell_type": "code",
   "execution_count": 15,
   "metadata": {},
   "outputs": [],
   "source": [
    "def get_current_weather(city):\n",
    "    weather = np.random.choice([\"sunny\", \"cloudy\", \"rainy\", \"snowy\"])\n",
    "    return f\"The weather in {city} is {weather}.\""
   ]
  },
  {
   "cell_type": "code",
   "execution_count": 16,
   "metadata": {},
   "outputs": [],
   "source": [
    "tools=[{\n",
    "      'type': 'function',\n",
    "      'function': {\n",
    "        'name': 'get_current_weather',\n",
    "        'description': 'Get the current weather for a city',\n",
    "        'parameters': {\n",
    "          'type': 'object',\n",
    "          'properties': {\n",
    "            'city': {\n",
    "              'type': 'string',\n",
    "              'description': 'The name of the city',\n",
    "            },\n",
    "          },\n",
    "          'required': ['city'],\n",
    "        },\n",
    "      },\n",
    "    },\n",
    "  ],"
   ]
  },
  {
   "cell_type": "code",
   "execution_count": 25,
   "metadata": {},
   "outputs": [
    {
     "name": "stdout",
     "output_type": "stream",
     "text": [
      "The weather in Paris is snowy.\n",
      "The weather in Paris is sunny.\n",
      "The weather in Paris is cloudy.\n",
      "The weather in Paris is rainy.\n",
      "The weather in Paris is snowy.\n"
     ]
    }
   ],
   "source": [
    "for _ in range(5):\n",
    "    print(call_llm(\"What is the weather in Paris?\", tools=tools))"
   ]
  },
  {
   "cell_type": "code",
   "execution_count": null,
   "metadata": {},
   "outputs": [],
   "source": []
  }
 ],
 "metadata": {
  "kernelspec": {
   "display_name": "ctme",
   "language": "python",
   "name": "python3"
  },
  "language_info": {
   "codemirror_mode": {
    "name": "ipython",
    "version": 3
   },
   "file_extension": ".py",
   "mimetype": "text/x-python",
   "name": "python",
   "nbconvert_exporter": "python",
   "pygments_lexer": "ipython3",
   "version": "3.11.9"
  }
 },
 "nbformat": 4,
 "nbformat_minor": 2
}
