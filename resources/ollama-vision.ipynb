{
  "nbformat": 4,
  "nbformat_minor": 0,
  "metadata": {
    "colab": {
      "provenance": [],
      "machine_shape": "hm",
      "gpuType": "L4",
      "authorship_tag": "ABX9TyOusB6j1q8gh7EnjUhjGyg5",
      "include_colab_link": true
    },
    "kernelspec": {
      "name": "python3",
      "display_name": "Python 3"
    },
    "language_info": {
      "name": "python"
    },
    "accelerator": "GPU"
  },
  "cells": [
    {
      "cell_type": "markdown",
      "metadata": {
        "id": "view-in-github",
        "colab_type": "text"
      },
      "source": [
        "<a href=\"https://colab.research.google.com/github/mgfrantz/CTME-llm-lecture-resources/blob/main/resources/ollama-vision.ipynb\" target=\"_parent\"><img src=\"https://colab.research.google.com/assets/colab-badge.svg\" alt=\"Open In Colab\"/></a>"
      ]
    },
    {
      "cell_type": "code",
      "execution_count": 1,
      "metadata": {
        "colab": {
          "base_uri": "https://localhost:8080/"
        },
        "id": "hyp1f0UOgUk_",
        "outputId": "38835e5b-9981-4bcc-8987-cdcfde40e9c9"
      },
      "outputs": [
        {
          "output_type": "stream",
          "name": "stdout",
          "text": [
            ">>> Installing ollama to /usr/local\n",
            ">>> Downloading Linux amd64 bundle\n",
            "############################################################################################# 100.0%\n",
            ">>> Creating ollama user...\n",
            ">>> Adding ollama user to video group...\n",
            ">>> Adding current user to ollama group...\n",
            ">>> Creating ollama systemd service...\n",
            "\u001b[1m\u001b[31mWARNING:\u001b[m systemd is not running\n",
            "\u001b[1m\u001b[31mWARNING:\u001b[m Unable to detect NVIDIA/AMD GPU. Install lspci or lshw to automatically detect and install GPU dependencies.\n",
            ">>> The Ollama API is now available at 127.0.0.1:11434.\n",
            ">>> Install complete. Run \"ollama\" from the command line.\n"
          ]
        }
      ],
      "source": [
        "!curl -fsSL https://ollama.com/install.sh | sh"
      ]
    },
    {
      "cell_type": "code",
      "source": [
        "!pip install -qqqq ollama"
      ],
      "metadata": {
        "colab": {
          "base_uri": "https://localhost:8080/"
        },
        "id": "NhOBQ0R-g7OP",
        "outputId": "38d16465-f5bb-442f-abd1-618621d2b245"
      },
      "execution_count": 2,
      "outputs": [
        {
          "output_type": "stream",
          "name": "stdout",
          "text": [
            "\u001b[?25l   \u001b[90m━━━━━━━━━━━━━━━━━━━━━━━━━━━━━━━━━━━━━━━━\u001b[0m \u001b[32m0.0/76.4 kB\u001b[0m \u001b[31m?\u001b[0m eta \u001b[36m-:--:--\u001b[0m\r\u001b[2K   \u001b[90m━━━━━━━━━━━━━━━━━━━━━━━━━━━━━━━━━━━━━━━━\u001b[0m \u001b[32m76.4/76.4 kB\u001b[0m \u001b[31m3.4 MB/s\u001b[0m eta \u001b[36m0:00:00\u001b[0m\n",
            "\u001b[?25h"
          ]
        }
      ]
    },
    {
      "cell_type": "code",
      "source": [
        "!ollama serve > ollama.log 2>&1 &"
      ],
      "metadata": {
        "id": "PHh6yaB_hD6P"
      },
      "execution_count": 3,
      "outputs": []
    },
    {
      "cell_type": "code",
      "source": [
        "import ollama"
      ],
      "metadata": {
        "id": "z1kAfvKPhQNE"
      },
      "execution_count": 4,
      "outputs": []
    },
    {
      "cell_type": "code",
      "source": [
        "ollama.pull('llama3.2-vision')"
      ],
      "metadata": {
        "colab": {
          "base_uri": "https://localhost:8080/"
        },
        "id": "6VHG3LaHhYdA",
        "outputId": "31b6c2b4-7ec5-46f4-9527-8cb7bdab932c"
      },
      "execution_count": 5,
      "outputs": [
        {
          "output_type": "execute_result",
          "data": {
            "text/plain": [
              "ProgressResponse(status='success', completed=None, total=None, digest=None)"
            ]
          },
          "metadata": {},
          "execution_count": 5
        }
      ]
    },
    {
      "cell_type": "code",
      "source": [
        "# download https://ollama.com/public/ollama.png to ollama.png\n",
        "!wget https://ollama.com/public/ollama.png -O ollama.png"
      ],
      "metadata": {
        "id": "qppqn2nmXC_T",
        "outputId": "6ae5558c-1256-4a30-9191-d67e53d779b4",
        "colab": {
          "base_uri": "https://localhost:8080/"
        }
      },
      "execution_count": 45,
      "outputs": [
        {
          "output_type": "stream",
          "name": "stdout",
          "text": [
            "--2024-12-20 23:17:29--  https://ollama.com/public/ollama.png\n",
            "Resolving ollama.com (ollama.com)... 34.36.133.15\n",
            "Connecting to ollama.com (ollama.com)|34.36.133.15|:443... connected.\n",
            "HTTP request sent, awaiting response... 200 OK\n",
            "Length: 7487 (7.3K) [image/png]\n",
            "Saving to: ‘ollama.png’\n",
            "\n",
            "ollama.png          100%[===================>]   7.31K  --.-KB/s    in 0s      \n",
            "\n",
            "2024-12-20 23:17:30 (96.3 MB/s) - ‘ollama.png’ saved [7487/7487]\n",
            "\n"
          ]
        }
      ]
    },
    {
      "cell_type": "code",
      "source": [
        "ollama.chat(\n",
        "    model=\"llama3.2-vision\",\n",
        "    messages=[\n",
        "        {\"role\": \"user\", \"conent\": \"Describe this image\", \"images\": ['ollama.png']}\n",
        "    ]\n",
        ")"
      ],
      "metadata": {
        "id": "VUnzCx8iV_iT",
        "outputId": "c15913ec-b59d-44a4-db8d-562d5daafa1d",
        "colab": {
          "base_uri": "https://localhost:8080/"
        }
      },
      "execution_count": 46,
      "outputs": [
        {
          "output_type": "execute_result",
          "data": {
            "text/plain": [
              "ChatResponse(model='llama3.2-vision', created_at='2024-12-20T23:17:46.382602604Z', done=True, done_reason='stop', total_duration=9666767520, load_duration=24849061, prompt_eval_count=12, prompt_eval_duration=3608000000, eval_count=165, eval_duration=5932000000, message=Message(role='assistant', content=\"The image depicts a simple, black-and-white illustration of an animal's head. The image is divided into two distinct sections: the left side features a solid white background, while the right side has a solid black background.\\n\\nIn the middle of the image, there is a stylized illustration of an animal's head. The illustration consists of a circle with three short lines protruding from it, forming what appears to be ears. Two small circles are positioned on either side of the center circle, representing eyes. A small triangular shape is situated within the central circle, likely intended to depict a nose.\\n\\nThe overall effect of the image is one of simplicity and elegance, with clean lines and minimal details creating a sense of clarity and focus. The use of contrasting colors adds visual interest and helps to draw attention to the central illustration.\", images=None, tool_calls=None))"
            ]
          },
          "metadata": {},
          "execution_count": 46
        }
      ]
    }
  ]
}