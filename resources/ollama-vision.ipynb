{
  "nbformat": 4,
  "nbformat_minor": 0,
  "metadata": {
    "colab": {
      "provenance": [],
      "machine_shape": "hm",
      "gpuType": "L4",
      "authorship_tag": "ABX9TyNtHkgGkIlKcNYVsqQ0B0Sv",
      "include_colab_link": true
    },
    "kernelspec": {
      "name": "python3",
      "display_name": "Python 3"
    },
    "language_info": {
      "name": "python"
    },
    "accelerator": "GPU"
  },
  "cells": [
    {
      "cell_type": "markdown",
      "metadata": {
        "id": "view-in-github",
        "colab_type": "text"
      },
      "source": [
        "<a href=\"https://colab.research.google.com/github/mgfrantz/CTME-llm-lecture-resources/blob/main/resources/ollama-vision.ipynb\" target=\"_parent\"><img src=\"https://colab.research.google.com/assets/colab-badge.svg\" alt=\"Open In Colab\"/></a>"
      ]
    },
    {
      "cell_type": "code",
      "execution_count": 1,
      "metadata": {
        "colab": {
          "base_uri": "https://localhost:8080/"
        },
        "id": "hyp1f0UOgUk_",
        "outputId": "38835e5b-9981-4bcc-8987-cdcfde40e9c9"
      },
      "outputs": [
        {
          "output_type": "stream",
          "name": "stdout",
          "text": [
            ">>> Installing ollama to /usr/local\n",
            ">>> Downloading Linux amd64 bundle\n",
            "############################################################################################# 100.0%\n",
            ">>> Creating ollama user...\n",
            ">>> Adding ollama user to video group...\n",
            ">>> Adding current user to ollama group...\n",
            ">>> Creating ollama systemd service...\n",
            "\u001b[1m\u001b[31mWARNING:\u001b[m systemd is not running\n",
            "\u001b[1m\u001b[31mWARNING:\u001b[m Unable to detect NVIDIA/AMD GPU. Install lspci or lshw to automatically detect and install GPU dependencies.\n",
            ">>> The Ollama API is now available at 127.0.0.1:11434.\n",
            ">>> Install complete. Run \"ollama\" from the command line.\n"
          ]
        }
      ],
      "source": [
        "!curl -fsSL https://ollama.com/install.sh | sh"
      ]
    },
    {
      "cell_type": "code",
      "source": [
        "!pip install -qqqq ollama"
      ],
      "metadata": {
        "colab": {
          "base_uri": "https://localhost:8080/"
        },
        "id": "NhOBQ0R-g7OP",
        "outputId": "38d16465-f5bb-442f-abd1-618621d2b245"
      },
      "execution_count": 2,
      "outputs": [
        {
          "output_type": "stream",
          "name": "stdout",
          "text": [
            "\u001b[?25l   \u001b[90m━━━━━━━━━━━━━━━━━━━━━━━━━━━━━━━━━━━━━━━━\u001b[0m \u001b[32m0.0/76.4 kB\u001b[0m \u001b[31m?\u001b[0m eta \u001b[36m-:--:--\u001b[0m\r\u001b[2K   \u001b[90m━━━━━━━━━━━━━━━━━━━━━━━━━━━━━━━━━━━━━━━━\u001b[0m \u001b[32m76.4/76.4 kB\u001b[0m \u001b[31m3.4 MB/s\u001b[0m eta \u001b[36m0:00:00\u001b[0m\n",
            "\u001b[?25h"
          ]
        }
      ]
    },
    {
      "cell_type": "code",
      "source": [
        "!ollama serve > ollama.log 2>&1 &"
      ],
      "metadata": {
        "id": "PHh6yaB_hD6P"
      },
      "execution_count": 3,
      "outputs": []
    },
    {
      "cell_type": "code",
      "source": [
        "import ollama\n",
        "from rich import print"
      ],
      "metadata": {
        "id": "z1kAfvKPhQNE"
      },
      "execution_count": 48,
      "outputs": []
    },
    {
      "cell_type": "code",
      "source": [
        "ollama.pull('llama3.2-vision')"
      ],
      "metadata": {
        "colab": {
          "base_uri": "https://localhost:8080/"
        },
        "id": "6VHG3LaHhYdA",
        "outputId": "31b6c2b4-7ec5-46f4-9527-8cb7bdab932c"
      },
      "execution_count": 5,
      "outputs": [
        {
          "output_type": "execute_result",
          "data": {
            "text/plain": [
              "ProgressResponse(status='success', completed=None, total=None, digest=None)"
            ]
          },
          "metadata": {},
          "execution_count": 5
        }
      ]
    },
    {
      "cell_type": "code",
      "source": [
        "# download https://ollama.com/public/ollama.png to ollama.png\n",
        "!wget https://ollama.com/public/ollama.png -O ollama.png"
      ],
      "metadata": {
        "colab": {
          "base_uri": "https://localhost:8080/"
        },
        "id": "qppqn2nmXC_T",
        "outputId": "6ae5558c-1256-4a30-9191-d67e53d779b4"
      },
      "execution_count": 45,
      "outputs": [
        {
          "output_type": "stream",
          "name": "stdout",
          "text": [
            "--2024-12-20 23:17:29--  https://ollama.com/public/ollama.png\n",
            "Resolving ollama.com (ollama.com)... 34.36.133.15\n",
            "Connecting to ollama.com (ollama.com)|34.36.133.15|:443... connected.\n",
            "HTTP request sent, awaiting response... 200 OK\n",
            "Length: 7487 (7.3K) [image/png]\n",
            "Saving to: ‘ollama.png’\n",
            "\n",
            "ollama.png          100%[===================>]   7.31K  --.-KB/s    in 0s      \n",
            "\n",
            "2024-12-20 23:17:30 (96.3 MB/s) - ‘ollama.png’ saved [7487/7487]\n",
            "\n"
          ]
        }
      ]
    },
    {
      "cell_type": "code",
      "source": [
        "response = ollama.chat(\n",
        "    model=\"llama3.2-vision\",\n",
        "    messages=[\n",
        "        {\"role\": \"user\", \"conent\": \"Describe this image\", \"images\": ['ollama.png']}\n",
        "    ]\n",
        ")\n",
        "\n",
        "print(response.message.content)"
      ],
      "metadata": {
        "colab": {
          "base_uri": "https://localhost:8080/",
          "height": 273
        },
        "id": "VUnzCx8iV_iT",
        "outputId": "1f8d8353-9195-495b-9d45-582f437f2ab3"
      },
      "execution_count": 53,
      "outputs": [
        {
          "output_type": "display_data",
          "data": {
            "text/plain": [
              "The image depicts a simple black-and-white line drawing of an animal, likely a cat or dog. The purpose of the image\n",
              "is to provide a visual representation of the subject.\n",
              "\n",
              "* A cat:\n",
              "        + The image shows a feline creature with pointy ears and whiskers.\n",
              "        + It has large eyes and a small nose.\n",
              "        + Its mouth is closed, and it appears to be looking straight ahead.\n",
              "* Ears:\n",
              "        + The ears are long and pointed, with a slight curve at the tip.\n",
              "        + They are positioned on top of the head, slightly angled towards the front.\n",
              "* Eyes:\n",
              "        + The eyes are large and round, with vertical pupils.\n",
              "        + They are positioned on either side of the head, about one-third of the way down from the top.\n",
              "\n",
              "The image provides a clear view of the animal's facial features, showcasing its distinctive ears and eyes. There \n",
              "are no significant changes or comparisons to note in this image.\n"
            ],
            "text/html": [
              "<pre style=\"white-space:pre;overflow-x:auto;line-height:normal;font-family:Menlo,'DejaVu Sans Mono',consolas,'Courier New',monospace\">The image depicts a simple black-and-white line drawing of an animal, likely a cat or dog. The purpose of the image\n",
              "is to provide a visual representation of the subject.\n",
              "\n",
              "* A cat:\n",
              "        + The image shows a feline creature with pointy ears and whiskers.\n",
              "        + It has large eyes and a small nose.\n",
              "        + Its mouth is closed, and it appears to be looking straight ahead.\n",
              "* Ears:\n",
              "        + The ears are long and pointed, with a slight curve at the tip.\n",
              "        + They are positioned on top of the head, slightly angled towards the front.\n",
              "* Eyes:\n",
              "        + The eyes are large and round, with vertical pupils.\n",
              "        + They are positioned on either side of the head, about one-third of the way down from the top.\n",
              "\n",
              "The image provides a clear view of the animal's facial features, showcasing its distinctive ears and eyes. There \n",
              "are no significant changes or comparisons to note in this image.\n",
              "</pre>\n"
            ]
          },
          "metadata": {}
        }
      ]
    },
    {
      "cell_type": "code",
      "source": [],
      "metadata": {
        "id": "3wWiISYyXcD5"
      },
      "execution_count": null,
      "outputs": []
    }
  ]
}