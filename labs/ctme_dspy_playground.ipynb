{
  "nbformat": 4,
  "nbformat_minor": 0,
  "metadata": {
    "colab": {
      "provenance": [],
      "authorship_tag": "ABX9TyPGcLbcW5lZiZm5BWfjtyNv",
      "include_colab_link": true
    },
    "kernelspec": {
      "name": "python3",
      "display_name": "Python 3"
    },
    "language_info": {
      "name": "python"
    }
  },
  "cells": [
    {
      "cell_type": "markdown",
      "metadata": {
        "id": "view-in-github",
        "colab_type": "text"
      },
      "source": [
        "<a href=\"https://colab.research.google.com/github/mgfrantz/CTME-llm-lecture-resources/blob/main/labs/ctme_dspy_playground.ipynb\" target=\"_parent\"><img src=\"https://colab.research.google.com/assets/colab-badge.svg\" alt=\"Open In Colab\"/></a>"
      ]
    },
    {
      "cell_type": "code",
      "execution_count": 1,
      "metadata": {
        "id": "g8jghqLhVSNz"
      },
      "outputs": [],
      "source": [
        "%%capture\n",
        "!pip install dspy-ai -qqqq"
      ]
    },
    {
      "cell_type": "code",
      "source": [
        "import os\n",
        "from google.colab import userdata\n",
        "os.environ['OPENAI_API_KEY'] = userdata.get('OPENAI_API_KEY')"
      ],
      "metadata": {
        "id": "lNOg0HPCVU62"
      },
      "execution_count": 2,
      "outputs": []
    },
    {
      "cell_type": "code",
      "source": [
        "import dspy\n",
        "import numpy as np"
      ],
      "metadata": {
        "id": "-QuhJNEcVfaQ"
      },
      "execution_count": 21,
      "outputs": []
    },
    {
      "cell_type": "code",
      "source": [
        "str(np.random.randint(1000, 9999))"
      ],
      "metadata": {
        "colab": {
          "base_uri": "https://localhost:8080/",
          "height": 35
        },
        "id": "Kk7wqtNHWJ8E",
        "outputId": "38ebbb9d-9c23-4159-a563-007028000152"
      },
      "execution_count": 22,
      "outputs": [
        {
          "output_type": "execute_result",
          "data": {
            "text/plain": [
              "'8033'"
            ],
            "application/vnd.google.colaboratory.intrinsic+json": {
              "type": "string"
            }
          },
          "metadata": {},
          "execution_count": 22
        }
      ]
    },
    {
      "cell_type": "code",
      "source": [
        "mini = dspy.LM(model='openai/gpt-4o-mini', temperature=1.3, top_p=0.9)\n",
        "dspy.configure(lm=mini)"
      ],
      "metadata": {
        "id": "qvZF9Ax2VjMZ"
      },
      "execution_count": 9,
      "outputs": []
    },
    {
      "cell_type": "code",
      "source": [
        "class OutputSignature(dspy.Signature):\n",
        "    \"Output of a sentiment analysis\"\n",
        "    sentence: str = dspy.InputField(desc='The sentence to classify')\n",
        "    sentiment: str = dspy.OutputField(desc='positive, negative, or neutral')"
      ],
      "metadata": {
        "id": "eFQSLyaMXap_"
      },
      "execution_count": 10,
      "outputs": []
    },
    {
      "cell_type": "code",
      "source": [
        "class SentimentEnsemble(dspy.Module):\n",
        "    def __init__(self, n_classifiers=5):\n",
        "        self.n_classifiers = n_classifiers\n",
        "        self.cot = dspy.ChainOfThought(OutputSignature)\n",
        "        self.output = dspy.ChainOfThought('examples -> answer')\n",
        "\n",
        "    def forward(self, sentence):\n",
        "        outputs = []\n",
        "        for _ in range(self.n_classifiers):\n",
        "            output = self.cot(sentence=str(np.random.randint(1000, 9999)) + ' ' + sentence)\n",
        "            # output = self.cot(sentence=sentence)\n",
        "            outputs.append(f\"Sentiment: {output.sentiment}, Reasoning: {output.reasoning}\")\n",
        "            print(output)\n",
        "\n",
        "        examples = '\\n\\n'.join(outputs)\n",
        "\n",
        "        return self.output(examples=examples)"
      ],
      "metadata": {
        "id": "d7Qm7l2mVssd"
      },
      "execution_count": 29,
      "outputs": []
    },
    {
      "cell_type": "code",
      "source": [
        "clf = SentimentEnsemble()"
      ],
      "metadata": {
        "id": "4goo7kq7WwWK"
      },
      "execution_count": 30,
      "outputs": []
    },
    {
      "cell_type": "code",
      "source": [
        "clf('This movie was complex. I liked the fast paced nature but did not like the plot.')"
      ],
      "metadata": {
        "colab": {
          "base_uri": "https://localhost:8080/"
        },
        "id": "eXn53CzrWx1s",
        "outputId": "846c2224-974d-43e4-aa3b-fa34da4f56b6"
      },
      "execution_count": 31,
      "outputs": [
        {
          "output_type": "stream",
          "name": "stdout",
          "text": [
            "Prediction(\n",
            "    reasoning='The sentence expresses mixed feelings about the movie. While the speaker appreciates the fast-paced nature, which indicates a positive sentiment, they also mention a dislike for the plot, which conveys a negative sentiment. This results in an overall neutral sentiment as the positive and negative aspects balance each other out.',\n",
            "    sentiment='neutral'\n",
            ")\n",
            "Prediction(\n",
            "    reasoning='The sentence expresses mixed feelings about the movie. The phrase \"I liked the fast paced nature\" indicates a positive sentiment towards that specific aspect, while \"but did not like the plot\" reveals a negative sentiment towards another important aspect. This combination results in an overall neutral sentiment as the positive and negative comments balance each other out.',\n",
            "    sentiment='neutral'\n",
            ")\n",
            "Prediction(\n",
            "    reasoning='The sentence expresses mixed feelings about the movie. The phrase \"I liked the fast paced nature\" indicates a positive sentiment towards a specific aspect of the movie, while \"did not like the plot\" conveys a negative sentiment regarding another aspect. Overall, the presence of both positive and negative opinions leads to a neutral overall sentiment.',\n",
            "    sentiment='neutral'\n",
            ")\n",
            "Prediction(\n",
            "    reasoning='The sentence expresses mixed feelings about the movie. The speaker appreciates the fast-paced nature, indicating a positive sentiment towards that aspect. However, the phrase \"did not like the plot\" suggests a negative sentiment. Overall, due to the conflicting opinions expressed, the overall sentiment can be classified as neutral, as there is no clear dominant sentiment.',\n",
            "    sentiment='neutral'\n",
            ")\n",
            "Prediction(\n",
            "    reasoning='The sentence expresses mixed feelings about the movie. The speaker appreciates the fast-paced nature, which suggests a positive sentiment, but they also criticize the plot, indicating a negative sentiment. Since there are both positive and negative aspects presented, the overall sentiment can be considered neutral.',\n",
            "    sentiment='neutral'\n",
            ")\n"
          ]
        },
        {
          "output_type": "execute_result",
          "data": {
            "text/plain": [
              "Prediction(\n",
              "    reasoning='The examples provided all demonstrate a pattern of expressing mixed feelings about a movie. They highlight that there are both positive and negative sentiments regarding different aspects of the film, leading to an overall neutral sentiment. In each case, the positive sentiment towards one aspect (such as the fast-paced nature) is countered by a negative sentiment towards another (like the plot), resulting in a balance that does not lean towards either end of the emotional spectrum.',\n",
              "    answer='neutral'\n",
              ")"
            ]
          },
          "metadata": {},
          "execution_count": 31
        }
      ]
    },
    {
      "cell_type": "code",
      "source": [
        "class DoMath(dspy.Signature):\n",
        "    question: str = dspy.InputField(desc='The question to answer')\n",
        "    do_math: bool = dspy.OutputField(desc='whether the question requires math to be done')\n",
        "\n",
        "class PythonCode(dspy.Signature):\n",
        "    question: str = dspy.InputField(desc='The question to answer')\n",
        "    code: str = dspy.OutputField(desc='Python code to answer the question. Store the value in the variable \"result\". Starts with \"```python\" and ends with \"```\"')\n",
        "\n",
        "def process_code(code:str):\n",
        "    return code.replace('```python', '').replace('```', '').strip()\n",
        "\n",
        "class MaybeDoMathBot(dspy.Module):\n",
        "    def __init__(self):\n",
        "        # Decision on whether to do math\n",
        "        self.do_math = dspy.ChainOfThought(DoMath)\n",
        "        # Code output for math\n",
        "        self.python = dspy.ChainOfThought(PythonCode)\n",
        "        # Text output for not math\n",
        "        self.not_math = dspy.ChainOfThought('question -> answer')\n",
        "        # final output:\n",
        "        self.output = dspy.ChainOfThought('question -> answer')\n",
        "\n",
        "\n",
        "    def forward(self, question):\n",
        "        do_math = self.do_math(question=question)\n",
        "        if do_math.do_math:\n",
        "            code = self.python(question=question)\n",
        "            exec(process_code(code.code))\n",
        "            if 'result' not in locals():\n",
        "                raise ValueError('result not in locals')\n",
        "            return locals()['result']\n",
        "        else:\n",
        "            return self.not_math(question=question).answer\n"
      ],
      "metadata": {
        "id": "5nsnwhogYuSA"
      },
      "execution_count": 57,
      "outputs": []
    },
    {
      "cell_type": "code",
      "source": [
        "bot = MaybeDoMathBot()"
      ],
      "metadata": {
        "id": "GJJYFg-7Y1h6"
      },
      "execution_count": 58,
      "outputs": []
    },
    {
      "cell_type": "code",
      "source": [
        "answer = bot(question=\"Solve heat equation\")"
      ],
      "metadata": {
        "colab": {
          "base_uri": "https://localhost:8080/",
          "height": 472
        },
        "id": "-Bsb2pVPY3RC",
        "outputId": "b2d58f81-38e8-4d69-eecc-17e5c3bb4fe7"
      },
      "execution_count": 67,
      "outputs": [
        {
          "output_type": "display_data",
          "data": {
            "text/plain": [
              "<Figure size 640x480 with 1 Axes>"
            ],
            "image/png": "[encoded data removed]"
          },
          "metadata": {}
        }
      ]
    },
    {
      "cell_type": "code",
      "source": [
        "answer"
      ],
      "metadata": {
        "colab": {
          "base_uri": "https://localhost:8080/"
        },
        "id": "6ospir6oZOpf",
        "outputId": "3d64a57d-deed-46cb-bc2d-c562c00208cf"
      },
      "execution_count": 72,
      "outputs": [
        {
          "output_type": "execute_result",
          "data": {
            "text/plain": [
              "array([0.00000000e+00, 1.06501826e-38, 2.57848030e-37, 6.03713557e-36,\n",
              "       1.36821846e-34, 2.99947520e-33, 6.35609108e-32, 1.30095140e-30,\n",
              "       2.56985796e-29, 4.89511954e-28, 8.98315243e-27, 1.58666251e-25,\n",
              "       2.69451802e-24, 4.39478202e-23, 6.87602741e-22, 1.03068949e-20,\n",
              "       1.47812624e-19, 2.02509189e-18, 2.64624875e-17, 3.29240420e-16,\n",
              "       3.89286312e-15, 4.36515723e-14, 4.63148896e-13, 4.63818675e-12,\n",
              "       4.37206476e-11, 3.86731098e-10, 3.19917156e-09, 2.46556479e-08,\n",
              "       1.76271406e-07, 1.16338494e-06, 7.04916163e-06, 3.89645921e-05,\n",
              "       1.95051228e-04, 8.76800452e-04, 3.50481889e-03, 1.23171911e-02,\n",
              "       3.75666687e-02, 9.80204667e-02, 2.15659594e-01, 3.95594770e-01,\n",
              "       6.04405230e-01, 7.84340406e-01, 9.01979533e-01, 9.62433331e-01,\n",
              "       9.87682809e-01, 9.96495181e-01, 9.99123196e-01, 9.99804924e-01,\n",
              "       9.99960859e-01, 9.99991787e-01, 9.99991787e-01, 9.99960859e-01,\n",
              "       9.99804924e-01, 9.99123196e-01, 9.96495181e-01, 9.87682809e-01,\n",
              "       9.62433331e-01, 9.01979533e-01, 7.84340406e-01, 6.04405230e-01,\n",
              "       3.95594770e-01, 2.15659594e-01, 9.80204667e-02, 3.75666687e-02,\n",
              "       1.23171911e-02, 3.50481889e-03, 8.76800452e-04, 1.95051228e-04,\n",
              "       3.89645921e-05, 7.04916163e-06, 1.16338494e-06, 1.76271406e-07,\n",
              "       2.46556479e-08, 3.19917156e-09, 3.86731098e-10, 4.37206476e-11,\n",
              "       4.63818675e-12, 4.63148896e-13, 4.36515723e-14, 3.89286312e-15,\n",
              "       3.29240420e-16, 2.64624875e-17, 2.02509189e-18, 1.47812624e-19,\n",
              "       1.03068949e-20, 6.87602741e-22, 4.39478202e-23, 2.69451802e-24,\n",
              "       1.58666251e-25, 8.98315243e-27, 4.89511954e-28, 2.56985796e-29,\n",
              "       1.30095140e-30, 6.35609108e-32, 2.99947520e-33, 1.36821846e-34,\n",
              "       6.03713557e-36, 2.57848030e-37, 1.06501826e-38, 0.00000000e+00])"
            ]
          },
          "metadata": {},
          "execution_count": 72
        }
      ]
    },
    {
      "cell_type": "code",
      "source": [
        "mini.inspect_history()"
      ],
      "metadata": {
        "colab": {
          "base_uri": "https://localhost:8080/"
        },
        "id": "wv5xiPnqZ6nW",
        "outputId": "61a5e629-c24c-4a70-b20b-4a31b2ff2cd9"
      },
      "execution_count": 71,
      "outputs": [
        {
          "output_type": "stream",
          "name": "stdout",
          "text": [
            "\n",
            "\n",
            "\n",
            "\n",
            "\u001b[34m[2024-10-22T22:46:47.894049]\u001b[0m\n",
            "\n",
            "\u001b[31mSystem message:\u001b[0m\n",
            "\n",
            "Your input fields are:\n",
            "1. `question` (str): The question to answer\n",
            "\n",
            "Your output fields are:\n",
            "1. `reasoning` (str)\n",
            "2. `code` (str): Python code to answer the question. Store the value in the variable \"result\". Starts with \"```python\" and ends with \"```\"\n",
            "\n",
            "All interactions will be structured in the following way, with the appropriate values filled in.\n",
            "\n",
            "[[ ## question ## ]]\n",
            "{question}\n",
            "\n",
            "[[ ## reasoning ## ]]\n",
            "{reasoning}\n",
            "\n",
            "[[ ## code ## ]]\n",
            "{code}\n",
            "\n",
            "[[ ## completed ## ]]\n",
            "\n",
            "In adhering to this structure, your objective is: \n",
            "        Given the fields `question`, produce the fields `code`.\n",
            "\n",
            "\n",
            "\u001b[31mUser message:\u001b[0m\n",
            "\n",
            "[[ ## question ## ]]\n",
            "Solve heat equation\n",
            "\n",
            "Respond with the corresponding output fields, starting with the field `reasoning`, then `code`, and then ending with the marker for `completed`.\n",
            "\n",
            "\n",
            "\u001b[31mResponse:\u001b[0m\n",
            "\n",
            "\u001b[32m[[ ## reasoning ## ]]\n",
            "The heat equation is a partial differential equation that describes the distribution of heat in a given region over time. It can be expressed in one dimension as:\n",
            "\n",
            "∂u/∂t = k * ∂²u/∂x²\n",
            "\n",
            "where u is the temperature, t is time, x is the spatial variable, and k is the thermal conductivity constant.\n",
            "\n",
            "To solve the heat equation, we can use numerical methods, such as finite difference methods. In this case, we will implement an explicit finite difference scheme, which involves discretizing both time and space, and iteratively updating the temperature values.\n",
            "\n",
            "The method consists of the following steps:\n",
            "1. Define the initial temperature distribution.\n",
            "2. Set the boundary conditions.\n",
            "3. Use a time-stepping loop to update the temperature values based on the discretized form of the heat equation.\n",
            "\n",
            "We'll write the code for a 1D heat equation with given initial conditions and boundary conditions.\n",
            "\n",
            "[[ ## code ## ]]\n",
            "```python\n",
            "import numpy as np\n",
            "import matplotlib.pyplot as plt\n",
            "\n",
            "# Parameters\n",
            "L = 10.0  # length of the rod\n",
            "T = 2.0   # total time\n",
            "nx = 100  # number of spatial points\n",
            "nt = 200  # number of time steps\n",
            "alpha = 0.01  # thermal diffusivity\n",
            "dx = L / (nx - 1)  # spatial step\n",
            "dt = T / nt  # time step\n",
            "\n",
            "# Stability condition\n",
            "if dt > dx**2 / (4 * alpha):\n",
            "    raise ValueError(\"Stability condition violated: dt must be less than dx^2 / (4 * alpha)\")\n",
            "\n",
            "# Initial condition\n",
            "u = np.zeros(nx)\n",
            "u[int(0.4*nx):int(0.6*nx)] = 1  # Initial temperature distribution\n",
            "\n",
            "# Time-stepping loop\n",
            "for n in range(nt):\n",
            "    u_new = u.copy()\n",
            "    for i in range(1, nx-1):\n",
            "        u_new[i] = u[i] + alpha * dt / dx**2 * (u[i+1] - 2*u[i] + u[i-1])\n",
            "    u = u_new\n",
            "\n",
            "# Plot the results\n",
            "plt.plot(np.linspace(0, L, nx), u)\n",
            "plt.title('Temperature distribution at t={}'.format(T))\n",
            "plt.xlabel('Distance (x)')\n",
            "plt.ylabel('Temperature (u)')\n",
            "plt.show()\n",
            "\n",
            "result = u\n",
            "```\n",
            "\n",
            "[[ ## completed ## ]]\u001b[0m\n",
            "\n",
            "\n",
            "\n",
            "\n",
            "\n"
          ]
        }
      ]
    },
    {
      "cell_type": "code",
      "source": [],
      "metadata": {
        "id": "_sYrOGs-Z9fm"
      },
      "execution_count": null,
      "outputs": []
    }
  ]
}