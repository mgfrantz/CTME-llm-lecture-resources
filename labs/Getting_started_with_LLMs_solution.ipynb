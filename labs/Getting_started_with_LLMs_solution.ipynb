{
  "nbformat": 4,
  "nbformat_minor": 0,
  "metadata": {
    "colab": {
      "provenance": [],
      "mount_file_id": "1hFroQXIb_0cs2AaJjkHg_caJWtItHGVL",
      "authorship_tag": "ABX9TyPRzXNEwsULvrR6pGaivq/M",
      "include_colab_link": true
    },
    "kernelspec": {
      "name": "python3",
      "display_name": "Python 3"
    },
    "language_info": {
      "name": "python"
    },
    "widgets": {
      "application/vnd.jupyter.widget-state+json": {
        "464655c8400b4ffc8d2c0134868177a6": {
          "model_module": "@jupyter-widgets/controls",
          "model_name": "VBoxModel",
          "model_module_version": "1.5.0",
          "state": {
            "_dom_classes": [
              "widget-interact"
            ],
            "_model_module": "@jupyter-widgets/controls",
            "_model_module_version": "1.5.0",
            "_model_name": "VBoxModel",
            "_view_count": null,
            "_view_module": "@jupyter-widgets/controls",
            "_view_module_version": "1.5.0",
            "_view_name": "VBoxView",
            "box_style": "",
            "children": [
              "IPY_MODEL_ef29f2f60236419fbc0c2d44f9bbf09e",
              "IPY_MODEL_baec76b9ca734491823ee172c89754ed"
            ],
            "layout": "IPY_MODEL_a00ccf2c2049464ea7c927aa71226f2d"
          }
        },
        "ef29f2f60236419fbc0c2d44f9bbf09e": {
          "model_module": "@jupyter-widgets/controls",
          "model_name": "FloatSliderModel",
          "model_module_version": "1.5.0",
          "state": {
            "_dom_classes": [],
            "_model_module": "@jupyter-widgets/controls",
            "_model_module_version": "1.5.0",
            "_model_name": "FloatSliderModel",
            "_view_count": null,
            "_view_module": "@jupyter-widgets/controls",
            "_view_module_version": "1.5.0",
            "_view_name": "FloatSliderView",
            "continuous_update": true,
            "description": "temperature",
            "description_tooltip": null,
            "disabled": false,
            "layout": "IPY_MODEL_d2675643bd6e4f78b6481beae91079c3",
            "max": 2,
            "min": 0.1,
            "orientation": "horizontal",
            "readout": true,
            "readout_format": ".2f",
            "step": 0.1,
            "style": "IPY_MODEL_56ba6d00dff94973b490e2e93dbdcd79",
            "value": 1
          }
        },
        "baec76b9ca734491823ee172c89754ed": {
          "model_module": "@jupyter-widgets/output",
          "model_name": "OutputModel",
          "model_module_version": "1.0.0",
          "state": {
            "_dom_classes": [],
            "_model_module": "@jupyter-widgets/output",
            "_model_module_version": "1.0.0",
            "_model_name": "OutputModel",
            "_view_count": null,
            "_view_module": "@jupyter-widgets/output",
            "_view_module_version": "1.0.0",
            "_view_name": "OutputView",
            "layout": "IPY_MODEL_5ca788cd272841948df90315ab181cee",
            "msg_id": "",
            "outputs": [
              {
                "output_type": "display_data",
                "data": {
                  "text/plain": "<Figure size 600x400 with 1 Axes>",
                  "image/png": "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\n"
                },
                "metadata": {}
              }
            ]
          }
        },
        "a00ccf2c2049464ea7c927aa71226f2d": {
          "model_module": "@jupyter-widgets/base",
          "model_name": "LayoutModel",
          "model_module_version": "1.2.0",
          "state": {
            "_model_module": "@jupyter-widgets/base",
            "_model_module_version": "1.2.0",
            "_model_name": "LayoutModel",
            "_view_count": null,
            "_view_module": "@jupyter-widgets/base",
            "_view_module_version": "1.2.0",
            "_view_name": "LayoutView",
            "align_content": null,
            "align_items": null,
            "align_self": null,
            "border": null,
            "bottom": null,
            "display": null,
            "flex": null,
            "flex_flow": null,
            "grid_area": null,
            "grid_auto_columns": null,
            "grid_auto_flow": null,
            "grid_auto_rows": null,
            "grid_column": null,
            "grid_gap": null,
            "grid_row": null,
            "grid_template_areas": null,
            "grid_template_columns": null,
            "grid_template_rows": null,
            "height": null,
            "justify_content": null,
            "justify_items": null,
            "left": null,
            "margin": null,
            "max_height": null,
            "max_width": null,
            "min_height": null,
            "min_width": null,
            "object_fit": null,
            "object_position": null,
            "order": null,
            "overflow": null,
            "overflow_x": null,
            "overflow_y": null,
            "padding": null,
            "right": null,
            "top": null,
            "visibility": null,
            "width": null
          }
        },
        "d2675643bd6e4f78b6481beae91079c3": {
          "model_module": "@jupyter-widgets/base",
          "model_name": "LayoutModel",
          "model_module_version": "1.2.0",
          "state": {
            "_model_module": "@jupyter-widgets/base",
            "_model_module_version": "1.2.0",
            "_model_name": "LayoutModel",
            "_view_count": null,
            "_view_module": "@jupyter-widgets/base",
            "_view_module_version": "1.2.0",
            "_view_name": "LayoutView",
            "align_content": null,
            "align_items": null,
            "align_self": null,
            "border": null,
            "bottom": null,
            "display": null,
            "flex": null,
            "flex_flow": null,
            "grid_area": null,
            "grid_auto_columns": null,
            "grid_auto_flow": null,
            "grid_auto_rows": null,
            "grid_column": null,
            "grid_gap": null,
            "grid_row": null,
            "grid_template_areas": null,
            "grid_template_columns": null,
            "grid_template_rows": null,
            "height": null,
            "justify_content": null,
            "justify_items": null,
            "left": null,
            "margin": null,
            "max_height": null,
            "max_width": null,
            "min_height": null,
            "min_width": null,
            "object_fit": null,
            "object_position": null,
            "order": null,
            "overflow": null,
            "overflow_x": null,
            "overflow_y": null,
            "padding": null,
            "right": null,
            "top": null,
            "visibility": null,
            "width": null
          }
        },
        "56ba6d00dff94973b490e2e93dbdcd79": {
          "model_module": "@jupyter-widgets/controls",
          "model_name": "SliderStyleModel",
          "model_module_version": "1.5.0",
          "state": {
            "_model_module": "@jupyter-widgets/controls",
            "_model_module_version": "1.5.0",
            "_model_name": "SliderStyleModel",
            "_view_count": null,
            "_view_module": "@jupyter-widgets/base",
            "_view_module_version": "1.2.0",
            "_view_name": "StyleView",
            "description_width": "",
            "handle_color": null
          }
        },
        "5ca788cd272841948df90315ab181cee": {
          "model_module": "@jupyter-widgets/base",
          "model_name": "LayoutModel",
          "model_module_version": "1.2.0",
          "state": {
            "_model_module": "@jupyter-widgets/base",
            "_model_module_version": "1.2.0",
            "_model_name": "LayoutModel",
            "_view_count": null,
            "_view_module": "@jupyter-widgets/base",
            "_view_module_version": "1.2.0",
            "_view_name": "LayoutView",
            "align_content": null,
            "align_items": null,
            "align_self": null,
            "border": null,
            "bottom": null,
            "display": null,
            "flex": null,
            "flex_flow": null,
            "grid_area": null,
            "grid_auto_columns": null,
            "grid_auto_flow": null,
            "grid_auto_rows": null,
            "grid_column": null,
            "grid_gap": null,
            "grid_row": null,
            "grid_template_areas": null,
            "grid_template_columns": null,
            "grid_template_rows": null,
            "height": null,
            "justify_content": null,
            "justify_items": null,
            "left": null,
            "margin": null,
            "max_height": null,
            "max_width": null,
            "min_height": null,
            "min_width": null,
            "object_fit": null,
            "object_position": null,
            "order": null,
            "overflow": null,
            "overflow_x": null,
            "overflow_y": null,
            "padding": null,
            "right": null,
            "top": null,
            "visibility": null,
            "width": null
          }
        },
        "989cc3204ef94b0da35258ca7c6617a9": {
          "model_module": "@jupyter-widgets/controls",
          "model_name": "VBoxModel",
          "model_module_version": "1.5.0",
          "state": {
            "_dom_classes": [
              "widget-interact"
            ],
            "_model_module": "@jupyter-widgets/controls",
            "_model_module_version": "1.5.0",
            "_model_name": "VBoxModel",
            "_view_count": null,
            "_view_module": "@jupyter-widgets/controls",
            "_view_module_version": "1.5.0",
            "_view_name": "VBoxView",
            "box_style": "",
            "children": [
              "IPY_MODEL_5bba35d9f1f544308ce13619add17d80",
              "IPY_MODEL_22ad2fb31a7f441a97015a1db535ed72"
            ],
            "layout": "IPY_MODEL_44bdfea5e92143e69f7b593b0aa7ce6d"
          }
        },
        "5bba35d9f1f544308ce13619add17d80": {
          "model_module": "@jupyter-widgets/controls",
          "model_name": "FloatSliderModel",
          "model_module_version": "1.5.0",
          "state": {
            "_dom_classes": [],
            "_model_module": "@jupyter-widgets/controls",
            "_model_module_version": "1.5.0",
            "_model_name": "FloatSliderModel",
            "_view_count": null,
            "_view_module": "@jupyter-widgets/controls",
            "_view_module_version": "1.5.0",
            "_view_name": "FloatSliderView",
            "continuous_update": true,
            "description": "p",
            "description_tooltip": null,
            "disabled": false,
            "layout": "IPY_MODEL_ba0329fcee934af5989a0bae719b5546",
            "max": 1,
            "min": 0.01,
            "orientation": "horizontal",
            "readout": true,
            "readout_format": ".2f",
            "step": 0.05,
            "style": "IPY_MODEL_4061fdb397564723aaf33f5afaf553ac",
            "value": 0.46
          }
        },
        "22ad2fb31a7f441a97015a1db535ed72": {
          "model_module": "@jupyter-widgets/output",
          "model_name": "OutputModel",
          "model_module_version": "1.0.0",
          "state": {
            "_dom_classes": [],
            "_model_module": "@jupyter-widgets/output",
            "_model_module_version": "1.0.0",
            "_model_name": "OutputModel",
            "_view_count": null,
            "_view_module": "@jupyter-widgets/output",
            "_view_module_version": "1.0.0",
            "_view_name": "OutputView",
            "layout": "IPY_MODEL_9f60c85f431840b2996835cab209e4b5",
            "msg_id": "",
            "outputs": [
              {
                "output_type": "display_data",
                "data": {
                  "text/plain": "<Figure size 1200x500 with 2 Axes>",
                  "image/png": "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\n"
                },
                "metadata": {}
              }
            ]
          }
        },
        "44bdfea5e92143e69f7b593b0aa7ce6d": {
          "model_module": "@jupyter-widgets/base",
          "model_name": "LayoutModel",
          "model_module_version": "1.2.0",
          "state": {
            "_model_module": "@jupyter-widgets/base",
            "_model_module_version": "1.2.0",
            "_model_name": "LayoutModel",
            "_view_count": null,
            "_view_module": "@jupyter-widgets/base",
            "_view_module_version": "1.2.0",
            "_view_name": "LayoutView",
            "align_content": null,
            "align_items": null,
            "align_self": null,
            "border": null,
            "bottom": null,
            "display": null,
            "flex": null,
            "flex_flow": null,
            "grid_area": null,
            "grid_auto_columns": null,
            "grid_auto_flow": null,
            "grid_auto_rows": null,
            "grid_column": null,
            "grid_gap": null,
            "grid_row": null,
            "grid_template_areas": null,
            "grid_template_columns": null,
            "grid_template_rows": null,
            "height": null,
            "justify_content": null,
            "justify_items": null,
            "left": null,
            "margin": null,
            "max_height": null,
            "max_width": null,
            "min_height": null,
            "min_width": null,
            "object_fit": null,
            "object_position": null,
            "order": null,
            "overflow": null,
            "overflow_x": null,
            "overflow_y": null,
            "padding": null,
            "right": null,
            "top": null,
            "visibility": null,
            "width": null
          }
        },
        "ba0329fcee934af5989a0bae719b5546": {
          "model_module": "@jupyter-widgets/base",
          "model_name": "LayoutModel",
          "model_module_version": "1.2.0",
          "state": {
            "_model_module": "@jupyter-widgets/base",
            "_model_module_version": "1.2.0",
            "_model_name": "LayoutModel",
            "_view_count": null,
            "_view_module": "@jupyter-widgets/base",
            "_view_module_version": "1.2.0",
            "_view_name": "LayoutView",
            "align_content": null,
            "align_items": null,
            "align_self": null,
            "border": null,
            "bottom": null,
            "display": null,
            "flex": null,
            "flex_flow": null,
            "grid_area": null,
            "grid_auto_columns": null,
            "grid_auto_flow": null,
            "grid_auto_rows": null,
            "grid_column": null,
            "grid_gap": null,
            "grid_row": null,
            "grid_template_areas": null,
            "grid_template_columns": null,
            "grid_template_rows": null,
            "height": null,
            "justify_content": null,
            "justify_items": null,
            "left": null,
            "margin": null,
            "max_height": null,
            "max_width": null,
            "min_height": null,
            "min_width": null,
            "object_fit": null,
            "object_position": null,
            "order": null,
            "overflow": null,
            "overflow_x": null,
            "overflow_y": null,
            "padding": null,
            "right": null,
            "top": null,
            "visibility": null,
            "width": null
          }
        },
        "4061fdb397564723aaf33f5afaf553ac": {
          "model_module": "@jupyter-widgets/controls",
          "model_name": "SliderStyleModel",
          "model_module_version": "1.5.0",
          "state": {
            "_model_module": "@jupyter-widgets/controls",
            "_model_module_version": "1.5.0",
            "_model_name": "SliderStyleModel",
            "_view_count": null,
            "_view_module": "@jupyter-widgets/base",
            "_view_module_version": "1.2.0",
            "_view_name": "StyleView",
            "description_width": "",
            "handle_color": null
          }
        },
        "9f60c85f431840b2996835cab209e4b5": {
          "model_module": "@jupyter-widgets/base",
          "model_name": "LayoutModel",
          "model_module_version": "1.2.0",
          "state": {
            "_model_module": "@jupyter-widgets/base",
            "_model_module_version": "1.2.0",
            "_model_name": "LayoutModel",
            "_view_count": null,
            "_view_module": "@jupyter-widgets/base",
            "_view_module_version": "1.2.0",
            "_view_name": "LayoutView",
            "align_content": null,
            "align_items": null,
            "align_self": null,
            "border": null,
            "bottom": null,
            "display": null,
            "flex": null,
            "flex_flow": null,
            "grid_area": null,
            "grid_auto_columns": null,
            "grid_auto_flow": null,
            "grid_auto_rows": null,
            "grid_column": null,
            "grid_gap": null,
            "grid_row": null,
            "grid_template_areas": null,
            "grid_template_columns": null,
            "grid_template_rows": null,
            "height": null,
            "justify_content": null,
            "justify_items": null,
            "left": null,
            "margin": null,
            "max_height": null,
            "max_width": null,
            "min_height": null,
            "min_width": null,
            "object_fit": null,
            "object_position": null,
            "order": null,
            "overflow": null,
            "overflow_x": null,
            "overflow_y": null,
            "padding": null,
            "right": null,
            "top": null,
            "visibility": null,
            "width": null
          }
        }
      }
    }
  },
  "cells": [
    {
      "cell_type": "markdown",
      "metadata": {
        "id": "view-in-github",
        "colab_type": "text"
      },
      "source": [
        "<a href=\"https://colab.research.google.com/github/mgfrantz/CTME-llm-lecture-resources/blob/main/labs/Getting_started_with_LLMs_solution.ipynb\" target=\"_parent\"><img src=\"https://colab.research.google.com/assets/colab-badge.svg\" alt=\"Open In Colab\"/></a>"
      ]
    },
    {
      "cell_type": "markdown",
      "source": [
        "# Getting started with LLMs"
      ],
      "metadata": {
        "id": "TqvGA4D4tx5g"
      }
    },
    {
      "cell_type": "markdown",
      "source": [
        "# Setup\n",
        "\n",
        "In this lab, we'll be using Gemini.\n",
        "First, let's make sure you have a Gemini API key.\n",
        "Navigate to [Google AI Studio](https://aistudio.google.com/) and create an API key.\n",
        "Don't worry, we are just using the free tier for this lab.\n",
        "\n",
        "**TODO: OpenAI account setup instructions**\n",
        "\n",
        "Once you've created your API key, please add it to the secrets tab to the left 👈 as shown below.\n",
        "Then, you can run this group of cells for setup.\n",
        "\n",
        "![image.png](data:image/png;base64,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)\n",
        "\n",
        "Most of the time, you will interact with LLMs via an API.\n",
        "OpenAI has an API standard that's been adopted by most other LLM providers.\n",
        "Today, we'll be using `litellm`, a package that wraps multiple LLM providers with a common interface, for low-level LLM work.\n",
        "We'll also be usign the `llama-index` framework to see when high-level frameworks can help us be a bit more productive or write less code."
      ],
      "metadata": {
        "id": "f6xP2mC_tpG1"
      }
    },
    {
      "cell_type": "code",
      "source": [
        "# Installs\n",
        "!pip install -qqqq --progress-bar off --no-cache \\\n",
        "    google-generativeai \\\n",
        "    llama-index-llms-gemini \\\n",
        "    llama-index \\\n",
        "    litellm \\\n",
        "    pydantic \\\n",
        "    gradio \\\n",
        "    fuzzywuzzy \\\n",
        "    python-levenshtein"
      ],
      "metadata": {
        "id": "O52hPjF-t_Ub"
      },
      "execution_count": 1,
      "outputs": []
    },
    {
      "cell_type": "code",
      "source": [
        "# Environment variables\n",
        "from google.colab import userdata\n",
        "import os\n",
        "os.environ['GEMINI_API_KEY'] = userdata.get('GEMINI_API_KEY')\n",
        "os.environ['GOOGLE_API_KEY'] = userdata.get('GEMINI_API_KEY')\n",
        "os.environ['OPENAI_API_KEY'] = userdata.get('OPENAI_API_KEY')"
      ],
      "metadata": {
        "id": "vz7goJmQtvL7"
      },
      "execution_count": 2,
      "outputs": []
    },
    {
      "cell_type": "code",
      "source": [
        "# Imports\n",
        "import asyncio\n",
        "import itertools\n",
        "import json\n",
        "import os\n",
        "import time\n",
        "from datetime import date, datetime, timedelta\n",
        "from typing import List, Optional, Union, Literal\n",
        "from itertools import combinations\n",
        "from tqdm.auto import tqdm\n",
        "import nest_asyncio\n",
        "nest_asyncio.apply()\n",
        "\n",
        "import gradio as gr\n",
        "import matplotlib.pyplot as plt\n",
        "import numpy as np\n",
        "import pandas as pd\n",
        "import seaborn as sns\n",
        "import yfinance as yf\n",
        "from fuzzywuzzy import fuzz\n",
        "from ipywidgets import interact\n",
        "from IPython.display import Markdown, display\n",
        "from llama_index.core.llms import ChatMessage\n",
        "from llama_index.llms.openai import OpenAI\n",
        "from llama_index.llms.gemini import Gemini\n",
        "from llama_index.core.tools import FunctionTool\n",
        "from llama_index.core.program import LLMTextCompletionProgram, FunctionCallingProgram\n",
        "import litellm\n",
        "from litellm import acompletion, completion, get_supported_openai_params\n",
        "from pydantic import BaseModel, Field\n",
        "from rich import print"
      ],
      "metadata": {
        "id": "UJy7NlluNzTT"
      },
      "execution_count": 18,
      "outputs": []
    },
    {
      "cell_type": "markdown",
      "source": [
        "# The basics\n",
        "\n",
        "Let's start with the basics - how to query an LLM.\n",
        "In the cell above 👆, we set the `GEMINI_API_KEY` that's expected by `litellm` and a `GOOGLE_API_KEY` that's expected by `llama-index` which we'll use later.\n",
        "In other cases, you may have an `OPENAI_API_KEY`, `ANTHROPIC_API_KEY`, or any other specific key for the provider you use.\n",
        "\n",
        "Today, we'll be using the LLM `gemini-1.5-flash`'s free tier to learn about how to query LLMs.\n",
        "\n",
        "In the cell below 👇, we import `completion` from `litellm`.\n",
        "This is the core function we'll be using to chat with models in this section."
      ],
      "metadata": {
        "id": "1gkcSOtYt6jv"
      }
    },
    {
      "cell_type": "markdown",
      "source": [
        "## Making requests\n",
        "\n",
        "This model happens to be trained for chat.\n",
        "Chat expects a `list` of messages.\n",
        "Each message is a dictionary with a `role` field specifying the type of message, and a `content` field specifying the content of the message.\n",
        "Three `role` values are supported:\n",
        "\n",
        "- `system`, for giving general instructions to the LLM for how to behave\n",
        "- `user`, for a user message, and\n",
        "- `assistant`, for the LLM's response.\n",
        "\n",
        "Let's give the LLM a simple prompt and see what it returns."
      ],
      "metadata": {
        "id": "L8UakE552zHd"
      }
    },
    {
      "cell_type": "code",
      "source": [
        "GEMINI_MODEL = 'gemini/gemini-1.5-flash-002'"
      ],
      "metadata": {
        "id": "NPFMR_3wUhj6"
      },
      "execution_count": 4,
      "outputs": []
    },
    {
      "cell_type": "code",
      "source": [
        "messages = [\n",
        "    {\"role\": \"system\", \"content\": \"You are a helpful assistant.\"},\n",
        "    {\"role\": \"user\", \"content\": \"Reverse the following string: 'abcde'. Let's think step by step:\"},\n",
        "]\n",
        "response = completion(model=GEMINI_MODEL, messages=messages)\n",
        "print(response)"
      ],
      "metadata": {
        "colab": {
          "base_uri": "https://localhost:8080/",
          "height": 578
        },
        "id": "EUJhBsmPue4y",
        "outputId": "a3dcbdc8-11fd-4b0e-f834-d9aa06cfc146"
      },
      "execution_count": 5,
      "outputs": [
        {
          "output_type": "display_data",
          "data": {
            "text/plain": [
              "\u001b[1;35mModelResponse\u001b[0m\u001b[1m(\u001b[0m\n",
              "    \u001b[33mid\u001b[0m=\u001b[32m'chatcmpl-c3ba56a4-c2d1-4065-9b1c-f22e41b770ae'\u001b[0m,\n",
              "    \u001b[33mchoices\u001b[0m=\u001b[1m[\u001b[0m\n",
              "        \u001b[1;35mChoices\u001b[0m\u001b[1m(\u001b[0m\n",
              "            \u001b[33mfinish_reason\u001b[0m=\u001b[32m'stop'\u001b[0m,\n",
              "            \u001b[33mindex\u001b[0m=\u001b[1;36m0\u001b[0m,\n",
              "            \u001b[33mmessage\u001b[0m=\u001b[1;35mMessage\u001b[0m\u001b[1m(\u001b[0m\n",
              "                \u001b[33mcontent\u001b[0m=\u001b[32m\"Step\u001b[0m\u001b[32m 1: Identify the string to be reversed: 'abcde'\\n\\nStep 2: Access the characters of \u001b[0m\n",
              "\u001b[32mthe string individually.  We can do this using indexing or iteration.\\n\\nStep 3:  Create a new string. We'll build \u001b[0m\n",
              "\u001b[32mthis new string by adding characters from the original string, but in reverse order.\\n\\nStep 4: Iterate through the\u001b[0m\n",
              "\u001b[32moriginal string from the last character to the first.\\n\\nStep 5: Append each character encountered in step 4 to the\u001b[0m\n",
              "\u001b[32mnew string.\\n\\nStep 6: Once the iteration is complete, the new string will contain the reversed version of the \u001b[0m\n",
              "\u001b[32moriginal string.\\n\\n\\nTherefore, the reversed string is 'edcba'.\\n\"\u001b[0m,\n",
              "                \u001b[33mrole\u001b[0m=\u001b[32m'assistant'\u001b[0m,\n",
              "                \u001b[33mtool_calls\u001b[0m=\u001b[3;35mNone\u001b[0m,\n",
              "                \u001b[33mfunction_call\u001b[0m=\u001b[3;35mNone\u001b[0m\n",
              "            \u001b[1m)\u001b[0m\n",
              "        \u001b[1m)\u001b[0m\n",
              "    \u001b[1m]\u001b[0m,\n",
              "    \u001b[33mcreated\u001b[0m=\u001b[1;36m1728361759\u001b[0m,\n",
              "    \u001b[33mmodel\u001b[0m=\u001b[32m'gemini-1.5-flash-002'\u001b[0m,\n",
              "    \u001b[33mobject\u001b[0m=\u001b[32m'chat.completion'\u001b[0m,\n",
              "    \u001b[33msystem_fingerprint\u001b[0m=\u001b[3;35mNone\u001b[0m,\n",
              "    \u001b[33musage\u001b[0m=\u001b[1;35mUsage\u001b[0m\u001b[1m(\u001b[0m\n",
              "        \u001b[33mcompletion_tokens\u001b[0m=\u001b[1;36m141\u001b[0m,\n",
              "        \u001b[33mprompt_tokens\u001b[0m=\u001b[1;36m24\u001b[0m,\n",
              "        \u001b[33mtotal_tokens\u001b[0m=\u001b[1;36m165\u001b[0m,\n",
              "        \u001b[33mcompletion_tokens_details\u001b[0m=\u001b[3;35mNone\u001b[0m,\n",
              "        \u001b[33mprompt_tokens_details\u001b[0m=\u001b[3;35mNone\u001b[0m\n",
              "    \u001b[1m)\u001b[0m,\n",
              "    \u001b[33mvertex_ai_grounding_metadata\u001b[0m=\u001b[1m[\u001b[0m\u001b[1m]\u001b[0m,\n",
              "    \u001b[33mvertex_ai_safety_results\u001b[0m=\u001b[1m[\u001b[0m\u001b[1m]\u001b[0m,\n",
              "    \u001b[33mvertex_ai_citation_metadata\u001b[0m=\u001b[1m[\u001b[0m\u001b[1m]\u001b[0m\n",
              "\u001b[1m)\u001b[0m\n"
            ],
            "text/html": [
              "<pre style=\"white-space:pre;overflow-x:auto;line-height:normal;font-family:Menlo,'DejaVu Sans Mono',consolas,'Courier New',monospace\"><span style=\"color: #800080; text-decoration-color: #800080; font-weight: bold\">ModelResponse</span><span style=\"font-weight: bold\">(</span>\n",
              "    <span style=\"color: #808000; text-decoration-color: #808000\">id</span>=<span style=\"color: #008000; text-decoration-color: #008000\">'chatcmpl-c3ba56a4-c2d1-4065-9b1c-f22e41b770ae'</span>,\n",
              "    <span style=\"color: #808000; text-decoration-color: #808000\">choices</span>=<span style=\"font-weight: bold\">[</span>\n",
              "        <span style=\"color: #800080; text-decoration-color: #800080; font-weight: bold\">Choices</span><span style=\"font-weight: bold\">(</span>\n",
              "            <span style=\"color: #808000; text-decoration-color: #808000\">finish_reason</span>=<span style=\"color: #008000; text-decoration-color: #008000\">'stop'</span>,\n",
              "            <span style=\"color: #808000; text-decoration-color: #808000\">index</span>=<span style=\"color: #008080; text-decoration-color: #008080; font-weight: bold\">0</span>,\n",
              "            <span style=\"color: #808000; text-decoration-color: #808000\">message</span>=<span style=\"color: #800080; text-decoration-color: #800080; font-weight: bold\">Message</span><span style=\"font-weight: bold\">(</span>\n",
              "                <span style=\"color: #808000; text-decoration-color: #808000\">content</span>=<span style=\"color: #008000; text-decoration-color: #008000\">\"Step 1: Identify the string to be reversed: 'abcde'\\n\\nStep 2: Access the characters of </span>\n",
              "<span style=\"color: #008000; text-decoration-color: #008000\">the string individually.  We can do this using indexing or iteration.\\n\\nStep 3:  Create a new string. We'll build </span>\n",
              "<span style=\"color: #008000; text-decoration-color: #008000\">this new string by adding characters from the original string, but in reverse order.\\n\\nStep 4: Iterate through the</span>\n",
              "<span style=\"color: #008000; text-decoration-color: #008000\">original string from the last character to the first.\\n\\nStep 5: Append each character encountered in step 4 to the</span>\n",
              "<span style=\"color: #008000; text-decoration-color: #008000\">new string.\\n\\nStep 6: Once the iteration is complete, the new string will contain the reversed version of the </span>\n",
              "<span style=\"color: #008000; text-decoration-color: #008000\">original string.\\n\\n\\nTherefore, the reversed string is 'edcba'.\\n\"</span>,\n",
              "                <span style=\"color: #808000; text-decoration-color: #808000\">role</span>=<span style=\"color: #008000; text-decoration-color: #008000\">'assistant'</span>,\n",
              "                <span style=\"color: #808000; text-decoration-color: #808000\">tool_calls</span>=<span style=\"color: #800080; text-decoration-color: #800080; font-style: italic\">None</span>,\n",
              "                <span style=\"color: #808000; text-decoration-color: #808000\">function_call</span>=<span style=\"color: #800080; text-decoration-color: #800080; font-style: italic\">None</span>\n",
              "            <span style=\"font-weight: bold\">)</span>\n",
              "        <span style=\"font-weight: bold\">)</span>\n",
              "    <span style=\"font-weight: bold\">]</span>,\n",
              "    <span style=\"color: #808000; text-decoration-color: #808000\">created</span>=<span style=\"color: #008080; text-decoration-color: #008080; font-weight: bold\">1728361759</span>,\n",
              "    <span style=\"color: #808000; text-decoration-color: #808000\">model</span>=<span style=\"color: #008000; text-decoration-color: #008000\">'gemini-1.5-flash-002'</span>,\n",
              "    <span style=\"color: #808000; text-decoration-color: #808000\">object</span>=<span style=\"color: #008000; text-decoration-color: #008000\">'chat.completion'</span>,\n",
              "    <span style=\"color: #808000; text-decoration-color: #808000\">system_fingerprint</span>=<span style=\"color: #800080; text-decoration-color: #800080; font-style: italic\">None</span>,\n",
              "    <span style=\"color: #808000; text-decoration-color: #808000\">usage</span>=<span style=\"color: #800080; text-decoration-color: #800080; font-weight: bold\">Usage</span><span style=\"font-weight: bold\">(</span>\n",
              "        <span style=\"color: #808000; text-decoration-color: #808000\">completion_tokens</span>=<span style=\"color: #008080; text-decoration-color: #008080; font-weight: bold\">141</span>,\n",
              "        <span style=\"color: #808000; text-decoration-color: #808000\">prompt_tokens</span>=<span style=\"color: #008080; text-decoration-color: #008080; font-weight: bold\">24</span>,\n",
              "        <span style=\"color: #808000; text-decoration-color: #808000\">total_tokens</span>=<span style=\"color: #008080; text-decoration-color: #008080; font-weight: bold\">165</span>,\n",
              "        <span style=\"color: #808000; text-decoration-color: #808000\">completion_tokens_details</span>=<span style=\"color: #800080; text-decoration-color: #800080; font-style: italic\">None</span>,\n",
              "        <span style=\"color: #808000; text-decoration-color: #808000\">prompt_tokens_details</span>=<span style=\"color: #800080; text-decoration-color: #800080; font-style: italic\">None</span>\n",
              "    <span style=\"font-weight: bold\">)</span>,\n",
              "    <span style=\"color: #808000; text-decoration-color: #808000\">vertex_ai_grounding_metadata</span>=<span style=\"font-weight: bold\">[]</span>,\n",
              "    <span style=\"color: #808000; text-decoration-color: #808000\">vertex_ai_safety_results</span>=<span style=\"font-weight: bold\">[]</span>,\n",
              "    <span style=\"color: #808000; text-decoration-color: #808000\">vertex_ai_citation_metadata</span>=<span style=\"font-weight: bold\">[]</span>\n",
              "<span style=\"font-weight: bold\">)</span>\n",
              "</pre>\n"
            ]
          },
          "metadata": {}
        }
      ]
    },
    {
      "cell_type": "markdown",
      "source": [
        "The response actually has a lot of useful information.\n",
        "It has the model, a timestamp, other identifiers, and model-specific metadata like safety ratings in several different capacities.\n",
        "But the real content is in the `choices` field.\n",
        "Currently, the `choices` field only has one element containing the message returned by the LLM.\n",
        "Let's access the LLM's response:"
      ],
      "metadata": {
        "id": "qEnTwuRy34vR"
      }
    },
    {
      "cell_type": "code",
      "source": [
        "print(response.choices[0].message.content)"
      ],
      "metadata": {
        "colab": {
          "base_uri": "https://localhost:8080/",
          "height": 281
        },
        "id": "7FIjwRtfufe9",
        "outputId": "5811f626-097e-4479-b3b8-db07f06ccda8"
      },
      "execution_count": 6,
      "outputs": [
        {
          "output_type": "display_data",
          "data": {
            "text/plain": [
              "Step \u001b[1;36m1\u001b[0m: Identify the string to be reversed: \u001b[32m'abcde'\u001b[0m\n",
              "\n",
              "Step \u001b[1;36m2\u001b[0m: Access the characters of the string individually.  We can do this using indexing or iteration.\n",
              "\n",
              "Step \u001b[1;36m3\u001b[0m:  Create a new string. We'll build this new string by adding characters from the original string, but in \n",
              "reverse order.\n",
              "\n",
              "Step \u001b[1;36m4\u001b[0m: Iterate through the original string from the last character to the first.\n",
              "\n",
              "Step \u001b[1;36m5\u001b[0m: Append each character encountered in step \u001b[1;36m4\u001b[0m to the new string.\n",
              "\n",
              "Step \u001b[1;36m6\u001b[0m: Once the iteration is complete, the new string will contain the reversed version of the original string.\n",
              "\n",
              "\n",
              "Therefore, the reversed string is \u001b[32m'edcba'\u001b[0m.\n",
              "\n"
            ],
            "text/html": [
              "<pre style=\"white-space:pre;overflow-x:auto;line-height:normal;font-family:Menlo,'DejaVu Sans Mono',consolas,'Courier New',monospace\">Step <span style=\"color: #008080; text-decoration-color: #008080; font-weight: bold\">1</span>: Identify the string to be reversed: <span style=\"color: #008000; text-decoration-color: #008000\">'abcde'</span>\n",
              "\n",
              "Step <span style=\"color: #008080; text-decoration-color: #008080; font-weight: bold\">2</span>: Access the characters of the string individually.  We can do this using indexing or iteration.\n",
              "\n",
              "Step <span style=\"color: #008080; text-decoration-color: #008080; font-weight: bold\">3</span>:  Create a new string. We'll build this new string by adding characters from the original string, but in \n",
              "reverse order.\n",
              "\n",
              "Step <span style=\"color: #008080; text-decoration-color: #008080; font-weight: bold\">4</span>: Iterate through the original string from the last character to the first.\n",
              "\n",
              "Step <span style=\"color: #008080; text-decoration-color: #008080; font-weight: bold\">5</span>: Append each character encountered in step <span style=\"color: #008080; text-decoration-color: #008080; font-weight: bold\">4</span> to the new string.\n",
              "\n",
              "Step <span style=\"color: #008080; text-decoration-color: #008080; font-weight: bold\">6</span>: Once the iteration is complete, the new string will contain the reversed version of the original string.\n",
              "\n",
              "\n",
              "Therefore, the reversed string is <span style=\"color: #008000; text-decoration-color: #008000\">'edcba'</span>.\n",
              "\n",
              "</pre>\n"
            ]
          },
          "metadata": {}
        }
      ]
    },
    {
      "cell_type": "markdown",
      "source": [
        "## Extending the chat history\n",
        "\n",
        "In a chat setting, we also want to persist the response so we can continue the chat.\n",
        "we can add it to the `messages` so we can ask a new question in the same dialog, assuming we want to create a message history."
      ],
      "metadata": {
        "id": "st4sP6TQ4drQ"
      }
    },
    {
      "cell_type": "code",
      "source": [
        "assistant_message = response.choices[0].message.dict()\n",
        "messages.append(assistant_message)\n",
        "print(assistant_message)"
      ],
      "metadata": {
        "colab": {
          "base_uri": "https://localhost:8080/",
          "height": 199
        },
        "id": "uaxmhLLA3Tyk",
        "outputId": "72c73e4b-15d6-4efc-d37b-f0cbb114f985"
      },
      "execution_count": 7,
      "outputs": [
        {
          "output_type": "display_data",
          "data": {
            "text/plain": [
              "\u001b[1m{\u001b[0m\n",
              "    \u001b[32m'content'\u001b[0m: \u001b[32m\"Step 1: Identify the string to be reversed: 'abcde'\\n\\nStep 2: Access the characters of the string \u001b[0m\n",
              "\u001b[32mindividually.  We can do this using indexing or iteration.\\n\\nStep 3:  Create a new string. We'll build this new \u001b[0m\n",
              "\u001b[32mstring by adding characters from the original string, but in reverse order.\\n\\nStep 4: Iterate through the original\u001b[0m\n",
              "\u001b[32mstring from the last character to the first.\\n\\nStep 5: Append each character encountered in step 4 to the new \u001b[0m\n",
              "\u001b[32mstring.\\n\\nStep 6: Once the iteration is complete, the new string will contain the reversed version of the original\u001b[0m\n",
              "\u001b[32mstring.\\n\\n\\nTherefore, the reversed string is 'edcba'.\\n\"\u001b[0m,\n",
              "    \u001b[32m'role'\u001b[0m: \u001b[32m'assistant'\u001b[0m,\n",
              "    \u001b[32m'tool_calls'\u001b[0m: \u001b[3;35mNone\u001b[0m,\n",
              "    \u001b[32m'function_call'\u001b[0m: \u001b[3;35mNone\u001b[0m\n",
              "\u001b[1m}\u001b[0m\n"
            ],
            "text/html": [
              "<pre style=\"white-space:pre;overflow-x:auto;line-height:normal;font-family:Menlo,'DejaVu Sans Mono',consolas,'Courier New',monospace\"><span style=\"font-weight: bold\">{</span>\n",
              "    <span style=\"color: #008000; text-decoration-color: #008000\">'content'</span>: <span style=\"color: #008000; text-decoration-color: #008000\">\"Step 1: Identify the string to be reversed: 'abcde'\\n\\nStep 2: Access the characters of the string </span>\n",
              "<span style=\"color: #008000; text-decoration-color: #008000\">individually.  We can do this using indexing or iteration.\\n\\nStep 3:  Create a new string. We'll build this new </span>\n",
              "<span style=\"color: #008000; text-decoration-color: #008000\">string by adding characters from the original string, but in reverse order.\\n\\nStep 4: Iterate through the original</span>\n",
              "<span style=\"color: #008000; text-decoration-color: #008000\">string from the last character to the first.\\n\\nStep 5: Append each character encountered in step 4 to the new </span>\n",
              "<span style=\"color: #008000; text-decoration-color: #008000\">string.\\n\\nStep 6: Once the iteration is complete, the new string will contain the reversed version of the original</span>\n",
              "<span style=\"color: #008000; text-decoration-color: #008000\">string.\\n\\n\\nTherefore, the reversed string is 'edcba'.\\n\"</span>,\n",
              "    <span style=\"color: #008000; text-decoration-color: #008000\">'role'</span>: <span style=\"color: #008000; text-decoration-color: #008000\">'assistant'</span>,\n",
              "    <span style=\"color: #008000; text-decoration-color: #008000\">'tool_calls'</span>: <span style=\"color: #800080; text-decoration-color: #800080; font-style: italic\">None</span>,\n",
              "    <span style=\"color: #008000; text-decoration-color: #008000\">'function_call'</span>: <span style=\"color: #800080; text-decoration-color: #800080; font-style: italic\">None</span>\n",
              "<span style=\"font-weight: bold\">}</span>\n",
              "</pre>\n"
            ]
          },
          "metadata": {}
        }
      ]
    },
    {
      "cell_type": "markdown",
      "source": [
        "Since the whole history of messages is in-context and passed to the LLM, it can perform logical extensions of the original task as seen here:"
      ],
      "metadata": {
        "id": "9asE8Hwo4_iE"
      }
    },
    {
      "cell_type": "code",
      "source": [
        "new_message = {'role': 'user', 'content': \"Now reverse it back to the same order.\"}\n",
        "messages.append(new_message)\n",
        "\n",
        "response = completion(model=GEMINI_MODEL, messages=messages)\n",
        "print(response.choices[0].message.content)"
      ],
      "metadata": {
        "colab": {
          "base_uri": "https://localhost:8080/",
          "height": 248
        },
        "id": "kC-BgGWY4yqm",
        "outputId": "a5a9963f-2ab7-42a1-cea4-37eafd3caff9"
      },
      "execution_count": 8,
      "outputs": [
        {
          "output_type": "display_data",
          "data": {
            "text/plain": [
              "We simply repeat the process, but starting with \u001b[32m'edcba'\u001b[0m.\n",
              "\n",
              "Step \u001b[1;36m1\u001b[0m: Identify the string to be reversed: \u001b[32m'edcba'\u001b[0m\n",
              "\n",
              "Step \u001b[1;36m2\u001b[0m: Access the characters of the string individually.\n",
              "\n",
              "Step \u001b[1;36m3\u001b[0m: Create a new string.\n",
              "\n",
              "Step \u001b[1;36m4\u001b[0m: Iterate through the original string from the last character to the first.\n",
              "\n",
              "Step \u001b[1;36m5\u001b[0m: Append each character encountered to the new string.\n",
              "\n",
              "Step \u001b[1;36m6\u001b[0m: The new string will be \u001b[32m'abcde'\u001b[0m.\n",
              "\n"
            ],
            "text/html": [
              "<pre style=\"white-space:pre;overflow-x:auto;line-height:normal;font-family:Menlo,'DejaVu Sans Mono',consolas,'Courier New',monospace\">We simply repeat the process, but starting with <span style=\"color: #008000; text-decoration-color: #008000\">'edcba'</span>.\n",
              "\n",
              "Step <span style=\"color: #008080; text-decoration-color: #008080; font-weight: bold\">1</span>: Identify the string to be reversed: <span style=\"color: #008000; text-decoration-color: #008000\">'edcba'</span>\n",
              "\n",
              "Step <span style=\"color: #008080; text-decoration-color: #008080; font-weight: bold\">2</span>: Access the characters of the string individually.\n",
              "\n",
              "Step <span style=\"color: #008080; text-decoration-color: #008080; font-weight: bold\">3</span>: Create a new string.\n",
              "\n",
              "Step <span style=\"color: #008080; text-decoration-color: #008080; font-weight: bold\">4</span>: Iterate through the original string from the last character to the first.\n",
              "\n",
              "Step <span style=\"color: #008080; text-decoration-color: #008080; font-weight: bold\">5</span>: Append each character encountered to the new string.\n",
              "\n",
              "Step <span style=\"color: #008080; text-decoration-color: #008080; font-weight: bold\">6</span>: The new string will be <span style=\"color: #008000; text-decoration-color: #008000\">'abcde'</span>.\n",
              "\n",
              "</pre>\n"
            ]
          },
          "metadata": {}
        }
      ]
    },
    {
      "cell_type": "markdown",
      "source": [
        "## Streaming responses\n",
        "\n",
        "Another popular feature is streaming.\n",
        "Since we're generating 1 token at a time, the API can also return text as it's generated.\n",
        "This can be extra useful when you have long responses, and is nice in a user interface."
      ],
      "metadata": {
        "id": "FBbGkOByWfu1"
      }
    },
    {
      "cell_type": "code",
      "source": [
        "# streaming\n",
        "response = completion(model=GEMINI_MODEL, messages=messages, stream=True)\n",
        "for chunk in response:\n",
        "    print(chunk.choices[0].delta.content, end='')"
      ],
      "metadata": {
        "colab": {
          "base_uri": "https://localhost:8080/",
          "height": 347
        },
        "id": "C_UubCeUWGec",
        "outputId": "6cc298d2-d00d-4175-c450-518529e05680"
      },
      "execution_count": 9,
      "outputs": [
        {
          "output_type": "display_data",
          "data": {
            "text/plain": [
              "We"
            ],
            "text/html": [
              "<pre style=\"white-space:pre;overflow-x:auto;line-height:normal;font-family:Menlo,'DejaVu Sans Mono',consolas,'Courier New',monospace\">We</pre>\n"
            ]
          },
          "metadata": {}
        },
        {
          "output_type": "display_data",
          "data": {
            "text/plain": [
              " can use the same method as before, but this time starting with the string '"
            ],
            "text/html": [
              "<pre style=\"white-space:pre;overflow-x:auto;line-height:normal;font-family:Menlo,'DejaVu Sans Mono',consolas,'Courier New',monospace\"> can use the same method as before, but this time starting with the string '</pre>\n"
            ]
          },
          "metadata": {}
        },
        {
          "output_type": "display_data",
          "data": {
            "text/plain": [
              "edcba'.\n",
              "\n",
              "Step \u001b[1;36m1\u001b[0m: Identify the string to be reversed: '"
            ],
            "text/html": [
              "<pre style=\"white-space:pre;overflow-x:auto;line-height:normal;font-family:Menlo,'DejaVu Sans Mono',consolas,'Courier New',monospace\">edcba'.\n",
              "\n",
              "Step <span style=\"color: #008080; text-decoration-color: #008080; font-weight: bold\">1</span>: Identify the string to be reversed: '</pre>\n"
            ]
          },
          "metadata": {}
        },
        {
          "output_type": "display_data",
          "data": {
            "text/plain": [
              "edcba'\n",
              "\n",
              "Step \u001b[1;36m2\u001b[0m: Access the characters of the string individually.\n",
              "\n",
              "Step \u001b[1;36m3\u001b[0m: Create a new string.\n",
              "\n",
              "Step \u001b[1;36m4\u001b[0m: Iterate"
            ],
            "text/html": [
              "<pre style=\"white-space:pre;overflow-x:auto;line-height:normal;font-family:Menlo,'DejaVu Sans Mono',consolas,'Courier New',monospace\">edcba'\n",
              "\n",
              "Step <span style=\"color: #008080; text-decoration-color: #008080; font-weight: bold\">2</span>: Access the characters of the string individually.\n",
              "\n",
              "Step <span style=\"color: #008080; text-decoration-color: #008080; font-weight: bold\">3</span>: Create a new string.\n",
              "\n",
              "Step <span style=\"color: #008080; text-decoration-color: #008080; font-weight: bold\">4</span>: Iterate</pre>\n"
            ]
          },
          "metadata": {}
        },
        {
          "output_type": "display_data",
          "data": {
            "text/plain": [
              " through the original string from the last character to the first.\n",
              "\n",
              "Step \u001b[1;36m5\u001b[0m: Append each character encountered in step \u001b[1;36m4\u001b[0m to the new string.\n",
              "\n",
              "Step"
            ],
            "text/html": [
              "<pre style=\"white-space:pre;overflow-x:auto;line-height:normal;font-family:Menlo,'DejaVu Sans Mono',consolas,'Courier New',monospace\"> through the original string from the last character to the first.\n",
              "\n",
              "Step <span style=\"color: #008080; text-decoration-color: #008080; font-weight: bold\">5</span>: Append each character encountered in step <span style=\"color: #008080; text-decoration-color: #008080; font-weight: bold\">4</span> to the new string.\n",
              "\n",
              "Step</pre>\n"
            ]
          },
          "metadata": {}
        },
        {
          "output_type": "display_data",
          "data": {
            "text/plain": [
              " \u001b[1;36m6\u001b[0m: Once the iteration is complete, the new string will contain the reversed version of the original string, which \n",
              "is \u001b[32m'abcde'\u001b[0m.\n"
            ],
            "text/html": [
              "<pre style=\"white-space:pre;overflow-x:auto;line-height:normal;font-family:Menlo,'DejaVu Sans Mono',consolas,'Courier New',monospace\"> <span style=\"color: #008080; text-decoration-color: #008080; font-weight: bold\">6</span>: Once the iteration is complete, the new string will contain the reversed version of the original string, which \n",
              "is <span style=\"color: #008000; text-decoration-color: #008000\">'abcde'</span>.\n",
              "</pre>\n"
            ]
          },
          "metadata": {}
        },
        {
          "output_type": "display_data",
          "data": {
            "text/plain": [
              "\u001b[3;35mNone\u001b[0m"
            ],
            "text/html": [
              "<pre style=\"white-space:pre;overflow-x:auto;line-height:normal;font-family:Menlo,'DejaVu Sans Mono',consolas,'Courier New',monospace\"><span style=\"color: #800080; text-decoration-color: #800080; font-style: italic\">None</span></pre>\n"
            ]
          },
          "metadata": {}
        }
      ]
    },
    {
      "cell_type": "markdown",
      "source": [
        "## Async responses\n",
        "\n",
        "When we make API calls to these models, the time it takes to make a request is relatively short but the inference time can be long.\n",
        "Calling these APIs asynchronously lets us do other things while we're waiting for a response.\n",
        "Without async, we are waiting for the first API call to be complete to begin making the second call.\n",
        "Using async, we can make all the calls and `await` responses as they come in.\n",
        "\n",
        "Here's an example of an async request 👇"
      ],
      "metadata": {
        "id": "J57Bv03WW7MU"
      }
    },
    {
      "cell_type": "code",
      "source": [
        "# async\n",
        "response = await acompletion(model=GEMINI_MODEL, messages=messages)\n",
        "print(response.choices[0].message.content)"
      ],
      "metadata": {
        "colab": {
          "base_uri": "https://localhost:8080/",
          "height": 248
        },
        "id": "fv2crtB6W2wS",
        "outputId": "7090e6dc-3ba7-4d5c-8eac-d882bb7d4929"
      },
      "execution_count": 10,
      "outputs": [
        {
          "output_type": "display_data",
          "data": {
            "text/plain": [
              "We can use the same method, but starting with \u001b[32m'edcba'\u001b[0m.  Following the steps above:\n",
              "\n",
              "Step \u001b[1;36m1\u001b[0m: Identify the string to be reversed: \u001b[32m'edcba'\u001b[0m\n",
              "\n",
              "Step \u001b[1;36m2\u001b[0m: Access the characters of the string individually.\n",
              "\n",
              "Step \u001b[1;36m3\u001b[0m: Create a new empty string.\n",
              "\n",
              "Step \u001b[1;36m4\u001b[0m: Iterate through the original string from the last character to the first.\n",
              "\n",
              "Step \u001b[1;36m5\u001b[0m: Append each character encountered to the new string.\n",
              "\n",
              "Step \u001b[1;36m6\u001b[0m: The new string will be \u001b[32m'abcde'\u001b[0m.\n",
              "\n"
            ],
            "text/html": [
              "<pre style=\"white-space:pre;overflow-x:auto;line-height:normal;font-family:Menlo,'DejaVu Sans Mono',consolas,'Courier New',monospace\">We can use the same method, but starting with <span style=\"color: #008000; text-decoration-color: #008000\">'edcba'</span>.  Following the steps above:\n",
              "\n",
              "Step <span style=\"color: #008080; text-decoration-color: #008080; font-weight: bold\">1</span>: Identify the string to be reversed: <span style=\"color: #008000; text-decoration-color: #008000\">'edcba'</span>\n",
              "\n",
              "Step <span style=\"color: #008080; text-decoration-color: #008080; font-weight: bold\">2</span>: Access the characters of the string individually.\n",
              "\n",
              "Step <span style=\"color: #008080; text-decoration-color: #008080; font-weight: bold\">3</span>: Create a new empty string.\n",
              "\n",
              "Step <span style=\"color: #008080; text-decoration-color: #008080; font-weight: bold\">4</span>: Iterate through the original string from the last character to the first.\n",
              "\n",
              "Step <span style=\"color: #008080; text-decoration-color: #008080; font-weight: bold\">5</span>: Append each character encountered to the new string.\n",
              "\n",
              "Step <span style=\"color: #008080; text-decoration-color: #008080; font-weight: bold\">6</span>: The new string will be <span style=\"color: #008000; text-decoration-color: #008000\">'abcde'</span>.\n",
              "\n",
              "</pre>\n"
            ]
          },
          "metadata": {}
        }
      ]
    },
    {
      "cell_type": "markdown",
      "source": [
        "Now, let's demonstrate that we can make multiple simultaneous requests with async than we can with blocking requests."
      ],
      "metadata": {
        "id": "iXRB_rGFYkkO"
      }
    },
    {
      "cell_type": "code",
      "source": [
        "# With blocking requests\n",
        "start = time.time()\n",
        "for i in range(5):\n",
        "    print(f\"Making request {i}\")\n",
        "    response = completion(model=GEMINI_MODEL, messages=messages)\n",
        "total_seconds = time.time() - start\n",
        "print(f'Total time: {total_seconds} seconds')"
      ],
      "metadata": {
        "colab": {
          "base_uri": "https://localhost:8080/",
          "height": 116
        },
        "id": "5PYZ1bLnYw3m",
        "outputId": "76fa99e8-a9c5-4650-efba-db329c445b80"
      },
      "execution_count": 11,
      "outputs": [
        {
          "output_type": "display_data",
          "data": {
            "text/plain": [
              "Making request \u001b[1;36m0\u001b[0m\n"
            ],
            "text/html": [
              "<pre style=\"white-space:pre;overflow-x:auto;line-height:normal;font-family:Menlo,'DejaVu Sans Mono',consolas,'Courier New',monospace\">Making request <span style=\"color: #008080; text-decoration-color: #008080; font-weight: bold\">0</span>\n",
              "</pre>\n"
            ]
          },
          "metadata": {}
        },
        {
          "output_type": "display_data",
          "data": {
            "text/plain": [
              "Making request \u001b[1;36m1\u001b[0m\n"
            ],
            "text/html": [
              "<pre style=\"white-space:pre;overflow-x:auto;line-height:normal;font-family:Menlo,'DejaVu Sans Mono',consolas,'Courier New',monospace\">Making request <span style=\"color: #008080; text-decoration-color: #008080; font-weight: bold\">1</span>\n",
              "</pre>\n"
            ]
          },
          "metadata": {}
        },
        {
          "output_type": "display_data",
          "data": {
            "text/plain": [
              "Making request \u001b[1;36m2\u001b[0m\n"
            ],
            "text/html": [
              "<pre style=\"white-space:pre;overflow-x:auto;line-height:normal;font-family:Menlo,'DejaVu Sans Mono',consolas,'Courier New',monospace\">Making request <span style=\"color: #008080; text-decoration-color: #008080; font-weight: bold\">2</span>\n",
              "</pre>\n"
            ]
          },
          "metadata": {}
        },
        {
          "output_type": "display_data",
          "data": {
            "text/plain": [
              "Making request \u001b[1;36m3\u001b[0m\n"
            ],
            "text/html": [
              "<pre style=\"white-space:pre;overflow-x:auto;line-height:normal;font-family:Menlo,'DejaVu Sans Mono',consolas,'Courier New',monospace\">Making request <span style=\"color: #008080; text-decoration-color: #008080; font-weight: bold\">3</span>\n",
              "</pre>\n"
            ]
          },
          "metadata": {}
        },
        {
          "output_type": "display_data",
          "data": {
            "text/plain": [
              "Making request \u001b[1;36m4\u001b[0m\n"
            ],
            "text/html": [
              "<pre style=\"white-space:pre;overflow-x:auto;line-height:normal;font-family:Menlo,'DejaVu Sans Mono',consolas,'Courier New',monospace\">Making request <span style=\"color: #008080; text-decoration-color: #008080; font-weight: bold\">4</span>\n",
              "</pre>\n"
            ]
          },
          "metadata": {}
        },
        {
          "output_type": "display_data",
          "data": {
            "text/plain": [
              "Total time: \u001b[1;36m5.664010286331177\u001b[0m seconds\n"
            ],
            "text/html": [
              "<pre style=\"white-space:pre;overflow-x:auto;line-height:normal;font-family:Menlo,'DejaVu Sans Mono',consolas,'Courier New',monospace\">Total time: <span style=\"color: #008080; text-decoration-color: #008080; font-weight: bold\">5.664010286331177</span> seconds\n",
              "</pre>\n"
            ]
          },
          "metadata": {}
        }
      ]
    },
    {
      "cell_type": "code",
      "source": [
        "async def _acomplete(model, messages, i):\n",
        "    print(f\"Making request {i}\")\n",
        "    response = await acompletion(model=model, messages=messages)\n",
        "    return response.choices[0].message.content\n",
        "\n",
        "start = time.time()\n",
        "tasks = [_acomplete(GEMINI_MODEL, messages, i) for i in range(5)]\n",
        "responses = await asyncio.gather(*tasks)\n",
        "total_seconds = time.time() - start\n",
        "print(f'Total time: {total_seconds} seconds')"
      ],
      "metadata": {
        "colab": {
          "base_uri": "https://localhost:8080/",
          "height": 116
        },
        "id": "iL5btG25Y5h6",
        "outputId": "731649fc-d904-4ada-a4d5-6adf42821a22"
      },
      "execution_count": 12,
      "outputs": [
        {
          "output_type": "display_data",
          "data": {
            "text/plain": [
              "Making request \u001b[1;36m0\u001b[0m\n"
            ],
            "text/html": [
              "<pre style=\"white-space:pre;overflow-x:auto;line-height:normal;font-family:Menlo,'DejaVu Sans Mono',consolas,'Courier New',monospace\">Making request <span style=\"color: #008080; text-decoration-color: #008080; font-weight: bold\">0</span>\n",
              "</pre>\n"
            ]
          },
          "metadata": {}
        },
        {
          "output_type": "display_data",
          "data": {
            "text/plain": [
              "Making request \u001b[1;36m1\u001b[0m\n"
            ],
            "text/html": [
              "<pre style=\"white-space:pre;overflow-x:auto;line-height:normal;font-family:Menlo,'DejaVu Sans Mono',consolas,'Courier New',monospace\">Making request <span style=\"color: #008080; text-decoration-color: #008080; font-weight: bold\">1</span>\n",
              "</pre>\n"
            ]
          },
          "metadata": {}
        },
        {
          "output_type": "display_data",
          "data": {
            "text/plain": [
              "Making request \u001b[1;36m2\u001b[0m\n"
            ],
            "text/html": [
              "<pre style=\"white-space:pre;overflow-x:auto;line-height:normal;font-family:Menlo,'DejaVu Sans Mono',consolas,'Courier New',monospace\">Making request <span style=\"color: #008080; text-decoration-color: #008080; font-weight: bold\">2</span>\n",
              "</pre>\n"
            ]
          },
          "metadata": {}
        },
        {
          "output_type": "display_data",
          "data": {
            "text/plain": [
              "Making request \u001b[1;36m3\u001b[0m\n"
            ],
            "text/html": [
              "<pre style=\"white-space:pre;overflow-x:auto;line-height:normal;font-family:Menlo,'DejaVu Sans Mono',consolas,'Courier New',monospace\">Making request <span style=\"color: #008080; text-decoration-color: #008080; font-weight: bold\">3</span>\n",
              "</pre>\n"
            ]
          },
          "metadata": {}
        },
        {
          "output_type": "display_data",
          "data": {
            "text/plain": [
              "Making request \u001b[1;36m4\u001b[0m\n"
            ],
            "text/html": [
              "<pre style=\"white-space:pre;overflow-x:auto;line-height:normal;font-family:Menlo,'DejaVu Sans Mono',consolas,'Courier New',monospace\">Making request <span style=\"color: #008080; text-decoration-color: #008080; font-weight: bold\">4</span>\n",
              "</pre>\n"
            ]
          },
          "metadata": {}
        },
        {
          "output_type": "display_data",
          "data": {
            "text/plain": [
              "Total time: \u001b[1;36m1.396268367767334\u001b[0m seconds\n"
            ],
            "text/html": [
              "<pre style=\"white-space:pre;overflow-x:auto;line-height:normal;font-family:Menlo,'DejaVu Sans Mono',consolas,'Courier New',monospace\">Total time: <span style=\"color: #008080; text-decoration-color: #008080; font-weight: bold\">1.396268367767334</span> seconds\n",
              "</pre>\n"
            ]
          },
          "metadata": {}
        }
      ]
    },
    {
      "cell_type": "markdown",
      "source": [
        "##  Exercise 1: Simple chatbot\n",
        "\n",
        "So far, we've gone over how to make basic API calls using a Python SDK.\n",
        "Let's put what we've learned to use and make a basic chatbot using the popular `gradio` library.\n",
        "All we have to do is define a function for that handles a user message and extends the chat history.\n",
        "The history is a list of lists, where each sublist is a `[user message, ai message]`.\n",
        "Documentation on `gradio.ChatInterface` can be found [here](https://www.gradio.app/guides/creating-a-chatbot-fast).\n",
        "\n",
        "Please fill in the following functions to help transform the messages list into the expected format for the chat model, and then fill in the chat function that returns the message content.\n",
        "\n",
        "**Bonus**: figure out how to add a system prompt and make the"
      ],
      "metadata": {
        "id": "S2tqIr-S5Tm4"
      }
    },
    {
      "cell_type": "code",
      "source": [
        "system_prompt = \"You are a helpful assistant that always answers in pirate speak.\"\n",
        "\n",
        "def history_to_messages(history:List[List[str]], system_prompt:str=system_prompt) -> List[List[str]]:\n",
        "    messages = []\n",
        "    for message, response in history:\n",
        "        messages.append({'role': 'user', 'content': message})\n",
        "        messages.append({'role': 'assistant', 'content': response})\n",
        "    if system_prompt is not None:\n",
        "        messages.insert(0, {'role': 'system', 'content': system_prompt})\n",
        "    return messages\n",
        "\n",
        "def chat(message:str, history:List[List[str]]) -> str:\n",
        "    messages = history_to_messages(history)\n",
        "    messages.append({'role': 'user', 'content': message})\n",
        "    response = completion(model=GEMINI_MODEL, messages=messages, stream=True)\n",
        "    to_return = \"\"\n",
        "    for chunk in response:\n",
        "        if chunk.choices[0].delta.content is not None:\n",
        "            to_return += chunk.choices[0].delta.content\n",
        "            yield to_return\n",
        "\n",
        "gr.ChatInterface(chat).launch()"
      ],
      "metadata": {
        "colab": {
          "base_uri": "https://localhost:8080/",
          "height": 648
        },
        "id": "11orerYm5tbH",
        "outputId": "1141937c-3a9d-4df6-aaab-e28469873258"
      },
      "execution_count": 13,
      "outputs": [
        {
          "output_type": "stream",
          "name": "stdout",
          "text": [
            "Setting queue=True in a Colab notebook requires sharing enabled. Setting `share=True` (you can turn this off by setting `share=False` in `launch()` explicitly).\n",
            "\n",
            "Colab notebook detected. To show errors in colab notebook, set debug=True in launch()\n",
            "Running on public URL: https://c602273696876a40d4.gradio.live\n",
            "\n",
            "This share link expires in 72 hours. For free permanent hosting and GPU upgrades, run `gradio deploy` from Terminal to deploy to Spaces (https://huggingface.co/spaces)\n"
          ]
        },
        {
          "output_type": "display_data",
          "data": {
            "text/plain": [
              "<IPython.core.display.HTML object>"
            ],
            "text/html": [
              "<div><iframe src=\"https://c602273696876a40d4.gradio.live\" width=\"100%\" height=\"500\" allow=\"autoplay; camera; microphone; clipboard-read; clipboard-write;\" frameborder=\"0\" allowfullscreen></iframe></div>"
            ]
          },
          "metadata": {}
        },
        {
          "output_type": "execute_result",
          "data": {
            "text/plain": []
          },
          "metadata": {},
          "execution_count": 13
        }
      ]
    },
    {
      "cell_type": "markdown",
      "source": [
        "# Generation hyperparameters\n",
        "\n",
        "Each model has different supported hyperparameters.\n",
        "Let's evaluate the hyperparameters here and get a good feeling for what they do.\n",
        "`litellm` has a handy function to tell us what parameters the model expects."
      ],
      "metadata": {
        "id": "ulxH8d6UatUx"
      }
    },
    {
      "cell_type": "code",
      "source": [
        "get_supported_openai_params(model=GEMINI_MODEL)"
      ],
      "metadata": {
        "colab": {
          "base_uri": "https://localhost:8080/"
        },
        "id": "ZqBkbaHba9Pv",
        "outputId": "bd7b8cd1-007b-4068-c8bf-df9a21cfb1eb"
      },
      "execution_count": 14,
      "outputs": [
        {
          "output_type": "execute_result",
          "data": {
            "text/plain": [
              "['temperature',\n",
              " 'top_p',\n",
              " 'max_tokens',\n",
              " 'max_completion_tokens',\n",
              " 'stream',\n",
              " 'tools',\n",
              " 'tool_choice',\n",
              " 'functions',\n",
              " 'response_format',\n",
              " 'n',\n",
              " 'stop']"
            ]
          },
          "metadata": {},
          "execution_count": 14
        }
      ]
    },
    {
      "cell_type": "markdown",
      "source": [
        "## `temperature`\n",
        "\n",
        "Let's recall that temperature alters the softmax function to skew the probability distribution of tokens during decoding.\n",
        "To illustrate, let's look at the interactive plot below 👇.\n",
        "We have a small probability distribution representing the top probabilities at a single decoding step.\n",
        "There are 5 tokens, `A`, `B`, `C`, `D`, and `E`, where `A` is the most probable with a score of 0.5 and `D` and `E` are at the bottom with a score of 0.05."
      ],
      "metadata": {
        "id": "X64EAcnCawtW"
      }
    },
    {
      "cell_type": "markdown",
      "source": [
        "## Exercise 2: `softmax_with_temperature` visualization\n",
        "\n",
        "Please fill in the `softmax_with_temperature` function.\n",
        "Since we're not doing any backpropagation, let's use `numpy`.\n",
        "\n",
        "The softmax with temperature function is as follows:\n",
        "\n",
        "$\\text{softmax}(p, T) = \\frac{\\exp\\left(\\frac{\\log(p_i)}{T}\\right)}{\\sum_{j}\n",
        "\\exp\\left(\\frac{\\log(p_j)}{T}\\right)}$\n",
        "\n",
        "Where:\n",
        "- $p_i$  represents the original probability values.\n",
        "- $T$  is the temperature parameter.\n",
        "- $\\exp$  is the exponential function.\n",
        "\n",
        "Once you've implemented the python function, run the cell and play with the widget.\n",
        "If temperature is smaller, how do you think that will affect text generation?\n",
        "What about when temperature is large?\n",
        "Most LLM providers cap temperature at 2.0.\n",
        "Why might you do this?"
      ],
      "metadata": {
        "id": "PxCRX4aiStox"
      }
    },
    {
      "cell_type": "code",
      "source": [
        "# Define a small probability distribution\n",
        "probs = np.array([0.5, 0.3, 0.1, 0.05, 0.05])\n",
        "\n",
        "# Softmax function with temperature parameter\n",
        "def softmax_with_temperature(probs, temperature):\n",
        "    exp_probs = np.exp(np.log(probs) / temperature)\n",
        "    return exp_probs / np.sum(exp_probs)\n",
        "\n",
        "# Plot the distribution with numbers on top of each bar\n",
        "def plot_distribution(temperature):\n",
        "    adjusted_probs = softmax_with_temperature(probs, temperature)\n",
        "    plt.figure(figsize=(6, 4))\n",
        "    bars = plt.bar(range(len(probs)), adjusted_probs, tick_label=['A', 'B', 'C', 'D', 'E'])\n",
        "    plt.ylim(0, 1)\n",
        "    plt.title(f'Softmax with Temperature = {temperature:.2f}')\n",
        "    plt.ylabel('Probability')\n",
        "    plt.xlabel('Categories')\n",
        "\n",
        "    # Add numbers on top of each bar\n",
        "    for bar in bars:\n",
        "        yval = bar.get_height()\n",
        "        plt.text(bar.get_x() + bar.get_width()/2, yval, f'{yval:.2f}', ha='center', va='bottom')\n",
        "\n",
        "    plt.show()\n",
        "\n",
        "# Interactive widget\n",
        "interact(plot_distribution, temperature=(0.1, 2.0, 0.1));"
      ],
      "metadata": {
        "colab": {
          "base_uri": "https://localhost:8080/",
          "height": 442,
          "referenced_widgets": [
            "464655c8400b4ffc8d2c0134868177a6",
            "ef29f2f60236419fbc0c2d44f9bbf09e",
            "baec76b9ca734491823ee172c89754ed",
            "a00ccf2c2049464ea7c927aa71226f2d",
            "d2675643bd6e4f78b6481beae91079c3",
            "56ba6d00dff94973b490e2e93dbdcd79",
            "5ca788cd272841948df90315ab181cee"
          ]
        },
        "id": "rJwYX-MGQvp9",
        "outputId": "53568b81-18ca-4ee2-8e4f-50f32f88996b"
      },
      "execution_count": 15,
      "outputs": [
        {
          "output_type": "display_data",
          "data": {
            "text/plain": [
              "interactive(children=(FloatSlider(value=1.0, description='temperature', max=2.0, min=0.1), Output()), _dom_cla…"
            ],
            "application/vnd.jupyter.widget-view+json": {
              "version_major": 2,
              "version_minor": 0,
              "model_id": "464655c8400b4ffc8d2c0134868177a6"
            }
          },
          "metadata": {}
        }
      ]
    },
    {
      "cell_type": "markdown",
      "source": [
        "Now that we've got a good feeling for what `temperature` does to the probability distribution, let's examine some of the outputs.\n",
        "In addition to qualitatively observing the outputs, we will calculate the similarity between each pair of generations using `fuzzywuzzy`, a library that calculates similarity using levenshtein distance.\n",
        "Roughly, it's based on the number of characters we'd have to change to turn string 1 into string 2.\n",
        "100 is exact match, and 0 is no match.\n"
      ],
      "metadata": {
        "id": "rnZpDQ9WUe8h"
      }
    },
    {
      "cell_type": "code",
      "source": [
        "# perfect match, 50% matc, 0 match\n",
        "fuzz.ratio('a', 'a'), fuzz.ratio('ab', 'bb'), fuzz.ratio('a', 'b')"
      ],
      "metadata": {
        "colab": {
          "base_uri": "https://localhost:8080/"
        },
        "id": "Id-GuGWlWhVZ",
        "outputId": "ec70799c-3777-4cc8-8175-838d8e415a99"
      },
      "execution_count": 16,
      "outputs": [
        {
          "output_type": "execute_result",
          "data": {
            "text/plain": [
              "(100, 50, 0)"
            ]
          },
          "metadata": {},
          "execution_count": 16
        }
      ]
    },
    {
      "cell_type": "code",
      "source": [
        "messages = [\n",
        "    {'role': 'user', 'content': 'write a limerick about python'}\n",
        "]"
      ],
      "metadata": {
        "id": "S4LX3fCvcIcd"
      },
      "execution_count": 17,
      "outputs": []
    },
    {
      "cell_type": "code",
      "source": [
        "contents = []\n",
        "for choice in completion(model=GEMINI_MODEL, messages=messages, temperature=0, n=5).choices:\n",
        "    content = choice.message.content\n",
        "    contents.append(content)\n",
        "combos = combinations(contents, 2)\n",
        "ratios = [fuzz.ratio(c1, c2) for c1, c2 in combos]\n",
        "print(f\"Average text similarity (fuzz.ratio): {np.mean(ratios)}\")\n",
        "for c in contents:\n",
        "    print(c)\n",
        "    print('='*40)"
      ],
      "metadata": {
        "colab": {
          "base_uri": "https://localhost:8080/",
          "height": 611
        },
        "id": "r1kP4mDOba5N",
        "outputId": "7889a2d5-c290-437f-d661-8321048db1ec"
      },
      "execution_count": 19,
      "outputs": [
        {
          "output_type": "display_data",
          "data": {
            "text/plain": [
              "Average text similarity \u001b[1m(\u001b[0mfuzz.ratio\u001b[1m)\u001b[0m: \u001b[1;36m91.6\u001b[0m\n"
            ],
            "text/html": [
              "<pre style=\"white-space:pre;overflow-x:auto;line-height:normal;font-family:Menlo,'DejaVu Sans Mono',consolas,'Courier New',monospace\">Average text similarity <span style=\"font-weight: bold\">(</span>fuzz.ratio<span style=\"font-weight: bold\">)</span>: <span style=\"color: #008080; text-decoration-color: #008080; font-weight: bold\">91.6</span>\n",
              "</pre>\n"
            ]
          },
          "metadata": {}
        },
        {
          "output_type": "display_data",
          "data": {
            "text/plain": [
              "A coder named Stan, quite astute,\n",
              "Found Python a language to suit.\n",
              "With loops and with lists,\n",
              "He built coding behemoths,\n",
              "And solved problems both big and minute.\n",
              "\n"
            ],
            "text/html": [
              "<pre style=\"white-space:pre;overflow-x:auto;line-height:normal;font-family:Menlo,'DejaVu Sans Mono',consolas,'Courier New',monospace\">A coder named Stan, quite astute,\n",
              "Found Python a language to suit.\n",
              "With loops and with lists,\n",
              "He built coding behemoths,\n",
              "And solved problems both big and minute.\n",
              "\n",
              "</pre>\n"
            ]
          },
          "metadata": {}
        },
        {
          "output_type": "display_data",
          "data": {
            "text/plain": [
              "========================================\n"
            ],
            "text/html": [
              "<pre style=\"white-space:pre;overflow-x:auto;line-height:normal;font-family:Menlo,'DejaVu Sans Mono',consolas,'Courier New',monospace\">========================================\n",
              "</pre>\n"
            ]
          },
          "metadata": {}
        },
        {
          "output_type": "display_data",
          "data": {
            "text/plain": [
              "A coder named Stan, quite astute,\n",
              "Found Python a language to suit.\n",
              "With loops and with lists,\n",
              "He built coding's sweet trysts,\n",
              "And his programs ran quickly and cute.\n",
              "\n"
            ],
            "text/html": [
              "<pre style=\"white-space:pre;overflow-x:auto;line-height:normal;font-family:Menlo,'DejaVu Sans Mono',consolas,'Courier New',monospace\">A coder named Stan, quite astute,\n",
              "Found Python a language to suit.\n",
              "With loops and with lists,\n",
              "He built coding's sweet trysts,\n",
              "And his programs ran quickly and cute.\n",
              "\n",
              "</pre>\n"
            ]
          },
          "metadata": {}
        },
        {
          "output_type": "display_data",
          "data": {
            "text/plain": [
              "========================================\n"
            ],
            "text/html": [
              "<pre style=\"white-space:pre;overflow-x:auto;line-height:normal;font-family:Menlo,'DejaVu Sans Mono',consolas,'Courier New',monospace\">========================================\n",
              "</pre>\n"
            ]
          },
          "metadata": {}
        },
        {
          "output_type": "display_data",
          "data": {
            "text/plain": [
              "A coder named Stan, quite astute,\n",
              "Found Python a language to suit.\n",
              "With loops and with lists,\n",
              "He built coding's sweet trysts,\n",
              "And his programs ran quickly and cute.\n",
              "\n"
            ],
            "text/html": [
              "<pre style=\"white-space:pre;overflow-x:auto;line-height:normal;font-family:Menlo,'DejaVu Sans Mono',consolas,'Courier New',monospace\">A coder named Stan, quite astute,\n",
              "Found Python a language to suit.\n",
              "With loops and with lists,\n",
              "He built coding's sweet trysts,\n",
              "And his programs ran quickly and cute.\n",
              "\n",
              "</pre>\n"
            ]
          },
          "metadata": {}
        },
        {
          "output_type": "display_data",
          "data": {
            "text/plain": [
              "========================================\n"
            ],
            "text/html": [
              "<pre style=\"white-space:pre;overflow-x:auto;line-height:normal;font-family:Menlo,'DejaVu Sans Mono',consolas,'Courier New',monospace\">========================================\n",
              "</pre>\n"
            ]
          },
          "metadata": {}
        },
        {
          "output_type": "display_data",
          "data": {
            "text/plain": [
              "A coder named Stan, quite astute,\n",
              "Found Python a language to suit.\n",
              "With loops and with lists,\n",
              "He built coding behemoths,\n",
              "And solved problems both big and minute.\n",
              "\n"
            ],
            "text/html": [
              "<pre style=\"white-space:pre;overflow-x:auto;line-height:normal;font-family:Menlo,'DejaVu Sans Mono',consolas,'Courier New',monospace\">A coder named Stan, quite astute,\n",
              "Found Python a language to suit.\n",
              "With loops and with lists,\n",
              "He built coding behemoths,\n",
              "And solved problems both big and minute.\n",
              "\n",
              "</pre>\n"
            ]
          },
          "metadata": {}
        },
        {
          "output_type": "display_data",
          "data": {
            "text/plain": [
              "========================================\n"
            ],
            "text/html": [
              "<pre style=\"white-space:pre;overflow-x:auto;line-height:normal;font-family:Menlo,'DejaVu Sans Mono',consolas,'Courier New',monospace\">========================================\n",
              "</pre>\n"
            ]
          },
          "metadata": {}
        },
        {
          "output_type": "display_data",
          "data": {
            "text/plain": [
              "A coder named Stan, quite astute,\n",
              "Found Python a language to suit.\n",
              "With loops and with lists,\n",
              "He built coding's sweet trysts,\n",
              "And his programs ran quickly and cute.\n",
              "\n"
            ],
            "text/html": [
              "<pre style=\"white-space:pre;overflow-x:auto;line-height:normal;font-family:Menlo,'DejaVu Sans Mono',consolas,'Courier New',monospace\">A coder named Stan, quite astute,\n",
              "Found Python a language to suit.\n",
              "With loops and with lists,\n",
              "He built coding's sweet trysts,\n",
              "And his programs ran quickly and cute.\n",
              "\n",
              "</pre>\n"
            ]
          },
          "metadata": {}
        },
        {
          "output_type": "display_data",
          "data": {
            "text/plain": [
              "========================================\n"
            ],
            "text/html": [
              "<pre style=\"white-space:pre;overflow-x:auto;line-height:normal;font-family:Menlo,'DejaVu Sans Mono',consolas,'Courier New',monospace\">========================================\n",
              "</pre>\n"
            ]
          },
          "metadata": {}
        }
      ]
    },
    {
      "cell_type": "code",
      "source": [
        "contents = []\n",
        "for choice in completion(model=GEMINI_MODEL, messages=messages, temperature=1.9, n=5).choices:\n",
        "    content = choice.message.content\n",
        "    contents.append(content)\n",
        "combos = combinations(contents, 2)\n",
        "ratios = [fuzz.ratio(c1, c2) for c1, c2 in combos]\n",
        "print(f\"Average text similarity (fuzz.ratio): {np.mean(ratios)}\")\n",
        "for c in contents:\n",
        "    print(c)\n",
        "    print('='*40)"
      ],
      "metadata": {
        "colab": {
          "base_uri": "https://localhost:8080/",
          "height": 611
        },
        "id": "ENoxOMcUbr_i",
        "outputId": "bfb70720-b686-4ed7-8e26-af10d47cd3a2"
      },
      "execution_count": 20,
      "outputs": [
        {
          "output_type": "display_data",
          "data": {
            "text/plain": [
              "Average text similarity \u001b[1m(\u001b[0mfuzz.ratio\u001b[1m)\u001b[0m: \u001b[1;36m59.1\u001b[0m\n"
            ],
            "text/html": [
              "<pre style=\"white-space:pre;overflow-x:auto;line-height:normal;font-family:Menlo,'DejaVu Sans Mono',consolas,'Courier New',monospace\">Average text similarity <span style=\"font-weight: bold\">(</span>fuzz.ratio<span style=\"font-weight: bold\">)</span>: <span style=\"color: #008080; text-decoration-color: #008080; font-weight: bold\">59.1</span>\n",
              "</pre>\n"
            ]
          },
          "metadata": {}
        },
        {
          "output_type": "display_data",
          "data": {
            "text/plain": [
              "A coder named Stan, quite astute,\n",
              "Found Python a language to boot.\n",
              "With loops and with lists,\n",
              "He built wondrous scripts,\n",
              "And his programs all ran, without toot!\n",
              "\n"
            ],
            "text/html": [
              "<pre style=\"white-space:pre;overflow-x:auto;line-height:normal;font-family:Menlo,'DejaVu Sans Mono',consolas,'Courier New',monospace\">A coder named Stan, quite astute,\n",
              "Found Python a language to boot.\n",
              "With loops and with lists,\n",
              "He built wondrous scripts,\n",
              "And his programs all ran, without toot!\n",
              "\n",
              "</pre>\n"
            ]
          },
          "metadata": {}
        },
        {
          "output_type": "display_data",
          "data": {
            "text/plain": [
              "========================================\n"
            ],
            "text/html": [
              "<pre style=\"white-space:pre;overflow-x:auto;line-height:normal;font-family:Menlo,'DejaVu Sans Mono',consolas,'Courier New',monospace\">========================================\n",
              "</pre>\n"
            ]
          },
          "metadata": {}
        },
        {
          "output_type": "display_data",
          "data": {
            "text/plain": [
              "A coder named Sue, quite astute,\n",
              "Found Python a language to boot.\n",
              "With loops and with lists,\n",
              "Her coding she kissed,\n",
              "And built apps both sleek and cute.\n",
              "\n"
            ],
            "text/html": [
              "<pre style=\"white-space:pre;overflow-x:auto;line-height:normal;font-family:Menlo,'DejaVu Sans Mono',consolas,'Courier New',monospace\">A coder named Sue, quite astute,\n",
              "Found Python a language to boot.\n",
              "With loops and with lists,\n",
              "Her coding she kissed,\n",
              "And built apps both sleek and cute.\n",
              "\n",
              "</pre>\n"
            ]
          },
          "metadata": {}
        },
        {
          "output_type": "display_data",
          "data": {
            "text/plain": [
              "========================================\n"
            ],
            "text/html": [
              "<pre style=\"white-space:pre;overflow-x:auto;line-height:normal;font-family:Menlo,'DejaVu Sans Mono',consolas,'Courier New',monospace\">========================================\n",
              "</pre>\n"
            ]
          },
          "metadata": {}
        },
        {
          "output_type": "display_data",
          "data": {
            "text/plain": [
              "There once was a coder named Sue,\n",
              "Whose Python code, shining and new,\n",
              "Ran fast and ran clean,\n",
              "With functions unseen,\n",
              "And solved problems both old and quite few.\n",
              "\n"
            ],
            "text/html": [
              "<pre style=\"white-space:pre;overflow-x:auto;line-height:normal;font-family:Menlo,'DejaVu Sans Mono',consolas,'Courier New',monospace\">There once was a coder named Sue,\n",
              "Whose Python code, shining and new,\n",
              "Ran fast and ran clean,\n",
              "With functions unseen,\n",
              "And solved problems both old and quite few.\n",
              "\n",
              "</pre>\n"
            ]
          },
          "metadata": {}
        },
        {
          "output_type": "display_data",
          "data": {
            "text/plain": [
              "========================================\n"
            ],
            "text/html": [
              "<pre style=\"white-space:pre;overflow-x:auto;line-height:normal;font-family:Menlo,'DejaVu Sans Mono',consolas,'Courier New',monospace\">========================================\n",
              "</pre>\n"
            ]
          },
          "metadata": {}
        },
        {
          "output_type": "display_data",
          "data": {
            "text/plain": [
              "A coder named Stan, quite astute,\n",
              "Loved Python, a language so cute.\n",
              "With loops and with lists,\n",
              "He'd solve coding cysts,\n",
              "And his programs ran smoothly and astute.\n",
              "\n"
            ],
            "text/html": [
              "<pre style=\"white-space:pre;overflow-x:auto;line-height:normal;font-family:Menlo,'DejaVu Sans Mono',consolas,'Courier New',monospace\">A coder named Stan, quite astute,\n",
              "Loved Python, a language so cute.\n",
              "With loops and with lists,\n",
              "He'd solve coding cysts,\n",
              "And his programs ran smoothly and astute.\n",
              "\n",
              "</pre>\n"
            ]
          },
          "metadata": {}
        },
        {
          "output_type": "display_data",
          "data": {
            "text/plain": [
              "========================================\n"
            ],
            "text/html": [
              "<pre style=\"white-space:pre;overflow-x:auto;line-height:normal;font-family:Menlo,'DejaVu Sans Mono',consolas,'Courier New',monospace\">========================================\n",
              "</pre>\n"
            ]
          },
          "metadata": {}
        },
        {
          "output_type": "display_data",
          "data": {
            "text/plain": [
              "There once was a coder named Sue,\n",
              "Whose scripts were both elegant and new.\n",
              "With Python's swift grace,\n",
              "She solved every case,\n",
              "And her code ran both smoothly and true.\n",
              "\n"
            ],
            "text/html": [
              "<pre style=\"white-space:pre;overflow-x:auto;line-height:normal;font-family:Menlo,'DejaVu Sans Mono',consolas,'Courier New',monospace\">There once was a coder named Sue,\n",
              "Whose scripts were both elegant and new.\n",
              "With Python's swift grace,\n",
              "She solved every case,\n",
              "And her code ran both smoothly and true.\n",
              "\n",
              "</pre>\n"
            ]
          },
          "metadata": {}
        },
        {
          "output_type": "display_data",
          "data": {
            "text/plain": [
              "========================================\n"
            ],
            "text/html": [
              "<pre style=\"white-space:pre;overflow-x:auto;line-height:normal;font-family:Menlo,'DejaVu Sans Mono',consolas,'Courier New',monospace\">========================================\n",
              "</pre>\n"
            ]
          },
          "metadata": {}
        }
      ]
    },
    {
      "cell_type": "markdown",
      "source": [
        "## `top_p` (nucleus sampling)\n",
        "\n",
        "Let's re-visit top-p sampling.\n",
        "We definie the cumulative sum of the probabilitity distribution we want to allow for decoding.\n",
        "Let's formally define it:\n",
        "\n",
        "\n",
        "$\\text{Top-p sampling:} \\quad P(S) = \\{x_i \\mid \\sum_{x_j \\in S} P(x_j) \\geq p \\}$\n",
        "\n",
        "Where:\n",
        "\n",
        "- $P(x_i)$  is the probability of token  x_i .\n",
        "- $S$  is the set of selected tokens.\n",
        "- $p$  is the cumulative probability threshold (top-p value).\n",
        "\n",
        "In short, we take the set of all tokens such that the sum of the token probabilities is greater than or equal to the parameter $p$.\n",
        "Let's illustrate this in anoher widget.\n"
      ],
      "metadata": {
        "id": "O8hP8SG8a3_-"
      }
    },
    {
      "cell_type": "code",
      "source": [
        "# Define a small probability distribution (can simulate a language model's logits)\n",
        "probs = np.array([0.4, 0.2, 0.15, 0.1, 0.08, 0.05, 0.02])\n",
        "\n",
        "# Function to apply top-p filtering with a minimum of one token selected\n",
        "def top_p_filter(probs, p):\n",
        "    sorted_probs = np.sort(probs)[::-1]\n",
        "    cumulative_probs = np.cumsum(sorted_probs)\n",
        "\n",
        "    # Ensure at least one token is selected\n",
        "    if p < sorted_probs[0]:\n",
        "        cutoff = 1\n",
        "    else:\n",
        "        cutoff = np.argmax(cumulative_probs >= p) + 1\n",
        "\n",
        "    filtered_probs = sorted_probs[:cutoff]\n",
        "    return filtered_probs, cutoff\n",
        "\n",
        "# Plot the distribution with top-p filtering\n",
        "def plot_top_p(p):\n",
        "    filtered_probs, cutoff = top_p_filter(probs, p)\n",
        "    normalized_probs = filtered_probs / np.sum(filtered_probs)  # Normalize the selected probabilities\n",
        "\n",
        "    # Create two subplots\n",
        "    fig, axs = plt.subplots(1, 2, figsize=(12, 5))\n",
        "    labels = ['A', 'B', 'C', 'D', 'E', 'F', 'G']\n",
        "\n",
        "    # Plot 1: Original distribution with top-p filtering\n",
        "    bars1 = axs[0].bar(range(len(probs)), np.sort(probs)[::-1], tick_label=labels)\n",
        "    axs[0].set_ylim(0, 1)\n",
        "    axs[0].set_title(f'Top-p Sampling (p = {p:.2f}) - Original Probabilities')\n",
        "    axs[0].set_ylabel('Probability')\n",
        "    axs[0].set_xlabel('Categories')\n",
        "\n",
        "    # Highlight selected and unselected probabilities\n",
        "    for i, bar in enumerate(bars1):\n",
        "        if i >= cutoff:\n",
        "            bar.set_color('gray')  # Color the bars outside top-p as gray\n",
        "        else:\n",
        "            bar.set_color('blue')  # Highlight the selected probabilities\n",
        "\n",
        "    # Add numbers on top of each bar for original distribution\n",
        "    for bar in bars1:\n",
        "        yval = bar.get_height()\n",
        "        axs[0].text(bar.get_x() + bar.get_width()/2, yval, f'{yval:.2f}', ha='center', va='bottom')\n",
        "\n",
        "    # Plot 2: Normalized probabilities of the selected tokens\n",
        "    bars2 = axs[1].bar(range(len(filtered_probs)), normalized_probs, tick_label=labels[:len(filtered_probs)])\n",
        "    axs[1].set_ylim(0, 1)\n",
        "    axs[1].set_title(f'Normalized Probabilities of Selected Tokens (p = {p:.2f})')\n",
        "    axs[1].set_ylabel('Normalized Probability')\n",
        "    axs[1].set_xlabel('Selected Categories')\n",
        "\n",
        "    # Add numbers on top of each bar for normalized probabilities\n",
        "    for bar in bars2:\n",
        "        yval = bar.get_height()\n",
        "        axs[1].text(bar.get_x() + bar.get_width()/2, yval, f'{yval:.2f}', ha='center', va='bottom')\n",
        "\n",
        "    plt.tight_layout()\n",
        "    plt.show()\n",
        "\n",
        "# Interactive widget\n",
        "interact(plot_top_p, p=(0.01, 1.0, 0.05));"
      ],
      "metadata": {
        "colab": {
          "base_uri": "https://localhost:8080/",
          "height": 539,
          "referenced_widgets": [
            "989cc3204ef94b0da35258ca7c6617a9",
            "5bba35d9f1f544308ce13619add17d80",
            "22ad2fb31a7f441a97015a1db535ed72",
            "44bdfea5e92143e69f7b593b0aa7ce6d",
            "ba0329fcee934af5989a0bae719b5546",
            "4061fdb397564723aaf33f5afaf553ac",
            "9f60c85f431840b2996835cab209e4b5"
          ]
        },
        "id": "fv_aR67dyaod",
        "outputId": "83ac665c-e273-480e-843b-c751b8a1e592"
      },
      "execution_count": 21,
      "outputs": [
        {
          "output_type": "display_data",
          "data": {
            "text/plain": [
              "interactive(children=(FloatSlider(value=0.46, description='p', max=1.0, min=0.01, step=0.05), Output()), _dom_…"
            ],
            "application/vnd.jupyter.widget-view+json": {
              "version_major": 2,
              "version_minor": 0,
              "model_id": "989cc3204ef94b0da35258ca7c6617a9"
            }
          },
          "metadata": {}
        }
      ]
    },
    {
      "cell_type": "markdown",
      "source": [
        "## Exercise 3: Relationship between `top_p` and sequence similarity\n",
        "\n",
        "Just like `temperature`, `top_p` is another lever to control how text is generated.\n",
        "I this exercise, let's actually visualize that relationship.\n",
        "Please create a plot wher the x-axis is the `top-p` value, and the y-axis is the average similarity (using `fuzz.ratio`) of all of the generations for the same prompt."
      ],
      "metadata": {
        "id": "L4c7p2NZa6B7"
      }
    },
    {
      "cell_type": "code",
      "source": [
        "results = []\n",
        "# Create a range of p values\n",
        "ps = np.arange(0.1,1.1,.1)\n",
        "# For each p...\n",
        "results = []\n",
        "for p in ps:\n",
        "    # Generate 5 choices at that top p\n",
        "    contents = []\n",
        "    for choice in completion(model=GEMINI_MODEL, messages=messages, top_p=p, n=5).choices:\n",
        "        content = choice.message.content\n",
        "        contents.append(content)\n",
        "    # Make combinations of each pair of contents\n",
        "    combos = combinations(contents, 2)\n",
        "    # Calculate the ratio of each of those combinations\n",
        "    ratios = [fuzz.ratio(c1, c2) for c1, c2 in combos]\n",
        "    for r in ratios:\n",
        "        results.append(dict(top_p=p, ratio=r))\n",
        "results = pd.DataFrame(results)\n",
        "\n",
        "sns.lineplot(x='top_p', y='ratio', data=results)"
      ],
      "metadata": {
        "colab": {
          "base_uri": "https://localhost:8080/",
          "height": 467
        },
        "id": "MURTGbua1BMy",
        "outputId": "62be6983-47c2-4463-a5d5-3ac79e9828bd"
      },
      "execution_count": 22,
      "outputs": [
        {
          "output_type": "execute_result",
          "data": {
            "text/plain": [
              "<Axes: xlabel='top_p', ylabel='ratio'>"
            ]
          },
          "metadata": {},
          "execution_count": 22
        },
        {
          "output_type": "display_data",
          "data": {
            "text/plain": [
              "<Figure size 640x480 with 1 Axes>"
            ],
            "image/png": "[encoded data removed]"
          },
          "metadata": {}
        }
      ]
    },
    {
      "cell_type": "markdown",
      "source": [
        "# Structured outputs\n",
        "\n",
        "Many times, we want to use LLMs as middleware in other systems.\n",
        "That means they may have to do things like extract structured data, populate parameters to API calls, etc.\n",
        "This is really hard to do with plain text LLM responses - you have to do lots of \"begging\" to get the LLM to output a consistent structure.\n",
        "\n",
        "For this next section, we're going to switch to OpenAI's API since it's much better than gemini at producing structured outputs.\n",
        "We will be using `gpt-4o-mini`.\n",
        "\n",
        "The most convenient way to declare what you want to return is with `pydantic` models.\n",
        "These are really useful because you can define exactly the values, formats, and types you expect back.\n",
        "As you can see in the `EventDetails` class below, we've specified all the information we want to know about an event.\n",
        "We can even describe complex objects, like lists or dicts of other objects."
      ],
      "metadata": {
        "id": "dYOI0k9WbPbp"
      }
    },
    {
      "cell_type": "code",
      "source": [
        "OPENAI_MODEL = 'openai/gpt-4o-mini'"
      ],
      "metadata": {
        "id": "p1C7FnAVbSVr"
      },
      "execution_count": 23,
      "outputs": []
    },
    {
      "cell_type": "code",
      "source": [
        "class EventDetails(BaseModel):\n",
        "    attendees: List[str] = Field(..., description=\"List of attendees\")\n",
        "    date: str = Field(..., description=\"Date of the event, in the YYYY-MM-DD format\")\n",
        "    eventName: str = Field(..., description=\"Name of the event\")"
      ],
      "metadata": {
        "id": "GeFElBvpbnww"
      },
      "execution_count": 24,
      "outputs": []
    },
    {
      "cell_type": "code",
      "source": [
        "text = \"Jan and Peter are going to have dinner on 7/15/2024\"\n",
        "resp = completion(model=OPENAI_MODEL, messages=[{\"role\": \"user\", \"content\": text}], response_format=EventDetails)"
      ],
      "metadata": {
        "id": "V2uhFO5Nb--A"
      },
      "execution_count": 25,
      "outputs": []
    },
    {
      "cell_type": "code",
      "source": [
        "print(\"Response text:\\n\", c:=resp.choices[0].message.content)\n",
        "print(\"Loaded JSON:\", j:=json.loads(c))\n",
        "print(\"Pydantic object:\", o:=EventDetails(**j))"
      ],
      "metadata": {
        "colab": {
          "base_uri": "https://localhost:8080/",
          "height": 116
        },
        "id": "qctGF9iic-Fn",
        "outputId": "41012b6b-0ffe-4b08-b060-544a77ab944f"
      },
      "execution_count": 26,
      "outputs": [
        {
          "output_type": "display_data",
          "data": {
            "text/plain": [
              "Response text:\n",
              " \u001b[1m{\u001b[0m\u001b[32m\"attendees\"\u001b[0m:\u001b[1m[\u001b[0m\u001b[32m\"Jan\"\u001b[0m,\u001b[32m\"Peter\"\u001b[0m\u001b[1m]\u001b[0m,\u001b[32m\"date\"\u001b[0m:\u001b[32m\"2024-07-15\"\u001b[0m,\u001b[32m\"eventName\"\u001b[0m:\u001b[32m\"Dinner\"\u001b[0m\u001b[1m}\u001b[0m\n"
            ],
            "text/html": [
              "<pre style=\"white-space:pre;overflow-x:auto;line-height:normal;font-family:Menlo,'DejaVu Sans Mono',consolas,'Courier New',monospace\">Response text:\n",
              " <span style=\"font-weight: bold\">{</span><span style=\"color: #008000; text-decoration-color: #008000\">\"attendees\"</span>:<span style=\"font-weight: bold\">[</span><span style=\"color: #008000; text-decoration-color: #008000\">\"Jan\"</span>,<span style=\"color: #008000; text-decoration-color: #008000\">\"Peter\"</span><span style=\"font-weight: bold\">]</span>,<span style=\"color: #008000; text-decoration-color: #008000\">\"date\"</span>:<span style=\"color: #008000; text-decoration-color: #008000\">\"2024-07-15\"</span>,<span style=\"color: #008000; text-decoration-color: #008000\">\"eventName\"</span>:<span style=\"color: #008000; text-decoration-color: #008000\">\"Dinner\"</span><span style=\"font-weight: bold\">}</span>\n",
              "</pre>\n"
            ]
          },
          "metadata": {}
        },
        {
          "output_type": "display_data",
          "data": {
            "text/plain": [
              "Loaded JSON:\n",
              "\u001b[1m{\u001b[0m\u001b[32m'attendees'\u001b[0m: \u001b[1m[\u001b[0m\u001b[32m'Jan'\u001b[0m, \u001b[32m'Peter'\u001b[0m\u001b[1m]\u001b[0m, \u001b[32m'date'\u001b[0m: \u001b[32m'2024-07-15'\u001b[0m, \u001b[32m'eventName'\u001b[0m: \u001b[32m'Dinner'\u001b[0m\u001b[1m}\u001b[0m\n"
            ],
            "text/html": [
              "<pre style=\"white-space:pre;overflow-x:auto;line-height:normal;font-family:Menlo,'DejaVu Sans Mono',consolas,'Courier New',monospace\">Loaded JSON:\n",
              "<span style=\"font-weight: bold\">{</span><span style=\"color: #008000; text-decoration-color: #008000\">'attendees'</span>: <span style=\"font-weight: bold\">[</span><span style=\"color: #008000; text-decoration-color: #008000\">'Jan'</span>, <span style=\"color: #008000; text-decoration-color: #008000\">'Peter'</span><span style=\"font-weight: bold\">]</span>, <span style=\"color: #008000; text-decoration-color: #008000\">'date'</span>: <span style=\"color: #008000; text-decoration-color: #008000\">'2024-07-15'</span>, <span style=\"color: #008000; text-decoration-color: #008000\">'eventName'</span>: <span style=\"color: #008000; text-decoration-color: #008000\">'Dinner'</span><span style=\"font-weight: bold\">}</span>\n",
              "</pre>\n"
            ]
          },
          "metadata": {}
        },
        {
          "output_type": "display_data",
          "data": {
            "text/plain": [
              "Pydantic object:\n",
              "\u001b[1;35mEventDetails\u001b[0m\u001b[1m(\u001b[0m\u001b[33mattendees\u001b[0m=\u001b[1m[\u001b[0m\u001b[32m'Jan'\u001b[0m, \u001b[32m'Peter'\u001b[0m\u001b[1m]\u001b[0m, \u001b[33mdate\u001b[0m=\u001b[32m'2024-07-15'\u001b[0m, \u001b[33meventName\u001b[0m=\u001b[32m'Dinner'\u001b[0m\u001b[1m)\u001b[0m\n"
            ],
            "text/html": [
              "<pre style=\"white-space:pre;overflow-x:auto;line-height:normal;font-family:Menlo,'DejaVu Sans Mono',consolas,'Courier New',monospace\">Pydantic object:\n",
              "<span style=\"color: #800080; text-decoration-color: #800080; font-weight: bold\">EventDetails</span><span style=\"font-weight: bold\">(</span><span style=\"color: #808000; text-decoration-color: #808000\">attendees</span>=<span style=\"font-weight: bold\">[</span><span style=\"color: #008000; text-decoration-color: #008000\">'Jan'</span>, <span style=\"color: #008000; text-decoration-color: #008000\">'Peter'</span><span style=\"font-weight: bold\">]</span>, <span style=\"color: #808000; text-decoration-color: #808000\">date</span>=<span style=\"color: #008000; text-decoration-color: #008000\">'2024-07-15'</span>, <span style=\"color: #808000; text-decoration-color: #808000\">eventName</span>=<span style=\"color: #008000; text-decoration-color: #008000\">'Dinner'</span><span style=\"font-weight: bold\">)</span>\n",
              "</pre>\n"
            ]
          },
          "metadata": {}
        }
      ]
    },
    {
      "cell_type": "markdown",
      "source": [
        "# Function calling"
      ],
      "metadata": {
        "id": "3Ib4kKQToAOt"
      }
    },
    {
      "cell_type": "code",
      "source": [
        "print(f\"{GEMINI_MODEL} supports function calling: \", litellm.supports_function_calling(model=GEMINI_MODEL))\n",
        "print(f\"{OPENAI_MODEL} supports function calling: \", litellm.supports_function_calling(model=OPENAI_MODEL))"
      ],
      "metadata": {
        "colab": {
          "base_uri": "https://localhost:8080/",
          "height": 50
        },
        "id": "N-zmtwsiolTY",
        "outputId": "ff98719d-4913-4ec9-aee8-d7ab0f13005e"
      },
      "execution_count": 27,
      "outputs": [
        {
          "output_type": "display_data",
          "data": {
            "text/plain": [
              "gemini/gemini-\u001b[1;36m1.5\u001b[0m-flash-\u001b[1;36m002\u001b[0m supports function calling:  \u001b[3;92mTrue\u001b[0m\n"
            ],
            "text/html": [
              "<pre style=\"white-space:pre;overflow-x:auto;line-height:normal;font-family:Menlo,'DejaVu Sans Mono',consolas,'Courier New',monospace\">gemini/gemini-<span style=\"color: #008080; text-decoration-color: #008080; font-weight: bold\">1.5</span>-flash-<span style=\"color: #008080; text-decoration-color: #008080; font-weight: bold\">002</span> supports function calling:  <span style=\"color: #00ff00; text-decoration-color: #00ff00; font-style: italic\">True</span>\n",
              "</pre>\n"
            ]
          },
          "metadata": {}
        },
        {
          "output_type": "display_data",
          "data": {
            "text/plain": [
              "openai/gpt-4o-mini supports function calling:  \u001b[3;92mTrue\u001b[0m\n"
            ],
            "text/html": [
              "<pre style=\"white-space:pre;overflow-x:auto;line-height:normal;font-family:Menlo,'DejaVu Sans Mono',consolas,'Courier New',monospace\">openai/gpt-4o-mini supports function calling:  <span style=\"color: #00ff00; text-decoration-color: #00ff00; font-style: italic\">True</span>\n",
              "</pre>\n"
            ]
          },
          "metadata": {}
        }
      ]
    },
    {
      "cell_type": "code",
      "source": [
        "def get_stock_data(\n",
        "        symbols:Union[str, List[str]],\n",
        "        start_date:Optional[str]=str(date.today() - timedelta(days=7)),\n",
        "        end_date:Optional[str] = str(date.today())\n",
        "):\n",
        "    result = yf.download(symbols, start=start_date, end=end_date)\n",
        "    return result.to_markdown()"
      ],
      "metadata": {
        "id": "bkuetfoVqBHb"
      },
      "execution_count": 28,
      "outputs": []
    },
    {
      "cell_type": "code",
      "source": [
        "display(Markdown(get_stock_data('MSFT')))"
      ],
      "metadata": {
        "colab": {
          "base_uri": "https://localhost:8080/",
          "height": 224
        },
        "id": "cv9sc-Z1rceF",
        "outputId": "f467f0a5-233f-4027-e9eb-257fe55f9bbc"
      },
      "execution_count": 29,
      "outputs": [
        {
          "output_type": "stream",
          "name": "stderr",
          "text": [
            "\r[*********************100%***********************]  1 of 1 completed\n"
          ]
        },
        {
          "output_type": "display_data",
          "data": {
            "text/plain": [
              "<IPython.core.display.Markdown object>"
            ],
            "text/markdown": "| Date                |   Open |   High |    Low |   Close |   Adj Close |      Volume |\n|:--------------------|-------:|-------:|-------:|--------:|------------:|------------:|\n| 2024-10-01 00:00:00 | 428.45 | 428.48 | 418.81 |  420.69 |      420.69 | 1.90929e+07 |\n| 2024-10-02 00:00:00 | 422.58 | 422.82 | 416.71 |  417.13 |      417.13 | 1.65823e+07 |\n| 2024-10-03 00:00:00 | 417.63 | 419.55 | 414.29 |  416.54 |      416.54 | 1.36864e+07 |\n| 2024-10-04 00:00:00 | 418.24 | 419.75 | 414.97 |  416.06 |      416.06 | 1.91697e+07 |\n| 2024-10-07 00:00:00 | 416    | 417.11 | 409    |  409.54 |      409.54 | 2.07616e+07 |"
          },
          "metadata": {}
        }
      ]
    },
    {
      "cell_type": "code",
      "source": [
        "function_definition = {\n",
        "    \"type\": \"function\",\n",
        "    \"function\": {\n",
        "        \"name\": \"get_stock_data\",\n",
        "        \"description\": \"Get historical stock data for a symbol or list of symbols. Returns markdown table.\",\n",
        "        \"parameters\": {\n",
        "            \"type\": \"object\",\n",
        "            \"properties\": {\n",
        "                \"symbols\": {\n",
        "                    \"type\": \"string\",\n",
        "                    \"description\": \"Symbol or list of symbols to get data for\",\n",
        "                    \"required\": [\"symbols\"]\n",
        "                    },\n",
        "                \"start_date\": {\n",
        "                    \"type\": \"string\",\n",
        "                    \"description\": \"Start date in YYYY-MM-DD format. Should be at least 1 day before the end_date.\",\n",
        "                },\n",
        "                \"end_date\": {\n",
        "                    \"type\": \"string\",\n",
        "                    \"description\": \"End date in YYYY-MM-DD format\",\n",
        "                }\n",
        "            },\n",
        "            \"required\": [\"symbols\"]\n",
        "        }\n",
        "    }\n",
        "}\n",
        "functions = [function_definition]"
      ],
      "metadata": {
        "id": "hbnRfBKbsIEM"
      },
      "execution_count": 30,
      "outputs": []
    },
    {
      "cell_type": "code",
      "source": [
        "messages = [{\"role\": \"user\", \"content\": f\"What's the most recent day's high and low for MSFT? Today's date is {date.today()}.\"}]\n",
        "resp = completion(\n",
        "    model=OPENAI_MODEL,\n",
        "    messages=messages,\n",
        "    tools=functions,\n",
        "    tool_choice='auto'\n",
        ")"
      ],
      "metadata": {
        "id": "iMr0-8X6st9s"
      },
      "execution_count": 31,
      "outputs": []
    },
    {
      "cell_type": "code",
      "source": [
        "message = resp.choices[0].message\n",
        "message"
      ],
      "metadata": {
        "colab": {
          "base_uri": "https://localhost:8080/"
        },
        "id": "FvlW7YaEwYr1",
        "outputId": "eb225ba2-5a2e-495d-ad6c-5a2248182ec8"
      },
      "execution_count": 32,
      "outputs": [
        {
          "output_type": "execute_result",
          "data": {
            "text/plain": [
              "Message(content=None, role='assistant', tool_calls=[ChatCompletionMessageToolCall(function=Function(arguments='{\"symbols\":\"MSFT\",\"start_date\":\"2024-10-07\",\"end_date\":\"2024-10-08\"}', name='get_stock_data'), id='call_UlM72I21itMoh6Ab2DRengjQ', type='function')], function_call=None)"
            ]
          },
          "metadata": {},
          "execution_count": 32
        }
      ]
    },
    {
      "cell_type": "code",
      "source": [
        "tool_call = message.tool_calls[0]\n",
        "tool_call"
      ],
      "metadata": {
        "colab": {
          "base_uri": "https://localhost:8080/"
        },
        "id": "z1zqM7RctLUm",
        "outputId": "332b2332-8e40-4402-c2cd-b3ce89776256"
      },
      "execution_count": 33,
      "outputs": [
        {
          "output_type": "execute_result",
          "data": {
            "text/plain": [
              "ChatCompletionMessageToolCall(function=Function(arguments='{\"symbols\":\"MSFT\",\"start_date\":\"2024-10-07\",\"end_date\":\"2024-10-08\"}', name='get_stock_data'), id='call_UlM72I21itMoh6Ab2DRengjQ', type='function')"
            ]
          },
          "metadata": {},
          "execution_count": 33
        }
      ]
    },
    {
      "cell_type": "code",
      "source": [
        "func = tool_call.function.name\n",
        "args = json.loads(tool_call.function.arguments)\n",
        "output_str = eval(f\"{func}(**{args})\")\n",
        "display(Markdown(output_str))"
      ],
      "metadata": {
        "colab": {
          "base_uri": "https://localhost:8080/",
          "height": 99
        },
        "id": "HxuoG3i5taF0",
        "outputId": "c85b55bc-4495-4244-b748-45e98e91a33d"
      },
      "execution_count": 34,
      "outputs": [
        {
          "output_type": "stream",
          "name": "stderr",
          "text": [
            "\r[*********************100%***********************]  1 of 1 completed\n"
          ]
        },
        {
          "output_type": "display_data",
          "data": {
            "text/plain": [
              "<IPython.core.display.Markdown object>"
            ],
            "text/markdown": "| Date                |   Open |   High |   Low |   Close |   Adj Close |      Volume |\n|:--------------------|-------:|-------:|------:|--------:|------------:|------------:|\n| 2024-10-07 00:00:00 |    416 | 417.11 |   409 |  409.54 |      409.54 | 2.07616e+07 |"
          },
          "metadata": {}
        }
      ]
    },
    {
      "cell_type": "code",
      "source": [
        "messages.append(message.dict())\n",
        "messages.append(\n",
        "    {\n",
        "        \"tool_call_id\": tool_call.id,\n",
        "        \"role\": \"tool\",\n",
        "        \"name\": func,\n",
        "        \"content\": output_str,\n",
        "    }\n",
        ")"
      ],
      "metadata": {
        "id": "chhfkQmCwOUC"
      },
      "execution_count": 35,
      "outputs": []
    },
    {
      "cell_type": "code",
      "source": [
        "print(messages)"
      ],
      "metadata": {
        "colab": {
          "base_uri": "https://localhost:8080/",
          "height": 496
        },
        "id": "R1YRle7owQOD",
        "outputId": "00132aa2-27cf-49a1-93f1-5bb571b72780"
      },
      "execution_count": 36,
      "outputs": [
        {
          "output_type": "display_data",
          "data": {
            "text/plain": [
              "\u001b[1m[\u001b[0m\n",
              "    \u001b[1m{\u001b[0m\n",
              "        \u001b[32m'role'\u001b[0m: \u001b[32m'user'\u001b[0m,\n",
              "        \u001b[32m'content'\u001b[0m: \u001b[32m\"What's the most recent day's high and low for MSFT? Today's date is 2024-10-08.\"\u001b[0m\n",
              "    \u001b[1m}\u001b[0m,\n",
              "    \u001b[1m{\u001b[0m\n",
              "        \u001b[32m'content'\u001b[0m: \u001b[3;35mNone\u001b[0m,\n",
              "        \u001b[32m'role'\u001b[0m: \u001b[32m'assistant'\u001b[0m,\n",
              "        \u001b[32m'tool_calls'\u001b[0m: \u001b[1m[\u001b[0m\n",
              "            \u001b[1m{\u001b[0m\n",
              "                \u001b[32m'function'\u001b[0m: \u001b[1m{\u001b[0m\n",
              "                    \u001b[32m'arguments'\u001b[0m: \u001b[32m'\u001b[0m\u001b[32m{\u001b[0m\u001b[32m\"symbols\":\"MSFT\",\"start_date\":\"2024-10-07\",\"end_date\":\"2024-10-08\"\u001b[0m\u001b[32m}\u001b[0m\u001b[32m'\u001b[0m,\n",
              "                    \u001b[32m'name'\u001b[0m: \u001b[32m'get_stock_data'\u001b[0m\n",
              "                \u001b[1m}\u001b[0m,\n",
              "                \u001b[32m'id'\u001b[0m: \u001b[32m'call_UlM72I21itMoh6Ab2DRengjQ'\u001b[0m,\n",
              "                \u001b[32m'type'\u001b[0m: \u001b[32m'function'\u001b[0m\n",
              "            \u001b[1m}\u001b[0m\n",
              "        \u001b[1m]\u001b[0m,\n",
              "        \u001b[32m'function_call'\u001b[0m: \u001b[3;35mNone\u001b[0m\n",
              "    \u001b[1m}\u001b[0m,\n",
              "    \u001b[1m{\u001b[0m\n",
              "        \u001b[32m'tool_call_id'\u001b[0m: \u001b[32m'call_UlM72I21itMoh6Ab2DRengjQ'\u001b[0m,\n",
              "        \u001b[32m'role'\u001b[0m: \u001b[32m'tool'\u001b[0m,\n",
              "        \u001b[32m'name'\u001b[0m: \u001b[32m'get_stock_data'\u001b[0m,\n",
              "        \u001b[32m'content'\u001b[0m: \u001b[32m'| Date                |   Open |   High |   Low |   Close |   Adj Close |      Volume \u001b[0m\n",
              "\u001b[32m|\\n|:--------------------|-------:|-------:|------:|--------:|------------:|------------:|\\n| 2024-10-07 00:00:00 |\u001b[0m\n",
              "\u001b[32m416 | 417.11 |   409 |  409.54 |      409.54 | 2.07616e+07 |'\u001b[0m\n",
              "    \u001b[1m}\u001b[0m\n",
              "\u001b[1m]\u001b[0m\n"
            ],
            "text/html": [
              "<pre style=\"white-space:pre;overflow-x:auto;line-height:normal;font-family:Menlo,'DejaVu Sans Mono',consolas,'Courier New',monospace\"><span style=\"font-weight: bold\">[</span>\n",
              "    <span style=\"font-weight: bold\">{</span>\n",
              "        <span style=\"color: #008000; text-decoration-color: #008000\">'role'</span>: <span style=\"color: #008000; text-decoration-color: #008000\">'user'</span>,\n",
              "        <span style=\"color: #008000; text-decoration-color: #008000\">'content'</span>: <span style=\"color: #008000; text-decoration-color: #008000\">\"What's the most recent day's high and low for MSFT? Today's date is 2024-10-08.\"</span>\n",
              "    <span style=\"font-weight: bold\">}</span>,\n",
              "    <span style=\"font-weight: bold\">{</span>\n",
              "        <span style=\"color: #008000; text-decoration-color: #008000\">'content'</span>: <span style=\"color: #800080; text-decoration-color: #800080; font-style: italic\">None</span>,\n",
              "        <span style=\"color: #008000; text-decoration-color: #008000\">'role'</span>: <span style=\"color: #008000; text-decoration-color: #008000\">'assistant'</span>,\n",
              "        <span style=\"color: #008000; text-decoration-color: #008000\">'tool_calls'</span>: <span style=\"font-weight: bold\">[</span>\n",
              "            <span style=\"font-weight: bold\">{</span>\n",
              "                <span style=\"color: #008000; text-decoration-color: #008000\">'function'</span>: <span style=\"font-weight: bold\">{</span>\n",
              "                    <span style=\"color: #008000; text-decoration-color: #008000\">'arguments'</span>: <span style=\"color: #008000; text-decoration-color: #008000\">'{\"symbols\":\"MSFT\",\"start_date\":\"2024-10-07\",\"end_date\":\"2024-10-08\"}'</span>,\n",
              "                    <span style=\"color: #008000; text-decoration-color: #008000\">'name'</span>: <span style=\"color: #008000; text-decoration-color: #008000\">'get_stock_data'</span>\n",
              "                <span style=\"font-weight: bold\">}</span>,\n",
              "                <span style=\"color: #008000; text-decoration-color: #008000\">'id'</span>: <span style=\"color: #008000; text-decoration-color: #008000\">'call_UlM72I21itMoh6Ab2DRengjQ'</span>,\n",
              "                <span style=\"color: #008000; text-decoration-color: #008000\">'type'</span>: <span style=\"color: #008000; text-decoration-color: #008000\">'function'</span>\n",
              "            <span style=\"font-weight: bold\">}</span>\n",
              "        <span style=\"font-weight: bold\">]</span>,\n",
              "        <span style=\"color: #008000; text-decoration-color: #008000\">'function_call'</span>: <span style=\"color: #800080; text-decoration-color: #800080; font-style: italic\">None</span>\n",
              "    <span style=\"font-weight: bold\">}</span>,\n",
              "    <span style=\"font-weight: bold\">{</span>\n",
              "        <span style=\"color: #008000; text-decoration-color: #008000\">'tool_call_id'</span>: <span style=\"color: #008000; text-decoration-color: #008000\">'call_UlM72I21itMoh6Ab2DRengjQ'</span>,\n",
              "        <span style=\"color: #008000; text-decoration-color: #008000\">'role'</span>: <span style=\"color: #008000; text-decoration-color: #008000\">'tool'</span>,\n",
              "        <span style=\"color: #008000; text-decoration-color: #008000\">'name'</span>: <span style=\"color: #008000; text-decoration-color: #008000\">'get_stock_data'</span>,\n",
              "        <span style=\"color: #008000; text-decoration-color: #008000\">'content'</span>: <span style=\"color: #008000; text-decoration-color: #008000\">'| Date                |   Open |   High |   Low |   Close |   Adj Close |      Volume </span>\n",
              "<span style=\"color: #008000; text-decoration-color: #008000\">|\\n|:--------------------|-------:|-------:|------:|--------:|------------:|------------:|\\n| 2024-10-07 00:00:00 |</span>\n",
              "<span style=\"color: #008000; text-decoration-color: #008000\">416 | 417.11 |   409 |  409.54 |      409.54 | 2.07616e+07 |'</span>\n",
              "    <span style=\"font-weight: bold\">}</span>\n",
              "<span style=\"font-weight: bold\">]</span>\n",
              "</pre>\n"
            ]
          },
          "metadata": {}
        }
      ]
    },
    {
      "cell_type": "code",
      "source": [
        "resp = completion(\n",
        "    model=OPENAI_MODEL,\n",
        "    messages=messages\n",
        ")"
      ],
      "metadata": {
        "id": "m-f5B2xPtq_z"
      },
      "execution_count": 37,
      "outputs": []
    },
    {
      "cell_type": "code",
      "source": [
        "print(resp.choices[0].message.content)"
      ],
      "metadata": {
        "colab": {
          "base_uri": "https://localhost:8080/",
          "height": 83
        },
        "id": "l_b6H36muXug",
        "outputId": "fdf6c86c-07f3-4651-cdab-9d18922c3e76"
      },
      "execution_count": 38,
      "outputs": [
        {
          "output_type": "display_data",
          "data": {
            "text/plain": [
              "The most recent trading day's high and low for Microsoft \u001b[1m(\u001b[0mMSFT\u001b[1m)\u001b[0m on October \u001b[1;36m7\u001b[0m, \u001b[1;36m2024\u001b[0m, were:\n",
              "\n",
              "- **High:** $\u001b[1;36m417.11\u001b[0m\n",
              "- **Low:** $\u001b[1;36m409.00\u001b[0m\n"
            ],
            "text/html": [
              "<pre style=\"white-space:pre;overflow-x:auto;line-height:normal;font-family:Menlo,'DejaVu Sans Mono',consolas,'Courier New',monospace\">The most recent trading day's high and low for Microsoft <span style=\"font-weight: bold\">(</span>MSFT<span style=\"font-weight: bold\">)</span> on October <span style=\"color: #008080; text-decoration-color: #008080; font-weight: bold\">7</span>, <span style=\"color: #008080; text-decoration-color: #008080; font-weight: bold\">2024</span>, were:\n",
              "\n",
              "- **High:** $<span style=\"color: #008080; text-decoration-color: #008080; font-weight: bold\">417.11</span>\n",
              "- **Low:** $<span style=\"color: #008080; text-decoration-color: #008080; font-weight: bold\">409.00</span>\n",
              "</pre>\n"
            ]
          },
          "metadata": {}
        }
      ]
    },
    {
      "cell_type": "markdown",
      "source": [
        "## Exercise 4: Fix this stock retriever\n",
        "\n",
        "Do you notice anything weird about the response here?\n",
        "LLMs have a knowledge cutoff, meaning that they don't know anything after a certain date.\n",
        "To solve this, we need to give the LLM the current date.\n",
        "What are some ways to do this?\n",
        "Please edit the above code to fix the error."
      ],
      "metadata": {
        "id": "7wVMoM1Vu6lK"
      }
    },
    {
      "cell_type": "markdown",
      "source": [
        "# High-level frameworks: `llama-index`\n",
        "\n",
        "So far, we've been working with the pretty basic OpenAI API specification.\n",
        "It's really good to have experience with this because it's a pretty universal API standard.\n",
        "However, sometimes it can take a lot of time to write certain functionalities such as structured outputs, function calls, etc.\n",
        "They're not a panacea, but high-level LLM libraries can really help take some of the gruntwork out of working with LLMs.\n",
        "\n",
        "In this couse, we'll be using [`llama-index`](https://docs.llamaindex.ai/en/stable/) as our high-level library, but there are other popular options like `langchain` and `DSPy`.\n",
        "\n",
        "Let's start by replicating some of the text generation we did previously."
      ],
      "metadata": {
        "id": "iGEhm_kUTYxR"
      }
    },
    {
      "cell_type": "code",
      "source": [
        "openai_llm = OpenAI(model='gpt-4o-mini')\n",
        "gemini_llm = Gemini(model='models/gemini-1.5-flash-002')"
      ],
      "metadata": {
        "id": "EQBWqcbDykr8"
      },
      "execution_count": 39,
      "outputs": []
    },
    {
      "cell_type": "markdown",
      "source": [
        "## Generate text\n",
        "\n",
        "Text generation using `llama-index` is pretty straightforward.\n",
        "Once you've created an instance of an LLM object, you can call `.complete`, `chat`, `acomplete`, or `achat` directly on the object."
      ],
      "metadata": {
        "id": "2uAFTh2zihKQ"
      }
    },
    {
      "cell_type": "code",
      "source": [
        "messages = [\n",
        "    ChatMessage(role='user', content='Write a limerick about python')\n",
        "]"
      ],
      "metadata": {
        "id": "lb99grFWYlXs"
      },
      "execution_count": 40,
      "outputs": []
    },
    {
      "cell_type": "code",
      "source": [
        "resp = openai_llm.chat(messages=messages, n=5, top_p=0.9, temperature=0.9) # sync\n",
        "# resp = await llm.achat(messages=messages, n=5, top_p=0.9, temperature=0.9) # async"
      ],
      "metadata": {
        "id": "j6wZU__XzjW3"
      },
      "execution_count": 41,
      "outputs": []
    },
    {
      "cell_type": "code",
      "source": [
        "for c in resp.raw.choices:\n",
        "    print(c.message.content)\n",
        "    print('='*40)"
      ],
      "metadata": {
        "colab": {
          "base_uri": "https://localhost:8080/",
          "height": 512
        },
        "id": "I6NfMuS50bJy",
        "outputId": "5a0d54fb-3018-472e-a82b-58b58d8c3989"
      },
      "execution_count": 42,
      "outputs": [
        {
          "output_type": "display_data",
          "data": {
            "text/plain": [
              "In a land where the coders all thrive,  \n",
              "A snake in the code comes alive.  \n",
              "With syntax so neat,  \n",
              "It can't be beat,  \n",
              "Python makes all the projects survive!\n"
            ],
            "text/html": [
              "<pre style=\"white-space:pre;overflow-x:auto;line-height:normal;font-family:Menlo,'DejaVu Sans Mono',consolas,'Courier New',monospace\">In a land where the coders all thrive,  \n",
              "A snake in the code comes alive.  \n",
              "With syntax so neat,  \n",
              "It can't be beat,  \n",
              "Python makes all the projects survive!\n",
              "</pre>\n"
            ]
          },
          "metadata": {}
        },
        {
          "output_type": "display_data",
          "data": {
            "text/plain": [
              "========================================\n"
            ],
            "text/html": [
              "<pre style=\"white-space:pre;overflow-x:auto;line-height:normal;font-family:Menlo,'DejaVu Sans Mono',consolas,'Courier New',monospace\">========================================\n",
              "</pre>\n"
            ]
          },
          "metadata": {}
        },
        {
          "output_type": "display_data",
          "data": {
            "text/plain": [
              "In a world where code's all the rage,  \n",
              "Python's scripts take center stage.  \n",
              "With its syntax so neat,  \n",
              "Coding feels like a treat,  \n",
              "Unlocking new skills with each page!\n"
            ],
            "text/html": [
              "<pre style=\"white-space:pre;overflow-x:auto;line-height:normal;font-family:Menlo,'DejaVu Sans Mono',consolas,'Courier New',monospace\">In a world where code's all the rage,  \n",
              "Python's scripts take center stage.  \n",
              "With its syntax so neat,  \n",
              "Coding feels like a treat,  \n",
              "Unlocking new skills with each page!\n",
              "</pre>\n"
            ]
          },
          "metadata": {}
        },
        {
          "output_type": "display_data",
          "data": {
            "text/plain": [
              "========================================\n"
            ],
            "text/html": [
              "<pre style=\"white-space:pre;overflow-x:auto;line-height:normal;font-family:Menlo,'DejaVu Sans Mono',consolas,'Courier New',monospace\">========================================\n",
              "</pre>\n"
            ]
          },
          "metadata": {}
        },
        {
          "output_type": "display_data",
          "data": {
            "text/plain": [
              "In a land where the code flows like wine,  \n",
              "Python's syntax is simple and fine.  \n",
              "With its libraries vast,  \n",
              "And its speed unsurpassed,  \n",
              "It makes programming feel quite divine!\n"
            ],
            "text/html": [
              "<pre style=\"white-space:pre;overflow-x:auto;line-height:normal;font-family:Menlo,'DejaVu Sans Mono',consolas,'Courier New',monospace\">In a land where the code flows like wine,  \n",
              "Python's syntax is simple and fine.  \n",
              "With its libraries vast,  \n",
              "And its speed unsurpassed,  \n",
              "It makes programming feel quite divine!\n",
              "</pre>\n"
            ]
          },
          "metadata": {}
        },
        {
          "output_type": "display_data",
          "data": {
            "text/plain": [
              "========================================\n"
            ],
            "text/html": [
              "<pre style=\"white-space:pre;overflow-x:auto;line-height:normal;font-family:Menlo,'DejaVu Sans Mono',consolas,'Courier New',monospace\">========================================\n",
              "</pre>\n"
            ]
          },
          "metadata": {}
        },
        {
          "output_type": "display_data",
          "data": {
            "text/plain": [
              "In a land where the coders unite,  \n",
              "Python’s charm is a wonderful sight.  \n",
              "With its syntax so clear,  \n",
              "And its libraries near,  \n",
              "It makes programming feel just right!\n"
            ],
            "text/html": [
              "<pre style=\"white-space:pre;overflow-x:auto;line-height:normal;font-family:Menlo,'DejaVu Sans Mono',consolas,'Courier New',monospace\">In a land where the coders unite,  \n",
              "Python’s charm is a wonderful sight.  \n",
              "With its syntax so clear,  \n",
              "And its libraries near,  \n",
              "It makes programming feel just right!\n",
              "</pre>\n"
            ]
          },
          "metadata": {}
        },
        {
          "output_type": "display_data",
          "data": {
            "text/plain": [
              "========================================\n"
            ],
            "text/html": [
              "<pre style=\"white-space:pre;overflow-x:auto;line-height:normal;font-family:Menlo,'DejaVu Sans Mono',consolas,'Courier New',monospace\">========================================\n",
              "</pre>\n"
            ]
          },
          "metadata": {}
        },
        {
          "output_type": "display_data",
          "data": {
            "text/plain": [
              "In the land of code, sleek and bright,  \n",
              "Python’s syntax brings pure delight.  \n",
              "With its functions and loops,  \n",
              "It connects all the groups,  \n",
              "Making programming feel just right!\n"
            ],
            "text/html": [
              "<pre style=\"white-space:pre;overflow-x:auto;line-height:normal;font-family:Menlo,'DejaVu Sans Mono',consolas,'Courier New',monospace\">In the land of code, sleek and bright,  \n",
              "Python’s syntax brings pure delight.  \n",
              "With its functions and loops,  \n",
              "It connects all the groups,  \n",
              "Making programming feel just right!\n",
              "</pre>\n"
            ]
          },
          "metadata": {}
        },
        {
          "output_type": "display_data",
          "data": {
            "text/plain": [
              "========================================\n"
            ],
            "text/html": [
              "<pre style=\"white-space:pre;overflow-x:auto;line-height:normal;font-family:Menlo,'DejaVu Sans Mono',consolas,'Courier New',monospace\">========================================\n",
              "</pre>\n"
            ]
          },
          "metadata": {}
        }
      ]
    },
    {
      "cell_type": "markdown",
      "source": [
        "## Generate structured outputs\n",
        "\n",
        "Structured outputs are much the same - you define a `pydantic` object, and instruct the LLM to generate that object.\n",
        "Here, we're going to get a bit more complex with the pydantic objects we're creating."
      ],
      "metadata": {
        "id": "BJCew0q_i0EF"
      }
    },
    {
      "cell_type": "code",
      "source": [
        "class Person(BaseModel):\n",
        "    name: str = Field(..., description=\"Name of the person\")\n",
        "    age: int = Field(..., description=\"Age of the person\", ge=1, le=100)\n",
        "\n",
        "class People(BaseModel):\n",
        "    people: List[Person] = Field(..., description=\"List of people\")\n",
        "\n",
        "message = ChatMessage.from_str('Please create 3 people')\n",
        "\n",
        "structured_llm = openai_llm.as_structured_llm(output_cls=People)\n",
        "\n",
        "structured_output = structured_llm.chat([message])"
      ],
      "metadata": {
        "id": "GbeESBPHVPCH"
      },
      "execution_count": 43,
      "outputs": []
    },
    {
      "cell_type": "code",
      "source": [
        "structured_output.raw"
      ],
      "metadata": {
        "colab": {
          "base_uri": "https://localhost:8080/"
        },
        "id": "RScymx88g_t2",
        "outputId": "ebac864e-a19c-4e29-f8a0-49abfe5ada09"
      },
      "execution_count": 44,
      "outputs": [
        {
          "output_type": "execute_result",
          "data": {
            "text/plain": [
              "People(people=[Person(name='Alice', age=30), Person(name='Bob', age=25), Person(name='Charlie', age=35)])"
            ]
          },
          "metadata": {},
          "execution_count": 44
        }
      ]
    },
    {
      "cell_type": "markdown",
      "source": [
        "## Call functions\n",
        "\n",
        "Calling functions can also be easier with frameworks.\n",
        "If you still want to use tools like `litellm`, high-level frameworks can still make life a bit easier by creating that nasty function json for you.\n",
        "You can also use them to call functions.\n",
        "Tomorrow when we work with agents, we will be using even more advanced function calling usage."
      ],
      "metadata": {
        "id": "XIXeHhXuiYfe"
      }
    },
    {
      "cell_type": "code",
      "source": [
        "def get_stock_data(\n",
        "        symbols:Union[str, List[str]] = Field(..., description=\"Symbol or list of symbols\"),\n",
        "        start_date:Optional[str] = Field(default=str(date.today() - timedelta(days=7)), description=\"Start date in YYYY-MM-DD format. Should be at least 1 day before the end_date.\"),\n",
        "        end_date:Optional[str] = Field(default=str(date.today()), description=\"End date in YYYY-MM-DD format\")\n",
        "):\n",
        "    \"\"\"\n",
        "    Get historical stock data for a symbol or list of symbols. Returns markdown table.\n",
        "\n",
        "    Args:\n",
        "        symbols (Union[str, List[str]]): Symbol or list of symbols to get data for.\n",
        "        start_date (Optional[str], optional): Start date in YYYY-MM-DD format. Defaults to 7 days before today. Must be at least 1 day before end_date.\n",
        "        end_date (Optional[str], optional): End date in YYYY-MM-DD format. Defaults to today. Must be at least 1 day after start_date.\n",
        "    \"\"\"\n",
        "    result = yf.download(symbols, start=start_date, end=end_date)\n",
        "    return result.to_markdown()"
      ],
      "metadata": {
        "id": "tLCGeS-Fi6bp"
      },
      "execution_count": 45,
      "outputs": []
    },
    {
      "cell_type": "code",
      "source": [
        "llama_index_function = FunctionTool.from_defaults(fn=get_stock_data)"
      ],
      "metadata": {
        "id": "a5YaRX3TOjC4"
      },
      "execution_count": 46,
      "outputs": []
    },
    {
      "cell_type": "code",
      "source": [
        "llama_index_function.metadata.to_openai_tool()"
      ],
      "metadata": {
        "colab": {
          "base_uri": "https://localhost:8080/"
        },
        "id": "34JOnGQwOlGS",
        "outputId": "8760de96-dddf-4b1b-caea-907a61b8d20a"
      },
      "execution_count": 47,
      "outputs": [
        {
          "output_type": "execute_result",
          "data": {
            "text/plain": [
              "{'type': 'function',\n",
              " 'function': {'name': 'get_stock_data',\n",
              "  'description': \"get_stock_data(symbols: Union[str, List[str]] = FieldInfo(annotation=NoneType, required=True, description='Symbol or list of symbols'), start_date: Optional[str] = FieldInfo(annotation=NoneType, required=False, default='2024-10-01', description='Start date in YYYY-MM-DD format. Should be at least 1 day before the end_date.'), end_date: Optional[str] = FieldInfo(annotation=NoneType, required=False, default='2024-10-08', description='End date in YYYY-MM-DD format'))\\n\\n    Get historical stock data for a symbol or list of symbols. Returns markdown table.\\n\\n    Args:\\n        symbols (Union[str, List[str]]): Symbol or list of symbols to get data for.\\n        start_date (Optional[str], optional): Start date in YYYY-MM-DD format. Defaults to 7 days before today. Must be at least 1 day before end_date.\\n        end_date (Optional[str], optional): End date in YYYY-MM-DD format. Defaults to today. Must be at least 1 day after start_date.\\n    \",\n",
              "  'parameters': {'properties': {'symbols': {'anyOf': [{'type': 'string'},\n",
              "      {'items': {'type': 'string'}, 'type': 'array'}],\n",
              "     'description': 'Symbol or list of symbols',\n",
              "     'title': 'Symbols'},\n",
              "    'start_date': {'anyOf': [{'type': 'string'}, {'type': 'null'}],\n",
              "     'default': '2024-10-01',\n",
              "     'description': 'Start date in YYYY-MM-DD format. Should be at least 1 day before the end_date.',\n",
              "     'title': 'Start Date'},\n",
              "    'end_date': {'anyOf': [{'type': 'string'}, {'type': 'null'}],\n",
              "     'default': '2024-10-08',\n",
              "     'description': 'End date in YYYY-MM-DD format',\n",
              "     'title': 'End Date'}},\n",
              "   'required': ['symbols'],\n",
              "   'type': 'object'}}}"
            ]
          },
          "metadata": {},
          "execution_count": 47
        }
      ]
    },
    {
      "cell_type": "code",
      "source": [
        "message = ChatMessage.from_str(f\"What's the most recent week's high and low for MSFT? Today's date is {date.today()}.\")\n",
        "resp = openai_llm.chat_with_tools([llama_index_function], user_msg=message)"
      ],
      "metadata": {
        "id": "bIWvFo4MOtev"
      },
      "execution_count": 48,
      "outputs": []
    },
    {
      "cell_type": "code",
      "source": [
        "print(resp)"
      ],
      "metadata": {
        "colab": {
          "base_uri": "https://localhost:8080/",
          "height": 991
        },
        "id": "munQLf83QlSB",
        "outputId": "0d76d32b-9565-4ddf-83e5-f275f5810722"
      },
      "execution_count": 49,
      "outputs": [
        {
          "output_type": "display_data",
          "data": {
            "text/plain": [
              "\u001b[1;35mChatResponse\u001b[0m\u001b[1m(\u001b[0m\n",
              "    \u001b[33mmessage\u001b[0m=\u001b[1;35mChatMessage\u001b[0m\u001b[1m(\u001b[0m\n",
              "        \u001b[33mrole\u001b[0m=\u001b[1m<\u001b[0m\u001b[1;95mMessageRole.ASSISTANT:\u001b[0m\u001b[39m \u001b[0m\u001b[32m'assistant'\u001b[0m\u001b[1m>\u001b[0m,\n",
              "        \u001b[33mcontent\u001b[0m=\u001b[3;35mNone\u001b[0m,\n",
              "        \u001b[33madditional_kwargs\u001b[0m=\u001b[1m{\u001b[0m\n",
              "            \u001b[32m'tool_calls'\u001b[0m: \u001b[1m[\u001b[0m\n",
              "                \u001b[1;35mChatCompletionMessageToolCall\u001b[0m\u001b[1m(\u001b[0m\n",
              "                    \u001b[33mid\u001b[0m=\u001b[32m'call_CmlNFEv7mAg4lrVvhUYvkWTf'\u001b[0m,\n",
              "                    \u001b[33mfunction\u001b[0m=\u001b[1;35mFunction\u001b[0m\u001b[1m(\u001b[0m\n",
              "                        \u001b[33marguments\u001b[0m=\u001b[32m'\u001b[0m\u001b[32m{\u001b[0m\u001b[32m\"symbols\":\"MSFT\",\"start_date\":\"2024-10-01\",\"end_date\":\"2024-10-08\"\u001b[0m\u001b[32m}\u001b[0m\u001b[32m'\u001b[0m,\n",
              "                        \u001b[33mname\u001b[0m=\u001b[32m'get_stock_data'\u001b[0m\n",
              "                    \u001b[1m)\u001b[0m,\n",
              "                    \u001b[33mtype\u001b[0m=\u001b[32m'function'\u001b[0m\n",
              "                \u001b[1m)\u001b[0m\n",
              "            \u001b[1m]\u001b[0m\n",
              "        \u001b[1m}\u001b[0m\n",
              "    \u001b[1m)\u001b[0m,\n",
              "    \u001b[33mraw\u001b[0m=\u001b[1;35mChatCompletion\u001b[0m\u001b[1m(\u001b[0m\n",
              "        \u001b[33mid\u001b[0m=\u001b[32m'chatcmpl-AFwCVtdzHssSgYoSvliIYOImHOaaH'\u001b[0m,\n",
              "        \u001b[33mchoices\u001b[0m=\u001b[1m[\u001b[0m\n",
              "            \u001b[1;35mChoice\u001b[0m\u001b[1m(\u001b[0m\n",
              "                \u001b[33mfinish_reason\u001b[0m=\u001b[32m'tool_calls'\u001b[0m,\n",
              "                \u001b[33mindex\u001b[0m=\u001b[1;36m0\u001b[0m,\n",
              "                \u001b[33mlogprobs\u001b[0m=\u001b[3;35mNone\u001b[0m,\n",
              "                \u001b[33mmessage\u001b[0m=\u001b[1;35mChatCompletionMessage\u001b[0m\u001b[1m(\u001b[0m\n",
              "                    \u001b[33mcontent\u001b[0m=\u001b[3;35mNone\u001b[0m,\n",
              "                    \u001b[33mrefusal\u001b[0m=\u001b[3;35mNone\u001b[0m,\n",
              "                    \u001b[33mrole\u001b[0m=\u001b[32m'assistant'\u001b[0m,\n",
              "                    \u001b[33mfunction_call\u001b[0m=\u001b[3;35mNone\u001b[0m,\n",
              "                    \u001b[33mtool_calls\u001b[0m=\u001b[1m[\u001b[0m\n",
              "                        \u001b[1;35mChatCompletionMessageToolCall\u001b[0m\u001b[1m(\u001b[0m\n",
              "                            \u001b[33mid\u001b[0m=\u001b[32m'call_CmlNFEv7mAg4lrVvhUYvkWTf'\u001b[0m,\n",
              "                            \u001b[33mfunction\u001b[0m=\u001b[1;35mFunction\u001b[0m\u001b[1m(\u001b[0m\n",
              "                                \u001b[33marguments\u001b[0m=\u001b[32m'\u001b[0m\u001b[32m{\u001b[0m\u001b[32m\"symbols\":\"MSFT\",\"start_date\":\"2024-10-01\",\"end_date\":\"2024-10-08\"\u001b[0m\u001b[32m}\u001b[0m\u001b[32m'\u001b[0m,\n",
              "                                \u001b[33mname\u001b[0m=\u001b[32m'get_stock_data'\u001b[0m\n",
              "                            \u001b[1m)\u001b[0m,\n",
              "                            \u001b[33mtype\u001b[0m=\u001b[32m'function'\u001b[0m\n",
              "                        \u001b[1m)\u001b[0m\n",
              "                    \u001b[1m]\u001b[0m\n",
              "                \u001b[1m)\u001b[0m\n",
              "            \u001b[1m)\u001b[0m\n",
              "        \u001b[1m]\u001b[0m,\n",
              "        \u001b[33mcreated\u001b[0m=\u001b[1;36m1728362007\u001b[0m,\n",
              "        \u001b[33mmodel\u001b[0m=\u001b[32m'gpt-4o-mini-2024-07-18'\u001b[0m,\n",
              "        \u001b[33mobject\u001b[0m=\u001b[32m'chat.completion'\u001b[0m,\n",
              "        \u001b[33mservice_tier\u001b[0m=\u001b[3;35mNone\u001b[0m,\n",
              "        \u001b[33msystem_fingerprint\u001b[0m=\u001b[32m'fp_f85bea6784'\u001b[0m,\n",
              "        \u001b[33musage\u001b[0m=\u001b[1;35mCompletionUsage\u001b[0m\u001b[1m(\u001b[0m\n",
              "            \u001b[33mcompletion_tokens\u001b[0m=\u001b[1;36m36\u001b[0m,\n",
              "            \u001b[33mprompt_tokens\u001b[0m=\u001b[1;36m363\u001b[0m,\n",
              "            \u001b[33mtotal_tokens\u001b[0m=\u001b[1;36m399\u001b[0m,\n",
              "            \u001b[33mcompletion_tokens_details\u001b[0m=\u001b[1;35mCompletionTokensDetails\u001b[0m\u001b[1m(\u001b[0m\u001b[33maudio_tokens\u001b[0m=\u001b[3;35mNone\u001b[0m, \u001b[33mreasoning_tokens\u001b[0m=\u001b[1;36m0\u001b[0m\u001b[1m)\u001b[0m,\n",
              "            \u001b[33mprompt_tokens_details\u001b[0m=\u001b[1;35mPromptTokensDetails\u001b[0m\u001b[1m(\u001b[0m\u001b[33maudio_tokens\u001b[0m=\u001b[3;35mNone\u001b[0m, \u001b[33mcached_tokens\u001b[0m=\u001b[1;36m0\u001b[0m\u001b[1m)\u001b[0m\n",
              "        \u001b[1m)\u001b[0m\n",
              "    \u001b[1m)\u001b[0m,\n",
              "    \u001b[33mdelta\u001b[0m=\u001b[3;35mNone\u001b[0m,\n",
              "    \u001b[33mlogprobs\u001b[0m=\u001b[3;35mNone\u001b[0m,\n",
              "    \u001b[33madditional_kwargs\u001b[0m=\u001b[1m{\u001b[0m\u001b[32m'prompt_tokens'\u001b[0m: \u001b[1;36m363\u001b[0m, \u001b[32m'completion_tokens'\u001b[0m: \u001b[1;36m36\u001b[0m, \u001b[32m'total_tokens'\u001b[0m: \u001b[1;36m399\u001b[0m\u001b[1m}\u001b[0m\n",
              "\u001b[1m)\u001b[0m\n"
            ],
            "text/html": [
              "<pre style=\"white-space:pre;overflow-x:auto;line-height:normal;font-family:Menlo,'DejaVu Sans Mono',consolas,'Courier New',monospace\"><span style=\"color: #800080; text-decoration-color: #800080; font-weight: bold\">ChatResponse</span><span style=\"font-weight: bold\">(</span>\n",
              "    <span style=\"color: #808000; text-decoration-color: #808000\">message</span>=<span style=\"color: #800080; text-decoration-color: #800080; font-weight: bold\">ChatMessage</span><span style=\"font-weight: bold\">(</span>\n",
              "        <span style=\"color: #808000; text-decoration-color: #808000\">role</span>=<span style=\"font-weight: bold\">&lt;</span><span style=\"color: #ff00ff; text-decoration-color: #ff00ff; font-weight: bold\">MessageRole.ASSISTANT:</span><span style=\"color: #000000; text-decoration-color: #000000\"> </span><span style=\"color: #008000; text-decoration-color: #008000\">'assistant'</span><span style=\"font-weight: bold\">&gt;</span>,\n",
              "        <span style=\"color: #808000; text-decoration-color: #808000\">content</span>=<span style=\"color: #800080; text-decoration-color: #800080; font-style: italic\">None</span>,\n",
              "        <span style=\"color: #808000; text-decoration-color: #808000\">additional_kwargs</span>=<span style=\"font-weight: bold\">{</span>\n",
              "            <span style=\"color: #008000; text-decoration-color: #008000\">'tool_calls'</span>: <span style=\"font-weight: bold\">[</span>\n",
              "                <span style=\"color: #800080; text-decoration-color: #800080; font-weight: bold\">ChatCompletionMessageToolCall</span><span style=\"font-weight: bold\">(</span>\n",
              "                    <span style=\"color: #808000; text-decoration-color: #808000\">id</span>=<span style=\"color: #008000; text-decoration-color: #008000\">'call_CmlNFEv7mAg4lrVvhUYvkWTf'</span>,\n",
              "                    <span style=\"color: #808000; text-decoration-color: #808000\">function</span>=<span style=\"color: #800080; text-decoration-color: #800080; font-weight: bold\">Function</span><span style=\"font-weight: bold\">(</span>\n",
              "                        <span style=\"color: #808000; text-decoration-color: #808000\">arguments</span>=<span style=\"color: #008000; text-decoration-color: #008000\">'{\"symbols\":\"MSFT\",\"start_date\":\"2024-10-01\",\"end_date\":\"2024-10-08\"}'</span>,\n",
              "                        <span style=\"color: #808000; text-decoration-color: #808000\">name</span>=<span style=\"color: #008000; text-decoration-color: #008000\">'get_stock_data'</span>\n",
              "                    <span style=\"font-weight: bold\">)</span>,\n",
              "                    <span style=\"color: #808000; text-decoration-color: #808000\">type</span>=<span style=\"color: #008000; text-decoration-color: #008000\">'function'</span>\n",
              "                <span style=\"font-weight: bold\">)</span>\n",
              "            <span style=\"font-weight: bold\">]</span>\n",
              "        <span style=\"font-weight: bold\">}</span>\n",
              "    <span style=\"font-weight: bold\">)</span>,\n",
              "    <span style=\"color: #808000; text-decoration-color: #808000\">raw</span>=<span style=\"color: #800080; text-decoration-color: #800080; font-weight: bold\">ChatCompletion</span><span style=\"font-weight: bold\">(</span>\n",
              "        <span style=\"color: #808000; text-decoration-color: #808000\">id</span>=<span style=\"color: #008000; text-decoration-color: #008000\">'chatcmpl-AFwCVtdzHssSgYoSvliIYOImHOaaH'</span>,\n",
              "        <span style=\"color: #808000; text-decoration-color: #808000\">choices</span>=<span style=\"font-weight: bold\">[</span>\n",
              "            <span style=\"color: #800080; text-decoration-color: #800080; font-weight: bold\">Choice</span><span style=\"font-weight: bold\">(</span>\n",
              "                <span style=\"color: #808000; text-decoration-color: #808000\">finish_reason</span>=<span style=\"color: #008000; text-decoration-color: #008000\">'tool_calls'</span>,\n",
              "                <span style=\"color: #808000; text-decoration-color: #808000\">index</span>=<span style=\"color: #008080; text-decoration-color: #008080; font-weight: bold\">0</span>,\n",
              "                <span style=\"color: #808000; text-decoration-color: #808000\">logprobs</span>=<span style=\"color: #800080; text-decoration-color: #800080; font-style: italic\">None</span>,\n",
              "                <span style=\"color: #808000; text-decoration-color: #808000\">message</span>=<span style=\"color: #800080; text-decoration-color: #800080; font-weight: bold\">ChatCompletionMessage</span><span style=\"font-weight: bold\">(</span>\n",
              "                    <span style=\"color: #808000; text-decoration-color: #808000\">content</span>=<span style=\"color: #800080; text-decoration-color: #800080; font-style: italic\">None</span>,\n",
              "                    <span style=\"color: #808000; text-decoration-color: #808000\">refusal</span>=<span style=\"color: #800080; text-decoration-color: #800080; font-style: italic\">None</span>,\n",
              "                    <span style=\"color: #808000; text-decoration-color: #808000\">role</span>=<span style=\"color: #008000; text-decoration-color: #008000\">'assistant'</span>,\n",
              "                    <span style=\"color: #808000; text-decoration-color: #808000\">function_call</span>=<span style=\"color: #800080; text-decoration-color: #800080; font-style: italic\">None</span>,\n",
              "                    <span style=\"color: #808000; text-decoration-color: #808000\">tool_calls</span>=<span style=\"font-weight: bold\">[</span>\n",
              "                        <span style=\"color: #800080; text-decoration-color: #800080; font-weight: bold\">ChatCompletionMessageToolCall</span><span style=\"font-weight: bold\">(</span>\n",
              "                            <span style=\"color: #808000; text-decoration-color: #808000\">id</span>=<span style=\"color: #008000; text-decoration-color: #008000\">'call_CmlNFEv7mAg4lrVvhUYvkWTf'</span>,\n",
              "                            <span style=\"color: #808000; text-decoration-color: #808000\">function</span>=<span style=\"color: #800080; text-decoration-color: #800080; font-weight: bold\">Function</span><span style=\"font-weight: bold\">(</span>\n",
              "                                <span style=\"color: #808000; text-decoration-color: #808000\">arguments</span>=<span style=\"color: #008000; text-decoration-color: #008000\">'{\"symbols\":\"MSFT\",\"start_date\":\"2024-10-01\",\"end_date\":\"2024-10-08\"}'</span>,\n",
              "                                <span style=\"color: #808000; text-decoration-color: #808000\">name</span>=<span style=\"color: #008000; text-decoration-color: #008000\">'get_stock_data'</span>\n",
              "                            <span style=\"font-weight: bold\">)</span>,\n",
              "                            <span style=\"color: #808000; text-decoration-color: #808000\">type</span>=<span style=\"color: #008000; text-decoration-color: #008000\">'function'</span>\n",
              "                        <span style=\"font-weight: bold\">)</span>\n",
              "                    <span style=\"font-weight: bold\">]</span>\n",
              "                <span style=\"font-weight: bold\">)</span>\n",
              "            <span style=\"font-weight: bold\">)</span>\n",
              "        <span style=\"font-weight: bold\">]</span>,\n",
              "        <span style=\"color: #808000; text-decoration-color: #808000\">created</span>=<span style=\"color: #008080; text-decoration-color: #008080; font-weight: bold\">1728362007</span>,\n",
              "        <span style=\"color: #808000; text-decoration-color: #808000\">model</span>=<span style=\"color: #008000; text-decoration-color: #008000\">'gpt-4o-mini-2024-07-18'</span>,\n",
              "        <span style=\"color: #808000; text-decoration-color: #808000\">object</span>=<span style=\"color: #008000; text-decoration-color: #008000\">'chat.completion'</span>,\n",
              "        <span style=\"color: #808000; text-decoration-color: #808000\">service_tier</span>=<span style=\"color: #800080; text-decoration-color: #800080; font-style: italic\">None</span>,\n",
              "        <span style=\"color: #808000; text-decoration-color: #808000\">system_fingerprint</span>=<span style=\"color: #008000; text-decoration-color: #008000\">'fp_f85bea6784'</span>,\n",
              "        <span style=\"color: #808000; text-decoration-color: #808000\">usage</span>=<span style=\"color: #800080; text-decoration-color: #800080; font-weight: bold\">CompletionUsage</span><span style=\"font-weight: bold\">(</span>\n",
              "            <span style=\"color: #808000; text-decoration-color: #808000\">completion_tokens</span>=<span style=\"color: #008080; text-decoration-color: #008080; font-weight: bold\">36</span>,\n",
              "            <span style=\"color: #808000; text-decoration-color: #808000\">prompt_tokens</span>=<span style=\"color: #008080; text-decoration-color: #008080; font-weight: bold\">363</span>,\n",
              "            <span style=\"color: #808000; text-decoration-color: #808000\">total_tokens</span>=<span style=\"color: #008080; text-decoration-color: #008080; font-weight: bold\">399</span>,\n",
              "            <span style=\"color: #808000; text-decoration-color: #808000\">completion_tokens_details</span>=<span style=\"color: #800080; text-decoration-color: #800080; font-weight: bold\">CompletionTokensDetails</span><span style=\"font-weight: bold\">(</span><span style=\"color: #808000; text-decoration-color: #808000\">audio_tokens</span>=<span style=\"color: #800080; text-decoration-color: #800080; font-style: italic\">None</span>, <span style=\"color: #808000; text-decoration-color: #808000\">reasoning_tokens</span>=<span style=\"color: #008080; text-decoration-color: #008080; font-weight: bold\">0</span><span style=\"font-weight: bold\">)</span>,\n",
              "            <span style=\"color: #808000; text-decoration-color: #808000\">prompt_tokens_details</span>=<span style=\"color: #800080; text-decoration-color: #800080; font-weight: bold\">PromptTokensDetails</span><span style=\"font-weight: bold\">(</span><span style=\"color: #808000; text-decoration-color: #808000\">audio_tokens</span>=<span style=\"color: #800080; text-decoration-color: #800080; font-style: italic\">None</span>, <span style=\"color: #808000; text-decoration-color: #808000\">cached_tokens</span>=<span style=\"color: #008080; text-decoration-color: #008080; font-weight: bold\">0</span><span style=\"font-weight: bold\">)</span>\n",
              "        <span style=\"font-weight: bold\">)</span>\n",
              "    <span style=\"font-weight: bold\">)</span>,\n",
              "    <span style=\"color: #808000; text-decoration-color: #808000\">delta</span>=<span style=\"color: #800080; text-decoration-color: #800080; font-style: italic\">None</span>,\n",
              "    <span style=\"color: #808000; text-decoration-color: #808000\">logprobs</span>=<span style=\"color: #800080; text-decoration-color: #800080; font-style: italic\">None</span>,\n",
              "    <span style=\"color: #808000; text-decoration-color: #808000\">additional_kwargs</span>=<span style=\"font-weight: bold\">{</span><span style=\"color: #008000; text-decoration-color: #008000\">'prompt_tokens'</span>: <span style=\"color: #008080; text-decoration-color: #008080; font-weight: bold\">363</span>, <span style=\"color: #008000; text-decoration-color: #008000\">'completion_tokens'</span>: <span style=\"color: #008080; text-decoration-color: #008080; font-weight: bold\">36</span>, <span style=\"color: #008000; text-decoration-color: #008000\">'total_tokens'</span>: <span style=\"color: #008080; text-decoration-color: #008080; font-weight: bold\">399</span><span style=\"font-weight: bold\">}</span>\n",
              "<span style=\"font-weight: bold\">)</span>\n",
              "</pre>\n"
            ]
          },
          "metadata": {}
        }
      ]
    },
    {
      "cell_type": "code",
      "source": [
        "fn_args = json.loads(resp.raw.choices[0].message.tool_calls[0].function.arguments)\n",
        "fn_args"
      ],
      "metadata": {
        "colab": {
          "base_uri": "https://localhost:8080/"
        },
        "id": "frOfG0HNPWcl",
        "outputId": "7250abd2-345b-4194-c8de-c84c496b9e45"
      },
      "execution_count": 50,
      "outputs": [
        {
          "output_type": "execute_result",
          "data": {
            "text/plain": [
              "{'symbols': 'MSFT', 'start_date': '2024-10-01', 'end_date': '2024-10-08'}"
            ]
          },
          "metadata": {},
          "execution_count": 50
        }
      ]
    },
    {
      "cell_type": "code",
      "source": [
        "display(Markdown(get_stock_data(**fn_args)))"
      ],
      "metadata": {
        "colab": {
          "base_uri": "https://localhost:8080/",
          "height": 224
        },
        "id": "PwtNjuVFQETp",
        "outputId": "c3f6a68c-fc30-4d98-935e-f9e4647e3584"
      },
      "execution_count": 51,
      "outputs": [
        {
          "output_type": "stream",
          "name": "stderr",
          "text": [
            "\r[*********************100%***********************]  1 of 1 completed\n"
          ]
        },
        {
          "output_type": "display_data",
          "data": {
            "text/plain": [
              "<IPython.core.display.Markdown object>"
            ],
            "text/markdown": "| Date                |   Open |   High |    Low |   Close |   Adj Close |      Volume |\n|:--------------------|-------:|-------:|-------:|--------:|------------:|------------:|\n| 2024-10-01 00:00:00 | 428.45 | 428.48 | 418.81 |  420.69 |      420.69 | 1.90929e+07 |\n| 2024-10-02 00:00:00 | 422.58 | 422.82 | 416.71 |  417.13 |      417.13 | 1.65823e+07 |\n| 2024-10-03 00:00:00 | 417.63 | 419.55 | 414.29 |  416.54 |      416.54 | 1.36864e+07 |\n| 2024-10-04 00:00:00 | 418.24 | 419.75 | 414.97 |  416.06 |      416.06 | 1.91697e+07 |\n| 2024-10-07 00:00:00 | 416    | 417.11 | 409    |  409.54 |      409.54 | 2.07616e+07 |"
          },
          "metadata": {}
        }
      ]
    },
    {
      "cell_type": "markdown",
      "source": [
        "# Practicum: Generate an ecommerce DB\n",
        "\n",
        "### Problem statement:\n",
        "\n",
        "You are helping an immaginary online retailer build an customer support agent.\n",
        "But they don't want to share any of their data with you, only the schema of their database.\n",
        "We need to create some reasonable data for a proof of concept.\n",
        "Over the next several days, we will be using this data to build a customer support agent.\n",
        "\n",
        "\n",
        "### Generating the data\n",
        "\n",
        "Use what you've learned about generating structured data to help fill the following tables.\n",
        "When we're done, your database should contain:\n",
        "* Generate 10-20 customers in the `customers` table\n",
        "* Generate 50 products in the `items` table\n",
        "* A purchase history for each customer ranging from 1 to 10 items in the `orders` table\n",
        "\n",
        "Remember to think critically about what the llm *should* and *should not* generate.\n",
        "One example is IDs - we've gone ahead and created database tables with auto-incrementing IDs.\n",
        "\n",
        "Below, we have code to create the tables, as well as an example of how to add data to the tables using `df.to_sql`."
      ],
      "metadata": {
        "id": "eoez9OrRREqf"
      }
    },
    {
      "cell_type": "code",
      "source": [
        "import sqlite3\n",
        "from sqlalchemy import create_engine"
      ],
      "metadata": {
        "id": "ok042MwHTRSB"
      },
      "execution_count": 52,
      "outputs": []
    },
    {
      "cell_type": "code",
      "source": [
        "def create_tables():\n",
        "    if os.path.exists('ecommerce.db'):\n",
        "        os.remove('ecommerce.db')\n",
        "    conn = sqlite3.connect('ecommerce.db')\n",
        "    cursor = conn.cursor()\n",
        "\n",
        "    # Create Customers Table\n",
        "    cursor.execute(\"\"\"\n",
        "        CREATE TABLE IF NOT EXISTS customers (\n",
        "            customer_id INTEGER PRIMARY KEY AUTOINCREMENT,\n",
        "            name TEXT NOT NULL,\n",
        "            email TEXT UNIQUE NOT NULL,\n",
        "            phone TEXT,\n",
        "            street_address TEXT,\n",
        "            city TEXT,\n",
        "            state TEXT,\n",
        "            zip_code TEXT,\n",
        "            country TEXT,\n",
        "            account_status TEXT,\n",
        "            pin TEXT\n",
        "        );\n",
        "    \"\"\")\n",
        "\n",
        "    # Create Items Table\n",
        "    cursor.execute(\"\"\"\n",
        "        CREATE TABLE IF NOT EXISTS items (\n",
        "            item_id INTEGER PRIMARY KEY AUTOINCREMENT,\n",
        "            name TEXT NOT NULL,\n",
        "            description TEXT,\n",
        "            price REAL NOT NULL,\n",
        "            quantity INTEGER NOT NULL\n",
        "        );\n",
        "    \"\"\")\n",
        "\n",
        "    # Create Orders Table\n",
        "    cursor.execute(\"\"\"\n",
        "        CREATE TABLE IF NOT EXISTS orders (\n",
        "            order_id INTEGER PRIMARY KEY AUTOINCREMENT,\n",
        "            customer_id TEXT NOT NULL,\n",
        "            item_id TEXT NOT NULL,\n",
        "            status TEXT,\n",
        "            ordered_date TEXT,\n",
        "            estimated_delivery TEXT,\n",
        "            shipping_carrier TEXT,\n",
        "            tracking_number TEXT,\n",
        "            shipping_address TEXT,\n",
        "            FOREIGN KEY (customer_id) REFERENCES customers(customer_id),\n",
        "            FOREIGN KEY (item_id) REFERENCES items(item_id)\n",
        "        );\n",
        "    \"\"\")\n",
        "\n",
        "    conn.commit()\n",
        "    conn.close()\n",
        "    print(\"Tables created successfully.\")"
      ],
      "metadata": {
        "id": "iqDT_M2aTe4s"
      },
      "execution_count": 53,
      "outputs": []
    },
    {
      "cell_type": "code",
      "source": [
        "def query(sql:str) -> pd.DataFrame:\n",
        "    conn = sqlite3.connect('ecommerce.db')\n",
        "    cursor = conn.cursor()\n",
        "    cursor.execute(sql)\n",
        "    results = cursor.fetchall()\n",
        "    columns = [column[0] for column in cursor.description]\n",
        "    conn.close()\n",
        "    return pd.DataFrame(results, columns=columns)\n",
        "\n",
        "def execute(sql:str) -> None:\n",
        "    conn = sqlite3.connect('ecommerce.db')\n",
        "    cursor = conn.cursor()\n",
        "    cursor.execute(sql)\n",
        "    conn.commit()\n",
        "    conn.close()"
      ],
      "metadata": {
        "id": "n6XIeHzPUGPZ"
      },
      "execution_count": 54,
      "outputs": []
    },
    {
      "cell_type": "code",
      "source": [
        "create_tables()\n",
        "engine = create_engine('sqlite:///ecommerce.db')\n",
        "one_customer = pd.DataFrame([\n",
        "    {\n",
        "        'name': 'mike',\n",
        "        'email': 'mike@gmail.com',\n",
        "        'phone': '555-555-5555',\n",
        "        'street_address': '123 Main St',\n",
        "        'city': 'Anytown',\n",
        "        'state': 'CA',\n",
        "        'zip_code': '12345',\n",
        "        'country': 'USA',\n",
        "        'account_status': 'active',\n",
        "        'pin': '1234'\n",
        "    }\n",
        "])\n",
        "\n",
        "one_customer.to_sql('customers', engine, if_exists='append', index=False)\n",
        "\n",
        "query('SELECT * FROM customers')"
      ],
      "metadata": {
        "colab": {
          "base_uri": "https://localhost:8080/",
          "height": 97
        },
        "id": "_Pb3Q6pSUY1h",
        "outputId": "19bc33e6-382a-4602-e5bc-13a5846c3fbe"
      },
      "execution_count": 55,
      "outputs": [
        {
          "output_type": "display_data",
          "data": {
            "text/plain": [
              "Tables created successfully.\n"
            ],
            "text/html": [
              "<pre style=\"white-space:pre;overflow-x:auto;line-height:normal;font-family:Menlo,'DejaVu Sans Mono',consolas,'Courier New',monospace\">Tables created successfully.\n",
              "</pre>\n"
            ]
          },
          "metadata": {}
        },
        {
          "output_type": "execute_result",
          "data": {
            "text/plain": [
              "   customer_id  name           email         phone street_address     city  \\\n",
              "0            1  mike  mike@gmail.com  555-555-5555    123 Main St  Anytown   \n",
              "\n",
              "  state zip_code country account_status   pin  \n",
              "0    CA    12345     USA         active  1234  "
            ],
            "text/html": [
              "\n",
              "  <div id=\"df-4d3e7104-a482-4ac6-af90-e1c5d012b1f9\" class=\"colab-df-container\">\n",
              "    <div>\n",
              "<style scoped>\n",
              "    .dataframe tbody tr th:only-of-type {\n",
              "        vertical-align: middle;\n",
              "    }\n",
              "\n",
              "    .dataframe tbody tr th {\n",
              "        vertical-align: top;\n",
              "    }\n",
              "\n",
              "    .dataframe thead th {\n",
              "        text-align: right;\n",
              "    }\n",
              "</style>\n",
              "<table border=\"1\" class=\"dataframe\">\n",
              "  <thead>\n",
              "    <tr style=\"text-align: right;\">\n",
              "      <th></th>\n",
              "      <th>customer_id</th>\n",
              "      <th>name</th>\n",
              "      <th>email</th>\n",
              "      <th>phone</th>\n",
              "      <th>street_address</th>\n",
              "      <th>city</th>\n",
              "      <th>state</th>\n",
              "      <th>zip_code</th>\n",
              "      <th>country</th>\n",
              "      <th>account_status</th>\n",
              "      <th>pin</th>\n",
              "    </tr>\n",
              "  </thead>\n",
              "  <tbody>\n",
              "    <tr>\n",
              "      <th>0</th>\n",
              "      <td>1</td>\n",
              "      <td>mike</td>\n",
              "      <td>mike@gmail.com</td>\n",
              "      <td>555-555-5555</td>\n",
              "      <td>123 Main St</td>\n",
              "      <td>Anytown</td>\n",
              "      <td>CA</td>\n",
              "      <td>12345</td>\n",
              "      <td>USA</td>\n",
              "      <td>active</td>\n",
              "      <td>1234</td>\n",
              "    </tr>\n",
              "  </tbody>\n",
              "</table>\n",
              "</div>\n",
              "    <div class=\"colab-df-buttons\">\n",
              "\n",
              "  <div class=\"colab-df-container\">\n",
              "    <button class=\"colab-df-convert\" onclick=\"convertToInteractive('df-4d3e7104-a482-4ac6-af90-e1c5d012b1f9')\"\n",
              "            title=\"Convert this dataframe to an interactive table.\"\n",
              "            style=\"display:none;\">\n",
              "\n",
              "  <svg xmlns=\"http://www.w3.org/2000/svg\" height=\"24px\" viewBox=\"0 -960 960 960\">\n",
              "    <path d=\"M120-120v-720h720v720H120Zm60-500h600v-160H180v160Zm220 220h160v-160H400v160Zm0 220h160v-160H400v160ZM180-400h160v-160H180v160Zm440 0h160v-160H620v160ZM180-180h160v-160H180v160Zm440 0h160v-160H620v160Z\"/>\n",
              "  </svg>\n",
              "    </button>\n",
              "\n",
              "  <style>\n",
              "    .colab-df-container {\n",
              "      display:flex;\n",
              "      gap: 12px;\n",
              "    }\n",
              "\n",
              "    .colab-df-convert {\n",
              "      background-color: #E8F0FE;\n",
              "      border: none;\n",
              "      border-radius: 50%;\n",
              "      cursor: pointer;\n",
              "      display: none;\n",
              "      fill: #1967D2;\n",
              "      height: 32px;\n",
              "      padding: 0 0 0 0;\n",
              "      width: 32px;\n",
              "    }\n",
              "\n",
              "    .colab-df-convert:hover {\n",
              "      background-color: #E2EBFA;\n",
              "      box-shadow: 0px 1px 2px rgba(60, 64, 67, 0.3), 0px 1px 3px 1px rgba(60, 64, 67, 0.15);\n",
              "      fill: #174EA6;\n",
              "    }\n",
              "\n",
              "    .colab-df-buttons div {\n",
              "      margin-bottom: 4px;\n",
              "    }\n",
              "\n",
              "    [theme=dark] .colab-df-convert {\n",
              "      background-color: #3B4455;\n",
              "      fill: #D2E3FC;\n",
              "    }\n",
              "\n",
              "    [theme=dark] .colab-df-convert:hover {\n",
              "      background-color: #434B5C;\n",
              "      box-shadow: 0px 1px 3px 1px rgba(0, 0, 0, 0.15);\n",
              "      filter: drop-shadow(0px 1px 2px rgba(0, 0, 0, 0.3));\n",
              "      fill: #FFFFFF;\n",
              "    }\n",
              "  </style>\n",
              "\n",
              "    <script>\n",
              "      const buttonEl =\n",
              "        document.querySelector('#df-4d3e7104-a482-4ac6-af90-e1c5d012b1f9 button.colab-df-convert');\n",
              "      buttonEl.style.display =\n",
              "        google.colab.kernel.accessAllowed ? 'block' : 'none';\n",
              "\n",
              "      async function convertToInteractive(key) {\n",
              "        const element = document.querySelector('#df-4d3e7104-a482-4ac6-af90-e1c5d012b1f9');\n",
              "        const dataTable =\n",
              "          await google.colab.kernel.invokeFunction('convertToInteractive',\n",
              "                                                    [key], {});\n",
              "        if (!dataTable) return;\n",
              "\n",
              "        const docLinkHtml = 'Like what you see? Visit the ' +\n",
              "          '<a target=\"_blank\" href=https://colab.research.google.com/notebooks/data_table.ipynb>data table notebook</a>'\n",
              "          + ' to learn more about interactive tables.';\n",
              "        element.innerHTML = '';\n",
              "        dataTable['output_type'] = 'display_data';\n",
              "        await google.colab.output.renderOutput(dataTable, element);\n",
              "        const docLink = document.createElement('div');\n",
              "        docLink.innerHTML = docLinkHtml;\n",
              "        element.appendChild(docLink);\n",
              "      }\n",
              "    </script>\n",
              "  </div>\n",
              "\n",
              "\n",
              "    </div>\n",
              "  </div>\n"
            ],
            "application/vnd.google.colaboratory.intrinsic+json": {
              "type": "dataframe",
              "summary": "{\n  \"name\": \"query('SELECT * FROM customers')\",\n  \"rows\": 1,\n  \"fields\": [\n    {\n      \"column\": \"customer_id\",\n      \"properties\": {\n        \"dtype\": \"number\",\n        \"std\": null,\n        \"min\": 1,\n        \"max\": 1,\n        \"num_unique_values\": 1,\n        \"samples\": [\n          1\n        ],\n        \"semantic_type\": \"\",\n        \"description\": \"\"\n      }\n    },\n    {\n      \"column\": \"name\",\n      \"properties\": {\n        \"dtype\": \"string\",\n        \"num_unique_values\": 1,\n        \"samples\": [\n          \"mike\"\n        ],\n        \"semantic_type\": \"\",\n        \"description\": \"\"\n      }\n    },\n    {\n      \"column\": \"email\",\n      \"properties\": {\n        \"dtype\": \"string\",\n        \"num_unique_values\": 1,\n        \"samples\": [\n          \"mike@gmail.com\"\n        ],\n        \"semantic_type\": \"\",\n        \"description\": \"\"\n      }\n    },\n    {\n      \"column\": \"phone\",\n      \"properties\": {\n        \"dtype\": \"string\",\n        \"num_unique_values\": 1,\n        \"samples\": [\n          \"555-555-5555\"\n        ],\n        \"semantic_type\": \"\",\n        \"description\": \"\"\n      }\n    },\n    {\n      \"column\": \"street_address\",\n      \"properties\": {\n        \"dtype\": \"string\",\n        \"num_unique_values\": 1,\n        \"samples\": [\n          \"123 Main St\"\n        ],\n        \"semantic_type\": \"\",\n        \"description\": \"\"\n      }\n    },\n    {\n      \"column\": \"city\",\n      \"properties\": {\n        \"dtype\": \"string\",\n        \"num_unique_values\": 1,\n        \"samples\": [\n          \"Anytown\"\n        ],\n        \"semantic_type\": \"\",\n        \"description\": \"\"\n      }\n    },\n    {\n      \"column\": \"state\",\n      \"properties\": {\n        \"dtype\": \"string\",\n        \"num_unique_values\": 1,\n        \"samples\": [\n          \"CA\"\n        ],\n        \"semantic_type\": \"\",\n        \"description\": \"\"\n      }\n    },\n    {\n      \"column\": \"zip_code\",\n      \"properties\": {\n        \"dtype\": \"string\",\n        \"num_unique_values\": 1,\n        \"samples\": [\n          \"12345\"\n        ],\n        \"semantic_type\": \"\",\n        \"description\": \"\"\n      }\n    },\n    {\n      \"column\": \"country\",\n      \"properties\": {\n        \"dtype\": \"string\",\n        \"num_unique_values\": 1,\n        \"samples\": [\n          \"USA\"\n        ],\n        \"semantic_type\": \"\",\n        \"description\": \"\"\n      }\n    },\n    {\n      \"column\": \"account_status\",\n      \"properties\": {\n        \"dtype\": \"string\",\n        \"num_unique_values\": 1,\n        \"samples\": [\n          \"active\"\n        ],\n        \"semantic_type\": \"\",\n        \"description\": \"\"\n      }\n    },\n    {\n      \"column\": \"pin\",\n      \"properties\": {\n        \"dtype\": \"string\",\n        \"num_unique_values\": 1,\n        \"samples\": [\n          \"1234\"\n        ],\n        \"semantic_type\": \"\",\n        \"description\": \"\"\n      }\n    }\n  ]\n}"
            }
          },
          "metadata": {},
          "execution_count": 55
        }
      ]
    },
    {
      "cell_type": "code",
      "source": [
        "create_tables()"
      ],
      "metadata": {
        "colab": {
          "base_uri": "https://localhost:8080/",
          "height": 34
        },
        "id": "KwXIX2cwWY-S",
        "outputId": "6cc8df36-0da1-4645-d212-da6aa12c5b15"
      },
      "execution_count": 56,
      "outputs": [
        {
          "output_type": "display_data",
          "data": {
            "text/plain": [
              "Tables created successfully.\n"
            ],
            "text/html": [
              "<pre style=\"white-space:pre;overflow-x:auto;line-height:normal;font-family:Menlo,'DejaVu Sans Mono',consolas,'Courier New',monospace\">Tables created successfully.\n",
              "</pre>\n"
            ]
          },
          "metadata": {}
        }
      ]
    },
    {
      "cell_type": "markdown",
      "source": [
        "## Generate 10-20 customers\n",
        "\n",
        "Use this section to practice creating structured outputs with the `openai_llm` or `gemini_llm` object we created earlier.\n",
        "Use `pydantic` to define the schema of the data you want to generate, then use an LLM to generate them.\n",
        "Once you generate your customers, insert them into the database.\n",
        "Make sure that the values you're generating make sense!\n",
        "\n",
        "**NOTE:** If you perform multiple LLM calls to generate customers, make sure you are not generating the same customers.\n",
        "Some LLM providers will cache responses, so the same prompt will give you the same output."
      ],
      "metadata": {
        "id": "b3LH4WOAXwkH"
      }
    },
    {
      "cell_type": "code",
      "source": [
        "customer_statuses = Literal['active', 'inactive', 'suspended', 'canceled']\n",
        "\n",
        "class Customer(BaseModel):\n",
        "    name: str = Field(..., description=\"Name of the customer\")\n",
        "    email: str = Field(..., description=\"Email of the customer\")\n",
        "    phone: str = Field(..., description=\"Phone number of the customer\")\n",
        "    street_address: str = Field(..., description=\"Street address of the customer\")\n",
        "    city: str = Field(..., description=\"City of the customer\")\n",
        "    state: str = Field(..., description=\"State of the customer (US Only)\")\n",
        "    zip_code: str = Field(..., description=\"Zip code of the customer\")\n",
        "    country: str = Field(default='US', description=\"Country of the customer\")\n",
        "    account_status: customer_statuses = Field(..., description=\"Status of the customer account\")\n",
        "    pin: str = Field(default_factory=lambda x: f\"{np.random.randint(0, 1000):04}\", description=\"PIN for the customer\")\n",
        "\n",
        "class Customers(BaseModel):\n",
        "    customers: List[Customer] = Field(..., description=\"List of customers\")"
      ],
      "metadata": {
        "id": "FWGrv2jHJ_OJ"
      },
      "execution_count": 57,
      "outputs": []
    },
    {
      "cell_type": "code",
      "source": [
        "customers = []\n",
        "prompt = \"Please generate 5 customers\"\n",
        "messages = [ChatMessage.from_str(prompt)]\n",
        "structured_llm = gemini_llm.as_structured_llm(output_cls=Customers)\n",
        "resp = structured_llm.chat(messages)\n",
        "for c in resp.raw.customers:\n",
        "    customers.append(c.model_dump())\n",
        "for _ in range(3):\n",
        "    messages.append(resp.message)\n",
        "    messages.append(ChatMessage.from_str(\"Please generate 5 more customers\"))\n",
        "    resp = structured_llm.chat(messages)\n",
        "    for c in resp.raw.customers:\n",
        "        customers.append(c.model_dump())"
      ],
      "metadata": {
        "id": "fs49aU4NLR3n"
      },
      "execution_count": 58,
      "outputs": []
    },
    {
      "cell_type": "code",
      "source": [
        "customer_df = pd.DataFrame(customers)\n",
        "customer_df.sample(5)"
      ],
      "metadata": {
        "colab": {
          "base_uri": "https://localhost:8080/",
          "height": 206
        },
        "id": "dEh8Lb8xNXmm",
        "outputId": "394f7692-ebc3-457b-c56f-f33c6c6f5150"
      },
      "execution_count": 59,
      "outputs": [
        {
          "output_type": "execute_result",
          "data": {
            "text/plain": [
              "            name                     email          phone     street_address  \\\n",
              "15  Ava Martinez  ava.martinez@example.com  555-1111-2222     777 Oak Avenue   \n",
              "6   Grace Garcia  grace.garcia@example.com   555-444-5555       1357 Pine St   \n",
              "4      Eve Evans     eve.evans@example.com   555-333-4444      1213 Birch Rd   \n",
              "11    Liam Brown    liam.brown@example.com  555-5555-6666  10 Downing Street   \n",
              "18     David Kim     david.kim@example.com  555-7777-8888     789 Birch Lane   \n",
              "\n",
              "             city state zip_code country account_status   pin  \n",
              "15  San Francisco    CA    94102      US         active  6789  \n",
              "6          Austin    TX    78701      US       inactive  2468  \n",
              "4         Chicago    IL    60601      US       canceled  7890  \n",
              "11         London    MA    02116      US       inactive  2222  \n",
              "18    Los Angeles    CA    90001      US         active  8901  "
            ],
            "text/html": [
              "\n",
              "  <div id=\"df-fa496bce-c2d0-4061-b45d-bd4a1fc6f483\" class=\"colab-df-container\">\n",
              "    <div>\n",
              "<style scoped>\n",
              "    .dataframe tbody tr th:only-of-type {\n",
              "        vertical-align: middle;\n",
              "    }\n",
              "\n",
              "    .dataframe tbody tr th {\n",
              "        vertical-align: top;\n",
              "    }\n",
              "\n",
              "    .dataframe thead th {\n",
              "        text-align: right;\n",
              "    }\n",
              "</style>\n",
              "<table border=\"1\" class=\"dataframe\">\n",
              "  <thead>\n",
              "    <tr style=\"text-align: right;\">\n",
              "      <th></th>\n",
              "      <th>name</th>\n",
              "      <th>email</th>\n",
              "      <th>phone</th>\n",
              "      <th>street_address</th>\n",
              "      <th>city</th>\n",
              "      <th>state</th>\n",
              "      <th>zip_code</th>\n",
              "      <th>country</th>\n",
              "      <th>account_status</th>\n",
              "      <th>pin</th>\n",
              "    </tr>\n",
              "  </thead>\n",
              "  <tbody>\n",
              "    <tr>\n",
              "      <th>15</th>\n",
              "      <td>Ava Martinez</td>\n",
              "      <td>ava.martinez@example.com</td>\n",
              "      <td>555-1111-2222</td>\n",
              "      <td>777 Oak Avenue</td>\n",
              "      <td>San Francisco</td>\n",
              "      <td>CA</td>\n",
              "      <td>94102</td>\n",
              "      <td>US</td>\n",
              "      <td>active</td>\n",
              "      <td>6789</td>\n",
              "    </tr>\n",
              "    <tr>\n",
              "      <th>6</th>\n",
              "      <td>Grace Garcia</td>\n",
              "      <td>grace.garcia@example.com</td>\n",
              "      <td>555-444-5555</td>\n",
              "      <td>1357 Pine St</td>\n",
              "      <td>Austin</td>\n",
              "      <td>TX</td>\n",
              "      <td>78701</td>\n",
              "      <td>US</td>\n",
              "      <td>inactive</td>\n",
              "      <td>2468</td>\n",
              "    </tr>\n",
              "    <tr>\n",
              "      <th>4</th>\n",
              "      <td>Eve Evans</td>\n",
              "      <td>eve.evans@example.com</td>\n",
              "      <td>555-333-4444</td>\n",
              "      <td>1213 Birch Rd</td>\n",
              "      <td>Chicago</td>\n",
              "      <td>IL</td>\n",
              "      <td>60601</td>\n",
              "      <td>US</td>\n",
              "      <td>canceled</td>\n",
              "      <td>7890</td>\n",
              "    </tr>\n",
              "    <tr>\n",
              "      <th>11</th>\n",
              "      <td>Liam Brown</td>\n",
              "      <td>liam.brown@example.com</td>\n",
              "      <td>555-5555-6666</td>\n",
              "      <td>10 Downing Street</td>\n",
              "      <td>London</td>\n",
              "      <td>MA</td>\n",
              "      <td>02116</td>\n",
              "      <td>US</td>\n",
              "      <td>inactive</td>\n",
              "      <td>2222</td>\n",
              "    </tr>\n",
              "    <tr>\n",
              "      <th>18</th>\n",
              "      <td>David Kim</td>\n",
              "      <td>david.kim@example.com</td>\n",
              "      <td>555-7777-8888</td>\n",
              "      <td>789 Birch Lane</td>\n",
              "      <td>Los Angeles</td>\n",
              "      <td>CA</td>\n",
              "      <td>90001</td>\n",
              "      <td>US</td>\n",
              "      <td>active</td>\n",
              "      <td>8901</td>\n",
              "    </tr>\n",
              "  </tbody>\n",
              "</table>\n",
              "</div>\n",
              "    <div class=\"colab-df-buttons\">\n",
              "\n",
              "  <div class=\"colab-df-container\">\n",
              "    <button class=\"colab-df-convert\" onclick=\"convertToInteractive('df-fa496bce-c2d0-4061-b45d-bd4a1fc6f483')\"\n",
              "            title=\"Convert this dataframe to an interactive table.\"\n",
              "            style=\"display:none;\">\n",
              "\n",
              "  <svg xmlns=\"http://www.w3.org/2000/svg\" height=\"24px\" viewBox=\"0 -960 960 960\">\n",
              "    <path d=\"M120-120v-720h720v720H120Zm60-500h600v-160H180v160Zm220 220h160v-160H400v160Zm0 220h160v-160H400v160ZM180-400h160v-160H180v160Zm440 0h160v-160H620v160ZM180-180h160v-160H180v160Zm440 0h160v-160H620v160Z\"/>\n",
              "  </svg>\n",
              "    </button>\n",
              "\n",
              "  <style>\n",
              "    .colab-df-container {\n",
              "      display:flex;\n",
              "      gap: 12px;\n",
              "    }\n",
              "\n",
              "    .colab-df-convert {\n",
              "      background-color: #E8F0FE;\n",
              "      border: none;\n",
              "      border-radius: 50%;\n",
              "      cursor: pointer;\n",
              "      display: none;\n",
              "      fill: #1967D2;\n",
              "      height: 32px;\n",
              "      padding: 0 0 0 0;\n",
              "      width: 32px;\n",
              "    }\n",
              "\n",
              "    .colab-df-convert:hover {\n",
              "      background-color: #E2EBFA;\n",
              "      box-shadow: 0px 1px 2px rgba(60, 64, 67, 0.3), 0px 1px 3px 1px rgba(60, 64, 67, 0.15);\n",
              "      fill: #174EA6;\n",
              "    }\n",
              "\n",
              "    .colab-df-buttons div {\n",
              "      margin-bottom: 4px;\n",
              "    }\n",
              "\n",
              "    [theme=dark] .colab-df-convert {\n",
              "      background-color: #3B4455;\n",
              "      fill: #D2E3FC;\n",
              "    }\n",
              "\n",
              "    [theme=dark] .colab-df-convert:hover {\n",
              "      background-color: #434B5C;\n",
              "      box-shadow: 0px 1px 3px 1px rgba(0, 0, 0, 0.15);\n",
              "      filter: drop-shadow(0px 1px 2px rgba(0, 0, 0, 0.3));\n",
              "      fill: #FFFFFF;\n",
              "    }\n",
              "  </style>\n",
              "\n",
              "    <script>\n",
              "      const buttonEl =\n",
              "        document.querySelector('#df-fa496bce-c2d0-4061-b45d-bd4a1fc6f483 button.colab-df-convert');\n",
              "      buttonEl.style.display =\n",
              "        google.colab.kernel.accessAllowed ? 'block' : 'none';\n",
              "\n",
              "      async function convertToInteractive(key) {\n",
              "        const element = document.querySelector('#df-fa496bce-c2d0-4061-b45d-bd4a1fc6f483');\n",
              "        const dataTable =\n",
              "          await google.colab.kernel.invokeFunction('convertToInteractive',\n",
              "                                                    [key], {});\n",
              "        if (!dataTable) return;\n",
              "\n",
              "        const docLinkHtml = 'Like what you see? Visit the ' +\n",
              "          '<a target=\"_blank\" href=https://colab.research.google.com/notebooks/data_table.ipynb>data table notebook</a>'\n",
              "          + ' to learn more about interactive tables.';\n",
              "        element.innerHTML = '';\n",
              "        dataTable['output_type'] = 'display_data';\n",
              "        await google.colab.output.renderOutput(dataTable, element);\n",
              "        const docLink = document.createElement('div');\n",
              "        docLink.innerHTML = docLinkHtml;\n",
              "        element.appendChild(docLink);\n",
              "      }\n",
              "    </script>\n",
              "  </div>\n",
              "\n",
              "\n",
              "<div id=\"df-4172eb98-20f4-47f8-a5b3-e62b46f82af8\">\n",
              "  <button class=\"colab-df-quickchart\" onclick=\"quickchart('df-4172eb98-20f4-47f8-a5b3-e62b46f82af8')\"\n",
              "            title=\"Suggest charts\"\n",
              "            style=\"display:none;\">\n",
              "\n",
              "<svg xmlns=\"http://www.w3.org/2000/svg\" height=\"24px\"viewBox=\"0 0 24 24\"\n",
              "     width=\"24px\">\n",
              "    <g>\n",
              "        <path d=\"M19 3H5c-1.1 0-2 .9-2 2v14c0 1.1.9 2 2 2h14c1.1 0 2-.9 2-2V5c0-1.1-.9-2-2-2zM9 17H7v-7h2v7zm4 0h-2V7h2v10zm4 0h-2v-4h2v4z\"/>\n",
              "    </g>\n",
              "</svg>\n",
              "  </button>\n",
              "\n",
              "<style>\n",
              "  .colab-df-quickchart {\n",
              "      --bg-color: #E8F0FE;\n",
              "      --fill-color: #1967D2;\n",
              "      --hover-bg-color: #E2EBFA;\n",
              "      --hover-fill-color: #174EA6;\n",
              "      --disabled-fill-color: #AAA;\n",
              "      --disabled-bg-color: #DDD;\n",
              "  }\n",
              "\n",
              "  [theme=dark] .colab-df-quickchart {\n",
              "      --bg-color: #3B4455;\n",
              "      --fill-color: #D2E3FC;\n",
              "      --hover-bg-color: #434B5C;\n",
              "      --hover-fill-color: #FFFFFF;\n",
              "      --disabled-bg-color: #3B4455;\n",
              "      --disabled-fill-color: #666;\n",
              "  }\n",
              "\n",
              "  .colab-df-quickchart {\n",
              "    background-color: var(--bg-color);\n",
              "    border: none;\n",
              "    border-radius: 50%;\n",
              "    cursor: pointer;\n",
              "    display: none;\n",
              "    fill: var(--fill-color);\n",
              "    height: 32px;\n",
              "    padding: 0;\n",
              "    width: 32px;\n",
              "  }\n",
              "\n",
              "  .colab-df-quickchart:hover {\n",
              "    background-color: var(--hover-bg-color);\n",
              "    box-shadow: 0 1px 2px rgba(60, 64, 67, 0.3), 0 1px 3px 1px rgba(60, 64, 67, 0.15);\n",
              "    fill: var(--button-hover-fill-color);\n",
              "  }\n",
              "\n",
              "  .colab-df-quickchart-complete:disabled,\n",
              "  .colab-df-quickchart-complete:disabled:hover {\n",
              "    background-color: var(--disabled-bg-color);\n",
              "    fill: var(--disabled-fill-color);\n",
              "    box-shadow: none;\n",
              "  }\n",
              "\n",
              "  .colab-df-spinner {\n",
              "    border: 2px solid var(--fill-color);\n",
              "    border-color: transparent;\n",
              "    border-bottom-color: var(--fill-color);\n",
              "    animation:\n",
              "      spin 1s steps(1) infinite;\n",
              "  }\n",
              "\n",
              "  @keyframes spin {\n",
              "    0% {\n",
              "      border-color: transparent;\n",
              "      border-bottom-color: var(--fill-color);\n",
              "      border-left-color: var(--fill-color);\n",
              "    }\n",
              "    20% {\n",
              "      border-color: transparent;\n",
              "      border-left-color: var(--fill-color);\n",
              "      border-top-color: var(--fill-color);\n",
              "    }\n",
              "    30% {\n",
              "      border-color: transparent;\n",
              "      border-left-color: var(--fill-color);\n",
              "      border-top-color: var(--fill-color);\n",
              "      border-right-color: var(--fill-color);\n",
              "    }\n",
              "    40% {\n",
              "      border-color: transparent;\n",
              "      border-right-color: var(--fill-color);\n",
              "      border-top-color: var(--fill-color);\n",
              "    }\n",
              "    60% {\n",
              "      border-color: transparent;\n",
              "      border-right-color: var(--fill-color);\n",
              "    }\n",
              "    80% {\n",
              "      border-color: transparent;\n",
              "      border-right-color: var(--fill-color);\n",
              "      border-bottom-color: var(--fill-color);\n",
              "    }\n",
              "    90% {\n",
              "      border-color: transparent;\n",
              "      border-bottom-color: var(--fill-color);\n",
              "    }\n",
              "  }\n",
              "</style>\n",
              "\n",
              "  <script>\n",
              "    async function quickchart(key) {\n",
              "      const quickchartButtonEl =\n",
              "        document.querySelector('#' + key + ' button');\n",
              "      quickchartButtonEl.disabled = true;  // To prevent multiple clicks.\n",
              "      quickchartButtonEl.classList.add('colab-df-spinner');\n",
              "      try {\n",
              "        const charts = await google.colab.kernel.invokeFunction(\n",
              "            'suggestCharts', [key], {});\n",
              "      } catch (error) {\n",
              "        console.error('Error during call to suggestCharts:', error);\n",
              "      }\n",
              "      quickchartButtonEl.classList.remove('colab-df-spinner');\n",
              "      quickchartButtonEl.classList.add('colab-df-quickchart-complete');\n",
              "    }\n",
              "    (() => {\n",
              "      let quickchartButtonEl =\n",
              "        document.querySelector('#df-4172eb98-20f4-47f8-a5b3-e62b46f82af8 button');\n",
              "      quickchartButtonEl.style.display =\n",
              "        google.colab.kernel.accessAllowed ? 'block' : 'none';\n",
              "    })();\n",
              "  </script>\n",
              "</div>\n",
              "\n",
              "    </div>\n",
              "  </div>\n"
            ],
            "application/vnd.google.colaboratory.intrinsic+json": {
              "type": "dataframe",
              "summary": "{\n  \"name\": \"customer_df\",\n  \"rows\": 5,\n  \"fields\": [\n    {\n      \"column\": \"name\",\n      \"properties\": {\n        \"dtype\": \"string\",\n        \"num_unique_values\": 5,\n        \"samples\": [\n          \"Grace Garcia\",\n          \"David Kim\",\n          \"Eve Evans\"\n        ],\n        \"semantic_type\": \"\",\n        \"description\": \"\"\n      }\n    },\n    {\n      \"column\": \"email\",\n      \"properties\": {\n        \"dtype\": \"string\",\n        \"num_unique_values\": 5,\n        \"samples\": [\n          \"grace.garcia@example.com\",\n          \"david.kim@example.com\",\n          \"eve.evans@example.com\"\n        ],\n        \"semantic_type\": \"\",\n        \"description\": \"\"\n      }\n    },\n    {\n      \"column\": \"phone\",\n      \"properties\": {\n        \"dtype\": \"string\",\n        \"num_unique_values\": 5,\n        \"samples\": [\n          \"555-444-5555\",\n          \"555-7777-8888\",\n          \"555-333-4444\"\n        ],\n        \"semantic_type\": \"\",\n        \"description\": \"\"\n      }\n    },\n    {\n      \"column\": \"street_address\",\n      \"properties\": {\n        \"dtype\": \"string\",\n        \"num_unique_values\": 5,\n        \"samples\": [\n          \"1357 Pine St\",\n          \"789 Birch Lane\",\n          \"1213 Birch Rd\"\n        ],\n        \"semantic_type\": \"\",\n        \"description\": \"\"\n      }\n    },\n    {\n      \"column\": \"city\",\n      \"properties\": {\n        \"dtype\": \"string\",\n        \"num_unique_values\": 5,\n        \"samples\": [\n          \"Austin\",\n          \"Los Angeles\",\n          \"Chicago\"\n        ],\n        \"semantic_type\": \"\",\n        \"description\": \"\"\n      }\n    },\n    {\n      \"column\": \"state\",\n      \"properties\": {\n        \"dtype\": \"string\",\n        \"num_unique_values\": 4,\n        \"samples\": [\n          \"TX\",\n          \"MA\",\n          \"CA\"\n        ],\n        \"semantic_type\": \"\",\n        \"description\": \"\"\n      }\n    },\n    {\n      \"column\": \"zip_code\",\n      \"properties\": {\n        \"dtype\": \"string\",\n        \"num_unique_values\": 5,\n        \"samples\": [\n          \"78701\",\n          \"90001\",\n          \"60601\"\n        ],\n        \"semantic_type\": \"\",\n        \"description\": \"\"\n      }\n    },\n    {\n      \"column\": \"country\",\n      \"properties\": {\n        \"dtype\": \"category\",\n        \"num_unique_values\": 1,\n        \"samples\": [\n          \"US\"\n        ],\n        \"semantic_type\": \"\",\n        \"description\": \"\"\n      }\n    },\n    {\n      \"column\": \"account_status\",\n      \"properties\": {\n        \"dtype\": \"string\",\n        \"num_unique_values\": 3,\n        \"samples\": [\n          \"active\"\n        ],\n        \"semantic_type\": \"\",\n        \"description\": \"\"\n      }\n    },\n    {\n      \"column\": \"pin\",\n      \"properties\": {\n        \"dtype\": \"string\",\n        \"num_unique_values\": 5,\n        \"samples\": [\n          \"2468\"\n        ],\n        \"semantic_type\": \"\",\n        \"description\": \"\"\n      }\n    }\n  ]\n}"
            }
          },
          "metadata": {},
          "execution_count": 59
        }
      ]
    },
    {
      "cell_type": "code",
      "source": [
        "engine = create_engine('sqlite:///ecommerce.db')\n",
        "customer_df.to_sql('customers', engine, if_exists='append', index=False)"
      ],
      "metadata": {
        "colab": {
          "base_uri": "https://localhost:8080/"
        },
        "id": "kNCSYQgeN7kT",
        "outputId": "3f31743f-3cd7-49fa-9352-15e30a6a6fb2"
      },
      "execution_count": 60,
      "outputs": [
        {
          "output_type": "execute_result",
          "data": {
            "text/plain": [
              "20"
            ]
          },
          "metadata": {},
          "execution_count": 60
        }
      ]
    },
    {
      "cell_type": "code",
      "source": [
        "query('SELECT * FROM customers ORDER BY random() LIMIT 5;')"
      ],
      "metadata": {
        "colab": {
          "base_uri": "https://localhost:8080/",
          "height": 206
        },
        "id": "O4d4iyb-ORmq",
        "outputId": "a5e2583d-818f-45f7-d875-05d98a0a2a13"
      },
      "execution_count": 61,
      "outputs": [
        {
          "output_type": "execute_result",
          "data": {
            "text/plain": [
              "   customer_id              name                         email          phone  \\\n",
              "0           19         David Kim         david.kim@example.com  555-7777-8888   \n",
              "1           18         Chloe Lee         chloe.lee@example.com  555-5555-6666   \n",
              "2            9           Ivy Ito           ivy.ito@example.com   555-888-9999   \n",
              "3           15  Olivia Rodriguez  olivia.rodriguez@example.com  555-1212-1314   \n",
              "4           20      Emily Garcia      emily.garcia@example.com  555-9999-0000   \n",
              "\n",
              "       street_address         city state zip_code country account_status   pin  \n",
              "0      789 Birch Lane  Los Angeles    CA    90001      US         active  8901  \n",
              "1     456 Maple Drive      Chicago    IL    60601      US      suspended  4567  \n",
              "2       5791 Birch Ln     Portland    OR    97201      US         active  4680  \n",
              "3   123 Sesame Street     New York    NY    10001      US       canceled  5555  \n",
              "4  1011 Willow Street      Houston    TX    77001      US       canceled  2345  "
            ],
            "text/html": [
              "\n",
              "  <div id=\"df-22dfbb72-ff08-4274-8b8a-3101e6cbe6a2\" class=\"colab-df-container\">\n",
              "    <div>\n",
              "<style scoped>\n",
              "    .dataframe tbody tr th:only-of-type {\n",
              "        vertical-align: middle;\n",
              "    }\n",
              "\n",
              "    .dataframe tbody tr th {\n",
              "        vertical-align: top;\n",
              "    }\n",
              "\n",
              "    .dataframe thead th {\n",
              "        text-align: right;\n",
              "    }\n",
              "</style>\n",
              "<table border=\"1\" class=\"dataframe\">\n",
              "  <thead>\n",
              "    <tr style=\"text-align: right;\">\n",
              "      <th></th>\n",
              "      <th>customer_id</th>\n",
              "      <th>name</th>\n",
              "      <th>email</th>\n",
              "      <th>phone</th>\n",
              "      <th>street_address</th>\n",
              "      <th>city</th>\n",
              "      <th>state</th>\n",
              "      <th>zip_code</th>\n",
              "      <th>country</th>\n",
              "      <th>account_status</th>\n",
              "      <th>pin</th>\n",
              "    </tr>\n",
              "  </thead>\n",
              "  <tbody>\n",
              "    <tr>\n",
              "      <th>0</th>\n",
              "      <td>19</td>\n",
              "      <td>David Kim</td>\n",
              "      <td>david.kim@example.com</td>\n",
              "      <td>555-7777-8888</td>\n",
              "      <td>789 Birch Lane</td>\n",
              "      <td>Los Angeles</td>\n",
              "      <td>CA</td>\n",
              "      <td>90001</td>\n",
              "      <td>US</td>\n",
              "      <td>active</td>\n",
              "      <td>8901</td>\n",
              "    </tr>\n",
              "    <tr>\n",
              "      <th>1</th>\n",
              "      <td>18</td>\n",
              "      <td>Chloe Lee</td>\n",
              "      <td>chloe.lee@example.com</td>\n",
              "      <td>555-5555-6666</td>\n",
              "      <td>456 Maple Drive</td>\n",
              "      <td>Chicago</td>\n",
              "      <td>IL</td>\n",
              "      <td>60601</td>\n",
              "      <td>US</td>\n",
              "      <td>suspended</td>\n",
              "      <td>4567</td>\n",
              "    </tr>\n",
              "    <tr>\n",
              "      <th>2</th>\n",
              "      <td>9</td>\n",
              "      <td>Ivy Ito</td>\n",
              "      <td>ivy.ito@example.com</td>\n",
              "      <td>555-888-9999</td>\n",
              "      <td>5791 Birch Ln</td>\n",
              "      <td>Portland</td>\n",
              "      <td>OR</td>\n",
              "      <td>97201</td>\n",
              "      <td>US</td>\n",
              "      <td>active</td>\n",
              "      <td>4680</td>\n",
              "    </tr>\n",
              "    <tr>\n",
              "      <th>3</th>\n",
              "      <td>15</td>\n",
              "      <td>Olivia Rodriguez</td>\n",
              "      <td>olivia.rodriguez@example.com</td>\n",
              "      <td>555-1212-1314</td>\n",
              "      <td>123 Sesame Street</td>\n",
              "      <td>New York</td>\n",
              "      <td>NY</td>\n",
              "      <td>10001</td>\n",
              "      <td>US</td>\n",
              "      <td>canceled</td>\n",
              "      <td>5555</td>\n",
              "    </tr>\n",
              "    <tr>\n",
              "      <th>4</th>\n",
              "      <td>20</td>\n",
              "      <td>Emily Garcia</td>\n",
              "      <td>emily.garcia@example.com</td>\n",
              "      <td>555-9999-0000</td>\n",
              "      <td>1011 Willow Street</td>\n",
              "      <td>Houston</td>\n",
              "      <td>TX</td>\n",
              "      <td>77001</td>\n",
              "      <td>US</td>\n",
              "      <td>canceled</td>\n",
              "      <td>2345</td>\n",
              "    </tr>\n",
              "  </tbody>\n",
              "</table>\n",
              "</div>\n",
              "    <div class=\"colab-df-buttons\">\n",
              "\n",
              "  <div class=\"colab-df-container\">\n",
              "    <button class=\"colab-df-convert\" onclick=\"convertToInteractive('df-22dfbb72-ff08-4274-8b8a-3101e6cbe6a2')\"\n",
              "            title=\"Convert this dataframe to an interactive table.\"\n",
              "            style=\"display:none;\">\n",
              "\n",
              "  <svg xmlns=\"http://www.w3.org/2000/svg\" height=\"24px\" viewBox=\"0 -960 960 960\">\n",
              "    <path d=\"M120-120v-720h720v720H120Zm60-500h600v-160H180v160Zm220 220h160v-160H400v160Zm0 220h160v-160H400v160ZM180-400h160v-160H180v160Zm440 0h160v-160H620v160ZM180-180h160v-160H180v160Zm440 0h160v-160H620v160Z\"/>\n",
              "  </svg>\n",
              "    </button>\n",
              "\n",
              "  <style>\n",
              "    .colab-df-container {\n",
              "      display:flex;\n",
              "      gap: 12px;\n",
              "    }\n",
              "\n",
              "    .colab-df-convert {\n",
              "      background-color: #E8F0FE;\n",
              "      border: none;\n",
              "      border-radius: 50%;\n",
              "      cursor: pointer;\n",
              "      display: none;\n",
              "      fill: #1967D2;\n",
              "      height: 32px;\n",
              "      padding: 0 0 0 0;\n",
              "      width: 32px;\n",
              "    }\n",
              "\n",
              "    .colab-df-convert:hover {\n",
              "      background-color: #E2EBFA;\n",
              "      box-shadow: 0px 1px 2px rgba(60, 64, 67, 0.3), 0px 1px 3px 1px rgba(60, 64, 67, 0.15);\n",
              "      fill: #174EA6;\n",
              "    }\n",
              "\n",
              "    .colab-df-buttons div {\n",
              "      margin-bottom: 4px;\n",
              "    }\n",
              "\n",
              "    [theme=dark] .colab-df-convert {\n",
              "      background-color: #3B4455;\n",
              "      fill: #D2E3FC;\n",
              "    }\n",
              "\n",
              "    [theme=dark] .colab-df-convert:hover {\n",
              "      background-color: #434B5C;\n",
              "      box-shadow: 0px 1px 3px 1px rgba(0, 0, 0, 0.15);\n",
              "      filter: drop-shadow(0px 1px 2px rgba(0, 0, 0, 0.3));\n",
              "      fill: #FFFFFF;\n",
              "    }\n",
              "  </style>\n",
              "\n",
              "    <script>\n",
              "      const buttonEl =\n",
              "        document.querySelector('#df-22dfbb72-ff08-4274-8b8a-3101e6cbe6a2 button.colab-df-convert');\n",
              "      buttonEl.style.display =\n",
              "        google.colab.kernel.accessAllowed ? 'block' : 'none';\n",
              "\n",
              "      async function convertToInteractive(key) {\n",
              "        const element = document.querySelector('#df-22dfbb72-ff08-4274-8b8a-3101e6cbe6a2');\n",
              "        const dataTable =\n",
              "          await google.colab.kernel.invokeFunction('convertToInteractive',\n",
              "                                                    [key], {});\n",
              "        if (!dataTable) return;\n",
              "\n",
              "        const docLinkHtml = 'Like what you see? Visit the ' +\n",
              "          '<a target=\"_blank\" href=https://colab.research.google.com/notebooks/data_table.ipynb>data table notebook</a>'\n",
              "          + ' to learn more about interactive tables.';\n",
              "        element.innerHTML = '';\n",
              "        dataTable['output_type'] = 'display_data';\n",
              "        await google.colab.output.renderOutput(dataTable, element);\n",
              "        const docLink = document.createElement('div');\n",
              "        docLink.innerHTML = docLinkHtml;\n",
              "        element.appendChild(docLink);\n",
              "      }\n",
              "    </script>\n",
              "  </div>\n",
              "\n",
              "\n",
              "<div id=\"df-2144c352-1e44-4a63-9300-95e1069e4a39\">\n",
              "  <button class=\"colab-df-quickchart\" onclick=\"quickchart('df-2144c352-1e44-4a63-9300-95e1069e4a39')\"\n",
              "            title=\"Suggest charts\"\n",
              "            style=\"display:none;\">\n",
              "\n",
              "<svg xmlns=\"http://www.w3.org/2000/svg\" height=\"24px\"viewBox=\"0 0 24 24\"\n",
              "     width=\"24px\">\n",
              "    <g>\n",
              "        <path d=\"M19 3H5c-1.1 0-2 .9-2 2v14c0 1.1.9 2 2 2h14c1.1 0 2-.9 2-2V5c0-1.1-.9-2-2-2zM9 17H7v-7h2v7zm4 0h-2V7h2v10zm4 0h-2v-4h2v4z\"/>\n",
              "    </g>\n",
              "</svg>\n",
              "  </button>\n",
              "\n",
              "<style>\n",
              "  .colab-df-quickchart {\n",
              "      --bg-color: #E8F0FE;\n",
              "      --fill-color: #1967D2;\n",
              "      --hover-bg-color: #E2EBFA;\n",
              "      --hover-fill-color: #174EA6;\n",
              "      --disabled-fill-color: #AAA;\n",
              "      --disabled-bg-color: #DDD;\n",
              "  }\n",
              "\n",
              "  [theme=dark] .colab-df-quickchart {\n",
              "      --bg-color: #3B4455;\n",
              "      --fill-color: #D2E3FC;\n",
              "      --hover-bg-color: #434B5C;\n",
              "      --hover-fill-color: #FFFFFF;\n",
              "      --disabled-bg-color: #3B4455;\n",
              "      --disabled-fill-color: #666;\n",
              "  }\n",
              "\n",
              "  .colab-df-quickchart {\n",
              "    background-color: var(--bg-color);\n",
              "    border: none;\n",
              "    border-radius: 50%;\n",
              "    cursor: pointer;\n",
              "    display: none;\n",
              "    fill: var(--fill-color);\n",
              "    height: 32px;\n",
              "    padding: 0;\n",
              "    width: 32px;\n",
              "  }\n",
              "\n",
              "  .colab-df-quickchart:hover {\n",
              "    background-color: var(--hover-bg-color);\n",
              "    box-shadow: 0 1px 2px rgba(60, 64, 67, 0.3), 0 1px 3px 1px rgba(60, 64, 67, 0.15);\n",
              "    fill: var(--button-hover-fill-color);\n",
              "  }\n",
              "\n",
              "  .colab-df-quickchart-complete:disabled,\n",
              "  .colab-df-quickchart-complete:disabled:hover {\n",
              "    background-color: var(--disabled-bg-color);\n",
              "    fill: var(--disabled-fill-color);\n",
              "    box-shadow: none;\n",
              "  }\n",
              "\n",
              "  .colab-df-spinner {\n",
              "    border: 2px solid var(--fill-color);\n",
              "    border-color: transparent;\n",
              "    border-bottom-color: var(--fill-color);\n",
              "    animation:\n",
              "      spin 1s steps(1) infinite;\n",
              "  }\n",
              "\n",
              "  @keyframes spin {\n",
              "    0% {\n",
              "      border-color: transparent;\n",
              "      border-bottom-color: var(--fill-color);\n",
              "      border-left-color: var(--fill-color);\n",
              "    }\n",
              "    20% {\n",
              "      border-color: transparent;\n",
              "      border-left-color: var(--fill-color);\n",
              "      border-top-color: var(--fill-color);\n",
              "    }\n",
              "    30% {\n",
              "      border-color: transparent;\n",
              "      border-left-color: var(--fill-color);\n",
              "      border-top-color: var(--fill-color);\n",
              "      border-right-color: var(--fill-color);\n",
              "    }\n",
              "    40% {\n",
              "      border-color: transparent;\n",
              "      border-right-color: var(--fill-color);\n",
              "      border-top-color: var(--fill-color);\n",
              "    }\n",
              "    60% {\n",
              "      border-color: transparent;\n",
              "      border-right-color: var(--fill-color);\n",
              "    }\n",
              "    80% {\n",
              "      border-color: transparent;\n",
              "      border-right-color: var(--fill-color);\n",
              "      border-bottom-color: var(--fill-color);\n",
              "    }\n",
              "    90% {\n",
              "      border-color: transparent;\n",
              "      border-bottom-color: var(--fill-color);\n",
              "    }\n",
              "  }\n",
              "</style>\n",
              "\n",
              "  <script>\n",
              "    async function quickchart(key) {\n",
              "      const quickchartButtonEl =\n",
              "        document.querySelector('#' + key + ' button');\n",
              "      quickchartButtonEl.disabled = true;  // To prevent multiple clicks.\n",
              "      quickchartButtonEl.classList.add('colab-df-spinner');\n",
              "      try {\n",
              "        const charts = await google.colab.kernel.invokeFunction(\n",
              "            'suggestCharts', [key], {});\n",
              "      } catch (error) {\n",
              "        console.error('Error during call to suggestCharts:', error);\n",
              "      }\n",
              "      quickchartButtonEl.classList.remove('colab-df-spinner');\n",
              "      quickchartButtonEl.classList.add('colab-df-quickchart-complete');\n",
              "    }\n",
              "    (() => {\n",
              "      let quickchartButtonEl =\n",
              "        document.querySelector('#df-2144c352-1e44-4a63-9300-95e1069e4a39 button');\n",
              "      quickchartButtonEl.style.display =\n",
              "        google.colab.kernel.accessAllowed ? 'block' : 'none';\n",
              "    })();\n",
              "  </script>\n",
              "</div>\n",
              "\n",
              "    </div>\n",
              "  </div>\n"
            ],
            "application/vnd.google.colaboratory.intrinsic+json": {
              "type": "dataframe",
              "summary": "{\n  \"name\": \"query('SELECT * FROM customers ORDER BY random() LIMIT 5;')\",\n  \"rows\": 5,\n  \"fields\": [\n    {\n      \"column\": \"customer_id\",\n      \"properties\": {\n        \"dtype\": \"number\",\n        \"std\": 4,\n        \"min\": 9,\n        \"max\": 20,\n        \"num_unique_values\": 5,\n        \"samples\": [\n          18,\n          20,\n          9\n        ],\n        \"semantic_type\": \"\",\n        \"description\": \"\"\n      }\n    },\n    {\n      \"column\": \"name\",\n      \"properties\": {\n        \"dtype\": \"string\",\n        \"num_unique_values\": 5,\n        \"samples\": [\n          \"Chloe Lee\",\n          \"Emily Garcia\",\n          \"Ivy Ito\"\n        ],\n        \"semantic_type\": \"\",\n        \"description\": \"\"\n      }\n    },\n    {\n      \"column\": \"email\",\n      \"properties\": {\n        \"dtype\": \"string\",\n        \"num_unique_values\": 5,\n        \"samples\": [\n          \"chloe.lee@example.com\",\n          \"emily.garcia@example.com\",\n          \"ivy.ito@example.com\"\n        ],\n        \"semantic_type\": \"\",\n        \"description\": \"\"\n      }\n    },\n    {\n      \"column\": \"phone\",\n      \"properties\": {\n        \"dtype\": \"string\",\n        \"num_unique_values\": 5,\n        \"samples\": [\n          \"555-5555-6666\",\n          \"555-9999-0000\",\n          \"555-888-9999\"\n        ],\n        \"semantic_type\": \"\",\n        \"description\": \"\"\n      }\n    },\n    {\n      \"column\": \"street_address\",\n      \"properties\": {\n        \"dtype\": \"string\",\n        \"num_unique_values\": 5,\n        \"samples\": [\n          \"456 Maple Drive\",\n          \"1011 Willow Street\",\n          \"5791 Birch Ln\"\n        ],\n        \"semantic_type\": \"\",\n        \"description\": \"\"\n      }\n    },\n    {\n      \"column\": \"city\",\n      \"properties\": {\n        \"dtype\": \"string\",\n        \"num_unique_values\": 5,\n        \"samples\": [\n          \"Chicago\",\n          \"Houston\",\n          \"Portland\"\n        ],\n        \"semantic_type\": \"\",\n        \"description\": \"\"\n      }\n    },\n    {\n      \"column\": \"state\",\n      \"properties\": {\n        \"dtype\": \"string\",\n        \"num_unique_values\": 5,\n        \"samples\": [\n          \"IL\",\n          \"TX\",\n          \"OR\"\n        ],\n        \"semantic_type\": \"\",\n        \"description\": \"\"\n      }\n    },\n    {\n      \"column\": \"zip_code\",\n      \"properties\": {\n        \"dtype\": \"string\",\n        \"num_unique_values\": 5,\n        \"samples\": [\n          \"60601\",\n          \"77001\",\n          \"97201\"\n        ],\n        \"semantic_type\": \"\",\n        \"description\": \"\"\n      }\n    },\n    {\n      \"column\": \"country\",\n      \"properties\": {\n        \"dtype\": \"category\",\n        \"num_unique_values\": 1,\n        \"samples\": [\n          \"US\"\n        ],\n        \"semantic_type\": \"\",\n        \"description\": \"\"\n      }\n    },\n    {\n      \"column\": \"account_status\",\n      \"properties\": {\n        \"dtype\": \"string\",\n        \"num_unique_values\": 3,\n        \"samples\": [\n          \"active\"\n        ],\n        \"semantic_type\": \"\",\n        \"description\": \"\"\n      }\n    },\n    {\n      \"column\": \"pin\",\n      \"properties\": {\n        \"dtype\": \"string\",\n        \"num_unique_values\": 5,\n        \"samples\": [\n          \"4567\"\n        ],\n        \"semantic_type\": \"\",\n        \"description\": \"\"\n      }\n    }\n  ]\n}"
            }
          },
          "metadata": {},
          "execution_count": 61
        }
      ]
    },
    {
      "cell_type": "markdown",
      "source": [
        "## Generate 50 products/items\n",
        "\n",
        "Let's take a slightly different approach.\n",
        "Another way to generate structured outputs with `llama-index` is using the LLM pydantic program.\n",
        "Please read the documentation [here](https://docs.llamaindex.ai/en/stable/examples/output_parsing/llm_program/) and use `LLMTextCompletionProgram` to create data to populate the `items` table.\n",
        "\n",
        "**Hint:** Use the pydantic's `Field` to set some sensible defaults.\n",
        "You can set parameters like `ge` (greater than or equal to) or `le` (less than or equal to), or `default_factory` to use a function to generate default values."
      ],
      "metadata": {
        "id": "nlsiUxzPYBbW"
      }
    },
    {
      "cell_type": "code",
      "source": [
        "class Item(BaseModel):\n",
        "    name: str = Field(..., description=\"Name of the item\")\n",
        "    description: str = Field(..., description=\"A 3-4 sentence paragraph of text describing the item.\")\n",
        "    price: float = Field(..., description=\"Price of the item\")\n",
        "    quantity: int = Field(default_factory=lambda x: np.random.randint(0, 50), description=\"Quantity of the item in stock\", ge=0, le=50)\n",
        "\n",
        "class Items(BaseModel):\n",
        "    items: List[Item] = Field(..., description=\"List of items\")"
      ],
      "metadata": {
        "id": "X62YR-JCOe_p"
      },
      "execution_count": 62,
      "outputs": []
    },
    {
      "cell_type": "code",
      "source": [
        "program = LLMTextCompletionProgram.from_defaults(\n",
        "    output_cls=Items,\n",
        "    llm=gemini_llm,\n",
        "    prompt_template_str=\"Please create 5 electronics products. Previously generated items: {previous_items}.\",\n",
        ")"
      ],
      "metadata": {
        "id": "8Hsv-xzvPS-A"
      },
      "execution_count": 63,
      "outputs": []
    },
    {
      "cell_type": "code",
      "source": [
        "items = []\n",
        "previous_items = \"None\"\n",
        "for _ in range(10):\n",
        "    resp = program(previous_items=previous_items)\n",
        "    for i in resp.items:\n",
        "        items.append(i.model_dump())\n",
        "    previous_items = \", \".join(i['name'] for i in items)"
      ],
      "metadata": {
        "id": "jNGLqD6EQDIm"
      },
      "execution_count": 64,
      "outputs": []
    },
    {
      "cell_type": "code",
      "source": [
        "items_df = pd.DataFrame(items)"
      ],
      "metadata": {
        "id": "0shARN9EQSBD"
      },
      "execution_count": 65,
      "outputs": []
    },
    {
      "cell_type": "code",
      "source": [
        "engine = create_engine('sqlite:///ecommerce.db')\n",
        "items_df.to_sql('items', engine, if_exists='append', index=False)"
      ],
      "metadata": {
        "colab": {
          "base_uri": "https://localhost:8080/"
        },
        "id": "NEVIbpCRRooA",
        "outputId": "f38c6961-8dad-4d9c-827b-66c7a1ec16de"
      },
      "execution_count": 66,
      "outputs": [
        {
          "output_type": "execute_result",
          "data": {
            "text/plain": [
              "50"
            ]
          },
          "metadata": {},
          "execution_count": 66
        }
      ]
    },
    {
      "cell_type": "code",
      "source": [
        "query('SELECT * FROM items ORDER BY random() LIMIT 5;')"
      ],
      "metadata": {
        "colab": {
          "base_uri": "https://localhost:8080/",
          "height": 206
        },
        "id": "fIogt-AtRqh3",
        "outputId": "80f1514e-680b-4e98-82b9-a3499ad32e95"
      },
      "execution_count": 67,
      "outputs": [
        {
          "output_type": "execute_result",
          "data": {
            "text/plain": [
              "   item_id                                             name  \\\n",
              "0       42  Wireless Gaming Mouse with Programmable Buttons   \n",
              "1       18                 Wireless Outdoor Security Camera   \n",
              "2        3                       Portable Bluetooth Speaker   \n",
              "3       35   Smart Air Purifier with Air Quality Monitoring   \n",
              "4       28                   Smart Luggage Tracker with GPS   \n",
              "\n",
              "                                         description   price  quantity  \n",
              "0  Experience superior precision and control with...   79.99        42  \n",
              "1  Protect your property with this weatherproof w...   79.99        40  \n",
              "2  Take your music anywhere with this compact and...   79.99        30  \n",
              "3  Breathe cleaner, healthier air with this smart...  199.99        35  \n",
              "4  Never lose your luggage again with our Smart L...   39.99        20  "
            ],
            "text/html": [
              "\n",
              "  <div id=\"df-9948f169-1b0b-470d-89c8-b19c9af75dcb\" class=\"colab-df-container\">\n",
              "    <div>\n",
              "<style scoped>\n",
              "    .dataframe tbody tr th:only-of-type {\n",
              "        vertical-align: middle;\n",
              "    }\n",
              "\n",
              "    .dataframe tbody tr th {\n",
              "        vertical-align: top;\n",
              "    }\n",
              "\n",
              "    .dataframe thead th {\n",
              "        text-align: right;\n",
              "    }\n",
              "</style>\n",
              "<table border=\"1\" class=\"dataframe\">\n",
              "  <thead>\n",
              "    <tr style=\"text-align: right;\">\n",
              "      <th></th>\n",
              "      <th>item_id</th>\n",
              "      <th>name</th>\n",
              "      <th>description</th>\n",
              "      <th>price</th>\n",
              "      <th>quantity</th>\n",
              "    </tr>\n",
              "  </thead>\n",
              "  <tbody>\n",
              "    <tr>\n",
              "      <th>0</th>\n",
              "      <td>42</td>\n",
              "      <td>Wireless Gaming Mouse with Programmable Buttons</td>\n",
              "      <td>Experience superior precision and control with...</td>\n",
              "      <td>79.99</td>\n",
              "      <td>42</td>\n",
              "    </tr>\n",
              "    <tr>\n",
              "      <th>1</th>\n",
              "      <td>18</td>\n",
              "      <td>Wireless Outdoor Security Camera</td>\n",
              "      <td>Protect your property with this weatherproof w...</td>\n",
              "      <td>79.99</td>\n",
              "      <td>40</td>\n",
              "    </tr>\n",
              "    <tr>\n",
              "      <th>2</th>\n",
              "      <td>3</td>\n",
              "      <td>Portable Bluetooth Speaker</td>\n",
              "      <td>Take your music anywhere with this compact and...</td>\n",
              "      <td>79.99</td>\n",
              "      <td>30</td>\n",
              "    </tr>\n",
              "    <tr>\n",
              "      <th>3</th>\n",
              "      <td>35</td>\n",
              "      <td>Smart Air Purifier with Air Quality Monitoring</td>\n",
              "      <td>Breathe cleaner, healthier air with this smart...</td>\n",
              "      <td>199.99</td>\n",
              "      <td>35</td>\n",
              "    </tr>\n",
              "    <tr>\n",
              "      <th>4</th>\n",
              "      <td>28</td>\n",
              "      <td>Smart Luggage Tracker with GPS</td>\n",
              "      <td>Never lose your luggage again with our Smart L...</td>\n",
              "      <td>39.99</td>\n",
              "      <td>20</td>\n",
              "    </tr>\n",
              "  </tbody>\n",
              "</table>\n",
              "</div>\n",
              "    <div class=\"colab-df-buttons\">\n",
              "\n",
              "  <div class=\"colab-df-container\">\n",
              "    <button class=\"colab-df-convert\" onclick=\"convertToInteractive('df-9948f169-1b0b-470d-89c8-b19c9af75dcb')\"\n",
              "            title=\"Convert this dataframe to an interactive table.\"\n",
              "            style=\"display:none;\">\n",
              "\n",
              "  <svg xmlns=\"http://www.w3.org/2000/svg\" height=\"24px\" viewBox=\"0 -960 960 960\">\n",
              "    <path d=\"M120-120v-720h720v720H120Zm60-500h600v-160H180v160Zm220 220h160v-160H400v160Zm0 220h160v-160H400v160ZM180-400h160v-160H180v160Zm440 0h160v-160H620v160ZM180-180h160v-160H180v160Zm440 0h160v-160H620v160Z\"/>\n",
              "  </svg>\n",
              "    </button>\n",
              "\n",
              "  <style>\n",
              "    .colab-df-container {\n",
              "      display:flex;\n",
              "      gap: 12px;\n",
              "    }\n",
              "\n",
              "    .colab-df-convert {\n",
              "      background-color: #E8F0FE;\n",
              "      border: none;\n",
              "      border-radius: 50%;\n",
              "      cursor: pointer;\n",
              "      display: none;\n",
              "      fill: #1967D2;\n",
              "      height: 32px;\n",
              "      padding: 0 0 0 0;\n",
              "      width: 32px;\n",
              "    }\n",
              "\n",
              "    .colab-df-convert:hover {\n",
              "      background-color: #E2EBFA;\n",
              "      box-shadow: 0px 1px 2px rgba(60, 64, 67, 0.3), 0px 1px 3px 1px rgba(60, 64, 67, 0.15);\n",
              "      fill: #174EA6;\n",
              "    }\n",
              "\n",
              "    .colab-df-buttons div {\n",
              "      margin-bottom: 4px;\n",
              "    }\n",
              "\n",
              "    [theme=dark] .colab-df-convert {\n",
              "      background-color: #3B4455;\n",
              "      fill: #D2E3FC;\n",
              "    }\n",
              "\n",
              "    [theme=dark] .colab-df-convert:hover {\n",
              "      background-color: #434B5C;\n",
              "      box-shadow: 0px 1px 3px 1px rgba(0, 0, 0, 0.15);\n",
              "      filter: drop-shadow(0px 1px 2px rgba(0, 0, 0, 0.3));\n",
              "      fill: #FFFFFF;\n",
              "    }\n",
              "  </style>\n",
              "\n",
              "    <script>\n",
              "      const buttonEl =\n",
              "        document.querySelector('#df-9948f169-1b0b-470d-89c8-b19c9af75dcb button.colab-df-convert');\n",
              "      buttonEl.style.display =\n",
              "        google.colab.kernel.accessAllowed ? 'block' : 'none';\n",
              "\n",
              "      async function convertToInteractive(key) {\n",
              "        const element = document.querySelector('#df-9948f169-1b0b-470d-89c8-b19c9af75dcb');\n",
              "        const dataTable =\n",
              "          await google.colab.kernel.invokeFunction('convertToInteractive',\n",
              "                                                    [key], {});\n",
              "        if (!dataTable) return;\n",
              "\n",
              "        const docLinkHtml = 'Like what you see? Visit the ' +\n",
              "          '<a target=\"_blank\" href=https://colab.research.google.com/notebooks/data_table.ipynb>data table notebook</a>'\n",
              "          + ' to learn more about interactive tables.';\n",
              "        element.innerHTML = '';\n",
              "        dataTable['output_type'] = 'display_data';\n",
              "        await google.colab.output.renderOutput(dataTable, element);\n",
              "        const docLink = document.createElement('div');\n",
              "        docLink.innerHTML = docLinkHtml;\n",
              "        element.appendChild(docLink);\n",
              "      }\n",
              "    </script>\n",
              "  </div>\n",
              "\n",
              "\n",
              "<div id=\"df-aca6b6db-212b-4fae-bda5-2200c20bbab1\">\n",
              "  <button class=\"colab-df-quickchart\" onclick=\"quickchart('df-aca6b6db-212b-4fae-bda5-2200c20bbab1')\"\n",
              "            title=\"Suggest charts\"\n",
              "            style=\"display:none;\">\n",
              "\n",
              "<svg xmlns=\"http://www.w3.org/2000/svg\" height=\"24px\"viewBox=\"0 0 24 24\"\n",
              "     width=\"24px\">\n",
              "    <g>\n",
              "        <path d=\"M19 3H5c-1.1 0-2 .9-2 2v14c0 1.1.9 2 2 2h14c1.1 0 2-.9 2-2V5c0-1.1-.9-2-2-2zM9 17H7v-7h2v7zm4 0h-2V7h2v10zm4 0h-2v-4h2v4z\"/>\n",
              "    </g>\n",
              "</svg>\n",
              "  </button>\n",
              "\n",
              "<style>\n",
              "  .colab-df-quickchart {\n",
              "      --bg-color: #E8F0FE;\n",
              "      --fill-color: #1967D2;\n",
              "      --hover-bg-color: #E2EBFA;\n",
              "      --hover-fill-color: #174EA6;\n",
              "      --disabled-fill-color: #AAA;\n",
              "      --disabled-bg-color: #DDD;\n",
              "  }\n",
              "\n",
              "  [theme=dark] .colab-df-quickchart {\n",
              "      --bg-color: #3B4455;\n",
              "      --fill-color: #D2E3FC;\n",
              "      --hover-bg-color: #434B5C;\n",
              "      --hover-fill-color: #FFFFFF;\n",
              "      --disabled-bg-color: #3B4455;\n",
              "      --disabled-fill-color: #666;\n",
              "  }\n",
              "\n",
              "  .colab-df-quickchart {\n",
              "    background-color: var(--bg-color);\n",
              "    border: none;\n",
              "    border-radius: 50%;\n",
              "    cursor: pointer;\n",
              "    display: none;\n",
              "    fill: var(--fill-color);\n",
              "    height: 32px;\n",
              "    padding: 0;\n",
              "    width: 32px;\n",
              "  }\n",
              "\n",
              "  .colab-df-quickchart:hover {\n",
              "    background-color: var(--hover-bg-color);\n",
              "    box-shadow: 0 1px 2px rgba(60, 64, 67, 0.3), 0 1px 3px 1px rgba(60, 64, 67, 0.15);\n",
              "    fill: var(--button-hover-fill-color);\n",
              "  }\n",
              "\n",
              "  .colab-df-quickchart-complete:disabled,\n",
              "  .colab-df-quickchart-complete:disabled:hover {\n",
              "    background-color: var(--disabled-bg-color);\n",
              "    fill: var(--disabled-fill-color);\n",
              "    box-shadow: none;\n",
              "  }\n",
              "\n",
              "  .colab-df-spinner {\n",
              "    border: 2px solid var(--fill-color);\n",
              "    border-color: transparent;\n",
              "    border-bottom-color: var(--fill-color);\n",
              "    animation:\n",
              "      spin 1s steps(1) infinite;\n",
              "  }\n",
              "\n",
              "  @keyframes spin {\n",
              "    0% {\n",
              "      border-color: transparent;\n",
              "      border-bottom-color: var(--fill-color);\n",
              "      border-left-color: var(--fill-color);\n",
              "    }\n",
              "    20% {\n",
              "      border-color: transparent;\n",
              "      border-left-color: var(--fill-color);\n",
              "      border-top-color: var(--fill-color);\n",
              "    }\n",
              "    30% {\n",
              "      border-color: transparent;\n",
              "      border-left-color: var(--fill-color);\n",
              "      border-top-color: var(--fill-color);\n",
              "      border-right-color: var(--fill-color);\n",
              "    }\n",
              "    40% {\n",
              "      border-color: transparent;\n",
              "      border-right-color: var(--fill-color);\n",
              "      border-top-color: var(--fill-color);\n",
              "    }\n",
              "    60% {\n",
              "      border-color: transparent;\n",
              "      border-right-color: var(--fill-color);\n",
              "    }\n",
              "    80% {\n",
              "      border-color: transparent;\n",
              "      border-right-color: var(--fill-color);\n",
              "      border-bottom-color: var(--fill-color);\n",
              "    }\n",
              "    90% {\n",
              "      border-color: transparent;\n",
              "      border-bottom-color: var(--fill-color);\n",
              "    }\n",
              "  }\n",
              "</style>\n",
              "\n",
              "  <script>\n",
              "    async function quickchart(key) {\n",
              "      const quickchartButtonEl =\n",
              "        document.querySelector('#' + key + ' button');\n",
              "      quickchartButtonEl.disabled = true;  // To prevent multiple clicks.\n",
              "      quickchartButtonEl.classList.add('colab-df-spinner');\n",
              "      try {\n",
              "        const charts = await google.colab.kernel.invokeFunction(\n",
              "            'suggestCharts', [key], {});\n",
              "      } catch (error) {\n",
              "        console.error('Error during call to suggestCharts:', error);\n",
              "      }\n",
              "      quickchartButtonEl.classList.remove('colab-df-spinner');\n",
              "      quickchartButtonEl.classList.add('colab-df-quickchart-complete');\n",
              "    }\n",
              "    (() => {\n",
              "      let quickchartButtonEl =\n",
              "        document.querySelector('#df-aca6b6db-212b-4fae-bda5-2200c20bbab1 button');\n",
              "      quickchartButtonEl.style.display =\n",
              "        google.colab.kernel.accessAllowed ? 'block' : 'none';\n",
              "    })();\n",
              "  </script>\n",
              "</div>\n",
              "\n",
              "    </div>\n",
              "  </div>\n"
            ],
            "application/vnd.google.colaboratory.intrinsic+json": {
              "type": "dataframe",
              "summary": "{\n  \"name\": \"query('SELECT * FROM items ORDER BY random() LIMIT 5;')\",\n  \"rows\": 5,\n  \"fields\": [\n    {\n      \"column\": \"item_id\",\n      \"properties\": {\n        \"dtype\": \"number\",\n        \"std\": 15,\n        \"min\": 3,\n        \"max\": 42,\n        \"num_unique_values\": 5,\n        \"samples\": [\n          18,\n          28,\n          3\n        ],\n        \"semantic_type\": \"\",\n        \"description\": \"\"\n      }\n    },\n    {\n      \"column\": \"name\",\n      \"properties\": {\n        \"dtype\": \"string\",\n        \"num_unique_values\": 5,\n        \"samples\": [\n          \"Wireless Outdoor Security Camera\",\n          \"Smart Luggage Tracker with GPS\",\n          \"Portable Bluetooth Speaker\"\n        ],\n        \"semantic_type\": \"\",\n        \"description\": \"\"\n      }\n    },\n    {\n      \"column\": \"description\",\n      \"properties\": {\n        \"dtype\": \"string\",\n        \"num_unique_values\": 5,\n        \"samples\": [\n          \"Protect your property with this weatherproof wireless security camera.  Featuring night vision, motion detection, and two-way audio, it provides comprehensive security coverage.  Receive instant alerts to your smartphone when motion is detected, and review recordings remotely.  Enjoy peace of mind knowing your home is safe and secure.\",\n          \"Never lose your luggage again with our Smart Luggage Tracker.  This lightweight device attaches easily to your bag and uses GPS technology to track its location in real-time via a mobile app.  Receive notifications if your luggage is moved unexpectedly, providing peace of mind during your travels.  Long battery life ensures it lasts throughout your journey.\",\n          \"Take your music anywhere with this compact and powerful Bluetooth speaker.  Boasts a long-lasting battery and rich, immersive sound.  Durable and waterproof design perfect for outdoor adventures.\"\n        ],\n        \"semantic_type\": \"\",\n        \"description\": \"\"\n      }\n    },\n    {\n      \"column\": \"price\",\n      \"properties\": {\n        \"dtype\": \"number\",\n        \"std\": 60.66300355241241,\n        \"min\": 39.99,\n        \"max\": 199.99,\n        \"num_unique_values\": 3,\n        \"samples\": [\n          79.99,\n          199.99,\n          39.99\n        ],\n        \"semantic_type\": \"\",\n        \"description\": \"\"\n      }\n    },\n    {\n      \"column\": \"quantity\",\n      \"properties\": {\n        \"dtype\": \"number\",\n        \"std\": 8,\n        \"min\": 20,\n        \"max\": 42,\n        \"num_unique_values\": 5,\n        \"samples\": [\n          40,\n          20,\n          30\n        ],\n        \"semantic_type\": \"\",\n        \"description\": \"\"\n      }\n    }\n  ]\n}"
            }
          },
          "metadata": {},
          "execution_count": 67
        }
      ]
    },
    {
      "cell_type": "markdown",
      "source": [
        "## Order history\n",
        "\n",
        "Now let's generate the order history for each customer.\n",
        "Since we will have many orders per customer, we are potentially generating hundreds of orders.\n",
        "This is a time when we want to use async processing.\n",
        "For each customer, please generate between 0 and 20 orders using `acall` (`LLMTextCompletionProgram`) or `achat` (structured LLM).\n",
        "\n",
        "Try to think about typical patterns you'd see in ordering.\n",
        "For example, customers are probably shipping to themselves *most* of the time, but sometimes buy items shipped to a work address or to a friend's home as a gift.\n",
        "Think about what information you can pull from the database and what should be generated by the LLM to help set some sensible defaults."
      ],
      "metadata": {
        "id": "oik8psRGYEr5"
      }
    },
    {
      "cell_type": "code",
      "source": [
        "min_orders_per_customer = 0\n",
        "max_orders_per_customer = 20\n",
        "\n",
        "shipping_statuses = Literal['pending', 'shipped', 'delivered', 'cancelled']\n",
        "\n",
        "class Order(BaseModel):\n",
        "    status: shipping_statuses = Field(..., description=\"Status of the order\")\n",
        "    ordered_date: str = Field(..., description=\"Date the order was placed (YYYY-MM-DD)\")\n",
        "    estimated_delivery: str = Field(..., description=\"Estimated delivery date (YYYY-MM-DD)\")\n",
        "    shipping_carrier: str = Field(..., description=\"Shipping carrier\")\n",
        "    tracking_number: str = Field(default_factory=lambda: f\"{np.random.randint(0, 100000):04}\", description=\"Tracking number\")\n",
        "    shipping_address: str = Field(..., description=\"Shipping address\")\n",
        "\n",
        "class Orders(BaseModel):\n",
        "    orders: List[Order] = Field(..., description=\"List of orders\")\n",
        "\n",
        "structured_llm = openai_llm.as_structured_llm(output_cls=Orders)\n",
        "\n",
        "\n",
        "async def handle_customer(customer_id):\n",
        "    num_orders = np.random.randint(min_orders_per_customer, max_orders_per_customer)\n",
        "    # Get the customer data\n",
        "    customer = query(f\"\"\"\n",
        "        SELECT * FROM customers WHERE customer_id = {customer_id};\n",
        "    \"\"\").iloc[0]\n",
        "    # Randomly sample items\n",
        "    items = query(f\"\"\"\n",
        "        SELECT item_id FROM items ORDER BY RANDOM() LIMIT {num_orders};\n",
        "    \"\"\").to_dict(orient='records')\n",
        "    # Create the orders\n",
        "    orders = []\n",
        "    tasks = []\n",
        "\n",
        "    async def handle_items(items):\n",
        "        prompt = f\"Please create an order for the following items, with different dates: {str(these_items)}\"\n",
        "        messages = [ChatMessage.from_str(prompt)]\n",
        "        resp = await structured_llm.achat(messages)\n",
        "        for o, i in zip(resp.raw.orders, these_items):\n",
        "            o = o.model_dump()\n",
        "            o['customer_id'] = customer_id\n",
        "            o['item_id'] = i['item_id']\n",
        "            # I want to default to the customer's shipping address MOST of the time, but have some variability in case they're shipping somewhere else.\n",
        "            if np.random.random() < 0.9:\n",
        "                o['shipping_address'] = (\n",
        "                    customer['street_address'] + ', ' +\n",
        "                    customer['city'] + ', ' +\n",
        "                    customer['state'] + ', ' +\n",
        "                    customer['zip_code'] + ', ' +\n",
        "                    customer['country']\n",
        "                )\n",
        "            orders.append(o)\n",
        "    while len(items) > 0:\n",
        "        these_items = items[:3]\n",
        "        items = items[3:]\n",
        "        tasks.append(handle_items(these_items))\n",
        "    await asyncio.gather(*tasks)\n",
        "    return pd.DataFrame(orders)\n",
        "\n",
        "\n",
        "\n",
        ""
      ],
      "metadata": {
        "id": "ZrzAGV2UPNC4"
      },
      "execution_count": 72,
      "outputs": []
    },
    {
      "cell_type": "code",
      "source": [
        "customer_ids = query('SELECT customer_id FROM customers;').customer_id.to_list()"
      ],
      "metadata": {
        "id": "u3ZxNrfoSuCm"
      },
      "execution_count": 73,
      "outputs": []
    },
    {
      "cell_type": "code",
      "source": [
        "tasks = []\n",
        "for customer_id in customer_ids:\n",
        "    tasks.append(handle_customer(customer_id))\n",
        "dfs = await asyncio.gather(*tasks)"
      ],
      "metadata": {
        "id": "6961vDnLSySf"
      },
      "execution_count": 74,
      "outputs": []
    },
    {
      "cell_type": "code",
      "source": [
        "orders_df = pd.concat(dfs)"
      ],
      "metadata": {
        "id": "qOryaX0-T97Y"
      },
      "execution_count": 75,
      "outputs": []
    },
    {
      "cell_type": "code",
      "source": [
        "engine = create_engine('sqlite:///ecommerce.db')\n",
        "orders_df.to_sql('orders', engine, if_exists='append', index=False)"
      ],
      "metadata": {
        "colab": {
          "base_uri": "https://localhost:8080/"
        },
        "id": "3olf0B-NUFFH",
        "outputId": "f2337959-9f65-475f-9098-0119d379be58"
      },
      "execution_count": 76,
      "outputs": [
        {
          "output_type": "execute_result",
          "data": {
            "text/plain": [
              "116"
            ]
          },
          "metadata": {},
          "execution_count": 76
        }
      ]
    },
    {
      "cell_type": "code",
      "source": [
        "query('SELECT * FROM orders ORDER BY random() LIMIT 5;')"
      ],
      "metadata": {
        "colab": {
          "base_uri": "https://localhost:8080/",
          "height": 206
        },
        "id": "L-MrNDJdUMhO",
        "outputId": "da1f41f3-4f82-45ab-f350-c8c314f50815"
      },
      "execution_count": 77,
      "outputs": [
        {
          "output_type": "execute_result",
          "data": {
            "text/plain": [
              "   order_id customer_id item_id   status ordered_date estimated_delivery  \\\n",
              "0        92          11      38  pending   2023-10-02         2023-10-06   \n",
              "1        42           5      16  pending   2023-10-03         2023-10-07   \n",
              "2         9           2       8  pending   2023-10-01         2023-10-05   \n",
              "3       113          12      12  pending   2023-10-02         2023-10-06   \n",
              "4        45           5      16  pending   2023-10-03         2023-10-07   \n",
              "\n",
              "  shipping_carrier tracking_number                          shipping_address  \n",
              "0        Carrier B           57145     987 Elm Street, Boston, MA, 02115, US  \n",
              "1        Carrier C           35940     1213 Birch Rd, Chicago, IL, 60601, US  \n",
              "2        Carrier A           80131   456 Oak Ave, Springfield, IL, 62704, US  \n",
              "3        Carrier B           53413  10 Downing Street, London, MA, 02116, US  \n",
              "4        Carrier C           21329     1213 Birch Rd, Chicago, IL, 60601, US  "
            ],
            "text/html": [
              "\n",
              "  <div id=\"df-9437df56-096c-4553-ab00-a4a99699becd\" class=\"colab-df-container\">\n",
              "    <div>\n",
              "<style scoped>\n",
              "    .dataframe tbody tr th:only-of-type {\n",
              "        vertical-align: middle;\n",
              "    }\n",
              "\n",
              "    .dataframe tbody tr th {\n",
              "        vertical-align: top;\n",
              "    }\n",
              "\n",
              "    .dataframe thead th {\n",
              "        text-align: right;\n",
              "    }\n",
              "</style>\n",
              "<table border=\"1\" class=\"dataframe\">\n",
              "  <thead>\n",
              "    <tr style=\"text-align: right;\">\n",
              "      <th></th>\n",
              "      <th>order_id</th>\n",
              "      <th>customer_id</th>\n",
              "      <th>item_id</th>\n",
              "      <th>status</th>\n",
              "      <th>ordered_date</th>\n",
              "      <th>estimated_delivery</th>\n",
              "      <th>shipping_carrier</th>\n",
              "      <th>tracking_number</th>\n",
              "      <th>shipping_address</th>\n",
              "    </tr>\n",
              "  </thead>\n",
              "  <tbody>\n",
              "    <tr>\n",
              "      <th>0</th>\n",
              "      <td>92</td>\n",
              "      <td>11</td>\n",
              "      <td>38</td>\n",
              "      <td>pending</td>\n",
              "      <td>2023-10-02</td>\n",
              "      <td>2023-10-06</td>\n",
              "      <td>Carrier B</td>\n",
              "      <td>57145</td>\n",
              "      <td>987 Elm Street, Boston, MA, 02115, US</td>\n",
              "    </tr>\n",
              "    <tr>\n",
              "      <th>1</th>\n",
              "      <td>42</td>\n",
              "      <td>5</td>\n",
              "      <td>16</td>\n",
              "      <td>pending</td>\n",
              "      <td>2023-10-03</td>\n",
              "      <td>2023-10-07</td>\n",
              "      <td>Carrier C</td>\n",
              "      <td>35940</td>\n",
              "      <td>1213 Birch Rd, Chicago, IL, 60601, US</td>\n",
              "    </tr>\n",
              "    <tr>\n",
              "      <th>2</th>\n",
              "      <td>9</td>\n",
              "      <td>2</td>\n",
              "      <td>8</td>\n",
              "      <td>pending</td>\n",
              "      <td>2023-10-01</td>\n",
              "      <td>2023-10-05</td>\n",
              "      <td>Carrier A</td>\n",
              "      <td>80131</td>\n",
              "      <td>456 Oak Ave, Springfield, IL, 62704, US</td>\n",
              "    </tr>\n",
              "    <tr>\n",
              "      <th>3</th>\n",
              "      <td>113</td>\n",
              "      <td>12</td>\n",
              "      <td>12</td>\n",
              "      <td>pending</td>\n",
              "      <td>2023-10-02</td>\n",
              "      <td>2023-10-06</td>\n",
              "      <td>Carrier B</td>\n",
              "      <td>53413</td>\n",
              "      <td>10 Downing Street, London, MA, 02116, US</td>\n",
              "    </tr>\n",
              "    <tr>\n",
              "      <th>4</th>\n",
              "      <td>45</td>\n",
              "      <td>5</td>\n",
              "      <td>16</td>\n",
              "      <td>pending</td>\n",
              "      <td>2023-10-03</td>\n",
              "      <td>2023-10-07</td>\n",
              "      <td>Carrier C</td>\n",
              "      <td>21329</td>\n",
              "      <td>1213 Birch Rd, Chicago, IL, 60601, US</td>\n",
              "    </tr>\n",
              "  </tbody>\n",
              "</table>\n",
              "</div>\n",
              "    <div class=\"colab-df-buttons\">\n",
              "\n",
              "  <div class=\"colab-df-container\">\n",
              "    <button class=\"colab-df-convert\" onclick=\"convertToInteractive('df-9437df56-096c-4553-ab00-a4a99699becd')\"\n",
              "            title=\"Convert this dataframe to an interactive table.\"\n",
              "            style=\"display:none;\">\n",
              "\n",
              "  <svg xmlns=\"http://www.w3.org/2000/svg\" height=\"24px\" viewBox=\"0 -960 960 960\">\n",
              "    <path d=\"M120-120v-720h720v720H120Zm60-500h600v-160H180v160Zm220 220h160v-160H400v160Zm0 220h160v-160H400v160ZM180-400h160v-160H180v160Zm440 0h160v-160H620v160ZM180-180h160v-160H180v160Zm440 0h160v-160H620v160Z\"/>\n",
              "  </svg>\n",
              "    </button>\n",
              "\n",
              "  <style>\n",
              "    .colab-df-container {\n",
              "      display:flex;\n",
              "      gap: 12px;\n",
              "    }\n",
              "\n",
              "    .colab-df-convert {\n",
              "      background-color: #E8F0FE;\n",
              "      border: none;\n",
              "      border-radius: 50%;\n",
              "      cursor: pointer;\n",
              "      display: none;\n",
              "      fill: #1967D2;\n",
              "      height: 32px;\n",
              "      padding: 0 0 0 0;\n",
              "      width: 32px;\n",
              "    }\n",
              "\n",
              "    .colab-df-convert:hover {\n",
              "      background-color: #E2EBFA;\n",
              "      box-shadow: 0px 1px 2px rgba(60, 64, 67, 0.3), 0px 1px 3px 1px rgba(60, 64, 67, 0.15);\n",
              "      fill: #174EA6;\n",
              "    }\n",
              "\n",
              "    .colab-df-buttons div {\n",
              "      margin-bottom: 4px;\n",
              "    }\n",
              "\n",
              "    [theme=dark] .colab-df-convert {\n",
              "      background-color: #3B4455;\n",
              "      fill: #D2E3FC;\n",
              "    }\n",
              "\n",
              "    [theme=dark] .colab-df-convert:hover {\n",
              "      background-color: #434B5C;\n",
              "      box-shadow: 0px 1px 3px 1px rgba(0, 0, 0, 0.15);\n",
              "      filter: drop-shadow(0px 1px 2px rgba(0, 0, 0, 0.3));\n",
              "      fill: #FFFFFF;\n",
              "    }\n",
              "  </style>\n",
              "\n",
              "    <script>\n",
              "      const buttonEl =\n",
              "        document.querySelector('#df-9437df56-096c-4553-ab00-a4a99699becd button.colab-df-convert');\n",
              "      buttonEl.style.display =\n",
              "        google.colab.kernel.accessAllowed ? 'block' : 'none';\n",
              "\n",
              "      async function convertToInteractive(key) {\n",
              "        const element = document.querySelector('#df-9437df56-096c-4553-ab00-a4a99699becd');\n",
              "        const dataTable =\n",
              "          await google.colab.kernel.invokeFunction('convertToInteractive',\n",
              "                                                    [key], {});\n",
              "        if (!dataTable) return;\n",
              "\n",
              "        const docLinkHtml = 'Like what you see? Visit the ' +\n",
              "          '<a target=\"_blank\" href=https://colab.research.google.com/notebooks/data_table.ipynb>data table notebook</a>'\n",
              "          + ' to learn more about interactive tables.';\n",
              "        element.innerHTML = '';\n",
              "        dataTable['output_type'] = 'display_data';\n",
              "        await google.colab.output.renderOutput(dataTable, element);\n",
              "        const docLink = document.createElement('div');\n",
              "        docLink.innerHTML = docLinkHtml;\n",
              "        element.appendChild(docLink);\n",
              "      }\n",
              "    </script>\n",
              "  </div>\n",
              "\n",
              "\n",
              "<div id=\"df-b30f3eb9-5f11-4244-b299-f6eb016d7831\">\n",
              "  <button class=\"colab-df-quickchart\" onclick=\"quickchart('df-b30f3eb9-5f11-4244-b299-f6eb016d7831')\"\n",
              "            title=\"Suggest charts\"\n",
              "            style=\"display:none;\">\n",
              "\n",
              "<svg xmlns=\"http://www.w3.org/2000/svg\" height=\"24px\"viewBox=\"0 0 24 24\"\n",
              "     width=\"24px\">\n",
              "    <g>\n",
              "        <path d=\"M19 3H5c-1.1 0-2 .9-2 2v14c0 1.1.9 2 2 2h14c1.1 0 2-.9 2-2V5c0-1.1-.9-2-2-2zM9 17H7v-7h2v7zm4 0h-2V7h2v10zm4 0h-2v-4h2v4z\"/>\n",
              "    </g>\n",
              "</svg>\n",
              "  </button>\n",
              "\n",
              "<style>\n",
              "  .colab-df-quickchart {\n",
              "      --bg-color: #E8F0FE;\n",
              "      --fill-color: #1967D2;\n",
              "      --hover-bg-color: #E2EBFA;\n",
              "      --hover-fill-color: #174EA6;\n",
              "      --disabled-fill-color: #AAA;\n",
              "      --disabled-bg-color: #DDD;\n",
              "  }\n",
              "\n",
              "  [theme=dark] .colab-df-quickchart {\n",
              "      --bg-color: #3B4455;\n",
              "      --fill-color: #D2E3FC;\n",
              "      --hover-bg-color: #434B5C;\n",
              "      --hover-fill-color: #FFFFFF;\n",
              "      --disabled-bg-color: #3B4455;\n",
              "      --disabled-fill-color: #666;\n",
              "  }\n",
              "\n",
              "  .colab-df-quickchart {\n",
              "    background-color: var(--bg-color);\n",
              "    border: none;\n",
              "    border-radius: 50%;\n",
              "    cursor: pointer;\n",
              "    display: none;\n",
              "    fill: var(--fill-color);\n",
              "    height: 32px;\n",
              "    padding: 0;\n",
              "    width: 32px;\n",
              "  }\n",
              "\n",
              "  .colab-df-quickchart:hover {\n",
              "    background-color: var(--hover-bg-color);\n",
              "    box-shadow: 0 1px 2px rgba(60, 64, 67, 0.3), 0 1px 3px 1px rgba(60, 64, 67, 0.15);\n",
              "    fill: var(--button-hover-fill-color);\n",
              "  }\n",
              "\n",
              "  .colab-df-quickchart-complete:disabled,\n",
              "  .colab-df-quickchart-complete:disabled:hover {\n",
              "    background-color: var(--disabled-bg-color);\n",
              "    fill: var(--disabled-fill-color);\n",
              "    box-shadow: none;\n",
              "  }\n",
              "\n",
              "  .colab-df-spinner {\n",
              "    border: 2px solid var(--fill-color);\n",
              "    border-color: transparent;\n",
              "    border-bottom-color: var(--fill-color);\n",
              "    animation:\n",
              "      spin 1s steps(1) infinite;\n",
              "  }\n",
              "\n",
              "  @keyframes spin {\n",
              "    0% {\n",
              "      border-color: transparent;\n",
              "      border-bottom-color: var(--fill-color);\n",
              "      border-left-color: var(--fill-color);\n",
              "    }\n",
              "    20% {\n",
              "      border-color: transparent;\n",
              "      border-left-color: var(--fill-color);\n",
              "      border-top-color: var(--fill-color);\n",
              "    }\n",
              "    30% {\n",
              "      border-color: transparent;\n",
              "      border-left-color: var(--fill-color);\n",
              "      border-top-color: var(--fill-color);\n",
              "      border-right-color: var(--fill-color);\n",
              "    }\n",
              "    40% {\n",
              "      border-color: transparent;\n",
              "      border-right-color: var(--fill-color);\n",
              "      border-top-color: var(--fill-color);\n",
              "    }\n",
              "    60% {\n",
              "      border-color: transparent;\n",
              "      border-right-color: var(--fill-color);\n",
              "    }\n",
              "    80% {\n",
              "      border-color: transparent;\n",
              "      border-right-color: var(--fill-color);\n",
              "      border-bottom-color: var(--fill-color);\n",
              "    }\n",
              "    90% {\n",
              "      border-color: transparent;\n",
              "      border-bottom-color: var(--fill-color);\n",
              "    }\n",
              "  }\n",
              "</style>\n",
              "\n",
              "  <script>\n",
              "    async function quickchart(key) {\n",
              "      const quickchartButtonEl =\n",
              "        document.querySelector('#' + key + ' button');\n",
              "      quickchartButtonEl.disabled = true;  // To prevent multiple clicks.\n",
              "      quickchartButtonEl.classList.add('colab-df-spinner');\n",
              "      try {\n",
              "        const charts = await google.colab.kernel.invokeFunction(\n",
              "            'suggestCharts', [key], {});\n",
              "      } catch (error) {\n",
              "        console.error('Error during call to suggestCharts:', error);\n",
              "      }\n",
              "      quickchartButtonEl.classList.remove('colab-df-spinner');\n",
              "      quickchartButtonEl.classList.add('colab-df-quickchart-complete');\n",
              "    }\n",
              "    (() => {\n",
              "      let quickchartButtonEl =\n",
              "        document.querySelector('#df-b30f3eb9-5f11-4244-b299-f6eb016d7831 button');\n",
              "      quickchartButtonEl.style.display =\n",
              "        google.colab.kernel.accessAllowed ? 'block' : 'none';\n",
              "    })();\n",
              "  </script>\n",
              "</div>\n",
              "\n",
              "    </div>\n",
              "  </div>\n"
            ],
            "application/vnd.google.colaboratory.intrinsic+json": {
              "type": "dataframe",
              "summary": "{\n  \"name\": \"query('SELECT * FROM orders ORDER BY random() LIMIT 5;')\",\n  \"rows\": 5,\n  \"fields\": [\n    {\n      \"column\": \"order_id\",\n      \"properties\": {\n        \"dtype\": \"number\",\n        \"std\": 41,\n        \"min\": 9,\n        \"max\": 113,\n        \"num_unique_values\": 5,\n        \"samples\": [\n          42,\n          45,\n          9\n        ],\n        \"semantic_type\": \"\",\n        \"description\": \"\"\n      }\n    },\n    {\n      \"column\": \"customer_id\",\n      \"properties\": {\n        \"dtype\": \"string\",\n        \"num_unique_values\": 4,\n        \"samples\": [\n          \"5\",\n          \"12\",\n          \"11\"\n        ],\n        \"semantic_type\": \"\",\n        \"description\": \"\"\n      }\n    },\n    {\n      \"column\": \"item_id\",\n      \"properties\": {\n        \"dtype\": \"string\",\n        \"num_unique_values\": 4,\n        \"samples\": [\n          \"16\",\n          \"12\",\n          \"38\"\n        ],\n        \"semantic_type\": \"\",\n        \"description\": \"\"\n      }\n    },\n    {\n      \"column\": \"status\",\n      \"properties\": {\n        \"dtype\": \"category\",\n        \"num_unique_values\": 1,\n        \"samples\": [\n          \"pending\"\n        ],\n        \"semantic_type\": \"\",\n        \"description\": \"\"\n      }\n    },\n    {\n      \"column\": \"ordered_date\",\n      \"properties\": {\n        \"dtype\": \"object\",\n        \"num_unique_values\": 3,\n        \"samples\": [\n          \"2023-10-02\"\n        ],\n        \"semantic_type\": \"\",\n        \"description\": \"\"\n      }\n    },\n    {\n      \"column\": \"estimated_delivery\",\n      \"properties\": {\n        \"dtype\": \"object\",\n        \"num_unique_values\": 3,\n        \"samples\": [\n          \"2023-10-06\"\n        ],\n        \"semantic_type\": \"\",\n        \"description\": \"\"\n      }\n    },\n    {\n      \"column\": \"shipping_carrier\",\n      \"properties\": {\n        \"dtype\": \"string\",\n        \"num_unique_values\": 3,\n        \"samples\": [\n          \"Carrier B\"\n        ],\n        \"semantic_type\": \"\",\n        \"description\": \"\"\n      }\n    },\n    {\n      \"column\": \"tracking_number\",\n      \"properties\": {\n        \"dtype\": \"string\",\n        \"num_unique_values\": 5,\n        \"samples\": [\n          \"35940\"\n        ],\n        \"semantic_type\": \"\",\n        \"description\": \"\"\n      }\n    },\n    {\n      \"column\": \"shipping_address\",\n      \"properties\": {\n        \"dtype\": \"string\",\n        \"num_unique_values\": 4,\n        \"samples\": [\n          \"1213 Birch Rd, Chicago, IL, 60601, US\"\n        ],\n        \"semantic_type\": \"\",\n        \"description\": \"\"\n      }\n    }\n  ]\n}"
            }
          },
          "metadata": {},
          "execution_count": 77
        }
      ]
    },
    {
      "cell_type": "markdown",
      "source": [
        "# Wrapping up\n",
        "\n",
        "We will use `ecommerce.db` in the lab tomorrow.\n",
        "There are two options:\n",
        "\n",
        "1. Download `ecommerce.db` to your local device, and we'll upload it to the colab notebook during the next lab\n",
        "2. Save it to your Google drive. To save to your Google drive, click the google drive folder as shown below, then run the cell below.\n",
        "Then we will be able to access this database tomorrow!\n",
        "\n",
        "![image.png](data:image/png;base64,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)\n",
        "\n"
      ],
      "metadata": {
        "id": "Rq5J2OmVUOji"
      }
    },
    {
      "cell_type": "code",
      "source": [
        "if not os.path.exists('drive/MyDrive/CTME-LLM-labs'):\n",
        "    !mkdir drive/MyDrive/CTME-LLM-labs\n",
        "!cp ecommerce.db drive/MyDrive/CTME-LLM-labs/"
      ],
      "metadata": {
        "id": "JfsVhrI9XVRZ"
      },
      "execution_count": 78,
      "outputs": []
    },
    {
      "cell_type": "code",
      "source": [],
      "metadata": {
        "id": "S-42qJP8XcfZ"
      },
      "execution_count": null,
      "outputs": []
    }
  ]
}