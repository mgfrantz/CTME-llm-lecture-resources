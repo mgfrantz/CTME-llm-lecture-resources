{
  "cells": [
    {
      "cell_type": "markdown",
      "metadata": {
        "id": "view-in-github",
        "colab_type": "text"
      },
      "source": [
        "<a href=\"https://colab.research.google.com/github/mgfrantz/CTME-llm-lecture-resources/blob/main/prototyping_ai/02_rag_and_agents.ipynb\" target=\"_parent\"><img src=\"https://colab.research.google.com/assets/colab-badge.svg\" alt=\"Open In Colab\"/></a>"
      ]
    },
    {
      "cell_type": "markdown",
      "metadata": {
        "id": "FdpMCqH0PRA5"
      },
      "source": [
        "# Retrieval Augmented Generation\n",
        "\n",
        "![](https://www.dailydoseofds.com/content/images/2024/10/rag.gif)\n",
        "Source: [Daily Dose of DS](https://www.dailydoseofds.com/a-crash-course-on-building-rag-systems-part-1-with-implementations/)"
      ]
    },
    {
      "cell_type": "code",
      "execution_count": null,
      "metadata": {
        "id": "ubW_licPPRA6"
      },
      "outputs": [],
      "source": [
        "# %load_ext rich\n",
        "# %load_ext autoreload\n",
        "# %autoreload 2"
      ]
    },
    {
      "cell_type": "markdown",
      "metadata": {
        "id": "vUdhaECKPRA6"
      },
      "source": [
        "# Introduction to RAG with LlamaIndex\n",
        "\n",
        "LlamaIndex is a library for working with large language models.\n",
        "One of its main strengths is its ability to ingest documents into a vector index and use them to answer questions.\n",
        "This is known as Retrieval Augmented Generation (RAG).\n",
        "\n",
        "To start, we will use a low-code, high-level abstraction to build a basic PDF question-answering system.\n",
        "We will read in PDFs, split them into chunks, embed them, and store them in a vector database.\n",
        "Then, we will use an abstraction known as a `QueryEngine` that implements RAG to answer questions about the documents."
      ]
    },
    {
      "cell_type": "code",
      "execution_count": null,
      "metadata": {
        "id": "-UXn7H6nPRA6"
      },
      "outputs": [],
      "source": [
        "# If we're in colab, use userdata to get the OPENAI_API_KEY\n",
        "import os\n",
        "from rich import print\n",
        "from pathlib import Path\n",
        "\n",
        "try:\n",
        "    from google.colab import userdata\n",
        "    print(\"Colab detected - setting up environment\")\n",
        "    os.environ[\"OPENAI_API_KEY\"] = userdata.get(\"OPENAI_API_KEY\")\n",
        "    %pip install -qqqq llama-index \\\n",
        "        llama-index-readers-web \\\n",
        "        thefuzz \\\n",
        "        gradio \\\n",
        "        chromadb \\\n",
        "        llama-index-embeddings-huggingface \\\n",
        "        llama-index-vector-stores-chroma \\\n",
        "        llama-index-retrievers-bm25 \\\n",
        "        llama-index-llms-gemini \\\n",
        "        docling \\\n",
        "        llama-index-readers-docling \\\n",
        "        llama-index-node-parser-docling \\\n",
        "        llama-index-utils-workflow \\\n",
        "        llama-index-tools-yahoo-finance \\\n",
        "        llama-index-tools-code-interpreter\n",
        "\n",
        "except:\n",
        "    print(\"Not in colab - using local environment variables.\")\n",
        "    from dotenv import load_dotenv\n",
        "    load_dotenv(\"../.env\")\n"
      ]
    },
    {
      "cell_type": "code",
      "execution_count": null,
      "metadata": {
        "id": "Vcl5nxumPRA7"
      },
      "outputs": [],
      "source": [
        "import os\n",
        "import requests\n",
        "\n",
        "# Create data directory if it doesn't exist\n",
        "data_dir = \"data\"\n",
        "if not os.path.exists(data_dir):\n",
        "    os.makedirs(data_dir)\n",
        "\n",
        "# Download the PDF file\n",
        "pdf_url = \"https://arxiv.org/pdf/2407.21783\"\n",
        "pdf_path = os.path.join(data_dir, \"2407.21783.pdf\")\n",
        "\n",
        "if not os.path.exists(pdf_path):\n",
        "    response = requests.get(pdf_url)\n",
        "    with open(pdf_path, \"wb\") as f:\n",
        "        f.write(response.content)\n",
        "    print(f\"Downloaded PDF to {pdf_path}\")\n",
        "else:\n",
        "    print(f\"PDF already exists at {pdf_path}\")\n"
      ]
    },
    {
      "cell_type": "markdown",
      "metadata": {
        "id": "Nam_of7BPRA7"
      },
      "source": [
        "The first thing we need to do is to load the data.\n",
        "For general documents like PDFs, LlamaIndex provides a nice abstraction known as a `SimpleDirectoryReader` that can load data from a directory.\n",
        "In the cell below, we use it to load the data from the `data` directory."
      ]
    },
    {
      "cell_type": "code",
      "execution_count": null,
      "metadata": {
        "id": "o8-9-SjIPRA7"
      },
      "outputs": [],
      "source": [
        "from llama_index.core.readers import SimpleDirectoryReader\n",
        "documents = SimpleDirectoryReader(data_dir).load_data()"
      ]
    },
    {
      "cell_type": "markdown",
      "metadata": {
        "id": "ZhqEzFgXPRA7"
      },
      "source": [
        "Let's take a look at the first document.\n",
        "Most prominently, we get the text of the document.\n",
        "By default, we also get a lot of useful information, like the page number file name, file path, type, size, etc.\n",
        "When we load lots of documents, this type of information becomes important to keep track of."
      ]
    },
    {
      "cell_type": "code",
      "execution_count": null,
      "metadata": {
        "id": "t9KwcP7ZPRA7"
      },
      "outputs": [],
      "source": [
        "print(documents[0])"
      ]
    },
    {
      "cell_type": "markdown",
      "metadata": {
        "id": "SEwUiWVnPRA7"
      },
      "source": [
        "Now that we've loaded the data, we need to vectorize it.\n",
        "We will use a combination of an embedding model and a vector database to store the vectors.\n",
        "In the cell below, we use a HuggingFace embedding model to embed the documents.\n",
        "We also use torch to determine the device to use for the embedding model (`mps` for Mac GPUs, `cuda` for Nvidia GPUs, and `cpu` otherwise)."
      ]
    },
    {
      "cell_type": "code",
      "execution_count": null,
      "metadata": {
        "id": "tmt0i3uuPRA7"
      },
      "outputs": [],
      "source": [
        "from llama_index.core import VectorStoreIndex\n",
        "from llama_index.embeddings.huggingface import HuggingFaceEmbedding\n",
        "from torch.backends.mps import is_available as is_mps_available\n",
        "from torch.cuda import is_available as is_cuda_available\n",
        "\n",
        "if is_mps_available():\n",
        "    device = \"mps\"\n",
        "elif is_cuda_available():\n",
        "    device = \"cuda\"\n",
        "else:\n",
        "    device = \"cpu\"\n",
        "\n",
        "embed_model = HuggingFaceEmbedding(model_name=\"BAAI/bge-large-en-v1.5\", device=device)\n",
        "index = VectorStoreIndex.from_documents(documents, embed_model=embed_model)"
      ]
    },
    {
      "cell_type": "markdown",
      "metadata": {
        "id": "lLxrly7ZPRA7"
      },
      "source": [
        "Finally, let's set up our RAG query engine.\n",
        "If we want to perform simple question-answering, we can use the `as_query_engine` method.\n",
        "If we want to perform chat with history, we can use the `as_chat_engine` method.\n",
        "We can see both below 👇.\n"
      ]
    },
    {
      "cell_type": "code",
      "execution_count": null,
      "metadata": {
        "id": "YrcyIRT7PRA7"
      },
      "outputs": [],
      "source": [
        "from llama_index.llms.openai import OpenAI\n",
        "from llama_index.core import Settings\n",
        "llm = OpenAI(model=\"gpt-4o-mini\")\n",
        "Settings.llm = llm # set gpt-4o-mini as the default llm\n",
        "\n",
        "query_engine = index.as_query_engine(llm=llm)\n",
        "chat_engine = index.as_chat_engine(llm=llm)"
      ]
    },
    {
      "cell_type": "markdown",
      "metadata": {
        "id": "r4Np-T-APRA8"
      },
      "source": [
        "Let's see how the query enine works.\n",
        "We start by passing it a question, then it uses the retriever to find the most relevant documents.\n",
        "Finally, it uses the LLM to answer the question."
      ]
    },
    {
      "cell_type": "code",
      "execution_count": null,
      "metadata": {
        "id": "APBVUh8bPRA8"
      },
      "outputs": [],
      "source": [
        "response = query_engine.query(\"How many new Llama models models are mentioned in the paper?\")"
      ]
    },
    {
      "cell_type": "markdown",
      "metadata": {
        "id": "WyWicsqsPRA8"
      },
      "source": [
        "Below we see the response text.\n",
        "But there's also some additional information that we can access, including the source nodes.\n",
        "These are the nodes that the retriever used to answer the question.\n",
        "We can see that the retriever found several nodes that are relevant to the question, then the LLM used at least one of them to answer the question."
      ]
    },
    {
      "cell_type": "code",
      "execution_count": null,
      "metadata": {
        "id": "ZIAjrhRDPRA8"
      },
      "outputs": [],
      "source": [
        "print(response.response)"
      ]
    },
    {
      "cell_type": "markdown",
      "metadata": {
        "id": "FRYEiMmvPRA8"
      },
      "source": [
        "Taking a look at the first source node, we can see that it is a node that contains part of the document that is relevant to the question.\n",
        "It also contains the `score`, which is the similarity between the question and the node.\n"
      ]
    },
    {
      "cell_type": "code",
      "execution_count": null,
      "metadata": {
        "id": "P_SihGR1PRA8"
      },
      "outputs": [],
      "source": [
        "print(response.source_nodes[0])"
      ]
    },
    {
      "cell_type": "markdown",
      "metadata": {
        "id": "aWRv4Vy4PRA8"
      },
      "source": [
        "Now let's see if our chat enigine comes up with the same answer."
      ]
    },
    {
      "cell_type": "code",
      "execution_count": null,
      "metadata": {
        "id": "YVw3PhgZPRA8"
      },
      "outputs": [],
      "source": [
        "chat_response = chat_engine.chat(\"How many new Llama models models are mentioned in the paper?\")\n",
        "print(chat_response.response)\n",
        "print(chat_response.source_nodes[0])"
      ]
    },
    {
      "cell_type": "markdown",
      "metadata": {
        "id": "G01NCD7PPRA8"
      },
      "source": [
        "# Data ingestion\n",
        "\n",
        "Data often comes in many different formats.\n",
        "It may come in the form of a PDF, a web page, a code file, etc.\n",
        "We may need some specific processing pipelines to extract the text from these documents, split them correctly, and vectorize them.\n",
        "\n",
        "Luckily, LlamaIndex (and other libraries) provide lots of built-in and add-on tools to help you ingest almost any data type.\n",
        "Instead of loading a PDF, let's load a web page instead.\n",
        "We will use one of the classes provided by [`llama-index-readers-web`](https://llamahub.ai/l/readers/llama-index-readers-web?from=readers) to load data from a web page.\n",
        "\n",
        "In this section, we will:\n",
        "- Load a web page as Markdown\n",
        "- Split it into chunks following the structured format of the Markdown\n",
        "- Embed the chunks\n",
        "- Store the chunks in a vector database\n",
        "- Create a query engine from the vector database and use it to answer a question\n"
      ]
    },
    {
      "cell_type": "code",
      "execution_count": null,
      "metadata": {
        "id": "AcwEOU-oPRA8"
      },
      "outputs": [],
      "source": [
        "from llama_index.readers.web import SimpleWebPageReader\n",
        "from llama_index.core.node_parser import MarkdownNodeParser\n",
        "from llama_index.core.ingestion import IngestionPipeline\n",
        "from llama_index.vector_stores.chroma import ChromaVectorStore\n",
        "import chromadb\n"
      ]
    },
    {
      "cell_type": "code",
      "execution_count": null,
      "metadata": {
        "id": "BYkplNQJPRA8"
      },
      "outputs": [],
      "source": [
        "web_docs = SimpleWebPageReader(html_to_text=True).load_data(['https://en.wikipedia.org/wiki/Wikipedia'])"
      ]
    },
    {
      "cell_type": "code",
      "execution_count": null,
      "metadata": {
        "id": "W7JCSA2yPRA8"
      },
      "outputs": [],
      "source": [
        "wikipedia_collection = chromadb.EphemeralClient().create_collection(\"wikipedia\", get_or_create=True)\n",
        "wikipedia_vector_store = ChromaVectorStore(wikipedia_collection)"
      ]
    },
    {
      "cell_type": "code",
      "execution_count": null,
      "metadata": {
        "id": "15G0Wfz-PRA8"
      },
      "outputs": [],
      "source": [
        "wikipedia_pipeline = IngestionPipeline(\n",
        "    transformations=[\n",
        "        MarkdownNodeParser.from_defaults(),\n",
        "        embed_model,\n",
        "    ],\n",
        "    vector_store=wikipedia_vector_store\n",
        ")"
      ]
    },
    {
      "cell_type": "code",
      "execution_count": null,
      "metadata": {
        "id": "QDoMJ1F5PRA8"
      },
      "outputs": [],
      "source": [
        "wikipedia_nodes = wikipedia_pipeline.run(documents=web_docs)"
      ]
    },
    {
      "cell_type": "code",
      "execution_count": null,
      "metadata": {
        "id": "cQUAW_b9PRA8"
      },
      "outputs": [],
      "source": [
        "wikipedia_index = VectorStoreIndex.from_vector_store(wikipedia_vector_store, embed_model=embed_model)"
      ]
    },
    {
      "cell_type": "code",
      "execution_count": null,
      "metadata": {
        "id": "xCLqe7L8PRA8"
      },
      "outputs": [],
      "source": [
        "llm = OpenAI(model=\"gpt-4o-mini\")\n",
        "query_engine = wikipedia_index.as_query_engine(llm=llm)\n",
        "response = query_engine.query(\"How many languages there exactly? Quote the exact text as well.\")\n",
        "print(response.response)"
      ]
    },
    {
      "cell_type": "code",
      "execution_count": null,
      "metadata": {
        "id": "vOBjL1mAPRA8"
      },
      "outputs": [],
      "source": [
        "# Use fuzzywuzzy to find the closest match in the source text\n",
        "from thefuzz import fuzz, process\n",
        "# Get the top matching line of text from the source_text_quote\n",
        "top_match, match_score = process.extractOne(response.response, response.source_nodes[0].text.splitlines(), scorer=fuzz.ratio)\n",
        "assert top_match in response.source_nodes[0].text\n",
        "print(f\"Quote from source: '{top_match}'\")"
      ]
    },
    {
      "cell_type": "markdown",
      "metadata": {
        "id": "7VeVqzy-PRA8"
      },
      "source": [
        "## OCR\n",
        "\n",
        "There are times where the PDF is not in a format that can be easily read into text.\n",
        "In these cases, we will need to use optical character recognition (OCR) to convert the images to text.\n",
        "There are many libraries and cloud services that can do this, but for this example, we will use the `docling` library since our example document is a PDF.\n",
        "We will then ingest the text into LlamaIndex and use it to answer a question.\n",
        "\n",
        "![](https://ds4sd.github.io/docling/assets/docling_processing.png)"
      ]
    },
    {
      "cell_type": "code",
      "execution_count": null,
      "metadata": {
        "id": "1a1XWpUnPRA9"
      },
      "outputs": [],
      "source": [
        "from llama_index.readers.docling import DoclingReader\n",
        "from llama_index.node_parser.docling import DoclingNodeParser\n",
        "from llama_index.core.schema import Document\n",
        "from llama_index.core import StorageContext"
      ]
    },
    {
      "cell_type": "code",
      "execution_count": null,
      "metadata": {
        "id": "Xf_8MoQqPRA9"
      },
      "outputs": [],
      "source": [
        "reader = DoclingReader(export_type=DoclingReader.ExportType.JSON)"
      ]
    },
    {
      "cell_type": "code",
      "execution_count": null,
      "metadata": {
        "id": "Mt0B1zJNPRA9"
      },
      "outputs": [],
      "source": [
        "docling_docs = reader.load_data(pdf_path)"
      ]
    },
    {
      "cell_type": "code",
      "execution_count": null,
      "metadata": {
        "id": "KC3HOGp5PRA9"
      },
      "outputs": [],
      "source": [
        "len(docling_docs)"
      ]
    },
    {
      "cell_type": "code",
      "execution_count": null,
      "metadata": {
        "id": "zpkSlXlKPRA9"
      },
      "outputs": [],
      "source": [
        "# We need to set the text template to \"{content}\" because the default is \"{metadata}\\n\\n{content}\",\n",
        "# and LlamaIndex will try to embed the metadata as well. The metadata is not useful at serach time.\n",
        "docling_docs[0].text_template\n",
        "docling_docs[0].text_template = \"{content}\""
      ]
    },
    {
      "cell_type": "code",
      "execution_count": null,
      "metadata": {
        "id": "n4VCj_SKPRA9"
      },
      "outputs": [],
      "source": [
        "docling_node_parser = DoclingNodeParser()\n",
        "docling_nodes = docling_node_parser.get_nodes_from_documents(docling_docs)\n",
        "len(docling_nodes)"
      ]
    },
    {
      "cell_type": "code",
      "execution_count": null,
      "metadata": {
        "id": "s7wTal-kPRA9"
      },
      "outputs": [],
      "source": [
        "docling_nodes[0].metadata"
      ]
    },
    {
      "cell_type": "code",
      "execution_count": null,
      "metadata": {
        "id": "rVfmddupPRA9"
      },
      "outputs": [],
      "source": [
        "index = VectorStoreIndex(nodes=docling_nodes, embed_model=embed_model)"
      ]
    },
    {
      "cell_type": "code",
      "execution_count": null,
      "metadata": {
        "id": "JL8jtJw0PRA9"
      },
      "outputs": [],
      "source": [
        "query_engine = index.as_query_engine(llm=llm)\n",
        "response = query_engine.query(\"How many new Llama models are mentioned in the paper?\")\n",
        "print(response.response)"
      ]
    },
    {
      "cell_type": "code",
      "execution_count": null,
      "metadata": {
        "id": "5pkuBejgPRA-"
      },
      "outputs": [],
      "source": [
        "print(response.source_nodes[1])"
      ]
    },
    {
      "cell_type": "markdown",
      "metadata": {
        "id": "FMrHHmPCPRA-"
      },
      "source": [
        "# Data splitting\n",
        "\n",
        "Many times, it's impractical to embed the entire document, and expensive to feed the entire document to the LLM.\n",
        "Instead, we can split the document into chunks, embed the chunks, and use a retrieval method to find the most relevant chunks.\n",
        "There are naïve methods that split texts into chunks of a specific length with some overlap;\n",
        "there are methods that use the structure of the document to split it into sections (e.g. sections, figures, tables);\n",
        "and there are more advanced methods that use semantic similarity to group the text into chunks."
      ]
    },
    {
      "cell_type": "markdown",
      "metadata": {
        "id": "TWZ8p8cvPRA-"
      },
      "source": [
        "Since the OCR'd text is just one very long Markdown string, we need to split it into chunks.\n",
        "One nice way to do that is use the inherent structure of Markdown to split it into sections.\n",
        "We do that here with LlamaIndex's `MarkdownNodeParser`."
      ]
    },
    {
      "cell_type": "code",
      "execution_count": null,
      "metadata": {
        "id": "FF9kMDG6PRA-"
      },
      "outputs": [],
      "source": [
        "docling_md_docs = DoclingReader(export_type=DoclingReader.ExportType.MARKDOWN).load_data(pdf_path)"
      ]
    },
    {
      "cell_type": "code",
      "execution_count": null,
      "metadata": {
        "id": "8rFYY-jYPRA-"
      },
      "outputs": [],
      "source": [
        "from llama_index.core.node_parser import MarkdownNodeParser\n",
        "from IPython.display import Markdown, display"
      ]
    },
    {
      "cell_type": "code",
      "execution_count": null,
      "metadata": {
        "id": "_Sn0mNQIPRA-"
      },
      "outputs": [],
      "source": [
        "md_nodes = MarkdownNodeParser.from_defaults().get_nodes_from_documents(documents=docling_md_docs)"
      ]
    },
    {
      "cell_type": "code",
      "execution_count": null,
      "metadata": {
        "id": "sYGvk5e4PRA-"
      },
      "outputs": [],
      "source": [
        "len(md_nodes)"
      ]
    },
    {
      "cell_type": "code",
      "execution_count": null,
      "metadata": {
        "id": "XoTOp5RSPRA-"
      },
      "outputs": [],
      "source": [
        "display(Markdown(md_nodes[9].text))\n"
      ]
    },
    {
      "cell_type": "code",
      "execution_count": null,
      "metadata": {
        "id": "25d_hTKUPRA-"
      },
      "outputs": [],
      "source": [
        "md_index = VectorStoreIndex(nodes=md_nodes, embed_model=embed_model)\n",
        "md_query_engine = md_index.as_query_engine(llm=llm)\n",
        "response = md_query_engine.query(\"How many llama3 models are there?\")\n",
        "print(response.response)\n",
        "print(response.source_nodes[0].text)"
      ]
    },
    {
      "cell_type": "markdown",
      "metadata": {
        "id": "YUOPYId-PRA-"
      },
      "source": [
        "---"
      ]
    },
    {
      "cell_type": "markdown",
      "metadata": {
        "id": "uVqiDCj0PRA-"
      },
      "source": [
        "# Retrieval"
      ]
    },
    {
      "cell_type": "markdown",
      "metadata": {
        "id": "MFUASwojPRA-"
      },
      "source": [
        "## Starting simple: bm25\n",
        "\n",
        "BM25 is a simple retrieval method that uses the BM25 algorithm to score the relevance of each document to the query.\n",
        "The BM25 algorithm is a probabilistic retrieval model that uses the term frequency and inverse document frequency of the query terms to score the relevance of each document.\n",
        "You should be familiar with the basic idea of tf-idf from your NLP class - you can think of BM25 as a generalization of tf-idf that takes into account more factors."
      ]
    },
    {
      "cell_type": "code",
      "execution_count": null,
      "metadata": {
        "id": "PiGzO3bsPRA-"
      },
      "outputs": [],
      "source": [
        "from llama_index.retrievers.bm25 import BM25Retriever"
      ]
    },
    {
      "cell_type": "code",
      "execution_count": null,
      "metadata": {
        "id": "a1Arjq_ZPRA-"
      },
      "outputs": [],
      "source": [
        "bm25 = BM25Retriever.from_defaults(nodes=md_nodes)"
      ]
    },
    {
      "cell_type": "code",
      "execution_count": null,
      "metadata": {
        "id": "Jeer5X8XPRA-"
      },
      "outputs": [],
      "source": [
        "for node in bm25.retrieve(\"How many llama3 models are there?\"):\n",
        "    print(f\"Score: {node.score:.4f}\\nText:\\n{node.node.text[:500]}...\")"
      ]
    },
    {
      "cell_type": "markdown",
      "metadata": {
        "id": "ZkSN7LJ2PRA-"
      },
      "source": [
        "## Dense retrieval (vector search)\n",
        "\n",
        "BM25 is a simple and fast method that depends on word matching.\n",
        "But if we want to do more complex retrieval, we can use dense retrieval.\n",
        "We represent both our query and documents as vectors and use a similarity metric to find the most relevant documents.\n",
        "This is what's been going on under the hood in the previous examples using `VectorStoreIndex`.\n",
        "\n",
        "Since most of the mechanics are taken care for us under the hood, let's examine what goes on under the hood."
      ]
    },
    {
      "cell_type": "code",
      "execution_count": null,
      "metadata": {
        "id": "oDmojNkpPRA_"
      },
      "outputs": [],
      "source": [
        "from sklearn.metrics.pairwise import cosine_similarity\n",
        "import numpy as np\n",
        "import matplotlib.pyplot as plt\n"
      ]
    },
    {
      "cell_type": "code",
      "execution_count": null,
      "metadata": {
        "id": "7t6OwVeaPRA_"
      },
      "outputs": [],
      "source": [
        "sample_documents = [\n",
        "    \"My favorite type of dog is a golden retriever.\",\n",
        "    \"I like to eat pizza with my friends.\",\n",
        "    \"I like to go to the gym in the morning.\",\n",
        "    \"I like to play basketball with my friends.\",\n",
        "]\n",
        "\n",
        "embeddings = np.array(embed_model.get_text_embedding_batch(sample_documents))\n",
        "\n",
        "query = \"What do I like to do with friends?\"\n",
        "query_embedding = np.array(embed_model.get_text_embedding(query))"
      ]
    },
    {
      "cell_type": "code",
      "execution_count": null,
      "metadata": {
        "id": "OoAwpvfyPRA_"
      },
      "outputs": [],
      "source": [
        "cosine_similarity(query_embedding.reshape(1, -1), embeddings).squeeze()"
      ]
    },
    {
      "cell_type": "markdown",
      "metadata": {
        "id": "6uxGSxfCPRA_"
      },
      "source": [
        "Once we have a `VectorStoreIndex`, we can use the `as_retriever` method to get a retriever object.\n",
        "This uses dense retrieval under the hood, since it already has an embedding model as a part of the class.\n",
        "Here, we use the `similarity_top_k` parameter to limit the number of results to 2 and show the cosine similarity score along with the beginning of the text."
      ]
    },
    {
      "cell_type": "code",
      "execution_count": null,
      "metadata": {
        "id": "H4cQrI0ZPRA_"
      },
      "outputs": [],
      "source": [
        "query = \"How many llama3 models are there?\"\n",
        "top_results = md_index.as_retriever(similarity_top_k=2).retrieve(query)\n",
        "for result in top_results:\n",
        "    print(f\"Score: {result.score:.4f}\\nText:\\n{result.node.text[:500]}...\")"
      ]
    },
    {
      "cell_type": "markdown",
      "metadata": {
        "id": "ewqkcbfqPRA_"
      },
      "source": [
        "Let's compare bm25 with dense retrieval using %%timeit."
      ]
    },
    {
      "cell_type": "code",
      "execution_count": null,
      "metadata": {
        "id": "uuY-Xlt4PRA_"
      },
      "outputs": [],
      "source": [
        "%%timeit\n",
        "bm25.retrieve(query)"
      ]
    },
    {
      "cell_type": "code",
      "execution_count": null,
      "metadata": {
        "id": "X4pWA2mVPRA_"
      },
      "outputs": [],
      "source": [
        "%%timeit\n",
        "md_index.as_retriever(similarity_top_k=2).retrieve(query)"
      ]
    },
    {
      "cell_type": "markdown",
      "metadata": {
        "id": "Afu8_4nXPRA_"
      },
      "source": [
        "We can see that bm25 is much faster!"
      ]
    },
    {
      "cell_type": "markdown",
      "metadata": {
        "id": "gWo1p8JvPRA_"
      },
      "source": [
        "## Hybrid search: query rewriting and reciprocal ranking\n",
        "\n",
        "Sometimes, you may want several methods of searching over your data, then combining the results.\n",
        "This is known as hybrid search.\n",
        "\n",
        "Haveing multiple retrievers may not mean having separate objects - we may just have multiple queries.\n",
        "In this example, we'll use an LLM to rewrite our query into multiple queries, then use a dense retriever to find the most relevant documents.\n",
        "Finally, we'll use reciprocal ranking to re-rank the results.\n"
      ]
    },
    {
      "cell_type": "code",
      "execution_count": null,
      "metadata": {
        "id": "OzUrLln4PRA_"
      },
      "outputs": [],
      "source": [
        "from llama_index.core.retrievers import QueryFusionRetriever"
      ]
    },
    {
      "cell_type": "code",
      "execution_count": null,
      "metadata": {
        "id": "ul5nwND5PRA_"
      },
      "outputs": [],
      "source": [
        "dense_retriever = md_index.as_retriever(similarity_top_k=5)\n",
        "hybrid_retriever = QueryFusionRetriever(\n",
        "    [dense_retriever],\n",
        "    num_queries=3,\n",
        "    use_async=False,\n",
        "    mode='reciprocal_rerank',\n",
        "    verbose=True\n",
        ")"
      ]
    },
    {
      "cell_type": "code",
      "execution_count": null,
      "metadata": {
        "id": "CdOBsJhyPRA_"
      },
      "outputs": [],
      "source": [
        "results = hybrid_retriever.retrieve(\"How many llama3 models are there?\")\n",
        "for result in results:\n",
        "    print(f\"Score: {result.score:.4f}\\nText:\\n{result.node.text[:500]}...\")"
      ]
    },
    {
      "cell_type": "markdown",
      "metadata": {
        "id": "VLOntucGPRA_"
      },
      "source": [
        "# Reranking\n",
        "\n",
        "Often, retrieval only gives us a good first pass at finding relevant documents.\n",
        "We can use re-ranking to improve the results.\n",
        "There are several re-ranking methods, but in this case we'll use a cross-encoder to re-rank the results.\n",
        "The simplest way to rerank is to use a `node_postprocessor` as we construct our query engine or chat engine.\n",
        "Here, we'll use the `SentenceTransformerRerank` node postprocessor to re-rank the top 20 results from the dense retriever down to 5."
      ]
    },
    {
      "cell_type": "code",
      "execution_count": null,
      "metadata": {
        "id": "3GRLD17LPRA_"
      },
      "outputs": [],
      "source": [
        "from llama_index.core.postprocessor import SentenceTransformerRerank\n",
        "md_query_engine = md_index.as_query_engine(llm=llm, node_postprocessors=[\n",
        "    SentenceTransformerRerank(top_n=5)\n",
        "], retriever_top_k=20)"
      ]
    },
    {
      "cell_type": "code",
      "execution_count": null,
      "metadata": {
        "id": "XD9lF_EOPRA_"
      },
      "outputs": [],
      "source": [
        "response = md_query_engine.query(\"How many llama3 models are there?\")\n",
        "print(response.response)"
      ]
    },
    {
      "cell_type": "markdown",
      "metadata": {
        "id": "fgIkVYo0PRA_"
      },
      "source": [
        "This is also a good opportunity to introduce workflows.\n",
        "Workflows are a lower-level method for organizing tasks that can be chained together.\n",
        "We'll see how to mimic the `md_query_engine` we made above using a workflow."
      ]
    },
    {
      "cell_type": "code",
      "execution_count": null,
      "metadata": {
        "id": "KGBnNFCVPRA_"
      },
      "outputs": [],
      "source": [
        "from llama_index.core.schema import NodeWithScore\n",
        "from llama_index.core.llms import ChatMessage\n",
        "from llama_index.core.workflow import (\n",
        "    Workflow,\n",
        "    Context,\n",
        "    step,\n",
        "    StartEvent,\n",
        "    StopEvent,\n",
        "    Event\n",
        ")\n",
        "from typing import List\n"
      ]
    },
    {
      "cell_type": "markdown",
      "metadata": {
        "id": "wULY3GyhPRBA"
      },
      "source": [
        "Let's walk throught the code below step by step.\n",
        "First, we define the events that will be passed between the steps.\n",
        "This includes a retrieval result, a re-ranking result, and a prompt for the LLM.\n",
        "The start and stop are already taken care of for us by `StartEvent` and `StopEvent`.\n",
        "\n",
        "Next, we define our `RAGWithReRank` workflow.\n",
        "We initialize it with an index and LLM, which we will use for retrieval and answering and the cross-encoder for re-ranking.\n",
        "We also define exactly what to do for each step of the workflow.\n",
        "It knows what to do because of the `@step` decorator and the types annotations of each method.\n",
        "\n",
        "Finally, we can run the workflow with a query.\n",
        "The workflow will automatically handle passing the events between the steps, so we don't have to worry about that.\n",
        "We can observe that the results are just what we expect as we saw from the previous examples.\n",
        "One advantage of this method is that it's much more flexible - you can include arbitrary code, loops, conditionals, etc.\n",
        "\n",
        "For more detailed documentation on workflows, see [here](https://docs.llamaindex.ai/en/stable/understanding/workflows/)."
      ]
    },
    {
      "cell_type": "code",
      "execution_count": null,
      "metadata": {
        "id": "gIqvQmGfPRBA"
      },
      "outputs": [],
      "source": [
        "# Define the events that will be passed between the steps\n",
        "class RetrievalResult(Event):\n",
        "    results: List[NodeWithScore]\n",
        "\n",
        "class ReRankResult(Event):\n",
        "    results: List[NodeWithScore]\n",
        "\n",
        "class RagPrompt(Event):\n",
        "    prompt: str\n",
        "\n",
        "# Define the workflow\n",
        "class RAGWithReRank(Workflow):\n",
        "    # Initialize the workflow with an index and LLM\n",
        "    def __init__(self, index: VectorStoreIndex = md_index, llm: OpenAI = OpenAI(model=\"gpt-4o-mini\")):\n",
        "        super().__init__(timeout=120, verbose=True)\n",
        "        self.index = index\n",
        "        self.llm = llm\n",
        "        self.reranker = SentenceTransformerRerank(top_n=5)\n",
        "\n",
        "    # The start method is called when the workflow is run.\n",
        "    # This is the first step of the workflow that takes in a query and returns a retrieval result.\n",
        "    # Since we want to use a course retriever, we use a top k of 20.\n",
        "    @step\n",
        "    async def start(self, ctx: Context, ev: StartEvent) -> RetrievalResult:\n",
        "        query = ev.query\n",
        "        await ctx.set('query', query)\n",
        "        results = self.index.as_retriever(similarity_top_k=20).retrieve(query)\n",
        "        return RetrievalResult(results=results)\n",
        "\n",
        "    # This step takes the retrieval results and re-ranks them.\n",
        "    # Notice that the similarity top k is set to 5, so we only keep the top 5 results.\n",
        "    # This is smaller than the retrieval step since this is about refining a smaller number of results.\n",
        "    @step\n",
        "    async def rerank(self, ctx: Context, ev: RetrievalResult) -> ReRankResult:\n",
        "        results = ev.results\n",
        "        query = await ctx.get('query')\n",
        "        reranked = self.reranker.postprocess_nodes(nodes=results, query_str=query)\n",
        "        return ReRankResult(results=reranked)\n",
        "\n",
        "    # This step creates a prompt for the LLM.\n",
        "    # It does this by joining the re-ranked results into a single string and formatting it with the query.\n",
        "    @step\n",
        "    async def create_prompt(self, ctx: Context, ev: ReRankResult) -> RagPrompt:\n",
        "        reranked_results = ev.results\n",
        "        await ctx.set('reranked_results', reranked_results)\n",
        "        query = await ctx.get('query')\n",
        "        reranked_str = '\\n\\n'.join(i.text for i in reranked_results)\n",
        "        prompt = f\"\"\"\\\n",
        "Here is some relevant context:\n",
        "--------------------------------\n",
        "{reranked_str}\n",
        "--------------------------------\n",
        "Based on the above information and not prior knowledge, please answer the question.\n",
        "Question:\n",
        "{query}\n",
        "\"\"\"\n",
        "        return RagPrompt(prompt=prompt)\n",
        "\n",
        "    # This step takes the prompt and uses the LLM to answer the question.\n",
        "    # It also takes the re-ranked results and attaches them to the response in case we want to see the nodes.\n",
        "    @step\n",
        "    async def answer(self, ctx: Context, ev: RagPrompt) -> StopEvent:\n",
        "        prompt = ev.prompt\n",
        "        ranked_results = await ctx.get('reranked_results')\n",
        "        messages = [\n",
        "            ChatMessage.from_str(prompt)\n",
        "        ]\n",
        "        answer = await self.llm.achat(messages)\n",
        "        result = {\n",
        "            \"response\": answer,\n",
        "            \"source_nodes\": ranked_results\n",
        "        }\n",
        "        return StopEvent(result=result)\n"
      ]
    },
    {
      "cell_type": "code",
      "execution_count": null,
      "metadata": {
        "id": "7NeTFx4RPRBA"
      },
      "outputs": [],
      "source": [
        "rag = RAGWithReRank()"
      ]
    },
    {
      "cell_type": "code",
      "execution_count": null,
      "metadata": {
        "id": "cLoJV1vbPRBA"
      },
      "outputs": [],
      "source": [
        "response = await rag.run(query=\"How many llama3 models are there?\")"
      ]
    },
    {
      "cell_type": "code",
      "execution_count": null,
      "metadata": {
        "id": "RJKCeIBmPRBA"
      },
      "outputs": [],
      "source": [
        "response.keys()"
      ]
    },
    {
      "cell_type": "code",
      "execution_count": null,
      "metadata": {
        "id": "VX4Kp4QSPRBA"
      },
      "outputs": [],
      "source": [
        "from llama_index.utils.workflow import draw_all_possible_flows\n",
        "from IPython.core.display import HTML, display\n",
        "draw_all_possible_flows(RAGWithReRank, filename=\"flow.html\")"
      ]
    },
    {
      "cell_type": "markdown",
      "metadata": {
        "id": "eJ7GcDN6PRBA"
      },
      "source": [
        "# Exercise: Chat with PDF (30 minutes)\n",
        "\n",
        "Your goal in this exercise is to create a Gradio interface for a question-answering system.\n",
        "Your application should:\n",
        "- Use the query engine created above to answer questions about the uploaded PDF\n",
        "- Display the question and answer in the UI. If using QueryEngine, use a question and answer format. If using ChatEngine, use a chat format.\n",
        "\n",
        "If you need a challenge:\n",
        "- Use the `gr.File` component to allow the user to upload ANY pdf and ask question about it.\n"
      ]
    },
    {
      "cell_type": "code",
      "source": [
        "# Your code here"
      ],
      "metadata": {
        "id": "WFNv9lUPZiSR"
      },
      "execution_count": null,
      "outputs": []
    },
    {
      "cell_type": "markdown",
      "metadata": {
        "id": "C1ktK0sUPRBA"
      },
      "source": [
        "# Agents\n",
        "\n",
        "LLMs on their own have limited capabilities to perform tasks.\n",
        "One way to augment that is to give them tools they can use.\n",
        "These tools allow them to perform actions in the real world, such as searching the web or updating a database.\n",
        "In this section, we'll build up an understanding for how agents work under the hood and how to use them."
      ]
    },
    {
      "cell_type": "markdown",
      "metadata": {
        "id": "AUMaH1J9PRBA"
      },
      "source": [
        "## Function calling\n",
        "\n",
        "LLMs are fine tuned to call functions with parameters based on the prompt.\n",
        "This means you can provide information about one ore more functions you want to call and have the LLM decide which one to call.\n",
        "This is powerful tool when working with LLMs because it can provide a lot of external data and skills not available to the LLM itself.\n",
        "\n",
        "Let's go through a simple function calling example."
      ]
    },
    {
      "cell_type": "code",
      "execution_count": null,
      "metadata": {
        "id": "nTkJEdXNPRBA"
      },
      "outputs": [],
      "source": [
        "from llama_index.core.tools import FunctionTool\n",
        "from llama_index.llms.openai import OpenAI\n",
        "from llama_index.core.llms import ChatMessage\n",
        "import numpy as np\n",
        "from rich import print\n",
        "import json"
      ]
    },
    {
      "cell_type": "markdown",
      "metadata": {
        "id": "47Kn4luaPRBA"
      },
      "source": [
        "In the cell below, we define a function that rolls a number of dice and returns the results.\n",
        "LlamaIndex provides a `FunctionTool` class that makes it easy to convert a function into a tool."
      ]
    },
    {
      "cell_type": "code",
      "execution_count": null,
      "metadata": {
        "id": "lCxDeBLdPRBB"
      },
      "outputs": [],
      "source": [
        "def roll_dice(num_dice:int) -> str:\n",
        "    \"\"\"\n",
        "    Rolls a number of dice and returns the results.\n",
        "\n",
        "    Args:\n",
        "        num_dice: The number of dice to roll\n",
        "\n",
        "    Returns:\n",
        "        str: The results of the dice roll (comma separated if multiple dice are rolled)\n",
        "    \"\"\"\n",
        "    return ', '.join(str(np.random.randint(1, 6)) for _ in range(num_dice))\n",
        "\n",
        "roll_dice_tool = FunctionTool.from_defaults(fn=roll_dice, description=\"Useful when you need to roll dice.\")"
      ]
    },
    {
      "cell_type": "markdown",
      "metadata": {
        "id": "UlnUWkDpPRBB"
      },
      "source": [
        "Let's ask our LLM to roll 5 dice and see what happens."
      ]
    },
    {
      "cell_type": "code",
      "execution_count": null,
      "metadata": {
        "id": "jJ67fx7lPRBB"
      },
      "outputs": [],
      "source": [
        "llm = OpenAI(model=\"gpt-4o-mini\")\n",
        "messages = [\n",
        "    ChatMessage.from_str(\"Roll 5 dice\")\n",
        "]\n",
        "response = llm.chat_with_tools(tools=[roll_dice_tool], messages=messages)"
      ]
    },
    {
      "cell_type": "markdown",
      "metadata": {
        "id": "uXgwzPV-PRBB"
      },
      "source": [
        "It doesn't actually call the function yet - it just says which function to call and which arguments to pass to it."
      ]
    },
    {
      "cell_type": "code",
      "execution_count": null,
      "metadata": {
        "id": "a5hNeYIgPRBB"
      },
      "outputs": [],
      "source": [
        "print(response)"
      ]
    },
    {
      "cell_type": "markdown",
      "metadata": {
        "id": "YXn0wUy9PRBB"
      },
      "source": [
        "Let's parse the response to get the function call and arguments."
      ]
    },
    {
      "cell_type": "code",
      "execution_count": null,
      "metadata": {
        "id": "unnhxtmTPRBB"
      },
      "outputs": [],
      "source": [
        "function_call = response.raw.choices[0].message.tool_calls[0].function\n",
        "print(function_call)"
      ]
    },
    {
      "cell_type": "markdown",
      "metadata": {
        "id": "IxW_9kdxPRBB"
      },
      "source": [
        "Finally, let's call the function with the arguments."
      ]
    },
    {
      "cell_type": "code",
      "execution_count": null,
      "metadata": {
        "id": "1YzD-TnWPRBB"
      },
      "outputs": [],
      "source": [
        "tool_output = roll_dice_tool.call(**json.loads(function_call.arguments))\n",
        "print(tool_output)"
      ]
    },
    {
      "cell_type": "markdown",
      "metadata": {
        "id": "pfvZT-ODPRBB"
      },
      "source": [
        "Great! Now we have a basic idea of how function calling works under the hood.\n",
        "Agents use function calling to call tools, but generally use them in loops combined with reasoning steps to accomplish complex tasks.\n",
        "Next, we'll see how to use LlamaIndex's implementation of agents."
      ]
    },
    {
      "cell_type": "markdown",
      "metadata": {
        "id": "I5NtN-qFPRBB"
      },
      "source": [
        "## Intro to Llama index agents: Financial Data Agent\n",
        "\n",
        "We've seen how to use function calling with an LLM, but it was kind of difficult to go from the LLM response to the function call.\n",
        "We didn't even close the loop and pass the tool call result back to the LLM.\n",
        "LlamaIndex's `FunctionCallingAgent` and `ReActAgent` classes make this easier.\n",
        "Let's go through an example of using the `FunctionCallingAgent` to perform a more complex tasks."
      ]
    },
    {
      "cell_type": "code",
      "execution_count": null,
      "metadata": {
        "id": "dGLZ3WHNPRBB"
      },
      "outputs": [],
      "source": [
        "from llama_index.core.agent import ReActAgent, FunctionCallingAgent\n",
        "from llama_index.agent.openai import OpenAIAgent\n",
        "from llama_index.core.tools import FunctionTool\n",
        "from llama_index.tools.yahoo_finance import YahooFinanceToolSpec\n",
        "from llama_index.llms.openai import OpenAI\n",
        "from yfinance import download as yf_download\n",
        "from datetime import datetime"
      ]
    },
    {
      "cell_type": "markdown",
      "metadata": {
        "id": "H1i4xk3NPRBB"
      },
      "source": [
        "It's really useful to be able to define your own tools.\n",
        "Luckliy, LlamaIndex makes this easy with the `FunctionTool` class.\n",
        "Here, we'll define a tool that gets stock data from Yahoo Finance and returns it as a markdown table."
      ]
    },
    {
      "cell_type": "code",
      "execution_count": null,
      "metadata": {
        "id": "2v-82Y61PRBB"
      },
      "outputs": [],
      "source": [
        "def get_stock_data(ticker:str, start_date:str, end_date:str) -> str:\n",
        "    \"\"\"\n",
        "    Gets stock data using yfinance. All dates should be in YYYY-MM-DD format.\n",
        "\n",
        "    Args:\n",
        "        ticker: The ticker symbol of the stock to get data for\n",
        "        start_date: The start date of the data to get\n",
        "        end_date: The end date of the data to get\n",
        "\n",
        "    Returns:\n",
        "        str: A markdown table of the stock data\n",
        "    \"\"\"\n",
        "    df = yf_download(ticker, start=start_date, end=end_date)\n",
        "    return df.to_markdown()\n",
        "\n",
        "get_stock_data_tool = FunctionTool.from_defaults(fn=get_stock_data, description=\"Useful when you want to pull trended data about a stock.\")"
      ]
    },
    {
      "cell_type": "markdown",
      "metadata": {
        "id": "R0kxy25PPRBB"
      },
      "source": [
        "Now, we can pass this tool to an agent to have it answer questions about stocks."
      ]
    },
    {
      "cell_type": "code",
      "execution_count": null,
      "metadata": {
        "id": "2jW0axksPRBB"
      },
      "outputs": [],
      "source": [
        "agent = FunctionCallingAgent.from_tools(tools=[get_stock_data_tool], llm=OpenAI(model=\"gpt-4o-mini\"), verbose=True)\n",
        "response = agent.chat(f\"What was TSLA's high and low over the last 7 days?\")"
      ]
    },
    {
      "cell_type": "code",
      "execution_count": null,
      "metadata": {
        "id": "BKZSQvpRPRBB"
      },
      "outputs": [],
      "source": [
        "print(response.response)"
      ]
    },
    {
      "cell_type": "markdown",
      "metadata": {
        "id": "7IWURHp1PRBB"
      },
      "source": [
        "### Check for understanding\n",
        "\n",
        "Is there anything strange about the response to this question above?\n",
        "What do you think we could do to fix it?"
      ]
    },
    {
      "cell_type": "markdown",
      "metadata": {
        "id": "yvaN2wKfPRBB"
      },
      "source": [
        "## Using pre-packaged tools\n",
        "\n",
        "LlamaIndex has a number of tools that are pre-defined and can be installed.\n",
        "In this case, we will use the `YahooFinanceToolSpec` to get additional information about a stock beyond just the trended data.\n",
        "We will also add our `get_stock_data_tool` to the list of tools, since getting trended data is not a part of the `YahooFinanceToolSpec`."
      ]
    },
    {
      "cell_type": "code",
      "execution_count": null,
      "metadata": {
        "id": "ELr2j0rgPRBC"
      },
      "outputs": [],
      "source": [
        "yfinance_tools = YahooFinanceToolSpec().to_tool_list()\n",
        "yfinance_tools.append(get_stock_data_tool)"
      ]
    },
    {
      "cell_type": "code",
      "execution_count": null,
      "metadata": {
        "id": "-QhTLcOcPRBC"
      },
      "outputs": [],
      "source": [
        "agent = FunctionCallingAgent.from_tools(tools=yfinance_tools, llm=OpenAI(model=\"gpt-4o-mini\"), verbose=True)\n",
        "response = agent.chat(f\"What was TSLA's high and low over the last 7 days? Today's date is {datetime.now().strftime('%Y-%m-%d')}.\")"
      ]
    },
    {
      "cell_type": "code",
      "execution_count": null,
      "metadata": {
        "id": "Xm6tH7D2PRBC"
      },
      "outputs": [],
      "source": [
        "response = agent.chat(\"What does TSLA make?\")"
      ]
    },
    {
      "cell_type": "markdown",
      "metadata": {
        "id": "Ob8qL_GhPRBC"
      },
      "source": [
        "## Demo 2: Agentic RAG\n",
        "\n",
        "In the previous examples of RAG, we had a single retriever that retrieved documents from a single index.\n",
        "But what if we have multiple indices we want to use?\n",
        "We can use an agent to decide which index to use and then retrieve from that index.\n",
        "One great way to do this is to turn the indices we made previously into tools.\n",
        "We'll make an agent that can answer questions about the llama3 paper OR the Wikipedia page we ingested earlier."
      ]
    },
    {
      "cell_type": "code",
      "execution_count": null,
      "metadata": {
        "id": "buMkPb_6PRBC"
      },
      "outputs": [],
      "source": [
        "from llama_index.core.tools import RetrieverTool"
      ]
    },
    {
      "cell_type": "markdown",
      "metadata": {
        "id": "6D2dUcViPRBC"
      },
      "source": [
        "Let's create a tool for each of our indices."
      ]
    },
    {
      "cell_type": "code",
      "execution_count": null,
      "metadata": {
        "id": "9A2vJDWVPRBC"
      },
      "outputs": [],
      "source": [
        "wikipedia_tool = RetrieverTool.from_defaults(\n",
        "    retriever=wikipedia_index.as_retriever(),\n",
        "    name=\"wikipedia_retriever\",\n",
        "    description=\"Useful when you need information about the Wikipedia organization.\"\n",
        ")\n",
        "llama_tool = RetrieverTool.from_defaults(\n",
        "    retriever=md_index.as_retriever(),\n",
        "    name=\"llama_retriever\",\n",
        "    description=\"Useful when you need information about the llama3 paper.\"\n",
        ")\n",
        "\n",
        "retriever_tools = [wikipedia_tool, llama_tool]"
      ]
    },
    {
      "cell_type": "markdown",
      "metadata": {
        "id": "lXlezM-8PRBC"
      },
      "source": [
        "Now, we can pass these tools to an agent to have it answer questions about the Wikipedia page or the llama3 paper.\n",
        "This time, instead of using the `FunctionCallingAgent`, we'll use the `OpenAIAgent`."
      ]
    },
    {
      "cell_type": "code",
      "execution_count": null,
      "metadata": {
        "id": "JxcAMFjVPRBC"
      },
      "outputs": [],
      "source": [
        "rag_agent = OpenAIAgent.from_tools(tools=retriever_tools, llm=OpenAI(model=\"gpt-4o-mini\"), verbose=True)"
      ]
    },
    {
      "cell_type": "code",
      "execution_count": null,
      "metadata": {
        "id": "d9kJg89oPRBC"
      },
      "outputs": [],
      "source": [
        "rag_agent.query(\"When was Wikipedia founded?\")"
      ]
    },
    {
      "cell_type": "code",
      "execution_count": null,
      "metadata": {
        "id": "lT2Te8GdPRBC"
      },
      "outputs": [],
      "source": [
        "rag_agent.query(\"How did llama3 8b perform on MMLU?\")"
      ]
    },
    {
      "cell_type": "markdown",
      "metadata": {
        "id": "1f-M46awPRBC"
      },
      "source": [
        "## Demo 3: Code interpreter"
      ]
    },
    {
      "cell_type": "code",
      "execution_count": null,
      "metadata": {
        "id": "SLBr8u3XPRBC"
      },
      "outputs": [],
      "source": [
        "from llama_index.tools.code_interpreter import CodeInterpreterToolSpec"
      ]
    },
    {
      "cell_type": "code",
      "execution_count": null,
      "metadata": {
        "id": "SjheGUyRPRBC"
      },
      "outputs": [],
      "source": [
        "code_tools = CodeInterpreterToolSpec().to_tool_list()\n",
        "system_prompt = \"\"\"\\\n",
        "You are a helpful assistant that can answer questions by executing python code. \\\n",
        "Always make sure to print the results to StdOut.\n",
        "\"\"\"\n",
        "code_agent = OpenAIAgent.from_tools(tools=code_tools, llm=OpenAI(model=\"gpt-4o-mini\"), verbose=True, system_prompt=system_prompt)\n",
        "code_agent.query(\"What is the square root of 9936.3981?\")"
      ]
    },
    {
      "cell_type": "markdown",
      "metadata": {
        "id": "BoQTHOkbPRBC"
      },
      "source": [
        "### Check for understanding\n",
        "\n",
        "What are some possible downsides and security concerns of using a code interpreter tool?"
      ]
    },
    {
      "cell_type": "markdown",
      "metadata": {
        "id": "fnqJHXF3PRBC"
      },
      "source": [
        "# Exercise: Build your own agent\n",
        "\n",
        "The goal of this exercise is to build your own agent.\n",
        "\n",
        "\n",
        "## Planning (15 minutes)\n",
        "\n",
        "Your goal over the next 15 minutes is to answer the following questions:\n",
        "- What is the goal of the agent? What task (or tasks) will it accomplish?\n",
        "- What tools will it need to use to accomplish its goal?\n",
        "- How will it use the tools to accomplish its goal?\n",
        "- What is the modality of the agent? (for example, conversational, workflow, code writing, etc.)\n",
        "\n",
        "If you need some inspiration, here are some ideas places you can go to learn about external tools:\n",
        "- [Llam Index tools on LlamaHub](https://llamahub.ai/?tab=tools)\n",
        "- [This repo with free APIs](https://github.com/public-api-lists/public-api-lists) (look for ones w/o auth since we don't have a ton of time for setup)"
      ]
    },
    {
      "cell_type": "markdown",
      "metadata": {
        "id": "Fr5c4wyCPRBC"
      },
      "source": [
        "#### YOUR PLAN HERE"
      ]
    },
    {
      "cell_type": "markdown",
      "metadata": {
        "id": "WuQYYyyFPRBC"
      },
      "source": [
        "## Backend building (30 minutes)\n",
        "\n",
        "Use LlamaIndex agents to build out your agent.\n",
        "Your goal over the next 30 minutes is to:\n",
        "- Create (or import) any tools you need to accomplish your goal.\n",
        "- Create your agent using one of the agent classes provided by LlamaIndex.\n",
        "- Create 2-3 test cases and check your agent against them to see if it produces the desired output."
      ]
    },
    {
      "cell_type": "code",
      "execution_count": null,
      "metadata": {
        "id": "ir2Lw71oPRBC"
      },
      "outputs": [],
      "source": [
        "# Your code here"
      ]
    },
    {
      "cell_type": "markdown",
      "metadata": {
        "id": "7GD7ol5PPRBD"
      },
      "source": [
        "## Frontend building (15 minutes)\n",
        "\n",
        "Your goal over the next 15 minutes is to:\n",
        "- Use `gradio` to build an interface for your agent.\n",
        "- Test your agent with 2-3 different inputs to ensure it's working as expected.\n",
        "- If you want to use your agent more like an api, check out the [`gradio-client`](https://www.gradio.app/docs/python-client/introduction) library and run your test cases programmatically."
      ]
    },
    {
      "cell_type": "code",
      "execution_count": null,
      "metadata": {
        "id": "wenXiuOHPRBD"
      },
      "outputs": [],
      "source": [
        "# Your code here"
      ]
    },
    {
      "cell_type": "code",
      "execution_count": null,
      "metadata": {
        "id": "zUTX0EtcPRBD"
      },
      "outputs": [],
      "source": []
    }
  ],
  "metadata": {
    "kernelspec": {
      "display_name": "Python 3",
      "name": "python3"
    },
    "language_info": {
      "codemirror_mode": {
        "name": "ipython",
        "version": 3
      },
      "file_extension": ".py",
      "mimetype": "text/x-python",
      "name": "python",
      "nbconvert_exporter": "python",
      "pygments_lexer": "ipython3",
      "version": "3.11.5"
    },
    "colab": {
      "provenance": [],
      "machine_shape": "hm",
      "gpuType": "L4",
      "include_colab_link": true
    },
    "accelerator": "GPU"
  },
  "nbformat": 4,
  "nbformat_minor": 0
}