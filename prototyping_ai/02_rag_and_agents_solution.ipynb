{
 "cells": [
  {
   "cell_type": "markdown",
   "metadata": {},
   "source": [
    "# Retrieval Augmented Generation\n",
    "\n",
    "![](https://www.dailydoseofds.com/content/images/2024/10/rag.gif)\n",
    "Source: [Daily Dose of DS](https://www.dailydoseofds.com/a-crash-course-on-building-rag-systems-part-1-with-implementations/)\n",
    "\n",
    "Overview:\n",
    "- Introduction to RAG with LlamaIndex\n",
    "- Data ingestion\n",
    "  - PDF\n",
    "  - Web pages\n",
    "  - Code\n",
    "- Data splitting\n",
    "  - Token splitting\n",
    "  - Sentence splitting\n",
    "  - Structured data splitting\n",
    "  - Semantic chunking\n",
    "- Vectorization\n",
    "  - Embeddings\n",
    "  - Vector storage\n",
    "- Retrieval\n",
    "  - Keyword search\n",
    "  - Vector search\n",
    "  - Hybrid search\n",
    "- Advanced methods\n",
    "  - Query rewriting\n",
    "  - Multi-hop retrieval"
   ]
  },
  {
   "cell_type": "code",
   "execution_count": 3,
   "metadata": {},
   "outputs": [],
   "source": [
    "%load_ext rich"
   ]
  },
  {
   "cell_type": "markdown",
   "metadata": {},
   "source": [
    "# Introduction to RAG with LlamaIndex\n",
    "\n",
    "LlamaIndex is a library for working with large language models.\n",
    "One of its main strengths is its ability to ingest documents into a vector index and use them to answer questions.\n",
    "This is known as Retrieval Augmented Generation (RAG).\n",
    "\n",
    "To start, we will use a low-code, high-level abstraction to build a basic PDF question-answering system.\n",
    "We will read in PDFs, split them into chunks, embed them, and store them in a vector database.\n",
    "Then, we will use an abstraction known as a `QueryEngine` that implements RAG to answer questions about the documents."
   ]
  },
  {
   "cell_type": "code",
   "execution_count": 4,
   "metadata": {},
   "outputs": [
    {
     "data": {
      "text/html": [
       "<pre style=\"white-space:pre;overflow-x:auto;line-height:normal;font-family:Menlo,'DejaVu Sans Mono',consolas,'Courier New',monospace\">Not in colab - using local environment variables.\n",
       "</pre>\n"
      ],
      "text/plain": [
       "Not in colab - using local environment variables.\n"
      ]
     },
     "metadata": {},
     "output_type": "display_data"
    }
   ],
   "source": [
    "# If we're in colab, use userdata to get the OPENAI_API_KEY\n",
    "import os\n",
    "from rich import print\n",
    "from pathlib import Path\n",
    "\n",
    "try:\n",
    "    from google.colab import userdata\n",
    "    print(\"Colab detected - setting up environment\")\n",
    "    os.environ[\"OPENAI_API_KEY\"] = userdata.get(\"OPENAI_API_KEY\")\n",
    "    %pip install llama-index \\\n",
    "        llama-index-readers-web \\\n",
    "        thefuzz \\\n",
    "        gradio \\\n",
    "        chromadb \\\n",
    "        llama-index-embeddings-huggingface \\\n",
    "        llama-index-vector-stores-chroma \\\n",
    "        llama-index-retrievers-bm25 \\\n",
    "        llama-index-llms-gemini \\\n",
    "        docling \\\n",
    "        llama-index-readers-docling \\\n",
    "        llama-index-node-parser-docling \\\n",
    "        PyStemmer\n",
    "        \n",
    "except:\n",
    "    print(\"Not in colab - using local environment variables.\")\n",
    "    from dotenv import load_dotenv\n",
    "    load_dotenv(\"../.env\")\n"
   ]
  },
  {
   "cell_type": "code",
   "execution_count": 5,
   "metadata": {},
   "outputs": [
    {
     "data": {
      "text/html": [
       "<pre style=\"white-space:pre;overflow-x:auto;line-height:normal;font-family:Menlo,'DejaVu Sans Mono',consolas,'Courier New',monospace\">PDF already exists at data/<span style=\"color: #008080; text-decoration-color: #008080; font-weight: bold\">2407.21783</span>.pdf\n",
       "</pre>\n"
      ],
      "text/plain": [
       "PDF already exists at data/\u001b[1;36m2407.21783\u001b[0m.pdf\n"
      ]
     },
     "metadata": {},
     "output_type": "display_data"
    }
   ],
   "source": [
    "import os\n",
    "import requests\n",
    "\n",
    "# Create data directory if it doesn't exist\n",
    "data_dir = \"data\"\n",
    "if not os.path.exists(data_dir):\n",
    "    os.makedirs(data_dir)\n",
    "\n",
    "# Download the PDF file\n",
    "pdf_url = \"https://arxiv.org/pdf/2407.21783\"\n",
    "pdf_path = os.path.join(data_dir, \"2407.21783.pdf\")\n",
    "\n",
    "if not os.path.exists(pdf_path):\n",
    "    response = requests.get(pdf_url)\n",
    "    with open(pdf_path, \"wb\") as f:\n",
    "        f.write(response.content)\n",
    "    print(f\"Downloaded PDF to {pdf_path}\")\n",
    "else:\n",
    "    print(f\"PDF already exists at {pdf_path}\")\n"
   ]
  },
  {
   "cell_type": "markdown",
   "metadata": {},
   "source": [
    "The first thing we need to do is to load the data.\n",
    "For general documents like PDFs, LlamaIndex provides a nice abstraction known as a `SimpleDirectoryReader` that can load data from a directory.\n",
    "In the cell below, we use it to load the data from the `data` directory."
   ]
  },
  {
   "cell_type": "code",
   "execution_count": 6,
   "metadata": {},
   "outputs": [],
   "source": [
    "from llama_index.core.readers import SimpleDirectoryReader\n",
    "documents = SimpleDirectoryReader(data_dir).load_data()"
   ]
  },
  {
   "cell_type": "markdown",
   "metadata": {},
   "source": [
    "Let's take a look at the first document.\n",
    "Most prominently, we get the text of the document.\n",
    "By default, we also get a lot of useful information, like the page number file name, file path, type, size, etc.\n",
    "When we load lots of documents, this type of information becomes important to keep track of."
   ]
  },
  {
   "cell_type": "code",
   "execution_count": 7,
   "metadata": {},
   "outputs": [
    {
     "data": {
      "text/html": [
       "<pre style=\"white-space:pre;overflow-x:auto;line-height:normal;font-family:Menlo,'DejaVu Sans Mono',consolas,'Courier New',monospace\"><span style=\"color: #800080; text-decoration-color: #800080; font-weight: bold\">Document</span><span style=\"font-weight: bold\">(</span>\n",
       "    <span style=\"color: #808000; text-decoration-color: #808000\">id_</span>=<span style=\"color: #008000; text-decoration-color: #008000\">'d2ffb7ab-de1c-4d12-b2f3-0f28f81ca4a9'</span>,\n",
       "    <span style=\"color: #808000; text-decoration-color: #808000\">embedding</span>=<span style=\"color: #800080; text-decoration-color: #800080; font-style: italic\">None</span>,\n",
       "    <span style=\"color: #808000; text-decoration-color: #808000\">metadata</span>=<span style=\"font-weight: bold\">{</span>\n",
       "        <span style=\"color: #008000; text-decoration-color: #008000\">'page_label'</span>: <span style=\"color: #008000; text-decoration-color: #008000\">'1'</span>,\n",
       "        <span style=\"color: #008000; text-decoration-color: #008000\">'file_name'</span>: <span style=\"color: #008000; text-decoration-color: #008000\">'2407.21783.pdf'</span>,\n",
       "        <span style=\"color: #008000; text-decoration-color: #008000\">'file_path'</span>: <span style=\"color: #008000; text-decoration-color: #008000\">'/Users/michaelfrantz/CTME-llm-lecture-resources/prototyping_ai/data/2407.21783.pdf'</span>,\n",
       "        <span style=\"color: #008000; text-decoration-color: #008000\">'file_type'</span>: <span style=\"color: #008000; text-decoration-color: #008000\">'application/pdf'</span>,\n",
       "        <span style=\"color: #008000; text-decoration-color: #008000\">'file_size'</span>: <span style=\"color: #008080; text-decoration-color: #008080; font-weight: bold\">9832488</span>,\n",
       "        <span style=\"color: #008000; text-decoration-color: #008000\">'creation_date'</span>: <span style=\"color: #008000; text-decoration-color: #008000\">'2024-11-14'</span>,\n",
       "        <span style=\"color: #008000; text-decoration-color: #008000\">'last_modified_date'</span>: <span style=\"color: #008000; text-decoration-color: #008000\">'2024-11-14'</span>\n",
       "    <span style=\"font-weight: bold\">}</span>,\n",
       "    <span style=\"color: #808000; text-decoration-color: #808000\">excluded_embed_metadata_keys</span>=<span style=\"font-weight: bold\">[</span>\n",
       "        <span style=\"color: #008000; text-decoration-color: #008000\">'file_name'</span>,\n",
       "        <span style=\"color: #008000; text-decoration-color: #008000\">'file_type'</span>,\n",
       "        <span style=\"color: #008000; text-decoration-color: #008000\">'file_size'</span>,\n",
       "        <span style=\"color: #008000; text-decoration-color: #008000\">'creation_date'</span>,\n",
       "        <span style=\"color: #008000; text-decoration-color: #008000\">'last_modified_date'</span>,\n",
       "        <span style=\"color: #008000; text-decoration-color: #008000\">'last_accessed_date'</span>\n",
       "    <span style=\"font-weight: bold\">]</span>,\n",
       "    <span style=\"color: #808000; text-decoration-color: #808000\">excluded_llm_metadata_keys</span>=<span style=\"font-weight: bold\">[</span>\n",
       "        <span style=\"color: #008000; text-decoration-color: #008000\">'file_name'</span>,\n",
       "        <span style=\"color: #008000; text-decoration-color: #008000\">'file_type'</span>,\n",
       "        <span style=\"color: #008000; text-decoration-color: #008000\">'file_size'</span>,\n",
       "        <span style=\"color: #008000; text-decoration-color: #008000\">'creation_date'</span>,\n",
       "        <span style=\"color: #008000; text-decoration-color: #008000\">'last_modified_date'</span>,\n",
       "        <span style=\"color: #008000; text-decoration-color: #008000\">'last_accessed_date'</span>\n",
       "    <span style=\"font-weight: bold\">]</span>,\n",
       "    <span style=\"color: #808000; text-decoration-color: #808000\">relationships</span>=<span style=\"font-weight: bold\">{}</span>,\n",
       "    <span style=\"color: #808000; text-decoration-color: #808000\">metadata_template</span>=<span style=\"color: #008000; text-decoration-color: #008000\">'{key}: {value}'</span>,\n",
       "    <span style=\"color: #808000; text-decoration-color: #808000\">metadata_separator</span>=<span style=\"color: #008000; text-decoration-color: #008000\">'\\n'</span>,\n",
       "    <span style=\"color: #808000; text-decoration-color: #808000\">text</span>=<span style=\"color: #008000; text-decoration-color: #008000\">'The Llama 3 Herd of Models\\nLlama Team, AI @ Meta 1\\n1A detailed contributor list can be found in the </span>\n",
       "<span style=\"color: #008000; text-decoration-color: #008000\">appendix of this paper.\\nModern artificial intelligence (AI) systems are powered by foundation models. This paper </span>\n",
       "<span style=\"color: #008000; text-decoration-color: #008000\">presents a\\nnew set of foundation models, called Llama 3. It is a herd of language models that natively </span>\n",
       "<span style=\"color: #008000; text-decoration-color: #008000\">support\\nmultilinguality, coding, reasoning, and tool usage. Our largest model is a dense Transformer with\\n405B </span>\n",
       "<span style=\"color: #008000; text-decoration-color: #008000\">parameters and a context window of up to 128K tokens. This paper presents an extensive\\nempirical evaluation of </span>\n",
       "<span style=\"color: #008000; text-decoration-color: #008000\">Llama 3. We find that Llama 3 delivers comparable quality to leading language\\nmodels such as GPT-4 on a plethora </span>\n",
       "<span style=\"color: #008000; text-decoration-color: #008000\">of tasks. We publicly release Llama 3, including pre-trained and\\npost-trained versions of the 405B parameter </span>\n",
       "<span style=\"color: #008000; text-decoration-color: #008000\">language model and our Llama Guard 3 model for input\\nand output safety. The paper also presents the results of </span>\n",
       "<span style=\"color: #008000; text-decoration-color: #008000\">experiments in which we integrate image,\\nvideo, and speech capabilities into Llama 3 via a compositional approach.</span>\n",
       "<span style=\"color: #008000; text-decoration-color: #008000\">We observe this approach\\nperforms competitively with the state-of-the-art on image, video, and speech recognition </span>\n",
       "<span style=\"color: #008000; text-decoration-color: #008000\">tasks. The\\nresulting models are not yet being broadly released as they are still under development.\\nDate: July </span>\n",
       "<span style=\"color: #008000; text-decoration-color: #008000\">23, 2024\\nWebsite: https://llama.meta.com/\\n1 Introduction\\nFoundation models are general models of language, </span>\n",
       "<span style=\"color: #008000; text-decoration-color: #008000\">vision, speech, and/or other modalities that are designed\\nto support a large variety of AI tasks. They form the </span>\n",
       "<span style=\"color: #008000; text-decoration-color: #008000\">basis of many modern AI systems.\\nThe development of modern foundation models consists of two main stages:(1) a </span>\n",
       "<span style=\"color: #008000; text-decoration-color: #008000\">pre-training stage in which\\nthe model is trained at massive scale using straightforward tasks such as next-word </span>\n",
       "<span style=\"color: #008000; text-decoration-color: #008000\">prediction or captioning\\nand (2) a post-training stage in which the model is tuned to follow instructions, align </span>\n",
       "<span style=\"color: #008000; text-decoration-color: #008000\">with human preferences,\\nand improve specific capabilities (for example, coding and reasoning).\\nIn this paper, we </span>\n",
       "<span style=\"color: #008000; text-decoration-color: #008000\">present a new set of foundation models for language, calledLlama 3. The Llama 3 Herd\\nof models natively supports </span>\n",
       "<span style=\"color: #008000; text-decoration-color: #008000\">multilinguality, coding, reasoning, and tool usage. Our largest model is dense\\nTransformer with 405B parameters, </span>\n",
       "<span style=\"color: #008000; text-decoration-color: #008000\">processing information in a context window of up to 128K tokens. Each\\nmember of the herd is listed in Table 1. All</span>\n",
       "<span style=\"color: #008000; text-decoration-color: #008000\">the results presented in this paper are for the Llama 3.1 models,\\nwhich we will refer to as Llama 3 throughout for</span>\n",
       "<span style=\"color: #008000; text-decoration-color: #008000\">brevity.\\nWe believe there are three key levers in the development of high-quality foundation models: data, scale, </span>\n",
       "<span style=\"color: #008000; text-decoration-color: #008000\">and\\nmanaging complexity. We seek to optimize for these three levers in our development process:\\n• Data. Compared </span>\n",
       "<span style=\"color: #008000; text-decoration-color: #008000\">to prior versions of Llama (Touvron et al., 2023a,b), we improved both the quantity </span>\n",
       "<span style=\"color: #008000; text-decoration-color: #008000\">and\\nqualityofthedataweuseforpre-trainingandpost-training. Theseimprovementsincludethedevelopment\\nof more careful </span>\n",
       "<span style=\"color: #008000; text-decoration-color: #008000\">pre-processing and curation pipelines for pre-training data and the development of more\\nrigorous quality assurance</span>\n",
       "<span style=\"color: #008000; text-decoration-color: #008000\">and filtering approaches for post-training data. We pre-train Llama 3 on a\\ncorpus of about 15T multilingual </span>\n",
       "<span style=\"color: #008000; text-decoration-color: #008000\">tokens, compared to 1.8T tokens for Llama 2.\\n• Scale. We train a model at far larger scale than previous Llama </span>\n",
       "<span style=\"color: #008000; text-decoration-color: #008000\">models: our flagship language model was\\npre-trained using3.8 × 1025 FLOPs, almost50× more than the largest version</span>\n",
       "<span style=\"color: #008000; text-decoration-color: #008000\">of Llama 2. Specifically,\\nwe pre-trained a flagship model with 405B trainable parameters on 15.6T text tokens. As </span>\n",
       "<span style=\"color: #008000; text-decoration-color: #008000\">expected per\\n1\\narXiv:2407.21783v2  [cs.AI]  15 Aug 2024'</span>,\n",
       "    <span style=\"color: #808000; text-decoration-color: #808000\">mimetype</span>=<span style=\"color: #008000; text-decoration-color: #008000\">'text/plain'</span>,\n",
       "    <span style=\"color: #808000; text-decoration-color: #808000\">start_char_idx</span>=<span style=\"color: #800080; text-decoration-color: #800080; font-style: italic\">None</span>,\n",
       "    <span style=\"color: #808000; text-decoration-color: #808000\">end_char_idx</span>=<span style=\"color: #800080; text-decoration-color: #800080; font-style: italic\">None</span>,\n",
       "    <span style=\"color: #808000; text-decoration-color: #808000\">metadata_seperator</span>=<span style=\"color: #008000; text-decoration-color: #008000\">'\\n'</span>,\n",
       "    <span style=\"color: #808000; text-decoration-color: #808000\">text_template</span>=<span style=\"color: #008000; text-decoration-color: #008000\">'{metadata_str}\\n\\n{content}'</span>\n",
       "<span style=\"font-weight: bold\">)</span>\n",
       "</pre>\n"
      ],
      "text/plain": [
       "\u001b[1;35mDocument\u001b[0m\u001b[1m(\u001b[0m\n",
       "    \u001b[33mid_\u001b[0m=\u001b[32m'd2ffb7ab-de1c-4d12-b2f3-0f28f81ca4a9'\u001b[0m,\n",
       "    \u001b[33membedding\u001b[0m=\u001b[3;35mNone\u001b[0m,\n",
       "    \u001b[33mmetadata\u001b[0m=\u001b[1m{\u001b[0m\n",
       "        \u001b[32m'page_label'\u001b[0m: \u001b[32m'1'\u001b[0m,\n",
       "        \u001b[32m'file_name'\u001b[0m: \u001b[32m'2407.21783.pdf'\u001b[0m,\n",
       "        \u001b[32m'file_path'\u001b[0m: \u001b[32m'/Users/michaelfrantz/CTME-llm-lecture-resources/prototyping_ai/data/2407.21783.pdf'\u001b[0m,\n",
       "        \u001b[32m'file_type'\u001b[0m: \u001b[32m'application/pdf'\u001b[0m,\n",
       "        \u001b[32m'file_size'\u001b[0m: \u001b[1;36m9832488\u001b[0m,\n",
       "        \u001b[32m'creation_date'\u001b[0m: \u001b[32m'2024-11-14'\u001b[0m,\n",
       "        \u001b[32m'last_modified_date'\u001b[0m: \u001b[32m'2024-11-14'\u001b[0m\n",
       "    \u001b[1m}\u001b[0m,\n",
       "    \u001b[33mexcluded_embed_metadata_keys\u001b[0m=\u001b[1m[\u001b[0m\n",
       "        \u001b[32m'file_name'\u001b[0m,\n",
       "        \u001b[32m'file_type'\u001b[0m,\n",
       "        \u001b[32m'file_size'\u001b[0m,\n",
       "        \u001b[32m'creation_date'\u001b[0m,\n",
       "        \u001b[32m'last_modified_date'\u001b[0m,\n",
       "        \u001b[32m'last_accessed_date'\u001b[0m\n",
       "    \u001b[1m]\u001b[0m,\n",
       "    \u001b[33mexcluded_llm_metadata_keys\u001b[0m=\u001b[1m[\u001b[0m\n",
       "        \u001b[32m'file_name'\u001b[0m,\n",
       "        \u001b[32m'file_type'\u001b[0m,\n",
       "        \u001b[32m'file_size'\u001b[0m,\n",
       "        \u001b[32m'creation_date'\u001b[0m,\n",
       "        \u001b[32m'last_modified_date'\u001b[0m,\n",
       "        \u001b[32m'last_accessed_date'\u001b[0m\n",
       "    \u001b[1m]\u001b[0m,\n",
       "    \u001b[33mrelationships\u001b[0m=\u001b[1m{\u001b[0m\u001b[1m}\u001b[0m,\n",
       "    \u001b[33mmetadata_template\u001b[0m=\u001b[32m'\u001b[0m\u001b[32m{\u001b[0m\u001b[32mkey\u001b[0m\u001b[32m}\u001b[0m\u001b[32m: \u001b[0m\u001b[32m{\u001b[0m\u001b[32mvalue\u001b[0m\u001b[32m}\u001b[0m\u001b[32m'\u001b[0m,\n",
       "    \u001b[33mmetadata_separator\u001b[0m=\u001b[32m'\\n'\u001b[0m,\n",
       "    \u001b[33mtext\u001b[0m=\u001b[32m'The Llama 3 Herd of Models\\nLlama Team, AI @ Meta 1\\n1A detailed contributor list can be found in the \u001b[0m\n",
       "\u001b[32mappendix of this paper.\\nModern artificial intelligence \u001b[0m\u001b[32m(\u001b[0m\u001b[32mAI\u001b[0m\u001b[32m)\u001b[0m\u001b[32m systems are powered by foundation models. This paper \u001b[0m\n",
       "\u001b[32mpresents a\\nnew set of foundation models, called Llama 3. It is a herd of language models that natively \u001b[0m\n",
       "\u001b[32msupport\\nmultilinguality, coding, reasoning, and tool usage. Our largest model is a dense Transformer with\\n405B \u001b[0m\n",
       "\u001b[32mparameters and a context window of up to 128K tokens. This paper presents an extensive\\nempirical evaluation of \u001b[0m\n",
       "\u001b[32mLlama 3. We find that Llama 3 delivers comparable quality to leading language\\nmodels such as GPT-4 on a plethora \u001b[0m\n",
       "\u001b[32mof tasks. We publicly release Llama 3, including pre-trained and\\npost-trained versions of the 405B parameter \u001b[0m\n",
       "\u001b[32mlanguage model and our Llama Guard 3 model for input\\nand output safety. The paper also presents the results of \u001b[0m\n",
       "\u001b[32mexperiments in which we integrate image,\\nvideo, and speech capabilities into Llama 3 via a compositional approach.\u001b[0m\n",
       "\u001b[32mWe observe this approach\\nperforms competitively with the state-of-the-art on image, video, and speech recognition \u001b[0m\n",
       "\u001b[32mtasks. The\\nresulting models are not yet being broadly released as they are still under development.\\nDate: July \u001b[0m\n",
       "\u001b[32m23, 2024\\nWebsite: https://llama.meta.com/\\n1 Introduction\\nFoundation models are general models of language, \u001b[0m\n",
       "\u001b[32mvision, speech, and/or other modalities that are designed\\nto support a large variety of AI tasks. They form the \u001b[0m\n",
       "\u001b[32mbasis of many modern AI systems.\\nThe development of modern foundation models consists of two main stages:\u001b[0m\u001b[32m(\u001b[0m\u001b[32m1\u001b[0m\u001b[32m)\u001b[0m\u001b[32m a \u001b[0m\n",
       "\u001b[32mpre-training stage in which\\nthe model is trained at massive scale using straightforward tasks such as next-word \u001b[0m\n",
       "\u001b[32mprediction or captioning\\nand \u001b[0m\u001b[32m(\u001b[0m\u001b[32m2\u001b[0m\u001b[32m)\u001b[0m\u001b[32m a post-training stage in which the model is tuned to follow instructions, align \u001b[0m\n",
       "\u001b[32mwith human preferences,\\nand improve specific capabilities \u001b[0m\u001b[32m(\u001b[0m\u001b[32mfor example, coding and reasoning\u001b[0m\u001b[32m)\u001b[0m\u001b[32m.\\nIn this paper, we \u001b[0m\n",
       "\u001b[32mpresent a new set of foundation models for language, calledLlama 3. The Llama 3 Herd\\nof models natively supports \u001b[0m\n",
       "\u001b[32mmultilinguality, coding, reasoning, and tool usage. Our largest model is dense\\nTransformer with 405B parameters, \u001b[0m\n",
       "\u001b[32mprocessing information in a context window of up to 128K tokens. Each\\nmember of the herd is listed in Table 1. All\u001b[0m\n",
       "\u001b[32mthe results presented in this paper are for the Llama 3.1 models,\\nwhich we will refer to as Llama 3 throughout for\u001b[0m\n",
       "\u001b[32mbrevity.\\nWe believe there are three key levers in the development of high-quality foundation models: data, scale, \u001b[0m\n",
       "\u001b[32mand\\nmanaging complexity. We seek to optimize for these three levers in our development process:\\n• Data. Compared \u001b[0m\n",
       "\u001b[32mto prior versions of Llama \u001b[0m\u001b[32m(\u001b[0m\u001b[32mTouvron et al., 2023a,b\u001b[0m\u001b[32m)\u001b[0m\u001b[32m, we improved both the quantity \u001b[0m\n",
       "\u001b[32mand\\nqualityofthedataweuseforpre-trainingandpost-training. Theseimprovementsincludethedevelopment\\nof more careful \u001b[0m\n",
       "\u001b[32mpre-processing and curation pipelines for pre-training data and the development of more\\nrigorous quality assurance\u001b[0m\n",
       "\u001b[32mand filtering approaches for post-training data. We pre-train Llama 3 on a\\ncorpus of about 15T multilingual \u001b[0m\n",
       "\u001b[32mtokens, compared to 1.8T tokens for Llama 2.\\n• Scale. We train a model at far larger scale than previous Llama \u001b[0m\n",
       "\u001b[32mmodels: our flagship language model was\\npre-trained using3.8 × 1025 FLOPs, almost50× more than the largest version\u001b[0m\n",
       "\u001b[32mof Llama 2. Specifically,\\nwe pre-trained a flagship model with 405B trainable parameters on 15.6T text tokens. As \u001b[0m\n",
       "\u001b[32mexpected per\\n1\\narXiv:2407.21783v2  \u001b[0m\u001b[32m[\u001b[0m\u001b[32mcs.AI\u001b[0m\u001b[32m]\u001b[0m\u001b[32m  15 Aug 2024'\u001b[0m,\n",
       "    \u001b[33mmimetype\u001b[0m=\u001b[32m'text/plain'\u001b[0m,\n",
       "    \u001b[33mstart_char_idx\u001b[0m=\u001b[3;35mNone\u001b[0m,\n",
       "    \u001b[33mend_char_idx\u001b[0m=\u001b[3;35mNone\u001b[0m,\n",
       "    \u001b[33mmetadata_seperator\u001b[0m=\u001b[32m'\\n'\u001b[0m,\n",
       "    \u001b[33mtext_template\u001b[0m=\u001b[32m'\u001b[0m\u001b[32m{\u001b[0m\u001b[32mmetadata_str\u001b[0m\u001b[32m}\u001b[0m\u001b[32m\\n\\n\u001b[0m\u001b[32m{\u001b[0m\u001b[32mcontent\u001b[0m\u001b[32m}\u001b[0m\u001b[32m'\u001b[0m\n",
       "\u001b[1m)\u001b[0m\n"
      ]
     },
     "metadata": {},
     "output_type": "display_data"
    }
   ],
   "source": [
    "print(documents[0])"
   ]
  },
  {
   "cell_type": "markdown",
   "metadata": {},
   "source": [
    "Now that we've loaded the data, we need to vectorize it.\n",
    "We will use a combination of an embedding model and a vector database to store the vectors.\n",
    "In the cell below, we use a HuggingFace embedding model to embed the documents.\n",
    "We also use torch to determine the device to use for the embedding model (`mps` for Mac GPUs, `cuda` for Nvidia GPUs, and `cpu` otherwise)."
   ]
  },
  {
   "cell_type": "code",
   "execution_count": 8,
   "metadata": {},
   "outputs": [],
   "source": [
    "from llama_index.core import VectorStoreIndex\n",
    "from llama_index.embeddings.huggingface import HuggingFaceEmbedding\n",
    "from torch.backends.mps import is_available as is_mps_available\n",
    "from torch.cuda import is_available as is_cuda_available\n",
    "\n",
    "if is_mps_available():\n",
    "    device = \"mps\"\n",
    "elif is_cuda_available():\n",
    "    device = \"cuda\"\n",
    "else:\n",
    "    device = \"cpu\"\n",
    "\n",
    "embed_model = HuggingFaceEmbedding(model_name=\"BAAI/bge-large-en-v1.5\", device=device)\n",
    "index = VectorStoreIndex.from_documents(documents, embed_model=embed_model)"
   ]
  },
  {
   "cell_type": "markdown",
   "metadata": {},
   "source": [
    "Finally, let's set up our RAG query engine.\n",
    "If we want to perform simple question-answering, we can use the `as_query_engine` method.\n",
    "If we want to perform chat with history, we can use the `as_chat_engine` method.\n",
    "We can see both below 👇.\n"
   ]
  },
  {
   "cell_type": "code",
   "execution_count": 9,
   "metadata": {},
   "outputs": [],
   "source": [
    "from llama_index.llms.openai import OpenAI\n",
    "from llama_index.core import Settings\n",
    "llm = OpenAI(model=\"gpt-4o-mini\")\n",
    "Settings.llm = llm # set gpt-4o-mini as the default llm\n",
    "\n",
    "query_engine = index.as_query_engine(llm=llm)\n",
    "chat_engine = index.as_chat_engine(llm=llm)"
   ]
  },
  {
   "cell_type": "markdown",
   "metadata": {},
   "source": [
    "Let's see how the query enine works.\n",
    "We start by passing it a question, then it uses the retriever to find the most relevant documents.\n",
    "Finally, it uses the LLM to answer the question."
   ]
  },
  {
   "cell_type": "code",
   "execution_count": 10,
   "metadata": {},
   "outputs": [],
   "source": [
    "response = query_engine.query(\"How many new Llama models models are mentioned in the paper?\")"
   ]
  },
  {
   "cell_type": "markdown",
   "metadata": {},
   "source": [
    "Below we see the response text.\n",
    "But there's also some additional information that we can access, including the source nodes.\n",
    "These are the nodes that the retriever used to answer the question.\n",
    "We can see that the retriever found several nodes that are relevant to the question, then the LLM used at least one of them to answer the question."
   ]
  },
  {
   "cell_type": "code",
   "execution_count": 11,
   "metadata": {},
   "outputs": [
    {
     "data": {
      "text/html": [
       "<pre style=\"white-space:pre;overflow-x:auto;line-height:normal;font-family:Menlo,'DejaVu Sans Mono',consolas,'Courier New',monospace\">The paper mentions a total of three new Llama models: Llama <span style=\"color: #008080; text-decoration-color: #008080; font-weight: bold\">3</span> with 8B parameters, Llama <span style=\"color: #008080; text-decoration-color: #008080; font-weight: bold\">3</span> with 70B parameters, and \n",
       "Llama <span style=\"color: #008080; text-decoration-color: #008080; font-weight: bold\">3</span> with 405B parameters.\n",
       "</pre>\n"
      ],
      "text/plain": [
       "The paper mentions a total of three new Llama models: Llama \u001b[1;36m3\u001b[0m with 8B parameters, Llama \u001b[1;36m3\u001b[0m with 70B parameters, and \n",
       "Llama \u001b[1;36m3\u001b[0m with 405B parameters.\n"
      ]
     },
     "metadata": {},
     "output_type": "display_data"
    }
   ],
   "source": [
    "print(response.response)"
   ]
  },
  {
   "cell_type": "markdown",
   "metadata": {},
   "source": [
    "Taking a look at the first source node, we can see that it is a node that contains part of the document that is relevant to the question.\n",
    "It also contains the `score`, which is the similarity between the question and the node.\n"
   ]
  },
  {
   "cell_type": "code",
   "execution_count": 12,
   "metadata": {},
   "outputs": [
    {
     "data": {
      "text/html": [
       "<pre style=\"white-space:pre;overflow-x:auto;line-height:normal;font-family:Menlo,'DejaVu Sans Mono',consolas,'Courier New',monospace\"><span style=\"color: #800080; text-decoration-color: #800080; font-weight: bold\">NodeWithScore</span><span style=\"font-weight: bold\">(</span>\n",
       "    <span style=\"color: #808000; text-decoration-color: #808000\">node</span>=<span style=\"color: #800080; text-decoration-color: #800080; font-weight: bold\">TextNode</span><span style=\"font-weight: bold\">(</span>\n",
       "        <span style=\"color: #808000; text-decoration-color: #808000\">id_</span>=<span style=\"color: #008000; text-decoration-color: #008000\">'7dee73d7-f185-4dd0-84d9-1830c15d286d'</span>,\n",
       "        <span style=\"color: #808000; text-decoration-color: #808000\">embedding</span>=<span style=\"color: #800080; text-decoration-color: #800080; font-style: italic\">None</span>,\n",
       "        <span style=\"color: #808000; text-decoration-color: #808000\">metadata</span>=<span style=\"font-weight: bold\">{</span>\n",
       "            <span style=\"color: #008000; text-decoration-color: #008000\">'page_label'</span>: <span style=\"color: #008000; text-decoration-color: #008000\">'2'</span>,\n",
       "            <span style=\"color: #008000; text-decoration-color: #008000\">'file_name'</span>: <span style=\"color: #008000; text-decoration-color: #008000\">'2407.21783.pdf'</span>,\n",
       "            <span style=\"color: #008000; text-decoration-color: #008000\">'file_path'</span>: <span style=\"color: #008000; text-decoration-color: #008000\">'/Users/michaelfrantz/CTME-llm-lecture-resources/prototyping_ai/data/2407.21783.pdf'</span>,\n",
       "            <span style=\"color: #008000; text-decoration-color: #008000\">'file_type'</span>: <span style=\"color: #008000; text-decoration-color: #008000\">'application/pdf'</span>,\n",
       "            <span style=\"color: #008000; text-decoration-color: #008000\">'file_size'</span>: <span style=\"color: #008080; text-decoration-color: #008080; font-weight: bold\">9832488</span>,\n",
       "            <span style=\"color: #008000; text-decoration-color: #008000\">'creation_date'</span>: <span style=\"color: #008000; text-decoration-color: #008000\">'2024-11-14'</span>,\n",
       "            <span style=\"color: #008000; text-decoration-color: #008000\">'last_modified_date'</span>: <span style=\"color: #008000; text-decoration-color: #008000\">'2024-11-14'</span>\n",
       "        <span style=\"font-weight: bold\">}</span>,\n",
       "        <span style=\"color: #808000; text-decoration-color: #808000\">excluded_embed_metadata_keys</span>=<span style=\"font-weight: bold\">[</span>\n",
       "            <span style=\"color: #008000; text-decoration-color: #008000\">'file_name'</span>,\n",
       "            <span style=\"color: #008000; text-decoration-color: #008000\">'file_type'</span>,\n",
       "            <span style=\"color: #008000; text-decoration-color: #008000\">'file_size'</span>,\n",
       "            <span style=\"color: #008000; text-decoration-color: #008000\">'creation_date'</span>,\n",
       "            <span style=\"color: #008000; text-decoration-color: #008000\">'last_modified_date'</span>,\n",
       "            <span style=\"color: #008000; text-decoration-color: #008000\">'last_accessed_date'</span>\n",
       "        <span style=\"font-weight: bold\">]</span>,\n",
       "        <span style=\"color: #808000; text-decoration-color: #808000\">excluded_llm_metadata_keys</span>=<span style=\"font-weight: bold\">[</span>\n",
       "            <span style=\"color: #008000; text-decoration-color: #008000\">'file_name'</span>,\n",
       "            <span style=\"color: #008000; text-decoration-color: #008000\">'file_type'</span>,\n",
       "            <span style=\"color: #008000; text-decoration-color: #008000\">'file_size'</span>,\n",
       "            <span style=\"color: #008000; text-decoration-color: #008000\">'creation_date'</span>,\n",
       "            <span style=\"color: #008000; text-decoration-color: #008000\">'last_modified_date'</span>,\n",
       "            <span style=\"color: #008000; text-decoration-color: #008000\">'last_accessed_date'</span>\n",
       "        <span style=\"font-weight: bold\">]</span>,\n",
       "        <span style=\"color: #808000; text-decoration-color: #808000\">relationships</span>=<span style=\"font-weight: bold\">{</span>\n",
       "            <span style=\"font-weight: bold\">&lt;</span><span style=\"color: #ff00ff; text-decoration-color: #ff00ff; font-weight: bold\">NodeRelationship.SOURCE:</span><span style=\"color: #000000; text-decoration-color: #000000\"> </span><span style=\"color: #008000; text-decoration-color: #008000\">'1'</span><span style=\"font-weight: bold\">&gt;</span>: <span style=\"color: #800080; text-decoration-color: #800080; font-weight: bold\">RelatedNodeInfo</span><span style=\"font-weight: bold\">(</span>\n",
       "                <span style=\"color: #808000; text-decoration-color: #808000\">node_id</span>=<span style=\"color: #008000; text-decoration-color: #008000\">'c2aa5e07-1c64-44f6-8701-f3df53873209'</span>,\n",
       "                <span style=\"color: #808000; text-decoration-color: #808000\">node_type</span>=<span style=\"color: #008000; text-decoration-color: #008000\">'4'</span>,\n",
       "                <span style=\"color: #808000; text-decoration-color: #808000\">metadata</span>=<span style=\"font-weight: bold\">{</span>\n",
       "                    <span style=\"color: #008000; text-decoration-color: #008000\">'page_label'</span>: <span style=\"color: #008000; text-decoration-color: #008000\">'2'</span>,\n",
       "                    <span style=\"color: #008000; text-decoration-color: #008000\">'file_name'</span>: <span style=\"color: #008000; text-decoration-color: #008000\">'2407.21783.pdf'</span>,\n",
       "                    <span style=\"color: #008000; text-decoration-color: #008000\">'file_path'</span>: \n",
       "<span style=\"color: #008000; text-decoration-color: #008000\">'/Users/michaelfrantz/CTME-llm-lecture-resources/prototyping_ai/data/2407.21783.pdf'</span>,\n",
       "                    <span style=\"color: #008000; text-decoration-color: #008000\">'file_type'</span>: <span style=\"color: #008000; text-decoration-color: #008000\">'application/pdf'</span>,\n",
       "                    <span style=\"color: #008000; text-decoration-color: #008000\">'file_size'</span>: <span style=\"color: #008080; text-decoration-color: #008080; font-weight: bold\">9832488</span>,\n",
       "                    <span style=\"color: #008000; text-decoration-color: #008000\">'creation_date'</span>: <span style=\"color: #008000; text-decoration-color: #008000\">'2024-11-14'</span>,\n",
       "                    <span style=\"color: #008000; text-decoration-color: #008000\">'last_modified_date'</span>: <span style=\"color: #008000; text-decoration-color: #008000\">'2024-11-14'</span>\n",
       "                <span style=\"font-weight: bold\">}</span>,\n",
       "                <span style=\"color: #808000; text-decoration-color: #808000\">hash</span>=<span style=\"color: #008000; text-decoration-color: #008000\">'2ea90099062b1dd3bee8c1ae15c1a08e55026fc535e90e0d917ed1f6139bfd74'</span>\n",
       "            <span style=\"font-weight: bold\">)</span>\n",
       "        <span style=\"font-weight: bold\">}</span>,\n",
       "        <span style=\"color: #808000; text-decoration-color: #808000\">metadata_template</span>=<span style=\"color: #008000; text-decoration-color: #008000\">'{key}: {value}'</span>,\n",
       "        <span style=\"color: #808000; text-decoration-color: #808000\">metadata_separator</span>=<span style=\"color: #008000; text-decoration-color: #008000\">'\\n'</span>,\n",
       "        <span style=\"color: #808000; text-decoration-color: #808000\">text</span>=<span style=\"color: #008000; text-decoration-color: #008000\">'Finetuned Multilingual Long context Tool use Release\\nLlama 3 8B ✗ ✗ 1 ✗ ✗ April 2024\\nLlama 3 8B </span>\n",
       "<span style=\"color: #008000; text-decoration-color: #008000\">Instruct ✓ ✗ ✗ ✗ April 2024\\nLlama 3 70B ✗ ✗ 1 ✗ ✗ April 2024\\nLlama 3 70B Instruct ✓ ✗ ✗ ✗ April 2024\\nLlama 3.1 </span>\n",
       "<span style=\"color: #008000; text-decoration-color: #008000\">8B ✗ ✓ ✓ ✗ July 2024\\nLlama 3.1 8B Instruct ✓ ✓ ✓ ✓ July 2024\\nLlama 3.1 70B ✗ ✓ ✓ ✗ July 2024\\nLlama 3.1 70B </span>\n",
       "<span style=\"color: #008000; text-decoration-color: #008000\">Instruct ✓ ✓ ✓ ✓ July 2024\\nLlama 3.1 405B ✗ ✓ ✓ ✗ July 2024\\nLlama 3.1 405B Instruct ✓ ✓ ✓ ✓ July 2024\\nTable 1 </span>\n",
       "<span style=\"color: #008000; text-decoration-color: #008000\">Overview of the Llama 3 Herd of models. All results in this paper are for the Llama 3.1 models.\\nscaling laws for </span>\n",
       "<span style=\"color: #008000; text-decoration-color: #008000\">foundation models, our flagship model outperforms smaller models trained using the\\nsame procedure. While our </span>\n",
       "<span style=\"color: #008000; text-decoration-color: #008000\">scaling laws suggest our flagship model is an approximately compute-optimal\\nsize for our training budget, we also </span>\n",
       "<span style=\"color: #008000; text-decoration-color: #008000\">train our smaller models for much longer than is compute-optimal.\\nThe resulting models perform better than </span>\n",
       "<span style=\"color: #008000; text-decoration-color: #008000\">compute-optimal models at the same inference budget. We\\nuse the flagship model to further improve the quality of </span>\n",
       "<span style=\"color: #008000; text-decoration-color: #008000\">those smaller models during post-training.\\n• Managing complexity. We make design choices that seek to maximize our</span>\n",
       "<span style=\"color: #008000; text-decoration-color: #008000\">ability to scale the model\\ndevelopment process. For example, we opt for a standard dense Transformer model </span>\n",
       "<span style=\"color: #008000; text-decoration-color: #008000\">architecture (Vaswani\\net al., 2017) with minor adaptations, rather than for a mixture-of-experts model (Shazeer et</span>\n",
       "<span style=\"color: #008000; text-decoration-color: #008000\">al., 2017)\\nto maximize training stability. Similarly, we adopt a relatively simple post-training procedure </span>\n",
       "<span style=\"color: #008000; text-decoration-color: #008000\">based\\non supervised finetuning (SFT), rejection sampling (RS), and direct preference optimization (DPO;\\nRafailov </span>\n",
       "<span style=\"color: #008000; text-decoration-color: #008000\">et al. (2023)) as opposed to more complex reinforcement learning algorithms (Ouyang et al.,\\n2022; Schulman et al.,</span>\n",
       "<span style=\"color: #008000; text-decoration-color: #008000\">2017) that tend to be less stable and harder to scale.\\nThe result of our work is Llama 3: a herd of three </span>\n",
       "<span style=\"color: #008000; text-decoration-color: #008000\">multilingual1 language models with 8B, 70B, and 405B\\nparameters. We evaluate the performance of Llama 3 on a </span>\n",
       "<span style=\"color: #008000; text-decoration-color: #008000\">plethora of benchmark datasets that span a wide\\nrange of language understanding tasks. In addition, we perform </span>\n",
       "<span style=\"color: #008000; text-decoration-color: #008000\">extensive human evaluations that compare\\nLlama 3 with competing models. An overview of the performance of the </span>\n",
       "<span style=\"color: #008000; text-decoration-color: #008000\">flagship Llama 3 model on key\\nbenchmarks is presented in Table 2. Our experimental evaluation suggests that our </span>\n",
       "<span style=\"color: #008000; text-decoration-color: #008000\">flagship model performs\\non par with leading language models such as GPT-4 (OpenAI, 2023a) across a variety of </span>\n",
       "<span style=\"color: #008000; text-decoration-color: #008000\">tasks, and is close to\\nmatching the state-of-the-art. Our smaller models are best-in-class, outperforming </span>\n",
       "<span style=\"color: #008000; text-decoration-color: #008000\">alternative models with\\nsimilar numbers of parameters (Bai et al., 2023; Jiang et al., 2023). Llama 3 also </span>\n",
       "<span style=\"color: #008000; text-decoration-color: #008000\">delivers a much better\\nbalance between helpfulness and harmlessness than its predecessor (Touvron et al., 2023b). </span>\n",
       "<span style=\"color: #008000; text-decoration-color: #008000\">We present a\\ndetailed analysis of the safety of Llama 3 in Section 5.4.\\nWe are publicly releasing all three Llama</span>\n",
       "<span style=\"color: #008000; text-decoration-color: #008000\">3 models under an updated version of the Llama 3 Community License;\\nsee https://llama.meta.com. This includes </span>\n",
       "<span style=\"color: #008000; text-decoration-color: #008000\">pre-trained and post-trained versions of our 405B parameter\\nlanguage model and a new version of our Llama Guard </span>\n",
       "<span style=\"color: #008000; text-decoration-color: #008000\">model (Inan et al., 2023) for input and output safety.\\nWe hope that the open release of a flagship model will spur</span>\n",
       "<span style=\"color: #008000; text-decoration-color: #008000\">a wave of innovation in the research community,\\nand accelerate a responsible path towards the development of </span>\n",
       "<span style=\"color: #008000; text-decoration-color: #008000\">artificial general intelligence (AGI).\\nAs part of the Llama 3 development process we also develop multimodal </span>\n",
       "<span style=\"color: #008000; text-decoration-color: #008000\">extensions to the models, enabling\\nimage recognition, video recognition, and speech understanding capabilities. </span>\n",
       "<span style=\"color: #008000; text-decoration-color: #008000\">These models are still under\\nactive development and not yet ready for release. In addition to our language </span>\n",
       "<span style=\"color: #008000; text-decoration-color: #008000\">modeling results, the paper\\npresents results of our initial experiments with those multimodal models.\\n1The Llama </span>\n",
       "<span style=\"color: #008000; text-decoration-color: #008000\">3 8B and 70B were pre-trained on multilingual data but were intended for use in English at the time.\\n2'</span>,\n",
       "        <span style=\"color: #808000; text-decoration-color: #808000\">mimetype</span>=<span style=\"color: #008000; text-decoration-color: #008000\">'text/plain'</span>,\n",
       "        <span style=\"color: #808000; text-decoration-color: #808000\">start_char_idx</span>=<span style=\"color: #008080; text-decoration-color: #008080; font-weight: bold\">0</span>,\n",
       "        <span style=\"color: #808000; text-decoration-color: #808000\">end_char_idx</span>=<span style=\"color: #008080; text-decoration-color: #008080; font-weight: bold\">3740</span>,\n",
       "        <span style=\"color: #808000; text-decoration-color: #808000\">metadata_seperator</span>=<span style=\"color: #008000; text-decoration-color: #008000\">'\\n'</span>,\n",
       "        <span style=\"color: #808000; text-decoration-color: #808000\">text_template</span>=<span style=\"color: #008000; text-decoration-color: #008000\">'{metadata_str}\\n\\n{content}'</span>\n",
       "    <span style=\"font-weight: bold\">)</span>,\n",
       "    <span style=\"color: #808000; text-decoration-color: #808000\">score</span>=<span style=\"color: #008080; text-decoration-color: #008080; font-weight: bold\">0.7447207372838807</span>\n",
       "<span style=\"font-weight: bold\">)</span>\n",
       "</pre>\n"
      ],
      "text/plain": [
       "\u001b[1;35mNodeWithScore\u001b[0m\u001b[1m(\u001b[0m\n",
       "    \u001b[33mnode\u001b[0m=\u001b[1;35mTextNode\u001b[0m\u001b[1m(\u001b[0m\n",
       "        \u001b[33mid_\u001b[0m=\u001b[32m'7dee73d7-f185-4dd0-84d9-1830c15d286d'\u001b[0m,\n",
       "        \u001b[33membedding\u001b[0m=\u001b[3;35mNone\u001b[0m,\n",
       "        \u001b[33mmetadata\u001b[0m=\u001b[1m{\u001b[0m\n",
       "            \u001b[32m'page_label'\u001b[0m: \u001b[32m'2'\u001b[0m,\n",
       "            \u001b[32m'file_name'\u001b[0m: \u001b[32m'2407.21783.pdf'\u001b[0m,\n",
       "            \u001b[32m'file_path'\u001b[0m: \u001b[32m'/Users/michaelfrantz/CTME-llm-lecture-resources/prototyping_ai/data/2407.21783.pdf'\u001b[0m,\n",
       "            \u001b[32m'file_type'\u001b[0m: \u001b[32m'application/pdf'\u001b[0m,\n",
       "            \u001b[32m'file_size'\u001b[0m: \u001b[1;36m9832488\u001b[0m,\n",
       "            \u001b[32m'creation_date'\u001b[0m: \u001b[32m'2024-11-14'\u001b[0m,\n",
       "            \u001b[32m'last_modified_date'\u001b[0m: \u001b[32m'2024-11-14'\u001b[0m\n",
       "        \u001b[1m}\u001b[0m,\n",
       "        \u001b[33mexcluded_embed_metadata_keys\u001b[0m=\u001b[1m[\u001b[0m\n",
       "            \u001b[32m'file_name'\u001b[0m,\n",
       "            \u001b[32m'file_type'\u001b[0m,\n",
       "            \u001b[32m'file_size'\u001b[0m,\n",
       "            \u001b[32m'creation_date'\u001b[0m,\n",
       "            \u001b[32m'last_modified_date'\u001b[0m,\n",
       "            \u001b[32m'last_accessed_date'\u001b[0m\n",
       "        \u001b[1m]\u001b[0m,\n",
       "        \u001b[33mexcluded_llm_metadata_keys\u001b[0m=\u001b[1m[\u001b[0m\n",
       "            \u001b[32m'file_name'\u001b[0m,\n",
       "            \u001b[32m'file_type'\u001b[0m,\n",
       "            \u001b[32m'file_size'\u001b[0m,\n",
       "            \u001b[32m'creation_date'\u001b[0m,\n",
       "            \u001b[32m'last_modified_date'\u001b[0m,\n",
       "            \u001b[32m'last_accessed_date'\u001b[0m\n",
       "        \u001b[1m]\u001b[0m,\n",
       "        \u001b[33mrelationships\u001b[0m=\u001b[1m{\u001b[0m\n",
       "            \u001b[1m<\u001b[0m\u001b[1;95mNodeRelationship.SOURCE:\u001b[0m\u001b[39m \u001b[0m\u001b[32m'1'\u001b[0m\u001b[1m>\u001b[0m: \u001b[1;35mRelatedNodeInfo\u001b[0m\u001b[1m(\u001b[0m\n",
       "                \u001b[33mnode_id\u001b[0m=\u001b[32m'c2aa5e07-1c64-44f6-8701-f3df53873209'\u001b[0m,\n",
       "                \u001b[33mnode_type\u001b[0m=\u001b[32m'4'\u001b[0m,\n",
       "                \u001b[33mmetadata\u001b[0m=\u001b[1m{\u001b[0m\n",
       "                    \u001b[32m'page_label'\u001b[0m: \u001b[32m'2'\u001b[0m,\n",
       "                    \u001b[32m'file_name'\u001b[0m: \u001b[32m'2407.21783.pdf'\u001b[0m,\n",
       "                    \u001b[32m'file_path'\u001b[0m: \n",
       "\u001b[32m'/Users/michaelfrantz/CTME-llm-lecture-resources/prototyping_ai/data/2407.21783.pdf'\u001b[0m,\n",
       "                    \u001b[32m'file_type'\u001b[0m: \u001b[32m'application/pdf'\u001b[0m,\n",
       "                    \u001b[32m'file_size'\u001b[0m: \u001b[1;36m9832488\u001b[0m,\n",
       "                    \u001b[32m'creation_date'\u001b[0m: \u001b[32m'2024-11-14'\u001b[0m,\n",
       "                    \u001b[32m'last_modified_date'\u001b[0m: \u001b[32m'2024-11-14'\u001b[0m\n",
       "                \u001b[1m}\u001b[0m,\n",
       "                \u001b[33mhash\u001b[0m=\u001b[32m'2ea90099062b1dd3bee8c1ae15c1a08e55026fc535e90e0d917ed1f6139bfd74'\u001b[0m\n",
       "            \u001b[1m)\u001b[0m\n",
       "        \u001b[1m}\u001b[0m,\n",
       "        \u001b[33mmetadata_template\u001b[0m=\u001b[32m'\u001b[0m\u001b[32m{\u001b[0m\u001b[32mkey\u001b[0m\u001b[32m}\u001b[0m\u001b[32m: \u001b[0m\u001b[32m{\u001b[0m\u001b[32mvalue\u001b[0m\u001b[32m}\u001b[0m\u001b[32m'\u001b[0m,\n",
       "        \u001b[33mmetadata_separator\u001b[0m=\u001b[32m'\\n'\u001b[0m,\n",
       "        \u001b[33mtext\u001b[0m=\u001b[32m'Finetuned Multilingual Long context Tool use Release\\nLlama 3 8B ✗ ✗ 1 ✗ ✗ April 2024\\nLlama 3 8B \u001b[0m\n",
       "\u001b[32mInstruct ✓ ✗ ✗ ✗ April 2024\\nLlama 3 70B ✗ ✗ 1 ✗ ✗ April 2024\\nLlama 3 70B Instruct ✓ ✗ ✗ ✗ April 2024\\nLlama 3.1 \u001b[0m\n",
       "\u001b[32m8B ✗ ✓ ✓ ✗ July 2024\\nLlama 3.1 8B Instruct ✓ ✓ ✓ ✓ July 2024\\nLlama 3.1 70B ✗ ✓ ✓ ✗ July 2024\\nLlama 3.1 70B \u001b[0m\n",
       "\u001b[32mInstruct ✓ ✓ ✓ ✓ July 2024\\nLlama 3.1 405B ✗ ✓ ✓ ✗ July 2024\\nLlama 3.1 405B Instruct ✓ ✓ ✓ ✓ July 2024\\nTable 1 \u001b[0m\n",
       "\u001b[32mOverview of the Llama 3 Herd of models. All results in this paper are for the Llama 3.1 models.\\nscaling laws for \u001b[0m\n",
       "\u001b[32mfoundation models, our flagship model outperforms smaller models trained using the\\nsame procedure. While our \u001b[0m\n",
       "\u001b[32mscaling laws suggest our flagship model is an approximately compute-optimal\\nsize for our training budget, we also \u001b[0m\n",
       "\u001b[32mtrain our smaller models for much longer than is compute-optimal.\\nThe resulting models perform better than \u001b[0m\n",
       "\u001b[32mcompute-optimal models at the same inference budget. We\\nuse the flagship model to further improve the quality of \u001b[0m\n",
       "\u001b[32mthose smaller models during post-training.\\n• Managing complexity. We make design choices that seek to maximize our\u001b[0m\n",
       "\u001b[32mability to scale the model\\ndevelopment process. For example, we opt for a standard dense Transformer model \u001b[0m\n",
       "\u001b[32marchitecture \u001b[0m\u001b[32m(\u001b[0m\u001b[32mVaswani\\net al., 2017\u001b[0m\u001b[32m)\u001b[0m\u001b[32m with minor adaptations, rather than for a mixture-of-experts model \u001b[0m\u001b[32m(\u001b[0m\u001b[32mShazeer et\u001b[0m\n",
       "\u001b[32mal., 2017\u001b[0m\u001b[32m)\u001b[0m\u001b[32m\\nto maximize training stability. Similarly, we adopt a relatively simple post-training procedure \u001b[0m\n",
       "\u001b[32mbased\\non supervised finetuning \u001b[0m\u001b[32m(\u001b[0m\u001b[32mSFT\u001b[0m\u001b[32m)\u001b[0m\u001b[32m, rejection sampling \u001b[0m\u001b[32m(\u001b[0m\u001b[32mRS\u001b[0m\u001b[32m)\u001b[0m\u001b[32m, and direct preference optimization \u001b[0m\u001b[32m(\u001b[0m\u001b[32mDPO;\\nRafailov \u001b[0m\n",
       "\u001b[32met al. \u001b[0m\u001b[32m(\u001b[0m\u001b[32m2023\u001b[0m\u001b[32m)\u001b[0m\u001b[32m)\u001b[0m\u001b[32m as opposed to more complex reinforcement learning algorithms \u001b[0m\u001b[32m(\u001b[0m\u001b[32mOuyang et al.,\\n2022; Schulman et al.,\u001b[0m\n",
       "\u001b[32m2017\u001b[0m\u001b[32m)\u001b[0m\u001b[32m that tend to be less stable and harder to scale.\\nThe result of our work is Llama 3: a herd of three \u001b[0m\n",
       "\u001b[32mmultilingual1 language models with 8B, 70B, and 405B\\nparameters. We evaluate the performance of Llama 3 on a \u001b[0m\n",
       "\u001b[32mplethora of benchmark datasets that span a wide\\nrange of language understanding tasks. In addition, we perform \u001b[0m\n",
       "\u001b[32mextensive human evaluations that compare\\nLlama 3 with competing models. An overview of the performance of the \u001b[0m\n",
       "\u001b[32mflagship Llama 3 model on key\\nbenchmarks is presented in Table 2. Our experimental evaluation suggests that our \u001b[0m\n",
       "\u001b[32mflagship model performs\\non par with leading language models such as GPT-4 \u001b[0m\u001b[32m(\u001b[0m\u001b[32mOpenAI, 2023a\u001b[0m\u001b[32m)\u001b[0m\u001b[32m across a variety of \u001b[0m\n",
       "\u001b[32mtasks, and is close to\\nmatching the state-of-the-art. Our smaller models are best-in-class, outperforming \u001b[0m\n",
       "\u001b[32malternative models with\\nsimilar numbers of parameters \u001b[0m\u001b[32m(\u001b[0m\u001b[32mBai et al., 2023; Jiang et al., 2023\u001b[0m\u001b[32m)\u001b[0m\u001b[32m. Llama 3 also \u001b[0m\n",
       "\u001b[32mdelivers a much better\\nbalance between helpfulness and harmlessness than its predecessor \u001b[0m\u001b[32m(\u001b[0m\u001b[32mTouvron et al., 2023b\u001b[0m\u001b[32m)\u001b[0m\u001b[32m. \u001b[0m\n",
       "\u001b[32mWe present a\\ndetailed analysis of the safety of Llama 3 in Section 5.4.\\nWe are publicly releasing all three Llama\u001b[0m\n",
       "\u001b[32m3 models under an updated version of the Llama 3 Community License;\\nsee https://llama.meta.com. This includes \u001b[0m\n",
       "\u001b[32mpre-trained and post-trained versions of our 405B parameter\\nlanguage model and a new version of our Llama Guard \u001b[0m\n",
       "\u001b[32mmodel \u001b[0m\u001b[32m(\u001b[0m\u001b[32mInan et al., 2023\u001b[0m\u001b[32m)\u001b[0m\u001b[32m for input and output safety.\\nWe hope that the open release of a flagship model will spur\u001b[0m\n",
       "\u001b[32ma wave of innovation in the research community,\\nand accelerate a responsible path towards the development of \u001b[0m\n",
       "\u001b[32martificial general intelligence \u001b[0m\u001b[32m(\u001b[0m\u001b[32mAGI\u001b[0m\u001b[32m)\u001b[0m\u001b[32m.\\nAs part of the Llama 3 development process we also develop multimodal \u001b[0m\n",
       "\u001b[32mextensions to the models, enabling\\nimage recognition, video recognition, and speech understanding capabilities. \u001b[0m\n",
       "\u001b[32mThese models are still under\\nactive development and not yet ready for release. In addition to our language \u001b[0m\n",
       "\u001b[32mmodeling results, the paper\\npresents results of our initial experiments with those multimodal models.\\n1The Llama \u001b[0m\n",
       "\u001b[32m3 8B and 70B were pre-trained on multilingual data but were intended for use in English at the time.\\n2'\u001b[0m,\n",
       "        \u001b[33mmimetype\u001b[0m=\u001b[32m'text/plain'\u001b[0m,\n",
       "        \u001b[33mstart_char_idx\u001b[0m=\u001b[1;36m0\u001b[0m,\n",
       "        \u001b[33mend_char_idx\u001b[0m=\u001b[1;36m3740\u001b[0m,\n",
       "        \u001b[33mmetadata_seperator\u001b[0m=\u001b[32m'\\n'\u001b[0m,\n",
       "        \u001b[33mtext_template\u001b[0m=\u001b[32m'\u001b[0m\u001b[32m{\u001b[0m\u001b[32mmetadata_str\u001b[0m\u001b[32m}\u001b[0m\u001b[32m\\n\\n\u001b[0m\u001b[32m{\u001b[0m\u001b[32mcontent\u001b[0m\u001b[32m}\u001b[0m\u001b[32m'\u001b[0m\n",
       "    \u001b[1m)\u001b[0m,\n",
       "    \u001b[33mscore\u001b[0m=\u001b[1;36m0\u001b[0m\u001b[1;36m.7447207372838807\u001b[0m\n",
       "\u001b[1m)\u001b[0m\n"
      ]
     },
     "metadata": {},
     "output_type": "display_data"
    }
   ],
   "source": [
    "print(response.source_nodes[0])"
   ]
  },
  {
   "cell_type": "markdown",
   "metadata": {},
   "source": [
    "Now let's see if our chat enigine comes up with the same answer."
   ]
  },
  {
   "cell_type": "code",
   "execution_count": 13,
   "metadata": {},
   "outputs": [
    {
     "data": {
      "text/html": [
       "<pre style=\"white-space:pre;overflow-x:auto;line-height:normal;font-family:Menlo,'DejaVu Sans Mono',consolas,'Courier New',monospace\">The paper mentions three new Llama models: Llama <span style=\"color: #008080; text-decoration-color: #008080; font-weight: bold\">3</span> 8B, Llama <span style=\"color: #008080; text-decoration-color: #008080; font-weight: bold\">3</span> 70B, and Llama <span style=\"color: #008080; text-decoration-color: #008080; font-weight: bold\">3</span> 405B.\n",
       "</pre>\n"
      ],
      "text/plain": [
       "The paper mentions three new Llama models: Llama \u001b[1;36m3\u001b[0m 8B, Llama \u001b[1;36m3\u001b[0m 70B, and Llama \u001b[1;36m3\u001b[0m 405B.\n"
      ]
     },
     "metadata": {},
     "output_type": "display_data"
    },
    {
     "data": {
      "text/html": [
       "<pre style=\"white-space:pre;overflow-x:auto;line-height:normal;font-family:Menlo,'DejaVu Sans Mono',consolas,'Courier New',monospace\"><span style=\"color: #800080; text-decoration-color: #800080; font-weight: bold\">NodeWithScore</span><span style=\"font-weight: bold\">(</span>\n",
       "    <span style=\"color: #808000; text-decoration-color: #808000\">node</span>=<span style=\"color: #800080; text-decoration-color: #800080; font-weight: bold\">TextNode</span><span style=\"font-weight: bold\">(</span>\n",
       "        <span style=\"color: #808000; text-decoration-color: #808000\">id_</span>=<span style=\"color: #008000; text-decoration-color: #008000\">'7dee73d7-f185-4dd0-84d9-1830c15d286d'</span>,\n",
       "        <span style=\"color: #808000; text-decoration-color: #808000\">embedding</span>=<span style=\"color: #800080; text-decoration-color: #800080; font-style: italic\">None</span>,\n",
       "        <span style=\"color: #808000; text-decoration-color: #808000\">metadata</span>=<span style=\"font-weight: bold\">{</span>\n",
       "            <span style=\"color: #008000; text-decoration-color: #008000\">'page_label'</span>: <span style=\"color: #008000; text-decoration-color: #008000\">'2'</span>,\n",
       "            <span style=\"color: #008000; text-decoration-color: #008000\">'file_name'</span>: <span style=\"color: #008000; text-decoration-color: #008000\">'2407.21783.pdf'</span>,\n",
       "            <span style=\"color: #008000; text-decoration-color: #008000\">'file_path'</span>: <span style=\"color: #008000; text-decoration-color: #008000\">'/Users/michaelfrantz/CTME-llm-lecture-resources/prototyping_ai/data/2407.21783.pdf'</span>,\n",
       "            <span style=\"color: #008000; text-decoration-color: #008000\">'file_type'</span>: <span style=\"color: #008000; text-decoration-color: #008000\">'application/pdf'</span>,\n",
       "            <span style=\"color: #008000; text-decoration-color: #008000\">'file_size'</span>: <span style=\"color: #008080; text-decoration-color: #008080; font-weight: bold\">9832488</span>,\n",
       "            <span style=\"color: #008000; text-decoration-color: #008000\">'creation_date'</span>: <span style=\"color: #008000; text-decoration-color: #008000\">'2024-11-14'</span>,\n",
       "            <span style=\"color: #008000; text-decoration-color: #008000\">'last_modified_date'</span>: <span style=\"color: #008000; text-decoration-color: #008000\">'2024-11-14'</span>\n",
       "        <span style=\"font-weight: bold\">}</span>,\n",
       "        <span style=\"color: #808000; text-decoration-color: #808000\">excluded_embed_metadata_keys</span>=<span style=\"font-weight: bold\">[</span>\n",
       "            <span style=\"color: #008000; text-decoration-color: #008000\">'file_name'</span>,\n",
       "            <span style=\"color: #008000; text-decoration-color: #008000\">'file_type'</span>,\n",
       "            <span style=\"color: #008000; text-decoration-color: #008000\">'file_size'</span>,\n",
       "            <span style=\"color: #008000; text-decoration-color: #008000\">'creation_date'</span>,\n",
       "            <span style=\"color: #008000; text-decoration-color: #008000\">'last_modified_date'</span>,\n",
       "            <span style=\"color: #008000; text-decoration-color: #008000\">'last_accessed_date'</span>\n",
       "        <span style=\"font-weight: bold\">]</span>,\n",
       "        <span style=\"color: #808000; text-decoration-color: #808000\">excluded_llm_metadata_keys</span>=<span style=\"font-weight: bold\">[</span>\n",
       "            <span style=\"color: #008000; text-decoration-color: #008000\">'file_name'</span>,\n",
       "            <span style=\"color: #008000; text-decoration-color: #008000\">'file_type'</span>,\n",
       "            <span style=\"color: #008000; text-decoration-color: #008000\">'file_size'</span>,\n",
       "            <span style=\"color: #008000; text-decoration-color: #008000\">'creation_date'</span>,\n",
       "            <span style=\"color: #008000; text-decoration-color: #008000\">'last_modified_date'</span>,\n",
       "            <span style=\"color: #008000; text-decoration-color: #008000\">'last_accessed_date'</span>\n",
       "        <span style=\"font-weight: bold\">]</span>,\n",
       "        <span style=\"color: #808000; text-decoration-color: #808000\">relationships</span>=<span style=\"font-weight: bold\">{</span>\n",
       "            <span style=\"font-weight: bold\">&lt;</span><span style=\"color: #ff00ff; text-decoration-color: #ff00ff; font-weight: bold\">NodeRelationship.SOURCE:</span><span style=\"color: #000000; text-decoration-color: #000000\"> </span><span style=\"color: #008000; text-decoration-color: #008000\">'1'</span><span style=\"font-weight: bold\">&gt;</span>: <span style=\"color: #800080; text-decoration-color: #800080; font-weight: bold\">RelatedNodeInfo</span><span style=\"font-weight: bold\">(</span>\n",
       "                <span style=\"color: #808000; text-decoration-color: #808000\">node_id</span>=<span style=\"color: #008000; text-decoration-color: #008000\">'c2aa5e07-1c64-44f6-8701-f3df53873209'</span>,\n",
       "                <span style=\"color: #808000; text-decoration-color: #808000\">node_type</span>=<span style=\"color: #008000; text-decoration-color: #008000\">'4'</span>,\n",
       "                <span style=\"color: #808000; text-decoration-color: #808000\">metadata</span>=<span style=\"font-weight: bold\">{</span>\n",
       "                    <span style=\"color: #008000; text-decoration-color: #008000\">'page_label'</span>: <span style=\"color: #008000; text-decoration-color: #008000\">'2'</span>,\n",
       "                    <span style=\"color: #008000; text-decoration-color: #008000\">'file_name'</span>: <span style=\"color: #008000; text-decoration-color: #008000\">'2407.21783.pdf'</span>,\n",
       "                    <span style=\"color: #008000; text-decoration-color: #008000\">'file_path'</span>: \n",
       "<span style=\"color: #008000; text-decoration-color: #008000\">'/Users/michaelfrantz/CTME-llm-lecture-resources/prototyping_ai/data/2407.21783.pdf'</span>,\n",
       "                    <span style=\"color: #008000; text-decoration-color: #008000\">'file_type'</span>: <span style=\"color: #008000; text-decoration-color: #008000\">'application/pdf'</span>,\n",
       "                    <span style=\"color: #008000; text-decoration-color: #008000\">'file_size'</span>: <span style=\"color: #008080; text-decoration-color: #008080; font-weight: bold\">9832488</span>,\n",
       "                    <span style=\"color: #008000; text-decoration-color: #008000\">'creation_date'</span>: <span style=\"color: #008000; text-decoration-color: #008000\">'2024-11-14'</span>,\n",
       "                    <span style=\"color: #008000; text-decoration-color: #008000\">'last_modified_date'</span>: <span style=\"color: #008000; text-decoration-color: #008000\">'2024-11-14'</span>\n",
       "                <span style=\"font-weight: bold\">}</span>,\n",
       "                <span style=\"color: #808000; text-decoration-color: #808000\">hash</span>=<span style=\"color: #008000; text-decoration-color: #008000\">'2ea90099062b1dd3bee8c1ae15c1a08e55026fc535e90e0d917ed1f6139bfd74'</span>\n",
       "            <span style=\"font-weight: bold\">)</span>\n",
       "        <span style=\"font-weight: bold\">}</span>,\n",
       "        <span style=\"color: #808000; text-decoration-color: #808000\">metadata_template</span>=<span style=\"color: #008000; text-decoration-color: #008000\">'{key}: {value}'</span>,\n",
       "        <span style=\"color: #808000; text-decoration-color: #808000\">metadata_separator</span>=<span style=\"color: #008000; text-decoration-color: #008000\">'\\n'</span>,\n",
       "        <span style=\"color: #808000; text-decoration-color: #808000\">text</span>=<span style=\"color: #008000; text-decoration-color: #008000\">'Finetuned Multilingual Long context Tool use Release\\nLlama 3 8B ✗ ✗ 1 ✗ ✗ April 2024\\nLlama 3 8B </span>\n",
       "<span style=\"color: #008000; text-decoration-color: #008000\">Instruct ✓ ✗ ✗ ✗ April 2024\\nLlama 3 70B ✗ ✗ 1 ✗ ✗ April 2024\\nLlama 3 70B Instruct ✓ ✗ ✗ ✗ April 2024\\nLlama 3.1 </span>\n",
       "<span style=\"color: #008000; text-decoration-color: #008000\">8B ✗ ✓ ✓ ✗ July 2024\\nLlama 3.1 8B Instruct ✓ ✓ ✓ ✓ July 2024\\nLlama 3.1 70B ✗ ✓ ✓ ✗ July 2024\\nLlama 3.1 70B </span>\n",
       "<span style=\"color: #008000; text-decoration-color: #008000\">Instruct ✓ ✓ ✓ ✓ July 2024\\nLlama 3.1 405B ✗ ✓ ✓ ✗ July 2024\\nLlama 3.1 405B Instruct ✓ ✓ ✓ ✓ July 2024\\nTable 1 </span>\n",
       "<span style=\"color: #008000; text-decoration-color: #008000\">Overview of the Llama 3 Herd of models. All results in this paper are for the Llama 3.1 models.\\nscaling laws for </span>\n",
       "<span style=\"color: #008000; text-decoration-color: #008000\">foundation models, our flagship model outperforms smaller models trained using the\\nsame procedure. While our </span>\n",
       "<span style=\"color: #008000; text-decoration-color: #008000\">scaling laws suggest our flagship model is an approximately compute-optimal\\nsize for our training budget, we also </span>\n",
       "<span style=\"color: #008000; text-decoration-color: #008000\">train our smaller models for much longer than is compute-optimal.\\nThe resulting models perform better than </span>\n",
       "<span style=\"color: #008000; text-decoration-color: #008000\">compute-optimal models at the same inference budget. We\\nuse the flagship model to further improve the quality of </span>\n",
       "<span style=\"color: #008000; text-decoration-color: #008000\">those smaller models during post-training.\\n• Managing complexity. We make design choices that seek to maximize our</span>\n",
       "<span style=\"color: #008000; text-decoration-color: #008000\">ability to scale the model\\ndevelopment process. For example, we opt for a standard dense Transformer model </span>\n",
       "<span style=\"color: #008000; text-decoration-color: #008000\">architecture (Vaswani\\net al., 2017) with minor adaptations, rather than for a mixture-of-experts model (Shazeer et</span>\n",
       "<span style=\"color: #008000; text-decoration-color: #008000\">al., 2017)\\nto maximize training stability. Similarly, we adopt a relatively simple post-training procedure </span>\n",
       "<span style=\"color: #008000; text-decoration-color: #008000\">based\\non supervised finetuning (SFT), rejection sampling (RS), and direct preference optimization (DPO;\\nRafailov </span>\n",
       "<span style=\"color: #008000; text-decoration-color: #008000\">et al. (2023)) as opposed to more complex reinforcement learning algorithms (Ouyang et al.,\\n2022; Schulman et al.,</span>\n",
       "<span style=\"color: #008000; text-decoration-color: #008000\">2017) that tend to be less stable and harder to scale.\\nThe result of our work is Llama 3: a herd of three </span>\n",
       "<span style=\"color: #008000; text-decoration-color: #008000\">multilingual1 language models with 8B, 70B, and 405B\\nparameters. We evaluate the performance of Llama 3 on a </span>\n",
       "<span style=\"color: #008000; text-decoration-color: #008000\">plethora of benchmark datasets that span a wide\\nrange of language understanding tasks. In addition, we perform </span>\n",
       "<span style=\"color: #008000; text-decoration-color: #008000\">extensive human evaluations that compare\\nLlama 3 with competing models. An overview of the performance of the </span>\n",
       "<span style=\"color: #008000; text-decoration-color: #008000\">flagship Llama 3 model on key\\nbenchmarks is presented in Table 2. Our experimental evaluation suggests that our </span>\n",
       "<span style=\"color: #008000; text-decoration-color: #008000\">flagship model performs\\non par with leading language models such as GPT-4 (OpenAI, 2023a) across a variety of </span>\n",
       "<span style=\"color: #008000; text-decoration-color: #008000\">tasks, and is close to\\nmatching the state-of-the-art. Our smaller models are best-in-class, outperforming </span>\n",
       "<span style=\"color: #008000; text-decoration-color: #008000\">alternative models with\\nsimilar numbers of parameters (Bai et al., 2023; Jiang et al., 2023). Llama 3 also </span>\n",
       "<span style=\"color: #008000; text-decoration-color: #008000\">delivers a much better\\nbalance between helpfulness and harmlessness than its predecessor (Touvron et al., 2023b). </span>\n",
       "<span style=\"color: #008000; text-decoration-color: #008000\">We present a\\ndetailed analysis of the safety of Llama 3 in Section 5.4.\\nWe are publicly releasing all three Llama</span>\n",
       "<span style=\"color: #008000; text-decoration-color: #008000\">3 models under an updated version of the Llama 3 Community License;\\nsee https://llama.meta.com. This includes </span>\n",
       "<span style=\"color: #008000; text-decoration-color: #008000\">pre-trained and post-trained versions of our 405B parameter\\nlanguage model and a new version of our Llama Guard </span>\n",
       "<span style=\"color: #008000; text-decoration-color: #008000\">model (Inan et al., 2023) for input and output safety.\\nWe hope that the open release of a flagship model will spur</span>\n",
       "<span style=\"color: #008000; text-decoration-color: #008000\">a wave of innovation in the research community,\\nand accelerate a responsible path towards the development of </span>\n",
       "<span style=\"color: #008000; text-decoration-color: #008000\">artificial general intelligence (AGI).\\nAs part of the Llama 3 development process we also develop multimodal </span>\n",
       "<span style=\"color: #008000; text-decoration-color: #008000\">extensions to the models, enabling\\nimage recognition, video recognition, and speech understanding capabilities. </span>\n",
       "<span style=\"color: #008000; text-decoration-color: #008000\">These models are still under\\nactive development and not yet ready for release. In addition to our language </span>\n",
       "<span style=\"color: #008000; text-decoration-color: #008000\">modeling results, the paper\\npresents results of our initial experiments with those multimodal models.\\n1The Llama </span>\n",
       "<span style=\"color: #008000; text-decoration-color: #008000\">3 8B and 70B were pre-trained on multilingual data but were intended for use in English at the time.\\n2'</span>,\n",
       "        <span style=\"color: #808000; text-decoration-color: #808000\">mimetype</span>=<span style=\"color: #008000; text-decoration-color: #008000\">'text/plain'</span>,\n",
       "        <span style=\"color: #808000; text-decoration-color: #808000\">start_char_idx</span>=<span style=\"color: #008080; text-decoration-color: #008080; font-weight: bold\">0</span>,\n",
       "        <span style=\"color: #808000; text-decoration-color: #808000\">end_char_idx</span>=<span style=\"color: #008080; text-decoration-color: #008080; font-weight: bold\">3740</span>,\n",
       "        <span style=\"color: #808000; text-decoration-color: #808000\">metadata_seperator</span>=<span style=\"color: #008000; text-decoration-color: #008000\">'\\n'</span>,\n",
       "        <span style=\"color: #808000; text-decoration-color: #808000\">text_template</span>=<span style=\"color: #008000; text-decoration-color: #008000\">'{metadata_str}\\n\\n{content}'</span>\n",
       "    <span style=\"font-weight: bold\">)</span>,\n",
       "    <span style=\"color: #808000; text-decoration-color: #808000\">score</span>=<span style=\"color: #008080; text-decoration-color: #008080; font-weight: bold\">0.7443171831086403</span>\n",
       "<span style=\"font-weight: bold\">)</span>\n",
       "</pre>\n"
      ],
      "text/plain": [
       "\u001b[1;35mNodeWithScore\u001b[0m\u001b[1m(\u001b[0m\n",
       "    \u001b[33mnode\u001b[0m=\u001b[1;35mTextNode\u001b[0m\u001b[1m(\u001b[0m\n",
       "        \u001b[33mid_\u001b[0m=\u001b[32m'7dee73d7-f185-4dd0-84d9-1830c15d286d'\u001b[0m,\n",
       "        \u001b[33membedding\u001b[0m=\u001b[3;35mNone\u001b[0m,\n",
       "        \u001b[33mmetadata\u001b[0m=\u001b[1m{\u001b[0m\n",
       "            \u001b[32m'page_label'\u001b[0m: \u001b[32m'2'\u001b[0m,\n",
       "            \u001b[32m'file_name'\u001b[0m: \u001b[32m'2407.21783.pdf'\u001b[0m,\n",
       "            \u001b[32m'file_path'\u001b[0m: \u001b[32m'/Users/michaelfrantz/CTME-llm-lecture-resources/prototyping_ai/data/2407.21783.pdf'\u001b[0m,\n",
       "            \u001b[32m'file_type'\u001b[0m: \u001b[32m'application/pdf'\u001b[0m,\n",
       "            \u001b[32m'file_size'\u001b[0m: \u001b[1;36m9832488\u001b[0m,\n",
       "            \u001b[32m'creation_date'\u001b[0m: \u001b[32m'2024-11-14'\u001b[0m,\n",
       "            \u001b[32m'last_modified_date'\u001b[0m: \u001b[32m'2024-11-14'\u001b[0m\n",
       "        \u001b[1m}\u001b[0m,\n",
       "        \u001b[33mexcluded_embed_metadata_keys\u001b[0m=\u001b[1m[\u001b[0m\n",
       "            \u001b[32m'file_name'\u001b[0m,\n",
       "            \u001b[32m'file_type'\u001b[0m,\n",
       "            \u001b[32m'file_size'\u001b[0m,\n",
       "            \u001b[32m'creation_date'\u001b[0m,\n",
       "            \u001b[32m'last_modified_date'\u001b[0m,\n",
       "            \u001b[32m'last_accessed_date'\u001b[0m\n",
       "        \u001b[1m]\u001b[0m,\n",
       "        \u001b[33mexcluded_llm_metadata_keys\u001b[0m=\u001b[1m[\u001b[0m\n",
       "            \u001b[32m'file_name'\u001b[0m,\n",
       "            \u001b[32m'file_type'\u001b[0m,\n",
       "            \u001b[32m'file_size'\u001b[0m,\n",
       "            \u001b[32m'creation_date'\u001b[0m,\n",
       "            \u001b[32m'last_modified_date'\u001b[0m,\n",
       "            \u001b[32m'last_accessed_date'\u001b[0m\n",
       "        \u001b[1m]\u001b[0m,\n",
       "        \u001b[33mrelationships\u001b[0m=\u001b[1m{\u001b[0m\n",
       "            \u001b[1m<\u001b[0m\u001b[1;95mNodeRelationship.SOURCE:\u001b[0m\u001b[39m \u001b[0m\u001b[32m'1'\u001b[0m\u001b[1m>\u001b[0m: \u001b[1;35mRelatedNodeInfo\u001b[0m\u001b[1m(\u001b[0m\n",
       "                \u001b[33mnode_id\u001b[0m=\u001b[32m'c2aa5e07-1c64-44f6-8701-f3df53873209'\u001b[0m,\n",
       "                \u001b[33mnode_type\u001b[0m=\u001b[32m'4'\u001b[0m,\n",
       "                \u001b[33mmetadata\u001b[0m=\u001b[1m{\u001b[0m\n",
       "                    \u001b[32m'page_label'\u001b[0m: \u001b[32m'2'\u001b[0m,\n",
       "                    \u001b[32m'file_name'\u001b[0m: \u001b[32m'2407.21783.pdf'\u001b[0m,\n",
       "                    \u001b[32m'file_path'\u001b[0m: \n",
       "\u001b[32m'/Users/michaelfrantz/CTME-llm-lecture-resources/prototyping_ai/data/2407.21783.pdf'\u001b[0m,\n",
       "                    \u001b[32m'file_type'\u001b[0m: \u001b[32m'application/pdf'\u001b[0m,\n",
       "                    \u001b[32m'file_size'\u001b[0m: \u001b[1;36m9832488\u001b[0m,\n",
       "                    \u001b[32m'creation_date'\u001b[0m: \u001b[32m'2024-11-14'\u001b[0m,\n",
       "                    \u001b[32m'last_modified_date'\u001b[0m: \u001b[32m'2024-11-14'\u001b[0m\n",
       "                \u001b[1m}\u001b[0m,\n",
       "                \u001b[33mhash\u001b[0m=\u001b[32m'2ea90099062b1dd3bee8c1ae15c1a08e55026fc535e90e0d917ed1f6139bfd74'\u001b[0m\n",
       "            \u001b[1m)\u001b[0m\n",
       "        \u001b[1m}\u001b[0m,\n",
       "        \u001b[33mmetadata_template\u001b[0m=\u001b[32m'\u001b[0m\u001b[32m{\u001b[0m\u001b[32mkey\u001b[0m\u001b[32m}\u001b[0m\u001b[32m: \u001b[0m\u001b[32m{\u001b[0m\u001b[32mvalue\u001b[0m\u001b[32m}\u001b[0m\u001b[32m'\u001b[0m,\n",
       "        \u001b[33mmetadata_separator\u001b[0m=\u001b[32m'\\n'\u001b[0m,\n",
       "        \u001b[33mtext\u001b[0m=\u001b[32m'Finetuned Multilingual Long context Tool use Release\\nLlama 3 8B ✗ ✗ 1 ✗ ✗ April 2024\\nLlama 3 8B \u001b[0m\n",
       "\u001b[32mInstruct ✓ ✗ ✗ ✗ April 2024\\nLlama 3 70B ✗ ✗ 1 ✗ ✗ April 2024\\nLlama 3 70B Instruct ✓ ✗ ✗ ✗ April 2024\\nLlama 3.1 \u001b[0m\n",
       "\u001b[32m8B ✗ ✓ ✓ ✗ July 2024\\nLlama 3.1 8B Instruct ✓ ✓ ✓ ✓ July 2024\\nLlama 3.1 70B ✗ ✓ ✓ ✗ July 2024\\nLlama 3.1 70B \u001b[0m\n",
       "\u001b[32mInstruct ✓ ✓ ✓ ✓ July 2024\\nLlama 3.1 405B ✗ ✓ ✓ ✗ July 2024\\nLlama 3.1 405B Instruct ✓ ✓ ✓ ✓ July 2024\\nTable 1 \u001b[0m\n",
       "\u001b[32mOverview of the Llama 3 Herd of models. All results in this paper are for the Llama 3.1 models.\\nscaling laws for \u001b[0m\n",
       "\u001b[32mfoundation models, our flagship model outperforms smaller models trained using the\\nsame procedure. While our \u001b[0m\n",
       "\u001b[32mscaling laws suggest our flagship model is an approximately compute-optimal\\nsize for our training budget, we also \u001b[0m\n",
       "\u001b[32mtrain our smaller models for much longer than is compute-optimal.\\nThe resulting models perform better than \u001b[0m\n",
       "\u001b[32mcompute-optimal models at the same inference budget. We\\nuse the flagship model to further improve the quality of \u001b[0m\n",
       "\u001b[32mthose smaller models during post-training.\\n• Managing complexity. We make design choices that seek to maximize our\u001b[0m\n",
       "\u001b[32mability to scale the model\\ndevelopment process. For example, we opt for a standard dense Transformer model \u001b[0m\n",
       "\u001b[32marchitecture \u001b[0m\u001b[32m(\u001b[0m\u001b[32mVaswani\\net al., 2017\u001b[0m\u001b[32m)\u001b[0m\u001b[32m with minor adaptations, rather than for a mixture-of-experts model \u001b[0m\u001b[32m(\u001b[0m\u001b[32mShazeer et\u001b[0m\n",
       "\u001b[32mal., 2017\u001b[0m\u001b[32m)\u001b[0m\u001b[32m\\nto maximize training stability. Similarly, we adopt a relatively simple post-training procedure \u001b[0m\n",
       "\u001b[32mbased\\non supervised finetuning \u001b[0m\u001b[32m(\u001b[0m\u001b[32mSFT\u001b[0m\u001b[32m)\u001b[0m\u001b[32m, rejection sampling \u001b[0m\u001b[32m(\u001b[0m\u001b[32mRS\u001b[0m\u001b[32m)\u001b[0m\u001b[32m, and direct preference optimization \u001b[0m\u001b[32m(\u001b[0m\u001b[32mDPO;\\nRafailov \u001b[0m\n",
       "\u001b[32met al. \u001b[0m\u001b[32m(\u001b[0m\u001b[32m2023\u001b[0m\u001b[32m)\u001b[0m\u001b[32m)\u001b[0m\u001b[32m as opposed to more complex reinforcement learning algorithms \u001b[0m\u001b[32m(\u001b[0m\u001b[32mOuyang et al.,\\n2022; Schulman et al.,\u001b[0m\n",
       "\u001b[32m2017\u001b[0m\u001b[32m)\u001b[0m\u001b[32m that tend to be less stable and harder to scale.\\nThe result of our work is Llama 3: a herd of three \u001b[0m\n",
       "\u001b[32mmultilingual1 language models with 8B, 70B, and 405B\\nparameters. We evaluate the performance of Llama 3 on a \u001b[0m\n",
       "\u001b[32mplethora of benchmark datasets that span a wide\\nrange of language understanding tasks. In addition, we perform \u001b[0m\n",
       "\u001b[32mextensive human evaluations that compare\\nLlama 3 with competing models. An overview of the performance of the \u001b[0m\n",
       "\u001b[32mflagship Llama 3 model on key\\nbenchmarks is presented in Table 2. Our experimental evaluation suggests that our \u001b[0m\n",
       "\u001b[32mflagship model performs\\non par with leading language models such as GPT-4 \u001b[0m\u001b[32m(\u001b[0m\u001b[32mOpenAI, 2023a\u001b[0m\u001b[32m)\u001b[0m\u001b[32m across a variety of \u001b[0m\n",
       "\u001b[32mtasks, and is close to\\nmatching the state-of-the-art. Our smaller models are best-in-class, outperforming \u001b[0m\n",
       "\u001b[32malternative models with\\nsimilar numbers of parameters \u001b[0m\u001b[32m(\u001b[0m\u001b[32mBai et al., 2023; Jiang et al., 2023\u001b[0m\u001b[32m)\u001b[0m\u001b[32m. Llama 3 also \u001b[0m\n",
       "\u001b[32mdelivers a much better\\nbalance between helpfulness and harmlessness than its predecessor \u001b[0m\u001b[32m(\u001b[0m\u001b[32mTouvron et al., 2023b\u001b[0m\u001b[32m)\u001b[0m\u001b[32m. \u001b[0m\n",
       "\u001b[32mWe present a\\ndetailed analysis of the safety of Llama 3 in Section 5.4.\\nWe are publicly releasing all three Llama\u001b[0m\n",
       "\u001b[32m3 models under an updated version of the Llama 3 Community License;\\nsee https://llama.meta.com. This includes \u001b[0m\n",
       "\u001b[32mpre-trained and post-trained versions of our 405B parameter\\nlanguage model and a new version of our Llama Guard \u001b[0m\n",
       "\u001b[32mmodel \u001b[0m\u001b[32m(\u001b[0m\u001b[32mInan et al., 2023\u001b[0m\u001b[32m)\u001b[0m\u001b[32m for input and output safety.\\nWe hope that the open release of a flagship model will spur\u001b[0m\n",
       "\u001b[32ma wave of innovation in the research community,\\nand accelerate a responsible path towards the development of \u001b[0m\n",
       "\u001b[32martificial general intelligence \u001b[0m\u001b[32m(\u001b[0m\u001b[32mAGI\u001b[0m\u001b[32m)\u001b[0m\u001b[32m.\\nAs part of the Llama 3 development process we also develop multimodal \u001b[0m\n",
       "\u001b[32mextensions to the models, enabling\\nimage recognition, video recognition, and speech understanding capabilities. \u001b[0m\n",
       "\u001b[32mThese models are still under\\nactive development and not yet ready for release. In addition to our language \u001b[0m\n",
       "\u001b[32mmodeling results, the paper\\npresents results of our initial experiments with those multimodal models.\\n1The Llama \u001b[0m\n",
       "\u001b[32m3 8B and 70B were pre-trained on multilingual data but were intended for use in English at the time.\\n2'\u001b[0m,\n",
       "        \u001b[33mmimetype\u001b[0m=\u001b[32m'text/plain'\u001b[0m,\n",
       "        \u001b[33mstart_char_idx\u001b[0m=\u001b[1;36m0\u001b[0m,\n",
       "        \u001b[33mend_char_idx\u001b[0m=\u001b[1;36m3740\u001b[0m,\n",
       "        \u001b[33mmetadata_seperator\u001b[0m=\u001b[32m'\\n'\u001b[0m,\n",
       "        \u001b[33mtext_template\u001b[0m=\u001b[32m'\u001b[0m\u001b[32m{\u001b[0m\u001b[32mmetadata_str\u001b[0m\u001b[32m}\u001b[0m\u001b[32m\\n\\n\u001b[0m\u001b[32m{\u001b[0m\u001b[32mcontent\u001b[0m\u001b[32m}\u001b[0m\u001b[32m'\u001b[0m\n",
       "    \u001b[1m)\u001b[0m,\n",
       "    \u001b[33mscore\u001b[0m=\u001b[1;36m0\u001b[0m\u001b[1;36m.7443171831086403\u001b[0m\n",
       "\u001b[1m)\u001b[0m\n"
      ]
     },
     "metadata": {},
     "output_type": "display_data"
    }
   ],
   "source": [
    "chat_response = chat_engine.chat(\"How many new Llama models models are mentioned in the paper?\")\n",
    "print(chat_response.response)\n",
    "print(chat_response.source_nodes[0])"
   ]
  },
  {
   "cell_type": "markdown",
   "metadata": {},
   "source": [
    "# Data ingestion\n",
    "\n",
    "Data often comes in many different formats.\n",
    "It may come in the form of a PDF, a web page, a code file, etc.\n",
    "We may need some specific processing pipelines to extract the text from these documents, split them correctly, and vectorize them.\n",
    "\n",
    "Luckily, LlamaIndex (and other libraries) provide lots of built-in and add-on tools to help you ingest almost any data type.\n",
    "Instead of loading a PDF, let's load a web page instead.\n",
    "We will use one of the classes provided by [`llama-index-readers-web`](https://llamahub.ai/l/readers/llama-index-readers-web?from=readers) to load data from a web page.\n",
    "\n",
    "In this section, we will:\n",
    "- Load a web page as Markdown\n",
    "- Split it into chunks following the structured format of the Markdown\n",
    "- Embed the chunks\n",
    "- Store the chunks in a vector database\n",
    "- Create a query engine from the vector database and use it to answer a question\n"
   ]
  },
  {
   "cell_type": "code",
   "execution_count": 14,
   "metadata": {},
   "outputs": [],
   "source": [
    "from llama_index.readers.web import SimpleWebPageReader\n",
    "from llama_index.core.node_parser import MarkdownNodeParser\n",
    "from llama_index.core.ingestion import IngestionPipeline\n",
    "from llama_index.vector_stores.chroma import ChromaVectorStore\n",
    "import chromadb\n"
   ]
  },
  {
   "cell_type": "code",
   "execution_count": 15,
   "metadata": {},
   "outputs": [],
   "source": [
    "web_docs = SimpleWebPageReader(html_to_text=True).load_data(['https://en.wikipedia.org/wiki/Wikipedia'])"
   ]
  },
  {
   "cell_type": "code",
   "execution_count": 16,
   "metadata": {},
   "outputs": [],
   "source": [
    "collection = chromadb.EphemeralClient().create_collection(\"wikipedia\", get_or_create=True)\n",
    "vector_store = ChromaVectorStore(collection)"
   ]
  },
  {
   "cell_type": "code",
   "execution_count": 17,
   "metadata": {},
   "outputs": [],
   "source": [
    "pipeline = IngestionPipeline(\n",
    "    transformations=[\n",
    "        MarkdownNodeParser.from_defaults(),\n",
    "        embed_model,\n",
    "    ], \n",
    "    vector_store=vector_store\n",
    ")"
   ]
  },
  {
   "cell_type": "code",
   "execution_count": 18,
   "metadata": {},
   "outputs": [],
   "source": [
    "nodes = pipeline.run(documents=web_docs)"
   ]
  },
  {
   "cell_type": "code",
   "execution_count": 19,
   "metadata": {},
   "outputs": [],
   "source": [
    "index = VectorStoreIndex.from_vector_store(vector_store, embed_model=embed_model)"
   ]
  },
  {
   "cell_type": "code",
   "execution_count": 20,
   "metadata": {},
   "outputs": [
    {
     "data": {
      "text/html": [
       "<pre style=\"white-space:pre;overflow-x:auto;line-height:normal;font-family:Menlo,'DejaVu Sans Mono',consolas,'Courier New',monospace\">There are currently <span style=\"color: #008080; text-decoration-color: #008080; font-weight: bold\">339</span> language editions of Wikipedia.\n",
       "</pre>\n"
      ],
      "text/plain": [
       "There are currently \u001b[1;36m339\u001b[0m language editions of Wikipedia.\n"
      ]
     },
     "metadata": {},
     "output_type": "display_data"
    }
   ],
   "source": [
    "llm = OpenAI(model=\"gpt-4o-mini\")\n",
    "query_engine = index.as_query_engine(llm=llm)\n",
    "response = query_engine.query(\"How many languages there exactly? Quote the exact text as well.\")\n",
    "print(response.response)"
   ]
  },
  {
   "cell_type": "code",
   "execution_count": 21,
   "metadata": {},
   "outputs": [
    {
     "data": {
      "text/html": [
       "<pre style=\"white-space:pre;overflow-x:auto;line-height:normal;font-family:Menlo,'DejaVu Sans Mono',consolas,'Courier New',monospace\">Quote from source: <span style=\"color: #008000; text-decoration-color: #008000\">'There are currently 339 language editions of Wikipedia (also called _language'</span>\n",
       "</pre>\n"
      ],
      "text/plain": [
       "Quote from source: \u001b[32m'There are currently 339 language editions of Wikipedia \u001b[0m\u001b[32m(\u001b[0m\u001b[32malso called _language'\u001b[0m\n"
      ]
     },
     "metadata": {},
     "output_type": "display_data"
    }
   ],
   "source": [
    "# Use fuzzywuzzy to find the closest match in the source text\n",
    "from thefuzz import fuzz, process\n",
    "# Get the top matching line of text from the source_text_quote\n",
    "top_match, match_score = process.extractOne(response.response, response.source_nodes[0].text.splitlines(), scorer=fuzz.ratio)\n",
    "assert top_match in response.source_nodes[0].text\n",
    "print(f\"Quote from source: '{top_match}'\")"
   ]
  },
  {
   "cell_type": "markdown",
   "metadata": {},
   "source": [
    "## OCR\n",
    "\n",
    "There are times where the PDF is not in a format that can be easily read into text.\n",
    "In these cases, we will need to use optical character recognition (OCR) to convert the images to text.\n",
    "There are many libraries and cloud services that can do this, but for this example, we will use the `docling` library since our example document is a PDF.\n",
    "We will then ingest the text into LlamaIndex and use it to answer a question.\n",
    "\n",
    "![](https://ds4sd.github.io/docling/assets/docling_processing.png)"
   ]
  },
  {
   "cell_type": "code",
   "execution_count": 28,
   "metadata": {},
   "outputs": [],
   "source": [
    "from llama_index.readers.docling import DoclingReader\n",
    "from llama_index.node_parser.docling import DoclingNodeParser\n",
    "from llama_index.core.schema import Document\n",
    "from llama_index.core import StorageContext"
   ]
  },
  {
   "cell_type": "code",
   "execution_count": 23,
   "metadata": {},
   "outputs": [],
   "source": [
    "reader = DoclingReader(export_type=DoclingReader.ExportType.JSON)"
   ]
  },
  {
   "cell_type": "code",
   "execution_count": 30,
   "metadata": {},
   "outputs": [
    {
     "name": "stdout",
     "output_type": "stream",
     "text": [
      "\u001b[91m*ERR* --- *ERR*\u001b[0m\n",
      "\u001b[91m*ERR* Table is not square! *ERR*\u001b[0m\n",
      "\u001b[93m*Padding to square...*\u001b[0m\n",
      "\u001b[91m*ERR* --- *ERR*\u001b[0m\n",
      "\u001b[91m*ERR* Table is not square! *ERR*\u001b[0m\n",
      "\u001b[93m*Padding to square...*\u001b[0m\n"
     ]
    }
   ],
   "source": [
    "docling_docs = reader.load_data(pdf_path)"
   ]
  },
  {
   "cell_type": "code",
   "execution_count": 33,
   "metadata": {},
   "outputs": [
    {
     "data": {
      "text/html": [
       "<pre style=\"white-space:pre;overflow-x:auto;line-height:normal;font-family:Menlo,'DejaVu Sans Mono',consolas,'Courier New',monospace\"></pre>\n"
      ],
      "text/plain": []
     },
     "metadata": {},
     "output_type": "display_data"
    },
    {
     "data": {
      "text/plain": [
       "\u001b[1;36m1\u001b[0m"
      ]
     },
     "execution_count": 33,
     "metadata": {},
     "output_type": "execute_result"
    }
   ],
   "source": [
    "len(docling_docs)"
   ]
  },
  {
   "cell_type": "code",
   "execution_count": 42,
   "metadata": {},
   "outputs": [],
   "source": [
    "# We need to set the text template to \"{content}\" because the default is \"{metadata}\\n\\n{content}\",\n",
    "# and LlamaIndex will try to embed the metadata as well. The metadata is not useful at serach time.\n",
    "docling_docs[0].text_template\n",
    "docling_docs[0].text_template = \"{content}\""
   ]
  },
  {
   "cell_type": "code",
   "execution_count": 43,
   "metadata": {},
   "outputs": [
    {
     "data": {
      "text/html": [
       "<pre style=\"white-space:pre;overflow-x:auto;line-height:normal;font-family:Menlo,'DejaVu Sans Mono',consolas,'Courier New',monospace\"></pre>\n"
      ],
      "text/plain": []
     },
     "metadata": {},
     "output_type": "display_data"
    },
    {
     "data": {
      "text/plain": [
       "\u001b[1;36m710\u001b[0m"
      ]
     },
     "execution_count": 43,
     "metadata": {},
     "output_type": "execute_result"
    }
   ],
   "source": [
    "docling_node_parser = DoclingNodeParser()\n",
    "docling_nodes = docling_node_parser.get_nodes_from_documents(docling_docs)\n",
    "len(docling_nodes)"
   ]
  },
  {
   "cell_type": "code",
   "execution_count": 44,
   "metadata": {},
   "outputs": [
    {
     "data": {
      "text/html": [
       "<pre style=\"white-space:pre;overflow-x:auto;line-height:normal;font-family:Menlo,'DejaVu Sans Mono',consolas,'Courier New',monospace\"></pre>\n"
      ],
      "text/plain": []
     },
     "metadata": {},
     "output_type": "display_data"
    },
    {
     "data": {
      "text/plain": [
       "\n",
       "\u001b[1m{\u001b[0m\n",
       "    \u001b[32m'schema_name'\u001b[0m: \u001b[32m'docling_core.transforms.chunker.DocMeta'\u001b[0m,\n",
       "    \u001b[32m'version'\u001b[0m: \u001b[32m'1.0.0'\u001b[0m,\n",
       "    \u001b[32m'doc_items'\u001b[0m: \u001b[1m[\u001b[0m\n",
       "        \u001b[1m{\u001b[0m\n",
       "            \u001b[32m'self_ref'\u001b[0m: \u001b[32m'#/texts/0'\u001b[0m,\n",
       "            \u001b[32m'parent'\u001b[0m: \u001b[1m{\u001b[0m\u001b[32m'$ref'\u001b[0m: \u001b[32m'#/body'\u001b[0m\u001b[1m}\u001b[0m,\n",
       "            \u001b[32m'children'\u001b[0m: \u001b[1m[\u001b[0m\u001b[1m]\u001b[0m,\n",
       "            \u001b[32m'label'\u001b[0m: \u001b[32m'page_header'\u001b[0m,\n",
       "            \u001b[32m'prov'\u001b[0m: \u001b[1m[\u001b[0m\n",
       "                \u001b[1m{\u001b[0m\n",
       "                    \u001b[32m'page_no'\u001b[0m: \u001b[1;36m1\u001b[0m,\n",
       "                    \u001b[32m'bbox'\u001b[0m: \u001b[1m{\u001b[0m\n",
       "                        \u001b[32m'l'\u001b[0m: \u001b[1;36m16.9896183013916\u001b[0m,\n",
       "                        \u001b[32m't'\u001b[0m: \u001b[1;36m578.7445068359375\u001b[0m,\n",
       "                        \u001b[32m'r'\u001b[0m: \u001b[1;36m36.339778900146484\u001b[0m,\n",
       "                        \u001b[32m'b'\u001b[0m: \u001b[1;36m231.99996948242188\u001b[0m,\n",
       "                        \u001b[32m'coord_origin'\u001b[0m: \u001b[32m'BOTTOMLEFT'\u001b[0m\n",
       "                    \u001b[1m}\u001b[0m,\n",
       "                    \u001b[32m'charspan'\u001b[0m: \u001b[1m[\u001b[0m\u001b[1;36m0\u001b[0m, \u001b[1;36m38\u001b[0m\u001b[1m]\u001b[0m\n",
       "                \u001b[1m}\u001b[0m\n",
       "            \u001b[1m]\u001b[0m\n",
       "        \u001b[1m}\u001b[0m\n",
       "    \u001b[1m]\u001b[0m,\n",
       "    \u001b[32m'origin'\u001b[0m: \u001b[1m{\u001b[0m\n",
       "        \u001b[32m'mimetype'\u001b[0m: \u001b[32m'application/pdf'\u001b[0m,\n",
       "        \u001b[32m'binary_hash'\u001b[0m: \u001b[1;36m7968363826940540892\u001b[0m,\n",
       "        \u001b[32m'filename'\u001b[0m: \u001b[32m'2407.21783.pdf'\u001b[0m\n",
       "    \u001b[1m}\u001b[0m\n",
       "\u001b[1m}\u001b[0m"
      ]
     },
     "execution_count": 44,
     "metadata": {},
     "output_type": "execute_result"
    }
   ],
   "source": [
    "docling_nodes[0].metadata"
   ]
  },
  {
   "cell_type": "code",
   "execution_count": 45,
   "metadata": {},
   "outputs": [
    {
     "data": {
      "text/html": [
       "<pre style=\"white-space:pre;overflow-x:auto;line-height:normal;font-family:Menlo,'DejaVu Sans Mono',consolas,'Courier New',monospace\"><span style=\"color: #800000; text-decoration-color: #800000\">╭─────────────────────────────── </span><span style=\"color: #800000; text-decoration-color: #800000; font-weight: bold\">Traceback </span><span style=\"color: #bf7f7f; text-decoration-color: #bf7f7f; font-weight: bold\">(most recent call last)</span><span style=\"color: #800000; text-decoration-color: #800000\"> ────────────────────────────────╮</span>\n",
       "<span style=\"color: #800000; text-decoration-color: #800000\">│</span> in <span style=\"color: #00ff00; text-decoration-color: #00ff00\">&lt;module&gt;</span>:<span style=\"color: #0000ff; text-decoration-color: #0000ff\">4</span>                                                                                    <span style=\"color: #800000; text-decoration-color: #800000\">│</span>\n",
       "<span style=\"color: #800000; text-decoration-color: #800000\">│</span>                                                                                                  <span style=\"color: #800000; text-decoration-color: #800000\">│</span>\n",
       "<span style=\"color: #800000; text-decoration-color: #800000\">│</span>   <span style=\"color: #7f7f7f; text-decoration-color: #7f7f7f\">1 </span>llama_collection = chromadb.EphemeralClient().create_collection(<span style=\"color: #808000; text-decoration-color: #808000\">\"llama\"</span>, get_or_create=<span style=\"color: #0000ff; text-decoration-color: #0000ff\">T</span>     <span style=\"color: #800000; text-decoration-color: #800000\">│</span>\n",
       "<span style=\"color: #800000; text-decoration-color: #800000\">│</span>   <span style=\"color: #7f7f7f; text-decoration-color: #7f7f7f\">2 </span>llama_vector_store = ChromaVectorStore(llama_collection)                                     <span style=\"color: #800000; text-decoration-color: #800000\">│</span>\n",
       "<span style=\"color: #800000; text-decoration-color: #800000\">│</span>   <span style=\"color: #7f7f7f; text-decoration-color: #7f7f7f\">3 </span>                                                                                             <span style=\"color: #800000; text-decoration-color: #800000\">│</span>\n",
       "<span style=\"color: #800000; text-decoration-color: #800000\">│</span> <span style=\"color: #800000; text-decoration-color: #800000\">❱ </span>4 index = <span style=\"font-weight: bold; text-decoration: underline\">VectorStoreIndex(nodes=docling_nodes, embed_model=embed_model, storage_context=S</span>     <span style=\"color: #800000; text-decoration-color: #800000\">│</span>\n",
       "<span style=\"color: #800000; text-decoration-color: #800000\">│</span>   <span style=\"color: #7f7f7f; text-decoration-color: #7f7f7f\">5 </span>                                                                                             <span style=\"color: #800000; text-decoration-color: #800000\">│</span>\n",
       "<span style=\"color: #800000; text-decoration-color: #800000\">│</span>                                                                                                  <span style=\"color: #800000; text-decoration-color: #800000\">│</span>\n",
       "<span style=\"color: #800000; text-decoration-color: #800000\">│</span> <span style=\"color: #bfbf7f; text-decoration-color: #bfbf7f\">/Users/michaelfrantz/CTME-llm-lecture-resources/.venv/lib/python3.11/site-packages/llama_index/c</span> <span style=\"color: #800000; text-decoration-color: #800000\">│</span>\n",
       "<span style=\"color: #800000; text-decoration-color: #800000\">│</span> <span style=\"color: #bfbf7f; text-decoration-color: #bfbf7f\">ore/indices/vector_store/</span><span style=\"color: #808000; text-decoration-color: #808000; font-weight: bold\">base.py</span>:<span style=\"color: #0000ff; text-decoration-color: #0000ff\">76</span> in <span style=\"color: #00ff00; text-decoration-color: #00ff00\">__init__</span>                                                  <span style=\"color: #800000; text-decoration-color: #800000\">│</span>\n",
       "<span style=\"color: #800000; text-decoration-color: #800000\">│</span>                                                                                                  <span style=\"color: #800000; text-decoration-color: #800000\">│</span>\n",
       "<span style=\"color: #800000; text-decoration-color: #800000\">│</span>   <span style=\"color: #7f7f7f; text-decoration-color: #7f7f7f\"> 73 </span><span style=\"color: #7f7f7f; text-decoration-color: #7f7f7f\">│   │   </span>)                                                                                  <span style=\"color: #800000; text-decoration-color: #800000\">│</span>\n",
       "<span style=\"color: #800000; text-decoration-color: #800000\">│</span>   <span style=\"color: #7f7f7f; text-decoration-color: #7f7f7f\"> 74 </span><span style=\"color: #7f7f7f; text-decoration-color: #7f7f7f\">│   │   </span>                                                                                   <span style=\"color: #800000; text-decoration-color: #800000\">│</span>\n",
       "<span style=\"color: #800000; text-decoration-color: #800000\">│</span>   <span style=\"color: #7f7f7f; text-decoration-color: #7f7f7f\"> 75 </span><span style=\"color: #7f7f7f; text-decoration-color: #7f7f7f\">│   │   </span><span style=\"color: #00ffff; text-decoration-color: #00ffff\">self</span>._insert_batch_size = insert_batch_size                                        <span style=\"color: #800000; text-decoration-color: #800000\">│</span>\n",
       "<span style=\"color: #800000; text-decoration-color: #800000\">│</span> <span style=\"color: #800000; text-decoration-color: #800000\">❱ </span> 76 <span style=\"color: #7f7f7f; text-decoration-color: #7f7f7f\">│   │   </span><span style=\"color: #00ffff; text-decoration-color: #00ffff\">super</span>().<span style=\"color: #00ff00; text-decoration-color: #00ff00\">__init__</span>(                                                                  <span style=\"color: #800000; text-decoration-color: #800000\">│</span>\n",
       "<span style=\"color: #800000; text-decoration-color: #800000\">│</span>   <span style=\"color: #7f7f7f; text-decoration-color: #7f7f7f\"> 77 </span><span style=\"color: #7f7f7f; text-decoration-color: #7f7f7f\">│   │   │   </span>nodes=nodes,                                                                   <span style=\"color: #800000; text-decoration-color: #800000\">│</span>\n",
       "<span style=\"color: #800000; text-decoration-color: #800000\">│</span>   <span style=\"color: #7f7f7f; text-decoration-color: #7f7f7f\"> 78 </span><span style=\"color: #7f7f7f; text-decoration-color: #7f7f7f\">│   │   │   </span>index_struct=index_struct,                                                     <span style=\"color: #800000; text-decoration-color: #800000\">│</span>\n",
       "<span style=\"color: #800000; text-decoration-color: #800000\">│</span>   <span style=\"color: #7f7f7f; text-decoration-color: #7f7f7f\"> 79 </span><span style=\"color: #7f7f7f; text-decoration-color: #7f7f7f\">│   │   │   </span>storage_context=storage_context,                                               <span style=\"color: #800000; text-decoration-color: #800000\">│</span>\n",
       "<span style=\"color: #800000; text-decoration-color: #800000\">│</span>                                                                                                  <span style=\"color: #800000; text-decoration-color: #800000\">│</span>\n",
       "<span style=\"color: #800000; text-decoration-color: #800000\">│</span> <span style=\"color: #bfbf7f; text-decoration-color: #bfbf7f\">/Users/michaelfrantz/CTME-llm-lecture-resources/.venv/lib/python3.11/site-packages/llama_index/c</span> <span style=\"color: #800000; text-decoration-color: #800000\">│</span>\n",
       "<span style=\"color: #800000; text-decoration-color: #800000\">│</span> <span style=\"color: #bfbf7f; text-decoration-color: #bfbf7f\">ore/indices/</span><span style=\"color: #808000; text-decoration-color: #808000; font-weight: bold\">base.py</span>:<span style=\"color: #0000ff; text-decoration-color: #0000ff\">77</span> in <span style=\"color: #00ff00; text-decoration-color: #00ff00\">__init__</span>                                                               <span style=\"color: #800000; text-decoration-color: #800000\">│</span>\n",
       "<span style=\"color: #800000; text-decoration-color: #800000\">│</span>                                                                                                  <span style=\"color: #800000; text-decoration-color: #800000\">│</span>\n",
       "<span style=\"color: #800000; text-decoration-color: #800000\">│</span>   <span style=\"color: #7f7f7f; text-decoration-color: #7f7f7f\"> 74 </span><span style=\"color: #7f7f7f; text-decoration-color: #7f7f7f\">│   │   </span><span style=\"color: #0000ff; text-decoration-color: #0000ff\">with</span> <span style=\"color: #00ffff; text-decoration-color: #00ffff\">self</span>._callback_manager.as_trace(<span style=\"color: #808000; text-decoration-color: #808000\">\"index_construction\"</span>):                        <span style=\"color: #800000; text-decoration-color: #800000\">│</span>\n",
       "<span style=\"color: #800000; text-decoration-color: #800000\">│</span>   <span style=\"color: #7f7f7f; text-decoration-color: #7f7f7f\"> 75 </span><span style=\"color: #7f7f7f; text-decoration-color: #7f7f7f\">│   │   │   </span><span style=\"color: #0000ff; text-decoration-color: #0000ff\">if</span> index_struct <span style=\"color: #ff00ff; text-decoration-color: #ff00ff\">is</span> <span style=\"color: #0000ff; text-decoration-color: #0000ff\">None</span>:                                                       <span style=\"color: #800000; text-decoration-color: #800000\">│</span>\n",
       "<span style=\"color: #800000; text-decoration-color: #800000\">│</span>   <span style=\"color: #7f7f7f; text-decoration-color: #7f7f7f\"> 76 </span><span style=\"color: #7f7f7f; text-decoration-color: #7f7f7f\">│   │   │   │   </span>nodes = nodes <span style=\"color: #ff00ff; text-decoration-color: #ff00ff\">or</span> []                                                        <span style=\"color: #800000; text-decoration-color: #800000\">│</span>\n",
       "<span style=\"color: #800000; text-decoration-color: #800000\">│</span> <span style=\"color: #800000; text-decoration-color: #800000\">❱ </span> 77 <span style=\"color: #7f7f7f; text-decoration-color: #7f7f7f\">│   │   │   │   </span>index_struct = <span style=\"color: #00ffff; text-decoration-color: #00ffff; font-weight: bold; text-decoration: underline\">self</span><span style=\"font-weight: bold; text-decoration: underline\">.build_index_from_nodes(</span>                                <span style=\"color: #800000; text-decoration-color: #800000\">│</span>\n",
       "<span style=\"color: #800000; text-decoration-color: #800000\">│</span>   <span style=\"color: #7f7f7f; text-decoration-color: #7f7f7f\"> 78 </span><span style=\"color: #7f7f7f; text-decoration-color: #7f7f7f; font-weight: bold; text-decoration: underline\">│   │   │   │   │   </span><span style=\"font-weight: bold; text-decoration: underline\">nodes + objects,  </span><span style=\"color: #7f7f7f; text-decoration-color: #7f7f7f; font-weight: bold; text-decoration: underline\"># type: ignore</span>                                       <span style=\"color: #800000; text-decoration-color: #800000\">│</span>\n",
       "<span style=\"color: #800000; text-decoration-color: #800000\">│</span>   <span style=\"color: #7f7f7f; text-decoration-color: #7f7f7f\"> 79 </span><span style=\"color: #7f7f7f; text-decoration-color: #7f7f7f; font-weight: bold; text-decoration: underline\">│   │   │   │   │   </span><span style=\"font-weight: bold; text-decoration: underline\">**kwargs,  </span><span style=\"color: #7f7f7f; text-decoration-color: #7f7f7f; font-weight: bold; text-decoration: underline\"># type: ignore</span>                                              <span style=\"color: #800000; text-decoration-color: #800000\">│</span>\n",
       "<span style=\"color: #800000; text-decoration-color: #800000\">│</span>   <span style=\"color: #7f7f7f; text-decoration-color: #7f7f7f\"> 80 </span><span style=\"color: #7f7f7f; text-decoration-color: #7f7f7f; font-weight: bold; text-decoration: underline\">│   │   │   │   </span><span style=\"font-weight: bold; text-decoration: underline\">)</span>                                                                          <span style=\"color: #800000; text-decoration-color: #800000\">│</span>\n",
       "<span style=\"color: #800000; text-decoration-color: #800000\">│</span>                                                                                                  <span style=\"color: #800000; text-decoration-color: #800000\">│</span>\n",
       "<span style=\"color: #800000; text-decoration-color: #800000\">│</span> <span style=\"color: #bfbf7f; text-decoration-color: #bfbf7f\">/Users/michaelfrantz/CTME-llm-lecture-resources/.venv/lib/python3.11/site-packages/llama_index/c</span> <span style=\"color: #800000; text-decoration-color: #800000\">│</span>\n",
       "<span style=\"color: #800000; text-decoration-color: #800000\">│</span> <span style=\"color: #bfbf7f; text-decoration-color: #bfbf7f\">ore/indices/vector_store/</span><span style=\"color: #808000; text-decoration-color: #808000; font-weight: bold\">base.py</span>:<span style=\"color: #0000ff; text-decoration-color: #0000ff\">310</span> in <span style=\"color: #00ff00; text-decoration-color: #00ff00\">build_index_from_nodes</span>                                   <span style=\"color: #800000; text-decoration-color: #800000\">│</span>\n",
       "<span style=\"color: #800000; text-decoration-color: #800000\">│</span>                                                                                                  <span style=\"color: #800000; text-decoration-color: #800000\">│</span>\n",
       "<span style=\"color: #800000; text-decoration-color: #800000\">│</span>   <span style=\"color: #7f7f7f; text-decoration-color: #7f7f7f\">307 </span><span style=\"color: #7f7f7f; text-decoration-color: #7f7f7f\">│   │   </span><span style=\"color: #0000ff; text-decoration-color: #0000ff\">if</span> <span style=\"color: #00ffff; text-decoration-color: #00ffff\">len</span>(content_nodes) != <span style=\"color: #00ffff; text-decoration-color: #00ffff\">len</span>(nodes):                                               <span style=\"color: #800000; text-decoration-color: #800000\">│</span>\n",
       "<span style=\"color: #800000; text-decoration-color: #800000\">│</span>   <span style=\"color: #7f7f7f; text-decoration-color: #7f7f7f\">308 </span><span style=\"color: #7f7f7f; text-decoration-color: #7f7f7f\">│   │   │   </span><span style=\"color: #00ffff; text-decoration-color: #00ffff\">print</span>(<span style=\"color: #808000; text-decoration-color: #808000\">\"Some nodes are missing content, skipping them...\"</span>)                      <span style=\"color: #800000; text-decoration-color: #800000\">│</span>\n",
       "<span style=\"color: #800000; text-decoration-color: #800000\">│</span>   <span style=\"color: #7f7f7f; text-decoration-color: #7f7f7f\">309 </span><span style=\"color: #7f7f7f; text-decoration-color: #7f7f7f\">│   │   </span>                                                                                   <span style=\"color: #800000; text-decoration-color: #800000\">│</span>\n",
       "<span style=\"color: #800000; text-decoration-color: #800000\">│</span> <span style=\"color: #800000; text-decoration-color: #800000\">❱ </span>310 <span style=\"color: #7f7f7f; text-decoration-color: #7f7f7f\">│   │   </span><span style=\"color: #0000ff; text-decoration-color: #0000ff\">return</span> <span style=\"color: #00ffff; text-decoration-color: #00ffff; font-weight: bold; text-decoration: underline\">self</span><span style=\"font-weight: bold; text-decoration: underline\">._build_index_from_nodes(content_nodes, **insert_kwargs)</span>                <span style=\"color: #800000; text-decoration-color: #800000\">│</span>\n",
       "<span style=\"color: #800000; text-decoration-color: #800000\">│</span>   <span style=\"color: #7f7f7f; text-decoration-color: #7f7f7f\">311 </span><span style=\"color: #7f7f7f; text-decoration-color: #7f7f7f\">│   </span>                                                                                       <span style=\"color: #800000; text-decoration-color: #800000\">│</span>\n",
       "<span style=\"color: #800000; text-decoration-color: #800000\">│</span>   <span style=\"color: #7f7f7f; text-decoration-color: #7f7f7f\">312 </span><span style=\"color: #7f7f7f; text-decoration-color: #7f7f7f\">│   </span><span style=\"color: #0000ff; text-decoration-color: #0000ff\">def</span> <span style=\"color: #00ff00; text-decoration-color: #00ff00\">_insert</span>(<span style=\"color: #00ffff; text-decoration-color: #00ffff\">self</span>, nodes: Sequence[BaseNode], **insert_kwargs: Any) -&gt; <span style=\"color: #0000ff; text-decoration-color: #0000ff\">None</span>:            <span style=\"color: #800000; text-decoration-color: #800000\">│</span>\n",
       "<span style=\"color: #800000; text-decoration-color: #800000\">│</span>   <span style=\"color: #7f7f7f; text-decoration-color: #7f7f7f\">313 </span><span style=\"color: #bfbfbf; text-decoration-color: #bfbfbf\">│   │   </span><span style=\"color: #808000; text-decoration-color: #808000\">\"\"\"Insert a document.\"\"\"</span>                                                           <span style=\"color: #800000; text-decoration-color: #800000\">│</span>\n",
       "<span style=\"color: #800000; text-decoration-color: #800000\">│</span>                                                                                                  <span style=\"color: #800000; text-decoration-color: #800000\">│</span>\n",
       "<span style=\"color: #800000; text-decoration-color: #800000\">│</span> <span style=\"color: #bfbf7f; text-decoration-color: #bfbf7f\">/Users/michaelfrantz/CTME-llm-lecture-resources/.venv/lib/python3.11/site-packages/llama_index/c</span> <span style=\"color: #800000; text-decoration-color: #800000\">│</span>\n",
       "<span style=\"color: #800000; text-decoration-color: #800000\">│</span> <span style=\"color: #bfbf7f; text-decoration-color: #bfbf7f\">ore/indices/vector_store/</span><span style=\"color: #808000; text-decoration-color: #808000; font-weight: bold\">base.py</span>:<span style=\"color: #0000ff; text-decoration-color: #0000ff\">279</span> in <span style=\"color: #00ff00; text-decoration-color: #00ff00\">_build_index_from_nodes</span>                                  <span style=\"color: #800000; text-decoration-color: #800000\">│</span>\n",
       "<span style=\"color: #800000; text-decoration-color: #800000\">│</span>                                                                                                  <span style=\"color: #800000; text-decoration-color: #800000\">│</span>\n",
       "<span style=\"color: #800000; text-decoration-color: #800000\">│</span>   <span style=\"color: #7f7f7f; text-decoration-color: #7f7f7f\">276 </span><span style=\"color: #7f7f7f; text-decoration-color: #7f7f7f\">│   │   │   </span>]                                                                              <span style=\"color: #800000; text-decoration-color: #800000\">│</span>\n",
       "<span style=\"color: #800000; text-decoration-color: #800000\">│</span>   <span style=\"color: #7f7f7f; text-decoration-color: #7f7f7f\">277 </span><span style=\"color: #7f7f7f; text-decoration-color: #7f7f7f\">│   │   │   </span>run_async_tasks(tasks)                                                         <span style=\"color: #800000; text-decoration-color: #800000\">│</span>\n",
       "<span style=\"color: #800000; text-decoration-color: #800000\">│</span>   <span style=\"color: #7f7f7f; text-decoration-color: #7f7f7f\">278 </span><span style=\"color: #7f7f7f; text-decoration-color: #7f7f7f\">│   │   </span><span style=\"color: #0000ff; text-decoration-color: #0000ff\">else</span>:                                                                              <span style=\"color: #800000; text-decoration-color: #800000\">│</span>\n",
       "<span style=\"color: #800000; text-decoration-color: #800000\">│</span> <span style=\"color: #800000; text-decoration-color: #800000\">❱ </span>279 <span style=\"color: #7f7f7f; text-decoration-color: #7f7f7f\">│   │   │   </span><span style=\"color: #00ffff; text-decoration-color: #00ffff\">self</span>._add_nodes_to_index(                                                      <span style=\"color: #800000; text-decoration-color: #800000\">│</span>\n",
       "<span style=\"color: #800000; text-decoration-color: #800000\">│</span>   <span style=\"color: #7f7f7f; text-decoration-color: #7f7f7f\">280 </span><span style=\"color: #7f7f7f; text-decoration-color: #7f7f7f\">│   │   │   │   </span>index_struct,                                                              <span style=\"color: #800000; text-decoration-color: #800000\">│</span>\n",
       "<span style=\"color: #800000; text-decoration-color: #800000\">│</span>   <span style=\"color: #7f7f7f; text-decoration-color: #7f7f7f\">281 </span><span style=\"color: #7f7f7f; text-decoration-color: #7f7f7f\">│   │   │   │   </span>nodes,                                                                     <span style=\"color: #800000; text-decoration-color: #800000\">│</span>\n",
       "<span style=\"color: #800000; text-decoration-color: #800000\">│</span>   <span style=\"color: #7f7f7f; text-decoration-color: #7f7f7f\">282 </span><span style=\"color: #7f7f7f; text-decoration-color: #7f7f7f\">│   │   │   │   </span>show_progress=<span style=\"color: #00ffff; text-decoration-color: #00ffff\">self</span>._show_progress,                                         <span style=\"color: #800000; text-decoration-color: #800000\">│</span>\n",
       "<span style=\"color: #800000; text-decoration-color: #800000\">│</span>                                                                                                  <span style=\"color: #800000; text-decoration-color: #800000\">│</span>\n",
       "<span style=\"color: #800000; text-decoration-color: #800000\">│</span> <span style=\"color: #bfbf7f; text-decoration-color: #bfbf7f\">/Users/michaelfrantz/CTME-llm-lecture-resources/.venv/lib/python3.11/site-packages/llama_index/c</span> <span style=\"color: #800000; text-decoration-color: #800000\">│</span>\n",
       "<span style=\"color: #800000; text-decoration-color: #800000\">│</span> <span style=\"color: #bfbf7f; text-decoration-color: #bfbf7f\">ore/indices/vector_store/</span><span style=\"color: #808000; text-decoration-color: #808000; font-weight: bold\">base.py</span>:<span style=\"color: #0000ff; text-decoration-color: #0000ff\">233</span> in <span style=\"color: #00ff00; text-decoration-color: #00ff00\">_add_nodes_to_index</span>                                      <span style=\"color: #800000; text-decoration-color: #800000\">│</span>\n",
       "<span style=\"color: #800000; text-decoration-color: #800000\">│</span>                                                                                                  <span style=\"color: #800000; text-decoration-color: #800000\">│</span>\n",
       "<span style=\"color: #800000; text-decoration-color: #800000\">│</span>   <span style=\"color: #7f7f7f; text-decoration-color: #7f7f7f\">230 </span><span style=\"color: #7f7f7f; text-decoration-color: #7f7f7f\">│   │   </span>                                                                                   <span style=\"color: #800000; text-decoration-color: #800000\">│</span>\n",
       "<span style=\"color: #800000; text-decoration-color: #800000\">│</span>   <span style=\"color: #7f7f7f; text-decoration-color: #7f7f7f\">231 </span><span style=\"color: #7f7f7f; text-decoration-color: #7f7f7f\">│   │   </span><span style=\"color: #0000ff; text-decoration-color: #0000ff\">for</span> nodes_batch <span style=\"color: #ff00ff; text-decoration-color: #ff00ff\">in</span> iter_batch(nodes, <span style=\"color: #00ffff; text-decoration-color: #00ffff\">self</span>._insert_batch_size):                     <span style=\"color: #800000; text-decoration-color: #800000\">│</span>\n",
       "<span style=\"color: #800000; text-decoration-color: #800000\">│</span>   <span style=\"color: #7f7f7f; text-decoration-color: #7f7f7f\">232 </span><span style=\"color: #7f7f7f; text-decoration-color: #7f7f7f\">│   │   │   </span>nodes_batch = <span style=\"color: #00ffff; text-decoration-color: #00ffff\">self</span>._get_node_with_embedding(nodes_batch, show_progress)        <span style=\"color: #800000; text-decoration-color: #800000\">│</span>\n",
       "<span style=\"color: #800000; text-decoration-color: #800000\">│</span> <span style=\"color: #800000; text-decoration-color: #800000\">❱ </span>233 <span style=\"color: #7f7f7f; text-decoration-color: #7f7f7f\">│   │   │   </span>new_ids = <span style=\"color: #00ffff; text-decoration-color: #00ffff; font-weight: bold; text-decoration: underline\">self</span><span style=\"font-weight: bold; text-decoration: underline\">._vector_store.add(nodes_batch, **insert_kwargs)</span>                 <span style=\"color: #800000; text-decoration-color: #800000\">│</span>\n",
       "<span style=\"color: #800000; text-decoration-color: #800000\">│</span>   <span style=\"color: #7f7f7f; text-decoration-color: #7f7f7f\">234 </span><span style=\"color: #7f7f7f; text-decoration-color: #7f7f7f\">│   │   │   </span>                                                                               <span style=\"color: #800000; text-decoration-color: #800000\">│</span>\n",
       "<span style=\"color: #800000; text-decoration-color: #800000\">│</span>   <span style=\"color: #7f7f7f; text-decoration-color: #7f7f7f\">235 </span><span style=\"color: #7f7f7f; text-decoration-color: #7f7f7f\">│   │   │   </span><span style=\"color: #0000ff; text-decoration-color: #0000ff\">if</span> <span style=\"color: #ff00ff; text-decoration-color: #ff00ff\">not</span> <span style=\"color: #00ffff; text-decoration-color: #00ffff\">self</span>._vector_store.stores_text <span style=\"color: #ff00ff; text-decoration-color: #ff00ff\">or</span> <span style=\"color: #00ffff; text-decoration-color: #00ffff\">self</span>._store_nodes_override:           <span style=\"color: #800000; text-decoration-color: #800000\">│</span>\n",
       "<span style=\"color: #800000; text-decoration-color: #800000\">│</span>   <span style=\"color: #7f7f7f; text-decoration-color: #7f7f7f\">236 </span><span style=\"color: #7f7f7f; text-decoration-color: #7f7f7f\">│   │   │   │   </span><span style=\"color: #7f7f7f; text-decoration-color: #7f7f7f\"># NOTE: if the vector store doesn't store text,</span>                            <span style=\"color: #800000; text-decoration-color: #800000\">│</span>\n",
       "<span style=\"color: #800000; text-decoration-color: #800000\">│</span>                                                                                                  <span style=\"color: #800000; text-decoration-color: #800000\">│</span>\n",
       "<span style=\"color: #800000; text-decoration-color: #800000\">│</span> <span style=\"color: #bfbf7f; text-decoration-color: #bfbf7f\">/Users/michaelfrantz/CTME-llm-lecture-resources/.venv/lib/python3.11/site-packages/llama_index/v</span> <span style=\"color: #800000; text-decoration-color: #800000\">│</span>\n",
       "<span style=\"color: #800000; text-decoration-color: #800000\">│</span> <span style=\"color: #bfbf7f; text-decoration-color: #bfbf7f\">ector_stores/chroma/</span><span style=\"color: #808000; text-decoration-color: #808000; font-weight: bold\">base.py</span>:<span style=\"color: #0000ff; text-decoration-color: #0000ff\">285</span> in <span style=\"color: #00ff00; text-decoration-color: #00ff00\">add</span>                                                           <span style=\"color: #800000; text-decoration-color: #800000\">│</span>\n",
       "<span style=\"color: #800000; text-decoration-color: #800000\">│</span>                                                                                                  <span style=\"color: #800000; text-decoration-color: #800000\">│</span>\n",
       "<span style=\"color: #800000; text-decoration-color: #800000\">│</span>   <span style=\"color: #7f7f7f; text-decoration-color: #7f7f7f\">282 </span><span style=\"color: #7f7f7f; text-decoration-color: #7f7f7f\">│   │   │   </span>documents = []                                                                 <span style=\"color: #800000; text-decoration-color: #800000\">│</span>\n",
       "<span style=\"color: #800000; text-decoration-color: #800000\">│</span>   <span style=\"color: #7f7f7f; text-decoration-color: #7f7f7f\">283 </span><span style=\"color: #7f7f7f; text-decoration-color: #7f7f7f\">│   │   │   </span><span style=\"color: #0000ff; text-decoration-color: #0000ff\">for</span> node <span style=\"color: #ff00ff; text-decoration-color: #ff00ff\">in</span> node_chunk:                                                        <span style=\"color: #800000; text-decoration-color: #800000\">│</span>\n",
       "<span style=\"color: #800000; text-decoration-color: #800000\">│</span>   <span style=\"color: #7f7f7f; text-decoration-color: #7f7f7f\">284 </span><span style=\"color: #7f7f7f; text-decoration-color: #7f7f7f\">│   │   │   │   </span>embeddings.append(node.get_embedding())                                    <span style=\"color: #800000; text-decoration-color: #800000\">│</span>\n",
       "<span style=\"color: #800000; text-decoration-color: #800000\">│</span> <span style=\"color: #800000; text-decoration-color: #800000\">❱ </span>285 <span style=\"color: #7f7f7f; text-decoration-color: #7f7f7f\">│   │   │   │   </span>metadata_dict = <span style=\"font-weight: bold; text-decoration: underline\">node_to_metadata_dict(</span>                                     <span style=\"color: #800000; text-decoration-color: #800000\">│</span>\n",
       "<span style=\"color: #800000; text-decoration-color: #800000\">│</span>   <span style=\"color: #7f7f7f; text-decoration-color: #7f7f7f\">286 </span><span style=\"color: #7f7f7f; text-decoration-color: #7f7f7f; font-weight: bold; text-decoration: underline\">│   │   │   │   │   </span><span style=\"font-weight: bold; text-decoration: underline\">node, remove_text=</span><span style=\"color: #0000ff; text-decoration-color: #0000ff; font-weight: bold; text-decoration: underline\">True</span><span style=\"font-weight: bold; text-decoration: underline\">, flat_metadata=</span><span style=\"color: #00ffff; text-decoration-color: #00ffff; font-weight: bold; text-decoration: underline\">self</span><span style=\"font-weight: bold; text-decoration: underline\">.flat_metadata</span>               <span style=\"color: #800000; text-decoration-color: #800000\">│</span>\n",
       "<span style=\"color: #800000; text-decoration-color: #800000\">│</span>   <span style=\"color: #7f7f7f; text-decoration-color: #7f7f7f\">287 </span><span style=\"color: #7f7f7f; text-decoration-color: #7f7f7f; font-weight: bold; text-decoration: underline\">│   │   │   │   </span><span style=\"font-weight: bold; text-decoration: underline\">)</span>                                                                          <span style=\"color: #800000; text-decoration-color: #800000\">│</span>\n",
       "<span style=\"color: #800000; text-decoration-color: #800000\">│</span>   <span style=\"color: #7f7f7f; text-decoration-color: #7f7f7f\">288 </span><span style=\"color: #7f7f7f; text-decoration-color: #7f7f7f\">│   │   │   │   </span><span style=\"color: #0000ff; text-decoration-color: #0000ff\">for</span> key <span style=\"color: #ff00ff; text-decoration-color: #ff00ff\">in</span> metadata_dict:                                                  <span style=\"color: #800000; text-decoration-color: #800000\">│</span>\n",
       "<span style=\"color: #800000; text-decoration-color: #800000\">│</span>                                                                                                  <span style=\"color: #800000; text-decoration-color: #800000\">│</span>\n",
       "<span style=\"color: #800000; text-decoration-color: #800000\">│</span> <span style=\"color: #bfbf7f; text-decoration-color: #bfbf7f\">/Users/michaelfrantz/CTME-llm-lecture-resources/.venv/lib/python3.11/site-packages/llama_index/c</span> <span style=\"color: #800000; text-decoration-color: #800000\">│</span>\n",
       "<span style=\"color: #800000; text-decoration-color: #800000\">│</span> <span style=\"color: #bfbf7f; text-decoration-color: #bfbf7f\">ore/vector_stores/</span><span style=\"color: #808000; text-decoration-color: #808000; font-weight: bold\">utils.py</span>:<span style=\"color: #0000ff; text-decoration-color: #0000ff\">43</span> in <span style=\"color: #00ff00; text-decoration-color: #00ff00\">node_to_metadata_dict</span>                                           <span style=\"color: #800000; text-decoration-color: #800000\">│</span>\n",
       "<span style=\"color: #800000; text-decoration-color: #800000\">│</span>                                                                                                  <span style=\"color: #800000; text-decoration-color: #800000\">│</span>\n",
       "<span style=\"color: #800000; text-decoration-color: #800000\">│</span>   <span style=\"color: #7f7f7f; text-decoration-color: #7f7f7f\"> 40 </span><span style=\"color: #7f7f7f; text-decoration-color: #7f7f7f\">│   </span>metadata: Dict[<span style=\"color: #00ffff; text-decoration-color: #00ffff\">str</span>, Any] = node_dict.get(<span style=\"color: #808000; text-decoration-color: #808000\">\"metadata\"</span>, {})                               <span style=\"color: #800000; text-decoration-color: #800000\">│</span>\n",
       "<span style=\"color: #800000; text-decoration-color: #800000\">│</span>   <span style=\"color: #7f7f7f; text-decoration-color: #7f7f7f\"> 41 </span><span style=\"color: #7f7f7f; text-decoration-color: #7f7f7f\">│   </span>                                                                                       <span style=\"color: #800000; text-decoration-color: #800000\">│</span>\n",
       "<span style=\"color: #800000; text-decoration-color: #800000\">│</span>   <span style=\"color: #7f7f7f; text-decoration-color: #7f7f7f\"> 42 </span><span style=\"color: #7f7f7f; text-decoration-color: #7f7f7f\">│   </span><span style=\"color: #0000ff; text-decoration-color: #0000ff\">if</span> flat_metadata:                                                                      <span style=\"color: #800000; text-decoration-color: #800000\">│</span>\n",
       "<span style=\"color: #800000; text-decoration-color: #800000\">│</span> <span style=\"color: #800000; text-decoration-color: #800000\">❱ </span> 43 <span style=\"color: #7f7f7f; text-decoration-color: #7f7f7f\">│   │   </span><span style=\"font-weight: bold; text-decoration: underline\">_validate_is_flat_dict(metadata)</span>                                                   <span style=\"color: #800000; text-decoration-color: #800000\">│</span>\n",
       "<span style=\"color: #800000; text-decoration-color: #800000\">│</span>   <span style=\"color: #7f7f7f; text-decoration-color: #7f7f7f\"> 44 </span><span style=\"color: #7f7f7f; text-decoration-color: #7f7f7f\">│   </span>                                                                                       <span style=\"color: #800000; text-decoration-color: #800000\">│</span>\n",
       "<span style=\"color: #800000; text-decoration-color: #800000\">│</span>   <span style=\"color: #7f7f7f; text-decoration-color: #7f7f7f\"> 45 </span><span style=\"color: #7f7f7f; text-decoration-color: #7f7f7f\">│   </span><span style=\"color: #7f7f7f; text-decoration-color: #7f7f7f\"># store entire node as json string - some minor text duplication</span>                       <span style=\"color: #800000; text-decoration-color: #800000\">│</span>\n",
       "<span style=\"color: #800000; text-decoration-color: #800000\">│</span>   <span style=\"color: #7f7f7f; text-decoration-color: #7f7f7f\"> 46 </span><span style=\"color: #7f7f7f; text-decoration-color: #7f7f7f\">│   </span><span style=\"color: #0000ff; text-decoration-color: #0000ff\">if</span> remove_text:                                                                        <span style=\"color: #800000; text-decoration-color: #800000\">│</span>\n",
       "<span style=\"color: #800000; text-decoration-color: #800000\">│</span>                                                                                                  <span style=\"color: #800000; text-decoration-color: #800000\">│</span>\n",
       "<span style=\"color: #800000; text-decoration-color: #800000\">│</span> <span style=\"color: #bfbf7f; text-decoration-color: #bfbf7f\">/Users/michaelfrantz/CTME-llm-lecture-resources/.venv/lib/python3.11/site-packages/llama_index/c</span> <span style=\"color: #800000; text-decoration-color: #800000\">│</span>\n",
       "<span style=\"color: #800000; text-decoration-color: #800000\">│</span> <span style=\"color: #bfbf7f; text-decoration-color: #bfbf7f\">ore/vector_stores/</span><span style=\"color: #808000; text-decoration-color: #808000; font-weight: bold\">utils.py</span>:<span style=\"color: #0000ff; text-decoration-color: #0000ff\">27</span> in <span style=\"color: #00ff00; text-decoration-color: #00ff00\">_validate_is_flat_dict</span>                                          <span style=\"color: #800000; text-decoration-color: #800000\">│</span>\n",
       "<span style=\"color: #800000; text-decoration-color: #800000\">│</span>                                                                                                  <span style=\"color: #800000; text-decoration-color: #800000\">│</span>\n",
       "<span style=\"color: #800000; text-decoration-color: #800000\">│</span>   <span style=\"color: #7f7f7f; text-decoration-color: #7f7f7f\"> 24 </span><span style=\"color: #7f7f7f; text-decoration-color: #7f7f7f\">│   │   </span><span style=\"color: #0000ff; text-decoration-color: #0000ff\">if</span> <span style=\"color: #ff00ff; text-decoration-color: #ff00ff\">not</span> <span style=\"color: #00ffff; text-decoration-color: #00ffff\">isinstance</span>(key, <span style=\"color: #00ffff; text-decoration-color: #00ffff\">str</span>):                                                       <span style=\"color: #800000; text-decoration-color: #800000\">│</span>\n",
       "<span style=\"color: #800000; text-decoration-color: #800000\">│</span>   <span style=\"color: #7f7f7f; text-decoration-color: #7f7f7f\"> 25 </span><span style=\"color: #7f7f7f; text-decoration-color: #7f7f7f\">│   │   │   </span><span style=\"color: #0000ff; text-decoration-color: #0000ff\">raise</span> <span style=\"color: #00ffff; text-decoration-color: #00ffff\">ValueError</span>(<span style=\"color: #808000; text-decoration-color: #808000\">\"Metadata key must be str!\"</span>)                                  <span style=\"color: #800000; text-decoration-color: #800000\">│</span>\n",
       "<span style=\"color: #800000; text-decoration-color: #800000\">│</span>   <span style=\"color: #7f7f7f; text-decoration-color: #7f7f7f\"> 26 </span><span style=\"color: #7f7f7f; text-decoration-color: #7f7f7f\">│   │   </span><span style=\"color: #0000ff; text-decoration-color: #0000ff\">if</span> <span style=\"color: #ff00ff; text-decoration-color: #ff00ff\">not</span> <span style=\"color: #00ffff; text-decoration-color: #00ffff\">isinstance</span>(val, (<span style=\"color: #00ffff; text-decoration-color: #00ffff\">str</span>, <span style=\"color: #00ffff; text-decoration-color: #00ffff\">int</span>, <span style=\"color: #00ffff; text-decoration-color: #00ffff\">float</span>, <span style=\"color: #00ffff; text-decoration-color: #00ffff\">type</span>(<span style=\"color: #0000ff; text-decoration-color: #0000ff\">None</span>))):                             <span style=\"color: #800000; text-decoration-color: #800000\">│</span>\n",
       "<span style=\"color: #800000; text-decoration-color: #800000\">│</span> <span style=\"color: #800000; text-decoration-color: #800000\">❱ </span> 27 <span style=\"color: #7f7f7f; text-decoration-color: #7f7f7f\">│   │   │   </span><span style=\"color: #0000ff; text-decoration-color: #0000ff; font-weight: bold; text-decoration: underline\">raise</span><span style=\"font-weight: bold; text-decoration: underline\"> </span><span style=\"color: #00ffff; text-decoration-color: #00ffff; font-weight: bold; text-decoration: underline\">ValueError</span><span style=\"font-weight: bold; text-decoration: underline\">(</span>                                                              <span style=\"color: #800000; text-decoration-color: #800000\">│</span>\n",
       "<span style=\"color: #800000; text-decoration-color: #800000\">│</span>   <span style=\"color: #7f7f7f; text-decoration-color: #7f7f7f\"> 28 </span><span style=\"color: #7f7f7f; text-decoration-color: #7f7f7f; font-weight: bold; text-decoration: underline\">│   │   │   │   </span><span style=\"color: #808000; text-decoration-color: #808000; font-weight: bold; text-decoration: underline\">f\"Value for metadata {</span><span style=\"font-weight: bold; text-decoration: underline\">key</span><span style=\"color: #808000; text-decoration-color: #808000; font-weight: bold; text-decoration: underline\">} must be one of (str, int, float, None)\"</span>         <span style=\"color: #800000; text-decoration-color: #800000\">│</span>\n",
       "<span style=\"color: #800000; text-decoration-color: #800000\">│</span>   <span style=\"color: #7f7f7f; text-decoration-color: #7f7f7f\"> 29 </span><span style=\"color: #7f7f7f; text-decoration-color: #7f7f7f; font-weight: bold; text-decoration: underline\">│   │   │   </span><span style=\"font-weight: bold; text-decoration: underline\">)</span>                                                                              <span style=\"color: #800000; text-decoration-color: #800000\">│</span>\n",
       "<span style=\"color: #800000; text-decoration-color: #800000\">│</span>   <span style=\"color: #7f7f7f; text-decoration-color: #7f7f7f\"> 30 </span>                                                                                           <span style=\"color: #800000; text-decoration-color: #800000\">│</span>\n",
       "<span style=\"color: #800000; text-decoration-color: #800000\">╰──────────────────────────────────────────────────────────────────────────────────────────────────╯</span>\n",
       "<span style=\"color: #ff0000; text-decoration-color: #ff0000; font-weight: bold\">ValueError: </span>Value for metadata doc_items must be one of <span style=\"font-weight: bold\">(</span>str, int, float, <span style=\"color: #800080; text-decoration-color: #800080; font-style: italic\">None</span><span style=\"font-weight: bold\">)</span>\n",
       "</pre>\n"
      ],
      "text/plain": [
       "\u001b[31m╭─\u001b[0m\u001b[31m──────────────────────────────\u001b[0m\u001b[31m \u001b[0m\u001b[1;31mTraceback \u001b[0m\u001b[1;2;31m(most recent call last)\u001b[0m\u001b[31m \u001b[0m\u001b[31m───────────────────────────────\u001b[0m\u001b[31m─╮\u001b[0m\n",
       "\u001b[31m│\u001b[0m in \u001b[92m<module>\u001b[0m:\u001b[94m4\u001b[0m                                                                                    \u001b[31m│\u001b[0m\n",
       "\u001b[31m│\u001b[0m                                                                                                  \u001b[31m│\u001b[0m\n",
       "\u001b[31m│\u001b[0m   \u001b[2m1 \u001b[0mllama_collection = chromadb.EphemeralClient().create_collection(\u001b[33m\"\u001b[0m\u001b[33mllama\u001b[0m\u001b[33m\"\u001b[0m, get_or_create=\u001b[94mT\u001b[0m     \u001b[31m│\u001b[0m\n",
       "\u001b[31m│\u001b[0m   \u001b[2m2 \u001b[0mllama_vector_store = ChromaVectorStore(llama_collection)                                     \u001b[31m│\u001b[0m\n",
       "\u001b[31m│\u001b[0m   \u001b[2m3 \u001b[0m                                                                                             \u001b[31m│\u001b[0m\n",
       "\u001b[31m│\u001b[0m \u001b[31m❱ \u001b[0m4 index = \u001b[1;4mVectorStoreIndex(nodes=docling_nodes, embed_model=embed_model, storage_context=S\u001b[0m     \u001b[31m│\u001b[0m\n",
       "\u001b[31m│\u001b[0m   \u001b[2m5 \u001b[0m                                                                                             \u001b[31m│\u001b[0m\n",
       "\u001b[31m│\u001b[0m                                                                                                  \u001b[31m│\u001b[0m\n",
       "\u001b[31m│\u001b[0m \u001b[2;33m/Users/michaelfrantz/CTME-llm-lecture-resources/.venv/lib/python3.11/site-packages/llama_index/c\u001b[0m \u001b[31m│\u001b[0m\n",
       "\u001b[31m│\u001b[0m \u001b[2;33more/indices/vector_store/\u001b[0m\u001b[1;33mbase.py\u001b[0m:\u001b[94m76\u001b[0m in \u001b[92m__init__\u001b[0m                                                  \u001b[31m│\u001b[0m\n",
       "\u001b[31m│\u001b[0m                                                                                                  \u001b[31m│\u001b[0m\n",
       "\u001b[31m│\u001b[0m   \u001b[2m 73 \u001b[0m\u001b[2m│   │   \u001b[0m)                                                                                  \u001b[31m│\u001b[0m\n",
       "\u001b[31m│\u001b[0m   \u001b[2m 74 \u001b[0m\u001b[2m│   │   \u001b[0m                                                                                   \u001b[31m│\u001b[0m\n",
       "\u001b[31m│\u001b[0m   \u001b[2m 75 \u001b[0m\u001b[2m│   │   \u001b[0m\u001b[96mself\u001b[0m._insert_batch_size = insert_batch_size                                        \u001b[31m│\u001b[0m\n",
       "\u001b[31m│\u001b[0m \u001b[31m❱ \u001b[0m 76 \u001b[2m│   │   \u001b[0m\u001b[96msuper\u001b[0m().\u001b[92m__init__\u001b[0m(                                                                  \u001b[31m│\u001b[0m\n",
       "\u001b[31m│\u001b[0m   \u001b[2m 77 \u001b[0m\u001b[2m│   │   │   \u001b[0mnodes=nodes,                                                                   \u001b[31m│\u001b[0m\n",
       "\u001b[31m│\u001b[0m   \u001b[2m 78 \u001b[0m\u001b[2m│   │   │   \u001b[0mindex_struct=index_struct,                                                     \u001b[31m│\u001b[0m\n",
       "\u001b[31m│\u001b[0m   \u001b[2m 79 \u001b[0m\u001b[2m│   │   │   \u001b[0mstorage_context=storage_context,                                               \u001b[31m│\u001b[0m\n",
       "\u001b[31m│\u001b[0m                                                                                                  \u001b[31m│\u001b[0m\n",
       "\u001b[31m│\u001b[0m \u001b[2;33m/Users/michaelfrantz/CTME-llm-lecture-resources/.venv/lib/python3.11/site-packages/llama_index/c\u001b[0m \u001b[31m│\u001b[0m\n",
       "\u001b[31m│\u001b[0m \u001b[2;33more/indices/\u001b[0m\u001b[1;33mbase.py\u001b[0m:\u001b[94m77\u001b[0m in \u001b[92m__init__\u001b[0m                                                               \u001b[31m│\u001b[0m\n",
       "\u001b[31m│\u001b[0m                                                                                                  \u001b[31m│\u001b[0m\n",
       "\u001b[31m│\u001b[0m   \u001b[2m 74 \u001b[0m\u001b[2m│   │   \u001b[0m\u001b[94mwith\u001b[0m \u001b[96mself\u001b[0m._callback_manager.as_trace(\u001b[33m\"\u001b[0m\u001b[33mindex_construction\u001b[0m\u001b[33m\"\u001b[0m):                        \u001b[31m│\u001b[0m\n",
       "\u001b[31m│\u001b[0m   \u001b[2m 75 \u001b[0m\u001b[2m│   │   │   \u001b[0m\u001b[94mif\u001b[0m index_struct \u001b[95mis\u001b[0m \u001b[94mNone\u001b[0m:                                                       \u001b[31m│\u001b[0m\n",
       "\u001b[31m│\u001b[0m   \u001b[2m 76 \u001b[0m\u001b[2m│   │   │   │   \u001b[0mnodes = nodes \u001b[95mor\u001b[0m []                                                        \u001b[31m│\u001b[0m\n",
       "\u001b[31m│\u001b[0m \u001b[31m❱ \u001b[0m 77 \u001b[2m│   │   │   │   \u001b[0mindex_struct = \u001b[1;4;96mself\u001b[0m\u001b[1;4m.build_index_from_nodes(\u001b[0m                                \u001b[31m│\u001b[0m\n",
       "\u001b[31m│\u001b[0m   \u001b[2m 78 \u001b[0m\u001b[1;2;4m│   │   │   │   │   \u001b[0m\u001b[1;4mnodes + objects,  \u001b[0m\u001b[1;2;4m# type: ignore\u001b[0m                                       \u001b[31m│\u001b[0m\n",
       "\u001b[31m│\u001b[0m   \u001b[2m 79 \u001b[0m\u001b[1;2;4m│   │   │   │   │   \u001b[0m\u001b[1;4m**kwargs,  \u001b[0m\u001b[1;2;4m# type: ignore\u001b[0m                                              \u001b[31m│\u001b[0m\n",
       "\u001b[31m│\u001b[0m   \u001b[2m 80 \u001b[0m\u001b[1;2;4m│   │   │   │   \u001b[0m\u001b[1;4m)\u001b[0m                                                                          \u001b[31m│\u001b[0m\n",
       "\u001b[31m│\u001b[0m                                                                                                  \u001b[31m│\u001b[0m\n",
       "\u001b[31m│\u001b[0m \u001b[2;33m/Users/michaelfrantz/CTME-llm-lecture-resources/.venv/lib/python3.11/site-packages/llama_index/c\u001b[0m \u001b[31m│\u001b[0m\n",
       "\u001b[31m│\u001b[0m \u001b[2;33more/indices/vector_store/\u001b[0m\u001b[1;33mbase.py\u001b[0m:\u001b[94m310\u001b[0m in \u001b[92mbuild_index_from_nodes\u001b[0m                                   \u001b[31m│\u001b[0m\n",
       "\u001b[31m│\u001b[0m                                                                                                  \u001b[31m│\u001b[0m\n",
       "\u001b[31m│\u001b[0m   \u001b[2m307 \u001b[0m\u001b[2m│   │   \u001b[0m\u001b[94mif\u001b[0m \u001b[96mlen\u001b[0m(content_nodes) != \u001b[96mlen\u001b[0m(nodes):                                               \u001b[31m│\u001b[0m\n",
       "\u001b[31m│\u001b[0m   \u001b[2m308 \u001b[0m\u001b[2m│   │   │   \u001b[0m\u001b[96mprint\u001b[0m(\u001b[33m\"\u001b[0m\u001b[33mSome nodes are missing content, skipping them...\u001b[0m\u001b[33m\"\u001b[0m)                      \u001b[31m│\u001b[0m\n",
       "\u001b[31m│\u001b[0m   \u001b[2m309 \u001b[0m\u001b[2m│   │   \u001b[0m                                                                                   \u001b[31m│\u001b[0m\n",
       "\u001b[31m│\u001b[0m \u001b[31m❱ \u001b[0m310 \u001b[2m│   │   \u001b[0m\u001b[94mreturn\u001b[0m \u001b[1;4;96mself\u001b[0m\u001b[1;4m._build_index_from_nodes(content_nodes, **insert_kwargs)\u001b[0m                \u001b[31m│\u001b[0m\n",
       "\u001b[31m│\u001b[0m   \u001b[2m311 \u001b[0m\u001b[2m│   \u001b[0m                                                                                       \u001b[31m│\u001b[0m\n",
       "\u001b[31m│\u001b[0m   \u001b[2m312 \u001b[0m\u001b[2m│   \u001b[0m\u001b[94mdef\u001b[0m \u001b[92m_insert\u001b[0m(\u001b[96mself\u001b[0m, nodes: Sequence[BaseNode], **insert_kwargs: Any) -> \u001b[94mNone\u001b[0m:            \u001b[31m│\u001b[0m\n",
       "\u001b[31m│\u001b[0m   \u001b[2m313 \u001b[0m\u001b[2;90m│   │   \u001b[0m\u001b[33m\"\"\"Insert a document.\"\"\"\u001b[0m                                                           \u001b[31m│\u001b[0m\n",
       "\u001b[31m│\u001b[0m                                                                                                  \u001b[31m│\u001b[0m\n",
       "\u001b[31m│\u001b[0m \u001b[2;33m/Users/michaelfrantz/CTME-llm-lecture-resources/.venv/lib/python3.11/site-packages/llama_index/c\u001b[0m \u001b[31m│\u001b[0m\n",
       "\u001b[31m│\u001b[0m \u001b[2;33more/indices/vector_store/\u001b[0m\u001b[1;33mbase.py\u001b[0m:\u001b[94m279\u001b[0m in \u001b[92m_build_index_from_nodes\u001b[0m                                  \u001b[31m│\u001b[0m\n",
       "\u001b[31m│\u001b[0m                                                                                                  \u001b[31m│\u001b[0m\n",
       "\u001b[31m│\u001b[0m   \u001b[2m276 \u001b[0m\u001b[2m│   │   │   \u001b[0m]                                                                              \u001b[31m│\u001b[0m\n",
       "\u001b[31m│\u001b[0m   \u001b[2m277 \u001b[0m\u001b[2m│   │   │   \u001b[0mrun_async_tasks(tasks)                                                         \u001b[31m│\u001b[0m\n",
       "\u001b[31m│\u001b[0m   \u001b[2m278 \u001b[0m\u001b[2m│   │   \u001b[0m\u001b[94melse\u001b[0m:                                                                              \u001b[31m│\u001b[0m\n",
       "\u001b[31m│\u001b[0m \u001b[31m❱ \u001b[0m279 \u001b[2m│   │   │   \u001b[0m\u001b[96mself\u001b[0m._add_nodes_to_index(                                                      \u001b[31m│\u001b[0m\n",
       "\u001b[31m│\u001b[0m   \u001b[2m280 \u001b[0m\u001b[2m│   │   │   │   \u001b[0mindex_struct,                                                              \u001b[31m│\u001b[0m\n",
       "\u001b[31m│\u001b[0m   \u001b[2m281 \u001b[0m\u001b[2m│   │   │   │   \u001b[0mnodes,                                                                     \u001b[31m│\u001b[0m\n",
       "\u001b[31m│\u001b[0m   \u001b[2m282 \u001b[0m\u001b[2m│   │   │   │   \u001b[0mshow_progress=\u001b[96mself\u001b[0m._show_progress,                                         \u001b[31m│\u001b[0m\n",
       "\u001b[31m│\u001b[0m                                                                                                  \u001b[31m│\u001b[0m\n",
       "\u001b[31m│\u001b[0m \u001b[2;33m/Users/michaelfrantz/CTME-llm-lecture-resources/.venv/lib/python3.11/site-packages/llama_index/c\u001b[0m \u001b[31m│\u001b[0m\n",
       "\u001b[31m│\u001b[0m \u001b[2;33more/indices/vector_store/\u001b[0m\u001b[1;33mbase.py\u001b[0m:\u001b[94m233\u001b[0m in \u001b[92m_add_nodes_to_index\u001b[0m                                      \u001b[31m│\u001b[0m\n",
       "\u001b[31m│\u001b[0m                                                                                                  \u001b[31m│\u001b[0m\n",
       "\u001b[31m│\u001b[0m   \u001b[2m230 \u001b[0m\u001b[2m│   │   \u001b[0m                                                                                   \u001b[31m│\u001b[0m\n",
       "\u001b[31m│\u001b[0m   \u001b[2m231 \u001b[0m\u001b[2m│   │   \u001b[0m\u001b[94mfor\u001b[0m nodes_batch \u001b[95min\u001b[0m iter_batch(nodes, \u001b[96mself\u001b[0m._insert_batch_size):                     \u001b[31m│\u001b[0m\n",
       "\u001b[31m│\u001b[0m   \u001b[2m232 \u001b[0m\u001b[2m│   │   │   \u001b[0mnodes_batch = \u001b[96mself\u001b[0m._get_node_with_embedding(nodes_batch, show_progress)        \u001b[31m│\u001b[0m\n",
       "\u001b[31m│\u001b[0m \u001b[31m❱ \u001b[0m233 \u001b[2m│   │   │   \u001b[0mnew_ids = \u001b[1;4;96mself\u001b[0m\u001b[1;4m._vector_store.add(nodes_batch, **insert_kwargs)\u001b[0m                 \u001b[31m│\u001b[0m\n",
       "\u001b[31m│\u001b[0m   \u001b[2m234 \u001b[0m\u001b[2m│   │   │   \u001b[0m                                                                               \u001b[31m│\u001b[0m\n",
       "\u001b[31m│\u001b[0m   \u001b[2m235 \u001b[0m\u001b[2m│   │   │   \u001b[0m\u001b[94mif\u001b[0m \u001b[95mnot\u001b[0m \u001b[96mself\u001b[0m._vector_store.stores_text \u001b[95mor\u001b[0m \u001b[96mself\u001b[0m._store_nodes_override:           \u001b[31m│\u001b[0m\n",
       "\u001b[31m│\u001b[0m   \u001b[2m236 \u001b[0m\u001b[2m│   │   │   │   \u001b[0m\u001b[2m# NOTE: if the vector store doesn't store text,\u001b[0m                            \u001b[31m│\u001b[0m\n",
       "\u001b[31m│\u001b[0m                                                                                                  \u001b[31m│\u001b[0m\n",
       "\u001b[31m│\u001b[0m \u001b[2;33m/Users/michaelfrantz/CTME-llm-lecture-resources/.venv/lib/python3.11/site-packages/llama_index/v\u001b[0m \u001b[31m│\u001b[0m\n",
       "\u001b[31m│\u001b[0m \u001b[2;33mector_stores/chroma/\u001b[0m\u001b[1;33mbase.py\u001b[0m:\u001b[94m285\u001b[0m in \u001b[92madd\u001b[0m                                                           \u001b[31m│\u001b[0m\n",
       "\u001b[31m│\u001b[0m                                                                                                  \u001b[31m│\u001b[0m\n",
       "\u001b[31m│\u001b[0m   \u001b[2m282 \u001b[0m\u001b[2m│   │   │   \u001b[0mdocuments = []                                                                 \u001b[31m│\u001b[0m\n",
       "\u001b[31m│\u001b[0m   \u001b[2m283 \u001b[0m\u001b[2m│   │   │   \u001b[0m\u001b[94mfor\u001b[0m node \u001b[95min\u001b[0m node_chunk:                                                        \u001b[31m│\u001b[0m\n",
       "\u001b[31m│\u001b[0m   \u001b[2m284 \u001b[0m\u001b[2m│   │   │   │   \u001b[0membeddings.append(node.get_embedding())                                    \u001b[31m│\u001b[0m\n",
       "\u001b[31m│\u001b[0m \u001b[31m❱ \u001b[0m285 \u001b[2m│   │   │   │   \u001b[0mmetadata_dict = \u001b[1;4mnode_to_metadata_dict(\u001b[0m                                     \u001b[31m│\u001b[0m\n",
       "\u001b[31m│\u001b[0m   \u001b[2m286 \u001b[0m\u001b[1;2;4m│   │   │   │   │   \u001b[0m\u001b[1;4mnode, remove_text=\u001b[0m\u001b[1;4;94mTrue\u001b[0m\u001b[1;4m, flat_metadata=\u001b[0m\u001b[1;4;96mself\u001b[0m\u001b[1;4m.flat_metadata\u001b[0m               \u001b[31m│\u001b[0m\n",
       "\u001b[31m│\u001b[0m   \u001b[2m287 \u001b[0m\u001b[1;2;4m│   │   │   │   \u001b[0m\u001b[1;4m)\u001b[0m                                                                          \u001b[31m│\u001b[0m\n",
       "\u001b[31m│\u001b[0m   \u001b[2m288 \u001b[0m\u001b[2m│   │   │   │   \u001b[0m\u001b[94mfor\u001b[0m key \u001b[95min\u001b[0m metadata_dict:                                                  \u001b[31m│\u001b[0m\n",
       "\u001b[31m│\u001b[0m                                                                                                  \u001b[31m│\u001b[0m\n",
       "\u001b[31m│\u001b[0m \u001b[2;33m/Users/michaelfrantz/CTME-llm-lecture-resources/.venv/lib/python3.11/site-packages/llama_index/c\u001b[0m \u001b[31m│\u001b[0m\n",
       "\u001b[31m│\u001b[0m \u001b[2;33more/vector_stores/\u001b[0m\u001b[1;33mutils.py\u001b[0m:\u001b[94m43\u001b[0m in \u001b[92mnode_to_metadata_dict\u001b[0m                                           \u001b[31m│\u001b[0m\n",
       "\u001b[31m│\u001b[0m                                                                                                  \u001b[31m│\u001b[0m\n",
       "\u001b[31m│\u001b[0m   \u001b[2m 40 \u001b[0m\u001b[2m│   \u001b[0mmetadata: Dict[\u001b[96mstr\u001b[0m, Any] = node_dict.get(\u001b[33m\"\u001b[0m\u001b[33mmetadata\u001b[0m\u001b[33m\"\u001b[0m, {})                               \u001b[31m│\u001b[0m\n",
       "\u001b[31m│\u001b[0m   \u001b[2m 41 \u001b[0m\u001b[2m│   \u001b[0m                                                                                       \u001b[31m│\u001b[0m\n",
       "\u001b[31m│\u001b[0m   \u001b[2m 42 \u001b[0m\u001b[2m│   \u001b[0m\u001b[94mif\u001b[0m flat_metadata:                                                                      \u001b[31m│\u001b[0m\n",
       "\u001b[31m│\u001b[0m \u001b[31m❱ \u001b[0m 43 \u001b[2m│   │   \u001b[0m\u001b[1;4m_validate_is_flat_dict(metadata)\u001b[0m                                                   \u001b[31m│\u001b[0m\n",
       "\u001b[31m│\u001b[0m   \u001b[2m 44 \u001b[0m\u001b[2m│   \u001b[0m                                                                                       \u001b[31m│\u001b[0m\n",
       "\u001b[31m│\u001b[0m   \u001b[2m 45 \u001b[0m\u001b[2m│   \u001b[0m\u001b[2m# store entire node as json string - some minor text duplication\u001b[0m                       \u001b[31m│\u001b[0m\n",
       "\u001b[31m│\u001b[0m   \u001b[2m 46 \u001b[0m\u001b[2m│   \u001b[0m\u001b[94mif\u001b[0m remove_text:                                                                        \u001b[31m│\u001b[0m\n",
       "\u001b[31m│\u001b[0m                                                                                                  \u001b[31m│\u001b[0m\n",
       "\u001b[31m│\u001b[0m \u001b[2;33m/Users/michaelfrantz/CTME-llm-lecture-resources/.venv/lib/python3.11/site-packages/llama_index/c\u001b[0m \u001b[31m│\u001b[0m\n",
       "\u001b[31m│\u001b[0m \u001b[2;33more/vector_stores/\u001b[0m\u001b[1;33mutils.py\u001b[0m:\u001b[94m27\u001b[0m in \u001b[92m_validate_is_flat_dict\u001b[0m                                          \u001b[31m│\u001b[0m\n",
       "\u001b[31m│\u001b[0m                                                                                                  \u001b[31m│\u001b[0m\n",
       "\u001b[31m│\u001b[0m   \u001b[2m 24 \u001b[0m\u001b[2m│   │   \u001b[0m\u001b[94mif\u001b[0m \u001b[95mnot\u001b[0m \u001b[96misinstance\u001b[0m(key, \u001b[96mstr\u001b[0m):                                                       \u001b[31m│\u001b[0m\n",
       "\u001b[31m│\u001b[0m   \u001b[2m 25 \u001b[0m\u001b[2m│   │   │   \u001b[0m\u001b[94mraise\u001b[0m \u001b[96mValueError\u001b[0m(\u001b[33m\"\u001b[0m\u001b[33mMetadata key must be str!\u001b[0m\u001b[33m\"\u001b[0m)                                  \u001b[31m│\u001b[0m\n",
       "\u001b[31m│\u001b[0m   \u001b[2m 26 \u001b[0m\u001b[2m│   │   \u001b[0m\u001b[94mif\u001b[0m \u001b[95mnot\u001b[0m \u001b[96misinstance\u001b[0m(val, (\u001b[96mstr\u001b[0m, \u001b[96mint\u001b[0m, \u001b[96mfloat\u001b[0m, \u001b[96mtype\u001b[0m(\u001b[94mNone\u001b[0m))):                             \u001b[31m│\u001b[0m\n",
       "\u001b[31m│\u001b[0m \u001b[31m❱ \u001b[0m 27 \u001b[2m│   │   │   \u001b[0m\u001b[1;4;94mraise\u001b[0m\u001b[1;4m \u001b[0m\u001b[1;4;96mValueError\u001b[0m\u001b[1;4m(\u001b[0m                                                              \u001b[31m│\u001b[0m\n",
       "\u001b[31m│\u001b[0m   \u001b[2m 28 \u001b[0m\u001b[1;2;4m│   │   │   │   \u001b[0m\u001b[1;4;33mf\u001b[0m\u001b[1;4;33m\"\u001b[0m\u001b[1;4;33mValue for metadata \u001b[0m\u001b[1;4;33m{\u001b[0m\u001b[1;4mkey\u001b[0m\u001b[1;4;33m}\u001b[0m\u001b[1;4;33m must be one of (str, int, float, None)\u001b[0m\u001b[1;4;33m\"\u001b[0m         \u001b[31m│\u001b[0m\n",
       "\u001b[31m│\u001b[0m   \u001b[2m 29 \u001b[0m\u001b[1;2;4m│   │   │   \u001b[0m\u001b[1;4m)\u001b[0m                                                                              \u001b[31m│\u001b[0m\n",
       "\u001b[31m│\u001b[0m   \u001b[2m 30 \u001b[0m                                                                                           \u001b[31m│\u001b[0m\n",
       "\u001b[31m╰──────────────────────────────────────────────────────────────────────────────────────────────────╯\u001b[0m\n",
       "\u001b[1;91mValueError: \u001b[0mValue for metadata doc_items must be one of \u001b[1m(\u001b[0mstr, int, float, \u001b[3;35mNone\u001b[0m\u001b[1m)\u001b[0m\n"
      ]
     },
     "metadata": {},
     "output_type": "display_data"
    }
   ],
   "source": [
    "llama_collection = chromadb.EphemeralClient().create_collection(\"llama\", get_or_create=True)\n",
    "llama_vector_store = ChromaVectorStore(llama_collection)\n",
    "\n",
    "index = VectorStoreIndex(nodes=docling_nodes, embed_model=embed_model, storage_context=StorageContext.from_defaults(vector_store=llama_vector_store))"
   ]
  },
  {
   "cell_type": "markdown",
   "metadata": {},
   "source": [
    "# Data splitting\n",
    "\n",
    "Many times, it's impractical to embed the entire document, and expensive to feed the entire document to the LLM.\n",
    "Instead, we can split the document into chunks, embed the chunks, and use a retrieval method to find the most relevant chunks.\n",
    "There are naïve methods that split texts into chunks of a specific length with some overlap;\n",
    "there are methods that use the structure of the document to split it into sections (e.g. sections, figures, tables);\n",
    "and there are more advanced methods that use semantic similarity to group the text into chunks."
   ]
  },
  {
   "cell_type": "markdown",
   "metadata": {},
   "source": [
    "Since the OCR'd text is just one very long Markdown string, we need to split it into chunks.\n",
    "One nice way to do that is use the inherent structure of Markdown to split it into sections.\n",
    "We do that here with LlamaIndex's `MarkdownNodeParser`."
   ]
  },
  {
   "cell_type": "code",
   "execution_count": 31,
   "metadata": {},
   "outputs": [],
   "source": [
    "from llama_index.core.node_parser import MarkdownNodeParser\n",
    "from llama_index.core.schema import Document"
   ]
  },
  {
   "cell_type": "code",
   "execution_count": 32,
   "metadata": {},
   "outputs": [],
   "source": [
    "md_nodes = MarkdownNodeParser.from_defaults().get_nodes_from_documents([Document(text=full_text)])"
   ]
  },
  {
   "cell_type": "code",
   "execution_count": null,
   "metadata": {},
   "outputs": [],
   "source": [
    "display(Markdown(md_nodes[0].text))\n"
   ]
  },
  {
   "cell_type": "markdown",
   "metadata": {},
   "source": [
    "# Retrieval"
   ]
  },
  {
   "cell_type": "markdown",
   "metadata": {},
   "source": [
    "## Starting simple: bm25\n",
    "\n",
    "BM25 is a simple retrieval method that uses the BM25 algorithm to score the relevance of each document to the query.\n",
    "The BM25 algorithm is a probabilistic retrieval model that uses the term frequency and inverse document frequency of the query terms to score the relevance of each document.\n",
    "You should be familiar with the basic idea of tf-idf from your NLP class - you can think of BM25 as a generalization of tf-idf that takes into account more factors."
   ]
  },
  {
   "cell_type": "code",
   "execution_count": 63,
   "metadata": {},
   "outputs": [],
   "source": [
    "from llama_index.core.retrievers import BaseRetriever\n",
    "from llama_index.core.schema import NodeWithScore, QueryBundle\n",
    "from llama_index.core.query_engine import RetrieverQueryEngine\n",
    "import bm25s\n",
    "import Stemmer\n",
    "from typing import List"
   ]
  },
  {
   "cell_type": "code",
   "execution_count": 70,
   "metadata": {},
   "outputs": [],
   "source": [
    "class BM25Retriever(BaseRetriever):\n",
    "    def __init__(self, index: VectorStoreIndex, stemmer: Stemmer.Stemmer = Stemmer.Stemmer(\"english\"), k: int = 10):\n",
    "        self.index = index\n",
    "        self.stemmer = stemmer\n",
    "        self.k = k\n",
    "        self._ids = []\n",
    "        self._corpus = []\n",
    "        self._setup()\n",
    "\n",
    "    def _tokenize(self, text: str):\n",
    "        return bm25s.tokenize(text, stopwords=\"en\", stemmer=self.stemmer)\n",
    "\n",
    "    def _setup(self):\n",
    "        for doc_id, doc in self.index.docstore.docs.items():\n",
    "            self._ids.append(doc_id)\n",
    "            self._corpus.append(doc.text)\n",
    "        self._bm25 = bm25s.BM25()\n",
    "        corpus_tokens = self._tokenize(self._corpus)\n",
    "        self._bm25.index(corpus_tokens)\n",
    "\n",
    "    def _get_node_from_text(self, text: str, score: float) -> NodeWithScore:\n",
    "        text_idx = self._corpus.index(text)\n",
    "        id = self._ids[text_idx]\n",
    "        node = self.index.docstore.get_node(id)\n",
    "        return NodeWithScore(node=node, score=score)\n",
    "\n",
    "    def _retrieve(self, query_bundle: QueryBundle) -> List[NodeWithScore]:\n",
    "        query_tokens = self._tokenize(query_bundle.query_str)\n",
    "        # scores is a list of tuples (text, score)\n",
    "        documents, scores = self._bm25.retrieve(query_tokens, corpus=self._corpus, k=self.k)\n",
    "        \n",
    "        nodes_with_scores = []\n",
    "        for text, score in zip(documents[0], scores[0]):\n",
    "            node_with_score = self._get_node_from_text(text, float(score))\n",
    "            nodes_with_scores.append(node_with_score)\n",
    "            \n",
    "        return nodes_with_scores"
   ]
  },
  {
   "cell_type": "code",
   "execution_count": null,
   "metadata": {},
   "outputs": [],
   "source": [
    "bm25 = BM25Retriever(index, k=2)"
   ]
  },
  {
   "cell_type": "code",
   "execution_count": null,
   "metadata": {},
   "outputs": [],
   "source": [
    "for node in bm25.retrieve(\"What is the main idea of the paper?\"):\n",
    "    print(f\"Score: {node.score:.4f}\\nText:\\n{node.node.text[:500]}...\")"
   ]
  },
  {
   "cell_type": "markdown",
   "metadata": {},
   "source": [
    "## Dense retrieval (vector search)\n",
    "\n",
    "BM25 is a simple and fast method that depends on word matching.\n",
    "But if we want to do more complex retrieval, we can use dense retrieval.\n",
    "We represent both our query and documents as vectors and use a similarity metric to find the most relevant documents.\n",
    "This is what's been going on under the hood in the previous examples using `VectorStoreIndex`.\n",
    "\n",
    "Since most of the mechanics are taken care for us under the hood, let's examine what goes on under the hood."
   ]
  },
  {
   "cell_type": "code",
   "execution_count": 121,
   "metadata": {},
   "outputs": [],
   "source": [
    "from sklearn.metrics.pairwise import cosine_similarity\n",
    "import numpy as np\n",
    "import matplotlib.pyplot as plt\n"
   ]
  },
  {
   "cell_type": "code",
   "execution_count": 126,
   "metadata": {},
   "outputs": [],
   "source": [
    "sample_documents = [\n",
    "    \"My favorite type of dog is a golden retriever.\",\n",
    "    \"I like to eat pizza with my friends.\",\n",
    "    \"I like to go to the gym in the morning.\",\n",
    "    \"I like to play basketball with my friends.\",\n",
    "]\n",
    "\n",
    "embeddings = np.array(embed_model.get_text_embedding_batch(sample_documents))\n",
    "\n",
    "query = \"What do I like to do with friends?\"\n",
    "query_embedding = np.array(embed_model.get_text_embedding(query))"
   ]
  },
  {
   "cell_type": "code",
   "execution_count": null,
   "metadata": {},
   "outputs": [],
   "source": [
    "cosine_similarity(query_embedding.reshape(1, -1), embeddings).squeeze()"
   ]
  },
  {
   "cell_type": "markdown",
   "metadata": {},
   "source": [
    "## Hybrid search: query rewriting and reciprocal ranking\n",
    "\n",
    "Sometimes, you may want several methods of searching over your data, then combining the results.\n",
    "This is known as hybrid search.\n",
    "\n",
    "Haveing multiple retrievers may not mean having separate objects - we may just have multiple queries.\n",
    "In this example, we'll use an LLM to rewrite our query into multiple queries, then use a dense retriever to find the most relevant documents.\n",
    "Finally, we'll use reciprocal ranking to re-rank the results.\n"
   ]
  },
  {
   "cell_type": "code",
   "execution_count": 130,
   "metadata": {},
   "outputs": [],
   "source": [
    "from llama_index.core.retrievers import QueryFusionRetriever"
   ]
  },
  {
   "cell_type": "code",
   "execution_count": 148,
   "metadata": {},
   "outputs": [],
   "source": [
    "dense_retriever = index.as_retriever(similarity_top_k=5)\n",
    "hybrid_retriever = QueryFusionRetriever(\n",
    "    [dense_retriever],\n",
    "    num_queries=3,\n",
    "    use_async=False,\n",
    "    mode='reciprocal_rerank',\n",
    "    verbose=True\n",
    ")"
   ]
  },
  {
   "cell_type": "code",
   "execution_count": null,
   "metadata": {},
   "outputs": [],
   "source": [
    "result = hybrid_retriever.retrieve(\"How many languages does wikipedia have?\")"
   ]
  },
  {
   "cell_type": "code",
   "execution_count": null,
   "metadata": {},
   "outputs": [],
   "source": [
    "print(result[0].text)"
   ]
  },
  {
   "cell_type": "markdown",
   "metadata": {},
   "source": [
    "# Exercise: Chat with PDF\n",
    "\n",
    "Your goal in this exercise is to create a Gradio interface for a question-answering system.\n",
    "Your application should:\n",
    "- Use the query engine created above to answer questions about the uploaded PDF\n",
    "- Display the question and answer in the UI. If using QueryEngine, use a question and answer format. If using ChatEngine, use a chat format.\n",
    "\n",
    "If you need a challenge:\n",
    "- Use the `gr.File` component to allow the user to upload ANY pdf and ask question about it.\n"
   ]
  },
  {
   "cell_type": "code",
   "execution_count": null,
   "metadata": {},
   "outputs": [],
   "source": [
    "import gradio as gr"
   ]
  },
  {
   "cell_type": "code",
   "execution_count": null,
   "metadata": {},
   "outputs": [],
   "source": [
    "# In the ingest_documents function:\n",
    "def ingest_documents(file_obj):\n",
    "    \"\"\"\n",
    "    Process an uploaded PDF file and create a query engine for it.\n",
    "    \n",
    "    Args:\n",
    "        file_obj: Gradio file upload object containing the PDF\n",
    "        \n",
    "    Returns:\n",
    "        tuple: (chat_engine, cleared_file_upload, filename)\n",
    "    \"\"\"\n",
    "    if file_obj is None:\n",
    "        return None, None, \"\"\n",
    "        \n",
    "    with TemporaryDirectory() as temp_dir:\n",
    "        file_path = os.path.join(temp_dir, 'tmp.pdf')\n",
    "        # Get the file bytes from the Gradio upload object\n",
    "        file_bytes = open(file_obj, \"rb\").read()\n",
    "        \n",
    "        with open(file_path, \"wb\") as f:\n",
    "            f.write(file_bytes)\n",
    "            \n",
    "        documents = SimpleDirectoryReader(temp_dir).load_data()\n",
    "        llm = OpenAI(model=\"gpt-4o-mini\")\n",
    "        index = VectorStoreIndex.from_documents(documents, embed_model=embed_model)\n",
    "        chat_engine = index.as_chat_engine(llm=llm)\n",
    "        \n",
    "    return chat_engine, None, Path(file_obj.name).name, []\n",
    "\n",
    "def chat(message, history, chat_engine):\n",
    "    history.append(\n",
    "        {\n",
    "            \"role\": \"user\",\n",
    "            \"content\": message\n",
    "        }\n",
    "    )\n",
    "    response = chat_engine.chat(message)\n",
    "    history.append({\n",
    "        \"role\": \"assistant\",\n",
    "        \"content\": response.response\n",
    "    })\n",
    "    return history, None\n",
    "\n",
    "# In the Blocks interface:\n",
    "with gr.Blocks() as demo:\n",
    "    chat_engine_state = gr.State()  # Renamed for clarity\n",
    "    gr.Markdown(\"## RAG Demo: Question answering with a PDF\")\n",
    "    with gr.Row():\n",
    "        with gr.Column(scale=1):   \n",
    "            file_upload = gr.File(label=\"Upload a PDF file\", file_types=[\".pdf\"], file_count=\"single\")\n",
    "            submit_button = gr.Button(\"Submit\")\n",
    "            pdf_name = gr.Textbox(label=\"You are asking about...\")\n",
    "        with gr.Column(scale=5):\n",
    "            chatbot = gr.Chatbot(label=\"Chat with the uploaded PDF\", type='messages')\n",
    "            input = gr.Textbox(label=\"Enter a question\", interactive=True)\n",
    "\n",
    "    # Update to only store the chat_engine in the State\n",
    "    submit_button.click(\n",
    "        fn=ingest_documents, \n",
    "        inputs=file_upload, \n",
    "        outputs=[chat_engine_state, file_upload, pdf_name, chatbot]\n",
    "    )\n",
    "    input.submit(\n",
    "        fn=chat, \n",
    "        inputs=[input, chatbot, chat_engine_state], \n",
    "        outputs=[chatbot, input]\n",
    "    )\n",
    "\n",
    "demo.launch(debug=False)"
   ]
  },
  {
   "cell_type": "code",
   "execution_count": null,
   "metadata": {},
   "outputs": [],
   "source": []
  }
 ],
 "metadata": {
  "kernelspec": {
   "display_name": ".venv",
   "language": "python",
   "name": "python3"
  },
  "language_info": {
   "codemirror_mode": {
    "name": "ipython",
    "version": 3
   },
   "file_extension": ".py",
   "mimetype": "text/x-python",
   "name": "python",
   "nbconvert_exporter": "python",
   "pygments_lexer": "ipython3",
   "version": "3.11.5"
  }
 },
 "nbformat": 4,
 "nbformat_minor": 2
}
