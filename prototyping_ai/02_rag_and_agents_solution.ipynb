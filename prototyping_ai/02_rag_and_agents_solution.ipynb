{
 "cells": [
  {
   "cell_type": "markdown",
   "metadata": {},
   "source": [
    "# Retrieval Augmented Generation\n",
    "\n",
    "Overview:\n",
    "- Introduction to RAG with LlamaIndex\n",
    "- Data ingestion\n",
    "  - PDF\n",
    "  - Web pages\n",
    "  - Code\n",
    "- Data splitting\n",
    "  - Token splitting\n",
    "  - Sentence splitting\n",
    "  - Structured data splitting\n",
    "  - Semantic chunking\n",
    "- Vectorization\n",
    "  - Embeddings\n",
    "  - Vector storage\n",
    "- Retrieval\n",
    "  - Keyword search\n",
    "  - Vector search\n",
    "  - Hybrid search\n",
    "- Advanced methods\n",
    "  - Query rewriting\n",
    "  - Multi-hop retrieval"
   ]
  },
  {
   "cell_type": "markdown",
   "metadata": {},
   "source": [
    "# Introduction to RAG with LlamaIndex\n",
    "\n",
    "LlamaIndex is a library for working with large language models.\n",
    "One of its main strengths is its ability to ingest documents into a vector index and use them to answer questions.\n",
    "This is known as Retrieval Augmented Generation (RAG).\n",
    "\n",
    "To start, we will use a low-code, high-level abstraction to build a basic PDF question-answering system.\n",
    "We will read in PDFs, split them into chunks, embed them, and store them in a vector database.\n",
    "Then, we will use an abstraction known as a `QueryEngine` that implements RAG to answer questions about the documents."
   ]
  },
  {
   "cell_type": "code",
   "execution_count": 5,
   "metadata": {},
   "outputs": [
    {
     "data": {
      "text/html": [
       "<pre style=\"white-space:pre;overflow-x:auto;line-height:normal;font-family:Menlo,'DejaVu Sans Mono',consolas,'Courier New',monospace\">Not in colab - using local environment variables.\n",
       "</pre>\n"
      ],
      "text/plain": [
       "Not in colab - using local environment variables.\n"
      ]
     },
     "metadata": {},
     "output_type": "display_data"
    }
   ],
   "source": [
    "# If we're in colab, use userdata to get the OPENAI_API_KEY\n",
    "import os\n",
    "from rich import print\n",
    "from pathlib import Path\n",
    "\n",
    "try:\n",
    "    from google.colab import userdata\n",
    "    print(\"Colab detected - setting up environment\")\n",
    "    os.environ[\"OPENAI_API_KEY\"] = userdata.get(\"OPENAI_API_KEY\")\n",
    "    %pip install llama-index \\\n",
    "        llama-index-readers-web \\\n",
    "        thefuzz \\\n",
    "        gradio \\\n",
    "        chromadb \\\n",
    "        llama-index-embeddings-huggingface \\\n",
    "        llama-index-vector-stores-chroma \\\n",
    "        llama-index-llms-gemini \\\n",
    "        marker-pdf \\\n",
    "        bm25s \\\n",
    "        PyStemmer\n",
    "        \n",
    "except:\n",
    "    print(\"Not in colab - using local environment variables.\")\n",
    "    from dotenv import load_dotenv\n",
    "    load_dotenv(\"../.env\")\n"
   ]
  },
  {
   "cell_type": "code",
   "execution_count": 6,
   "metadata": {},
   "outputs": [
    {
     "data": {
      "text/html": [
       "<pre style=\"white-space:pre;overflow-x:auto;line-height:normal;font-family:Menlo,'DejaVu Sans Mono',consolas,'Courier New',monospace\">PDF already exists at data/<span style=\"color: #008080; text-decoration-color: #008080; font-weight: bold\">2407.21783</span>.pdf\n",
       "</pre>\n"
      ],
      "text/plain": [
       "PDF already exists at data/\u001b[1;36m2407.21783\u001b[0m.pdf\n"
      ]
     },
     "metadata": {},
     "output_type": "display_data"
    }
   ],
   "source": [
    "import os\n",
    "import requests\n",
    "\n",
    "# Create data directory if it doesn't exist\n",
    "data_dir = \"data\"\n",
    "if not os.path.exists(data_dir):\n",
    "    os.makedirs(data_dir)\n",
    "\n",
    "# Download the PDF file\n",
    "pdf_url = \"https://arxiv.org/pdf/2407.21783\"\n",
    "pdf_path = os.path.join(data_dir, \"2407.21783.pdf\")\n",
    "\n",
    "if not os.path.exists(pdf_path):\n",
    "    response = requests.get(pdf_url)\n",
    "    with open(pdf_path, \"wb\") as f:\n",
    "        f.write(response.content)\n",
    "    print(f\"Downloaded PDF to {pdf_path}\")\n",
    "else:\n",
    "    print(f\"PDF already exists at {pdf_path}\")\n"
   ]
  },
  {
   "cell_type": "code",
   "execution_count": 7,
   "metadata": {},
   "outputs": [],
   "source": [
    "from llama_index.core.readers import SimpleDirectoryReader\n",
    "documents = SimpleDirectoryReader(data_dir).load_data()"
   ]
  },
  {
   "cell_type": "code",
   "execution_count": 78,
   "metadata": {},
   "outputs": [],
   "source": [
    "from llama_index.core import VectorStoreIndex\n",
    "from llama_index.embeddings.huggingface import HuggingFaceEmbedding\n",
    "from torch.backends.mps import is_available as is_mps_available\n",
    "from torch.cuda import is_available as is_cuda_available\n",
    "\n",
    "if is_mps_available():\n",
    "    device = \"mps\"\n",
    "elif is_cuda_available():\n",
    "    device = \"cuda\"\n",
    "else:\n",
    "    device = \"cpu\"\n",
    "\n",
    "embed_model = HuggingFaceEmbedding(model_name=\"BAAI/bge-large-en-v1.5\", device=device)\n",
    "index = VectorStoreIndex.from_documents(documents, embed_model=embed_model)"
   ]
  },
  {
   "cell_type": "code",
   "execution_count": 65,
   "metadata": {},
   "outputs": [
    {
     "ename": "",
     "evalue": "",
     "output_type": "error",
     "traceback": [
      "\u001b[1;31mnotebook controller is DISPOSED. \n",
      "\u001b[1;31mView Jupyter <a href='command:jupyter.viewOutput'>log</a> for further details."
     ]
    }
   ],
   "source": [
    "from llama_index.llms.openai import OpenAI\n",
    "from llama_index.core import Settings\n",
    "llm = OpenAI(model=\"gpt-4o-mini\")\n",
    "Settings.llm = llm # set gpt-4o-mini as the default llm\n",
    "\n",
    "query_engine = index.as_query_engine(llm=llm)"
   ]
  },
  {
   "cell_type": "code",
   "execution_count": null,
   "metadata": {},
   "outputs": [
    {
     "ename": "",
     "evalue": "",
     "output_type": "error",
     "traceback": [
      "\u001b[1;31mnotebook controller is DISPOSED. \n",
      "\u001b[1;31mView Jupyter <a href='command:jupyter.viewOutput'>log</a> for further details."
     ]
    }
   ],
   "source": [
    "response = query_engine.query(\"How many new Llama models models are mentioned in the paper?\")"
   ]
  },
  {
   "cell_type": "code",
   "execution_count": null,
   "metadata": {},
   "outputs": [
    {
     "ename": "",
     "evalue": "",
     "output_type": "error",
     "traceback": [
      "\u001b[1;31mnotebook controller is DISPOSED. \n",
      "\u001b[1;31mView Jupyter <a href='command:jupyter.viewOutput'>log</a> for further details."
     ]
    }
   ],
   "source": [
    "print(response.response)"
   ]
  },
  {
   "cell_type": "markdown",
   "metadata": {},
   "source": [
    "## Exercise: Create a Gradio interface for a question-answering system\n",
    "\n",
    "Your goal in this exercise is to create a Gradio interface for a question-answering system.\n",
    "Your application should:\n",
    "- Use the query engine created above to answer questions about the uploaded PDF\n",
    "- Display the question and answer in the UI\n",
    "\n",
    "If you need a challenge:\n",
    "- Use the `gr.File` component to allow the user to upload ANY pdf and ask question about it.\n"
   ]
  },
  {
   "cell_type": "code",
   "execution_count": null,
   "metadata": {},
   "outputs": [],
   "source": [
    "import gradio as gr"
   ]
  },
  {
   "cell_type": "code",
   "execution_count": null,
   "metadata": {},
   "outputs": [],
   "source": [
    "from tempfile import TemporaryDirectory\n",
    "import os\n",
    "from pathlib import Path\n",
    "\n",
    "def ingest_documents(file_obj):\n",
    "    \"\"\"\n",
    "    Process an uploaded PDF file and create a query engine for it.\n",
    "    \n",
    "    Args:\n",
    "        file_obj: Gradio file upload object containing the PDF\n",
    "        \n",
    "    Returns:\n",
    "        QueryEngine: Configured query engine for the ingested document\n",
    "    \"\"\"\n",
    "    if file_obj is None:\n",
    "        return None\n",
    "        \n",
    "    with TemporaryDirectory() as temp_dir:\n",
    "        file_path = os.path.join(temp_dir, 'tmp.pdf')\n",
    "        # Get the file bytes from the Gradio upload object\n",
    "        file_bytes = open(file_obj, \"rb\").read()\n",
    "        \n",
    "        with open(file_path, \"wb\") as f:\n",
    "            f.write(file_bytes)\n",
    "            \n",
    "        documents = SimpleDirectoryReader(temp_dir).load_data()\n",
    "        llm = OpenAI(model=\"gpt-4o-mini\")\n",
    "        index = VectorStoreIndex.from_documents(documents, embed_model=embed_model)\n",
    "        query_engine = index.as_query_engine(llm=llm)\n",
    "        \n",
    "    return query_engine, None, Path(file_obj.name).name\n",
    "\n",
    "def predict(query_engine, question):\n",
    "    return query_engine.query(question)\n"
   ]
  },
  {
   "cell_type": "code",
   "execution_count": null,
   "metadata": {},
   "outputs": [],
   "source": [
    "with gr.Blocks() as demo:\n",
    "    query_engine = gr.State()\n",
    "    gr.Markdown(\"## RAG Demo: Question answering with a PDF\")\n",
    "    with gr.Row():\n",
    "        with gr.Column(scale=1):   \n",
    "            file_upload = gr.File(label=\"Upload a PDF file\", file_types=[\".pdf\"], file_count=\"single\")\n",
    "            submit_button = gr.Button(\"Submit\")\n",
    "            pdf_name = gr.Textbox(label=\"You are asking about...\")\n",
    "        with gr.Column(scale=3):\n",
    "            input = gr.Textbox(label=\"Enter a question\")\n",
    "            output = gr.Textbox(label=\"Answer\")\n",
    "\n",
    "    submit_button.click(fn=ingest_documents, inputs=file_upload, outputs=[query_engine, file_upload, pdf_name])\n",
    "    input.submit(fn=predict, inputs=[query_engine, input], outputs=output)\n",
    "\n",
    "demo.launch()"
   ]
  },
  {
   "cell_type": "markdown",
   "metadata": {},
   "source": [
    "# Data ingestion\n",
    "\n",
    "Data often comes in many different formats.\n",
    "It may come in the form of a PDF, a web page, a code file, etc.\n",
    "We may need some specific processing pipelines to extract the text from these documents, split them correctly, and vectorize them.\n",
    "\n",
    "Luckily, LlamaIndex (and other libraries) provide lots of built-in and add-on tools to help you ingest almost any data type.\n",
    "Instead of loading a PDF, let's load a web page instead.\n",
    "We will use one of the classes provided by [`llama-index-readers-web`](https://llamahub.ai/l/readers/llama-index-readers-web?from=readers) to load data from a web page.\n",
    "\n",
    "In this section, we will:\n",
    "- Load a web page as Markdown\n",
    "- Split it into chunks following the structured format of the Markdown\n",
    "- Embed the chunks\n",
    "- Store the chunks in a vector database\n",
    "- Create a query engine from the vector database and use it to answer a question\n"
   ]
  },
  {
   "cell_type": "code",
   "execution_count": 79,
   "metadata": {},
   "outputs": [],
   "source": [
    "from llama_index.readers.web import SimpleWebPageReader\n",
    "from llama_index.core.node_parser import MarkdownNodeParser\n",
    "from llama_index.core.ingestion import IngestionPipeline\n",
    "from llama_index.vector_stores.chroma import ChromaVectorStore\n",
    "import chromadb\n"
   ]
  },
  {
   "cell_type": "code",
   "execution_count": 80,
   "metadata": {},
   "outputs": [],
   "source": [
    "web_docs = SimpleWebPageReader(html_to_text=True).load_data(['https://en.wikipedia.org/wiki/Wikipedia'])"
   ]
  },
  {
   "cell_type": "code",
   "execution_count": 82,
   "metadata": {},
   "outputs": [],
   "source": [
    "# chromadb.EphemeralClient().delete_collection(\"wikipedia\")"
   ]
  },
  {
   "cell_type": "code",
   "execution_count": 83,
   "metadata": {},
   "outputs": [],
   "source": [
    "collection = chromadb.EphemeralClient().create_collection(\"wikipedia\", get_or_create=True)\n",
    "vector_store = ChromaVectorStore(collection)"
   ]
  },
  {
   "cell_type": "code",
   "execution_count": 84,
   "metadata": {},
   "outputs": [],
   "source": [
    "pipeline = IngestionPipeline(\n",
    "    transformations=[\n",
    "        MarkdownNodeParser.from_defaults(),\n",
    "        embed_model,\n",
    "    ], \n",
    "    vector_store=vector_store\n",
    ")"
   ]
  },
  {
   "cell_type": "code",
   "execution_count": 85,
   "metadata": {},
   "outputs": [],
   "source": [
    "nodes = pipeline.run(documents=web_docs)"
   ]
  },
  {
   "cell_type": "code",
   "execution_count": 86,
   "metadata": {},
   "outputs": [],
   "source": [
    "index = VectorStoreIndex.from_vector_store(vector_store, embed_model=embed_model)"
   ]
  },
  {
   "cell_type": "code",
   "execution_count": 87,
   "metadata": {},
   "outputs": [
    {
     "data": {
      "text/html": [
       "<pre style=\"white-space:pre;overflow-x:auto;line-height:normal;font-family:Menlo,'DejaVu Sans Mono',consolas,'Courier New',monospace\">There are currently <span style=\"color: #008080; text-decoration-color: #008080; font-weight: bold\">339</span> language editions of Wikipedia.\n",
       "</pre>\n"
      ],
      "text/plain": [
       "There are currently \u001b[1;36m339\u001b[0m language editions of Wikipedia.\n"
      ]
     },
     "metadata": {},
     "output_type": "display_data"
    }
   ],
   "source": [
    "llm = OpenAI(model=\"gpt-4o-mini\")\n",
    "query_engine = index.as_query_engine(llm=llm)\n",
    "response = query_engine.query(\"How many languages there exactly? Quote the exact text as well.\")\n",
    "print(response.response)"
   ]
  },
  {
   "cell_type": "code",
   "execution_count": 88,
   "metadata": {},
   "outputs": [
    {
     "data": {
      "text/html": [
       "<pre style=\"white-space:pre;overflow-x:auto;line-height:normal;font-family:Menlo,'DejaVu Sans Mono',consolas,'Courier New',monospace\">Quote from source: <span style=\"color: #008000; text-decoration-color: #008000\">'There are currently 339 language editions of Wikipedia (also called _language'</span>\n",
       "</pre>\n"
      ],
      "text/plain": [
       "Quote from source: \u001b[32m'There are currently 339 language editions of Wikipedia \u001b[0m\u001b[32m(\u001b[0m\u001b[32malso called _language'\u001b[0m\n"
      ]
     },
     "metadata": {},
     "output_type": "display_data"
    }
   ],
   "source": [
    "# Use fuzzywuzzy to find the closest match in the source text\n",
    "from thefuzz import fuzz, process\n",
    "# Get the top matching line of text from the source_text_quote\n",
    "top_match, match_score = process.extractOne(response.response, response.source_nodes[0].text.splitlines(), scorer=fuzz.ratio)\n",
    "assert top_match in response.source_nodes[0].text\n",
    "print(f\"Quote from source: '{top_match}'\")"
   ]
  },
  {
   "cell_type": "markdown",
   "metadata": {},
   "source": [
    "## OCR\n",
    "\n",
    "There are times where the PDF is not in a format that can be easily read into text.\n",
    "In these cases, we will need to use optical character recognition (OCR) to convert the images to text.\n",
    "There are many libraries and cloud services that can do this, but for this example, we will use the `marker` library since our example document is a PDF.\n",
    "We will then ingest the text into LlamaIndex and use it to answer a question."
   ]
  },
  {
   "cell_type": "code",
   "execution_count": 36,
   "metadata": {},
   "outputs": [],
   "source": [
    "from marker.convert import convert_single_pdf\n",
    "from marker.models import load_all_models\n",
    "from IPython.display import display, Markdown"
   ]
  },
  {
   "cell_type": "code",
   "execution_count": null,
   "metadata": {},
   "outputs": [],
   "source": [
    "fpath = \"data/2407.21783.pdf\"\n",
    "model_lst = load_all_models()\n",
    "full_text, images, out_meta = convert_single_pdf(fpath, model_lst)"
   ]
  },
  {
   "cell_type": "code",
   "execution_count": null,
   "metadata": {},
   "outputs": [],
   "source": [
    "display(Markdown(full_text[:5000]))"
   ]
  },
  {
   "cell_type": "code",
   "execution_count": 14,
   "metadata": {},
   "outputs": [],
   "source": [
    "from llama_index.core.node_parser import MarkdownElementNodeParser\n",
    "from llama_index.core.schema import Document"
   ]
  },
  {
   "cell_type": "code",
   "execution_count": 34,
   "metadata": {},
   "outputs": [],
   "source": [
    "markdown_parser = MarkdownElementNodeParser.from_defaults()"
   ]
  },
  {
   "cell_type": "code",
   "execution_count": null,
   "metadata": {},
   "outputs": [],
   "source": [
    "nodes = await markdown_parser.aget_nodes_from_documents([Document(text=full_text)])"
   ]
  },
  {
   "cell_type": "code",
   "execution_count": null,
   "metadata": {},
   "outputs": [],
   "source": [
    "print(nodes[2].text)"
   ]
  },
  {
   "cell_type": "markdown",
   "metadata": {},
   "source": [
    "# Retrieval"
   ]
  },
  {
   "cell_type": "markdown",
   "metadata": {},
   "source": [
    "## Starting simple: bm25\n",
    "\n",
    "BM25 is a simple retrieval method that uses the BM25 algorithm to score the relevance of each document to the query.\n",
    "The BM25 algorithm is a probabilistic retrieval model that uses the term frequency and inverse document frequency of the query terms to score the relevance of each document.\n",
    "You should be familiar with the basic idea of tf-idf from your NLP class - you can think of BM25 as a generalization of tf-idf that takes into account more factors."
   ]
  },
  {
   "cell_type": "code",
   "execution_count": 63,
   "metadata": {},
   "outputs": [],
   "source": [
    "from llama_index.core.retrievers import BaseRetriever\n",
    "from llama_index.core.schema import NodeWithScore, QueryBundle\n",
    "from llama_index.core.query_engine import RetrieverQueryEngine\n",
    "import bm25s\n",
    "import Stemmer\n",
    "from typing import List"
   ]
  },
  {
   "cell_type": "code",
   "execution_count": 70,
   "metadata": {},
   "outputs": [],
   "source": [
    "class BM25Retriever(BaseRetriever):\n",
    "    def __init__(self, index: VectorStoreIndex, stemmer: Stemmer.Stemmer = Stemmer.Stemmer(\"english\"), k: int = 10):\n",
    "        self.index = index\n",
    "        self.stemmer = stemmer\n",
    "        self.k = k\n",
    "        self._ids = []\n",
    "        self._corpus = []\n",
    "        self._setup()\n",
    "\n",
    "    def _tokenize(self, text: str):\n",
    "        return bm25s.tokenize(text, stopwords=\"en\", stemmer=self.stemmer)\n",
    "\n",
    "    def _setup(self):\n",
    "        for doc_id, doc in self.index.docstore.docs.items():\n",
    "            self._ids.append(doc_id)\n",
    "            self._corpus.append(doc.text)\n",
    "        self._bm25 = bm25s.BM25()\n",
    "        corpus_tokens = self._tokenize(self._corpus)\n",
    "        self._bm25.index(corpus_tokens)\n",
    "\n",
    "    def _get_node_from_text(self, text: str, score: float) -> NodeWithScore:\n",
    "        text_idx = self._corpus.index(text)\n",
    "        id = self._ids[text_idx]\n",
    "        node = self.index.docstore.get_node(id)\n",
    "        return NodeWithScore(node=node, score=score)\n",
    "\n",
    "    def _retrieve(self, query_bundle: QueryBundle) -> List[NodeWithScore]:\n",
    "        query_tokens = self._tokenize(query_bundle.query_str)\n",
    "        # scores is a list of tuples (text, score)\n",
    "        documents, scores = self._bm25.retrieve(query_tokens, corpus=self._corpus, k=self.k)\n",
    "        \n",
    "        nodes_with_scores = []\n",
    "        for text, score in zip(documents[0], scores[0]):\n",
    "            node_with_score = self._get_node_from_text(text, float(score))\n",
    "            nodes_with_scores.append(node_with_score)\n",
    "            \n",
    "        return nodes_with_scores"
   ]
  },
  {
   "cell_type": "code",
   "execution_count": 71,
   "metadata": {},
   "outputs": [
    {
     "data": {
      "application/vnd.jupyter.widget-view+json": {
       "model_id": "64a4a701b52f4e1290382522d0aea751",
       "version_major": 2,
       "version_minor": 0
      },
      "text/plain": [
       "Split strings:   0%|          | 0/135 [00:00<?, ?it/s]"
      ]
     },
     "metadata": {},
     "output_type": "display_data"
    },
    {
     "data": {
      "application/vnd.jupyter.widget-view+json": {
       "model_id": "0f5c412b526d4f34b7da52f06eb1b471",
       "version_major": 2,
       "version_minor": 0
      },
      "text/plain": [
       "Stem Tokens:   0%|          | 0/135 [00:00<?, ?it/s]"
      ]
     },
     "metadata": {},
     "output_type": "display_data"
    },
    {
     "data": {
      "application/vnd.jupyter.widget-view+json": {
       "model_id": "c4d50562b85944c18c9eb3c2cb1b6651",
       "version_major": 2,
       "version_minor": 0
      },
      "text/plain": [
       "BM25S Count Tokens:   0%|          | 0/135 [00:00<?, ?it/s]"
      ]
     },
     "metadata": {},
     "output_type": "display_data"
    },
    {
     "data": {
      "application/vnd.jupyter.widget-view+json": {
       "model_id": "85d3f8d52b3f40afaed7a1e8bd1fecce",
       "version_major": 2,
       "version_minor": 0
      },
      "text/plain": [
       "BM25S Compute Scores:   0%|          | 0/135 [00:00<?, ?it/s]"
      ]
     },
     "metadata": {},
     "output_type": "display_data"
    }
   ],
   "source": [
    "bm25 = BM25Retriever(index, k=2)"
   ]
  },
  {
   "cell_type": "code",
   "execution_count": 76,
   "metadata": {},
   "outputs": [
    {
     "data": {
      "application/vnd.jupyter.widget-view+json": {
       "model_id": "b74a2ff3cd614dae9880a9180af66739",
       "version_major": 2,
       "version_minor": 0
      },
      "text/plain": [
       "Split strings:   0%|          | 0/1 [00:00<?, ?it/s]"
      ]
     },
     "metadata": {},
     "output_type": "display_data"
    },
    {
     "data": {
      "application/vnd.jupyter.widget-view+json": {
       "model_id": "4f1993bc446248f7af34cc2134639533",
       "version_major": 2,
       "version_minor": 0
      },
      "text/plain": [
       "Stem Tokens:   0%|          | 0/1 [00:00<?, ?it/s]"
      ]
     },
     "metadata": {},
     "output_type": "display_data"
    },
    {
     "data": {
      "application/vnd.jupyter.widget-view+json": {
       "model_id": "b2072bcf51ec4b73a7764015c5354c82",
       "version_major": 2,
       "version_minor": 0
      },
      "text/plain": [
       "BM25S Retrieve:   0%|          | 0/1 [00:00<?, ?it/s]"
      ]
     },
     "metadata": {},
     "output_type": "display_data"
    },
    {
     "data": {
      "text/html": [
       "<pre style=\"white-space:pre;overflow-x:auto;line-height:normal;font-family:Menlo,'DejaVu Sans Mono',consolas,'Courier New',monospace\">Score: <span style=\"color: #008080; text-decoration-color: #008080; font-weight: bold\">2.4542</span>\n",
       "Text:\n",
       "Wei Liu, Weihao Zeng, Keqing He, Yong Jiang, and Junxian He. What makes good data for alignment? a comprehensive\n",
       "study of automatic data selection in instruction tuning, 2024c.<span style=\"color: #0000ff; text-decoration-color: #0000ff; text-decoration: underline\">https://arxiv.org/abs/2312.15685.</span>\n",
       "Yinhan Liu, Myle Ott, Naman Goyal, Jingfei Du, Mandar Joshi, Danqi Chen, Omer Levy, Mike Lewis, Luke Zettlemoyer,\n",
       "and Veselin Stoyanov. Roberta: A robustly optimized bert pretraining approach.arXiv preprint arXiv:<span style=\"color: #008080; text-decoration-color: #008080; font-weight: bold\">1907.11692</span>,\n",
       "2019a.\n",
       "Yinhan Liu, Myle Ott, Naman Goyal, Jingfei Du, Mandar Josh<span style=\"color: #808000; text-decoration-color: #808000\">...</span>\n",
       "</pre>\n"
      ],
      "text/plain": [
       "Score: \u001b[1;36m2.4542\u001b[0m\n",
       "Text:\n",
       "Wei Liu, Weihao Zeng, Keqing He, Yong Jiang, and Junxian He. What makes good data for alignment? a comprehensive\n",
       "study of automatic data selection in instruction tuning, 2024c.\u001b[4;94mhttps://arxiv.org/abs/2312.15685.\u001b[0m\n",
       "Yinhan Liu, Myle Ott, Naman Goyal, Jingfei Du, Mandar Joshi, Danqi Chen, Omer Levy, Mike Lewis, Luke Zettlemoyer,\n",
       "and Veselin Stoyanov. Roberta: A robustly optimized bert pretraining approach.arXiv preprint arXiv:\u001b[1;36m1907.11692\u001b[0m,\n",
       "2019a.\n",
       "Yinhan Liu, Myle Ott, Naman Goyal, Jingfei Du, Mandar Josh\u001b[33m...\u001b[0m\n"
      ]
     },
     "metadata": {},
     "output_type": "display_data"
    },
    {
     "data": {
      "text/html": [
       "<pre style=\"white-space:pre;overflow-x:auto;line-height:normal;font-family:Menlo,'DejaVu Sans Mono',consolas,'Courier New',monospace\">Score: <span style=\"color: #008080; text-decoration-color: #008080; font-weight: bold\">2.2030</span>\n",
       "Text:\n",
       "The Llama <span style=\"color: #008080; text-decoration-color: #008080; font-weight: bold\">3</span> Herd of Models\n",
       "Llama Team, AI @ Meta <span style=\"color: #008080; text-decoration-color: #008080; font-weight: bold\">1</span>\n",
       "1A detailed contributor list can be found in the appendix of this paper.\n",
       "Modern artificial intelligence <span style=\"font-weight: bold\">(</span>AI<span style=\"font-weight: bold\">)</span> systems are powered by foundation models. This paper presents a\n",
       "new set of foundation models, called Llama <span style=\"color: #008080; text-decoration-color: #008080; font-weight: bold\">3</span>. It is a herd of language models that natively support\n",
       "multilinguality, coding, reasoning, and tool usage. Our largest model is a dense Transformer with\n",
       "405B parameters and a context window of up to 128K tokens. This paper presents<span style=\"color: #808000; text-decoration-color: #808000\">...</span>\n",
       "</pre>\n"
      ],
      "text/plain": [
       "Score: \u001b[1;36m2.2030\u001b[0m\n",
       "Text:\n",
       "The Llama \u001b[1;36m3\u001b[0m Herd of Models\n",
       "Llama Team, AI @ Meta \u001b[1;36m1\u001b[0m\n",
       "1A detailed contributor list can be found in the appendix of this paper.\n",
       "Modern artificial intelligence \u001b[1m(\u001b[0mAI\u001b[1m)\u001b[0m systems are powered by foundation models. This paper presents a\n",
       "new set of foundation models, called Llama \u001b[1;36m3\u001b[0m. It is a herd of language models that natively support\n",
       "multilinguality, coding, reasoning, and tool usage. Our largest model is a dense Transformer with\n",
       "405B parameters and a context window of up to 128K tokens. This paper presents\u001b[33m...\u001b[0m\n"
      ]
     },
     "metadata": {},
     "output_type": "display_data"
    }
   ],
   "source": [
    "for node in bm25.retrieve(\"What is the main idea of the paper?\"):\n",
    "    print(f\"Score: {node.score:.4f}\\nText:\\n{node.node.text[:500]}...\")"
   ]
  },
  {
   "cell_type": "markdown",
   "metadata": {},
   "source": [
    "## Dense retrieval (vector search)\n",
    "\n",
    "BM25 is a simple and fast method that depends on word matching.\n",
    "But if we want to do more complex retrieval, we can use dense retrieval.\n",
    "We represent both our query and documents as vectors and use a similarity metric to find the most relevant documents.\n",
    "This is what's been going on under the hood in the previous examples using `VectorStoreIndex`.\n",
    "\n",
    "Since most of the mechanics are taken care for us under the hood, let's examine what goes on under the hood."
   ]
  },
  {
   "cell_type": "code",
   "execution_count": 121,
   "metadata": {},
   "outputs": [],
   "source": [
    "from sklearn.metrics.pairwise import cosine_similarity\n",
    "import numpy as np\n",
    "import matplotlib.pyplot as plt\n"
   ]
  },
  {
   "cell_type": "code",
   "execution_count": 126,
   "metadata": {},
   "outputs": [],
   "source": [
    "sample_documents = [\n",
    "    \"My favorite type of dog is a golden retriever.\",\n",
    "    \"I like to eat pizza with my friends.\",\n",
    "    \"I like to go to the gym in the morning.\",\n",
    "    \"I like to play basketball with my friends.\",\n",
    "]\n",
    "\n",
    "embeddings = np.array(embed_model.get_text_embedding_batch(sample_documents))\n",
    "\n",
    "query = \"What do I like to do with friends?\"\n",
    "query_embedding = np.array(embed_model.get_text_embedding(query))"
   ]
  },
  {
   "cell_type": "code",
   "execution_count": 129,
   "metadata": {},
   "outputs": [
    {
     "data": {
      "text/plain": [
       "array([0.40551496, 0.65599524, 0.45809953, 0.64565545])"
      ]
     },
     "execution_count": 129,
     "metadata": {},
     "output_type": "execute_result"
    }
   ],
   "source": [
    "cosine_similarity(query_embedding.reshape(1, -1), embeddings).squeeze()"
   ]
  },
  {
   "cell_type": "markdown",
   "metadata": {},
   "source": [
    "## Hybrid search: query rewriting and reciprocal ranking\n",
    "\n",
    "Sometimes, you may want several methods of searching over your data, then combining the results.\n",
    "This is known as hybrid search.\n",
    "\n",
    "Haveing multiple retrievers may not mean having separate objects - we may just have multiple queries.\n",
    "In this example, we'll use an LLM to rewrite our query into multiple queries, then use a dense retriever to find the most relevant documents.\n",
    "Finally, we'll use reciprocal ranking to re-rank the results.\n"
   ]
  },
  {
   "cell_type": "code",
   "execution_count": 130,
   "metadata": {},
   "outputs": [],
   "source": [
    "from llama_index.core.retrievers import QueryFusionRetriever"
   ]
  },
  {
   "cell_type": "code",
   "execution_count": 148,
   "metadata": {},
   "outputs": [],
   "source": [
    "dense_retriever = index.as_retriever(similarity_top_k=5)\n",
    "hybrid_retriever = QueryFusionRetriever(\n",
    "    [dense_retriever],\n",
    "    num_queries=3,\n",
    "    use_async=False,\n",
    "    mode='reciprocal_rerank',\n",
    "    verbose=True\n",
    ")"
   ]
  },
  {
   "cell_type": "code",
   "execution_count": 156,
   "metadata": {},
   "outputs": [
    {
     "name": "stdout",
     "output_type": "stream",
     "text": [
      "Generated queries:\n",
      "How many languages are available on Wikipedia?\n",
      "What is the total number of Wikipedia language editions?\n"
     ]
    }
   ],
   "source": [
    "result = hybrid_retriever.retrieve(\"How many languages does wikipedia have?\")"
   ]
  },
  {
   "cell_type": "code",
   "execution_count": 157,
   "metadata": {},
   "outputs": [
    {
     "data": {
      "text/html": [
       "<pre style=\"white-space:pre;overflow-x:auto;line-height:normal;font-family:Menlo,'DejaVu Sans Mono',consolas,'Courier New',monospace\">## Language editions\n",
       "\n",
       "Main article: <span style=\"font-weight: bold\">[</span>List of Wikipedias<span style=\"font-weight: bold\">](</span><span style=\"color: #800080; text-decoration-color: #800080\">/wiki/</span><span style=\"color: #ff00ff; text-decoration-color: #ff00ff\">List_of_Wikipedias</span> \"List of\n",
       "Wikipedias\"<span style=\"font-weight: bold\">)</span>\n",
       "\n",
       "**Distribution of the <span style=\"color: #008080; text-decoration-color: #008080; font-weight: bold\">63</span>,<span style=\"color: #008080; text-decoration-color: #008080; font-weight: bold\">955</span>,<span style=\"color: #008080; text-decoration-color: #008080; font-weight: bold\">872</span> articles in different language editions <span style=\"font-weight: bold\">(</span>as\n",
       "of November <span style=\"color: #008080; text-decoration-color: #008080; font-weight: bold\">17</span>, <span style=\"color: #008080; text-decoration-color: #008080; font-weight: bold\">2024</span><span style=\"font-weight: bold\">)</span>**<span style=\"font-weight: bold\">[</span>W <span style=\"color: #008080; text-decoration-color: #008080; font-weight: bold\">42</span><span style=\"font-weight: bold\">]</span>\n",
       "\n",
       "<span style=\"font-weight: bold\">[</span>English<span style=\"font-weight: bold\">](</span><span style=\"color: #800080; text-decoration-color: #800080\">/wiki/</span><span style=\"color: #ff00ff; text-decoration-color: #ff00ff\">English_Wikipedia</span> <span style=\"color: #008000; text-decoration-color: #008000\">\"English Wikipedia\"</span><span style=\"font-weight: bold\">)</span> <span style=\"font-weight: bold\">(</span><span style=\"color: #008080; text-decoration-color: #008080; font-weight: bold\">10.8</span>%<span style=\"font-weight: bold\">)</span>\n",
       "\n",
       "<span style=\"font-weight: bold\">[</span>Cebuano<span style=\"font-weight: bold\">](</span><span style=\"color: #800080; text-decoration-color: #800080\">/wiki/</span><span style=\"color: #ff00ff; text-decoration-color: #ff00ff\">Cebuano_Wikipedia</span> <span style=\"color: #008000; text-decoration-color: #008000\">\"Cebuano Wikipedia\"</span><span style=\"font-weight: bold\">)</span> <span style=\"font-weight: bold\">(</span><span style=\"color: #008080; text-decoration-color: #008080; font-weight: bold\">9.6</span>%<span style=\"font-weight: bold\">)</span>\n",
       "\n",
       "<span style=\"font-weight: bold\">[</span>German<span style=\"font-weight: bold\">](</span><span style=\"color: #800080; text-decoration-color: #800080\">/wiki/</span><span style=\"color: #ff00ff; text-decoration-color: #ff00ff\">German_Wikipedia</span> <span style=\"color: #008000; text-decoration-color: #008000\">\"German Wikipedia\"</span><span style=\"font-weight: bold\">)</span> <span style=\"font-weight: bold\">(</span><span style=\"color: #008080; text-decoration-color: #008080; font-weight: bold\">4.6</span>%<span style=\"font-weight: bold\">)</span>\n",
       "\n",
       "<span style=\"font-weight: bold\">[</span>French<span style=\"font-weight: bold\">](</span><span style=\"color: #800080; text-decoration-color: #800080\">/wiki/</span><span style=\"color: #ff00ff; text-decoration-color: #ff00ff\">French_Wikipedia</span> <span style=\"color: #008000; text-decoration-color: #008000\">\"French Wikipedia\"</span><span style=\"font-weight: bold\">)</span> <span style=\"font-weight: bold\">(</span><span style=\"color: #008080; text-decoration-color: #008080; font-weight: bold\">4.1</span>%<span style=\"font-weight: bold\">)</span>\n",
       "\n",
       "<span style=\"font-weight: bold\">[</span>Swedish<span style=\"font-weight: bold\">](</span><span style=\"color: #800080; text-decoration-color: #800080\">/wiki/</span><span style=\"color: #ff00ff; text-decoration-color: #ff00ff\">Swedish_Wikipedia</span> <span style=\"color: #008000; text-decoration-color: #008000\">\"Swedish Wikipedia\"</span><span style=\"font-weight: bold\">)</span> <span style=\"font-weight: bold\">(</span><span style=\"color: #008080; text-decoration-color: #008080; font-weight: bold\">4.1</span>%<span style=\"font-weight: bold\">)</span>\n",
       "\n",
       "<span style=\"font-weight: bold\">[</span>Dutch<span style=\"font-weight: bold\">](</span><span style=\"color: #800080; text-decoration-color: #800080\">/wiki/</span><span style=\"color: #ff00ff; text-decoration-color: #ff00ff\">Dutch_Wikipedia</span> <span style=\"color: #008000; text-decoration-color: #008000\">\"Dutch Wikipedia\"</span><span style=\"font-weight: bold\">)</span> <span style=\"font-weight: bold\">(</span><span style=\"color: #008080; text-decoration-color: #008080; font-weight: bold\">3.4</span>%<span style=\"font-weight: bold\">)</span>\n",
       "\n",
       "<span style=\"font-weight: bold\">[</span>Russian<span style=\"font-weight: bold\">](</span><span style=\"color: #800080; text-decoration-color: #800080\">/wiki/</span><span style=\"color: #ff00ff; text-decoration-color: #ff00ff\">Russian_Wikipedia</span> <span style=\"color: #008000; text-decoration-color: #008000\">\"Russian Wikipedia\"</span><span style=\"font-weight: bold\">)</span> <span style=\"font-weight: bold\">(</span><span style=\"color: #008080; text-decoration-color: #008080; font-weight: bold\">3.1</span>%<span style=\"font-weight: bold\">)</span>\n",
       "\n",
       "<span style=\"font-weight: bold\">[</span>Spanish<span style=\"font-weight: bold\">](</span><span style=\"color: #800080; text-decoration-color: #800080\">/wiki/</span><span style=\"color: #ff00ff; text-decoration-color: #ff00ff\">Spanish_Wikipedia</span> <span style=\"color: #008000; text-decoration-color: #008000\">\"Spanish Wikipedia\"</span><span style=\"font-weight: bold\">)</span> <span style=\"font-weight: bold\">(</span><span style=\"color: #008080; text-decoration-color: #008080; font-weight: bold\">3.1</span>%<span style=\"font-weight: bold\">)</span>\n",
       "\n",
       "<span style=\"font-weight: bold\">[</span>Italian<span style=\"font-weight: bold\">](</span><span style=\"color: #800080; text-decoration-color: #800080\">/wiki/</span><span style=\"color: #ff00ff; text-decoration-color: #ff00ff\">Italian_Wikipedia</span> <span style=\"color: #008000; text-decoration-color: #008000\">\"Italian Wikipedia\"</span><span style=\"font-weight: bold\">)</span> <span style=\"font-weight: bold\">(</span><span style=\"color: #008080; text-decoration-color: #008080; font-weight: bold\">3</span>%<span style=\"font-weight: bold\">)</span>\n",
       "\n",
       "<span style=\"font-weight: bold\">[</span>Polish<span style=\"font-weight: bold\">](</span><span style=\"color: #800080; text-decoration-color: #800080\">/wiki/</span><span style=\"color: #ff00ff; text-decoration-color: #ff00ff\">Polish_Wikipedia</span> <span style=\"color: #008000; text-decoration-color: #008000\">\"Polish Wikipedia\"</span><span style=\"font-weight: bold\">)</span> <span style=\"font-weight: bold\">(</span><span style=\"color: #008080; text-decoration-color: #008080; font-weight: bold\">2.6</span>%<span style=\"font-weight: bold\">)</span>\n",
       "\n",
       "<span style=\"font-weight: bold\">[</span>Egyptian Arabic<span style=\"font-weight: bold\">](</span><span style=\"color: #800080; text-decoration-color: #800080\">/wiki/</span><span style=\"color: #ff00ff; text-decoration-color: #ff00ff\">Egyptian_Arabic_Wikipedia</span> <span style=\"color: #008000; text-decoration-color: #008000\">\"Egyptian Arabic Wikipedia\"</span><span style=\"font-weight: bold\">)</span>\n",
       "<span style=\"font-weight: bold\">(</span><span style=\"color: #008080; text-decoration-color: #008080; font-weight: bold\">2.5</span>%<span style=\"font-weight: bold\">)</span>\n",
       "\n",
       "<span style=\"font-weight: bold\">[</span>Chinese<span style=\"font-weight: bold\">](</span><span style=\"color: #800080; text-decoration-color: #800080\">/wiki/</span><span style=\"color: #ff00ff; text-decoration-color: #ff00ff\">Chinese_Wikipedia</span> <span style=\"color: #008000; text-decoration-color: #008000\">\"Chinese Wikipedia\"</span><span style=\"font-weight: bold\">)</span> <span style=\"font-weight: bold\">(</span><span style=\"color: #008080; text-decoration-color: #008080; font-weight: bold\">2.3</span>%<span style=\"font-weight: bold\">)</span>\n",
       "\n",
       "<span style=\"font-weight: bold\">[</span>Japanese<span style=\"font-weight: bold\">](</span><span style=\"color: #800080; text-decoration-color: #800080\">/wiki/</span><span style=\"color: #ff00ff; text-decoration-color: #ff00ff\">Japanese_Wikipedia</span> <span style=\"color: #008000; text-decoration-color: #008000\">\"Japanese Wikipedia\"</span><span style=\"font-weight: bold\">)</span> <span style=\"font-weight: bold\">(</span><span style=\"color: #008080; text-decoration-color: #008080; font-weight: bold\">2.2</span>%<span style=\"font-weight: bold\">)</span>\n",
       "\n",
       "<span style=\"font-weight: bold\">[</span>Ukrainian<span style=\"font-weight: bold\">](</span><span style=\"color: #800080; text-decoration-color: #800080\">/wiki/</span><span style=\"color: #ff00ff; text-decoration-color: #ff00ff\">Ukrainian_Wikipedia</span> <span style=\"color: #008000; text-decoration-color: #008000\">\"Ukrainian Wikipedia\"</span><span style=\"font-weight: bold\">)</span> <span style=\"font-weight: bold\">(</span><span style=\"color: #008080; text-decoration-color: #008080; font-weight: bold\">2.1</span>%<span style=\"font-weight: bold\">)</span>\n",
       "\n",
       "<span style=\"font-weight: bold\">[</span>Vietnamese<span style=\"font-weight: bold\">](</span><span style=\"color: #800080; text-decoration-color: #800080\">/wiki/</span><span style=\"color: #ff00ff; text-decoration-color: #ff00ff\">Vietnamese_Wikipedia</span> <span style=\"color: #008000; text-decoration-color: #008000\">\"Vietnamese Wikipedia\"</span><span style=\"font-weight: bold\">)</span> <span style=\"font-weight: bold\">(</span><span style=\"color: #008080; text-decoration-color: #008080; font-weight: bold\">2</span>%<span style=\"font-weight: bold\">)</span>\n",
       "\n",
       "<span style=\"font-weight: bold\">[</span>Waray<span style=\"font-weight: bold\">](</span><span style=\"color: #800080; text-decoration-color: #800080\">/wiki/</span><span style=\"color: #ff00ff; text-decoration-color: #ff00ff\">Waray_Wikipedia</span> <span style=\"color: #008000; text-decoration-color: #008000\">\"Waray Wikipedia\"</span><span style=\"font-weight: bold\">)</span> <span style=\"font-weight: bold\">(</span><span style=\"color: #008080; text-decoration-color: #008080; font-weight: bold\">2</span>%<span style=\"font-weight: bold\">)</span>\n",
       "\n",
       "<span style=\"font-weight: bold\">[</span>Arabic<span style=\"font-weight: bold\">](</span><span style=\"color: #800080; text-decoration-color: #800080\">/wiki/</span><span style=\"color: #ff00ff; text-decoration-color: #ff00ff\">Arabic_Wikipedia</span> <span style=\"color: #008000; text-decoration-color: #008000\">\"Arabic Wikipedia\"</span><span style=\"font-weight: bold\">)</span> <span style=\"font-weight: bold\">(</span><span style=\"color: #008080; text-decoration-color: #008080; font-weight: bold\">1.9</span>%<span style=\"font-weight: bold\">)</span>\n",
       "\n",
       "<span style=\"font-weight: bold\">[</span>Portuguese<span style=\"font-weight: bold\">](</span><span style=\"color: #800080; text-decoration-color: #800080\">/wiki/</span><span style=\"color: #ff00ff; text-decoration-color: #ff00ff\">Portuguese_Wikipedia</span> <span style=\"color: #008000; text-decoration-color: #008000\">\"Portuguese Wikipedia\"</span><span style=\"font-weight: bold\">)</span> <span style=\"font-weight: bold\">(</span><span style=\"color: #008080; text-decoration-color: #008080; font-weight: bold\">1.9</span>%<span style=\"font-weight: bold\">)</span>\n",
       "\n",
       "<span style=\"font-weight: bold\">[</span>Persian<span style=\"font-weight: bold\">](</span><span style=\"color: #800080; text-decoration-color: #800080\">/wiki/</span><span style=\"color: #ff00ff; text-decoration-color: #ff00ff\">Persian_Wikipedia</span> <span style=\"color: #008000; text-decoration-color: #008000\">\"Persian Wikipedia\"</span><span style=\"font-weight: bold\">)</span> <span style=\"font-weight: bold\">(</span><span style=\"color: #008080; text-decoration-color: #008080; font-weight: bold\">1.6</span>%<span style=\"font-weight: bold\">)</span>\n",
       "\n",
       "<span style=\"font-weight: bold\">[</span>Catalan<span style=\"font-weight: bold\">](</span><span style=\"color: #800080; text-decoration-color: #800080\">/wiki/</span><span style=\"color: #ff00ff; text-decoration-color: #ff00ff\">Catalan_Wikipedia</span> <span style=\"color: #008000; text-decoration-color: #008000\">\"Catalan Wikipedia\"</span><span style=\"font-weight: bold\">)</span> <span style=\"font-weight: bold\">(</span><span style=\"color: #008080; text-decoration-color: #008080; font-weight: bold\">1.2</span>%<span style=\"font-weight: bold\">)</span>\n",
       "\n",
       "Other <span style=\"font-weight: bold\">(</span><span style=\"color: #008080; text-decoration-color: #008080; font-weight: bold\">31.9</span>%<span style=\"font-weight: bold\">)</span>\n",
       "\n",
       "There are currently <span style=\"color: #008080; text-decoration-color: #008080; font-weight: bold\">339</span> language editions of Wikipedia <span style=\"font-weight: bold\">(</span>also called _language\n",
       "versions_ , or simply _Wikipedias_<span style=\"font-weight: bold\">)</span>. As of November <span style=\"color: #008080; text-decoration-color: #008080; font-weight: bold\">2024</span>, the six largest, in\n",
       "order of article count, are the <span style=\"font-weight: bold\">[</span>English<span style=\"font-weight: bold\">](</span><span style=\"color: #800080; text-decoration-color: #800080\">/wiki/</span><span style=\"color: #ff00ff; text-decoration-color: #ff00ff\">English_Wikipedia</span> \"English\n",
       "Wikipedia\"<span style=\"font-weight: bold\">)</span>, <span style=\"font-weight: bold\">[</span>Cebuano<span style=\"font-weight: bold\">](</span><span style=\"color: #800080; text-decoration-color: #800080\">/wiki/</span><span style=\"color: #ff00ff; text-decoration-color: #ff00ff\">Cebuano_Wikipedia</span> <span style=\"color: #008000; text-decoration-color: #008000\">\"Cebuano Wikipedia\"</span><span style=\"font-weight: bold\">)</span>,\n",
       "<span style=\"font-weight: bold\">[</span>German<span style=\"font-weight: bold\">](</span><span style=\"color: #800080; text-decoration-color: #800080\">/wiki/</span><span style=\"color: #ff00ff; text-decoration-color: #ff00ff\">German_Wikipedia</span> <span style=\"color: #008000; text-decoration-color: #008000\">\"German Wikipedia\"</span><span style=\"font-weight: bold\">)</span>,\n",
       "<span style=\"font-weight: bold\">[</span>French<span style=\"font-weight: bold\">](</span><span style=\"color: #800080; text-decoration-color: #800080\">/wiki/</span><span style=\"color: #ff00ff; text-decoration-color: #ff00ff\">French_Wikipedia</span> <span style=\"color: #008000; text-decoration-color: #008000\">\"French Wikipedia\"</span><span style=\"font-weight: bold\">)</span>,\n",
       "<span style=\"font-weight: bold\">[</span>Swedish<span style=\"font-weight: bold\">](</span><span style=\"color: #800080; text-decoration-color: #800080\">/wiki/</span><span style=\"color: #ff00ff; text-decoration-color: #ff00ff\">Swedish_Wikipedia</span> <span style=\"color: #008000; text-decoration-color: #008000\">\"Swedish Wikipedia\"</span><span style=\"font-weight: bold\">)</span>, and\n",
       "<span style=\"font-weight: bold\">[</span>Dutch<span style=\"font-weight: bold\">](</span><span style=\"color: #800080; text-decoration-color: #800080\">/wiki/</span><span style=\"color: #ff00ff; text-decoration-color: #ff00ff\">Dutch_Wikipedia</span> <span style=\"color: #008000; text-decoration-color: #008000\">\"Dutch Wikipedia\"</span><span style=\"font-weight: bold\">)</span> Wikipedias.<span style=\"font-weight: bold\">[</span>W <span style=\"color: #008080; text-decoration-color: #008080; font-weight: bold\">43</span><span style=\"font-weight: bold\">]</span> The second\n",
       "and fifth-largest Wikipedias owe their position to the article-creating bot\n",
       "<span style=\"font-weight: bold\">[</span>Lsjbot<span style=\"font-weight: bold\">](</span><span style=\"color: #800080; text-decoration-color: #800080\">/wiki/</span><span style=\"color: #ff00ff; text-decoration-color: #ff00ff\">Lsjbot</span> <span style=\"color: #008000; text-decoration-color: #008000\">\"Lsjbot\"</span><span style=\"font-weight: bold\">)</span>, which as of\n",
       "<span style=\"color: #008080; text-decoration-color: #008080; font-weight: bold\">2013</span><span style=\"font-weight: bold\">[](</span><span style=\"color: #0000ff; text-decoration-color: #0000ff; text-decoration: underline\">https://en.wikipedia.org/w/index.php?title=Wikipedia&amp;action=edit)</span>\n",
       "had created about half the articles on the <span style=\"font-weight: bold\">[</span>Swedish\n",
       "Wikipedia<span style=\"font-weight: bold\">](</span><span style=\"color: #800080; text-decoration-color: #800080\">/wiki/</span><span style=\"color: #ff00ff; text-decoration-color: #ff00ff\">Swedish_Wikipedia</span> <span style=\"color: #008000; text-decoration-color: #008000\">\"Swedish Wikipedia\"</span><span style=\"font-weight: bold\">)</span>, and most of the\n",
       "articles in the <span style=\"font-weight: bold\">[</span>Cebuano<span style=\"font-weight: bold\">](</span><span style=\"color: #800080; text-decoration-color: #800080\">/wiki/</span><span style=\"color: #ff00ff; text-decoration-color: #ff00ff\">Cebuano_Wikipedia</span> <span style=\"color: #008000; text-decoration-color: #008000\">\"Cebuano Wikipedia\"</span><span style=\"font-weight: bold\">)</span> and\n",
       "<span style=\"font-weight: bold\">[</span>Waray Wikipedias<span style=\"font-weight: bold\">](</span><span style=\"color: #800080; text-decoration-color: #800080\">/wiki/</span><span style=\"color: #ff00ff; text-decoration-color: #ff00ff\">Waray_Wikipedia</span> <span style=\"color: #008000; text-decoration-color: #008000\">\"Waray Wikipedia\"</span><span style=\"font-weight: bold\">)</span>. The latter are\n",
       "both languages of the <span style=\"font-weight: bold\">[</span>Philippines<span style=\"font-weight: bold\">](</span><span style=\"color: #800080; text-decoration-color: #800080\">/wiki/</span><span style=\"color: #ff00ff; text-decoration-color: #ff00ff\">Philippines</span> <span style=\"color: #008000; text-decoration-color: #008000\">\"Philippines\"</span><span style=\"font-weight: bold\">)</span>.\n",
       "\n",
       "In addition to the top six, twelve other Wikipedias have more than a million\n",
       "articles each <span style=\"font-weight: bold\">([</span>Russian<span style=\"font-weight: bold\">](</span><span style=\"color: #800080; text-decoration-color: #800080\">/wiki/</span><span style=\"color: #ff00ff; text-decoration-color: #ff00ff\">Russian_Wikipedia</span> <span style=\"color: #008000; text-decoration-color: #008000\">\"Russian Wikipedia\"</span><span style=\"font-weight: bold\">)</span>,\n",
       "<span style=\"font-weight: bold\">[</span>Spanish<span style=\"font-weight: bold\">](</span><span style=\"color: #800080; text-decoration-color: #800080\">/wiki/</span><span style=\"color: #ff00ff; text-decoration-color: #ff00ff\">Spanish_Wikipedia</span> <span style=\"color: #008000; text-decoration-color: #008000\">\"Spanish Wikipedia\"</span><span style=\"font-weight: bold\">)</span>,\n",
       "<span style=\"font-weight: bold\">[</span>Italian<span style=\"font-weight: bold\">](</span><span style=\"color: #800080; text-decoration-color: #800080\">/wiki/</span><span style=\"color: #ff00ff; text-decoration-color: #ff00ff\">Italian_Wikipedia</span> <span style=\"color: #008000; text-decoration-color: #008000\">\"Italian Wikipedia\"</span><span style=\"font-weight: bold\">)</span>,\n",
       "<span style=\"font-weight: bold\">[</span>Polish<span style=\"font-weight: bold\">](</span><span style=\"color: #800080; text-decoration-color: #800080\">/wiki/</span><span style=\"color: #ff00ff; text-decoration-color: #ff00ff\">Polish_Wikipedia</span> <span style=\"color: #008000; text-decoration-color: #008000\">\"Polish Wikipedia\"</span><span style=\"font-weight: bold\">)</span>, <span style=\"font-weight: bold\">[</span>Egyptian\n",
       "Arabic<span style=\"font-weight: bold\">](</span><span style=\"color: #800080; text-decoration-color: #800080\">/wiki/</span><span style=\"color: #ff00ff; text-decoration-color: #ff00ff\">Egyptian_Arabic_Wikipedia</span> <span style=\"color: #008000; text-decoration-color: #008000\">\"Egyptian Arabic Wikipedia\"</span><span style=\"font-weight: bold\">)</span>,\n",
       "<span style=\"font-weight: bold\">[</span>Chinese<span style=\"font-weight: bold\">](</span><span style=\"color: #800080; text-decoration-color: #800080\">/wiki/</span><span style=\"color: #ff00ff; text-decoration-color: #ff00ff\">Chinese_Wikipedia</span> <span style=\"color: #008000; text-decoration-color: #008000\">\"Chinese Wikipedia\"</span><span style=\"font-weight: bold\">)</span>,\n",
       "<span style=\"font-weight: bold\">[</span>Japanese<span style=\"font-weight: bold\">](</span><span style=\"color: #800080; text-decoration-color: #800080\">/wiki/</span><span style=\"color: #ff00ff; text-decoration-color: #ff00ff\">Japanese_Wikipedia</span> <span style=\"color: #008000; text-decoration-color: #008000\">\"Japanese Wikipedia\"</span><span style=\"font-weight: bold\">)</span>,\n",
       "<span style=\"font-weight: bold\">[</span>Ukrainian<span style=\"font-weight: bold\">](</span><span style=\"color: #800080; text-decoration-color: #800080\">/wiki/</span><span style=\"color: #ff00ff; text-decoration-color: #ff00ff\">Ukrainian_Wikipedia</span> <span style=\"color: #008000; text-decoration-color: #008000\">\"Ukrainian Wikipedia\"</span><span style=\"font-weight: bold\">)</span>,\n",
       "<span style=\"font-weight: bold\">[</span>Vietnamese<span style=\"font-weight: bold\">](</span><span style=\"color: #800080; text-decoration-color: #800080\">/wiki/</span><span style=\"color: #ff00ff; text-decoration-color: #ff00ff\">Vietnamese_Wikipedia</span> <span style=\"color: #008000; text-decoration-color: #008000\">\"Vietnamese Wikipedia\"</span><span style=\"font-weight: bold\">)</span>,\n",
       "<span style=\"font-weight: bold\">[</span>Waray<span style=\"font-weight: bold\">](</span><span style=\"color: #800080; text-decoration-color: #800080\">/wiki/</span><span style=\"color: #ff00ff; text-decoration-color: #ff00ff\">Waray_Wikipedia</span> <span style=\"color: #008000; text-decoration-color: #008000\">\"Waray Wikipedia\"</span><span style=\"font-weight: bold\">)</span>,\n",
       "<span style=\"font-weight: bold\">[</span>Arabic<span style=\"font-weight: bold\">](</span><span style=\"color: #800080; text-decoration-color: #800080\">/wiki/</span><span style=\"color: #ff00ff; text-decoration-color: #ff00ff\">Arabic_Wikipedia</span> <span style=\"color: #008000; text-decoration-color: #008000\">\"Arabic Wikipedia\"</span><span style=\"font-weight: bold\">)</span>, and\n",
       "<span style=\"font-weight: bold\">[</span>Portuguese<span style=\"font-weight: bold\">](</span><span style=\"color: #800080; text-decoration-color: #800080\">/wiki/</span><span style=\"color: #ff00ff; text-decoration-color: #ff00ff\">Portuguese_Wikipedia</span> <span style=\"color: #008000; text-decoration-color: #008000\">\"Portuguese Wikipedia\"</span><span style=\"font-weight: bold\">))</span>, seven more\n",
       "have over <span style=\"color: #008080; text-decoration-color: #008080; font-weight: bold\">500</span>,<span style=\"color: #008080; text-decoration-color: #008080; font-weight: bold\">000</span> articles <span style=\"font-weight: bold\">([</span>Persian<span style=\"font-weight: bold\">](</span><span style=\"color: #800080; text-decoration-color: #800080\">/wiki/</span><span style=\"color: #ff00ff; text-decoration-color: #ff00ff\">Persian_Wikipedia</span> \"Persian\n",
       "Wikipedia\"<span style=\"font-weight: bold\">)</span>, <span style=\"font-weight: bold\">[</span>Catalan<span style=\"font-weight: bold\">](</span><span style=\"color: #800080; text-decoration-color: #800080\">/wiki/</span><span style=\"color: #ff00ff; text-decoration-color: #ff00ff\">Catalan_Wikipedia</span> <span style=\"color: #008000; text-decoration-color: #008000\">\"Catalan Wikipedia\"</span><span style=\"font-weight: bold\">)</span>,\n",
       "<span style=\"font-weight: bold\">[</span>Indonesian<span style=\"font-weight: bold\">](</span><span style=\"color: #800080; text-decoration-color: #800080\">/wiki/</span><span style=\"color: #ff00ff; text-decoration-color: #ff00ff\">Indonesian_Wikipedia</span> <span style=\"color: #008000; text-decoration-color: #008000\">\"Indonesian Wikipedia\"</span><span style=\"font-weight: bold\">)</span>,\n",
       "<span style=\"font-weight: bold\">[</span>Serbian<span style=\"font-weight: bold\">](</span><span style=\"color: #800080; text-decoration-color: #800080\">/wiki/</span><span style=\"color: #ff00ff; text-decoration-color: #ff00ff\">Serbian_Wikipedia</span> <span style=\"color: #008000; text-decoration-color: #008000\">\"Serbian Wikipedia\"</span><span style=\"font-weight: bold\">)</span>,\n",
       "<span style=\"font-weight: bold\">[</span>Korean<span style=\"font-weight: bold\">](</span><span style=\"color: #800080; text-decoration-color: #800080\">/wiki/</span><span style=\"color: #ff00ff; text-decoration-color: #ff00ff\">Korean_Wikipedia</span> <span style=\"color: #008000; text-decoration-color: #008000\">\"Korean Wikipedia\"</span><span style=\"font-weight: bold\">)</span>,\n",
       "<span style=\"font-weight: bold\">[</span>Norwegian<span style=\"font-weight: bold\">](</span><span style=\"color: #800080; text-decoration-color: #800080\">/wiki/</span><span style=\"color: #ff00ff; text-decoration-color: #ff00ff\">Norwegian_Wikipedia</span> <span style=\"color: #008000; text-decoration-color: #008000\">\"Norwegian Wikipedia\"</span><span style=\"font-weight: bold\">)</span>, and\n",
       "<span style=\"font-weight: bold\">[</span>Turkish<span style=\"font-weight: bold\">](</span><span style=\"color: #800080; text-decoration-color: #800080\">/wiki/</span><span style=\"color: #ff00ff; text-decoration-color: #ff00ff\">Turkish_Wikipedia</span> <span style=\"color: #008000; text-decoration-color: #008000\">\"Turkish Wikipedia\"</span><span style=\"font-weight: bold\">))</span>, <span style=\"color: #008080; text-decoration-color: #008080; font-weight: bold\">44</span> more have over\n",
       "<span style=\"color: #008080; text-decoration-color: #008080; font-weight: bold\">100</span>,<span style=\"color: #008080; text-decoration-color: #008080; font-weight: bold\">000</span>, and <span style=\"color: #008080; text-decoration-color: #008080; font-weight: bold\">82</span> more have over <span style=\"color: #008080; text-decoration-color: #008080; font-weight: bold\">10</span>,<span style=\"color: #008080; text-decoration-color: #008080; font-weight: bold\">000</span>.<span style=\"font-weight: bold\">[</span>W <span style=\"color: #008080; text-decoration-color: #008080; font-weight: bold\">44</span><span style=\"font-weight: bold\">][</span>W <span style=\"color: #008080; text-decoration-color: #008080; font-weight: bold\">43</span><span style=\"font-weight: bold\">]</span> The largest, the English\n",
       "Wikipedia, has over <span style=\"color: #008080; text-decoration-color: #008080; font-weight: bold\">6.9</span> million articles. As of January\n",
       "<span style=\"color: #008080; text-decoration-color: #008080; font-weight: bold\">2021</span>,<span style=\"font-weight: bold\">[](</span><span style=\"color: #0000ff; text-decoration-color: #0000ff; text-decoration: underline\">https://en.wikipedia.org/w/index.php?title=Wikipedia&amp;action=edit)</span>\n",
       "the English Wikipedia receives <span style=\"color: #008080; text-decoration-color: #008080; font-weight: bold\">48</span>% of Wikipedia's cumulative traffic, with the\n",
       "remaining split among the other languages. The top <span style=\"color: #008080; text-decoration-color: #008080; font-weight: bold\">10</span> editions represent\n",
       "approximately <span style=\"color: #008080; text-decoration-color: #008080; font-weight: bold\">85</span>% of the total traffic.<span style=\"font-weight: bold\">[</span>W <span style=\"color: #008080; text-decoration-color: #008080; font-weight: bold\">45</span><span style=\"font-weight: bold\">]</span>\n",
       "\n",
       "  * <span style=\"font-weight: bold\">[</span>!<span style=\"font-weight: bold\">[</span>Most viewed editions of Wikipedia, \n",
       "<span style=\"color: #008080; text-decoration-color: #008080; font-weight: bold\">2008</span>–<span style=\"color: #008080; text-decoration-color: #008080; font-weight: bold\">2020</span><span style=\"font-weight: bold\">](</span><span style=\"color: #800080; text-decoration-color: #800080\">//upload.wikimedia.org/wikipedia/commons/thumb/6/61/Wikipedia_page_views_by_language_over_time.png/</span><span style=\"color: #ff00ff; text-decoration-color: #ff00ff\">456px</span>\n",
       "<span style=\"color: #ff00ff; text-decoration-color: #ff00ff\">-Wikipedia_page_views_by_language_over_time.png</span><span style=\"font-weight: bold\">)](</span><span style=\"color: #800080; text-decoration-color: #800080\">/wiki/</span><span style=\"color: #ff00ff; text-decoration-color: #ff00ff\">File</span>:Wikipedia_page_views_by_language_over_time.png <span style=\"color: #008000; text-decoration-color: #008000\">\"Most </span>\n",
       "<span style=\"color: #008000; text-decoration-color: #008000\">viewed editions of Wikipedia, 2008–2020\"</span><span style=\"font-weight: bold\">)</span>\n",
       "\n",
       "Most viewed editions of Wikipedia, <span style=\"color: #008080; text-decoration-color: #008080; font-weight: bold\">2008</span>–<span style=\"color: #008080; text-decoration-color: #008080; font-weight: bold\">2020</span>\n",
       "\n",
       "  * <span style=\"font-weight: bold\">[</span>!<span style=\"font-weight: bold\">[</span>Most edited editions of Wikipedia, \n",
       "<span style=\"color: #008080; text-decoration-color: #008080; font-weight: bold\">2001</span>–<span style=\"color: #008080; text-decoration-color: #008080; font-weight: bold\">2020</span><span style=\"font-weight: bold\">](</span><span style=\"color: #800080; text-decoration-color: #800080\">//upload.wikimedia.org/wikipedia/commons/thumb/9/9b/Wikipedia_editors_by_language_over_time.png/</span><span style=\"color: #ff00ff; text-decoration-color: #ff00ff\">458px-Wi</span>\n",
       "<span style=\"color: #ff00ff; text-decoration-color: #ff00ff\">kipedia_editors_by_language_over_time.png</span><span style=\"font-weight: bold\">)](</span><span style=\"color: #800080; text-decoration-color: #800080\">/wiki/</span><span style=\"color: #ff00ff; text-decoration-color: #ff00ff\">File</span>:Wikipedia_editors_by_language_over_time.png <span style=\"color: #008000; text-decoration-color: #008000\">\"Most edited </span>\n",
       "<span style=\"color: #008000; text-decoration-color: #008000\">editions of Wikipedia, 2001–2020\"</span><span style=\"font-weight: bold\">)</span>\n",
       "\n",
       "Most edited editions of Wikipedia, <span style=\"color: #008080; text-decoration-color: #008080; font-weight: bold\">2001</span>–<span style=\"color: #008080; text-decoration-color: #008080; font-weight: bold\">2020</span>\n",
       "\n",
       "**Articles in the <span style=\"color: #008080; text-decoration-color: #008080; font-weight: bold\">20</span> largest language editions of Wikipedia**  \n",
       "<span style=\"font-weight: bold\">(</span>as of <span style=\"color: #008080; text-decoration-color: #008080; font-weight: bold\">17</span> November <span style=\"color: #008080; text-decoration-color: #008080; font-weight: bold\">2024</span><span style=\"font-weight: bold\">)[</span><span style=\"color: #008080; text-decoration-color: #008080; font-weight: bold\">124</span><span style=\"font-weight: bold\">]</span>  \n",
       "<span style=\"color: #008080; text-decoration-color: #008080; font-weight: bold\">1</span>  | <span style=\"color: #008080; text-decoration-color: #008080; font-weight: bold\">2</span>  | <span style=\"color: #008080; text-decoration-color: #008080; font-weight: bold\">3</span>  | <span style=\"color: #008080; text-decoration-color: #008080; font-weight: bold\">4</span>  | <span style=\"color: #008080; text-decoration-color: #008080; font-weight: bold\">5</span>  | <span style=\"color: #008080; text-decoration-color: #008080; font-weight: bold\">6</span>  | <span style=\"color: #008080; text-decoration-color: #008080; font-weight: bold\">7</span>   \n",
       "---|---|---|---|---|---|---  \n",
       "|  |  |  |  |  |  |  |  |  |  |  |  |   \n",
       "  \n",
       "|  \n",
       "---  \n",
       "<span style=\"font-weight: bold\">[</span>English<span style=\"font-weight: bold\">](</span><span style=\"color: #800080; text-decoration-color: #800080\">/wiki/</span><span style=\"color: #ff00ff; text-decoration-color: #ff00ff\">English_Wikipedia</span> <span style=\"color: #008000; text-decoration-color: #008000\">\"English Wikipedia\"</span><span style=\"font-weight: bold\">)</span> <span style=\"color: #008080; text-decoration-color: #008080; font-weight: bold\">6</span>,<span style=\"color: #008080; text-decoration-color: #008080; font-weight: bold\">911</span>,<span style=\"color: #008080; text-decoration-color: #008080; font-weight: bold\">762</span>  \n",
       "<span style=\"font-weight: bold\">[</span>Cebuano<span style=\"font-weight: bold\">](</span><span style=\"color: #800080; text-decoration-color: #800080\">/wiki/</span><span style=\"color: #ff00ff; text-decoration-color: #ff00ff\">Cebuano_Wikipedia</span> <span style=\"color: #008000; text-decoration-color: #008000\">\"Cebuano Wikipedia\"</span><span style=\"font-weight: bold\">)</span> <span style=\"color: #008080; text-decoration-color: #008080; font-weight: bold\">6</span>,<span style=\"color: #008080; text-decoration-color: #008080; font-weight: bold\">116</span>,<span style=\"color: #008080; text-decoration-color: #008080; font-weight: bold\">960</span>  \n",
       "<span style=\"font-weight: bold\">[</span>German<span style=\"font-weight: bold\">](</span><span style=\"color: #800080; text-decoration-color: #800080\">/wiki/</span><span style=\"color: #ff00ff; text-decoration-color: #ff00ff\">German_Wikipedia</span> <span style=\"color: #008000; text-decoration-color: #008000\">\"German Wikipedia\"</span><span style=\"font-weight: bold\">)</span> <span style=\"color: #008080; text-decoration-color: #008080; font-weight: bold\">2</span>,<span style=\"color: #008080; text-decoration-color: #008080; font-weight: bold\">959</span>,<span style=\"color: #008080; text-decoration-color: #008080; font-weight: bold\">517</span>  \n",
       "<span style=\"font-weight: bold\">[</span>French<span style=\"font-weight: bold\">](</span><span style=\"color: #800080; text-decoration-color: #800080\">/wiki/</span><span style=\"color: #ff00ff; text-decoration-color: #ff00ff\">French_Wikipedia</span> <span style=\"color: #008000; text-decoration-color: #008000\">\"French Wikipedia\"</span><span style=\"font-weight: bold\">)</span> <span style=\"color: #008080; text-decoration-color: #008080; font-weight: bold\">2</span>,<span style=\"color: #008080; text-decoration-color: #008080; font-weight: bold\">647</span>,<span style=\"color: #008080; text-decoration-color: #008080; font-weight: bold\">536</span>  \n",
       "<span style=\"font-weight: bold\">[</span>Swedish<span style=\"font-weight: bold\">](</span><span style=\"color: #800080; text-decoration-color: #800080\">/wiki/</span><span style=\"color: #ff00ff; text-decoration-color: #ff00ff\">Swedish_Wikipedia</span> <span style=\"color: #008000; text-decoration-color: #008000\">\"Swedish Wikipedia\"</span><span style=\"font-weight: bold\">)</span> <span style=\"color: #008080; text-decoration-color: #008080; font-weight: bold\">2</span>,<span style=\"color: #008080; text-decoration-color: #008080; font-weight: bold\">597</span>,<span style=\"color: #008080; text-decoration-color: #008080; font-weight: bold\">548</span>  \n",
       "<span style=\"font-weight: bold\">[</span>Dutch<span style=\"font-weight: bold\">](</span><span style=\"color: #800080; text-decoration-color: #800080\">/wiki/</span><span style=\"color: #ff00ff; text-decoration-color: #ff00ff\">Dutch_Wikipedia</span> <span style=\"color: #008000; text-decoration-color: #008000\">\"Dutch Wikipedia\"</span><span style=\"font-weight: bold\">)</span> <span style=\"color: #008080; text-decoration-color: #008080; font-weight: bold\">2</span>,<span style=\"color: #008080; text-decoration-color: #008080; font-weight: bold\">171</span>,<span style=\"color: #008080; text-decoration-color: #008080; font-weight: bold\">853</span>  \n",
       "<span style=\"font-weight: bold\">[</span>Russian<span style=\"font-weight: bold\">](</span><span style=\"color: #800080; text-decoration-color: #800080\">/wiki/</span><span style=\"color: #ff00ff; text-decoration-color: #ff00ff\">Russian_Wikipedia</span> <span style=\"color: #008000; text-decoration-color: #008000\">\"Russian Wikipedia\"</span><span style=\"font-weight: bold\">)</span> <span style=\"color: #008080; text-decoration-color: #008080; font-weight: bold\">2</span>,<span style=\"color: #008080; text-decoration-color: #008080; font-weight: bold\">009</span>,<span style=\"color: #008080; text-decoration-color: #008080; font-weight: bold\">969</span>  \n",
       "<span style=\"font-weight: bold\">[</span>Spanish<span style=\"font-weight: bold\">](</span><span style=\"color: #800080; text-decoration-color: #800080\">/wiki/</span><span style=\"color: #ff00ff; text-decoration-color: #ff00ff\">Spanish_Wikipedia</span> <span style=\"color: #008000; text-decoration-color: #008000\">\"Spanish Wikipedia\"</span><span style=\"font-weight: bold\">)</span> <span style=\"color: #008080; text-decoration-color: #008080; font-weight: bold\">1</span>,<span style=\"color: #008080; text-decoration-color: #008080; font-weight: bold\">989</span>,<span style=\"color: #008080; text-decoration-color: #008080; font-weight: bold\">852</span>  \n",
       "<span style=\"font-weight: bold\">[</span>Italian<span style=\"font-weight: bold\">](</span><span style=\"color: #800080; text-decoration-color: #800080\">/wiki/</span><span style=\"color: #ff00ff; text-decoration-color: #ff00ff\">Italian_Wikipedia</span> <span style=\"color: #008000; text-decoration-color: #008000\">\"Italian Wikipedia\"</span><span style=\"font-weight: bold\">)</span> <span style=\"color: #008080; text-decoration-color: #008080; font-weight: bold\">1</span>,<span style=\"color: #008080; text-decoration-color: #008080; font-weight: bold\">891</span>,<span style=\"color: #008080; text-decoration-color: #008080; font-weight: bold\">382</span>  \n",
       "<span style=\"font-weight: bold\">[</span>Polish<span style=\"font-weight: bold\">](</span><span style=\"color: #800080; text-decoration-color: #800080\">/wiki/</span><span style=\"color: #ff00ff; text-decoration-color: #ff00ff\">Polish_Wikipedia</span> <span style=\"color: #008000; text-decoration-color: #008000\">\"Polish Wikipedia\"</span><span style=\"font-weight: bold\">)</span> <span style=\"color: #008080; text-decoration-color: #008080; font-weight: bold\">1</span>,<span style=\"color: #008080; text-decoration-color: #008080; font-weight: bold\">634</span>,<span style=\"color: #008080; text-decoration-color: #008080; font-weight: bold\">833</span>  \n",
       "<span style=\"font-weight: bold\">[</span>Egyptian Arabic<span style=\"font-weight: bold\">](</span><span style=\"color: #800080; text-decoration-color: #800080\">/wiki/</span><span style=\"color: #ff00ff; text-decoration-color: #ff00ff\">Egyptian_Arabic_Wikipedia</span> <span style=\"color: #008000; text-decoration-color: #008000\">\"Egyptian Arabic Wikipedia\"</span><span style=\"font-weight: bold\">)</span>\n",
       "<span style=\"color: #008080; text-decoration-color: #008080; font-weight: bold\">1</span>,<span style=\"color: #008080; text-decoration-color: #008080; font-weight: bold\">625</span>,<span style=\"color: #008080; text-decoration-color: #008080; font-weight: bold\">528</span>  \n",
       "<span style=\"font-weight: bold\">[</span>Chinese<span style=\"font-weight: bold\">](</span><span style=\"color: #800080; text-decoration-color: #800080\">/wiki/</span><span style=\"color: #ff00ff; text-decoration-color: #ff00ff\">Chinese_Wikipedia</span> <span style=\"color: #008000; text-decoration-color: #008000\">\"Chinese Wikipedia\"</span><span style=\"font-weight: bold\">)</span> <span style=\"color: #008080; text-decoration-color: #008080; font-weight: bold\">1</span>,<span style=\"color: #008080; text-decoration-color: #008080; font-weight: bold\">450</span>,<span style=\"color: #008080; text-decoration-color: #008080; font-weight: bold\">974</span>  \n",
       "<span style=\"font-weight: bold\">[</span>Japanese<span style=\"font-weight: bold\">](</span><span style=\"color: #800080; text-decoration-color: #800080\">/wiki/</span><span style=\"color: #ff00ff; text-decoration-color: #ff00ff\">Japanese_Wikipedia</span> <span style=\"color: #008000; text-decoration-color: #008000\">\"Japanese Wikipedia\"</span><span style=\"font-weight: bold\">)</span> <span style=\"color: #008080; text-decoration-color: #008080; font-weight: bold\">1</span>,<span style=\"color: #008080; text-decoration-color: #008080; font-weight: bold\">437</span>,<span style=\"color: #008080; text-decoration-color: #008080; font-weight: bold\">221</span>  \n",
       "<span style=\"font-weight: bold\">[</span>Ukrainian<span style=\"font-weight: bold\">](</span><span style=\"color: #800080; text-decoration-color: #800080\">/wiki/</span><span style=\"color: #ff00ff; text-decoration-color: #ff00ff\">Ukrainian_Wikipedia</span> <span style=\"color: #008000; text-decoration-color: #008000\">\"Ukrainian Wikipedia\"</span><span style=\"font-weight: bold\">)</span> <span style=\"color: #008080; text-decoration-color: #008080; font-weight: bold\">1</span>,<span style=\"color: #008080; text-decoration-color: #008080; font-weight: bold\">353</span>,<span style=\"color: #008080; text-decoration-color: #008080; font-weight: bold\">293</span>  \n",
       "<span style=\"font-weight: bold\">[</span>Vietnamese<span style=\"font-weight: bold\">](</span><span style=\"color: #800080; text-decoration-color: #800080\">/wiki/</span><span style=\"color: #ff00ff; text-decoration-color: #ff00ff\">Vietnamese_Wikipedia</span> <span style=\"color: #008000; text-decoration-color: #008000\">\"Vietnamese Wikipedia\"</span><span style=\"font-weight: bold\">)</span> <span style=\"color: #008080; text-decoration-color: #008080; font-weight: bold\">1</span>,<span style=\"color: #008080; text-decoration-color: #008080; font-weight: bold\">294</span>,<span style=\"color: #008080; text-decoration-color: #008080; font-weight: bold\">264</span>  \n",
       "<span style=\"font-weight: bold\">[</span>Waray<span style=\"font-weight: bold\">](</span><span style=\"color: #800080; text-decoration-color: #800080\">/wiki/</span><span style=\"color: #ff00ff; text-decoration-color: #ff00ff\">Waray_Wikipedia</span> <span style=\"color: #008000; text-decoration-color: #008000\">\"Waray Wikipedia\"</span><span style=\"font-weight: bold\">)</span> <span style=\"color: #008080; text-decoration-color: #008080; font-weight: bold\">1</span>,<span style=\"color: #008080; text-decoration-color: #008080; font-weight: bold\">266</span>,<span style=\"color: #008080; text-decoration-color: #008080; font-weight: bold\">605</span>  \n",
       "<span style=\"font-weight: bold\">[</span>Arabic<span style=\"font-weight: bold\">](</span><span style=\"color: #800080; text-decoration-color: #800080\">/wiki/</span><span style=\"color: #ff00ff; text-decoration-color: #ff00ff\">Arabic_Wikipedia</span> <span style=\"color: #008000; text-decoration-color: #008000\">\"Arabic Wikipedia\"</span><span style=\"font-weight: bold\">)</span> <span style=\"color: #008080; text-decoration-color: #008080; font-weight: bold\">1</span>,<span style=\"color: #008080; text-decoration-color: #008080; font-weight: bold\">245</span>,<span style=\"color: #008080; text-decoration-color: #008080; font-weight: bold\">741</span>  \n",
       "<span style=\"font-weight: bold\">[</span>Portuguese<span style=\"font-weight: bold\">](</span><span style=\"color: #800080; text-decoration-color: #800080\">/wiki/</span><span style=\"color: #ff00ff; text-decoration-color: #ff00ff\">Portuguese_Wikipedia</span> <span style=\"color: #008000; text-decoration-color: #008000\">\"Portuguese Wikipedia\"</span><span style=\"font-weight: bold\">)</span> <span style=\"color: #008080; text-decoration-color: #008080; font-weight: bold\">1</span>,<span style=\"color: #008080; text-decoration-color: #008080; font-weight: bold\">138</span>,<span style=\"color: #008080; text-decoration-color: #008080; font-weight: bold\">051</span>  \n",
       "<span style=\"font-weight: bold\">[</span>Persian<span style=\"font-weight: bold\">](</span><span style=\"color: #800080; text-decoration-color: #800080\">/wiki/</span><span style=\"color: #ff00ff; text-decoration-color: #ff00ff\">Persian_Wikipedia</span> <span style=\"color: #008000; text-decoration-color: #008000\">\"Persian Wikipedia\"</span><span style=\"font-weight: bold\">)</span> <span style=\"color: #008080; text-decoration-color: #008080; font-weight: bold\">1</span>,<span style=\"color: #008080; text-decoration-color: #008080; font-weight: bold\">019</span>,<span style=\"color: #008080; text-decoration-color: #008080; font-weight: bold\">113</span>  \n",
       "<span style=\"font-weight: bold\">[</span>Catalan<span style=\"font-weight: bold\">](</span><span style=\"color: #800080; text-decoration-color: #800080\">/wiki/</span><span style=\"color: #ff00ff; text-decoration-color: #ff00ff\">Catalan_Wikipedia</span> <span style=\"color: #008000; text-decoration-color: #008000\">\"Catalan Wikipedia\"</span><span style=\"font-weight: bold\">)</span> <span style=\"color: #008080; text-decoration-color: #008080; font-weight: bold\">763</span>,<span style=\"color: #008080; text-decoration-color: #008080; font-weight: bold\">232</span>  \n",
       "  \n",
       "Since Wikipedia is based on the <span style=\"font-weight: bold\">[</span>Web<span style=\"font-weight: bold\">](</span><span style=\"color: #800080; text-decoration-color: #800080\">/wiki/</span><span style=\"color: #ff00ff; text-decoration-color: #ff00ff\">World_Wide_Web</span> <span style=\"color: #008000; text-decoration-color: #008000\">\"World Wide Web\"</span><span style=\"font-weight: bold\">)</span>\n",
       "and therefore worldwide, contributors to the same language edition may use\n",
       "different dialects or may come from different countries <span style=\"font-weight: bold\">(</span>as is the case for\n",
       "the English edition<span style=\"font-weight: bold\">)</span>. These differences may lead to some conflicts over\n",
       "<span style=\"font-weight: bold\">(</span><span style=\"color: #800080; text-decoration-color: #800080\">/wiki/</span><span style=\"color: #ff00ff; text-decoration-color: #ff00ff\">American_and_British_English_spelling_differences</span>\n",
       "<span style=\"color: #008000; text-decoration-color: #008000\">\"American and British English spelling differences\"</span><span style=\"font-weight: bold\">)</span> <span style=\"font-weight: bold\">(</span>e.g. _colour_ versus\n",
       "_color_<span style=\"font-weight: bold\">)[</span>W <span style=\"color: #008080; text-decoration-color: #008080; font-weight: bold\">46</span><span style=\"font-weight: bold\">]</span> or points of view.<span style=\"font-weight: bold\">[</span>W <span style=\"color: #008080; text-decoration-color: #008080; font-weight: bold\">47</span><span style=\"font-weight: bold\">]</span>\n",
       "\n",
       "Though the various language editions are held to global policies such as\n",
       "<span style=\"color: #008000; text-decoration-color: #008000\">\"neutral point of view\"</span>, they diverge on some points of policy and practice,\n",
       "most notably on whether images that are not <span style=\"font-weight: bold\">(</span><span style=\"color: #800080; text-decoration-color: #800080\">/wiki/</span><span style=\"color: #ff00ff; text-decoration-color: #ff00ff\">Free_content</span> <span style=\"color: #008000; text-decoration-color: #008000\">\"Free content\"</span><span style=\"font-weight: bold\">)</span> may be used under a claim of \n",
       "<span style=\"font-weight: bold\">(</span><span style=\"color: #800080; text-decoration-color: #800080\">/wiki/</span><span style=\"color: #ff00ff; text-decoration-color: #ff00ff\">Fair_use</span> <span style=\"color: #008000; text-decoration-color: #008000\">\"Fair use\"</span><span style=\"font-weight: bold\">)</span>.<span style=\"font-weight: bold\">[</span>W <span style=\"color: #008080; text-decoration-color: #008080; font-weight: bold\">48</span><span style=\"font-weight: bold\">][</span><span style=\"color: #008080; text-decoration-color: #008080; font-weight: bold\">125</span><span style=\"font-weight: bold\">]</span>\n",
       "\n",
       "Jimmy Wales has described Wikipedia as \"an effort to create and distribute a\n",
       "free encyclopedia of the highest possible quality to every single person on\n",
       "the planet in their own language\".<span style=\"font-weight: bold\">[</span>W <span style=\"color: #008080; text-decoration-color: #008080; font-weight: bold\">49</span><span style=\"font-weight: bold\">]</span> Though each language edition\n",
       "functions more or less independently, some efforts are made to supervise them\n",
       "all. They are coordinated in part by Meta-Wiki, the Wikimedia Foundation's\n",
       "wiki devoted to maintaining all its projects <span style=\"font-weight: bold\">(</span>Wikipedia and others<span style=\"font-weight: bold\">)</span>.<span style=\"font-weight: bold\">[</span>W <span style=\"color: #008080; text-decoration-color: #008080; font-weight: bold\">50</span><span style=\"font-weight: bold\">]</span> For\n",
       "instance, Meta-Wiki provides important statistics on all language editions of\n",
       "Wikipedia,<span style=\"font-weight: bold\">[</span>W <span style=\"color: #008080; text-decoration-color: #008080; font-weight: bold\">51</span><span style=\"font-weight: bold\">]</span> and it maintains a list of articles every Wikipedia should\n",
       "have.<span style=\"font-weight: bold\">[</span>W <span style=\"color: #008080; text-decoration-color: #008080; font-weight: bold\">52</span><span style=\"font-weight: bold\">]</span> The list concerns basic content by subject: biography, history,\n",
       "geography, society, culture, science, technology, and mathematics.<span style=\"font-weight: bold\">[</span>W <span style=\"color: #008080; text-decoration-color: #008080; font-weight: bold\">52</span><span style=\"font-weight: bold\">]</span> It is\n",
       "not rare for articles strongly related to a particular language not to have\n",
       "counterparts in another edition. For example, articles about small towns in\n",
       "the United States might be available only in English, even when they meet the\n",
       "notability criteria of other language Wikipedia projects.<span style=\"font-weight: bold\">[</span>W <span style=\"color: #008080; text-decoration-color: #008080; font-weight: bold\">32</span><span style=\"font-weight: bold\">]</span>\n",
       "\n",
       "<span style=\"font-weight: bold\">[</span>!<span style=\"font-weight: bold\">[](</span><span style=\"color: #800080; text-decoration-color: #800080\">//upload.wikimedia.org/wikipedia/commons/thumb/2/20/</span><span style=\"color: #ff00ff; text-decoration-color: #ff00ff\">User_-</span>\n",
       "_demography.svg/500px-User_-_demography.svg.png<span style=\"font-weight: bold\">)](</span><span style=\"color: #800080; text-decoration-color: #800080\">/wiki/</span><span style=\"color: #ff00ff; text-decoration-color: #ff00ff\">File</span>:User_-\n",
       "_demography.svg<span style=\"font-weight: bold\">)</span>Estimation of contributions shares from different regions in\n",
       "the world to different Wikipedia editions<span style=\"font-weight: bold\">[</span><span style=\"color: #008080; text-decoration-color: #008080; font-weight: bold\">126</span><span style=\"font-weight: bold\">]</span>\n",
       "\n",
       "Translated articles represent only a small portion of articles in most\n",
       "editions, in part because those editions do not allow fully automated\n",
       "translation of articles. Articles available in more than one language may\n",
       "offer <span style=\"color: #008000; text-decoration-color: #008000\">\"interwiki links\"</span>, which link to the counterpart articles in other\n",
       "editions.<span style=\"font-weight: bold\">[</span><span style=\"color: #008080; text-decoration-color: #008080; font-weight: bold\">127</span><span style=\"font-weight: bold\">][</span>W <span style=\"color: #008080; text-decoration-color: #008080; font-weight: bold\">53</span><span style=\"font-weight: bold\">]</span>\n",
       "\n",
       "A study published by _<span style=\"font-weight: bold\">[</span>PLOS One<span style=\"font-weight: bold\">](</span><span style=\"color: #800080; text-decoration-color: #800080\">/wiki/</span><span style=\"color: #ff00ff; text-decoration-color: #ff00ff\">PLOS_One</span> <span style=\"color: #008000; text-decoration-color: #008000\">\"PLOS One\"</span><span style=\"font-weight: bold\">)</span>_ in <span style=\"color: #008080; text-decoration-color: #008080; font-weight: bold\">2012</span> also\n",
       "estimated the share of contributions to different editions of Wikipedia from\n",
       "different regions of the world. It reported that the proportion of the edits\n",
       "made from North America was <span style=\"color: #008080; text-decoration-color: #008080; font-weight: bold\">51</span>% for the English Wikipedia, and <span style=\"color: #008080; text-decoration-color: #008080; font-weight: bold\">25</span>% for the\n",
       "<span style=\"font-weight: bold\">[</span>Simple English Wikipedia<span style=\"font-weight: bold\">](</span><span style=\"color: #800080; text-decoration-color: #800080\">/wiki/</span><span style=\"color: #ff00ff; text-decoration-color: #ff00ff\">Simple_English_Wikipedia</span> \"Simple English\n",
       "Wikipedia\"<span style=\"font-weight: bold\">)</span>.<span style=\"font-weight: bold\">[</span><span style=\"color: #008080; text-decoration-color: #008080; font-weight: bold\">126</span><span style=\"font-weight: bold\">]</span>\n",
       "</pre>\n"
      ],
      "text/plain": [
       "## Language editions\n",
       "\n",
       "Main article: \u001b[1m[\u001b[0mList of Wikipedias\u001b[1m]\u001b[0m\u001b[1m(\u001b[0m\u001b[35m/wiki/\u001b[0m\u001b[95mList_of_Wikipedias\u001b[0m \"List of\n",
       "Wikipedias\"\u001b[1m)\u001b[0m\n",
       "\n",
       "**Distribution of the \u001b[1;36m63\u001b[0m,\u001b[1;36m955\u001b[0m,\u001b[1;36m872\u001b[0m articles in different language editions \u001b[1m(\u001b[0mas\n",
       "of November \u001b[1;36m17\u001b[0m, \u001b[1;36m2024\u001b[0m\u001b[1m)\u001b[0m**\u001b[1m[\u001b[0mW \u001b[1;36m42\u001b[0m\u001b[1m]\u001b[0m\n",
       "\n",
       "\u001b[1m[\u001b[0mEnglish\u001b[1m]\u001b[0m\u001b[1m(\u001b[0m\u001b[35m/wiki/\u001b[0m\u001b[95mEnglish_Wikipedia\u001b[0m \u001b[32m\"English Wikipedia\"\u001b[0m\u001b[1m)\u001b[0m \u001b[1m(\u001b[0m\u001b[1;36m10.8\u001b[0m%\u001b[1m)\u001b[0m\n",
       "\n",
       "\u001b[1m[\u001b[0mCebuano\u001b[1m]\u001b[0m\u001b[1m(\u001b[0m\u001b[35m/wiki/\u001b[0m\u001b[95mCebuano_Wikipedia\u001b[0m \u001b[32m\"Cebuano Wikipedia\"\u001b[0m\u001b[1m)\u001b[0m \u001b[1m(\u001b[0m\u001b[1;36m9.6\u001b[0m%\u001b[1m)\u001b[0m\n",
       "\n",
       "\u001b[1m[\u001b[0mGerman\u001b[1m]\u001b[0m\u001b[1m(\u001b[0m\u001b[35m/wiki/\u001b[0m\u001b[95mGerman_Wikipedia\u001b[0m \u001b[32m\"German Wikipedia\"\u001b[0m\u001b[1m)\u001b[0m \u001b[1m(\u001b[0m\u001b[1;36m4.6\u001b[0m%\u001b[1m)\u001b[0m\n",
       "\n",
       "\u001b[1m[\u001b[0mFrench\u001b[1m]\u001b[0m\u001b[1m(\u001b[0m\u001b[35m/wiki/\u001b[0m\u001b[95mFrench_Wikipedia\u001b[0m \u001b[32m\"French Wikipedia\"\u001b[0m\u001b[1m)\u001b[0m \u001b[1m(\u001b[0m\u001b[1;36m4.1\u001b[0m%\u001b[1m)\u001b[0m\n",
       "\n",
       "\u001b[1m[\u001b[0mSwedish\u001b[1m]\u001b[0m\u001b[1m(\u001b[0m\u001b[35m/wiki/\u001b[0m\u001b[95mSwedish_Wikipedia\u001b[0m \u001b[32m\"Swedish Wikipedia\"\u001b[0m\u001b[1m)\u001b[0m \u001b[1m(\u001b[0m\u001b[1;36m4.1\u001b[0m%\u001b[1m)\u001b[0m\n",
       "\n",
       "\u001b[1m[\u001b[0mDutch\u001b[1m]\u001b[0m\u001b[1m(\u001b[0m\u001b[35m/wiki/\u001b[0m\u001b[95mDutch_Wikipedia\u001b[0m \u001b[32m\"Dutch Wikipedia\"\u001b[0m\u001b[1m)\u001b[0m \u001b[1m(\u001b[0m\u001b[1;36m3.4\u001b[0m%\u001b[1m)\u001b[0m\n",
       "\n",
       "\u001b[1m[\u001b[0mRussian\u001b[1m]\u001b[0m\u001b[1m(\u001b[0m\u001b[35m/wiki/\u001b[0m\u001b[95mRussian_Wikipedia\u001b[0m \u001b[32m\"Russian Wikipedia\"\u001b[0m\u001b[1m)\u001b[0m \u001b[1m(\u001b[0m\u001b[1;36m3.1\u001b[0m%\u001b[1m)\u001b[0m\n",
       "\n",
       "\u001b[1m[\u001b[0mSpanish\u001b[1m]\u001b[0m\u001b[1m(\u001b[0m\u001b[35m/wiki/\u001b[0m\u001b[95mSpanish_Wikipedia\u001b[0m \u001b[32m\"Spanish Wikipedia\"\u001b[0m\u001b[1m)\u001b[0m \u001b[1m(\u001b[0m\u001b[1;36m3.1\u001b[0m%\u001b[1m)\u001b[0m\n",
       "\n",
       "\u001b[1m[\u001b[0mItalian\u001b[1m]\u001b[0m\u001b[1m(\u001b[0m\u001b[35m/wiki/\u001b[0m\u001b[95mItalian_Wikipedia\u001b[0m \u001b[32m\"Italian Wikipedia\"\u001b[0m\u001b[1m)\u001b[0m \u001b[1m(\u001b[0m\u001b[1;36m3\u001b[0m%\u001b[1m)\u001b[0m\n",
       "\n",
       "\u001b[1m[\u001b[0mPolish\u001b[1m]\u001b[0m\u001b[1m(\u001b[0m\u001b[35m/wiki/\u001b[0m\u001b[95mPolish_Wikipedia\u001b[0m \u001b[32m\"Polish Wikipedia\"\u001b[0m\u001b[1m)\u001b[0m \u001b[1m(\u001b[0m\u001b[1;36m2.6\u001b[0m%\u001b[1m)\u001b[0m\n",
       "\n",
       "\u001b[1m[\u001b[0mEgyptian Arabic\u001b[1m]\u001b[0m\u001b[1m(\u001b[0m\u001b[35m/wiki/\u001b[0m\u001b[95mEgyptian_Arabic_Wikipedia\u001b[0m \u001b[32m\"Egyptian Arabic Wikipedia\"\u001b[0m\u001b[1m)\u001b[0m\n",
       "\u001b[1m(\u001b[0m\u001b[1;36m2.5\u001b[0m%\u001b[1m)\u001b[0m\n",
       "\n",
       "\u001b[1m[\u001b[0mChinese\u001b[1m]\u001b[0m\u001b[1m(\u001b[0m\u001b[35m/wiki/\u001b[0m\u001b[95mChinese_Wikipedia\u001b[0m \u001b[32m\"Chinese Wikipedia\"\u001b[0m\u001b[1m)\u001b[0m \u001b[1m(\u001b[0m\u001b[1;36m2.3\u001b[0m%\u001b[1m)\u001b[0m\n",
       "\n",
       "\u001b[1m[\u001b[0mJapanese\u001b[1m]\u001b[0m\u001b[1m(\u001b[0m\u001b[35m/wiki/\u001b[0m\u001b[95mJapanese_Wikipedia\u001b[0m \u001b[32m\"Japanese Wikipedia\"\u001b[0m\u001b[1m)\u001b[0m \u001b[1m(\u001b[0m\u001b[1;36m2.2\u001b[0m%\u001b[1m)\u001b[0m\n",
       "\n",
       "\u001b[1m[\u001b[0mUkrainian\u001b[1m]\u001b[0m\u001b[1m(\u001b[0m\u001b[35m/wiki/\u001b[0m\u001b[95mUkrainian_Wikipedia\u001b[0m \u001b[32m\"Ukrainian Wikipedia\"\u001b[0m\u001b[1m)\u001b[0m \u001b[1m(\u001b[0m\u001b[1;36m2.1\u001b[0m%\u001b[1m)\u001b[0m\n",
       "\n",
       "\u001b[1m[\u001b[0mVietnamese\u001b[1m]\u001b[0m\u001b[1m(\u001b[0m\u001b[35m/wiki/\u001b[0m\u001b[95mVietnamese_Wikipedia\u001b[0m \u001b[32m\"Vietnamese Wikipedia\"\u001b[0m\u001b[1m)\u001b[0m \u001b[1m(\u001b[0m\u001b[1;36m2\u001b[0m%\u001b[1m)\u001b[0m\n",
       "\n",
       "\u001b[1m[\u001b[0mWaray\u001b[1m]\u001b[0m\u001b[1m(\u001b[0m\u001b[35m/wiki/\u001b[0m\u001b[95mWaray_Wikipedia\u001b[0m \u001b[32m\"Waray Wikipedia\"\u001b[0m\u001b[1m)\u001b[0m \u001b[1m(\u001b[0m\u001b[1;36m2\u001b[0m%\u001b[1m)\u001b[0m\n",
       "\n",
       "\u001b[1m[\u001b[0mArabic\u001b[1m]\u001b[0m\u001b[1m(\u001b[0m\u001b[35m/wiki/\u001b[0m\u001b[95mArabic_Wikipedia\u001b[0m \u001b[32m\"Arabic Wikipedia\"\u001b[0m\u001b[1m)\u001b[0m \u001b[1m(\u001b[0m\u001b[1;36m1.9\u001b[0m%\u001b[1m)\u001b[0m\n",
       "\n",
       "\u001b[1m[\u001b[0mPortuguese\u001b[1m]\u001b[0m\u001b[1m(\u001b[0m\u001b[35m/wiki/\u001b[0m\u001b[95mPortuguese_Wikipedia\u001b[0m \u001b[32m\"Portuguese Wikipedia\"\u001b[0m\u001b[1m)\u001b[0m \u001b[1m(\u001b[0m\u001b[1;36m1.9\u001b[0m%\u001b[1m)\u001b[0m\n",
       "\n",
       "\u001b[1m[\u001b[0mPersian\u001b[1m]\u001b[0m\u001b[1m(\u001b[0m\u001b[35m/wiki/\u001b[0m\u001b[95mPersian_Wikipedia\u001b[0m \u001b[32m\"Persian Wikipedia\"\u001b[0m\u001b[1m)\u001b[0m \u001b[1m(\u001b[0m\u001b[1;36m1.6\u001b[0m%\u001b[1m)\u001b[0m\n",
       "\n",
       "\u001b[1m[\u001b[0mCatalan\u001b[1m]\u001b[0m\u001b[1m(\u001b[0m\u001b[35m/wiki/\u001b[0m\u001b[95mCatalan_Wikipedia\u001b[0m \u001b[32m\"Catalan Wikipedia\"\u001b[0m\u001b[1m)\u001b[0m \u001b[1m(\u001b[0m\u001b[1;36m1.2\u001b[0m%\u001b[1m)\u001b[0m\n",
       "\n",
       "Other \u001b[1m(\u001b[0m\u001b[1;36m31.9\u001b[0m%\u001b[1m)\u001b[0m\n",
       "\n",
       "There are currently \u001b[1;36m339\u001b[0m language editions of Wikipedia \u001b[1m(\u001b[0malso called _language\n",
       "versions_ , or simply _Wikipedias_\u001b[1m)\u001b[0m. As of November \u001b[1;36m2024\u001b[0m, the six largest, in\n",
       "order of article count, are the \u001b[1m[\u001b[0mEnglish\u001b[1m]\u001b[0m\u001b[1m(\u001b[0m\u001b[35m/wiki/\u001b[0m\u001b[95mEnglish_Wikipedia\u001b[0m \"English\n",
       "Wikipedia\"\u001b[1m)\u001b[0m, \u001b[1m[\u001b[0mCebuano\u001b[1m]\u001b[0m\u001b[1m(\u001b[0m\u001b[35m/wiki/\u001b[0m\u001b[95mCebuano_Wikipedia\u001b[0m \u001b[32m\"Cebuano Wikipedia\"\u001b[0m\u001b[1m)\u001b[0m,\n",
       "\u001b[1m[\u001b[0mGerman\u001b[1m]\u001b[0m\u001b[1m(\u001b[0m\u001b[35m/wiki/\u001b[0m\u001b[95mGerman_Wikipedia\u001b[0m \u001b[32m\"German Wikipedia\"\u001b[0m\u001b[1m)\u001b[0m,\n",
       "\u001b[1m[\u001b[0mFrench\u001b[1m]\u001b[0m\u001b[1m(\u001b[0m\u001b[35m/wiki/\u001b[0m\u001b[95mFrench_Wikipedia\u001b[0m \u001b[32m\"French Wikipedia\"\u001b[0m\u001b[1m)\u001b[0m,\n",
       "\u001b[1m[\u001b[0mSwedish\u001b[1m]\u001b[0m\u001b[1m(\u001b[0m\u001b[35m/wiki/\u001b[0m\u001b[95mSwedish_Wikipedia\u001b[0m \u001b[32m\"Swedish Wikipedia\"\u001b[0m\u001b[1m)\u001b[0m, and\n",
       "\u001b[1m[\u001b[0mDutch\u001b[1m]\u001b[0m\u001b[1m(\u001b[0m\u001b[35m/wiki/\u001b[0m\u001b[95mDutch_Wikipedia\u001b[0m \u001b[32m\"Dutch Wikipedia\"\u001b[0m\u001b[1m)\u001b[0m Wikipedias.\u001b[1m[\u001b[0mW \u001b[1;36m43\u001b[0m\u001b[1m]\u001b[0m The second\n",
       "and fifth-largest Wikipedias owe their position to the article-creating bot\n",
       "\u001b[1m[\u001b[0mLsjbot\u001b[1m]\u001b[0m\u001b[1m(\u001b[0m\u001b[35m/wiki/\u001b[0m\u001b[95mLsjbot\u001b[0m \u001b[32m\"Lsjbot\"\u001b[0m\u001b[1m)\u001b[0m, which as of\n",
       "\u001b[1;36m2013\u001b[0m\u001b[1m[\u001b[0m\u001b[1m]\u001b[0m\u001b[1m(\u001b[0m\u001b[4;94mhttps://en.wikipedia.org/w/index.php?\u001b[0m\u001b[4;94mtitle\u001b[0m\u001b[4;94m=\u001b[0m\u001b[4;94mWikipedia\u001b[0m\u001b[4;94m&\u001b[0m\u001b[4;94maction\u001b[0m\u001b[4;94m=\u001b[0m\u001b[4;94medit\u001b[0m\u001b[4;94m)\u001b[0m\n",
       "had created about half the articles on the \u001b[1m[\u001b[0mSwedish\n",
       "Wikipedia\u001b[1m]\u001b[0m\u001b[1m(\u001b[0m\u001b[35m/wiki/\u001b[0m\u001b[95mSwedish_Wikipedia\u001b[0m \u001b[32m\"Swedish Wikipedia\"\u001b[0m\u001b[1m)\u001b[0m, and most of the\n",
       "articles in the \u001b[1m[\u001b[0mCebuano\u001b[1m]\u001b[0m\u001b[1m(\u001b[0m\u001b[35m/wiki/\u001b[0m\u001b[95mCebuano_Wikipedia\u001b[0m \u001b[32m\"Cebuano Wikipedia\"\u001b[0m\u001b[1m)\u001b[0m and\n",
       "\u001b[1m[\u001b[0mWaray Wikipedias\u001b[1m]\u001b[0m\u001b[1m(\u001b[0m\u001b[35m/wiki/\u001b[0m\u001b[95mWaray_Wikipedia\u001b[0m \u001b[32m\"Waray Wikipedia\"\u001b[0m\u001b[1m)\u001b[0m. The latter are\n",
       "both languages of the \u001b[1m[\u001b[0mPhilippines\u001b[1m]\u001b[0m\u001b[1m(\u001b[0m\u001b[35m/wiki/\u001b[0m\u001b[95mPhilippines\u001b[0m \u001b[32m\"Philippines\"\u001b[0m\u001b[1m)\u001b[0m.\n",
       "\n",
       "In addition to the top six, twelve other Wikipedias have more than a million\n",
       "articles each \u001b[1m(\u001b[0m\u001b[1m[\u001b[0mRussian\u001b[1m]\u001b[0m\u001b[1m(\u001b[0m\u001b[35m/wiki/\u001b[0m\u001b[95mRussian_Wikipedia\u001b[0m \u001b[32m\"Russian Wikipedia\"\u001b[0m\u001b[1m)\u001b[0m,\n",
       "\u001b[1m[\u001b[0mSpanish\u001b[1m]\u001b[0m\u001b[1m(\u001b[0m\u001b[35m/wiki/\u001b[0m\u001b[95mSpanish_Wikipedia\u001b[0m \u001b[32m\"Spanish Wikipedia\"\u001b[0m\u001b[1m)\u001b[0m,\n",
       "\u001b[1m[\u001b[0mItalian\u001b[1m]\u001b[0m\u001b[1m(\u001b[0m\u001b[35m/wiki/\u001b[0m\u001b[95mItalian_Wikipedia\u001b[0m \u001b[32m\"Italian Wikipedia\"\u001b[0m\u001b[1m)\u001b[0m,\n",
       "\u001b[1m[\u001b[0mPolish\u001b[1m]\u001b[0m\u001b[1m(\u001b[0m\u001b[35m/wiki/\u001b[0m\u001b[95mPolish_Wikipedia\u001b[0m \u001b[32m\"Polish Wikipedia\"\u001b[0m\u001b[1m)\u001b[0m, \u001b[1m[\u001b[0mEgyptian\n",
       "Arabic\u001b[1m]\u001b[0m\u001b[1m(\u001b[0m\u001b[35m/wiki/\u001b[0m\u001b[95mEgyptian_Arabic_Wikipedia\u001b[0m \u001b[32m\"Egyptian Arabic Wikipedia\"\u001b[0m\u001b[1m)\u001b[0m,\n",
       "\u001b[1m[\u001b[0mChinese\u001b[1m]\u001b[0m\u001b[1m(\u001b[0m\u001b[35m/wiki/\u001b[0m\u001b[95mChinese_Wikipedia\u001b[0m \u001b[32m\"Chinese Wikipedia\"\u001b[0m\u001b[1m)\u001b[0m,\n",
       "\u001b[1m[\u001b[0mJapanese\u001b[1m]\u001b[0m\u001b[1m(\u001b[0m\u001b[35m/wiki/\u001b[0m\u001b[95mJapanese_Wikipedia\u001b[0m \u001b[32m\"Japanese Wikipedia\"\u001b[0m\u001b[1m)\u001b[0m,\n",
       "\u001b[1m[\u001b[0mUkrainian\u001b[1m]\u001b[0m\u001b[1m(\u001b[0m\u001b[35m/wiki/\u001b[0m\u001b[95mUkrainian_Wikipedia\u001b[0m \u001b[32m\"Ukrainian Wikipedia\"\u001b[0m\u001b[1m)\u001b[0m,\n",
       "\u001b[1m[\u001b[0mVietnamese\u001b[1m]\u001b[0m\u001b[1m(\u001b[0m\u001b[35m/wiki/\u001b[0m\u001b[95mVietnamese_Wikipedia\u001b[0m \u001b[32m\"Vietnamese Wikipedia\"\u001b[0m\u001b[1m)\u001b[0m,\n",
       "\u001b[1m[\u001b[0mWaray\u001b[1m]\u001b[0m\u001b[1m(\u001b[0m\u001b[35m/wiki/\u001b[0m\u001b[95mWaray_Wikipedia\u001b[0m \u001b[32m\"Waray Wikipedia\"\u001b[0m\u001b[1m)\u001b[0m,\n",
       "\u001b[1m[\u001b[0mArabic\u001b[1m]\u001b[0m\u001b[1m(\u001b[0m\u001b[35m/wiki/\u001b[0m\u001b[95mArabic_Wikipedia\u001b[0m \u001b[32m\"Arabic Wikipedia\"\u001b[0m\u001b[1m)\u001b[0m, and\n",
       "\u001b[1m[\u001b[0mPortuguese\u001b[1m]\u001b[0m\u001b[1m(\u001b[0m\u001b[35m/wiki/\u001b[0m\u001b[95mPortuguese_Wikipedia\u001b[0m \u001b[32m\"Portuguese Wikipedia\"\u001b[0m\u001b[1m)\u001b[0m\u001b[1m)\u001b[0m, seven more\n",
       "have over \u001b[1;36m500\u001b[0m,\u001b[1;36m000\u001b[0m articles \u001b[1m(\u001b[0m\u001b[1m[\u001b[0mPersian\u001b[1m]\u001b[0m\u001b[1m(\u001b[0m\u001b[35m/wiki/\u001b[0m\u001b[95mPersian_Wikipedia\u001b[0m \"Persian\n",
       "Wikipedia\"\u001b[1m)\u001b[0m, \u001b[1m[\u001b[0mCatalan\u001b[1m]\u001b[0m\u001b[1m(\u001b[0m\u001b[35m/wiki/\u001b[0m\u001b[95mCatalan_Wikipedia\u001b[0m \u001b[32m\"Catalan Wikipedia\"\u001b[0m\u001b[1m)\u001b[0m,\n",
       "\u001b[1m[\u001b[0mIndonesian\u001b[1m]\u001b[0m\u001b[1m(\u001b[0m\u001b[35m/wiki/\u001b[0m\u001b[95mIndonesian_Wikipedia\u001b[0m \u001b[32m\"Indonesian Wikipedia\"\u001b[0m\u001b[1m)\u001b[0m,\n",
       "\u001b[1m[\u001b[0mSerbian\u001b[1m]\u001b[0m\u001b[1m(\u001b[0m\u001b[35m/wiki/\u001b[0m\u001b[95mSerbian_Wikipedia\u001b[0m \u001b[32m\"Serbian Wikipedia\"\u001b[0m\u001b[1m)\u001b[0m,\n",
       "\u001b[1m[\u001b[0mKorean\u001b[1m]\u001b[0m\u001b[1m(\u001b[0m\u001b[35m/wiki/\u001b[0m\u001b[95mKorean_Wikipedia\u001b[0m \u001b[32m\"Korean Wikipedia\"\u001b[0m\u001b[1m)\u001b[0m,\n",
       "\u001b[1m[\u001b[0mNorwegian\u001b[1m]\u001b[0m\u001b[1m(\u001b[0m\u001b[35m/wiki/\u001b[0m\u001b[95mNorwegian_Wikipedia\u001b[0m \u001b[32m\"Norwegian Wikipedia\"\u001b[0m\u001b[1m)\u001b[0m, and\n",
       "\u001b[1m[\u001b[0mTurkish\u001b[1m]\u001b[0m\u001b[1m(\u001b[0m\u001b[35m/wiki/\u001b[0m\u001b[95mTurkish_Wikipedia\u001b[0m \u001b[32m\"Turkish Wikipedia\"\u001b[0m\u001b[1m)\u001b[0m\u001b[1m)\u001b[0m, \u001b[1;36m44\u001b[0m more have over\n",
       "\u001b[1;36m100\u001b[0m,\u001b[1;36m000\u001b[0m, and \u001b[1;36m82\u001b[0m more have over \u001b[1;36m10\u001b[0m,\u001b[1;36m000\u001b[0m.\u001b[1m[\u001b[0mW \u001b[1;36m44\u001b[0m\u001b[1m]\u001b[0m\u001b[1m[\u001b[0mW \u001b[1;36m43\u001b[0m\u001b[1m]\u001b[0m The largest, the English\n",
       "Wikipedia, has over \u001b[1;36m6.9\u001b[0m million articles. As of January\n",
       "\u001b[1;36m2021\u001b[0m,\u001b[1m[\u001b[0m\u001b[1m]\u001b[0m\u001b[1m(\u001b[0m\u001b[4;94mhttps://en.wikipedia.org/w/index.php?\u001b[0m\u001b[4;94mtitle\u001b[0m\u001b[4;94m=\u001b[0m\u001b[4;94mWikipedia\u001b[0m\u001b[4;94m&\u001b[0m\u001b[4;94maction\u001b[0m\u001b[4;94m=\u001b[0m\u001b[4;94medit\u001b[0m\u001b[4;94m)\u001b[0m\n",
       "the English Wikipedia receives \u001b[1;36m48\u001b[0m% of Wikipedia's cumulative traffic, with the\n",
       "remaining split among the other languages. The top \u001b[1;36m10\u001b[0m editions represent\n",
       "approximately \u001b[1;36m85\u001b[0m% of the total traffic.\u001b[1m[\u001b[0mW \u001b[1;36m45\u001b[0m\u001b[1m]\u001b[0m\n",
       "\n",
       "  * \u001b[1m[\u001b[0m!\u001b[1m[\u001b[0mMost viewed editions of Wikipedia, \n",
       "\u001b[1;36m2008\u001b[0m–\u001b[1;36m2020\u001b[0m\u001b[1m]\u001b[0m\u001b[1m(\u001b[0m\u001b[35m/\u001b[0m\u001b[35m/upload.wikimedia.org/wikipedia/commons/thumb/6/61/Wikipedia_page_views_by_language_over_time.png/\u001b[0m\u001b[95m456px\u001b[0m\n",
       "\u001b[95m-Wikipedia_page_views_by_language_over_time.png\u001b[0m\u001b[1m)\u001b[0m\u001b[1m]\u001b[0m\u001b[1m(\u001b[0m\u001b[35m/wiki/\u001b[0m\u001b[95mFile\u001b[0m:Wikipedia_page_views_by_language_over_time.png \u001b[32m\"Most \u001b[0m\n",
       "\u001b[32mviewed editions of Wikipedia, 2008–2020\"\u001b[0m\u001b[1m)\u001b[0m\n",
       "\n",
       "Most viewed editions of Wikipedia, \u001b[1;36m2008\u001b[0m–\u001b[1;36m2020\u001b[0m\n",
       "\n",
       "  * \u001b[1m[\u001b[0m!\u001b[1m[\u001b[0mMost edited editions of Wikipedia, \n",
       "\u001b[1;36m2001\u001b[0m–\u001b[1;36m2020\u001b[0m\u001b[1m]\u001b[0m\u001b[1m(\u001b[0m\u001b[35m/\u001b[0m\u001b[35m/upload.wikimedia.org/wikipedia/commons/thumb/9/9b/Wikipedia_editors_by_language_over_time.png/\u001b[0m\u001b[95m458px-Wi\u001b[0m\n",
       "\u001b[95mkipedia_editors_by_language_over_time.png\u001b[0m\u001b[1m)\u001b[0m\u001b[1m]\u001b[0m\u001b[1m(\u001b[0m\u001b[35m/wiki/\u001b[0m\u001b[95mFile\u001b[0m:Wikipedia_editors_by_language_over_time.png \u001b[32m\"Most edited \u001b[0m\n",
       "\u001b[32meditions of Wikipedia, 2001–2020\"\u001b[0m\u001b[1m)\u001b[0m\n",
       "\n",
       "Most edited editions of Wikipedia, \u001b[1;36m2001\u001b[0m–\u001b[1;36m2020\u001b[0m\n",
       "\n",
       "**Articles in the \u001b[1;36m20\u001b[0m largest language editions of Wikipedia**  \n",
       "\u001b[1m(\u001b[0mas of \u001b[1;36m17\u001b[0m November \u001b[1;36m2024\u001b[0m\u001b[1m)\u001b[0m\u001b[1m[\u001b[0m\u001b[1;36m124\u001b[0m\u001b[1m]\u001b[0m  \n",
       "\u001b[1;36m1\u001b[0m  | \u001b[1;36m2\u001b[0m  | \u001b[1;36m3\u001b[0m  | \u001b[1;36m4\u001b[0m  | \u001b[1;36m5\u001b[0m  | \u001b[1;36m6\u001b[0m  | \u001b[1;36m7\u001b[0m   \n",
       "---|---|---|---|---|---|---  \n",
       "|  |  |  |  |  |  |  |  |  |  |  |  |   \n",
       "  \n",
       "|  \n",
       "---  \n",
       "\u001b[1m[\u001b[0mEnglish\u001b[1m]\u001b[0m\u001b[1m(\u001b[0m\u001b[35m/wiki/\u001b[0m\u001b[95mEnglish_Wikipedia\u001b[0m \u001b[32m\"English Wikipedia\"\u001b[0m\u001b[1m)\u001b[0m \u001b[1;36m6\u001b[0m,\u001b[1;36m911\u001b[0m,\u001b[1;36m762\u001b[0m  \n",
       "\u001b[1m[\u001b[0mCebuano\u001b[1m]\u001b[0m\u001b[1m(\u001b[0m\u001b[35m/wiki/\u001b[0m\u001b[95mCebuano_Wikipedia\u001b[0m \u001b[32m\"Cebuano Wikipedia\"\u001b[0m\u001b[1m)\u001b[0m \u001b[1;36m6\u001b[0m,\u001b[1;36m116\u001b[0m,\u001b[1;36m960\u001b[0m  \n",
       "\u001b[1m[\u001b[0mGerman\u001b[1m]\u001b[0m\u001b[1m(\u001b[0m\u001b[35m/wiki/\u001b[0m\u001b[95mGerman_Wikipedia\u001b[0m \u001b[32m\"German Wikipedia\"\u001b[0m\u001b[1m)\u001b[0m \u001b[1;36m2\u001b[0m,\u001b[1;36m959\u001b[0m,\u001b[1;36m517\u001b[0m  \n",
       "\u001b[1m[\u001b[0mFrench\u001b[1m]\u001b[0m\u001b[1m(\u001b[0m\u001b[35m/wiki/\u001b[0m\u001b[95mFrench_Wikipedia\u001b[0m \u001b[32m\"French Wikipedia\"\u001b[0m\u001b[1m)\u001b[0m \u001b[1;36m2\u001b[0m,\u001b[1;36m647\u001b[0m,\u001b[1;36m536\u001b[0m  \n",
       "\u001b[1m[\u001b[0mSwedish\u001b[1m]\u001b[0m\u001b[1m(\u001b[0m\u001b[35m/wiki/\u001b[0m\u001b[95mSwedish_Wikipedia\u001b[0m \u001b[32m\"Swedish Wikipedia\"\u001b[0m\u001b[1m)\u001b[0m \u001b[1;36m2\u001b[0m,\u001b[1;36m597\u001b[0m,\u001b[1;36m548\u001b[0m  \n",
       "\u001b[1m[\u001b[0mDutch\u001b[1m]\u001b[0m\u001b[1m(\u001b[0m\u001b[35m/wiki/\u001b[0m\u001b[95mDutch_Wikipedia\u001b[0m \u001b[32m\"Dutch Wikipedia\"\u001b[0m\u001b[1m)\u001b[0m \u001b[1;36m2\u001b[0m,\u001b[1;36m171\u001b[0m,\u001b[1;36m853\u001b[0m  \n",
       "\u001b[1m[\u001b[0mRussian\u001b[1m]\u001b[0m\u001b[1m(\u001b[0m\u001b[35m/wiki/\u001b[0m\u001b[95mRussian_Wikipedia\u001b[0m \u001b[32m\"Russian Wikipedia\"\u001b[0m\u001b[1m)\u001b[0m \u001b[1;36m2\u001b[0m,\u001b[1;36m009\u001b[0m,\u001b[1;36m969\u001b[0m  \n",
       "\u001b[1m[\u001b[0mSpanish\u001b[1m]\u001b[0m\u001b[1m(\u001b[0m\u001b[35m/wiki/\u001b[0m\u001b[95mSpanish_Wikipedia\u001b[0m \u001b[32m\"Spanish Wikipedia\"\u001b[0m\u001b[1m)\u001b[0m \u001b[1;36m1\u001b[0m,\u001b[1;36m989\u001b[0m,\u001b[1;36m852\u001b[0m  \n",
       "\u001b[1m[\u001b[0mItalian\u001b[1m]\u001b[0m\u001b[1m(\u001b[0m\u001b[35m/wiki/\u001b[0m\u001b[95mItalian_Wikipedia\u001b[0m \u001b[32m\"Italian Wikipedia\"\u001b[0m\u001b[1m)\u001b[0m \u001b[1;36m1\u001b[0m,\u001b[1;36m891\u001b[0m,\u001b[1;36m382\u001b[0m  \n",
       "\u001b[1m[\u001b[0mPolish\u001b[1m]\u001b[0m\u001b[1m(\u001b[0m\u001b[35m/wiki/\u001b[0m\u001b[95mPolish_Wikipedia\u001b[0m \u001b[32m\"Polish Wikipedia\"\u001b[0m\u001b[1m)\u001b[0m \u001b[1;36m1\u001b[0m,\u001b[1;36m634\u001b[0m,\u001b[1;36m833\u001b[0m  \n",
       "\u001b[1m[\u001b[0mEgyptian Arabic\u001b[1m]\u001b[0m\u001b[1m(\u001b[0m\u001b[35m/wiki/\u001b[0m\u001b[95mEgyptian_Arabic_Wikipedia\u001b[0m \u001b[32m\"Egyptian Arabic Wikipedia\"\u001b[0m\u001b[1m)\u001b[0m\n",
       "\u001b[1;36m1\u001b[0m,\u001b[1;36m625\u001b[0m,\u001b[1;36m528\u001b[0m  \n",
       "\u001b[1m[\u001b[0mChinese\u001b[1m]\u001b[0m\u001b[1m(\u001b[0m\u001b[35m/wiki/\u001b[0m\u001b[95mChinese_Wikipedia\u001b[0m \u001b[32m\"Chinese Wikipedia\"\u001b[0m\u001b[1m)\u001b[0m \u001b[1;36m1\u001b[0m,\u001b[1;36m450\u001b[0m,\u001b[1;36m974\u001b[0m  \n",
       "\u001b[1m[\u001b[0mJapanese\u001b[1m]\u001b[0m\u001b[1m(\u001b[0m\u001b[35m/wiki/\u001b[0m\u001b[95mJapanese_Wikipedia\u001b[0m \u001b[32m\"Japanese Wikipedia\"\u001b[0m\u001b[1m)\u001b[0m \u001b[1;36m1\u001b[0m,\u001b[1;36m437\u001b[0m,\u001b[1;36m221\u001b[0m  \n",
       "\u001b[1m[\u001b[0mUkrainian\u001b[1m]\u001b[0m\u001b[1m(\u001b[0m\u001b[35m/wiki/\u001b[0m\u001b[95mUkrainian_Wikipedia\u001b[0m \u001b[32m\"Ukrainian Wikipedia\"\u001b[0m\u001b[1m)\u001b[0m \u001b[1;36m1\u001b[0m,\u001b[1;36m353\u001b[0m,\u001b[1;36m293\u001b[0m  \n",
       "\u001b[1m[\u001b[0mVietnamese\u001b[1m]\u001b[0m\u001b[1m(\u001b[0m\u001b[35m/wiki/\u001b[0m\u001b[95mVietnamese_Wikipedia\u001b[0m \u001b[32m\"Vietnamese Wikipedia\"\u001b[0m\u001b[1m)\u001b[0m \u001b[1;36m1\u001b[0m,\u001b[1;36m294\u001b[0m,\u001b[1;36m264\u001b[0m  \n",
       "\u001b[1m[\u001b[0mWaray\u001b[1m]\u001b[0m\u001b[1m(\u001b[0m\u001b[35m/wiki/\u001b[0m\u001b[95mWaray_Wikipedia\u001b[0m \u001b[32m\"Waray Wikipedia\"\u001b[0m\u001b[1m)\u001b[0m \u001b[1;36m1\u001b[0m,\u001b[1;36m266\u001b[0m,\u001b[1;36m605\u001b[0m  \n",
       "\u001b[1m[\u001b[0mArabic\u001b[1m]\u001b[0m\u001b[1m(\u001b[0m\u001b[35m/wiki/\u001b[0m\u001b[95mArabic_Wikipedia\u001b[0m \u001b[32m\"Arabic Wikipedia\"\u001b[0m\u001b[1m)\u001b[0m \u001b[1;36m1\u001b[0m,\u001b[1;36m245\u001b[0m,\u001b[1;36m741\u001b[0m  \n",
       "\u001b[1m[\u001b[0mPortuguese\u001b[1m]\u001b[0m\u001b[1m(\u001b[0m\u001b[35m/wiki/\u001b[0m\u001b[95mPortuguese_Wikipedia\u001b[0m \u001b[32m\"Portuguese Wikipedia\"\u001b[0m\u001b[1m)\u001b[0m \u001b[1;36m1\u001b[0m,\u001b[1;36m138\u001b[0m,\u001b[1;36m051\u001b[0m  \n",
       "\u001b[1m[\u001b[0mPersian\u001b[1m]\u001b[0m\u001b[1m(\u001b[0m\u001b[35m/wiki/\u001b[0m\u001b[95mPersian_Wikipedia\u001b[0m \u001b[32m\"Persian Wikipedia\"\u001b[0m\u001b[1m)\u001b[0m \u001b[1;36m1\u001b[0m,\u001b[1;36m019\u001b[0m,\u001b[1;36m113\u001b[0m  \n",
       "\u001b[1m[\u001b[0mCatalan\u001b[1m]\u001b[0m\u001b[1m(\u001b[0m\u001b[35m/wiki/\u001b[0m\u001b[95mCatalan_Wikipedia\u001b[0m \u001b[32m\"Catalan Wikipedia\"\u001b[0m\u001b[1m)\u001b[0m \u001b[1;36m763\u001b[0m,\u001b[1;36m232\u001b[0m  \n",
       "  \n",
       "Since Wikipedia is based on the \u001b[1m[\u001b[0mWeb\u001b[1m]\u001b[0m\u001b[1m(\u001b[0m\u001b[35m/wiki/\u001b[0m\u001b[95mWorld_Wide_Web\u001b[0m \u001b[32m\"World Wide Web\"\u001b[0m\u001b[1m)\u001b[0m\n",
       "and therefore worldwide, contributors to the same language edition may use\n",
       "different dialects or may come from different countries \u001b[1m(\u001b[0mas is the case for\n",
       "the English edition\u001b[1m)\u001b[0m. These differences may lead to some conflicts over\n",
       "\u001b[1m(\u001b[0m\u001b[35m/wiki/\u001b[0m\u001b[95mAmerican_and_British_English_spelling_differences\u001b[0m\n",
       "\u001b[32m\"American and British English spelling differences\"\u001b[0m\u001b[1m)\u001b[0m \u001b[1m(\u001b[0me.g. _colour_ versus\n",
       "_color_\u001b[1m)\u001b[0m\u001b[1m[\u001b[0mW \u001b[1;36m46\u001b[0m\u001b[1m]\u001b[0m or points of view.\u001b[1m[\u001b[0mW \u001b[1;36m47\u001b[0m\u001b[1m]\u001b[0m\n",
       "\n",
       "Though the various language editions are held to global policies such as\n",
       "\u001b[32m\"neutral point of view\"\u001b[0m, they diverge on some points of policy and practice,\n",
       "most notably on whether images that are not \u001b[1m(\u001b[0m\u001b[35m/wiki/\u001b[0m\u001b[95mFree_content\u001b[0m \u001b[32m\"Free content\"\u001b[0m\u001b[1m)\u001b[0m may be used under a claim of \n",
       "\u001b[1m(\u001b[0m\u001b[35m/wiki/\u001b[0m\u001b[95mFair_use\u001b[0m \u001b[32m\"Fair use\"\u001b[0m\u001b[1m)\u001b[0m.\u001b[1m[\u001b[0mW \u001b[1;36m48\u001b[0m\u001b[1m]\u001b[0m\u001b[1m[\u001b[0m\u001b[1;36m125\u001b[0m\u001b[1m]\u001b[0m\n",
       "\n",
       "Jimmy Wales has described Wikipedia as \"an effort to create and distribute a\n",
       "free encyclopedia of the highest possible quality to every single person on\n",
       "the planet in their own language\".\u001b[1m[\u001b[0mW \u001b[1;36m49\u001b[0m\u001b[1m]\u001b[0m Though each language edition\n",
       "functions more or less independently, some efforts are made to supervise them\n",
       "all. They are coordinated in part by Meta-Wiki, the Wikimedia Foundation's\n",
       "wiki devoted to maintaining all its projects \u001b[1m(\u001b[0mWikipedia and others\u001b[1m)\u001b[0m.\u001b[1m[\u001b[0mW \u001b[1;36m50\u001b[0m\u001b[1m]\u001b[0m For\n",
       "instance, Meta-Wiki provides important statistics on all language editions of\n",
       "Wikipedia,\u001b[1m[\u001b[0mW \u001b[1;36m51\u001b[0m\u001b[1m]\u001b[0m and it maintains a list of articles every Wikipedia should\n",
       "have.\u001b[1m[\u001b[0mW \u001b[1;36m52\u001b[0m\u001b[1m]\u001b[0m The list concerns basic content by subject: biography, history,\n",
       "geography, society, culture, science, technology, and mathematics.\u001b[1m[\u001b[0mW \u001b[1;36m52\u001b[0m\u001b[1m]\u001b[0m It is\n",
       "not rare for articles strongly related to a particular language not to have\n",
       "counterparts in another edition. For example, articles about small towns in\n",
       "the United States might be available only in English, even when they meet the\n",
       "notability criteria of other language Wikipedia projects.\u001b[1m[\u001b[0mW \u001b[1;36m32\u001b[0m\u001b[1m]\u001b[0m\n",
       "\n",
       "\u001b[1m[\u001b[0m!\u001b[1m[\u001b[0m\u001b[1m]\u001b[0m\u001b[1m(\u001b[0m\u001b[35m/\u001b[0m\u001b[35m/upload.wikimedia.org/wikipedia/commons/thumb/2/20/\u001b[0m\u001b[95mUser_-\u001b[0m\n",
       "_demography.svg/500px-User_-_demography.svg.png\u001b[1m)\u001b[0m\u001b[1m]\u001b[0m\u001b[1m(\u001b[0m\u001b[35m/wiki/\u001b[0m\u001b[95mFile\u001b[0m:User_-\n",
       "_demography.svg\u001b[1m)\u001b[0mEstimation of contributions shares from different regions in\n",
       "the world to different Wikipedia editions\u001b[1m[\u001b[0m\u001b[1;36m126\u001b[0m\u001b[1m]\u001b[0m\n",
       "\n",
       "Translated articles represent only a small portion of articles in most\n",
       "editions, in part because those editions do not allow fully automated\n",
       "translation of articles. Articles available in more than one language may\n",
       "offer \u001b[32m\"interwiki links\"\u001b[0m, which link to the counterpart articles in other\n",
       "editions.\u001b[1m[\u001b[0m\u001b[1;36m127\u001b[0m\u001b[1m]\u001b[0m\u001b[1m[\u001b[0mW \u001b[1;36m53\u001b[0m\u001b[1m]\u001b[0m\n",
       "\n",
       "A study published by _\u001b[1m[\u001b[0mPLOS One\u001b[1m]\u001b[0m\u001b[1m(\u001b[0m\u001b[35m/wiki/\u001b[0m\u001b[95mPLOS_One\u001b[0m \u001b[32m\"PLOS One\"\u001b[0m\u001b[1m)\u001b[0m_ in \u001b[1;36m2012\u001b[0m also\n",
       "estimated the share of contributions to different editions of Wikipedia from\n",
       "different regions of the world. It reported that the proportion of the edits\n",
       "made from North America was \u001b[1;36m51\u001b[0m% for the English Wikipedia, and \u001b[1;36m25\u001b[0m% for the\n",
       "\u001b[1m[\u001b[0mSimple English Wikipedia\u001b[1m]\u001b[0m\u001b[1m(\u001b[0m\u001b[35m/wiki/\u001b[0m\u001b[95mSimple_English_Wikipedia\u001b[0m \"Simple English\n",
       "Wikipedia\"\u001b[1m)\u001b[0m.\u001b[1m[\u001b[0m\u001b[1;36m126\u001b[0m\u001b[1m]\u001b[0m\n"
      ]
     },
     "metadata": {},
     "output_type": "display_data"
    }
   ],
   "source": [
    "print(result[0].text)"
   ]
  },
  {
   "cell_type": "code",
   "execution_count": null,
   "metadata": {},
   "outputs": [],
   "source": []
  }
 ],
 "metadata": {
  "kernelspec": {
   "display_name": ".venv",
   "language": "python",
   "name": "python3"
  },
  "language_info": {
   "codemirror_mode": {
    "name": "ipython",
    "version": 3
   },
   "file_extension": ".py",
   "mimetype": "text/x-python",
   "name": "python",
   "nbconvert_exporter": "python",
   "pygments_lexer": "ipython3",
   "version": "3.12.7"
  }
 },
 "nbformat": 4,
 "nbformat_minor": 2
}
