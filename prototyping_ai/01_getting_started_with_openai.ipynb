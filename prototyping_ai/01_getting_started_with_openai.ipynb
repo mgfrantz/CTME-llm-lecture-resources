{
  "nbformat": 4,
  "nbformat_minor": 0,
  "metadata": {
    "colab": {
      "provenance": [],
      "collapsed_sections": [
        "4HDOGmN6OmF0",
        "uZDWgZfZQGcU",
        "XfqCJ9bmLDG2",
        "e-_7WDTwPyZo"
      ],
      "toc_visible": true,
      "gpuType": "T4",
      "authorship_tag": "ABX9TyNZFNrXgKRqEp1XBt2p6r9B",
      "include_colab_link": true
    },
    "kernelspec": {
      "name": "python3",
      "display_name": "Python 3"
    },
    "language_info": {
      "name": "python"
    },
    "accelerator": "GPU",
    "widgets": {
      "application/vnd.jupyter.widget-state+json": {
        "801ec1b00f7c4d20b4176bef14fc51f8": {
          "model_module": "@jupyter-widgets/controls",
          "model_name": "VBoxModel",
          "model_module_version": "1.5.0",
          "state": {
            "_dom_classes": [
              "widget-interact"
            ],
            "_model_module": "@jupyter-widgets/controls",
            "_model_module_version": "1.5.0",
            "_model_name": "VBoxModel",
            "_view_count": null,
            "_view_module": "@jupyter-widgets/controls",
            "_view_module_version": "1.5.0",
            "_view_name": "VBoxView",
            "box_style": "",
            "children": [
              "IPY_MODEL_122fb4a897244375afd8b731a6920060",
              "IPY_MODEL_13fd9e957ba64865a65cba199ac5be18"
            ],
            "layout": "IPY_MODEL_4c49589ae5bb4b48a9cc6b244ee74f30"
          }
        },
        "122fb4a897244375afd8b731a6920060": {
          "model_module": "@jupyter-widgets/controls",
          "model_name": "FloatSliderModel",
          "model_module_version": "1.5.0",
          "state": {
            "_dom_classes": [],
            "_model_module": "@jupyter-widgets/controls",
            "_model_module_version": "1.5.0",
            "_model_name": "FloatSliderModel",
            "_view_count": null,
            "_view_module": "@jupyter-widgets/controls",
            "_view_module_version": "1.5.0",
            "_view_name": "FloatSliderView",
            "continuous_update": true,
            "description": "temperature",
            "description_tooltip": null,
            "disabled": false,
            "layout": "IPY_MODEL_13f71f6b63924150beba5cd872e0af61",
            "max": 2,
            "min": 0.1,
            "orientation": "horizontal",
            "readout": true,
            "readout_format": ".2f",
            "step": 0.1,
            "style": "IPY_MODEL_48d65f63e10e491baaa5029b53fd9d2c",
            "value": 1
          }
        },
        "13fd9e957ba64865a65cba199ac5be18": {
          "model_module": "@jupyter-widgets/output",
          "model_name": "OutputModel",
          "model_module_version": "1.0.0",
          "state": {
            "_dom_classes": [],
            "_model_module": "@jupyter-widgets/output",
            "_model_module_version": "1.0.0",
            "_model_name": "OutputModel",
            "_view_count": null,
            "_view_module": "@jupyter-widgets/output",
            "_view_module_version": "1.0.0",
            "_view_name": "OutputView",
            "layout": "IPY_MODEL_8065536cf4f3427e9fb595e375c47546",
            "msg_id": "",
            "outputs": [
              {
                "output_type": "display_data",
                "data": {
                  "text/plain": "<Figure size 600x400 with 1 Axes>",
                  "image/png": "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\n"
                },
                "metadata": {}
              }
            ]
          }
        },
        "4c49589ae5bb4b48a9cc6b244ee74f30": {
          "model_module": "@jupyter-widgets/base",
          "model_name": "LayoutModel",
          "model_module_version": "1.2.0",
          "state": {
            "_model_module": "@jupyter-widgets/base",
            "_model_module_version": "1.2.0",
            "_model_name": "LayoutModel",
            "_view_count": null,
            "_view_module": "@jupyter-widgets/base",
            "_view_module_version": "1.2.0",
            "_view_name": "LayoutView",
            "align_content": null,
            "align_items": null,
            "align_self": null,
            "border": null,
            "bottom": null,
            "display": null,
            "flex": null,
            "flex_flow": null,
            "grid_area": null,
            "grid_auto_columns": null,
            "grid_auto_flow": null,
            "grid_auto_rows": null,
            "grid_column": null,
            "grid_gap": null,
            "grid_row": null,
            "grid_template_areas": null,
            "grid_template_columns": null,
            "grid_template_rows": null,
            "height": null,
            "justify_content": null,
            "justify_items": null,
            "left": null,
            "margin": null,
            "max_height": null,
            "max_width": null,
            "min_height": null,
            "min_width": null,
            "object_fit": null,
            "object_position": null,
            "order": null,
            "overflow": null,
            "overflow_x": null,
            "overflow_y": null,
            "padding": null,
            "right": null,
            "top": null,
            "visibility": null,
            "width": null
          }
        },
        "13f71f6b63924150beba5cd872e0af61": {
          "model_module": "@jupyter-widgets/base",
          "model_name": "LayoutModel",
          "model_module_version": "1.2.0",
          "state": {
            "_model_module": "@jupyter-widgets/base",
            "_model_module_version": "1.2.0",
            "_model_name": "LayoutModel",
            "_view_count": null,
            "_view_module": "@jupyter-widgets/base",
            "_view_module_version": "1.2.0",
            "_view_name": "LayoutView",
            "align_content": null,
            "align_items": null,
            "align_self": null,
            "border": null,
            "bottom": null,
            "display": null,
            "flex": null,
            "flex_flow": null,
            "grid_area": null,
            "grid_auto_columns": null,
            "grid_auto_flow": null,
            "grid_auto_rows": null,
            "grid_column": null,
            "grid_gap": null,
            "grid_row": null,
            "grid_template_areas": null,
            "grid_template_columns": null,
            "grid_template_rows": null,
            "height": null,
            "justify_content": null,
            "justify_items": null,
            "left": null,
            "margin": null,
            "max_height": null,
            "max_width": null,
            "min_height": null,
            "min_width": null,
            "object_fit": null,
            "object_position": null,
            "order": null,
            "overflow": null,
            "overflow_x": null,
            "overflow_y": null,
            "padding": null,
            "right": null,
            "top": null,
            "visibility": null,
            "width": null
          }
        },
        "48d65f63e10e491baaa5029b53fd9d2c": {
          "model_module": "@jupyter-widgets/controls",
          "model_name": "SliderStyleModel",
          "model_module_version": "1.5.0",
          "state": {
            "_model_module": "@jupyter-widgets/controls",
            "_model_module_version": "1.5.0",
            "_model_name": "SliderStyleModel",
            "_view_count": null,
            "_view_module": "@jupyter-widgets/base",
            "_view_module_version": "1.2.0",
            "_view_name": "StyleView",
            "description_width": "",
            "handle_color": null
          }
        },
        "8065536cf4f3427e9fb595e375c47546": {
          "model_module": "@jupyter-widgets/base",
          "model_name": "LayoutModel",
          "model_module_version": "1.2.0",
          "state": {
            "_model_module": "@jupyter-widgets/base",
            "_model_module_version": "1.2.0",
            "_model_name": "LayoutModel",
            "_view_count": null,
            "_view_module": "@jupyter-widgets/base",
            "_view_module_version": "1.2.0",
            "_view_name": "LayoutView",
            "align_content": null,
            "align_items": null,
            "align_self": null,
            "border": null,
            "bottom": null,
            "display": null,
            "flex": null,
            "flex_flow": null,
            "grid_area": null,
            "grid_auto_columns": null,
            "grid_auto_flow": null,
            "grid_auto_rows": null,
            "grid_column": null,
            "grid_gap": null,
            "grid_row": null,
            "grid_template_areas": null,
            "grid_template_columns": null,
            "grid_template_rows": null,
            "height": null,
            "justify_content": null,
            "justify_items": null,
            "left": null,
            "margin": null,
            "max_height": null,
            "max_width": null,
            "min_height": null,
            "min_width": null,
            "object_fit": null,
            "object_position": null,
            "order": null,
            "overflow": null,
            "overflow_x": null,
            "overflow_y": null,
            "padding": null,
            "right": null,
            "top": null,
            "visibility": null,
            "width": null
          }
        },
        "f35a224937424f24857d8fb4314018d1": {
          "model_module": "@jupyter-widgets/controls",
          "model_name": "VBoxModel",
          "model_module_version": "1.5.0",
          "state": {
            "_dom_classes": [
              "widget-interact"
            ],
            "_model_module": "@jupyter-widgets/controls",
            "_model_module_version": "1.5.0",
            "_model_name": "VBoxModel",
            "_view_count": null,
            "_view_module": "@jupyter-widgets/controls",
            "_view_module_version": "1.5.0",
            "_view_name": "VBoxView",
            "box_style": "",
            "children": [
              "IPY_MODEL_b36eadc1af72495c890f18b7df3f5d93",
              "IPY_MODEL_632aaa1db0604bc096627444e4588ca1"
            ],
            "layout": "IPY_MODEL_ab8f3cee19b0427aac788e0d1a060409"
          }
        },
        "b36eadc1af72495c890f18b7df3f5d93": {
          "model_module": "@jupyter-widgets/controls",
          "model_name": "IntSliderModel",
          "model_module_version": "1.5.0",
          "state": {
            "_dom_classes": [],
            "_model_module": "@jupyter-widgets/controls",
            "_model_module_version": "1.5.0",
            "_model_name": "IntSliderModel",
            "_view_count": null,
            "_view_module": "@jupyter-widgets/controls",
            "_view_module_version": "1.5.0",
            "_view_name": "IntSliderView",
            "continuous_update": true,
            "description": "top_k",
            "description_tooltip": null,
            "disabled": false,
            "layout": "IPY_MODEL_0c82abbb7b1f4591a73039ac5f05efe0",
            "max": 5,
            "min": 1,
            "orientation": "horizontal",
            "readout": true,
            "readout_format": "d",
            "step": 1,
            "style": "IPY_MODEL_85a7f005f6b7463cb94b4b1b3c1baf55",
            "value": 3
          }
        },
        "632aaa1db0604bc096627444e4588ca1": {
          "model_module": "@jupyter-widgets/output",
          "model_name": "OutputModel",
          "model_module_version": "1.0.0",
          "state": {
            "_dom_classes": [],
            "_model_module": "@jupyter-widgets/output",
            "_model_module_version": "1.0.0",
            "_model_name": "OutputModel",
            "_view_count": null,
            "_view_module": "@jupyter-widgets/output",
            "_view_module_version": "1.0.0",
            "_view_name": "OutputView",
            "layout": "IPY_MODEL_e39d4b8c4a4e4618a6442ebf554c7cec",
            "msg_id": "",
            "outputs": [
              {
                "output_type": "display_data",
                "data": {
                  "text/plain": "<Figure size 1200x500 with 2 Axes>",
                  "image/png": "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\n"
                },
                "metadata": {}
              }
            ]
          }
        },
        "ab8f3cee19b0427aac788e0d1a060409": {
          "model_module": "@jupyter-widgets/base",
          "model_name": "LayoutModel",
          "model_module_version": "1.2.0",
          "state": {
            "_model_module": "@jupyter-widgets/base",
            "_model_module_version": "1.2.0",
            "_model_name": "LayoutModel",
            "_view_count": null,
            "_view_module": "@jupyter-widgets/base",
            "_view_module_version": "1.2.0",
            "_view_name": "LayoutView",
            "align_content": null,
            "align_items": null,
            "align_self": null,
            "border": null,
            "bottom": null,
            "display": null,
            "flex": null,
            "flex_flow": null,
            "grid_area": null,
            "grid_auto_columns": null,
            "grid_auto_flow": null,
            "grid_auto_rows": null,
            "grid_column": null,
            "grid_gap": null,
            "grid_row": null,
            "grid_template_areas": null,
            "grid_template_columns": null,
            "grid_template_rows": null,
            "height": null,
            "justify_content": null,
            "justify_items": null,
            "left": null,
            "margin": null,
            "max_height": null,
            "max_width": null,
            "min_height": null,
            "min_width": null,
            "object_fit": null,
            "object_position": null,
            "order": null,
            "overflow": null,
            "overflow_x": null,
            "overflow_y": null,
            "padding": null,
            "right": null,
            "top": null,
            "visibility": null,
            "width": null
          }
        },
        "0c82abbb7b1f4591a73039ac5f05efe0": {
          "model_module": "@jupyter-widgets/base",
          "model_name": "LayoutModel",
          "model_module_version": "1.2.0",
          "state": {
            "_model_module": "@jupyter-widgets/base",
            "_model_module_version": "1.2.0",
            "_model_name": "LayoutModel",
            "_view_count": null,
            "_view_module": "@jupyter-widgets/base",
            "_view_module_version": "1.2.0",
            "_view_name": "LayoutView",
            "align_content": null,
            "align_items": null,
            "align_self": null,
            "border": null,
            "bottom": null,
            "display": null,
            "flex": null,
            "flex_flow": null,
            "grid_area": null,
            "grid_auto_columns": null,
            "grid_auto_flow": null,
            "grid_auto_rows": null,
            "grid_column": null,
            "grid_gap": null,
            "grid_row": null,
            "grid_template_areas": null,
            "grid_template_columns": null,
            "grid_template_rows": null,
            "height": null,
            "justify_content": null,
            "justify_items": null,
            "left": null,
            "margin": null,
            "max_height": null,
            "max_width": null,
            "min_height": null,
            "min_width": null,
            "object_fit": null,
            "object_position": null,
            "order": null,
            "overflow": null,
            "overflow_x": null,
            "overflow_y": null,
            "padding": null,
            "right": null,
            "top": null,
            "visibility": null,
            "width": null
          }
        },
        "85a7f005f6b7463cb94b4b1b3c1baf55": {
          "model_module": "@jupyter-widgets/controls",
          "model_name": "SliderStyleModel",
          "model_module_version": "1.5.0",
          "state": {
            "_model_module": "@jupyter-widgets/controls",
            "_model_module_version": "1.5.0",
            "_model_name": "SliderStyleModel",
            "_view_count": null,
            "_view_module": "@jupyter-widgets/base",
            "_view_module_version": "1.2.0",
            "_view_name": "StyleView",
            "description_width": "",
            "handle_color": null
          }
        },
        "e39d4b8c4a4e4618a6442ebf554c7cec": {
          "model_module": "@jupyter-widgets/base",
          "model_name": "LayoutModel",
          "model_module_version": "1.2.0",
          "state": {
            "_model_module": "@jupyter-widgets/base",
            "_model_module_version": "1.2.0",
            "_model_name": "LayoutModel",
            "_view_count": null,
            "_view_module": "@jupyter-widgets/base",
            "_view_module_version": "1.2.0",
            "_view_name": "LayoutView",
            "align_content": null,
            "align_items": null,
            "align_self": null,
            "border": null,
            "bottom": null,
            "display": null,
            "flex": null,
            "flex_flow": null,
            "grid_area": null,
            "grid_auto_columns": null,
            "grid_auto_flow": null,
            "grid_auto_rows": null,
            "grid_column": null,
            "grid_gap": null,
            "grid_row": null,
            "grid_template_areas": null,
            "grid_template_columns": null,
            "grid_template_rows": null,
            "height": null,
            "justify_content": null,
            "justify_items": null,
            "left": null,
            "margin": null,
            "max_height": null,
            "max_width": null,
            "min_height": null,
            "min_width": null,
            "object_fit": null,
            "object_position": null,
            "order": null,
            "overflow": null,
            "overflow_x": null,
            "overflow_y": null,
            "padding": null,
            "right": null,
            "top": null,
            "visibility": null,
            "width": null
          }
        },
        "d03d7517e2e04567a7f1c312a71349d0": {
          "model_module": "@jupyter-widgets/controls",
          "model_name": "VBoxModel",
          "model_module_version": "1.5.0",
          "state": {
            "_dom_classes": [
              "widget-interact"
            ],
            "_model_module": "@jupyter-widgets/controls",
            "_model_module_version": "1.5.0",
            "_model_name": "VBoxModel",
            "_view_count": null,
            "_view_module": "@jupyter-widgets/controls",
            "_view_module_version": "1.5.0",
            "_view_name": "VBoxView",
            "box_style": "",
            "children": [
              "IPY_MODEL_f110466be9b240399444d86f16e5399b",
              "IPY_MODEL_b812da5e98be45ac97ae87629f238813"
            ],
            "layout": "IPY_MODEL_5e8b7c1b642c4df8b0509b6c60c8c848"
          }
        },
        "f110466be9b240399444d86f16e5399b": {
          "model_module": "@jupyter-widgets/controls",
          "model_name": "FloatSliderModel",
          "model_module_version": "1.5.0",
          "state": {
            "_dom_classes": [],
            "_model_module": "@jupyter-widgets/controls",
            "_model_module_version": "1.5.0",
            "_model_name": "FloatSliderModel",
            "_view_count": null,
            "_view_module": "@jupyter-widgets/controls",
            "_view_module_version": "1.5.0",
            "_view_name": "FloatSliderView",
            "continuous_update": true,
            "description": "p",
            "description_tooltip": null,
            "disabled": false,
            "layout": "IPY_MODEL_548f4ce5abaf4aef9003416a4a0258bd",
            "max": 1,
            "min": 0.01,
            "orientation": "horizontal",
            "readout": true,
            "readout_format": ".2f",
            "step": 0.05,
            "style": "IPY_MODEL_779a02f25da840928452018d10f18754",
            "value": 0.46
          }
        },
        "b812da5e98be45ac97ae87629f238813": {
          "model_module": "@jupyter-widgets/output",
          "model_name": "OutputModel",
          "model_module_version": "1.0.0",
          "state": {
            "_dom_classes": [],
            "_model_module": "@jupyter-widgets/output",
            "_model_module_version": "1.0.0",
            "_model_name": "OutputModel",
            "_view_count": null,
            "_view_module": "@jupyter-widgets/output",
            "_view_module_version": "1.0.0",
            "_view_name": "OutputView",
            "layout": "IPY_MODEL_f6836e6ff95c43d4b1deba72245feddc",
            "msg_id": "",
            "outputs": [
              {
                "output_type": "display_data",
                "data": {
                  "text/plain": "<Figure size 1200x500 with 2 Axes>",
                  "image/png": "iVBORw0KGgoAAAANSUhEUgAABKUAAAHqCAYAAADVi/1VAAAAOXRFWHRTb2Z0d2FyZQBNYXRwbG90bGliIHZlcnNpb24zLjguMCwgaHR0cHM6Ly9tYXRwbG90bGliLm9yZy81sbWrAAAACXBIWXMAAA9hAAAPYQGoP6dpAACOkklEQVR4nOzdeVxU1f/H8TeLgKjggoCoiVu5i2ESmZmJoplLi5pZEJlt4kZlWu6WaJpbmqblWqZpZYuGC2qbpIlZZq6lYioImqCQInB/f/hjvo4MCggzgK/n48HjwZx77pnPvTNz59zPnHuunWEYhgAAAAAAAAArsrd1AAAAAAAAALj1kJQCAAAAAACA1ZGUAgAAAAAAgNWRlAIAAAAAAIDVkZQCAAAAAACA1ZGUAgAAAAAAgNWRlAIAAAAAAIDVkZQCAAAAAACA1ZGUAgAAAAAAgNWRlAKsaPHixbKzs9PRo0dNZffff7/uv/9+m8V04cIFeXp66uOPP7ZZDCXJ5cuXVbNmTb333nu2DuWGjh49Kjs7Oy1evLhA69vZ2Wns2LGFGtO1bP3+v9bYsWNlZ2enpKSkQmvT19dXDz300A3rbd26VXZ2dtq6daup7Omnn5avr69Zvfy8Lr6+vnr66afzHiyAYunaY+XNHt8LytIxyZay+1U7d+4stDbvv/9+NWnS5Ib1LL0G2d8hV8vPcbi4fSdea8qUKapTp44cHBzk5+dn1ecuqd9nlr7bi5KdnZ3Cw8Ot8lyF5fjx43JxcdFPP/1k61BKhDNnzqhcuXJat26drUMpNCSlbhF2dnZ5+rPWAfNmZGVlaenSpQoICFDlypVVoUIF3X777QoJCdHPP/9s6/BKnJkzZ6pChQp6/PHHbR1Krk6cOKFevXqpYsWKcnNzU/fu3fX333/nu51z587J09NTdnZ2Wr16tcU6u3btUrdu3VS5cmW5urqqSZMmmjVrlml5mTJlFBERobfeeksXL14s8DZdT2pqqiZMmKBmzZrJ1dVV7u7uatOmjZYuXSrDMIrkOYs7X19fs2OVp6en2rRpoy+++MLWodnctm3bNHbsWJ07d87WoQA2k52ccHFx0YkTJ3Isz2uiAYXj/vvvNztmV65cWXfddZcWLlyorKwsW4dnU3/++afGjh1r9gNlSbBhwwYNGzZMrVu31qJFizRx4sTr1v/666/Vtm1beXp6ytXVVXXq1FGvXr0UFRVlpYjzZ+LEiVqzZo1Nnrs0nacVxPjx4xUQEKDWrVvbOpRc7du3T506dVL58uVVuXJlPfXUU0pMTMx3O3/99ZdcXFyum0zftGmTHnjgAbm7u6tChQry9/fXypUrTcurVKmiZ599VqNGjSrw9hQ3jrYOANaxbNkys8dLly7Vxo0bc5Q3bNjQmmEVyKBBgzRnzhx1795dffv2laOjow4cOKBvv/1WderU0d13323rEPNlw4YNNnvuy5cva+bMmRo6dKgcHBxsFsf1XLhwQe3atVNycrJef/11lSlTRtOnT1fbtm21e/duValSJc9tjR49Wmlpabku37Bhg7p27aoWLVpo1KhRKl++vP766y/9888/ZvXCwsI0fPhwLV++XM8880yBt82ShIQEtW/fXvv27dPjjz+u8PBwXbx4UZ999plCQ0O1bt06ffzxx3l6vWrVqqX//vtPZcqUKVAs//33nxwdi8/XhJ+fn15++WVJ0smTJ/X+++/rkUce0dy5c/XCCy/YOLqbd9999+m///6Tk5PTdetd+7ps27ZN48aN09NPP62KFSua1T1w4IDs7fn9CbeOS5cuadKkSXr33XdtHUqRutnjuzXUqFFDkZGRkqTExEQtXbpU/fr108GDBzVp0iQbR3fz8voaXHsc/vPPPzVu3Djdf//9OUad2bJPeCObN2+Wvb29Pvzwwxt+T02dOlWvvvqq2rZtqxEjRsjV1VWHDx/Wpk2btGLFCnXq1MlKUefdxIkT9dhjj6lHjx5Wf+7SdJ6WX4mJiVqyZImWLFli61By9c8//+i+++6Tu7u7Jk6cqAsXLmjq1Knas2ePduzYccPPw9WGDh0qR0dHXbp0yeLyRYsWqV+/furQoYMmTpwoBwcHHThwQMePHzer98ILL2jWrFnavHmzHnjggZvavuKg+JxtoEg9+eSTZo9//vlnbdy4MUd5cZeQkKD33ntP/fv31/z5882WzZgxo0AZa1vLz4GssH3zzTdKTExUr169bBbDjbz33ns6dOiQduzYobvuukuS1LlzZzVp0kTvvPPODX+py/bHH39o7ty5Gj16tEaPHp1jeUpKikJCQtSlSxetXr36uifyFStWVMeOHbV48eJCT0qFhoZq3759+uKLL9StWzdT+aBBg/Tqq69q6tSpatGihV577bVc28jIyFBWVpacnJzk4uJS4FhuZt2iUL16dbNjVkhIiOrVq6fp06fnmpS6el8Ud/b29nna5/l5XZydnW8mJKDE8fPz04IFCzRixAj5+PgUyXMYhqGLFy+qbNmyRdJ+XmSPCivO3N3dzY7Zzz//vO644w7Nnj1bEyZMsJjMycrKUnp6erHfNinvr0F+jsPF+bvq9OnTKlu27A1jzMjI0IQJE9ShQweLSbbTp08XVYglVmk5TyuIjz76SI6OjuratautQ8nVxIkTlZqaqtjYWN12222SpFatWqlDhw5avHixnnvuuTy1s379eq1fv17Dhg3Tm2++mWP50aNHNWDAAA0cOFAzZ868blsNGzZUkyZNtHjx4lKRlOLnU5ikpqbq5ZdfVs2aNeXs7Kw77rhDU6dOzXG5UPa1yh9//LHuuOMOubi4yN/fX99//32enufpp59W+fLl9ffffys4OFjlypWTj4+Pxo8ff8NLk44cOSLDMCwO78y+pCfb2bNn9corr6hp06YqX7683Nzc1LlzZ/32229m62Vf6/3pp59q3Lhxql69uipUqKDHHntMycnJunTpkoYMGSJPT0+VL19eYWFhObLbN7NPrp0/4Op43nrrLdWoUUMuLi5q3769Dh8+nGP9OXPmqE6dOipbtqxatWqlH374Ic9zEqxZs0a+vr6qW7euWfnNvEaFbfXq1brrrrtMCSlJatCggdq3b69PP/00z+0MHjxYDz/8sNq0aWNx+fLly5WQkKC33npL9vb2Sk1Nve4lBh06dNCPP/6os2fP5n1jbuDnn3/W+vXr9fTTT5slpLJFRkaqfv36mjx5sv777z9J/5vTYurUqZoxY4bq1q0rZ2dn/fnnn7nOObJq1So1atRILi4uatKkib744os8zV2UPVfG4cOHTaNy3N3dFRYWlmME2qJFi/TAAw/I09NTzs7OatSokebOnVso+ymbt7e3GjZsqCNHjtxwX0hXfuVt06aNypUrp4oVK6p79+7at2+fxbaTkpLUq1cvubm5qUqVKho8eHCOyzXzu40bNmyQn5+fXFxc1KhRI33++edmy/M678TVr8vYsWP16quvSpJq165tGuKffVmIpTk4zp07pyFDhpiO9fXq1dPkyZNzvN9XrFghf39/VahQQW5ubmratOkNO0mArb3++uvKzMzM00ic7JPn7GOFr6+vXn/99Rzf8dnzwq1fv14tW7ZU2bJl9f777xdK/6Ggx8prj+/ZsVj6u/bY/u2335qOhRUqVFCXLl20d+/eHM+xZs0aNWnSxOy74ma4urrq7rvvVmpqqulHxKv7T40bN5azs7Pp8q5ff/1VnTt3lpubm8qXL6/27dvnOk1DWlqann/+eVWpUkVubm4KCQnRv//+a1bnyy+/VJcuXeTj4yNnZ2fVrVtXEyZMUGZmpsU2Y2Njdc8996hs2bKqXbu25s2bZ7Y8r/N6XX0cXrx4sXr27ClJateuXY7Lsiz13y5duqQxY8aoXr16cnZ2Vs2aNTVs2LAc76WNGzfq3nvvVcWKFVW+fHndcccdev31168bm5S3z4GdnZ0WLVqk1NRUU8y5bXdSUpJSUlJyvRTr6r56frbPkrx+n2VlZWnmzJlq2rSpXFxcVLVqVXXq1Ml0+ZSdnZ1SU1O1ZMkS0/Zd/d154sQJPfPMM/Ly8pKzs7MaN26shQsX5ojnn3/+UY8ePVSuXDl5enpq6NChedqOvMjreZolb775puzt7c1GkOblOJB9PnDixAn16NFD5cuXV9WqVfXKK6/k+NwUtM+wZs0aBQQEqHz58mbl2Zdc3+hzaA2fffaZHnroIVNCSpKCgoJ0++235/lc5PLlyxo8eLAGDx6c47wr27x585SZmanx48dLunK1yPVe3w4dOujrr78uFVN7MFIKkq786tetWzdt2bJF/fr1k5+fn9avX69XX31VJ06c0PTp083qf/fdd1q5cqUGDRokZ2dnvffee+rUqZN27NiRpzkbMjMz1alTJ9199916++23FRUVpTFjxigjI8P0QbSkVq1akq6cVPfs2VOurq651v3777+1Zs0a9ezZU7Vr11ZCQoLef/99tW3bVn/++WeOX1AjIyNVtmxZDR8+XIcPH9a7776rMmXKyN7eXv/++6/Gjh2rn3/+WYsXL1bt2rVzjLa52X1yrUmTJsne3l6vvPKKkpOT9fbbb6tv377avn27qc7cuXMVHh6uNm3aaOjQoTp69Kh69OihSpUqqUaNGjd8jm3btunOO++0uKygr5F05SCal/mWypQpI3d391yXZ2Vl6ffff7c4GqlVq1basGGDzp8/rwoVKlz3eVatWqVt27Zp3759uc7hsGnTJrm5uZm+eA8ePKhy5crpqaee0vTp03P8Gurv7y/DMLRt27Y8TWKdF19//bWkKyOALHF0dNQTTzyhcePG6aefflJQUJBp2aJFi3Tx4kU999xzcnZ2VuXKlS0m1dauXavevXuradOmioyM1L///qt+/fqpevXqeY6zV69eql27tiIjI7Vr1y598MEH8vT01OTJk0115s6dq8aNG6tbt25ydHTU119/rZdeeklZWVkaMGBAnp/rei5fvqzjx4/nuITT0r7YtGmTOnfurDp16mjs2LH677//9O6776p169batWtXjpO2Xr16ydfXV5GRkfr55581a9Ys/fvvv1q6dGmBtvHQoUPq3bu3XnjhBYWGhmrRokXq2bOnoqKi1KFDhwLvg0ceeUQHDx7UJ598ounTp8vDw0OSVLVqVYv109LS1LZtW504cULPP/+8brvtNm3btk0jRozQqVOnNGPGDElXTm769Omj9u3bm17Xffv26aefftLgwYMLHC9Q1GrXrq2QkBAtWLBAw4cPv+5oqWeffVZLlizRY489ppdfflnbt29XZGSkabTq1Q4cOKA+ffro+eefV//+/XXHHXeYlt1M/6GwjpUNGzbMcanPuXPnFBERYZYEWLZsmUJDQxUcHKzJkycrLS1Nc+fO1b333qtff/3VdCzcsGGDHn30UTVq1EiRkZE6c+aMwsLC8tS3uJ6///5bDg4OZpcab968WZ9++qnCw8Pl4eEhX19f7d27V23atJGbm5uGDRumMmXK6P3339f999+v7777TgEBAWbthoeHq2LFiho7dqwOHDiguXPn6tixY6ZknXQlIVS+fHlFRESofPny2rx5s0aPHq2UlBRNmTLFrL1///1XDz74oHr16qU+ffro008/1YsvvignJ6ebGiF93333adCgQZo1a5Zef/110+VYuV2WlZWVpW7duunHH3/Uc889p4YNG2rPnj2aPn26Dh48aJoDae/evXrooYfUrFkzjR8/Xs7Ozjp8+HCeJo7Oy+dg2bJlmj9/vnbs2KEPPvhAknTPPfdYbM/T01Nly5bV119/rYEDB6py5cq5Pndet8+SvH6fSVK/fv20ePFide7cWc8++6wyMjL0ww8/6Oeff1bLli21bNkyPfvss2rVqpVp1Et24iAhIUF33323KYFatWpVffvtt+rXr59SUlI0ZMgQSVcurW/fvr3i4uI0aNAg+fj4aNmyZdq8efMNX4Mbye952tVGjhypiRMn6v3331f//v0l5f04IF05HwgODlZAQICmTp2qTZs26Z133lHdunX14osvSip4n+Hy5cv65ZdfTO1c62Y+h8nJybp8+fJ160hXRp9fmxC72okTJ3T69Gm1bNkyx7JWrVrlebLxGTNm6N9//9XIkSNz/CiZbdOmTWrQoIHWrVtnem0rVaqkAQMGaNy4cTmu4vD399f06dO1d+/ekj9nooFb0oABA4yrX/41a9YYkow333zTrN5jjz1m2NnZGYcPHzaVSTIkGTt37jSVHTt2zHBxcTEefvjhGz53aGioIckYOHCgqSwrK8vo0qWL4eTkZCQmJl53/ZCQEEOSUalSJePhhx82pk6dauzbty9HvYsXLxqZmZlmZUeOHDGcnZ2N8ePHm8q2bNliSDKaNGlipKenm8r79Olj2NnZGZ07dzZrIzAw0KhVq5ZZWV73yaJFiwxJxpEjR0xlbdu2Ndq2bZsjnoYNGxqXLl0ylc+cOdOQZOzZs8cwDMO4dOmSUaVKFeOuu+4yLl++bKq3ePFiQ5JZm5ZcvnzZsLOzM15++eUcy272Ncpe/0Z/N4oxMTHRkGT2emWbM2eOIcnYv3//ddtIS0szbrvtNmPEiBGGYfxv/65atcqsXrNmzQxXV1fD1dXVGDhwoPHZZ58ZAwcONCQZjz/+eI52T548aUgyJk+efN3nz48ePXoYkox///031zqff/65IcmYNWuWYRhX3tOSDDc3N+P06dNmdbOXLVq0yFTWtGlTo0aNGsb58+dNZVu3bjUkWXxfjxkzxvR4zJgxhiTjmWeeMav38MMPG1WqVDErS0tLyxF7cHCwUadOHbOya9//ualVq5bRsWNHIzEx0UhMTDR+++034/HHHzd7n15vX/j5+Rmenp7GmTNnTGW//fabYW9vb4SEhOTYxm7dupmt/9JLLxmSjN9++y3f21irVi1DkvHZZ5+ZypKTk41q1aoZLVq0MJVlvze3bNliKgsNDb3h6zJlypQcx5Wrnzs0NNT0eMKECUa5cuWMgwcPmtUbPny44eDgYMTFxRmGYRiDBw823NzcjIyMjBxtAsVR9vfrL7/8Yvz111+Go6OjMWjQINPytm3bGo0bNzY93r17tyHJePbZZ83aeeWVVwxJxubNm01l2Z/hqKgos7qF0X8o6LHS0vH9allZWcZDDz1klC9f3ti7d69hGIZx/vx5o2LFikb//v3N6sbHxxvu7u5m5X5+fka1atWMc+fOmco2bNhg8bvCkrZt2xoNGjQwHbP37dtnDBo0yJBkdO3a1VRPkmFvb2+KMVuPHj0MJycn46+//jKVnTx50qhQoYJx3333mcqyX3d/f3+z1+Dtt982JBlffvmlqczSvn7++ecNV1dX4+LFi2axSzLeeecdU9mlS5dM3yPZz2PpNcj+DrnatcfhVatW5TjWX/3cV7/Oy5YtM+zt7Y0ffvjBrN68efMMScZPP/1kGIZhTJ8+3ZB0w/7ZtfLzOQgNDTXKlSuXp3ZHjx5tSDLKlStndO7c2XjrrbeM2NjYHPXyun2GUfDvs82bNxuSzI4H2bKyskz/lytXzqz9bP369TOqVatmJCUlmZU//vjjhru7u+l9NWPGDEOS8emnn5rqpKamGvXq1cv19c7NzZ6nDRgwwDAMw3j55ZcNe3t7Y/Hixabl+TkOZPfnr+2Ht2jRwvD39zc9Lmif4fDhw4Yk4913382xLK+fw9xkr3+jP0uv+dV++eUXQ5KxdOnSHMteffVVQ5LZ8cOSU6dOGRUqVDDef/99wzDMv6+u5ubmZlSqVMlwdnY2Ro0aZaxevdp44oknDEnG8OHDc7S7bds2Q5KxcuXK6z5/ScDle5AkrVu3Tg4ODho0aJBZ+csvvyzDMPTtt9+alQcGBsrf39/0+LbbblP37t21fv36XIdBX+vq25Vm//qQnp6uTZs2XXe9RYsWafbs2apdu7a++OILvfLKK2rYsKHat29vdscdZ2dnU0Y5MzNTZ86cMQ1n3rVrV452Q0JCzOY3CAgIkGEYOTLxAQEBOn78uDIyMszKC2OfXC0sLMzsuv3sy86y7zq3c+dOnTlzRv379zeb9Lhv376qVKnSDds/e/asDMO4bt2CvkbDhg3Txo0bb/j3zjvvXLed7EvULM3HkD1yKbtObiZNmqTLly/fcAj7hQsXlJaWppCQEM2aNUuPPPKIZs2apeeff14rVqzQoUOHzOpn77ekpKTrtpsf58+fl6TrjvzKXpaSkmJW/uijj+Y6OibbyZMntWfPHoWEhJj9KtS2bVs1bdo0z3FeO39TmzZtdObMGbOYrp5rJTk5WUlJSWrbtq3+/vtvJScn5/m5rrZhwwZVrVpVVatWVfPmzbVq1So99dRTZiO0pJz74tSpU9q9e7eefvpps19smzVrpg4dOlj8levaEQoDBw6UJLO6+dlGHx8fPfzww6bH2ZeX/Prrr4qPj8/Pbrgpq1atUps2bVSpUiUlJSWZ/oKCgpSZmWm65LhixYpKTU3Vxo0brRYbUFjq1Kmjp556SvPnz9epU6cs1sn+LEdERJiVZ99MYe3atWbltWvXVnBwsMW2bqb/UBTHSkmaMGGCvvnmGy1evFiNGjWSdGU0w7lz59SnTx+zz7+Dg4MCAgK0ZcsWSf87ZoaGhpqNZu7QoYOprbzYv3+/6ZjdsGFDvfvuu+rSpUuOy57atm1r1m5mZqY2bNigHj16qE6dOqbyatWq6YknntCPP/6Y4zvwueeeM3sNXnzxRTk6OuZ6zD5//rySkpLUpk0bpaWlaf/+/WbtOTo66vnnnzc9dnJy0vPPP6/Tp08rNjY2z/vgZq1atUoNGzZUgwYNzF6z7Dlksl+z7JFnX375Zb7ubpjfz0FejRs3TsuXL1eLFi20fv16vfHGG/L399edd95pdtl8XrfPkrx+n3322Weys7PTmDFjcrSRPYouN4Zh6LPPPlPXrl1lGIbZ8wQHBys5Odl0TrFu3TpVq1ZNjz32mGl9V1fXPM83dD35PU8zDEPh4eGaOXOmPvroI4WGhpqW5fU4cDVL/b6r74Jd0D7DmTNnJCnXc5Gb+Ry+8847eToXGTZs2HXbKYxzkddee0116tTRs88+e916Fy5c0L///qtx48Zp/PjxevTRR/Xxxx+rU6dOmjlzpuk8IVtRnIvYCpfvQZJ07Ngx+fj45DgZzh5OfOzYMbPy+vXr52jj9ttvV1pamhITE1W5cuUcc+1UrVrVdMcwe3t7s45G9vqSbniLXHt7ew0YMEADBgzQmTNn9NNPP2nevHn69ttv9fjjj+uHH36Q9L/rx9977z0dOXLELDFk6Y5tV18nLMnUEatZs2aO8qysLCUnJ5u1c6N94u3tfd3tulE82Qee7DkSsl+TevXqmdVzdHTMcSnS9Ri5XId8M69Ro0aN8tVxzU12B9LS9fjZlwdeb6LZo0ePasqUKZozZ851h+Ze3U6fPn3Myp944gm9//77iomJMXuNs/fbjTo01yYc3N3dc405+/N3/vz5HHdRy5Zb4qp27drXjUPK/T2TXWYpWWvJ9d6bbm5ukqSffvpJY8aMUUxMTI75ppKTk6972WZuAgIC9Oabb8rOzk6urq5q2LChxf107b7I3u6rL7fJ1rBhQ61fv16pqakqV66cqfzaz3PdunVlb29v9t7PzzbWq1cvx3vl6s9Tfo8PBXXo0CH9/vvvuSYwsyegfemll/Tpp5+qc+fOql69ujp27KhevXoVyzsmAZaMHDlSy5Yt06RJkyzOa3Ls2DHZ29vnOB56e3urYsWKOfo91zvG3kz/oSiOlVFRURo3bpxGjBihRx991FSe/eNKbpPiZh+/s7fdUr8mtx/2LPH19dWCBQtME4LXr18/x3xCUs59m5iYqLS0tFyP2VlZWTp+/LgaN25sKr821vLly6tatWpmx+y9e/dq5MiR2rx5c46klqUfEq7+TpDMj9nWutPzoUOHtG/fvhses3v37q0PPvhAzz77rIYPH6727dvrkUce0WOPPXbdG7fk93OQH3369FGfPn2UkpKi7du3a/HixVq+fLm6du2qP/74Qy4uLnnePkvy+n32119/ycfH57qXEeYmMTFR586d0/z583PcYOna5zl27JjF73pL7+P8yu952tKlS3XhwgXNnTs3R782r8eBbNlzcF2tUqVKZnO23WyfIbdzkZv5HF49UOBm3Oy5yM8//6xly5YpOjr6hndDLlu2rFJTU3O8Zn369FFUVJR+/fVX3XfffabyvJ6LlAQkpVAktm3bpnbt2pmVHTlyJF/JkryoUqWKunXrpm7dupnmGTh27Jhq1aqliRMnatSoUXrmmWc0YcIEVa5cWfb29hoyZIjFX5GyE2Z5Lc/tAFpYivp5K1euLDs7uxwTgRaG5OTkG/5qIF35xeN6nYTKlSvL2dnZ4i/d2WXXmy9k9OjRql69uu6//35TxzQ7SZSYmKijR4/qtttuk729vXx8fLR37155eXmZtZHdgb52P2U/zp7DJzfVqlUze7xo0aIcE09na9iwodasWaPff//d7Evnar///rsk5Uj6WfMuUDd6b/71119q3769GjRooGnTpqlmzZpycnLSunXrNH369Hz9ins1Dw8Ps3m0clMU++LaL/yi2sailpWVpQ4dOuT6y2B2Z8/T01O7d+/W+vXr9e233+rbb7/VokWLFBISUqxv2wxkq1Onjp588knNnz9fw4cPz7VeXjvz1zuuFLT/UBTHkSNHjqhv377q0KFDjrs7Zbe3bNkyi4nwq0ddF4Zy5crZ7Jh9rXPnzqlt27Zyc3PT+PHjVbduXbm4uGjXrl167bXXivUxu2nTppo2bZrF5dmJz7Jly+r777/Xli1btHbtWkVFRWnlypV64IEHtGHDhlzfi9mK8qTWzc1NHTp0UIcOHVSmTBktWbJE27dvV9u2bfO8fZbk9fvsZmS/L5588kmz0UZXa9as2U0/T2Fr3bq1du/erdmzZ6tXr15mfe38Hgdu9N6RCt5nyE7OF8W5yNmzZ5Wenn7DemXLlr1u8j+7H5/buUj2uUpuhg0bpjZt2qh27dqmc5HskU2nTp1SXFyc6YcNHx8fHTp0qNDPRUoCklKQdGUC8U2bNuWYNDp7OHP2BOPZrr2USZIOHjwoV1dXVa1aVc7OzjmGcF594MvKytLff/9t9oVx8OBBSSpw4qply5b67rvvdOrUKdWqVUurV69Wu3bt9OGHH5rVO3fuXJF8eG+0Twpb9mty+PBhswRgRkaGjh49esMvSUdHR9WtW9d057Jr3cxrNHjw4DyduLZt2/a6dxqzt7dX06ZNTXdHudr27dtVp06d617qFhcXp8OHD+cY8SVd+VVHunJAr1ixovz9/bVx40adOHHC7FetkydPSso5cXT2fsttctJs134Orv5l91oPPfSQIiMjtXTpUotJqczMTC1fvlyVKlXK9a4213P1e+ZalsoK6uuvv9alS5f01VdfmY0guN4w/KKUvd0HDhzIsWz//v3y8PDI8UvcoUOHzH69P3z4sLKyskzv/fxu4+HDh2UYhlnH/2aPednyczJRt25dXbhwIU8nik5OTuratau6du2qrKwsvfTSS3r//fc1atQoi6PtgOJm5MiR+uijj3Jc4itdOS5kZWXp0KFDZsfxhIQEnTt3Lke/pygU9rHyv//+0yOPPKKKFSvqk08+yfGrfPbEzZ6entc9BmRvu6V+jaXjaGGrWrWqXF1dcz1m29vb50hWHDp0yKwvdOHCBZ06dUoPPvigpCt3Jzxz5ow+//xzs+/X3PpAJ0+ezDGC1lbH7N9++03t27e/4Xr29vZq37692rdvr2nTpmnixIl64403tGXLllxfb2t/Dlq2bKklS5aYTvDzs33Xyuv3Wd26dbV+/XqdPXv2uj+EWnr+qlWrqkKFCsrMzLzh89SqVUt//PFHju/6wvjM5Pc8rV69enr77bd1//33q1OnToqOjjatl9fjQH4VpM9w2223qWzZskXyOXzkkUf03Xff3TDu0NDQ695Bs3r16qpatarFc5EdO3bIz8/vuu3HxcXp2LFjFkfbduvWTe7u7jp37pykK6O7Dh06pBMnTpidu9zsuUhJwJxSkCQ9+OCDyszM1OzZs83Kp0+fLjs7O3Xu3NmsPCYmxmz49vHjx/Xll1+qY8eOcnBwUKVKlRQUFGT2d+3dy65+LsMwNHv2bJUpU0bt27fPNc74+HjT7d2vlp6ebhoWmX3gc3BwyDGqaNWqVWbzThWmG+2TwtayZUtVqVJFCxYsMJuf4uOPP87zLw6BgYEWD7LZCvIaSYU3p5QkPfbYY/rll1/M4jxw4IA2b95suq1ytv379ysuLs70+M0339QXX3xh9jdhwgRTjF988YXpi65Xr16SlCOJ+cEHH8jR0THHLZpjY2NlZ2enwMDA68Z/7efg2pFTV7vnnnsUFBSkRYsW6Ztvvsmx/I033tDBgwc1bNiwAv2y7OPjoyZNmpiGdWf77rvvtGfPnny3l5vs9/vVn7/k5GQtWrSo0J4jP6pVqyY/Pz8tWbLE9MUvSX/88Yc2bNhgOmm52pw5c8weZ99GOftYmN9tPHnypNndvFJSUrR06VL5+fnd9KV72e/hq7ctN7169VJMTIzWr1+fY9m5c+dMx5LseR6y2dvbmxLdhXV7a6Co1a1bV08++aTef//9HJdSZ3/ur75DlyTTiI0uXboUeXyFfax84YUXdPDgQX3xxRcW52gJDg6Wm5ubJk6caPGuVImJiZLMj5lXX9a2ceNGi32wwubg4KCOHTvqyy+/NLv8LiEhQcuXL9e9996b4xKj+fPnm23T3LlzlZGRcd1jdnp6ut577z2LMWRkZOj99983q/v++++ratWqN31ZUH6P2SdOnNCCBQtyLPvvv/+UmpoqSTmmzJBkOlm+3jG7KD4HaWlpiomJsbgse+6j7B//8rp9luT1++zRRx+VYRgaN25cjnpXvx/KlSuX4zVxcHDQo48+qs8++0x//PFHjvWzPzPSlX158uRJrV692lSWlpaW62V/+ZHf8zTpygiudevWad++feratavpCoa8Hgfyo6B9hjJlyqhly5a5novczOewsOaUkq68h7755hsdP37cVBYdHa2DBw+anYtcvnxZ+/fvNxtVNX/+/BznItnzlE6dOlUff/yxqW7v3r0lmZ+LZGVladGiRapcuXKObY6NjZW7u/t1f/AuKRgpBUlS165d1a5dO73xxhs6evSomjdvrg0bNujLL7/UkCFDTFn1bE2aNFFwcLAGDRokZ2dn05e6pQO+JS4uLoqKilJoaKgCAgL07bffau3atXr99devO6ron3/+UatWrfTAAw+offv28vb21unTp/XJJ5/ot99+05AhQ0yjoB566CGNHz9eYWFhuueee7Rnzx59/PHHFkfNFIab3Sf55eTkpLFjx2rgwIF64IEH1KtXLx09elSLFy9W3bp18/SLU/fu3bVs2TIdPHgwxzDngr5GUuHNKSVdGdG0YMECdenSRa+88orKlCmjadOmycvLyzQRZ7aGDRuajb669957c7SXPQfRXXfdpR49epjKW7RooWeeeUYLFy5URkaGqZ1Vq1ZpxIgROS4T3Lhxo1q3bm1xfrKbsXTpUrVv317du3fXE088oTZt2ujSpUv6/PPPtXXrVvXu3VuvvvpqgdufOHGiunfvrtatWyssLEz//vuvZs+erSZNmpglqm5Gx44dTb+YPf/887pw4YIWLFggT0/PXCcdLmpTpkxR586dFRgYqH79+um///7Tu+++K3d3d40dOzZH/SNHjqhbt27q1KmTYmJi9NFHH+mJJ55Q8+bNJeV/G2+//Xb169dPv/zyi7y8vLRw4UIlJCQUSqIuu5Pyxhtv6PHHH1eZMmXUtWvXHKO/JOnVV1/VV199pYceekhPP/20/P39lZqaqj179mj16tU6evSoPDw89Oyzz+rs2bN64IEHVKNGDR07dkzvvvuu/Pz8SsUvcrh1vPHGG1q2bJkOHDhg1nFv3ry5QkNDNX/+fNOlXTt27NCSJUvUo0ePHFMQFIXCPFauXbtWS5cu1aOPPqrff//ddKm3dGV+pR49esjNzU1z587VU089pTvvvFOPP/64qlatqri4OK1du1atW7c2nfRGRkaqS5cuuvfee/XMM8/o7Nmzevfdd9W4ceNC+664njfffFMbN27Uvffeq5deekmOjo56//33denSJb399ts56qenp6t9+/bq1auXDhw4oPfee0/33nuvunXrJunKjz6VKlVSaGioBg0aJDs7Oy1btuy6c9lMnjxZR48e1e23366VK1dq9+7dmj9/vtmE6gXh5+cnBwcHTZ48WcnJyXJ2dtYDDzxgcb6tp556Sp9++qleeOEFbdmyRa1bt1ZmZqb279+vTz/9VOvXr1fLli01fvx4ff/99+rSpYtq1aql06dP67333lONGjUs9oWyFcXnIC0tTffcc4/uvvtuderUSTVr1tS5c+e0Zs0a/fDDD+rRo4datGiRr+2zJK/fZ+3atdNTTz2lWbNm6dChQ+rUqZOysrL0ww8/qF27dqab+vj7+2vTpk2aNm2afHx8VLt2bQUEBGjSpEnasmWLAgIC1L9/fzVq1Ehnz57Vrl27tGnTJlNCsH///po9e7ZCQkIUGxuratWqadmyZXJ1dc33PrxWfs/Tst1999368ssv9eCDD+qxxx7TmjVr8nUcyKub6TN0795db7zxhlJSUnIkm2/mc1hYc0pJ0uuvv65Vq1apXbt2Gjx4sC5cuKApU6aoadOmCgsLM9U7ceKEGjZsaDb6qmPHjjnay05+tm3b1uz93b17d7Vv316RkZFKSkpS8+bNtWbNGv344496//33c1wmuHHjRnXt2rVUzCllfs9S3DKuvdWoYVy5RejQoUMNHx8fo0yZMkb9+vWNKVOmmN0u1TD+d6vRjz76yKhfv77h7OxstGjRIs+3Os2+pexff/1ldOzY0XB1dTW8vLyMMWPGGJmZmdddNyUlxZg5c6YRHBxs1KhRwyhTpoxRoUIFIzAw0FiwYIFZrBcvXjRefvllo1q1akbZsmWN1q1bGzExMTlut5t9S+dVq1aZPVdut+vMvt3v1bfdzes+yW7z6lu35zWe3G7/PGvWLKNWrVqGs7Oz0apVK+Onn34y/P39jU6dOl13XxrGlVurenh4GBMmTDArv5nXqCgcP37ceOyxxww3NzejfPnyxkMPPWQcOnQoRz1JZvvSktz2r2EYRnp6ujF27FijVq1aRpkyZYx69eoZ06dPz1Hv3LlzhpOTk/HBBx8UdJOu6/z588bYsWONxo0bG2XLljUqVKhgtG7d2li8eHGOz2P2+2LKlCk52sntPbNixQqjQYMGhrOzs9GkSRPjq6++Mh599FGjQYMGZvUkGWPGjDE9tvTeNwzL7+uvvvrKaNasmeHi4mL4+voakydPNhYuXHjD939uatWqZXTp0uW6da63LwzDMDZt2mS0bt3aKFu2rOHm5mZ07drV+PPPP83qZG/jn3/+aTz22GNGhQoVjEqVKhnh4eHGf//9Z1Y3r9uYHfv69euNZs2aGc7OzkaDBg1yvAez35tXHzdCQ0Nz3H792tfFMK7cGrt69eqGvb292fNfewttw7jy/hoxYoRRr149w8nJyfDw8DDuueceY+rUqaZbLK9evdro2LGj4enpaTg5ORm33Xab8fzzzxunTp2yuG8BW8vtO9sw/ndb88aNG5uVX7582Rg3bpxRu3Zto0yZMkbNmjWNESNG5Li9d27Hn8LoPxT0WHnt8T37OS39XXsM2bJlixEcHGy4u7sbLi4uRt26dY2nn37a2Llzp1m9zz77zGjYsKHh7OxsNGrUyPj8888tHpMsadu2bY79bUl2/8mSXbt2GcHBwUb58uUNV1dXo127dsa2bdvM6mRv93fffWc899xzRqVKlYzy5csbffv2Nc6cOWNW96effjLuvvtuo2zZsoaPj48xbNgwY/369TmOu9mx79y50wgMDDRcXFyMWrVqGbNnzzZrz9J3bPZrfDVLx+EFCxYYderUMRwcHMye39J3Ynp6ujF58mSjcePGhrOzs1GpUiXD39/fGDdunJGcnGwYhmFER0cb3bt3N3x8fAwnJyfDx8fH6NOnj3Hw4EGL+/Zqef0cZPcN89LeggULjB49epj6p66urkaLFi2MKVOmGJcuXcr39uW2H/PyfWYYhpGRkWFMmTLFaNCggeHk5GRUrVrV6Ny5sxEbG2uqs3//fuO+++4zypYta0gye66EhARjwIABRs2aNY0yZcoY3t7eRvv27Y358+ebxXPs2DGjW7duhqurq+Hh4WEMHjzYiIqKyvEeu5HCOE+72pdffmk4OjoavXv3NvXj83IcyO01v/Z9fjN9hoSEBMPR0dFYtmyZWXleP4fW8scff5jOiSpWrGj07dvXiI+PN6uTfUy49n16ret9X50/f94YPHiw4e3tbTg5ORlNmzY1Pvrooxz19u3bZ0gyNm3adFPbVVzYGUYRz9aMUsfOzk4DBgzIdxY929NPP63Vq1db5Zc2a7nZfVKYsrKyVLVqVT3yyCMWh0Nfa8KECVq0aJEOHTpkGt5eGl+jwjRjxgy9/fbb+uuvv6w6wXhR8vPzU9WqVfN9O18AAACgoPr166eDBw+a7qAuSffff7+SkpIsXjYJaciQIfr+++9N04mUdMwpBZRgFy9ezDH0fOnSpTp79myOOZByM3ToUF24cEErVqwogghLn8uXL2vatGkaOXJkiUxIXb582WwOMunKBLC//fZbnt8zAAAAQGEYM2aMfvnlF/3000+2DqVEOHPmjD744AO9+eabpSIhJTGnFFCi/fzzzxo6dKh69uypKlWqaNeuXfrwww/VpEmTHJOA56Z8+fI6ffp0EUdaepQpU8ZsMvWS5sSJEwoKCtKTTz4pHx8f7d+/X/PmzZO3t7deeOEFW4cHAACAW8htt92mixcv2jqMEqNKlSql7moWklJACebr66uaNWtq1qxZplvdhoSEaNKkSXJycrJ1eCiGKlWqJH9/f33wwQdKTExUuXLl1KVLF02aNKnQJ20HAAAAgOux6ZxS33//vaZMmaLY2FidOnVKX3zxhdndsCzZunWrIiIitHfvXtWsWVMjR47U008/bZV4AQAAigP6UAAAoDSw6ZxSqampat68uebMmZOn+keOHFGXLl3Url077d69W0OGDNGzzz6r9evXF3GkAAAAxQd9KAAAUBoUm7vv2dnZ3fBXvtdee01r1641m4X/8ccf17lz5xQVFWWFKAEAAIoX+lAAAKCkKlFzSsXExCgoKMisLDg4WEOGDMl1nUuXLunSpUumx1lZWTp79qyqVKlSamarBwAARccwDJ0/f14+Pj6yty+ZNy6mDwUAAKwpr/2nEpWUio+Pl5eXl1mZl5eXUlJS9N9//1m8PXtkZKTGjRtnrRABAEApdfz4cdWoUcPWYRQIfSgAAGALN+o/laikVEGMGDFCERERpsfJycm67bbbdPz4cbm5udkwMgAAUBKkpKSoZs2aqlChgq1DsSr6UAAAoKDy2n8qUUkpb29vJSQkmJUlJCTIzc3N4i98kuTs7CxnZ+cc5W5ubnSoAABAnpXkS9boQwEAAFu4Uf+pRE2MEBgYqOjoaLOyjRs3KjAw0EYRAQAAFH/0oQAAQHFk06TUhQsXtHv3bu3evVvSldsV7969W3FxcZKuDBsPCQkx1X/hhRf0999/a9iwYdq/f7/ee+89ffrppxo6dKgtwgcAALAJ+lAAAKA0sGlSaufOnWrRooVatGghSYqIiFCLFi00evRoSdKpU6dMnStJql27ttauXauNGzeqefPmeuedd/TBBx8oODjYJvEDAADYAn0oAABQGtgZhmHYOghrSklJkbu7u5KTk5kPAQAA3BB9hyvYDwAAIK/y2m8oUXNKAQAAAAAAoHQgKQUAAAAAAACrIykFAAAAAAAAqyMpBQAAAAAAAKsjKQUAAAAAAACrIykFAAAAAAAAqyMpBQAAAAAAAKsjKQUAAAAAAACrIykFAAAAAAAAqyMpBQAAAAAAAKsjKQUAAAAAAACrIykFAAAAAAAAqyMpBQAAAAAAAKsjKQUAAAAAAACrIykFAAAAAAAAqyMpBQAAAAAAAKsjKQUAAAAAAACrIykFAAAAAAAAqyMpBQAAAAAAAKsjKQUAAAAAAACrIykFAAAAAAAAqyMpBQAAAAAAAKsjKQUAAAAAAACrIykFAAAAAAAAqyMpBQAAAAAAAKsjKQUAAAAAAACrIykFAAAAAAAAqyMpBQAAAAAAAKsjKQUAAAAAAACrIykFAAAAAAAAqyMpBQAAAAAAAKsjKQUAAAAAAACrIykFAAAAAAAAqyMpBQAAAAAAAKsjKQUAAAAAAACrIykFAAAAAAAAqyMpBQAAAAAAAKsjKQUAAAAAAACrIykFAAAAAAAAqyMpBQAAAAAAAKsjKQUAAAAAAACrIykFAAAAAAAAqyMpBQAAAAAAAKsjKQUAAAAAAACrIykFAAAAAAAAqyMpBQAAAAAAAKsjKQUAAAAAAACrIykFAAAAAAAAqyMpBQAAAAAAAKsjKQUAAAAAAACrIykFAAAAAAAAqyMpBQAAAAAAAKsjKQUAAAAAAACrIykFAAAAAAAAqyMpBQAAAAAAAKsjKQUAAAAAAACrIykFAAAAAAAAqyMpBQAAAAAAAKsjKQUAAAAAAACrIykFAAAAAAAAqyMpBQAAAAAAAKsjKQUAAAAAAACrIykFAAAAAAAAqyMpBQAAAAAAAKsjKQUAAAAAAACrIykFAAAAAAAAqyMpBQAAAAAAAKsjKQUAAAAAAACrIykFAAAAAAAAqyMpBQAAAAAAAKuzeVJqzpw58vX1lYuLiwICArRjx47r1p8xY4buuOMOlS1bVjVr1tTQoUN18eJFK0ULAABQPNCHAgAAJZ1Nk1IrV65URESExowZo127dql58+YKDg7W6dOnLdZfvny5hg8frjFjxmjfvn368MMPtXLlSr3++utWjhwAAMB26EMBAIDSwKZJqWnTpql///4KCwtTo0aNNG/ePLm6umrhwoUW62/btk2tW7fWE088IV9fX3Xs2FF9+vS54S+DAAAApQl9KAAAUBrYLCmVnp6u2NhYBQUF/S8Ye3sFBQUpJibG4jr33HOPYmNjTR2ov//+W+vWrdODDz6Y6/NcunRJKSkpZn8AAAAlFX0oAABQWjja6omTkpKUmZkpLy8vs3IvLy/t37/f4jpPPPGEkpKSdO+998owDGVkZOiFF1647tDzyMhIjRs3rlBjBwAAsBX6UAAAoLSw+UTn+bF161ZNnDhR7733nnbt2qXPP/9ca9eu1YQJE3JdZ8SIEUpOTjb9HT9+3IoRAwAA2B59KAAAUBzZbKSUh4eHHBwclJCQYFaekJAgb29vi+uMGjVKTz31lJ599llJUtOmTZWamqrnnntOb7zxhuztc+bYnJ2d5ezsXPgbAAAAYAP0oQAAQGlhs5FSTk5O8vf3V3R0tKksKytL0dHRCgwMtLhOWlpajk6Tg4ODJMkwjKILFgAAoJigDwUAAEoLm42UkqSIiAiFhoaqZcuWatWqlWbMmKHU1FSFhYVJkkJCQlS9enVFRkZKkrp27app06apRYsWCggI0OHDhzVq1Ch17drV1LECAAAo7ehDAQCA0sCmSanevXsrMTFRo0ePVnx8vPz8/BQVFWWauDMuLs7sV72RI0fKzs5OI0eO1IkTJ1S1alV17dpVb731lq02AQAAwOroQwEAgNLAzrjFxmynpKTI3d1dycnJcnNzs3U4AACgmKPvcAX7AQAA5FVe+w0l6u57AAAAAAAAKB1ISgEAAAAAAMDqSEoBAAAAAADA6khKAQAAAAAAwOpISgEAAAAAAMDqSEoBAAAAAADA6khKAQAAAAAAwOpISgEAAAAAAMDqSEoBAAAAAADA6khKAQAAAAAAwOpISgEAAAAAAMDqSEoBAAAAAADA6khKAQAAAAAAwOpISgEAAAAAAMDqSEoBAAAAAADA6khKAQAAAAAAwOpISgEAAAAAAMDqSEoBAAAAAADA6khKAQAAAAAAwOpISgEAAAAAAMDqSEoBAAAAAADA6khKAQAAAAAAwOpISgEAAAAAAMDqSEoBAAAAAADA6khKAQAAAAAAwOpISgEAAAAAAMDqSEoBAAAAAADA6khKAQAAAAAAwOpISgEAAAAAAMDqSEoBAAAAAADA6khKAQAAAAAAwOpISgEAAAAAAMDqSEoBAAAAAADA6khKAQAAAAAAwOpISgEAAAC3sDlz5sjX11cuLi4KCAjQjh07rlv/3LlzGjBggKpVqyZnZ2fdfvvtWrdunWm5r6+v7OzscvwNGDCgqDcFAFDCONo6AAAAAAC2sXLlSkVERGjevHkKCAjQjBkzFBwcrAMHDsjT0zNH/fT0dHXo0EGenp5avXq1qlevrmPHjqlixYqmOr/88osyMzNNj//44w916NBBPXv2tMYmAQBKEJJSAAAAwC1q2rRp6t+/v8LCwiRJ8+bN09q1a7Vw4UINHz48R/2FCxfq7Nmz2rZtm8qUKSPpysioq1WtWtXs8aRJk1S3bl21bdu2aDYCAFBicfkeAABAEQsNDdX3339v6zAAM+np6YqNjVVQUJCpzN7eXkFBQYqJibG4zldffaXAwEANGDBAXl5eatKkiSZOnGg2Mura5/joo4/0zDPPyM7Orki2AwBQcpGUAgAAKGLJyckKCgpS/fr1NXHiRJ04ccLWIQFKSkpSZmamvLy8zMq9vLwUHx9vcZ2///5bq1evVmZmptatW6dRo0bpnXfe0Ztvvmmx/po1a3Tu3Dk9/fTThR0+AKAUICkFAABQxNasWaMTJ07oxRdf1MqVK+Xr66vOnTtr9erVunz5sq3DA/IsKytLnp6emj9/vvz9/dW7d2+98cYbmjdvnsX6H374oTp37iwfHx8rRwoAKAlISgEAAFhB1apVFRERod9++03bt29XvXr19NRTT8nHx0dDhw7VoUOHbB0ibjEeHh5ycHBQQkKCWXlCQoK8vb0trlOtWjXdfvvtcnBwMJU1bNhQ8fHxSk9PN6t77Ngxbdq0Sc8++2zhBw8AKBVISgEAAFjRqVOntHHjRm3cuFEODg568MEHtWfPHjVq1EjTp0+3dXi4hTg5Ocnf31/R0dGmsqysLEVHRyswMNDiOq1bt9bhw4eVlZVlKjt48KCqVasmJycns7qLFi2Sp6enunTpUjQbAAAo8UhKAQAAFLHLly/rs88+00MPPaRatWpp1apVGjJkiE6ePKklS5Zo06ZN+vTTTzV+/Hhbh4pbTEREhBYsWKAlS5Zo3759evHFF5Wammq6G19ISIhGjBhhqv/iiy/q7NmzGjx4sA4ePKi1a9dq4sSJGjBggFm7WVlZWrRokUJDQ+XoyA2/AQCW8Q0BAABQxKpVq6asrCz16dNHO3bskJ+fX4467dq1U8WKFa0eG25tvXv3VmJiokaPHq34+Hj5+fkpKirKNPl5XFyc7O3/9zt2zZo1tX79eg0dOlTNmjVT9erVNXjwYL322mtm7W7atElxcXF65plnrLo9AICSxc4wDMPWQVhTSkqK3N3dlZycLDc3N1uHAwAAirnC6DssW7ZMPXv2lIuLSyFHZz30oQAAQF7ltd/A5XsAAABFbMuWLRbvspeamspIEgAAcMsiKQUAAFDElixZov/++y9H+X///aelS5faICIAAADbY04pAACAIpKSkiLDMGQYhs6fP292+V5mZqbWrVsnT09PG0ZYvPgOX2vrEIBS4+gk7noIoPgjKQUAAFBEKlasKDs7O9nZ2en222/PsdzOzk7jxo2zQWQAAAC2R1IKAACgiGzZskWGYeiBBx7QZ599psqVK5uWOTk5qVatWvLx8bFhhAAAALZDUgoAAKCItG3bVpJ05MgR3XbbbbKzs7NxRAAAAMUHSSkAAIAi8Pvvv6tJkyayt7dXcnKy9uzZk2vdZs2aWTEyAACA4oGkFAAAQBHw8/NTfHy8PD095efnJzs7OxmGkaOenZ2dMjMzbRAhAACAbZGUAgAAKAJHjhxR1apVTf8DAADAHEkpAACAIlCrVi2L/wMAAOAKklIAAABF4Kuvvspz3W7duhVhJAAAAMUTSSkAAIAi0KNHjzzVY04pAABwqyIpBQAAUASysrJsHQIAAECxZm/rAAAAAAAAAHDrYaQUAABAEZg1a5aee+45ubi4aNasWdetO2jQICtFBQAAUHyQlAIAACgC06dPV9++feXi4qLp06fnWs/Ozo6kFAAAuCWRlAIAACgCR44csfg/AAAArmBOKQAAACsyDEOGYdg6DAAAAJsjKQUAAGAFH374oZo0aSIXFxe5uLioSZMm+uCDD2wdFgAAgM1w+R4AAEARGz16tKZNm6aBAwcqMDBQkhQTE6OhQ4cqLi5O48ePt3GEAAAA1kdSCgAAoIjNnTtXCxYsUJ8+fUxl3bp1U7NmzTRw4ECSUgAA4JbE5XsAAABF7PLly2rZsmWOcn9/f2VkZNggIgAAANsjKQUAAFDEnnrqKc2dOzdH+fz589W3b18bRAQAAGB7XL4HAABQBCIiIkz/29nZ6YMPPtCGDRt09913S5K2b9+uuLg4hYSE2CpEAAAAmyIpBQAAUAR+/fVXs8f+/v6SpL/++kuS5OHhIQ8PD+3du9fqsQEAABQHNr98b86cOfL19ZWLi4sCAgK0Y8eO69Y/d+6cBgwYoGrVqsnZ2Vm333671q1bZ6VoAQAA8mbLli15+tu8eXOB2qcPBQAASjqbjpRauXKlIiIiNG/ePAUEBGjGjBkKDg7WgQMH5OnpmaN+enq6OnToIE9PT61evVrVq1fXsWPHVLFiResHDwAAYCP0oQAAQGlg06TUtGnT1L9/f4WFhUmS5s2bp7Vr12rhwoUaPnx4jvoLFy7U2bNntW3bNpUpU0aS5Ovra82QAQAACmTnzp369NNPFRcXp/T0dLNln3/+eb7aog8FAABKA5tdvpeenq7Y2FgFBQX9Lxh7ewUFBSkmJsbiOl999ZUCAwM1YMAAeXl5qUmTJpo4caIyMzNzfZ5Lly4pJSXF7A8AAMCaVqxYoXvuuUf79u3TF198ocuXL2vv3r3avHmz3N3d89UWfSgAAFBa2CwplZSUpMzMTHl5eZmVe3l5KT4+3uI6f//9t1avXq3MzEytW7dOo0aN0jvvvKM333wz1+eJjIyUu7u76a9mzZqFuh0AAAA3MnHiRE2fPl1ff/21nJycNHPmTO3fv1+9evXSbbfdlq+26EMBAIDSwuYTnedHVlaWPD09NX/+fPn7+6t379564403NG/evFzXGTFihJKTk01/x48ft2LEAAAAV+6416VLF0mSk5OTUlNTZWdnp6FDh2r+/PlF/vz0oQAAQHFkszmlPDw85ODgoISEBLPyhIQEeXt7W1ynWrVqKlOmjBwcHExlDRs2VHx8vNLT0+Xk5JRjHWdnZzk7Oxdu8AAAAPlQqVIlnT9/XpJUvXp1/fHHH2ratKnOnTuntLS0fLVFHwoAAJQWNhsp5eTkJH9/f0VHR5vKsrKyFB0drcDAQIvrtG7dWocPH1ZWVpap7ODBg6pWrZrFzhQAAEBxcN9992njxo2SpJ49e2rw4MHq37+/+vTpo/bt2+erLfpQAACgtLDp5XsRERFasGCBlixZon379unFF19Uamqq6U4yISEhGjFihKn+iy++qLNnz2rw4ME6ePCg1q5dq4kTJ2rAgAG22gQAAIAbmj17th5//HFJ0htvvKGIiAglJCTo0Ucf1Ycffpjv9uhDAQCA0sBml+9JUu/evZWYmKjRo0crPj5efn5+ioqKMk3cGRcXJ3v7/+XNatasqfXr12vo0KFq1qyZqlevrsGDB+u1116z1SYAAADcUOXKlU3/29vba/jw4TfVHn0oAABQGtgZhmHkd6UtW7aoXbt2RRFPkUtJSZG7u7uSk5Pl5uZm63AAAEAxV1h9h8zMTH3xxRfat2+fJKlRo0bq3r27HB1t+hthnlmjD+U7fG2RtAvcio5O6mLrEADcwvLabyhQL6hTp06qUaOGwsLCFBoayi2CAQAArmPv3r3q1q2b4uPjdccdd0iSJk+erKpVq+rrr79WkyZNbBwhAACA9RVoTqkTJ04oPDxcq1evVp06dRQcHKxPP/1U6enphR0fAABAiffss8+qcePG+ueff7Rr1y7t2rVLx48fV7NmzfTcc8/ZOjwAAACbKFBSysPDQ0OHDtXu3bu1fft23X777XrppZfk4+OjQYMG6bfffivsOAEAAEqs3bt3KzIyUpUqVTKVVapUSW+99ZZ+/fVXG0YGAABgOzd9970777xTI0aMUHh4uC5cuKCFCxfK399fbdq00d69ewsjRgAAgBLt9ttvV0JCQo7y06dPq169ejaICAAAwPYKnJS6fPmyVq9erQcffFC1atXS+vXrNXv2bCUkJOjw4cOqVauWevbsWZixAgAAlBgpKSmmv8jISA0aNEirV6/WP//8o3/++UerV6/WkCFDNHnyZFuHCgAAYBMFmuh84MCB+uSTT2QYhp566im9/fbbZhN0litXTlOnTpWPj0+hBQoAAFCSVKxYUXZ2dqbHhmGoV69eprLsGyB37dpVmZmZNokRAADAlgqUlPrzzz/17rvv6pFHHpGzs7PFOh4eHtqyZctNBQcAAFBS0Q8CAAC4vgIlpcaMGaN77rlHjo7mq2dkZGjbtm2677775OjoqLZt2xZKkAAAACUN/SAAAIDrK1BSql27djp16pQ8PT3NypOTk9WuXTuGoAMAAFzj3Llz+vDDD7Vv3z5JUuPGjfXMM8/I3d3dxpEBAADYRoEmOjcMw2yOhGxnzpxRuXLlbjooAACA0mTnzp2qW7eupk+frrNnz+rs2bOaNm2a6tatq127dtk6PAAAAJvI10ipRx55RJJkZ2enp59+2mw+qczMTP3++++65557CjdCAACAEm7o0KHq1q2bFixYYJr+ICMjQ88++6yGDBmi77//3sYRAgAAWF++klLZw8sNw1CFChVUtmxZ0zInJyfdfffd6t+/f+FGCAAAUMLt3LnTLCElSY6Ojho2bJhatmxpw8gAAABsJ19JqUWLFkmSfH199corr3CpHgAAQB64ubkpLi5ODRo0MCs/fvy4KlSoYKOoAAAAbKtAc0qNGTOGhBQAAEAe9e7dW/369dPKlSt1/PhxHT9+XCtWrNCzzz6rPn362Do8AAAAm8jzSKk777xT0dHRqlSpklq0aGFxovNsTNgJAADwP1OnTpWdnZ1CQkKUkZEhSSpTpoxefPFFTZo0ycbRAQAA2Eaek1Ldu3c3TWzeo0ePoooHAACgVMnMzNTPP/+ssWPHKjIyUn/99ZckqW7dunJ1dbVxdAAAALaT56TUmDFjLP4PAACA3Dk4OKhjx47at2+fateuraZNm9o6JAAAgGKhQHNKAQAAIO+aNGmiv//+29ZhAAAAFCt5HilVqVKl684jdbWzZ88WOCAAAIDS5s0339Qrr7yiCRMmyN/fP8cNY9zc3GwUGQAAgO3kOSk1Y8aMIgwDAACg9HrwwQclSd26dTP7kc8wDNnZ2SkzM9NWoQEAANhMnpNSoaGhRRkHAABAqbVlyxZbhwAAAFDs5DkplZKSYhpanpKSct26DEEHAAC4wjAM+fj4KD09XXfccYccHfPc/QIAACjV8jWn1KlTp+Tp6amKFStanF+KIegAAAD/c+TIEXXr1k1//vmnJKlGjRr67LPP1LJlSxtHBgAAYHt5Tkpt3rxZlStXlsQQdAAAgLx49dVXlZGRoY8++kguLi6aOnWqnn/+ecXGxto6NAAAAJvLc1Kqbdu2Fv8HAACAZT/++KNWr16te++9V5J09913q0aNGkpNTc1xBz4AAIBbTYEnNfj333/14Ycfat++fZKkRo0aKSwszDSaCgAA4FZ3+vRp1a9f3/S4WrVqKlu2rE6fPq3atWvbMDIAAADbsy/ISt9//718fX01a9Ys/fvvv/r33381a9Ys1a5dW99//31hxwgAAFAi2dnZ6cKFC0pJSTH92dvb6/z582ZlAAAAt6ICjZQaMGCAevfurblz58rBwUGSlJmZqZdeekkDBgzQnj17CjVIAACAksgwDN1+++05ylq0aGH6n5vEAACAW1WBklKHDx/W6tWrTQkpSXJwcFBERISWLl1aaMEBAACUZNwcBgAAIHcFSkrdeeed2rdvn+644w6z8n379ql58+aFEhgAAEBJx81hAAAAcpfnpNTvv/9u+n/QoEEaPHiwDh8+rLvvvluS9PPPP2vOnDmaNGlS4UcJAAAAAACAUiXPSSk/Pz/Z2dnJMAxT2bBhw3LUe+KJJ9S7d+/CiQ4AAAAAAAClUp6TUkeOHCnKOAAAAAAAAHALyXNSqlatWkUZBwAAAAAAAG4hBZroPNuff/6puLg4paenm5V369btpoICAAAAAABA6VagpNTff/+thx9+WHv27DGbZ8rOzk6SlJmZWXgRAgAAlECPPPJInut+/vnnRRgJAABA8WRfkJUGDx6s2rVr6/Tp03J1ddXevXv1/fffq2XLltq6dWshhwgAAFDyuLu7m/7c3NwUHR2tnTt3mpbHxsYqOjpa7u7uNowSAADAdgo0UiomJkabN2+Wh4eH7O3tZW9vr3vvvVeRkZEaNGiQfv3118KOEwAAoERZtGiR6f/XXntNvXr10rx58+Tg4CDpysjyl156SW5ubrYKEQAAwKYKNFIqMzNTFSpUkCR5eHjo5MmTkq5Mhn7gwIHCiw4AAKAUWLhwoV555RVTQkqSHBwcFBERoYULF9owMgAAANsp0EipJk2a6LffflPt2rUVEBCgt99+W05OTpo/f77q1KlT2DECAACUaBkZGdq/f7/uuOMOs/L9+/crKyvLRlEBAADYVoGSUiNHjlRqaqokafz48XrooYfUpk0bValSRStXrizUAAEAAEq6sLAw9evXT3/99ZdatWolSdq+fbsmTZqksLAwG0cHAABgGwVKSgUHB5v+r1evnvbv36+zZ8+qUqVKpjvwAQAA4IqpU6fK29tb77zzjk6dOiVJqlatml599VW9/PLLNo4OAADANgqUlLra8ePHJUk1a9a86WAAAABKI3t7ew0bNkzDhg1TSkqKJDHBOQAAuOUVaKLzjIwMjRo1Su7u7vL19ZWvr6/c3d01cuRIXb58ubBjBAAAKPEyMjK0adMmffLJJ6aR5SdPntSFCxdsHBkAAIBtFGik1MCBA/X555/r7bffVmBgoCQpJiZGY8eO1ZkzZzR37txCDRIAAKAkO3bsmDp16qS4uDhdunRJHTp0UIUKFTR58mRdunRJ8+bNs3WIAAAAVlegpNTy5cu1YsUKde7c2VTWrFkz1axZU3369CEpBQAAcJXBgwerZcuW+u2331SlShVT+cMPP6z+/fvbMDIAAADbKVBSytnZWb6+vjnKa9euLScnp5uNCQAAoFT54YcftG3bthz9JF9fX504ccJGUQEAANhWgeaUCg8P14QJE3Tp0iVT2aVLl/TWW28pPDy80IIDAAAoDbKyspSZmZmj/J9//lGFChVsEBEAAIDt5Xmk1COPPGL2eNOmTapRo4aaN28uSfrtt9+Unp6u9u3bF26EAAAAJVzHjh01Y8YMzZ8/X5JkZ2enCxcuaMyYMXrwwQdtHB0AAIBt5Dkp5e7ubvb40UcfNXtcs2bNwokIAACglHnnnXcUHBysRo0a6eLFi3riiSd06NAheXh46JNPPrF1eAAAADaR56TUokWLijIOAACAUqtGjRr67bfftHLlSv3222+6cOGC+vXrp759+6ps2bK2Dg8AAMAmCjTRebbExEQdOHBAknTHHXeoatWqhRIUAABAaePo6Ki+ffuqb9++tg4FAACgWCjQROepqal65plnVK1aNd13332677775OPjo379+iktLa2wYwQAACjRHBwc1K5dO509e9asPCEhQQ4ODjaKCgAAwLYKlJSKiIjQd999p6+//lrnzp3TuXPn9OWXX+q7777Tyy+/XNgxAgAAlGiGYejSpUtq2bKl9u7dm2MZAADArahASanPPvtMH374oTp37iw3Nze5ubnpwQcf1IIFC7R69erCjhEAAKBEs7Oz02effaauXbsqMDBQX375pdkyAACAW1GBklJpaWny8vLKUe7p6cnlewAAANcwDEMODg6aOXOmpk6dqt69e+vNN99klBQAALilFWii88DAQI0ZM0ZLly6Vi4uLJOm///7TuHHjFBgYWKgBAgAAlCbPPfec6tevr549e+r777+3dTgAAAA2U6Ck1IwZM9SpUyfVqFFDzZs3lyT99ttvcnFx0fr16ws1QAAAgJKuVq1aZhOat2vXTj///LO6du1qw6gAAABsq0BJqaZNm+rQoUP6+OOPtX//fklSnz591LdvX5UtW7ZQAwQAACjpjhw5kqOsXr16+vXXX5WQkGCDiAAAAGwv30mpy5cvq0GDBvrmm2/Uv3//oogJAADgluDi4qJatWrZOgwAAACbyHdSqkyZMrp48WJRxAIAAFBqVK5cWQcPHpSHh4cqVap03bvsnT171oqRAQAAFA8FunxvwIABmjx5sj744AM5OhaoCVzHnDlzNGXKFMXHx6t58+Z699131apVqxuut2LFCvXp00fdu3fXmjVrTOWGYWjMmDFasGCBzp07p9atW2vu3LmqX79+EW4FAAC3tunTp6tChQqSrszHCQAAAHMFyij98ssvio6O1oYNG9S0aVOVK1fObPnnn39eKMHdilauXKmIiAjNmzdPAQEBmjFjhoKDg3XgwAF5enrmut7Ro0f1yiuvqE2bNjmWvf3225o1a5aWLFmi2rVra9SoUQoODtaff/5punsiAAAoXKGhoRb/BwAAwBUFSkpVrFhRjz76aGHHAknTpk1T//79FRYWJkmaN2+e1q5dq4ULF2r48OEW18nMzFTfvn01btw4/fDDDzp37pxpmWEYmjFjhkaOHKnu3btLkpYuXSovLy+tWbNGjz/+eJFvEwAAt6KUlJQ813VzcyvCSAAAAIqnfCWlsrKyNGXKFB08eFDp6el64IEHNHbsWO64V0jS09MVGxurESNGmMrs7e0VFBSkmJiYXNcbP368PD091a9fP/3www9my44cOaL4+HgFBQWZytzd3RUQEKCYmBiSUgAAFJGKFStedx4p6cqPR3Z2dsrMzLRSVAAAAMVHvpJSb731lsaOHaugoCCVLVtWs2bNUmJiohYuXFhU8d1SkpKSlJmZKS8vL7NyLy8v7d+/3+I6P/74oz788EPt3r3b4vL4+HhTG9e2mb0MAAAUvi1bttg6BAAAgGItX0mppUuX6r333tPzzz8vSdq0aZO6dOmiDz74QPb29kUSIHJ3/vx5PfXUU1qwYIE8PDxsHQ4AALhK27ZtbR0CAABAsZavpFRcXJwefPBB0+OgoCDZ2dnp5MmTqlGjRqEHd6vx8PCQg4ODEhISzMoTEhLk7e2do/5ff/2lo0ePqmvXrqayrKwsSZKjo6MOHDhgWi8hIUHVqlUza9PPz68ItgIAAOQmLS1NcXFxSk9PNytv1qyZjSICAACwnXwlpTIyMnLcra1MmTK6fPlyoQZ1q3JycpK/v7+io6PVo0cPSVeSTNHR0QoPD89Rv0GDBtqzZ49Z2ciRI3X+/HnNnDlTNWvWVJkyZeTt7a3o6GhTEiolJUXbt2/Xiy++WNSbBAAAJCUmJiosLEzffvutxeXMKQUAAG5F+brmzjAMPf3003rkkUdMfxcvXtQLL7xgVpZfc+bMka+vr1xcXBQQEKAdO3bkab0VK1bIzs7OlMApDSIiIrRgwQItWbJE+/bt04svvqjU1FTT3fhCQkJME6G7uLioSZMmZn8VK1ZUhQoV1KRJEzk5OcnOzk5DhgzRm2++qa+++kp79uxRSEiIfHx8StV+AwCgOBsyZIjOnTun7du3q2zZsoqKitKSJUtUv359ffXVVwVqk/4TAAAo6fI1Uio0NDRH2ZNPPnlTAaxcuVIRERGaN2+eAgICNGPGDAUHB+vAgQPy9PTMdb2jR4/qlVdeUZs2bW7q+Yub3r17KzExUaNHj1Z8fLz8/PwUFRVlmqg8Li4u3/N3DRs2TKmpqXruued07tw53XvvvYqKisox6g0AABSNzZs368svv1TLli1lb2+vWrVqqUOHDnJzc1NkZKS6dOmSr/boPwEAgNLAzjAMw5YBBAQE6K677tLs2bMlXblcrWbNmho4cKCGDx9ucZ3MzEzdd999euaZZ/TDDz/o3LlzWrNmTZ6eLyUlRe7u7kpOTpabm1thbQYAACilCqPv4Obmpt9//12+vr6qVauWli9frtatW+vIkSNq3Lix0tLS8tWetftPknX6UL7D1xZJu8Ct6Oik/CW7AaAw5bXfYNNb5qWnpys2NlZBQUGmMnt7ewUFBSkmJibX9caPHy9PT0/169fPGmECAADclDvuuEMHDhyQJDVv3lzvv/++Tpw4oXnz5pndiCQv6D8BAIDSIl+X7xW2pKQkZWZmmi5Ny+bl5aX9+/dbXOfHH3/Uhx9+qN27d+fpOS5duqRLly6ZHqekpBQ43ryKi5OSkor8aWzGw0O67TZbRwEAQMkxePBgnTp1SpI0ZswYderUSR9//LGcnJy0ePHifLVljf6TZJs+FAAAuLXYNCmVX+fPn9dTTz2lBQsWyMPDI0/rREZGaty4cUUc2f/ExUl33CFdvGi1p7Q6FxfpwAESUwAA5NXVc3D6+/vr2LFj2r9/v2677bY892kKqiD9J8n6fSgAAHDrsWlSysPDQw4ODkpISDArT0hIkLe3d476f/31l44ePaquXbuayrKysiRJjo6OOnDggOrWrWu2zogRIxQREWF6nJKSopo1axbmZphJSirdCSnpyvYlJZGUAgCgoFxdXXXnnXcWaF1r9J8k6/ehAADArcemSSknJyf5+/srOjradFvirKwsRUdHKzw8PEf9Bg0aaM+ePWZlI0eO1Pnz5zVz5kyLHSVnZ2c5OzsXSfwAAAB5YRiGVq9erS1btuj06dOmpFC2zz//PM9tWaP/JNGHAgAARc/ml+9FREQoNDRULVu2VKtWrTRjxgylpqYqLCxMkhQSEqLq1asrMjJSLi4uatKkidn6FStWlKQc5QAAAMXFkCFD9P7776tdu3by8vKSnZ3dTbVH/wkAAJQGNk9K9e7dW4mJiRo9erTi4+Pl5+enqKgo0+SdcXFxsre36U0CAQAAbsqyZcv0+eef68EHHyyU9ug/AQCA0sDOMAzD1kFYU0pKitzd3ZWcnCw3N7dCb3/XLsnfv9CbLXZiY6UCToUBAECJUhh9h9q1a+vbb79VgwYNCjk66ynqPpQk+Q5fWyTtAreio5O62DoEALewvPYb+AkNAACgiI0dO1bjxo3Tf//9Z+tQAAAAig2bX74HAABQ2vXq1UuffPKJPD095evrqzJlypgt37Vrl40iAwAAsB2SUgAAAEUsNDRUsbGxevLJJwtlonMAAIDSgKQUAABAEVu7dq3Wr1+ve++919ahAAAAFBvMKQUAAFDEatasWWSTgwMAAJRUJKUAAACK2DvvvKNhw4bp6NGjtg4FAACg2ODyPQAAgCL25JNPKi0tTXXr1pWrq2uOic7Pnj1ro8gAAABsh6QUAABAEZsxY4atQwAAACh2uHwPAACgCF2+fFnfffed7rvvPoWGhlr8AwCguJozZ458fX3l4uKigIAA7dixI9e6n3/+uVq2bKmKFSuqXLly8vPz07Jly8zqjB07Vg0aNFC5cuVUqVIlBQUFafv27UW9GSimSEoBAAAUoTJlyuizzz6zdRgAAOTbypUrFRERoTFjxmjXrl1q3ry5goODdfr0aYv1K1eurDfeeEMxMTH6/fffFRYWprCwMK1fv95U5/bbb9fs2bO1Z88e/fjjj/L19VXHjh2VmJhorc1CMUJSCgAAoIj16NFDa9assXUYAADky7Rp09S/f3+FhYWpUaNGmjdvnlxdXbVw4UKL9e+//349/PDDatiwoerWravBgwerWbNm+vHHH011nnjiCQUFBalOnTpq3Lixpk2bppSUFP3+++/W2iwUI8wpBQAAUMTq16+v8ePH66effpK/v7/KlStntnzQoEE2igwAAMvS09MVGxurESNGmMrs7e0VFBSkmJiYG65vGIY2b96sAwcOaPLkybk+x/z58+Xu7q7mzZsXWuwoOUhKAQAAFLEPP/xQFStWVGxsrGJjY82W2dnZkZQCABQ7SUlJyszMlJeXl1m5l5eX9u/fn+t6ycnJql69ui5duiQHBwe999576tChg1mdb775Ro8//rjS0tJUrVo1bdy4UR4eHkWyHSjeSEoBAAAUsSNHjtg6BAAArKJChQravXu3Lly4oOjoaEVERKhOnTq6//77TXXatWun3bt3KykpSQsWLFCvXr20fft2eXp62i5w2ARJKQAAACsyDEPSlRFSAAAUVx4eHnJwcFBCQoJZeUJCgry9vXNdz97eXvXq1ZMk+fn5ad++fYqMjDRLSpUrV0716tVTvXr1dPfdd6t+/fr68MMPzS4VxK2Bic4BAACsYOnSpWratKnKli2rsmXLqlmzZjlukw0AQHHh5OQkf39/RUdHm8qysrIUHR2twMDAPLeTlZWlS5cu3XQdlE6MlAIAAChi06ZN06hRoxQeHq7WrVtLkn788Ue98MILSkpK0tChQ20cIQAAOUVERCg0NFQtW7ZUq1atNGPGDKWmpiosLEySFBISourVqysyMlKSFBkZqZYtW6pu3bq6dOmS1q1bp2XLlmnu3LmSpNTUVL311lvq1q2bqlWrpqSkJM2ZM0cnTpxQz549bbadsB2SUgAAAEXs3Xff1dy5cxUSEmIq69atmxo3bqyxY8eSlAIAFEu9e/dWYmKiRo8erfj4ePn5+SkqKso0+XlcXJzs7f93AVZqaqpeeukl/fPPPypbtqwaNGigjz76SL1795YkOTg4aP/+/VqyZImSkpJUpUoV3XXXXfrhhx/UuHFjm2wjbMvOyJ7Y4BaRkpIid3d3JScny83NrdDb37VL8vcv9GaLndhY6c47bR0FAABFrzD6Di4uLvrjjz9Mc2xkO3TokJo2baqLFy8WRqhFqqj7UJLkO3xtkbQL3IqOTupi6xAA3MLy2m9gTikAAIAiVq9ePX366ac5yleuXKn69evbICIAAADb4/I9AACAIjZu3Dj17t1b33//vWlOqZ9++knR0dEWk1UAAAC3ApJSAAAARezRRx/V9u3bNX36dK1Zs0aS1LBhQ+3YsUMtWrSwbXAAUEJwiS9QuIrDZb4kpQAAAKzA399fH330ka3DAAAAKDaYUwoAAAAAAABWx0gpAACAImJvby87O7vr1rGzs1NGRoaVIgIAACg+SEoBAAAUkS+++CLXZTExMZo1a5aysrKsGBEAAEDxQVIKAACgiHTv3j1H2YEDBzR8+HB9/fXX6tu3r8aPH2+DyAAAAGyPOaUAAACs4OTJk+rfv7+aNm2qjIwM7d69W0uWLFGtWrVsHRoAAIBNkJQCAAAoQsnJyXrttddUr1497d27V9HR0fr666/VpEkTW4cGAABgU1y+BwAAUETefvttTZ48Wd7e3vrkk08sXs4HAABwqyIpBQAAUESGDx+usmXLql69elqyZImWLFlisd7nn39u5cgAAABsj6QUAABAEQkJCZGdnZ2twwAAACiWSEoBAAAUkcWLF9s6BAAAgGKLic4BAAAAAABgdSSlAAAAAAAAYHUkpQAAAAAAAGB1JKUAAAAAAABgdSSlAAAAAAAAYHUkpQAAAAAAAGB1JKUAAAAAAABgdSSlAAAAAAAAYHUkpQAAAAAAAGB1JKUAAAAAAABgdSSlAAAAAAAAYHUkpQAAAAAAAGB1JKUAAAAAAABgdSSlAAAAAAAAYHUkpQAAAAAAAGB1JKUAAAAAAABgdSSlAAAAAAAAYHUkpQAAAAAAAGB1JKUAAAAAAABgdSSlAAAAAAAAYHUkpQAAAAAAAGB1JKUAAAAAAABgdSSlAAAAAAAAYHUkpQAAAAAAAGB1JKUAAAAAAABgdSSlAAAAAAAAYHUkpQAAAAAAAGB1JKUAAAAAAABgdSSlAAAAAAAAYHUkpVBizJkzR76+vnJxcVFAQIB27NiRa90FCxaoTZs2qlSpkipVqqSgoKAc9Q3D0OjRo1WtWjWVLVtWQUFBOnToUFFvBgAAAAAAEEkplBArV65URESExowZo127dql58+YKDg7W6dOnLdbfunWr+vTpoy1btigmJkY1a9ZUx44ddeLECVOdt99+W7NmzdK8efO0fft2lStXTsHBwbp48aK1NgsAAAAAgFsWSSmUCNOmTVP//v0VFhamRo0aad68eXJ1ddXChQst1v/444/10ksvyc/PTw0aNNAHH3ygrKwsRUdHS7oySmrGjBkaOXKkunfvrmbNmmnp0qU6efKk1qxZY8UtAwAAAADg1kRSCsVeenq6YmNjFRQUZCqzt7dXUFCQYmJi8tRGWlqaLl++rMqVK0uSjhw5ovj4eLM23d3dFRAQkOc2AQAAAABAwZGUQrGXlJSkzMxMeXl5mZV7eXkpPj4+T2289tpr8vHxMSWhste7mTYBAAAAAEDBOdo6AKCoTZo0SStWrNDWrVvl4uJi63AAAAAAAIAYKYUSwMPDQw4ODkpISDArT0hIkLe393XXnTp1qiZNmqQNGzaoWbNmpvLs9QrSJgAAAAAAuHkkpVDsOTk5yd/f3zRJuSTTpOWBgYG5rvf2229rwoQJioqKUsuWLc2W1a5dW97e3mZtpqSkaPv27ddtEwAAAAAAFI5ikZSaM2eOfH195eLiooCAAO3YsSPXugsWLFCbNm1UqVIlVapUSUFBQdetj9IhIiJCCxYs0JIlS7Rv3z69+OKLSk1NVVhYmCQpJCREI0aMMNWfPHmyRo0apYULF8rX11fx8fGKj4/XhQsXJEl2dnYaMmSI3nzzTX311Vfas2ePQkJC5OPjox49ethiEwEAyBf6TwAAoKSzeVJq5cqVioiI0JgxY7Rr1y41b95cwcHBOn36tMX6W7duVZ8+fbRlyxbFxMSoZs2a6tixo06cOGHlyGFNvXv31tSpUzV69Gj5+flp9+7dioqKMk1UHhcXp1OnTpnqz507V+np6XrsscdUrVo109/UqVNNdYYNG6aBAwfqueee01133aULFy4oKiqKeacAAMUe/ScAAFAa2BmGYdgygICAAN11112aPXu2pCuXZdWsWVMDBw7U8OHDb7h+ZmamKlWqpNmzZyskJOSG9VNSUuTu7q7k5GS5ubnddPzX2rVL8vcv9GaLndhY6c47bR0FAABFr6j7DgVh7f6TZJ394Dt8bZG0C9yKjk7qYusQCh3HCKBwFeVxIq/9BpuOlEpPT1dsbKyCgoJMZfb29goKClJMTEye2khLS9Ply5dVuXLlogoTAACg2KD/BAAASgtHWz55UlKSMjMzTZdgZfPy8tL+/fvz1MZrr70mHx8fs47Z1S5duqRLly6ZHqekpBQ8YNy0uDgpKcnWURQdDw/ptttsHQUAoDSzRv9Jog8FAACKnk2TUjdr0qRJWrFihbZu3ZrrPECRkZEaN26clSODJXFx0h13SBcv2jqSouPiIh04QGIKAFB85aX/JNGHAgAARc+ml+95eHjIwcFBCQkJZuUJCQny9va+7rpTp07VpEmTtGHDBjVr1izXeiNGjFBycrLp7/jx44USO/IvKal0J6SkK9tXmkeCAQBszxr9J4k+FAAAKHo2TUo5OTnJ399f0dHRprKsrCxFR0crMDAw1/XefvttTZgwQVFRUWrZsuV1n8PZ2Vlubm5mfwAAACWVNfpPEn0oAABQ9Gx++V5ERIRCQ0PVsmVLtWrVSjNmzFBqaqrCwsIkSSEhIapevboiIyMlSZMnT9bo0aO1fPly+fr6Kj4+XpJUvnx5lS9f3mbbAQAAYC30nwAAQGlg86RU7969lZiYqNGjRys+Pl5+fn6KiooyTd4ZFxcne/v/DeiaO3eu0tPT9dhjj5m1M2bMGI0dO9aaoQMAANgE/ScAAFAa2DwpJUnh4eEKDw+3uGzr1q1mj48ePVr0AQEAABRz9J8AAEBJZ9M5pQAAAAAAAHBrIikFlAJz5syRr6+vXFxcFBAQoB07duRad+/evXr00Ufl6+srOzs7zZgxI0edsWPHys7OzuyvQYMGRbgFAAAAAIBbDUkpoIRbuXKlIiIiNGbMGO3atUvNmzdXcHCwTp8+bbF+Wlqa6tSpo0mTJl331uGNGzfWqVOnTH8//vhjUW0CAAAAAOAWRFIKKOGmTZum/v37KywsTI0aNdK8efPk6uqqhQsXWqx/1113acqUKXr88cfl7Oyca7uOjo7y9vY2/Xl4eBTVJgAAAAAAbkEkpYASLD09XbGxsQoKCjKV2dvbKygoSDExMTfV9qFDh+Tj46M6deqob9++iouLu9lwAQAAAAAwISkFlGBJSUnKzMw03QI8m5eXl+Lj4wvcbkBAgBYvXqyoqCjNnTtXR44cUZs2bXT+/PmbDRkAAAAAAEmSo60DAFD8dO7c2fR/s2bNFBAQoFq1aunTTz9Vv379bBgZAAAAAKC0YKQUUIJ5eHjIwcFBCQkJZuUJCQnXncQ8vypWrKjbb79dhw8fLrQ2AQAAAAC3NpJSQAnm5OQkf39/RUdHm8qysrIUHR2twMDAQnueCxcu6K+//lK1atUKrU0AAAAAwK2Ny/eAEi4iIkKhoaFq2bKlWrVqpRkzZig1NVVhYWGSpJCQEFWvXl2RkZGSrkyO/ueff5r+P3HihHbv3q3y5curXr16kqRXXnlFXbt2Va1atXTy5EmNGTNGDg4O6tOnj202EgAAAABQ6pCUAkq43r17KzExUaNHj1Z8fLz8/PwUFRVlmvw8Li5O9vb/GxR58uRJtWjRwvR46tSpmjp1qtq2bautW7dKkv755x/16dNHZ86cUdWqVXXvvffq559/VtWqVa26bQAAAACA0oukFFAKhIeHKzw83OKy7ERTNl9fXxmGcd32VqxYUVihAQAAAABgEXNKAQAAAAAAwOoYKQUUA8nJyUpLS7N1GEXG1dVV7u7utg4DAAAAAFCMkJQCbCw5OVmzZ89WRkaGrUMpMo6OjgoPDycxBQAAAAAw4fI9wMbS0tJKdUJKkjIyMkr1SDAAAAAAQP6RlAIAAAAAAIDVkZQCAAAAAACA1ZGUAgAAAAAAgNWRlAIAAAAAAIDVkZQCAAAAAACA1ZGUAlBqzZkzR76+vnJxcVFAQIB27NiRa929e/fq0Ucfla+vr+zs7DRjxoybbhMAAAAAkDuSUgBKpZUrVyoiIkJjxozRrl271Lx5cwUHB+v06dMW66elpalOnTqaNGmSvL29C6VNAAAAAEDuSEoBKJWmTZum/v37KywsTI0aNdK8efPk6uqqhQsXWqx/1113acqUKXr88cfl7OxcKG0CAAAAAHJHUgpAqZOenq7Y2FgFBQWZyuzt7RUUFKSYmJhi0yYAAAAA3MpISgEodZKSkpSZmSkvLy+zci8vL8XHxxebNgEAAADgVkZSCgAAAAAAAFZHUgpAqePh4SEHBwclJCSYlSckJOQ6ibkt2gQAAACAWxlJKQCljpOTk/z9/RUdHW0qy8rKUnR0tAIDA4tNmwAAAABwKyMpBaBUioiI0IIFC7RkyRLt27dPL774olJTUxUWFiZJCgkJ0YgRI0z109PTtXv3bu3evVvp6ek6ceKEdu/ercOHD+e5zZJizpw58vX1lYuLiwICArRjx47r1l+1apUaNGggFxcXNW3aVOvWrTNbfuHCBYWHh6tGjRoqW7as6c6EAAAAAHA9jrYOAACKQu/evZWYmKjRo0crPj5efn5+ioqKMk1UHhcXJ3v7/+XlT548qRYtWpgeT506VVOnTlXbtm21devWPLVZEqxcuVIRERGaN2+eAgICNGPGDAUHB+vAgQPy9PTMUX/btm3q06ePIiMj9dBDD2n58uXq0aOHdu3apSZNmki6kqzbvHmzPvroI/n6+mrDhg166aWX5OPjo27dull7EwEAAACUEIyUAlBqhYeH69ixY7p06ZK2b9+ugIAA07KtW7dq8eLFpse+vr4yDCPHX3ZCKi9tlgTTpk1T//79FRYWZhrR5OrqqoULF1qsP3PmTHXq1EmvvvqqGjZsqAkTJujOO+/U7NmzTXW2bdum0NBQ3X///fL19dVzzz2n5s2b33AEFgAAAIBbG0kpALhFpKenKzY2VkFBQaYye3t7BQUFKSYmxuI6MTExZvUlKTg42Kz+Pffco6+++konTpyQYRjasmWLDh48qI4dOxbNhgAAAAAoFbh8D0CxlZycrLS0NFuHUaRcXV3l7u5uledKSkpSZmZmjssNvby8tH//fovrxMfHW6wfHx9vevzuu+/queeeU40aNeTo6Ch7e3stWLBA9913X+FvBAAAAIBSg6QUgGIpOTlZs2fPVkZGhq1DKVKOjo4KDw+3WmKqKLz77rv6+eef9dVXX6lWrVr6/vvvNWDAAPn4+OQYZQUAAAAA2UhKASiW0tLSSn1CSpIyMjKUlpZmlaSUh4eHHBwclJCQYFaekJAgb29vi+t4e3tft/5///2n119/XV988YW6dOkiSWrWrJl2796tqVOnkpQCAAAAkCvmlAKAW4STk5P8/f0VHR1tKsvKylJ0dLQCAwMtrhMYGGhWX5I2btxoqn/58mVdvnzZ7E6GkuTg4KCsrKxC3gIAAAAApQkjpQDgFhIREaHQ0FC1bNlSrVq10owZM5SamqqwsDBJUkhIiKpXr67IyEhJ0uDBg9W2bVu988476tKli1asWKGdO3dq/vz5kiQ3Nze1bdtWr776qsqWLatatWrpu+++09KlSzVt2jSbbScAAACA4o+kFADcQnr37q3ExESNHj1a8fHx8vPzU1RUlGky87i4OLNRT/fcc4+WL1+ukSNH6vXXX1f9+vW1Zs0aNWnSxFRnxYoVGjFihPr27auzZ8+qVq1aeuutt/TCCy9YffsAAAAAlBwkpQDgFhMeHq7w8HCLy7Zu3ZqjrGfPnurZs2eu7Xl7e2vRokWFFR4AAACAWwRzSgEAAAAAAMDqGCkFACVQcnKy0tLSbB1GkXF1dbXKHQkBAAAA2A5JKQAoYZKTkzV79mxlZGTYOpQi4+joqPDwcKsnpubMmaMpU6YoPj5ezZs317vvvqtWrVrlWn/VqlUaNWqUjh49qvr162vy5Ml68MEHTcuffvppLVmyxGyd4OBgRUVFFdk2AAAAACUFl+8BQAmTlpZWqhNSkpSRkWH1kWArV65URESExowZo127dql58+YKDg7W6dOnLdbftm2b+vTpo379+unXX39Vjx491KNHD/3xxx9m9Tp16qRTp06Z/j755BNrbA4AAABQ7JGUAgBA0rRp09S/f3+FhYWpUaNGmjdvnlxdXbVw4UKL9WfOnKlOnTrp1VdfVcOGDTVhwgTdeeedmj17tlk9Z2dneXt7m/4qVapkjc0BAAAAij2SUgCAW156erpiY2MVFBRkKrO3t1dQUJBiYmIsrhMTE2NWX7pyad619bdu3SpPT0/dcccdevHFF3XmzJnC3wAAAACgBCIpBQC45SUlJSkzM1NeXl5m5V5eXoqPj7e4Tnx8/A3rd+rUSUuXLlV0dLQmT56s7777Tp07d1ZmZmbhbwQAAABQwjDROQAAReTxxx83/d+0aVM1a9ZMdevW1datW9W+fXsbRgYAAADYHiOlAAC3PA8PDzk4OCghIcGsPCEhQd7e3hbX8fb2zld9SapTp448PDx0+PDhmw8aAAAAKOFISgEAbnlOTk7y9/dXdHS0qSwrK0vR0dEKDAy0uE5gYKBZfUnauHFjrvUl6Z9//tGZM2dUrVq1wgkcAAAAKMFISgEAICkiIkILFizQkiVLtG/fPr344otKTU1VWFiYJCkkJEQjRoww1R88eLCioqL0zjvvaP/+/Ro7dqx27typ8PBwSdKFCxf06quv6ueff9bRo0cVHR2t7t27q169egoODrbJNgIAAADFCXNKAQAgqXfv3kpMTNTo0aMVHx8vPz8/RUVFmSYzj4uLk739/37Lueeee7R8+XKNHDlSr7/+uurXr681a9aoSZMmkiQHBwf9/vvvWrJkic6dOycfHx917NhREyZMkLOzs022EQAAAChOSEoBAPD/wsPDTSOdrrV169YcZT179lTPnj0t1i9btqzWr19fmOEBAAAApQqX7wEAAAAAAMDqGCkFACg1kpOTlZaWZuswioyrq6vc3d2t/rxz5szRlClTFB8fr+bNm+vdd99Vq1atcq2/atUqjRo1SkePHlX9+vU1efJkPfjgg5Kky5cva+TIkVq3bp3+/vtvubu7KygoSJMmTZKPj4+1NgkAAADFAEkpAECpkJycrNmzZysjI8PWoRQZR0dHhYeHWzUxtXLlSkVERGjevHkKCAjQjBkzFBwcrAMHDsjT0zNH/W3btqlPnz6KjIzUQw89pOXLl6tHjx7atWuXmjRporS0NO3atUujRo1S8+bN9e+//2rw4MHq1q2bdu7cabXtAgAAgO1x+R4AoFRIS0sr1QkpScrIyLD6SLBp06apf//+CgsLU6NGjTRv3jy5urpq4cKFFuvPnDlTnTp10quvvqqGDRtqwoQJuvPOOzV79mxJkru7uzZu3KhevXrpjjvu0N13363Zs2crNjZWcXFx1tw0AAAA2BhJKQAAYFF6erpiY2MVFBRkKrO3t1dQUJBiYmIsrhMTE2NWX5KCg4NzrS9dGeVmZ2enihUrFkrcAAAAKBlISgEAAIuSkpKUmZkpLy8vs3IvLy/Fx8dbXCc+Pj5f9S9evKjXXntNffr0kZubW+EEDgAAgBKBpBQAALCJy5cvq1evXjIMQ3PnzrV1OAAAALAyJjoHAAAWeXh4yMHBQQkJCWblCQkJ8vb2triOt7d3nupnJ6SOHTumzZs3M0oKAADgFsRIKQAAYJGTk5P8/f0VHR1tKsvKylJ0dLQCAwMtrhMYGGhWX5I2btxoVj87IXXo0CFt2rRJVapUKZoNAAAAQLHGSCkAAJCriIgIhYaGqmXLlmrVqpVmzJih1NRUhYWFSZJCQkJUvXp1RUZGSpIGDx6stm3b6p133lGXLl20YsUK7dy5U/Pnz5d0JSH12GOPadeuXfrmm2+UmZlpmm+qcuXKcnJyss2GAgAAwOpISgEAgFz17t1biYmJGj16tOLj4+Xn56eoqCjTZOZxcXGyt//fwOt77rlHy5cv18iRI/X666+rfv36WrNmjZo0aSJJOnHihL766itJkp+fn9lzbdmyRffff79VtgsAAAC2R1IKAABcV3h4uMLDwy0u27p1a46ynj17qmfPnhbr+/r6yjCMwgwPAAAAJRRzSgEAAAAAAMDqGCkFAEApl5ycrLS0NFuHUaRcXV3l7u5u6zAAAACQDySlAAAoxZKTkzV79mxlZGTYOpQi5ejoqPDwcBJTAAAAJQiX7wEAUIqlpaWV+oSUJGVkZJT60WAAAAClDUkpAAAAAAAAWF2xSErNmTNHvr6+cnFxUUBAgHbs2HHd+qtWrVKDBg3k4uKipk2bat26dVaKFAAAoHig/wQAAEo6myelVq5cqYiICI0ZM0a7du1S8+bNFRwcrNOnT1usv23bNvXp00f9+vXTr7/+qh49eqhHjx76448/rBw5AACAbdB/AgAApYHNk1LTpk1T//79FRYWpkaNGmnevHlydXXVwoULLdafOXOmOnXqpFdffVUNGzbUhAkTdOedd2r27NlWjhwAAMA26D8BAIDSwKZJqfT0dMXGxiooKMhUZm9vr6CgIMXExFhcJyYmxqy+JAUHB+daHwAAoDSh/wQAAEoLR1s+eVJSkjIzM+Xl5WVW7uXlpf3791tcJz4+3mL9+Ph4i/UvXbqkS5cumR4nJydLklJSUm4m9FxduFAkzRY7Fy5I+d2F7BvLzp8/r4sXLxZdQMXE+fPnVa5cuXzVvxX2i8S+yQ37xTL2S+7yu2/yKrvPYBhGobddENboP0nW70NJUtYl7qAIFJai/KzaCscIoHAV5XEir/0nmyalrCEyMlLjxo3LUV6zZk0bRFN6tG1r6wiKL/aNZZMmTbJ1CMUW+8Yy9otl7JfcFfW+OX/+vNzd3Yv0OYoT+lBAyeY+w9YRACjurHGcuFH/yaZJKQ8PDzk4OCghIcGsPCEhQd7e3hbX8fb2zlf9ESNGKCIiwvQ4KytLZ8+eVZUqVWRnZ3eTW2B7KSkpqlmzpo4fPy43Nzdbh1OssG8sY79Yxn7JHfvGMvaLZaVxvxiGofPnz8vHx8fWoUiyTv9JKv19KBRMafyMAyhcHCcg5b3/ZNOklJOTk/z9/RUdHa0ePXpIutLhiY6OVnh4uMV1AgMDFR0drSFDhpjKNm7cqMDAQIv1nZ2d5ezsbFZWsWLFwgi/WHFzc+MDnwv2jWXsF8vYL7lj31jGfrGstO2X4jRCyhr9J+nW6UOhYErbZxxA4eM4gbz0n2x++V5ERIRCQ0PVsmVLtWrVSjNmzFBqaqrCwsIkSSEhIapevboiIyMlSYMHD1bbtm31zjvvqEuXLlqxYoV27typ+fPn23IzAAAArIb+EwAAKA1snpTq3bu3EhMTNXr0aMXHx8vPz09RUVGmyTjj4uJkb/+/mwTec889Wr58uUaOHKnXX39d9evX15o1a9SkSRNbbQIAAIBV0X8CAAClgc2TUpIUHh6e63DzrVu35ijr2bOnevbsWcRRlQzOzs4aM2ZMjuH1YN/khv1iGfsld+wby9gvlrFfrIf+E2yBzziAG+E4gfywM4rL/Y0BAAAAAABwy7C/cRUAAAAAAACgcJGUAgAAAAAAgNWRlAIAAAAAAIDVkZQq4WJiYuTg4KAuXbrYOpRi4emnn5adnZ3pr0qVKurUqZN+//13W4dWLMTHx2vgwIGqU6eOnJ2dVbNmTXXt2lXR0dG2Ds0mrn6/lClTRl5eXurQoYMWLlyorKwsW4dnc9d+nrL/OnXqZOvQbCq3/XL48GFbh2Zz8fHxGjx4sOrVqycXFxd5eXmpdevWmjt3rtLS0mwdHoCbRL8TQG44D0NBkZQq4T788EMNHDhQ33//vU6ePGnrcIqFTp066dSpUzp16pSio6Pl6Oiohx56yNZh2dzRo0fl7++vzZs3a8qUKdqzZ4+ioqLUrl07DRgwwNbh2Uz2++Xo0aP69ttv1a5dOw0ePFgPPfSQMjIybB2ezV39ecr+++STT2wdls1Z2i+1a9e2dVg29ffff6tFixbasGGDJk6cqF9//VUxMTEaNmyYvvnmG23atMnWIQK4SfQ7AVwP52EoCEdbB4CCu3DhglauXKmdO3cqPj5eixcv1uuvv27rsGzO2dlZ3t7ekiRvb28NHz5cbdq0UWJioqpWrWrj6GznpZdekp2dnXbs2KFy5cqZyhs3bqxnnnnGhpHZ1tXvl+rVq+vOO+/U3Xffrfbt2/9fe3ceE9XVhgH8GUTZBpBNgbRiEcLSCBYXQumiIKFStzpBSrDigka0FhNcSlUWKyjWrdYlLggqNbgUlVBFbKmWosWlMlgdsSLUWFEpgnZopSLn+8MwX8dRO1CdK/r8kkm4955789wTZnLuy5kDsrKyEBMTI3FCaf2zf+j/2C+6pk6dCmNjY5w8eVLrM8bV1RUjRowA/9kvUcfGcScR/Rs+h1F7cKZUB7Zz5054enrCw8MDY8aMwebNmznof4BarUZ2djbc3NxgZ2cndRzJ3Lx5EwUFBZg2bZrWw2Krrl27Gj7UMywoKAi+vr7Izc2VOgpRh1BXV4fCwsJHfsYAgEwmM3AqInqSOO4korbgcxjpi0WpDiwjIwNjxowBcH+q5K1bt3DkyBGJU0kvPz8fcrkccrkclpaWyMvLw44dO2Bk9OL+ul+8eBFCCHh6ekodpcPw9PREdXW11DEk98/3U+srLS1N6liSe7BfwsPDpY4kqdbPGA8PD6399vb2mj6aM2eOROmI6EnguJOI/g2fw6g9+PW9DqqiogLHjx/Hnj17AADGxsaIiIhARkYGBg4cKG04iQ0aNAjr1q0DANTX12Pt2rUYMmQIjh8/DhcXF4nTSYN/yWw7IQRndkD7/dTK1tZWojTPjgf75VGzg150x48fR0tLC6KiotDU1CR1HCJqJ447iUgffA6j9mBRqoPKyMhAc3MznJ2dNfuEEDAxMcHq1athbW0tYTppWVhYwM3NTbO9adMmWFtbY+PGjVi4cKGEyaTj7u4OmUyG8+fPSx2lw1CpVC/8wtWA7vuJ7mO/aHNzc4NMJkNFRYXWfldXVwCAmZmZFLGI6AnhuJOI9MHnMGoPzqPrgJqbm7F161YsW7YMZWVlmpdSqYSzszP/M9YDZDIZjIyM8Ndff0kdRTK2trYIDQ3FmjVr0NjYqHO8oaHB8KGeYUVFRThz5gwUCoXUUYg6BDs7O4SEhGD16tUP/Ywhoo6L404iai8+h5E+OFOqA8rPz0d9fT0mTpyo85cphUKBjIwMTJkyRaJ00mtqasK1a9cA3J82unr1aqjVagwbNkziZNJas2YNAgMDMWDAACxYsAA+Pj5obm7GoUOHsG7dOqhUKqkjSqL19+XevXu4fv06CgoKsGjRIgwdOhRjx46VOp7k/vl+amVsbAx7e3uJEtGzau3atQgMDES/fv2QnJwMHx8fGBkZ4cSJEzh//jz69u0rdUQiageOO4lIX3wOo/ZgUaoDysjIwODBgx86VVqhUGDJkiUoLy+Hj4+PBOmkV1BQACcnJwCApaUlPD09sWvXrhd+zQNXV1f89NNPSE1NRXx8PGpqauDg4IC+ffvqrBn0Imn9fTE2NoaNjQ18fX2xatUqREdHc1FGaL+fWnl4ePCroKSjV69eOH36NNLS0pCQkIArV67AxMQE3t7emDlzJqZOnSp1RCJqB447iUhffA6j9pAJroBMREREREREREQGxmkARERERERERERkcCxKERERERERERGRwbEoRUREREREREREBseiFBERERERERERGRyLUkREREREREREZHAsShERERERERERkcGxKEVERERERERERAbHohQRERERERERERkci1JE9MKorq6GTCZDWVmZ1FGIiIiI2iw5ORl9+vSROsZDPc1s48aNw8iRI5/KtYlIWixKEVGHIpPJHvtKTk6WOiIRERGRjtraWsTGxqJHjx4wMTGBo6MjQkNDUVJSIlkmQxW5kpOT/3UMR0QvJmOpAxARtUVNTY3m5x07diAxMREVFRWafXK5XIpYRERERI+lUCjw999/Y8uWLXB1dcX169fx7bffoq6uTupoT93MmTMxZcoUzXb//v0xefJkTJo0ScJURPQs4EwpIupQHB0dNS9ra2vIZDLNdrdu3bB8+XK89NJLMDExQZ8+fVBQUPDIa927dw8TJkyAp6cnLl++DADYt28f/Pz8YGpqCldXV6SkpKC5uVlzjkwmw6ZNm/Dee+/B3Nwc7u7uyMvL0xyvr69HVFQUHBwcYGZmBnd3d2RmZj69DiEiIqJnXkNDA4qLi5Geno5BgwbBxcUFAwYMQEJCAoYPH67VLiYmBg4ODrCyskJQUBCUSuVjr71p0yZ4eXnB1NQUnp6eWLt2rdbxK1euIDIyEra2trCwsEC/fv1QWlqKrKwspKSkQKlUamYrZWVl6Z1j8eLF6N69OywtLTFx4kTcuXPnkRnlcrnWGK5Tp06wtLTUbNfW1iIoKAhmZmaws7PD5MmToVarH3m9EydOwMHBAenp6XrlbZ0Rtm3bNvTs2RPW1tZ4//338ccff2ja7N69G71799ZkGDx4MBobGx/b90T037EoRUTPjc8//xzLli3D0qVLUV5ejtDQUAwfPhy//PKLTtumpiaEh4ejrKwMxcXF6NGjB4qLizF27FjExcXh3LlzWL9+PbKyspCamqp1bkpKCkaPHo3y8nKEhYUhKioKN2/eBADMnz8f586dw4EDB6BSqbBu3TrY29sb5P6JiIjo2SSXyyGXy7F37140NTU9sl14eDhu3LiBAwcO4NSpU/Dz80NwcLBmnPGgL7/8EomJiUhNTYVKpUJaWhrmz5+PLVu2AADUajXefvtt/Pbbb8jLy4NSqcTs2bPR0tKCiIgIxMfH49VXX0VNTQ1qamoQERGhV46dO3ciOTkZaWlpOHnyJJycnHSKYfpqbGxEaGgobGxscOLECezatQvffPMNPvzww4e2LyoqQkhICFJTUzFnzhy9+62yshJ79+5Ffn4+8vPzceTIESxevBjA/Zn4kZGRmDBhAlQqFQ4fPoxRo0ZBCNGueyKiNhBERB1UZmamsLa21mw7OzuL1NRUrTb9+/cXU6dOFUIIUVVVJQCI4uJiERwcLN544w3R0NCgaRscHCzS0tK0zt+2bZtwcnLSbAMQ8+bN02yr1WoBQBw4cEAIIcSwYcPE+PHjn9g9EhER0fNh9+7dwsbGRpiamorXX39dJCQkCKVSqTleXFwsrKysxJ07d7TO69Wrl1i/fr0QQoikpCTh6+urdWz79u1a7T/99FMREBAghBBi/fr1wtLSUtTV1T0004PX0zdHQECAZnzVyt/fX+daj+Li4iJWrFghhBBiw4YNwsbGRqjVas3xr7/+WhgZGYlr164JIYSIjo4WI0aMELm5uUIul4ucnJw25U1KShLm5ubi9u3bmuOzZs0S/v7+QgghTp06JQCI6upqvfIT0ZPDmVJE9Fy4ffs2rl69isDAQK39gYGBUKlUWvsiIyPR2NiIwsJCWFtba/YrlUosWLBA89dMuVyOSZMmoaamBn/++aemnY+Pj+ZnCwsLWFlZ4caNGwCA2NhY5OTkoE+fPpg9ezaOHj36NG6XiIiIOhiFQoGrV68iLy8P77zzDg4fPgw/Pz/NV+aUSiXUajXs7Oy0xiJVVVWorKzUuV5jYyMqKysxceJErfYLFy7UtC8rK8Nrr70GW1tbvXPqk0OlUsHf31/rvICAgHb1i0qlgq+vLywsLDT7AgMD0dLSorVuaGlpKcLDw7Ft2zbNjC598wJAz549YWlpqdl2cnLSjN98fX0RHByM3r17Izw8HBs3bkR9fX277oeI2oYLnRPRCycsLAzZ2dk4duwYgoKCNPvVajVSUlIwatQonXNMTU01P3fu3FnrmEwmQ0tLCwBgyJAh+PXXX7F//34cOnQIwcHBmDZtGpYuXfqU7oaIiIg6ClNTU4SEhCAkJATz589HTEwMkpKSMG7cOKjVajg5OeHw4cM653Xt2lVnX+uaSxs3btQpEHXq1AkAYGZm1uaMbc1hKL169YKdnR02b96Md999VzMe0zfv48ZvnTp1wqFDh3D06FEUFhbiiy++wNy5c1FaWopXXnnlqd0TEXFNKSJ6TlhZWcHZ2Vnn3yqXlJTA29tba19sbCwWL16M4cOH48iRI5r9fn5+qKiogJubm87LyEj/j0sHBwdER0cjOzsbK1euxIYNG/7bzREREdFzydvbW7OYtp+fH65duwZjY2OdccjD1qfs3r07nJ2dcenSJZ32rYUUHx8flJWVPXJNqi5duuDevXta+/TJ4eXlhdLSUq3zfvzxx3b1gZeXF5RKpdai4iUlJTAyMoKHh4dmn729PYqKinDx4kWMHj0ad+/e1TuvPmQyGQIDA5GSkoLTp0+jS5cu2LNnT7vuiYj0x6IUET03Zs2ahfT0dOzYsQMVFRX4+OOPUVZWhri4OJ2206dPx8KFCzF06FD88MMPAIDExERs3boVKSkpOHv2LFQqFXJycjBv3jy9MyQmJmLfvn24ePEizp49i/z8fHh5eT2xeyQiIqKOp66uDkFBQcjOzkZ5eTmqqqqwa9cuLFmyBCNGjAAADB48GAEBARg5ciQKCwtRXV2No0ePYu7cuTh58uRDr5uSkoJFixZh1apVuHDhAs6cOYPMzEwsX74cwP0lCxwdHTFy5EiUlJTg0qVL+Oqrr3Ds2DEA97/SVlVVhbKyMvz+++9oamrSK0dcXBw2b96MzMxMXLhwAUlJSTh79my7+iYqKgqmpqaIjo7Gzz//jO+++w7Tp0/HBx98gO7du2u17datG4qKinD+/HlERkaiubm5Xf32oNLSUs2i7ZcvX0Zubi5qa2s5hiMyAH59j4ieGx999BFu3bqF+Ph43LhxA97e3sjLy4O7u/tD28+YMQMtLS0ICwtDQUEBQkNDkZ+fjwULFiA9PR2dO3eGp6cnYmJi9M7QpUsXJCQkoLq6GmZmZnjzzTeRk5PzpG6RiIiIOiC5XA5/f3+sWLEClZWVuHv3Ll5++WVMmjQJn3zyCYD7M3X279+PuXPnYvz48aitrYWjoyPeeustneJMq5iYGJibm+Ozzz7DrFmzYGFhgd69e2PGjBkA7o9LCgsLER8fj7CwMDQ3N8Pb2xtr1qwBcH+dq9zcXAwaNAgNDQ3IzMzEuHHj/jVHREQEKisrMXv2bNy5cwcKhQKxsbE4ePBgm/vG3NwcBw8eRFxcHPr37w9zc3MoFApNYe1Bjo6OKCoqwsCBAxEVFYXt27e3ud8eZGVlhe+//x4rV67E7du34eLigmXLlmHIkCFtvh8iahuZEPw/l0REREREREREZFj8+h4RERERERERERkci1JERERERERERGRwLEoREREREREREZHBsShFREREREREREQGx6IUEREREREREREZHItSRERERERERERkcCxKERERERERERGRwbEoRUREREREREREBseiFBERERERERERGRyLUkREREREREREZHAsShERERERERERkcGxKEVERERERERERAb3P/F0tI5C4JnnAAAAAElFTkSuQmCC\n"
                },
                "metadata": {}
              }
            ]
          }
        },
        "5e8b7c1b642c4df8b0509b6c60c8c848": {
          "model_module": "@jupyter-widgets/base",
          "model_name": "LayoutModel",
          "model_module_version": "1.2.0",
          "state": {
            "_model_module": "@jupyter-widgets/base",
            "_model_module_version": "1.2.0",
            "_model_name": "LayoutModel",
            "_view_count": null,
            "_view_module": "@jupyter-widgets/base",
            "_view_module_version": "1.2.0",
            "_view_name": "LayoutView",
            "align_content": null,
            "align_items": null,
            "align_self": null,
            "border": null,
            "bottom": null,
            "display": null,
            "flex": null,
            "flex_flow": null,
            "grid_area": null,
            "grid_auto_columns": null,
            "grid_auto_flow": null,
            "grid_auto_rows": null,
            "grid_column": null,
            "grid_gap": null,
            "grid_row": null,
            "grid_template_areas": null,
            "grid_template_columns": null,
            "grid_template_rows": null,
            "height": null,
            "justify_content": null,
            "justify_items": null,
            "left": null,
            "margin": null,
            "max_height": null,
            "max_width": null,
            "min_height": null,
            "min_width": null,
            "object_fit": null,
            "object_position": null,
            "order": null,
            "overflow": null,
            "overflow_x": null,
            "overflow_y": null,
            "padding": null,
            "right": null,
            "top": null,
            "visibility": null,
            "width": null
          }
        },
        "548f4ce5abaf4aef9003416a4a0258bd": {
          "model_module": "@jupyter-widgets/base",
          "model_name": "LayoutModel",
          "model_module_version": "1.2.0",
          "state": {
            "_model_module": "@jupyter-widgets/base",
            "_model_module_version": "1.2.0",
            "_model_name": "LayoutModel",
            "_view_count": null,
            "_view_module": "@jupyter-widgets/base",
            "_view_module_version": "1.2.0",
            "_view_name": "LayoutView",
            "align_content": null,
            "align_items": null,
            "align_self": null,
            "border": null,
            "bottom": null,
            "display": null,
            "flex": null,
            "flex_flow": null,
            "grid_area": null,
            "grid_auto_columns": null,
            "grid_auto_flow": null,
            "grid_auto_rows": null,
            "grid_column": null,
            "grid_gap": null,
            "grid_row": null,
            "grid_template_areas": null,
            "grid_template_columns": null,
            "grid_template_rows": null,
            "height": null,
            "justify_content": null,
            "justify_items": null,
            "left": null,
            "margin": null,
            "max_height": null,
            "max_width": null,
            "min_height": null,
            "min_width": null,
            "object_fit": null,
            "object_position": null,
            "order": null,
            "overflow": null,
            "overflow_x": null,
            "overflow_y": null,
            "padding": null,
            "right": null,
            "top": null,
            "visibility": null,
            "width": null
          }
        },
        "779a02f25da840928452018d10f18754": {
          "model_module": "@jupyter-widgets/controls",
          "model_name": "SliderStyleModel",
          "model_module_version": "1.5.0",
          "state": {
            "_model_module": "@jupyter-widgets/controls",
            "_model_module_version": "1.5.0",
            "_model_name": "SliderStyleModel",
            "_view_count": null,
            "_view_module": "@jupyter-widgets/base",
            "_view_module_version": "1.2.0",
            "_view_name": "StyleView",
            "description_width": "",
            "handle_color": null
          }
        },
        "f6836e6ff95c43d4b1deba72245feddc": {
          "model_module": "@jupyter-widgets/base",
          "model_name": "LayoutModel",
          "model_module_version": "1.2.0",
          "state": {
            "_model_module": "@jupyter-widgets/base",
            "_model_module_version": "1.2.0",
            "_model_name": "LayoutModel",
            "_view_count": null,
            "_view_module": "@jupyter-widgets/base",
            "_view_module_version": "1.2.0",
            "_view_name": "LayoutView",
            "align_content": null,
            "align_items": null,
            "align_self": null,
            "border": null,
            "bottom": null,
            "display": null,
            "flex": null,
            "flex_flow": null,
            "grid_area": null,
            "grid_auto_columns": null,
            "grid_auto_flow": null,
            "grid_auto_rows": null,
            "grid_column": null,
            "grid_gap": null,
            "grid_row": null,
            "grid_template_areas": null,
            "grid_template_columns": null,
            "grid_template_rows": null,
            "height": null,
            "justify_content": null,
            "justify_items": null,
            "left": null,
            "margin": null,
            "max_height": null,
            "max_width": null,
            "min_height": null,
            "min_width": null,
            "object_fit": null,
            "object_position": null,
            "order": null,
            "overflow": null,
            "overflow_x": null,
            "overflow_y": null,
            "padding": null,
            "right": null,
            "top": null,
            "visibility": null,
            "width": null
          }
        },
        "88f74855297f4d4982767f000c75f2f9": {
          "model_module": "@jupyter-widgets/controls",
          "model_name": "HBoxModel",
          "model_module_version": "1.5.0",
          "state": {
            "_dom_classes": [],
            "_model_module": "@jupyter-widgets/controls",
            "_model_module_version": "1.5.0",
            "_model_name": "HBoxModel",
            "_view_count": null,
            "_view_module": "@jupyter-widgets/controls",
            "_view_module_version": "1.5.0",
            "_view_name": "HBoxView",
            "box_style": "",
            "children": [
              "IPY_MODEL_21e92c47553b429d8ddf645667202603",
              "IPY_MODEL_9c856e886c9d4239a48a33f96f178011",
              "IPY_MODEL_a472868ff54d4893bcd6f3a9b07cd611"
            ],
            "layout": "IPY_MODEL_1899dd56a9d648d4808908f683b439fe"
          }
        },
        "21e92c47553b429d8ddf645667202603": {
          "model_module": "@jupyter-widgets/controls",
          "model_name": "HTMLModel",
          "model_module_version": "1.5.0",
          "state": {
            "_dom_classes": [],
            "_model_module": "@jupyter-widgets/controls",
            "_model_module_version": "1.5.0",
            "_model_name": "HTMLModel",
            "_view_count": null,
            "_view_module": "@jupyter-widgets/controls",
            "_view_module_version": "1.5.0",
            "_view_name": "HTMLView",
            "description": "",
            "description_tooltip": null,
            "layout": "IPY_MODEL_c76462857bd04f77b7aee05222bab56b",
            "placeholder": "​",
            "style": "IPY_MODEL_e848ede4943047d4b5e5e39266e6b414",
            "value": "README.md: 100%"
          }
        },
        "9c856e886c9d4239a48a33f96f178011": {
          "model_module": "@jupyter-widgets/controls",
          "model_name": "FloatProgressModel",
          "model_module_version": "1.5.0",
          "state": {
            "_dom_classes": [],
            "_model_module": "@jupyter-widgets/controls",
            "_model_module_version": "1.5.0",
            "_model_name": "FloatProgressModel",
            "_view_count": null,
            "_view_module": "@jupyter-widgets/controls",
            "_view_module_version": "1.5.0",
            "_view_name": "ProgressView",
            "bar_style": "success",
            "description": "",
            "description_tooltip": null,
            "layout": "IPY_MODEL_d1c86876f3af41b6b15634992ce44e59",
            "max": 1782,
            "min": 0,
            "orientation": "horizontal",
            "style": "IPY_MODEL_6b27847ca6424bd59cccf881c9486e82",
            "value": 1782
          }
        },
        "a472868ff54d4893bcd6f3a9b07cd611": {
          "model_module": "@jupyter-widgets/controls",
          "model_name": "HTMLModel",
          "model_module_version": "1.5.0",
          "state": {
            "_dom_classes": [],
            "_model_module": "@jupyter-widgets/controls",
            "_model_module_version": "1.5.0",
            "_model_name": "HTMLModel",
            "_view_count": null,
            "_view_module": "@jupyter-widgets/controls",
            "_view_module_version": "1.5.0",
            "_view_name": "HTMLView",
            "description": "",
            "description_tooltip": null,
            "layout": "IPY_MODEL_59d0221a3e4f495cae7c73c503ca2f69",
            "placeholder": "​",
            "style": "IPY_MODEL_2c9bae027c9e4eb3bf90ad585a6d2765",
            "value": " 1.78k/1.78k [00:00&lt;00:00, 27.0kB/s]"
          }
        },
        "1899dd56a9d648d4808908f683b439fe": {
          "model_module": "@jupyter-widgets/base",
          "model_name": "LayoutModel",
          "model_module_version": "1.2.0",
          "state": {
            "_model_module": "@jupyter-widgets/base",
            "_model_module_version": "1.2.0",
            "_model_name": "LayoutModel",
            "_view_count": null,
            "_view_module": "@jupyter-widgets/base",
            "_view_module_version": "1.2.0",
            "_view_name": "LayoutView",
            "align_content": null,
            "align_items": null,
            "align_self": null,
            "border": null,
            "bottom": null,
            "display": null,
            "flex": null,
            "flex_flow": null,
            "grid_area": null,
            "grid_auto_columns": null,
            "grid_auto_flow": null,
            "grid_auto_rows": null,
            "grid_column": null,
            "grid_gap": null,
            "grid_row": null,
            "grid_template_areas": null,
            "grid_template_columns": null,
            "grid_template_rows": null,
            "height": null,
            "justify_content": null,
            "justify_items": null,
            "left": null,
            "margin": null,
            "max_height": null,
            "max_width": null,
            "min_height": null,
            "min_width": null,
            "object_fit": null,
            "object_position": null,
            "order": null,
            "overflow": null,
            "overflow_x": null,
            "overflow_y": null,
            "padding": null,
            "right": null,
            "top": null,
            "visibility": null,
            "width": null
          }
        },
        "c76462857bd04f77b7aee05222bab56b": {
          "model_module": "@jupyter-widgets/base",
          "model_name": "LayoutModel",
          "model_module_version": "1.2.0",
          "state": {
            "_model_module": "@jupyter-widgets/base",
            "_model_module_version": "1.2.0",
            "_model_name": "LayoutModel",
            "_view_count": null,
            "_view_module": "@jupyter-widgets/base",
            "_view_module_version": "1.2.0",
            "_view_name": "LayoutView",
            "align_content": null,
            "align_items": null,
            "align_self": null,
            "border": null,
            "bottom": null,
            "display": null,
            "flex": null,
            "flex_flow": null,
            "grid_area": null,
            "grid_auto_columns": null,
            "grid_auto_flow": null,
            "grid_auto_rows": null,
            "grid_column": null,
            "grid_gap": null,
            "grid_row": null,
            "grid_template_areas": null,
            "grid_template_columns": null,
            "grid_template_rows": null,
            "height": null,
            "justify_content": null,
            "justify_items": null,
            "left": null,
            "margin": null,
            "max_height": null,
            "max_width": null,
            "min_height": null,
            "min_width": null,
            "object_fit": null,
            "object_position": null,
            "order": null,
            "overflow": null,
            "overflow_x": null,
            "overflow_y": null,
            "padding": null,
            "right": null,
            "top": null,
            "visibility": null,
            "width": null
          }
        },
        "e848ede4943047d4b5e5e39266e6b414": {
          "model_module": "@jupyter-widgets/controls",
          "model_name": "DescriptionStyleModel",
          "model_module_version": "1.5.0",
          "state": {
            "_model_module": "@jupyter-widgets/controls",
            "_model_module_version": "1.5.0",
            "_model_name": "DescriptionStyleModel",
            "_view_count": null,
            "_view_module": "@jupyter-widgets/base",
            "_view_module_version": "1.2.0",
            "_view_name": "StyleView",
            "description_width": ""
          }
        },
        "d1c86876f3af41b6b15634992ce44e59": {
          "model_module": "@jupyter-widgets/base",
          "model_name": "LayoutModel",
          "model_module_version": "1.2.0",
          "state": {
            "_model_module": "@jupyter-widgets/base",
            "_model_module_version": "1.2.0",
            "_model_name": "LayoutModel",
            "_view_count": null,
            "_view_module": "@jupyter-widgets/base",
            "_view_module_version": "1.2.0",
            "_view_name": "LayoutView",
            "align_content": null,
            "align_items": null,
            "align_self": null,
            "border": null,
            "bottom": null,
            "display": null,
            "flex": null,
            "flex_flow": null,
            "grid_area": null,
            "grid_auto_columns": null,
            "grid_auto_flow": null,
            "grid_auto_rows": null,
            "grid_column": null,
            "grid_gap": null,
            "grid_row": null,
            "grid_template_areas": null,
            "grid_template_columns": null,
            "grid_template_rows": null,
            "height": null,
            "justify_content": null,
            "justify_items": null,
            "left": null,
            "margin": null,
            "max_height": null,
            "max_width": null,
            "min_height": null,
            "min_width": null,
            "object_fit": null,
            "object_position": null,
            "order": null,
            "overflow": null,
            "overflow_x": null,
            "overflow_y": null,
            "padding": null,
            "right": null,
            "top": null,
            "visibility": null,
            "width": null
          }
        },
        "6b27847ca6424bd59cccf881c9486e82": {
          "model_module": "@jupyter-widgets/controls",
          "model_name": "ProgressStyleModel",
          "model_module_version": "1.5.0",
          "state": {
            "_model_module": "@jupyter-widgets/controls",
            "_model_module_version": "1.5.0",
            "_model_name": "ProgressStyleModel",
            "_view_count": null,
            "_view_module": "@jupyter-widgets/base",
            "_view_module_version": "1.2.0",
            "_view_name": "StyleView",
            "bar_color": null,
            "description_width": ""
          }
        },
        "59d0221a3e4f495cae7c73c503ca2f69": {
          "model_module": "@jupyter-widgets/base",
          "model_name": "LayoutModel",
          "model_module_version": "1.2.0",
          "state": {
            "_model_module": "@jupyter-widgets/base",
            "_model_module_version": "1.2.0",
            "_model_name": "LayoutModel",
            "_view_count": null,
            "_view_module": "@jupyter-widgets/base",
            "_view_module_version": "1.2.0",
            "_view_name": "LayoutView",
            "align_content": null,
            "align_items": null,
            "align_self": null,
            "border": null,
            "bottom": null,
            "display": null,
            "flex": null,
            "flex_flow": null,
            "grid_area": null,
            "grid_auto_columns": null,
            "grid_auto_flow": null,
            "grid_auto_rows": null,
            "grid_column": null,
            "grid_gap": null,
            "grid_row": null,
            "grid_template_areas": null,
            "grid_template_columns": null,
            "grid_template_rows": null,
            "height": null,
            "justify_content": null,
            "justify_items": null,
            "left": null,
            "margin": null,
            "max_height": null,
            "max_width": null,
            "min_height": null,
            "min_width": null,
            "object_fit": null,
            "object_position": null,
            "order": null,
            "overflow": null,
            "overflow_x": null,
            "overflow_y": null,
            "padding": null,
            "right": null,
            "top": null,
            "visibility": null,
            "width": null
          }
        },
        "2c9bae027c9e4eb3bf90ad585a6d2765": {
          "model_module": "@jupyter-widgets/controls",
          "model_name": "DescriptionStyleModel",
          "model_module_version": "1.5.0",
          "state": {
            "_model_module": "@jupyter-widgets/controls",
            "_model_module_version": "1.5.0",
            "_model_name": "DescriptionStyleModel",
            "_view_count": null,
            "_view_module": "@jupyter-widgets/base",
            "_view_module_version": "1.2.0",
            "_view_name": "StyleView",
            "description_width": ""
          }
        },
        "23034952a1f040f1918f08c651f78179": {
          "model_module": "@jupyter-widgets/controls",
          "model_name": "HBoxModel",
          "model_module_version": "1.5.0",
          "state": {
            "_dom_classes": [],
            "_model_module": "@jupyter-widgets/controls",
            "_model_module_version": "1.5.0",
            "_model_name": "HBoxModel",
            "_view_count": null,
            "_view_module": "@jupyter-widgets/controls",
            "_view_module_version": "1.5.0",
            "_view_name": "HBoxView",
            "box_style": "",
            "children": [
              "IPY_MODEL_0c5853b7186b4c9380a906bfd5b52ec6",
              "IPY_MODEL_18aa7e1278e7473292b97d6b3f20f596",
              "IPY_MODEL_6a6a4609e5f649bc8e66452402dea1d1"
            ],
            "layout": "IPY_MODEL_5396db88319642c6a16400a2768286a3"
          }
        },
        "0c5853b7186b4c9380a906bfd5b52ec6": {
          "model_module": "@jupyter-widgets/controls",
          "model_name": "HTMLModel",
          "model_module_version": "1.5.0",
          "state": {
            "_dom_classes": [],
            "_model_module": "@jupyter-widgets/controls",
            "_model_module_version": "1.5.0",
            "_model_name": "HTMLModel",
            "_view_count": null,
            "_view_module": "@jupyter-widgets/controls",
            "_view_module_version": "1.5.0",
            "_view_name": "HTMLView",
            "description": "",
            "description_tooltip": null,
            "layout": "IPY_MODEL_cff743fe61334cc2bb1fed00af8f83fb",
            "placeholder": "​",
            "style": "IPY_MODEL_80caed4806124d3ba3de692647e76e78",
            "value": "(…)-00000-of-00001-ada007d4eb4ddc62.parquet: 100%"
          }
        },
        "18aa7e1278e7473292b97d6b3f20f596": {
          "model_module": "@jupyter-widgets/controls",
          "model_name": "FloatProgressModel",
          "model_module_version": "1.5.0",
          "state": {
            "_dom_classes": [],
            "_model_module": "@jupyter-widgets/controls",
            "_model_module_version": "1.5.0",
            "_model_name": "FloatProgressModel",
            "_view_count": null,
            "_view_module": "@jupyter-widgets/controls",
            "_view_module_version": "1.5.0",
            "_view_name": "ProgressView",
            "bar_style": "success",
            "description": "",
            "description_tooltip": null,
            "layout": "IPY_MODEL_e43eecd05e2645d78d1225ae54ee1dc1",
            "max": 1691346,
            "min": 0,
            "orientation": "horizontal",
            "style": "IPY_MODEL_a70f3f79df6d457d93d95fb6f37acdff",
            "value": 1691346
          }
        },
        "6a6a4609e5f649bc8e66452402dea1d1": {
          "model_module": "@jupyter-widgets/controls",
          "model_name": "HTMLModel",
          "model_module_version": "1.5.0",
          "state": {
            "_dom_classes": [],
            "_model_module": "@jupyter-widgets/controls",
            "_model_module_version": "1.5.0",
            "_model_name": "HTMLModel",
            "_view_count": null,
            "_view_module": "@jupyter-widgets/controls",
            "_view_module_version": "1.5.0",
            "_view_name": "HTMLView",
            "description": "",
            "description_tooltip": null,
            "layout": "IPY_MODEL_d1cece6c029b4d9e83b5c93bc8a71c7c",
            "placeholder": "​",
            "style": "IPY_MODEL_6bb6f4dfbfb04aa19ec5f9224caf61fd",
            "value": " 1.69M/1.69M [00:00&lt;00:00, 16.2MB/s]"
          }
        },
        "5396db88319642c6a16400a2768286a3": {
          "model_module": "@jupyter-widgets/base",
          "model_name": "LayoutModel",
          "model_module_version": "1.2.0",
          "state": {
            "_model_module": "@jupyter-widgets/base",
            "_model_module_version": "1.2.0",
            "_model_name": "LayoutModel",
            "_view_count": null,
            "_view_module": "@jupyter-widgets/base",
            "_view_module_version": "1.2.0",
            "_view_name": "LayoutView",
            "align_content": null,
            "align_items": null,
            "align_self": null,
            "border": null,
            "bottom": null,
            "display": null,
            "flex": null,
            "flex_flow": null,
            "grid_area": null,
            "grid_auto_columns": null,
            "grid_auto_flow": null,
            "grid_auto_rows": null,
            "grid_column": null,
            "grid_gap": null,
            "grid_row": null,
            "grid_template_areas": null,
            "grid_template_columns": null,
            "grid_template_rows": null,
            "height": null,
            "justify_content": null,
            "justify_items": null,
            "left": null,
            "margin": null,
            "max_height": null,
            "max_width": null,
            "min_height": null,
            "min_width": null,
            "object_fit": null,
            "object_position": null,
            "order": null,
            "overflow": null,
            "overflow_x": null,
            "overflow_y": null,
            "padding": null,
            "right": null,
            "top": null,
            "visibility": null,
            "width": null
          }
        },
        "cff743fe61334cc2bb1fed00af8f83fb": {
          "model_module": "@jupyter-widgets/base",
          "model_name": "LayoutModel",
          "model_module_version": "1.2.0",
          "state": {
            "_model_module": "@jupyter-widgets/base",
            "_model_module_version": "1.2.0",
            "_model_name": "LayoutModel",
            "_view_count": null,
            "_view_module": "@jupyter-widgets/base",
            "_view_module_version": "1.2.0",
            "_view_name": "LayoutView",
            "align_content": null,
            "align_items": null,
            "align_self": null,
            "border": null,
            "bottom": null,
            "display": null,
            "flex": null,
            "flex_flow": null,
            "grid_area": null,
            "grid_auto_columns": null,
            "grid_auto_flow": null,
            "grid_auto_rows": null,
            "grid_column": null,
            "grid_gap": null,
            "grid_row": null,
            "grid_template_areas": null,
            "grid_template_columns": null,
            "grid_template_rows": null,
            "height": null,
            "justify_content": null,
            "justify_items": null,
            "left": null,
            "margin": null,
            "max_height": null,
            "max_width": null,
            "min_height": null,
            "min_width": null,
            "object_fit": null,
            "object_position": null,
            "order": null,
            "overflow": null,
            "overflow_x": null,
            "overflow_y": null,
            "padding": null,
            "right": null,
            "top": null,
            "visibility": null,
            "width": null
          }
        },
        "80caed4806124d3ba3de692647e76e78": {
          "model_module": "@jupyter-widgets/controls",
          "model_name": "DescriptionStyleModel",
          "model_module_version": "1.5.0",
          "state": {
            "_model_module": "@jupyter-widgets/controls",
            "_model_module_version": "1.5.0",
            "_model_name": "DescriptionStyleModel",
            "_view_count": null,
            "_view_module": "@jupyter-widgets/base",
            "_view_module_version": "1.2.0",
            "_view_name": "StyleView",
            "description_width": ""
          }
        },
        "e43eecd05e2645d78d1225ae54ee1dc1": {
          "model_module": "@jupyter-widgets/base",
          "model_name": "LayoutModel",
          "model_module_version": "1.2.0",
          "state": {
            "_model_module": "@jupyter-widgets/base",
            "_model_module_version": "1.2.0",
            "_model_name": "LayoutModel",
            "_view_count": null,
            "_view_module": "@jupyter-widgets/base",
            "_view_module_version": "1.2.0",
            "_view_name": "LayoutView",
            "align_content": null,
            "align_items": null,
            "align_self": null,
            "border": null,
            "bottom": null,
            "display": null,
            "flex": null,
            "flex_flow": null,
            "grid_area": null,
            "grid_auto_columns": null,
            "grid_auto_flow": null,
            "grid_auto_rows": null,
            "grid_column": null,
            "grid_gap": null,
            "grid_row": null,
            "grid_template_areas": null,
            "grid_template_columns": null,
            "grid_template_rows": null,
            "height": null,
            "justify_content": null,
            "justify_items": null,
            "left": null,
            "margin": null,
            "max_height": null,
            "max_width": null,
            "min_height": null,
            "min_width": null,
            "object_fit": null,
            "object_position": null,
            "order": null,
            "overflow": null,
            "overflow_x": null,
            "overflow_y": null,
            "padding": null,
            "right": null,
            "top": null,
            "visibility": null,
            "width": null
          }
        },
        "a70f3f79df6d457d93d95fb6f37acdff": {
          "model_module": "@jupyter-widgets/controls",
          "model_name": "ProgressStyleModel",
          "model_module_version": "1.5.0",
          "state": {
            "_model_module": "@jupyter-widgets/controls",
            "_model_module_version": "1.5.0",
            "_model_name": "ProgressStyleModel",
            "_view_count": null,
            "_view_module": "@jupyter-widgets/base",
            "_view_module_version": "1.2.0",
            "_view_name": "StyleView",
            "bar_color": null,
            "description_width": ""
          }
        },
        "d1cece6c029b4d9e83b5c93bc8a71c7c": {
          "model_module": "@jupyter-widgets/base",
          "model_name": "LayoutModel",
          "model_module_version": "1.2.0",
          "state": {
            "_model_module": "@jupyter-widgets/base",
            "_model_module_version": "1.2.0",
            "_model_name": "LayoutModel",
            "_view_count": null,
            "_view_module": "@jupyter-widgets/base",
            "_view_module_version": "1.2.0",
            "_view_name": "LayoutView",
            "align_content": null,
            "align_items": null,
            "align_self": null,
            "border": null,
            "bottom": null,
            "display": null,
            "flex": null,
            "flex_flow": null,
            "grid_area": null,
            "grid_auto_columns": null,
            "grid_auto_flow": null,
            "grid_auto_rows": null,
            "grid_column": null,
            "grid_gap": null,
            "grid_row": null,
            "grid_template_areas": null,
            "grid_template_columns": null,
            "grid_template_rows": null,
            "height": null,
            "justify_content": null,
            "justify_items": null,
            "left": null,
            "margin": null,
            "max_height": null,
            "max_width": null,
            "min_height": null,
            "min_width": null,
            "object_fit": null,
            "object_position": null,
            "order": null,
            "overflow": null,
            "overflow_x": null,
            "overflow_y": null,
            "padding": null,
            "right": null,
            "top": null,
            "visibility": null,
            "width": null
          }
        },
        "6bb6f4dfbfb04aa19ec5f9224caf61fd": {
          "model_module": "@jupyter-widgets/controls",
          "model_name": "DescriptionStyleModel",
          "model_module_version": "1.5.0",
          "state": {
            "_model_module": "@jupyter-widgets/controls",
            "_model_module_version": "1.5.0",
            "_model_name": "DescriptionStyleModel",
            "_view_count": null,
            "_view_module": "@jupyter-widgets/base",
            "_view_module_version": "1.2.0",
            "_view_name": "StyleView",
            "description_width": ""
          }
        },
        "a04205649ae9405c877477c6b581e1f5": {
          "model_module": "@jupyter-widgets/controls",
          "model_name": "HBoxModel",
          "model_module_version": "1.5.0",
          "state": {
            "_dom_classes": [],
            "_model_module": "@jupyter-widgets/controls",
            "_model_module_version": "1.5.0",
            "_model_name": "HBoxModel",
            "_view_count": null,
            "_view_module": "@jupyter-widgets/controls",
            "_view_module_version": "1.5.0",
            "_view_name": "HBoxView",
            "box_style": "",
            "children": [
              "IPY_MODEL_1f9b329458e443fdae3d3fd2b59d145f",
              "IPY_MODEL_e80a4a8ddc3a40cd92069c530d4d6923",
              "IPY_MODEL_5804e822e7b741e28dd0febf954ed3af"
            ],
            "layout": "IPY_MODEL_3b1ef486c5bc45ea8e2f3bf3536323f9"
          }
        },
        "1f9b329458e443fdae3d3fd2b59d145f": {
          "model_module": "@jupyter-widgets/controls",
          "model_name": "HTMLModel",
          "model_module_version": "1.5.0",
          "state": {
            "_dom_classes": [],
            "_model_module": "@jupyter-widgets/controls",
            "_model_module_version": "1.5.0",
            "_model_name": "HTMLModel",
            "_view_count": null,
            "_view_module": "@jupyter-widgets/controls",
            "_view_module_version": "1.5.0",
            "_view_name": "HTMLView",
            "description": "",
            "description_tooltip": null,
            "layout": "IPY_MODEL_630a53094c4241be82c2496184f10ea7",
            "placeholder": "​",
            "style": "IPY_MODEL_7f15fa89acf54e91926f23a1380fbb09",
            "value": "Generating train split: 100%"
          }
        },
        "e80a4a8ddc3a40cd92069c530d4d6923": {
          "model_module": "@jupyter-widgets/controls",
          "model_name": "FloatProgressModel",
          "model_module_version": "1.5.0",
          "state": {
            "_dom_classes": [],
            "_model_module": "@jupyter-widgets/controls",
            "_model_module_version": "1.5.0",
            "_model_name": "FloatProgressModel",
            "_view_count": null,
            "_view_module": "@jupyter-widgets/controls",
            "_view_module_version": "1.5.0",
            "_view_name": "ProgressView",
            "bar_style": "success",
            "description": "",
            "description_tooltip": null,
            "layout": "IPY_MODEL_7ed56b188c7447089a4b8eb16a7f29e9",
            "max": 2347,
            "min": 0,
            "orientation": "horizontal",
            "style": "IPY_MODEL_16d3d4c43f19418cbbb10bfd65114863",
            "value": 2347
          }
        },
        "5804e822e7b741e28dd0febf954ed3af": {
          "model_module": "@jupyter-widgets/controls",
          "model_name": "HTMLModel",
          "model_module_version": "1.5.0",
          "state": {
            "_dom_classes": [],
            "_model_module": "@jupyter-widgets/controls",
            "_model_module_version": "1.5.0",
            "_model_name": "HTMLModel",
            "_view_count": null,
            "_view_module": "@jupyter-widgets/controls",
            "_view_module_version": "1.5.0",
            "_view_name": "HTMLView",
            "description": "",
            "description_tooltip": null,
            "layout": "IPY_MODEL_f9ce7fc8fc144dbcb3996f5f22560841",
            "placeholder": "​",
            "style": "IPY_MODEL_331f8f1bed954e52b58985c81a8ac349",
            "value": " 2347/2347 [00:00&lt;00:00, 8374.64 examples/s]"
          }
        },
        "3b1ef486c5bc45ea8e2f3bf3536323f9": {
          "model_module": "@jupyter-widgets/base",
          "model_name": "LayoutModel",
          "model_module_version": "1.2.0",
          "state": {
            "_model_module": "@jupyter-widgets/base",
            "_model_module_version": "1.2.0",
            "_model_name": "LayoutModel",
            "_view_count": null,
            "_view_module": "@jupyter-widgets/base",
            "_view_module_version": "1.2.0",
            "_view_name": "LayoutView",
            "align_content": null,
            "align_items": null,
            "align_self": null,
            "border": null,
            "bottom": null,
            "display": null,
            "flex": null,
            "flex_flow": null,
            "grid_area": null,
            "grid_auto_columns": null,
            "grid_auto_flow": null,
            "grid_auto_rows": null,
            "grid_column": null,
            "grid_gap": null,
            "grid_row": null,
            "grid_template_areas": null,
            "grid_template_columns": null,
            "grid_template_rows": null,
            "height": null,
            "justify_content": null,
            "justify_items": null,
            "left": null,
            "margin": null,
            "max_height": null,
            "max_width": null,
            "min_height": null,
            "min_width": null,
            "object_fit": null,
            "object_position": null,
            "order": null,
            "overflow": null,
            "overflow_x": null,
            "overflow_y": null,
            "padding": null,
            "right": null,
            "top": null,
            "visibility": null,
            "width": null
          }
        },
        "630a53094c4241be82c2496184f10ea7": {
          "model_module": "@jupyter-widgets/base",
          "model_name": "LayoutModel",
          "model_module_version": "1.2.0",
          "state": {
            "_model_module": "@jupyter-widgets/base",
            "_model_module_version": "1.2.0",
            "_model_name": "LayoutModel",
            "_view_count": null,
            "_view_module": "@jupyter-widgets/base",
            "_view_module_version": "1.2.0",
            "_view_name": "LayoutView",
            "align_content": null,
            "align_items": null,
            "align_self": null,
            "border": null,
            "bottom": null,
            "display": null,
            "flex": null,
            "flex_flow": null,
            "grid_area": null,
            "grid_auto_columns": null,
            "grid_auto_flow": null,
            "grid_auto_rows": null,
            "grid_column": null,
            "grid_gap": null,
            "grid_row": null,
            "grid_template_areas": null,
            "grid_template_columns": null,
            "grid_template_rows": null,
            "height": null,
            "justify_content": null,
            "justify_items": null,
            "left": null,
            "margin": null,
            "max_height": null,
            "max_width": null,
            "min_height": null,
            "min_width": null,
            "object_fit": null,
            "object_position": null,
            "order": null,
            "overflow": null,
            "overflow_x": null,
            "overflow_y": null,
            "padding": null,
            "right": null,
            "top": null,
            "visibility": null,
            "width": null
          }
        },
        "7f15fa89acf54e91926f23a1380fbb09": {
          "model_module": "@jupyter-widgets/controls",
          "model_name": "DescriptionStyleModel",
          "model_module_version": "1.5.0",
          "state": {
            "_model_module": "@jupyter-widgets/controls",
            "_model_module_version": "1.5.0",
            "_model_name": "DescriptionStyleModel",
            "_view_count": null,
            "_view_module": "@jupyter-widgets/base",
            "_view_module_version": "1.2.0",
            "_view_name": "StyleView",
            "description_width": ""
          }
        },
        "7ed56b188c7447089a4b8eb16a7f29e9": {
          "model_module": "@jupyter-widgets/base",
          "model_name": "LayoutModel",
          "model_module_version": "1.2.0",
          "state": {
            "_model_module": "@jupyter-widgets/base",
            "_model_module_version": "1.2.0",
            "_model_name": "LayoutModel",
            "_view_count": null,
            "_view_module": "@jupyter-widgets/base",
            "_view_module_version": "1.2.0",
            "_view_name": "LayoutView",
            "align_content": null,
            "align_items": null,
            "align_self": null,
            "border": null,
            "bottom": null,
            "display": null,
            "flex": null,
            "flex_flow": null,
            "grid_area": null,
            "grid_auto_columns": null,
            "grid_auto_flow": null,
            "grid_auto_rows": null,
            "grid_column": null,
            "grid_gap": null,
            "grid_row": null,
            "grid_template_areas": null,
            "grid_template_columns": null,
            "grid_template_rows": null,
            "height": null,
            "justify_content": null,
            "justify_items": null,
            "left": null,
            "margin": null,
            "max_height": null,
            "max_width": null,
            "min_height": null,
            "min_width": null,
            "object_fit": null,
            "object_position": null,
            "order": null,
            "overflow": null,
            "overflow_x": null,
            "overflow_y": null,
            "padding": null,
            "right": null,
            "top": null,
            "visibility": null,
            "width": null
          }
        },
        "16d3d4c43f19418cbbb10bfd65114863": {
          "model_module": "@jupyter-widgets/controls",
          "model_name": "ProgressStyleModel",
          "model_module_version": "1.5.0",
          "state": {
            "_model_module": "@jupyter-widgets/controls",
            "_model_module_version": "1.5.0",
            "_model_name": "ProgressStyleModel",
            "_view_count": null,
            "_view_module": "@jupyter-widgets/base",
            "_view_module_version": "1.2.0",
            "_view_name": "StyleView",
            "bar_color": null,
            "description_width": ""
          }
        },
        "f9ce7fc8fc144dbcb3996f5f22560841": {
          "model_module": "@jupyter-widgets/base",
          "model_name": "LayoutModel",
          "model_module_version": "1.2.0",
          "state": {
            "_model_module": "@jupyter-widgets/base",
            "_model_module_version": "1.2.0",
            "_model_name": "LayoutModel",
            "_view_count": null,
            "_view_module": "@jupyter-widgets/base",
            "_view_module_version": "1.2.0",
            "_view_name": "LayoutView",
            "align_content": null,
            "align_items": null,
            "align_self": null,
            "border": null,
            "bottom": null,
            "display": null,
            "flex": null,
            "flex_flow": null,
            "grid_area": null,
            "grid_auto_columns": null,
            "grid_auto_flow": null,
            "grid_auto_rows": null,
            "grid_column": null,
            "grid_gap": null,
            "grid_row": null,
            "grid_template_areas": null,
            "grid_template_columns": null,
            "grid_template_rows": null,
            "height": null,
            "justify_content": null,
            "justify_items": null,
            "left": null,
            "margin": null,
            "max_height": null,
            "max_width": null,
            "min_height": null,
            "min_width": null,
            "object_fit": null,
            "object_position": null,
            "order": null,
            "overflow": null,
            "overflow_x": null,
            "overflow_y": null,
            "padding": null,
            "right": null,
            "top": null,
            "visibility": null,
            "width": null
          }
        },
        "331f8f1bed954e52b58985c81a8ac349": {
          "model_module": "@jupyter-widgets/controls",
          "model_name": "DescriptionStyleModel",
          "model_module_version": "1.5.0",
          "state": {
            "_model_module": "@jupyter-widgets/controls",
            "_model_module_version": "1.5.0",
            "_model_name": "DescriptionStyleModel",
            "_view_count": null,
            "_view_module": "@jupyter-widgets/base",
            "_view_module_version": "1.2.0",
            "_view_name": "StyleView",
            "description_width": ""
          }
        },
        "38cda708bb634618b88e190c7e7530c8": {
          "model_module": "@jupyter-widgets/controls",
          "model_name": "HBoxModel",
          "model_module_version": "1.5.0",
          "state": {
            "_dom_classes": [],
            "_model_module": "@jupyter-widgets/controls",
            "_model_module_version": "1.5.0",
            "_model_name": "HBoxModel",
            "_view_count": null,
            "_view_module": "@jupyter-widgets/controls",
            "_view_module_version": "1.5.0",
            "_view_name": "HBoxView",
            "box_style": "",
            "children": [
              "IPY_MODEL_744717a4e77d4769a5fe5851c9d1dae4",
              "IPY_MODEL_54131837f30e4a8d97287559412d431f",
              "IPY_MODEL_0d58efd0d9d043abaa961fc87acb33bc"
            ],
            "layout": "IPY_MODEL_a0a56ba7fe924112a256c40befe5e39b"
          }
        },
        "744717a4e77d4769a5fe5851c9d1dae4": {
          "model_module": "@jupyter-widgets/controls",
          "model_name": "HTMLModel",
          "model_module_version": "1.5.0",
          "state": {
            "_dom_classes": [],
            "_model_module": "@jupyter-widgets/controls",
            "_model_module_version": "1.5.0",
            "_model_name": "HTMLModel",
            "_view_count": null,
            "_view_module": "@jupyter-widgets/controls",
            "_view_module_version": "1.5.0",
            "_view_name": "HTMLView",
            "description": "",
            "description_tooltip": null,
            "layout": "IPY_MODEL_a2f2bf74e486473187089e845157c413",
            "placeholder": "​",
            "style": "IPY_MODEL_d3f8091164c94a0e9067ee5166fd5414",
            "value": "Map: 100%"
          }
        },
        "54131837f30e4a8d97287559412d431f": {
          "model_module": "@jupyter-widgets/controls",
          "model_name": "FloatProgressModel",
          "model_module_version": "1.5.0",
          "state": {
            "_dom_classes": [],
            "_model_module": "@jupyter-widgets/controls",
            "_model_module_version": "1.5.0",
            "_model_name": "FloatProgressModel",
            "_view_count": null,
            "_view_module": "@jupyter-widgets/controls",
            "_view_module_version": "1.5.0",
            "_view_name": "ProgressView",
            "bar_style": "success",
            "description": "",
            "description_tooltip": null,
            "layout": "IPY_MODEL_22f27dfa59274c14871942f8ecedc2bf",
            "max": 2347,
            "min": 0,
            "orientation": "horizontal",
            "style": "IPY_MODEL_eafdb6f4de124c8ba61cdc5a041701e4",
            "value": 2347
          }
        },
        "0d58efd0d9d043abaa961fc87acb33bc": {
          "model_module": "@jupyter-widgets/controls",
          "model_name": "HTMLModel",
          "model_module_version": "1.5.0",
          "state": {
            "_dom_classes": [],
            "_model_module": "@jupyter-widgets/controls",
            "_model_module_version": "1.5.0",
            "_model_name": "HTMLModel",
            "_view_count": null,
            "_view_module": "@jupyter-widgets/controls",
            "_view_module_version": "1.5.0",
            "_view_name": "HTMLView",
            "description": "",
            "description_tooltip": null,
            "layout": "IPY_MODEL_d76c5dc53c2342c3b46188d8c6b6feef",
            "placeholder": "​",
            "style": "IPY_MODEL_c60db0ae284d43e8a6d5e1fb64b2bd04",
            "value": " 2347/2347 [00:01&lt;00:00, 1428.70 examples/s]"
          }
        },
        "a0a56ba7fe924112a256c40befe5e39b": {
          "model_module": "@jupyter-widgets/base",
          "model_name": "LayoutModel",
          "model_module_version": "1.2.0",
          "state": {
            "_model_module": "@jupyter-widgets/base",
            "_model_module_version": "1.2.0",
            "_model_name": "LayoutModel",
            "_view_count": null,
            "_view_module": "@jupyter-widgets/base",
            "_view_module_version": "1.2.0",
            "_view_name": "LayoutView",
            "align_content": null,
            "align_items": null,
            "align_self": null,
            "border": null,
            "bottom": null,
            "display": null,
            "flex": null,
            "flex_flow": null,
            "grid_area": null,
            "grid_auto_columns": null,
            "grid_auto_flow": null,
            "grid_auto_rows": null,
            "grid_column": null,
            "grid_gap": null,
            "grid_row": null,
            "grid_template_areas": null,
            "grid_template_columns": null,
            "grid_template_rows": null,
            "height": null,
            "justify_content": null,
            "justify_items": null,
            "left": null,
            "margin": null,
            "max_height": null,
            "max_width": null,
            "min_height": null,
            "min_width": null,
            "object_fit": null,
            "object_position": null,
            "order": null,
            "overflow": null,
            "overflow_x": null,
            "overflow_y": null,
            "padding": null,
            "right": null,
            "top": null,
            "visibility": null,
            "width": null
          }
        },
        "a2f2bf74e486473187089e845157c413": {
          "model_module": "@jupyter-widgets/base",
          "model_name": "LayoutModel",
          "model_module_version": "1.2.0",
          "state": {
            "_model_module": "@jupyter-widgets/base",
            "_model_module_version": "1.2.0",
            "_model_name": "LayoutModel",
            "_view_count": null,
            "_view_module": "@jupyter-widgets/base",
            "_view_module_version": "1.2.0",
            "_view_name": "LayoutView",
            "align_content": null,
            "align_items": null,
            "align_self": null,
            "border": null,
            "bottom": null,
            "display": null,
            "flex": null,
            "flex_flow": null,
            "grid_area": null,
            "grid_auto_columns": null,
            "grid_auto_flow": null,
            "grid_auto_rows": null,
            "grid_column": null,
            "grid_gap": null,
            "grid_row": null,
            "grid_template_areas": null,
            "grid_template_columns": null,
            "grid_template_rows": null,
            "height": null,
            "justify_content": null,
            "justify_items": null,
            "left": null,
            "margin": null,
            "max_height": null,
            "max_width": null,
            "min_height": null,
            "min_width": null,
            "object_fit": null,
            "object_position": null,
            "order": null,
            "overflow": null,
            "overflow_x": null,
            "overflow_y": null,
            "padding": null,
            "right": null,
            "top": null,
            "visibility": null,
            "width": null
          }
        },
        "d3f8091164c94a0e9067ee5166fd5414": {
          "model_module": "@jupyter-widgets/controls",
          "model_name": "DescriptionStyleModel",
          "model_module_version": "1.5.0",
          "state": {
            "_model_module": "@jupyter-widgets/controls",
            "_model_module_version": "1.5.0",
            "_model_name": "DescriptionStyleModel",
            "_view_count": null,
            "_view_module": "@jupyter-widgets/base",
            "_view_module_version": "1.2.0",
            "_view_name": "StyleView",
            "description_width": ""
          }
        },
        "22f27dfa59274c14871942f8ecedc2bf": {
          "model_module": "@jupyter-widgets/base",
          "model_name": "LayoutModel",
          "model_module_version": "1.2.0",
          "state": {
            "_model_module": "@jupyter-widgets/base",
            "_model_module_version": "1.2.0",
            "_model_name": "LayoutModel",
            "_view_count": null,
            "_view_module": "@jupyter-widgets/base",
            "_view_module_version": "1.2.0",
            "_view_name": "LayoutView",
            "align_content": null,
            "align_items": null,
            "align_self": null,
            "border": null,
            "bottom": null,
            "display": null,
            "flex": null,
            "flex_flow": null,
            "grid_area": null,
            "grid_auto_columns": null,
            "grid_auto_flow": null,
            "grid_auto_rows": null,
            "grid_column": null,
            "grid_gap": null,
            "grid_row": null,
            "grid_template_areas": null,
            "grid_template_columns": null,
            "grid_template_rows": null,
            "height": null,
            "justify_content": null,
            "justify_items": null,
            "left": null,
            "margin": null,
            "max_height": null,
            "max_width": null,
            "min_height": null,
            "min_width": null,
            "object_fit": null,
            "object_position": null,
            "order": null,
            "overflow": null,
            "overflow_x": null,
            "overflow_y": null,
            "padding": null,
            "right": null,
            "top": null,
            "visibility": null,
            "width": null
          }
        },
        "eafdb6f4de124c8ba61cdc5a041701e4": {
          "model_module": "@jupyter-widgets/controls",
          "model_name": "ProgressStyleModel",
          "model_module_version": "1.5.0",
          "state": {
            "_model_module": "@jupyter-widgets/controls",
            "_model_module_version": "1.5.0",
            "_model_name": "ProgressStyleModel",
            "_view_count": null,
            "_view_module": "@jupyter-widgets/base",
            "_view_module_version": "1.2.0",
            "_view_name": "StyleView",
            "bar_color": null,
            "description_width": ""
          }
        },
        "d76c5dc53c2342c3b46188d8c6b6feef": {
          "model_module": "@jupyter-widgets/base",
          "model_name": "LayoutModel",
          "model_module_version": "1.2.0",
          "state": {
            "_model_module": "@jupyter-widgets/base",
            "_model_module_version": "1.2.0",
            "_model_name": "LayoutModel",
            "_view_count": null,
            "_view_module": "@jupyter-widgets/base",
            "_view_module_version": "1.2.0",
            "_view_name": "LayoutView",
            "align_content": null,
            "align_items": null,
            "align_self": null,
            "border": null,
            "bottom": null,
            "display": null,
            "flex": null,
            "flex_flow": null,
            "grid_area": null,
            "grid_auto_columns": null,
            "grid_auto_flow": null,
            "grid_auto_rows": null,
            "grid_column": null,
            "grid_gap": null,
            "grid_row": null,
            "grid_template_areas": null,
            "grid_template_columns": null,
            "grid_template_rows": null,
            "height": null,
            "justify_content": null,
            "justify_items": null,
            "left": null,
            "margin": null,
            "max_height": null,
            "max_width": null,
            "min_height": null,
            "min_width": null,
            "object_fit": null,
            "object_position": null,
            "order": null,
            "overflow": null,
            "overflow_x": null,
            "overflow_y": null,
            "padding": null,
            "right": null,
            "top": null,
            "visibility": null,
            "width": null
          }
        },
        "c60db0ae284d43e8a6d5e1fb64b2bd04": {
          "model_module": "@jupyter-widgets/controls",
          "model_name": "DescriptionStyleModel",
          "model_module_version": "1.5.0",
          "state": {
            "_model_module": "@jupyter-widgets/controls",
            "_model_module_version": "1.5.0",
            "_model_name": "DescriptionStyleModel",
            "_view_count": null,
            "_view_module": "@jupyter-widgets/base",
            "_view_module_version": "1.2.0",
            "_view_name": "StyleView",
            "description_width": ""
          }
        },
        "0a1e1d3a073848b4a11ff8fde9c140ff": {
          "model_module": "@jupyter-widgets/controls",
          "model_name": "HBoxModel",
          "model_module_version": "1.5.0",
          "state": {
            "_dom_classes": [],
            "_model_module": "@jupyter-widgets/controls",
            "_model_module_version": "1.5.0",
            "_model_name": "HBoxModel",
            "_view_count": null,
            "_view_module": "@jupyter-widgets/controls",
            "_view_module_version": "1.5.0",
            "_view_name": "HBoxView",
            "box_style": "",
            "children": [
              "IPY_MODEL_78e34ae69819430fa321d19e1a6dd058",
              "IPY_MODEL_3e802a6bc2e34259bd300150ceb7c43e",
              "IPY_MODEL_283960e1206049e6ad00bd6a4dc6bcb7"
            ],
            "layout": "IPY_MODEL_90057eabb3864639b49d4c5bcc36a4cb"
          }
        },
        "78e34ae69819430fa321d19e1a6dd058": {
          "model_module": "@jupyter-widgets/controls",
          "model_name": "HTMLModel",
          "model_module_version": "1.5.0",
          "state": {
            "_dom_classes": [],
            "_model_module": "@jupyter-widgets/controls",
            "_model_module_version": "1.5.0",
            "_model_name": "HTMLModel",
            "_view_count": null,
            "_view_module": "@jupyter-widgets/controls",
            "_view_module_version": "1.5.0",
            "_view_name": "HTMLView",
            "description": "",
            "description_tooltip": null,
            "layout": "IPY_MODEL_04e1f69e6fdd40b785385dd8ebfd84a5",
            "placeholder": "​",
            "style": "IPY_MODEL_a878524af28f4e0fa9694e1f639e68af",
            "value": ""
          }
        },
        "3e802a6bc2e34259bd300150ceb7c43e": {
          "model_module": "@jupyter-widgets/controls",
          "model_name": "FloatProgressModel",
          "model_module_version": "1.5.0",
          "state": {
            "_dom_classes": [],
            "_model_module": "@jupyter-widgets/controls",
            "_model_module_version": "1.5.0",
            "_model_name": "FloatProgressModel",
            "_view_count": null,
            "_view_module": "@jupyter-widgets/controls",
            "_view_module_version": "1.5.0",
            "_view_name": "ProgressView",
            "bar_style": "success",
            "description": "",
            "description_tooltip": null,
            "layout": "IPY_MODEL_8a712d9e6f5849de96bcaa4146b2edd4",
            "max": 1,
            "min": 0,
            "orientation": "horizontal",
            "style": "IPY_MODEL_45568e2d04964d5d8528193c1a531e13",
            "value": 0
          }
        },
        "283960e1206049e6ad00bd6a4dc6bcb7": {
          "model_module": "@jupyter-widgets/controls",
          "model_name": "HTMLModel",
          "model_module_version": "1.5.0",
          "state": {
            "_dom_classes": [],
            "_model_module": "@jupyter-widgets/controls",
            "_model_module_version": "1.5.0",
            "_model_name": "HTMLModel",
            "_view_count": null,
            "_view_module": "@jupyter-widgets/controls",
            "_view_module_version": "1.5.0",
            "_view_name": "HTMLView",
            "description": "",
            "description_tooltip": null,
            "layout": "IPY_MODEL_db32fdad345a4eae964eb2156960a715",
            "placeholder": "​",
            "style": "IPY_MODEL_b5d8b02bb8e14c408515f4abd51f7cbc",
            "value": " 0/0 [00:00&lt;?, ?it/s]"
          }
        },
        "90057eabb3864639b49d4c5bcc36a4cb": {
          "model_module": "@jupyter-widgets/base",
          "model_name": "LayoutModel",
          "model_module_version": "1.2.0",
          "state": {
            "_model_module": "@jupyter-widgets/base",
            "_model_module_version": "1.2.0",
            "_model_name": "LayoutModel",
            "_view_count": null,
            "_view_module": "@jupyter-widgets/base",
            "_view_module_version": "1.2.0",
            "_view_name": "LayoutView",
            "align_content": null,
            "align_items": null,
            "align_self": null,
            "border": null,
            "bottom": null,
            "display": null,
            "flex": null,
            "flex_flow": null,
            "grid_area": null,
            "grid_auto_columns": null,
            "grid_auto_flow": null,
            "grid_auto_rows": null,
            "grid_column": null,
            "grid_gap": null,
            "grid_row": null,
            "grid_template_areas": null,
            "grid_template_columns": null,
            "grid_template_rows": null,
            "height": null,
            "justify_content": null,
            "justify_items": null,
            "left": null,
            "margin": null,
            "max_height": null,
            "max_width": null,
            "min_height": null,
            "min_width": null,
            "object_fit": null,
            "object_position": null,
            "order": null,
            "overflow": null,
            "overflow_x": null,
            "overflow_y": null,
            "padding": null,
            "right": null,
            "top": null,
            "visibility": null,
            "width": null
          }
        },
        "04e1f69e6fdd40b785385dd8ebfd84a5": {
          "model_module": "@jupyter-widgets/base",
          "model_name": "LayoutModel",
          "model_module_version": "1.2.0",
          "state": {
            "_model_module": "@jupyter-widgets/base",
            "_model_module_version": "1.2.0",
            "_model_name": "LayoutModel",
            "_view_count": null,
            "_view_module": "@jupyter-widgets/base",
            "_view_module_version": "1.2.0",
            "_view_name": "LayoutView",
            "align_content": null,
            "align_items": null,
            "align_self": null,
            "border": null,
            "bottom": null,
            "display": null,
            "flex": null,
            "flex_flow": null,
            "grid_area": null,
            "grid_auto_columns": null,
            "grid_auto_flow": null,
            "grid_auto_rows": null,
            "grid_column": null,
            "grid_gap": null,
            "grid_row": null,
            "grid_template_areas": null,
            "grid_template_columns": null,
            "grid_template_rows": null,
            "height": null,
            "justify_content": null,
            "justify_items": null,
            "left": null,
            "margin": null,
            "max_height": null,
            "max_width": null,
            "min_height": null,
            "min_width": null,
            "object_fit": null,
            "object_position": null,
            "order": null,
            "overflow": null,
            "overflow_x": null,
            "overflow_y": null,
            "padding": null,
            "right": null,
            "top": null,
            "visibility": null,
            "width": null
          }
        },
        "a878524af28f4e0fa9694e1f639e68af": {
          "model_module": "@jupyter-widgets/controls",
          "model_name": "DescriptionStyleModel",
          "model_module_version": "1.5.0",
          "state": {
            "_model_module": "@jupyter-widgets/controls",
            "_model_module_version": "1.5.0",
            "_model_name": "DescriptionStyleModel",
            "_view_count": null,
            "_view_module": "@jupyter-widgets/base",
            "_view_module_version": "1.2.0",
            "_view_name": "StyleView",
            "description_width": ""
          }
        },
        "8a712d9e6f5849de96bcaa4146b2edd4": {
          "model_module": "@jupyter-widgets/base",
          "model_name": "LayoutModel",
          "model_module_version": "1.2.0",
          "state": {
            "_model_module": "@jupyter-widgets/base",
            "_model_module_version": "1.2.0",
            "_model_name": "LayoutModel",
            "_view_count": null,
            "_view_module": "@jupyter-widgets/base",
            "_view_module_version": "1.2.0",
            "_view_name": "LayoutView",
            "align_content": null,
            "align_items": null,
            "align_self": null,
            "border": null,
            "bottom": null,
            "display": null,
            "flex": null,
            "flex_flow": null,
            "grid_area": null,
            "grid_auto_columns": null,
            "grid_auto_flow": null,
            "grid_auto_rows": null,
            "grid_column": null,
            "grid_gap": null,
            "grid_row": null,
            "grid_template_areas": null,
            "grid_template_columns": null,
            "grid_template_rows": null,
            "height": null,
            "justify_content": null,
            "justify_items": null,
            "left": null,
            "margin": null,
            "max_height": null,
            "max_width": null,
            "min_height": null,
            "min_width": null,
            "object_fit": null,
            "object_position": null,
            "order": null,
            "overflow": null,
            "overflow_x": null,
            "overflow_y": null,
            "padding": null,
            "right": null,
            "top": null,
            "visibility": null,
            "width": "20px"
          }
        },
        "45568e2d04964d5d8528193c1a531e13": {
          "model_module": "@jupyter-widgets/controls",
          "model_name": "ProgressStyleModel",
          "model_module_version": "1.5.0",
          "state": {
            "_model_module": "@jupyter-widgets/controls",
            "_model_module_version": "1.5.0",
            "_model_name": "ProgressStyleModel",
            "_view_count": null,
            "_view_module": "@jupyter-widgets/base",
            "_view_module_version": "1.2.0",
            "_view_name": "StyleView",
            "bar_color": null,
            "description_width": ""
          }
        },
        "db32fdad345a4eae964eb2156960a715": {
          "model_module": "@jupyter-widgets/base",
          "model_name": "LayoutModel",
          "model_module_version": "1.2.0",
          "state": {
            "_model_module": "@jupyter-widgets/base",
            "_model_module_version": "1.2.0",
            "_model_name": "LayoutModel",
            "_view_count": null,
            "_view_module": "@jupyter-widgets/base",
            "_view_module_version": "1.2.0",
            "_view_name": "LayoutView",
            "align_content": null,
            "align_items": null,
            "align_self": null,
            "border": null,
            "bottom": null,
            "display": null,
            "flex": null,
            "flex_flow": null,
            "grid_area": null,
            "grid_auto_columns": null,
            "grid_auto_flow": null,
            "grid_auto_rows": null,
            "grid_column": null,
            "grid_gap": null,
            "grid_row": null,
            "grid_template_areas": null,
            "grid_template_columns": null,
            "grid_template_rows": null,
            "height": null,
            "justify_content": null,
            "justify_items": null,
            "left": null,
            "margin": null,
            "max_height": null,
            "max_width": null,
            "min_height": null,
            "min_width": null,
            "object_fit": null,
            "object_position": null,
            "order": null,
            "overflow": null,
            "overflow_x": null,
            "overflow_y": null,
            "padding": null,
            "right": null,
            "top": null,
            "visibility": null,
            "width": null
          }
        },
        "b5d8b02bb8e14c408515f4abd51f7cbc": {
          "model_module": "@jupyter-widgets/controls",
          "model_name": "DescriptionStyleModel",
          "model_module_version": "1.5.0",
          "state": {
            "_model_module": "@jupyter-widgets/controls",
            "_model_module_version": "1.5.0",
            "_model_name": "DescriptionStyleModel",
            "_view_count": null,
            "_view_module": "@jupyter-widgets/base",
            "_view_module_version": "1.2.0",
            "_view_name": "StyleView",
            "description_width": ""
          }
        },
        "0e9493e3306e475e8ae5c64fd6d4eb76": {
          "model_module": "@jupyter-widgets/controls",
          "model_name": "HBoxModel",
          "model_module_version": "1.5.0",
          "state": {
            "_dom_classes": [],
            "_model_module": "@jupyter-widgets/controls",
            "_model_module_version": "1.5.0",
            "_model_name": "HBoxModel",
            "_view_count": null,
            "_view_module": "@jupyter-widgets/controls",
            "_view_module_version": "1.5.0",
            "_view_name": "HBoxView",
            "box_style": "",
            "children": [
              "IPY_MODEL_2e217b239e834f2aa2a96799af718cac",
              "IPY_MODEL_2687591e87cd4d85b212257298e87477",
              "IPY_MODEL_a58fd4455e504f6c933a1582d53e32d1"
            ],
            "layout": "IPY_MODEL_8a379996369843b8a8c94da038f814ec"
          }
        },
        "2e217b239e834f2aa2a96799af718cac": {
          "model_module": "@jupyter-widgets/controls",
          "model_name": "HTMLModel",
          "model_module_version": "1.5.0",
          "state": {
            "_dom_classes": [],
            "_model_module": "@jupyter-widgets/controls",
            "_model_module_version": "1.5.0",
            "_model_name": "HTMLModel",
            "_view_count": null,
            "_view_module": "@jupyter-widgets/controls",
            "_view_module_version": "1.5.0",
            "_view_name": "HTMLView",
            "description": "",
            "description_tooltip": null,
            "layout": "IPY_MODEL_a97215a915d54833bb2f9df3031fa7e7",
            "placeholder": "​",
            "style": "IPY_MODEL_ed095ffbe81743ec859d63684c41b47f",
            "value": "modules.json: 100%"
          }
        },
        "2687591e87cd4d85b212257298e87477": {
          "model_module": "@jupyter-widgets/controls",
          "model_name": "FloatProgressModel",
          "model_module_version": "1.5.0",
          "state": {
            "_dom_classes": [],
            "_model_module": "@jupyter-widgets/controls",
            "_model_module_version": "1.5.0",
            "_model_name": "FloatProgressModel",
            "_view_count": null,
            "_view_module": "@jupyter-widgets/controls",
            "_view_module_version": "1.5.0",
            "_view_name": "ProgressView",
            "bar_style": "success",
            "description": "",
            "description_tooltip": null,
            "layout": "IPY_MODEL_5b6b046f12c74cdda2950f928d750e33",
            "max": 349,
            "min": 0,
            "orientation": "horizontal",
            "style": "IPY_MODEL_eaca446105db48529193a7e712cf79e2",
            "value": 349
          }
        },
        "a58fd4455e504f6c933a1582d53e32d1": {
          "model_module": "@jupyter-widgets/controls",
          "model_name": "HTMLModel",
          "model_module_version": "1.5.0",
          "state": {
            "_dom_classes": [],
            "_model_module": "@jupyter-widgets/controls",
            "_model_module_version": "1.5.0",
            "_model_name": "HTMLModel",
            "_view_count": null,
            "_view_module": "@jupyter-widgets/controls",
            "_view_module_version": "1.5.0",
            "_view_name": "HTMLView",
            "description": "",
            "description_tooltip": null,
            "layout": "IPY_MODEL_2bddd094d0e24d67a0c62a852206f6c1",
            "placeholder": "​",
            "style": "IPY_MODEL_e0e01db6b1dd4f76aec58d790e0ce83a",
            "value": " 349/349 [00:00&lt;00:00, 6.91kB/s]"
          }
        },
        "8a379996369843b8a8c94da038f814ec": {
          "model_module": "@jupyter-widgets/base",
          "model_name": "LayoutModel",
          "model_module_version": "1.2.0",
          "state": {
            "_model_module": "@jupyter-widgets/base",
            "_model_module_version": "1.2.0",
            "_model_name": "LayoutModel",
            "_view_count": null,
            "_view_module": "@jupyter-widgets/base",
            "_view_module_version": "1.2.0",
            "_view_name": "LayoutView",
            "align_content": null,
            "align_items": null,
            "align_self": null,
            "border": null,
            "bottom": null,
            "display": null,
            "flex": null,
            "flex_flow": null,
            "grid_area": null,
            "grid_auto_columns": null,
            "grid_auto_flow": null,
            "grid_auto_rows": null,
            "grid_column": null,
            "grid_gap": null,
            "grid_row": null,
            "grid_template_areas": null,
            "grid_template_columns": null,
            "grid_template_rows": null,
            "height": null,
            "justify_content": null,
            "justify_items": null,
            "left": null,
            "margin": null,
            "max_height": null,
            "max_width": null,
            "min_height": null,
            "min_width": null,
            "object_fit": null,
            "object_position": null,
            "order": null,
            "overflow": null,
            "overflow_x": null,
            "overflow_y": null,
            "padding": null,
            "right": null,
            "top": null,
            "visibility": null,
            "width": null
          }
        },
        "a97215a915d54833bb2f9df3031fa7e7": {
          "model_module": "@jupyter-widgets/base",
          "model_name": "LayoutModel",
          "model_module_version": "1.2.0",
          "state": {
            "_model_module": "@jupyter-widgets/base",
            "_model_module_version": "1.2.0",
            "_model_name": "LayoutModel",
            "_view_count": null,
            "_view_module": "@jupyter-widgets/base",
            "_view_module_version": "1.2.0",
            "_view_name": "LayoutView",
            "align_content": null,
            "align_items": null,
            "align_self": null,
            "border": null,
            "bottom": null,
            "display": null,
            "flex": null,
            "flex_flow": null,
            "grid_area": null,
            "grid_auto_columns": null,
            "grid_auto_flow": null,
            "grid_auto_rows": null,
            "grid_column": null,
            "grid_gap": null,
            "grid_row": null,
            "grid_template_areas": null,
            "grid_template_columns": null,
            "grid_template_rows": null,
            "height": null,
            "justify_content": null,
            "justify_items": null,
            "left": null,
            "margin": null,
            "max_height": null,
            "max_width": null,
            "min_height": null,
            "min_width": null,
            "object_fit": null,
            "object_position": null,
            "order": null,
            "overflow": null,
            "overflow_x": null,
            "overflow_y": null,
            "padding": null,
            "right": null,
            "top": null,
            "visibility": null,
            "width": null
          }
        },
        "ed095ffbe81743ec859d63684c41b47f": {
          "model_module": "@jupyter-widgets/controls",
          "model_name": "DescriptionStyleModel",
          "model_module_version": "1.5.0",
          "state": {
            "_model_module": "@jupyter-widgets/controls",
            "_model_module_version": "1.5.0",
            "_model_name": "DescriptionStyleModel",
            "_view_count": null,
            "_view_module": "@jupyter-widgets/base",
            "_view_module_version": "1.2.0",
            "_view_name": "StyleView",
            "description_width": ""
          }
        },
        "5b6b046f12c74cdda2950f928d750e33": {
          "model_module": "@jupyter-widgets/base",
          "model_name": "LayoutModel",
          "model_module_version": "1.2.0",
          "state": {
            "_model_module": "@jupyter-widgets/base",
            "_model_module_version": "1.2.0",
            "_model_name": "LayoutModel",
            "_view_count": null,
            "_view_module": "@jupyter-widgets/base",
            "_view_module_version": "1.2.0",
            "_view_name": "LayoutView",
            "align_content": null,
            "align_items": null,
            "align_self": null,
            "border": null,
            "bottom": null,
            "display": null,
            "flex": null,
            "flex_flow": null,
            "grid_area": null,
            "grid_auto_columns": null,
            "grid_auto_flow": null,
            "grid_auto_rows": null,
            "grid_column": null,
            "grid_gap": null,
            "grid_row": null,
            "grid_template_areas": null,
            "grid_template_columns": null,
            "grid_template_rows": null,
            "height": null,
            "justify_content": null,
            "justify_items": null,
            "left": null,
            "margin": null,
            "max_height": null,
            "max_width": null,
            "min_height": null,
            "min_width": null,
            "object_fit": null,
            "object_position": null,
            "order": null,
            "overflow": null,
            "overflow_x": null,
            "overflow_y": null,
            "padding": null,
            "right": null,
            "top": null,
            "visibility": null,
            "width": null
          }
        },
        "eaca446105db48529193a7e712cf79e2": {
          "model_module": "@jupyter-widgets/controls",
          "model_name": "ProgressStyleModel",
          "model_module_version": "1.5.0",
          "state": {
            "_model_module": "@jupyter-widgets/controls",
            "_model_module_version": "1.5.0",
            "_model_name": "ProgressStyleModel",
            "_view_count": null,
            "_view_module": "@jupyter-widgets/base",
            "_view_module_version": "1.2.0",
            "_view_name": "StyleView",
            "bar_color": null,
            "description_width": ""
          }
        },
        "2bddd094d0e24d67a0c62a852206f6c1": {
          "model_module": "@jupyter-widgets/base",
          "model_name": "LayoutModel",
          "model_module_version": "1.2.0",
          "state": {
            "_model_module": "@jupyter-widgets/base",
            "_model_module_version": "1.2.0",
            "_model_name": "LayoutModel",
            "_view_count": null,
            "_view_module": "@jupyter-widgets/base",
            "_view_module_version": "1.2.0",
            "_view_name": "LayoutView",
            "align_content": null,
            "align_items": null,
            "align_self": null,
            "border": null,
            "bottom": null,
            "display": null,
            "flex": null,
            "flex_flow": null,
            "grid_area": null,
            "grid_auto_columns": null,
            "grid_auto_flow": null,
            "grid_auto_rows": null,
            "grid_column": null,
            "grid_gap": null,
            "grid_row": null,
            "grid_template_areas": null,
            "grid_template_columns": null,
            "grid_template_rows": null,
            "height": null,
            "justify_content": null,
            "justify_items": null,
            "left": null,
            "margin": null,
            "max_height": null,
            "max_width": null,
            "min_height": null,
            "min_width": null,
            "object_fit": null,
            "object_position": null,
            "order": null,
            "overflow": null,
            "overflow_x": null,
            "overflow_y": null,
            "padding": null,
            "right": null,
            "top": null,
            "visibility": null,
            "width": null
          }
        },
        "e0e01db6b1dd4f76aec58d790e0ce83a": {
          "model_module": "@jupyter-widgets/controls",
          "model_name": "DescriptionStyleModel",
          "model_module_version": "1.5.0",
          "state": {
            "_model_module": "@jupyter-widgets/controls",
            "_model_module_version": "1.5.0",
            "_model_name": "DescriptionStyleModel",
            "_view_count": null,
            "_view_module": "@jupyter-widgets/base",
            "_view_module_version": "1.2.0",
            "_view_name": "StyleView",
            "description_width": ""
          }
        },
        "8dd609db5e32401ba2cb0e36f3dcb597": {
          "model_module": "@jupyter-widgets/controls",
          "model_name": "HBoxModel",
          "model_module_version": "1.5.0",
          "state": {
            "_dom_classes": [],
            "_model_module": "@jupyter-widgets/controls",
            "_model_module_version": "1.5.0",
            "_model_name": "HBoxModel",
            "_view_count": null,
            "_view_module": "@jupyter-widgets/controls",
            "_view_module_version": "1.5.0",
            "_view_name": "HBoxView",
            "box_style": "",
            "children": [
              "IPY_MODEL_8ad613bd8b3a4162a6277a8e9306b31a",
              "IPY_MODEL_c732daceefc549f7b25b89662b4d5e8e",
              "IPY_MODEL_2636e671f20e41ea85e0e3e88d6bece7"
            ],
            "layout": "IPY_MODEL_684ed606fe8e4b598be8399ffe124095"
          }
        },
        "8ad613bd8b3a4162a6277a8e9306b31a": {
          "model_module": "@jupyter-widgets/controls",
          "model_name": "HTMLModel",
          "model_module_version": "1.5.0",
          "state": {
            "_dom_classes": [],
            "_model_module": "@jupyter-widgets/controls",
            "_model_module_version": "1.5.0",
            "_model_name": "HTMLModel",
            "_view_count": null,
            "_view_module": "@jupyter-widgets/controls",
            "_view_module_version": "1.5.0",
            "_view_name": "HTMLView",
            "description": "",
            "description_tooltip": null,
            "layout": "IPY_MODEL_81a7a0b866314527a00d40044ea8ba36",
            "placeholder": "​",
            "style": "IPY_MODEL_362f94a3593642869c808be07d1caa65",
            "value": "config_sentence_transformers.json: 100%"
          }
        },
        "c732daceefc549f7b25b89662b4d5e8e": {
          "model_module": "@jupyter-widgets/controls",
          "model_name": "FloatProgressModel",
          "model_module_version": "1.5.0",
          "state": {
            "_dom_classes": [],
            "_model_module": "@jupyter-widgets/controls",
            "_model_module_version": "1.5.0",
            "_model_name": "FloatProgressModel",
            "_view_count": null,
            "_view_module": "@jupyter-widgets/controls",
            "_view_module_version": "1.5.0",
            "_view_name": "ProgressView",
            "bar_style": "success",
            "description": "",
            "description_tooltip": null,
            "layout": "IPY_MODEL_55578d525ec9448b8b8024c4e0595e9e",
            "max": 124,
            "min": 0,
            "orientation": "horizontal",
            "style": "IPY_MODEL_0feab00658654f31b28962d3f09ea5b4",
            "value": 124
          }
        },
        "2636e671f20e41ea85e0e3e88d6bece7": {
          "model_module": "@jupyter-widgets/controls",
          "model_name": "HTMLModel",
          "model_module_version": "1.5.0",
          "state": {
            "_dom_classes": [],
            "_model_module": "@jupyter-widgets/controls",
            "_model_module_version": "1.5.0",
            "_model_name": "HTMLModel",
            "_view_count": null,
            "_view_module": "@jupyter-widgets/controls",
            "_view_module_version": "1.5.0",
            "_view_name": "HTMLView",
            "description": "",
            "description_tooltip": null,
            "layout": "IPY_MODEL_525364fa5a66458fa96138ac60475f3a",
            "placeholder": "​",
            "style": "IPY_MODEL_38e90aaa0d924466a8c248cf69adf60f",
            "value": " 124/124 [00:00&lt;00:00, 6.11kB/s]"
          }
        },
        "684ed606fe8e4b598be8399ffe124095": {
          "model_module": "@jupyter-widgets/base",
          "model_name": "LayoutModel",
          "model_module_version": "1.2.0",
          "state": {
            "_model_module": "@jupyter-widgets/base",
            "_model_module_version": "1.2.0",
            "_model_name": "LayoutModel",
            "_view_count": null,
            "_view_module": "@jupyter-widgets/base",
            "_view_module_version": "1.2.0",
            "_view_name": "LayoutView",
            "align_content": null,
            "align_items": null,
            "align_self": null,
            "border": null,
            "bottom": null,
            "display": null,
            "flex": null,
            "flex_flow": null,
            "grid_area": null,
            "grid_auto_columns": null,
            "grid_auto_flow": null,
            "grid_auto_rows": null,
            "grid_column": null,
            "grid_gap": null,
            "grid_row": null,
            "grid_template_areas": null,
            "grid_template_columns": null,
            "grid_template_rows": null,
            "height": null,
            "justify_content": null,
            "justify_items": null,
            "left": null,
            "margin": null,
            "max_height": null,
            "max_width": null,
            "min_height": null,
            "min_width": null,
            "object_fit": null,
            "object_position": null,
            "order": null,
            "overflow": null,
            "overflow_x": null,
            "overflow_y": null,
            "padding": null,
            "right": null,
            "top": null,
            "visibility": null,
            "width": null
          }
        },
        "81a7a0b866314527a00d40044ea8ba36": {
          "model_module": "@jupyter-widgets/base",
          "model_name": "LayoutModel",
          "model_module_version": "1.2.0",
          "state": {
            "_model_module": "@jupyter-widgets/base",
            "_model_module_version": "1.2.0",
            "_model_name": "LayoutModel",
            "_view_count": null,
            "_view_module": "@jupyter-widgets/base",
            "_view_module_version": "1.2.0",
            "_view_name": "LayoutView",
            "align_content": null,
            "align_items": null,
            "align_self": null,
            "border": null,
            "bottom": null,
            "display": null,
            "flex": null,
            "flex_flow": null,
            "grid_area": null,
            "grid_auto_columns": null,
            "grid_auto_flow": null,
            "grid_auto_rows": null,
            "grid_column": null,
            "grid_gap": null,
            "grid_row": null,
            "grid_template_areas": null,
            "grid_template_columns": null,
            "grid_template_rows": null,
            "height": null,
            "justify_content": null,
            "justify_items": null,
            "left": null,
            "margin": null,
            "max_height": null,
            "max_width": null,
            "min_height": null,
            "min_width": null,
            "object_fit": null,
            "object_position": null,
            "order": null,
            "overflow": null,
            "overflow_x": null,
            "overflow_y": null,
            "padding": null,
            "right": null,
            "top": null,
            "visibility": null,
            "width": null
          }
        },
        "362f94a3593642869c808be07d1caa65": {
          "model_module": "@jupyter-widgets/controls",
          "model_name": "DescriptionStyleModel",
          "model_module_version": "1.5.0",
          "state": {
            "_model_module": "@jupyter-widgets/controls",
            "_model_module_version": "1.5.0",
            "_model_name": "DescriptionStyleModel",
            "_view_count": null,
            "_view_module": "@jupyter-widgets/base",
            "_view_module_version": "1.2.0",
            "_view_name": "StyleView",
            "description_width": ""
          }
        },
        "55578d525ec9448b8b8024c4e0595e9e": {
          "model_module": "@jupyter-widgets/base",
          "model_name": "LayoutModel",
          "model_module_version": "1.2.0",
          "state": {
            "_model_module": "@jupyter-widgets/base",
            "_model_module_version": "1.2.0",
            "_model_name": "LayoutModel",
            "_view_count": null,
            "_view_module": "@jupyter-widgets/base",
            "_view_module_version": "1.2.0",
            "_view_name": "LayoutView",
            "align_content": null,
            "align_items": null,
            "align_self": null,
            "border": null,
            "bottom": null,
            "display": null,
            "flex": null,
            "flex_flow": null,
            "grid_area": null,
            "grid_auto_columns": null,
            "grid_auto_flow": null,
            "grid_auto_rows": null,
            "grid_column": null,
            "grid_gap": null,
            "grid_row": null,
            "grid_template_areas": null,
            "grid_template_columns": null,
            "grid_template_rows": null,
            "height": null,
            "justify_content": null,
            "justify_items": null,
            "left": null,
            "margin": null,
            "max_height": null,
            "max_width": null,
            "min_height": null,
            "min_width": null,
            "object_fit": null,
            "object_position": null,
            "order": null,
            "overflow": null,
            "overflow_x": null,
            "overflow_y": null,
            "padding": null,
            "right": null,
            "top": null,
            "visibility": null,
            "width": null
          }
        },
        "0feab00658654f31b28962d3f09ea5b4": {
          "model_module": "@jupyter-widgets/controls",
          "model_name": "ProgressStyleModel",
          "model_module_version": "1.5.0",
          "state": {
            "_model_module": "@jupyter-widgets/controls",
            "_model_module_version": "1.5.0",
            "_model_name": "ProgressStyleModel",
            "_view_count": null,
            "_view_module": "@jupyter-widgets/base",
            "_view_module_version": "1.2.0",
            "_view_name": "StyleView",
            "bar_color": null,
            "description_width": ""
          }
        },
        "525364fa5a66458fa96138ac60475f3a": {
          "model_module": "@jupyter-widgets/base",
          "model_name": "LayoutModel",
          "model_module_version": "1.2.0",
          "state": {
            "_model_module": "@jupyter-widgets/base",
            "_model_module_version": "1.2.0",
            "_model_name": "LayoutModel",
            "_view_count": null,
            "_view_module": "@jupyter-widgets/base",
            "_view_module_version": "1.2.0",
            "_view_name": "LayoutView",
            "align_content": null,
            "align_items": null,
            "align_self": null,
            "border": null,
            "bottom": null,
            "display": null,
            "flex": null,
            "flex_flow": null,
            "grid_area": null,
            "grid_auto_columns": null,
            "grid_auto_flow": null,
            "grid_auto_rows": null,
            "grid_column": null,
            "grid_gap": null,
            "grid_row": null,
            "grid_template_areas": null,
            "grid_template_columns": null,
            "grid_template_rows": null,
            "height": null,
            "justify_content": null,
            "justify_items": null,
            "left": null,
            "margin": null,
            "max_height": null,
            "max_width": null,
            "min_height": null,
            "min_width": null,
            "object_fit": null,
            "object_position": null,
            "order": null,
            "overflow": null,
            "overflow_x": null,
            "overflow_y": null,
            "padding": null,
            "right": null,
            "top": null,
            "visibility": null,
            "width": null
          }
        },
        "38e90aaa0d924466a8c248cf69adf60f": {
          "model_module": "@jupyter-widgets/controls",
          "model_name": "DescriptionStyleModel",
          "model_module_version": "1.5.0",
          "state": {
            "_model_module": "@jupyter-widgets/controls",
            "_model_module_version": "1.5.0",
            "_model_name": "DescriptionStyleModel",
            "_view_count": null,
            "_view_module": "@jupyter-widgets/base",
            "_view_module_version": "1.2.0",
            "_view_name": "StyleView",
            "description_width": ""
          }
        },
        "d05fce015e5d44fa9346407c5aee9822": {
          "model_module": "@jupyter-widgets/controls",
          "model_name": "HBoxModel",
          "model_module_version": "1.5.0",
          "state": {
            "_dom_classes": [],
            "_model_module": "@jupyter-widgets/controls",
            "_model_module_version": "1.5.0",
            "_model_name": "HBoxModel",
            "_view_count": null,
            "_view_module": "@jupyter-widgets/controls",
            "_view_module_version": "1.5.0",
            "_view_name": "HBoxView",
            "box_style": "",
            "children": [
              "IPY_MODEL_ebec29a098824b1bb85824464d68bada",
              "IPY_MODEL_a2323322d3c945f6954e0ac98a9ff4c8",
              "IPY_MODEL_aba46c23585a491888ee18ef63697218"
            ],
            "layout": "IPY_MODEL_8818515f67244453b086bf54e69603c0"
          }
        },
        "ebec29a098824b1bb85824464d68bada": {
          "model_module": "@jupyter-widgets/controls",
          "model_name": "HTMLModel",
          "model_module_version": "1.5.0",
          "state": {
            "_dom_classes": [],
            "_model_module": "@jupyter-widgets/controls",
            "_model_module_version": "1.5.0",
            "_model_name": "HTMLModel",
            "_view_count": null,
            "_view_module": "@jupyter-widgets/controls",
            "_view_module_version": "1.5.0",
            "_view_name": "HTMLView",
            "description": "",
            "description_tooltip": null,
            "layout": "IPY_MODEL_b6f4d94e62f14c20b489d6319cb7086e",
            "placeholder": "​",
            "style": "IPY_MODEL_9a26391e31ea4630b1c9b3fd2f8cfecc",
            "value": "README.md: 100%"
          }
        },
        "a2323322d3c945f6954e0ac98a9ff4c8": {
          "model_module": "@jupyter-widgets/controls",
          "model_name": "FloatProgressModel",
          "model_module_version": "1.5.0",
          "state": {
            "_dom_classes": [],
            "_model_module": "@jupyter-widgets/controls",
            "_model_module_version": "1.5.0",
            "_model_name": "FloatProgressModel",
            "_view_count": null,
            "_view_module": "@jupyter-widgets/controls",
            "_view_module_version": "1.5.0",
            "_view_name": "ProgressView",
            "bar_style": "success",
            "description": "",
            "description_tooltip": null,
            "layout": "IPY_MODEL_4da8dd4e87934c1ba203de3c3750dc8c",
            "max": 94783,
            "min": 0,
            "orientation": "horizontal",
            "style": "IPY_MODEL_299c3dbcc68e487b83f3c1623160acfc",
            "value": 94783
          }
        },
        "aba46c23585a491888ee18ef63697218": {
          "model_module": "@jupyter-widgets/controls",
          "model_name": "HTMLModel",
          "model_module_version": "1.5.0",
          "state": {
            "_dom_classes": [],
            "_model_module": "@jupyter-widgets/controls",
            "_model_module_version": "1.5.0",
            "_model_name": "HTMLModel",
            "_view_count": null,
            "_view_module": "@jupyter-widgets/controls",
            "_view_module_version": "1.5.0",
            "_view_name": "HTMLView",
            "description": "",
            "description_tooltip": null,
            "layout": "IPY_MODEL_2522ef9dbd124cb390ec396779f37482",
            "placeholder": "​",
            "style": "IPY_MODEL_7599662248e249138b75e1c1366cc093",
            "value": " 94.8k/94.8k [00:00&lt;00:00, 439kB/s]"
          }
        },
        "8818515f67244453b086bf54e69603c0": {
          "model_module": "@jupyter-widgets/base",
          "model_name": "LayoutModel",
          "model_module_version": "1.2.0",
          "state": {
            "_model_module": "@jupyter-widgets/base",
            "_model_module_version": "1.2.0",
            "_model_name": "LayoutModel",
            "_view_count": null,
            "_view_module": "@jupyter-widgets/base",
            "_view_module_version": "1.2.0",
            "_view_name": "LayoutView",
            "align_content": null,
            "align_items": null,
            "align_self": null,
            "border": null,
            "bottom": null,
            "display": null,
            "flex": null,
            "flex_flow": null,
            "grid_area": null,
            "grid_auto_columns": null,
            "grid_auto_flow": null,
            "grid_auto_rows": null,
            "grid_column": null,
            "grid_gap": null,
            "grid_row": null,
            "grid_template_areas": null,
            "grid_template_columns": null,
            "grid_template_rows": null,
            "height": null,
            "justify_content": null,
            "justify_items": null,
            "left": null,
            "margin": null,
            "max_height": null,
            "max_width": null,
            "min_height": null,
            "min_width": null,
            "object_fit": null,
            "object_position": null,
            "order": null,
            "overflow": null,
            "overflow_x": null,
            "overflow_y": null,
            "padding": null,
            "right": null,
            "top": null,
            "visibility": null,
            "width": null
          }
        },
        "b6f4d94e62f14c20b489d6319cb7086e": {
          "model_module": "@jupyter-widgets/base",
          "model_name": "LayoutModel",
          "model_module_version": "1.2.0",
          "state": {
            "_model_module": "@jupyter-widgets/base",
            "_model_module_version": "1.2.0",
            "_model_name": "LayoutModel",
            "_view_count": null,
            "_view_module": "@jupyter-widgets/base",
            "_view_module_version": "1.2.0",
            "_view_name": "LayoutView",
            "align_content": null,
            "align_items": null,
            "align_self": null,
            "border": null,
            "bottom": null,
            "display": null,
            "flex": null,
            "flex_flow": null,
            "grid_area": null,
            "grid_auto_columns": null,
            "grid_auto_flow": null,
            "grid_auto_rows": null,
            "grid_column": null,
            "grid_gap": null,
            "grid_row": null,
            "grid_template_areas": null,
            "grid_template_columns": null,
            "grid_template_rows": null,
            "height": null,
            "justify_content": null,
            "justify_items": null,
            "left": null,
            "margin": null,
            "max_height": null,
            "max_width": null,
            "min_height": null,
            "min_width": null,
            "object_fit": null,
            "object_position": null,
            "order": null,
            "overflow": null,
            "overflow_x": null,
            "overflow_y": null,
            "padding": null,
            "right": null,
            "top": null,
            "visibility": null,
            "width": null
          }
        },
        "9a26391e31ea4630b1c9b3fd2f8cfecc": {
          "model_module": "@jupyter-widgets/controls",
          "model_name": "DescriptionStyleModel",
          "model_module_version": "1.5.0",
          "state": {
            "_model_module": "@jupyter-widgets/controls",
            "_model_module_version": "1.5.0",
            "_model_name": "DescriptionStyleModel",
            "_view_count": null,
            "_view_module": "@jupyter-widgets/base",
            "_view_module_version": "1.2.0",
            "_view_name": "StyleView",
            "description_width": ""
          }
        },
        "4da8dd4e87934c1ba203de3c3750dc8c": {
          "model_module": "@jupyter-widgets/base",
          "model_name": "LayoutModel",
          "model_module_version": "1.2.0",
          "state": {
            "_model_module": "@jupyter-widgets/base",
            "_model_module_version": "1.2.0",
            "_model_name": "LayoutModel",
            "_view_count": null,
            "_view_module": "@jupyter-widgets/base",
            "_view_module_version": "1.2.0",
            "_view_name": "LayoutView",
            "align_content": null,
            "align_items": null,
            "align_self": null,
            "border": null,
            "bottom": null,
            "display": null,
            "flex": null,
            "flex_flow": null,
            "grid_area": null,
            "grid_auto_columns": null,
            "grid_auto_flow": null,
            "grid_auto_rows": null,
            "grid_column": null,
            "grid_gap": null,
            "grid_row": null,
            "grid_template_areas": null,
            "grid_template_columns": null,
            "grid_template_rows": null,
            "height": null,
            "justify_content": null,
            "justify_items": null,
            "left": null,
            "margin": null,
            "max_height": null,
            "max_width": null,
            "min_height": null,
            "min_width": null,
            "object_fit": null,
            "object_position": null,
            "order": null,
            "overflow": null,
            "overflow_x": null,
            "overflow_y": null,
            "padding": null,
            "right": null,
            "top": null,
            "visibility": null,
            "width": null
          }
        },
        "299c3dbcc68e487b83f3c1623160acfc": {
          "model_module": "@jupyter-widgets/controls",
          "model_name": "ProgressStyleModel",
          "model_module_version": "1.5.0",
          "state": {
            "_model_module": "@jupyter-widgets/controls",
            "_model_module_version": "1.5.0",
            "_model_name": "ProgressStyleModel",
            "_view_count": null,
            "_view_module": "@jupyter-widgets/base",
            "_view_module_version": "1.2.0",
            "_view_name": "StyleView",
            "bar_color": null,
            "description_width": ""
          }
        },
        "2522ef9dbd124cb390ec396779f37482": {
          "model_module": "@jupyter-widgets/base",
          "model_name": "LayoutModel",
          "model_module_version": "1.2.0",
          "state": {
            "_model_module": "@jupyter-widgets/base",
            "_model_module_version": "1.2.0",
            "_model_name": "LayoutModel",
            "_view_count": null,
            "_view_module": "@jupyter-widgets/base",
            "_view_module_version": "1.2.0",
            "_view_name": "LayoutView",
            "align_content": null,
            "align_items": null,
            "align_self": null,
            "border": null,
            "bottom": null,
            "display": null,
            "flex": null,
            "flex_flow": null,
            "grid_area": null,
            "grid_auto_columns": null,
            "grid_auto_flow": null,
            "grid_auto_rows": null,
            "grid_column": null,
            "grid_gap": null,
            "grid_row": null,
            "grid_template_areas": null,
            "grid_template_columns": null,
            "grid_template_rows": null,
            "height": null,
            "justify_content": null,
            "justify_items": null,
            "left": null,
            "margin": null,
            "max_height": null,
            "max_width": null,
            "min_height": null,
            "min_width": null,
            "object_fit": null,
            "object_position": null,
            "order": null,
            "overflow": null,
            "overflow_x": null,
            "overflow_y": null,
            "padding": null,
            "right": null,
            "top": null,
            "visibility": null,
            "width": null
          }
        },
        "7599662248e249138b75e1c1366cc093": {
          "model_module": "@jupyter-widgets/controls",
          "model_name": "DescriptionStyleModel",
          "model_module_version": "1.5.0",
          "state": {
            "_model_module": "@jupyter-widgets/controls",
            "_model_module_version": "1.5.0",
            "_model_name": "DescriptionStyleModel",
            "_view_count": null,
            "_view_module": "@jupyter-widgets/base",
            "_view_module_version": "1.2.0",
            "_view_name": "StyleView",
            "description_width": ""
          }
        },
        "72d69ad27da442409e055df1c5783c37": {
          "model_module": "@jupyter-widgets/controls",
          "model_name": "HBoxModel",
          "model_module_version": "1.5.0",
          "state": {
            "_dom_classes": [],
            "_model_module": "@jupyter-widgets/controls",
            "_model_module_version": "1.5.0",
            "_model_name": "HBoxModel",
            "_view_count": null,
            "_view_module": "@jupyter-widgets/controls",
            "_view_module_version": "1.5.0",
            "_view_name": "HBoxView",
            "box_style": "",
            "children": [
              "IPY_MODEL_0520bf6cb4e34a928f67c2301a047307",
              "IPY_MODEL_ccfde54f1be246db988ad422d116c179",
              "IPY_MODEL_a4b41e683f83453089f39098ca42ae68"
            ],
            "layout": "IPY_MODEL_ee1c0b456e074ae28be73177a33a259e"
          }
        },
        "0520bf6cb4e34a928f67c2301a047307": {
          "model_module": "@jupyter-widgets/controls",
          "model_name": "HTMLModel",
          "model_module_version": "1.5.0",
          "state": {
            "_dom_classes": [],
            "_model_module": "@jupyter-widgets/controls",
            "_model_module_version": "1.5.0",
            "_model_name": "HTMLModel",
            "_view_count": null,
            "_view_module": "@jupyter-widgets/controls",
            "_view_module_version": "1.5.0",
            "_view_name": "HTMLView",
            "description": "",
            "description_tooltip": null,
            "layout": "IPY_MODEL_8177b35301e04d5c8525292072d08859",
            "placeholder": "​",
            "style": "IPY_MODEL_71ccc1f5eb7945568a14b301e8fd8ff0",
            "value": "sentence_bert_config.json: 100%"
          }
        },
        "ccfde54f1be246db988ad422d116c179": {
          "model_module": "@jupyter-widgets/controls",
          "model_name": "FloatProgressModel",
          "model_module_version": "1.5.0",
          "state": {
            "_dom_classes": [],
            "_model_module": "@jupyter-widgets/controls",
            "_model_module_version": "1.5.0",
            "_model_name": "FloatProgressModel",
            "_view_count": null,
            "_view_module": "@jupyter-widgets/controls",
            "_view_module_version": "1.5.0",
            "_view_name": "ProgressView",
            "bar_style": "success",
            "description": "",
            "description_tooltip": null,
            "layout": "IPY_MODEL_3139378a699f40079170b222be539d98",
            "max": 52,
            "min": 0,
            "orientation": "horizontal",
            "style": "IPY_MODEL_712c94c87e84488398efd14536daab1a",
            "value": 52
          }
        },
        "a4b41e683f83453089f39098ca42ae68": {
          "model_module": "@jupyter-widgets/controls",
          "model_name": "HTMLModel",
          "model_module_version": "1.5.0",
          "state": {
            "_dom_classes": [],
            "_model_module": "@jupyter-widgets/controls",
            "_model_module_version": "1.5.0",
            "_model_name": "HTMLModel",
            "_view_count": null,
            "_view_module": "@jupyter-widgets/controls",
            "_view_module_version": "1.5.0",
            "_view_name": "HTMLView",
            "description": "",
            "description_tooltip": null,
            "layout": "IPY_MODEL_e3dc3f1c923c4587b9498e123194b47f",
            "placeholder": "​",
            "style": "IPY_MODEL_1c91ad939f704de3a93c5ea118ce1e0c",
            "value": " 52.0/52.0 [00:00&lt;00:00, 2.87kB/s]"
          }
        },
        "ee1c0b456e074ae28be73177a33a259e": {
          "model_module": "@jupyter-widgets/base",
          "model_name": "LayoutModel",
          "model_module_version": "1.2.0",
          "state": {
            "_model_module": "@jupyter-widgets/base",
            "_model_module_version": "1.2.0",
            "_model_name": "LayoutModel",
            "_view_count": null,
            "_view_module": "@jupyter-widgets/base",
            "_view_module_version": "1.2.0",
            "_view_name": "LayoutView",
            "align_content": null,
            "align_items": null,
            "align_self": null,
            "border": null,
            "bottom": null,
            "display": null,
            "flex": null,
            "flex_flow": null,
            "grid_area": null,
            "grid_auto_columns": null,
            "grid_auto_flow": null,
            "grid_auto_rows": null,
            "grid_column": null,
            "grid_gap": null,
            "grid_row": null,
            "grid_template_areas": null,
            "grid_template_columns": null,
            "grid_template_rows": null,
            "height": null,
            "justify_content": null,
            "justify_items": null,
            "left": null,
            "margin": null,
            "max_height": null,
            "max_width": null,
            "min_height": null,
            "min_width": null,
            "object_fit": null,
            "object_position": null,
            "order": null,
            "overflow": null,
            "overflow_x": null,
            "overflow_y": null,
            "padding": null,
            "right": null,
            "top": null,
            "visibility": null,
            "width": null
          }
        },
        "8177b35301e04d5c8525292072d08859": {
          "model_module": "@jupyter-widgets/base",
          "model_name": "LayoutModel",
          "model_module_version": "1.2.0",
          "state": {
            "_model_module": "@jupyter-widgets/base",
            "_model_module_version": "1.2.0",
            "_model_name": "LayoutModel",
            "_view_count": null,
            "_view_module": "@jupyter-widgets/base",
            "_view_module_version": "1.2.0",
            "_view_name": "LayoutView",
            "align_content": null,
            "align_items": null,
            "align_self": null,
            "border": null,
            "bottom": null,
            "display": null,
            "flex": null,
            "flex_flow": null,
            "grid_area": null,
            "grid_auto_columns": null,
            "grid_auto_flow": null,
            "grid_auto_rows": null,
            "grid_column": null,
            "grid_gap": null,
            "grid_row": null,
            "grid_template_areas": null,
            "grid_template_columns": null,
            "grid_template_rows": null,
            "height": null,
            "justify_content": null,
            "justify_items": null,
            "left": null,
            "margin": null,
            "max_height": null,
            "max_width": null,
            "min_height": null,
            "min_width": null,
            "object_fit": null,
            "object_position": null,
            "order": null,
            "overflow": null,
            "overflow_x": null,
            "overflow_y": null,
            "padding": null,
            "right": null,
            "top": null,
            "visibility": null,
            "width": null
          }
        },
        "71ccc1f5eb7945568a14b301e8fd8ff0": {
          "model_module": "@jupyter-widgets/controls",
          "model_name": "DescriptionStyleModel",
          "model_module_version": "1.5.0",
          "state": {
            "_model_module": "@jupyter-widgets/controls",
            "_model_module_version": "1.5.0",
            "_model_name": "DescriptionStyleModel",
            "_view_count": null,
            "_view_module": "@jupyter-widgets/base",
            "_view_module_version": "1.2.0",
            "_view_name": "StyleView",
            "description_width": ""
          }
        },
        "3139378a699f40079170b222be539d98": {
          "model_module": "@jupyter-widgets/base",
          "model_name": "LayoutModel",
          "model_module_version": "1.2.0",
          "state": {
            "_model_module": "@jupyter-widgets/base",
            "_model_module_version": "1.2.0",
            "_model_name": "LayoutModel",
            "_view_count": null,
            "_view_module": "@jupyter-widgets/base",
            "_view_module_version": "1.2.0",
            "_view_name": "LayoutView",
            "align_content": null,
            "align_items": null,
            "align_self": null,
            "border": null,
            "bottom": null,
            "display": null,
            "flex": null,
            "flex_flow": null,
            "grid_area": null,
            "grid_auto_columns": null,
            "grid_auto_flow": null,
            "grid_auto_rows": null,
            "grid_column": null,
            "grid_gap": null,
            "grid_row": null,
            "grid_template_areas": null,
            "grid_template_columns": null,
            "grid_template_rows": null,
            "height": null,
            "justify_content": null,
            "justify_items": null,
            "left": null,
            "margin": null,
            "max_height": null,
            "max_width": null,
            "min_height": null,
            "min_width": null,
            "object_fit": null,
            "object_position": null,
            "order": null,
            "overflow": null,
            "overflow_x": null,
            "overflow_y": null,
            "padding": null,
            "right": null,
            "top": null,
            "visibility": null,
            "width": null
          }
        },
        "712c94c87e84488398efd14536daab1a": {
          "model_module": "@jupyter-widgets/controls",
          "model_name": "ProgressStyleModel",
          "model_module_version": "1.5.0",
          "state": {
            "_model_module": "@jupyter-widgets/controls",
            "_model_module_version": "1.5.0",
            "_model_name": "ProgressStyleModel",
            "_view_count": null,
            "_view_module": "@jupyter-widgets/base",
            "_view_module_version": "1.2.0",
            "_view_name": "StyleView",
            "bar_color": null,
            "description_width": ""
          }
        },
        "e3dc3f1c923c4587b9498e123194b47f": {
          "model_module": "@jupyter-widgets/base",
          "model_name": "LayoutModel",
          "model_module_version": "1.2.0",
          "state": {
            "_model_module": "@jupyter-widgets/base",
            "_model_module_version": "1.2.0",
            "_model_name": "LayoutModel",
            "_view_count": null,
            "_view_module": "@jupyter-widgets/base",
            "_view_module_version": "1.2.0",
            "_view_name": "LayoutView",
            "align_content": null,
            "align_items": null,
            "align_self": null,
            "border": null,
            "bottom": null,
            "display": null,
            "flex": null,
            "flex_flow": null,
            "grid_area": null,
            "grid_auto_columns": null,
            "grid_auto_flow": null,
            "grid_auto_rows": null,
            "grid_column": null,
            "grid_gap": null,
            "grid_row": null,
            "grid_template_areas": null,
            "grid_template_columns": null,
            "grid_template_rows": null,
            "height": null,
            "justify_content": null,
            "justify_items": null,
            "left": null,
            "margin": null,
            "max_height": null,
            "max_width": null,
            "min_height": null,
            "min_width": null,
            "object_fit": null,
            "object_position": null,
            "order": null,
            "overflow": null,
            "overflow_x": null,
            "overflow_y": null,
            "padding": null,
            "right": null,
            "top": null,
            "visibility": null,
            "width": null
          }
        },
        "1c91ad939f704de3a93c5ea118ce1e0c": {
          "model_module": "@jupyter-widgets/controls",
          "model_name": "DescriptionStyleModel",
          "model_module_version": "1.5.0",
          "state": {
            "_model_module": "@jupyter-widgets/controls",
            "_model_module_version": "1.5.0",
            "_model_name": "DescriptionStyleModel",
            "_view_count": null,
            "_view_module": "@jupyter-widgets/base",
            "_view_module_version": "1.2.0",
            "_view_name": "StyleView",
            "description_width": ""
          }
        },
        "b92fd10c57dd4c9fa70ef26b67b53376": {
          "model_module": "@jupyter-widgets/controls",
          "model_name": "HBoxModel",
          "model_module_version": "1.5.0",
          "state": {
            "_dom_classes": [],
            "_model_module": "@jupyter-widgets/controls",
            "_model_module_version": "1.5.0",
            "_model_name": "HBoxModel",
            "_view_count": null,
            "_view_module": "@jupyter-widgets/controls",
            "_view_module_version": "1.5.0",
            "_view_name": "HBoxView",
            "box_style": "",
            "children": [
              "IPY_MODEL_586de4e6577d4146aa6706ba0f646992",
              "IPY_MODEL_0d57947de3ac4aa5af67b788fa10dc61",
              "IPY_MODEL_f36a818d84ed4224ad92fb1566110744"
            ],
            "layout": "IPY_MODEL_4c1956b0ce9f49d5ab3b4dd5cd221e1d"
          }
        },
        "586de4e6577d4146aa6706ba0f646992": {
          "model_module": "@jupyter-widgets/controls",
          "model_name": "HTMLModel",
          "model_module_version": "1.5.0",
          "state": {
            "_dom_classes": [],
            "_model_module": "@jupyter-widgets/controls",
            "_model_module_version": "1.5.0",
            "_model_name": "HTMLModel",
            "_view_count": null,
            "_view_module": "@jupyter-widgets/controls",
            "_view_module_version": "1.5.0",
            "_view_name": "HTMLView",
            "description": "",
            "description_tooltip": null,
            "layout": "IPY_MODEL_32d3a43c4e894053be37f90065672710",
            "placeholder": "​",
            "style": "IPY_MODEL_956d5fba8a504374bcacbe1353c0559e",
            "value": "config.json: 100%"
          }
        },
        "0d57947de3ac4aa5af67b788fa10dc61": {
          "model_module": "@jupyter-widgets/controls",
          "model_name": "FloatProgressModel",
          "model_module_version": "1.5.0",
          "state": {
            "_dom_classes": [],
            "_model_module": "@jupyter-widgets/controls",
            "_model_module_version": "1.5.0",
            "_model_name": "FloatProgressModel",
            "_view_count": null,
            "_view_module": "@jupyter-widgets/controls",
            "_view_module_version": "1.5.0",
            "_view_name": "ProgressView",
            "bar_style": "success",
            "description": "",
            "description_tooltip": null,
            "layout": "IPY_MODEL_3857e06cffea42fd85131d8263597e83",
            "max": 743,
            "min": 0,
            "orientation": "horizontal",
            "style": "IPY_MODEL_b6f20845747c4e33ae39ea4ea7886326",
            "value": 743
          }
        },
        "f36a818d84ed4224ad92fb1566110744": {
          "model_module": "@jupyter-widgets/controls",
          "model_name": "HTMLModel",
          "model_module_version": "1.5.0",
          "state": {
            "_dom_classes": [],
            "_model_module": "@jupyter-widgets/controls",
            "_model_module_version": "1.5.0",
            "_model_name": "HTMLModel",
            "_view_count": null,
            "_view_module": "@jupyter-widgets/controls",
            "_view_module_version": "1.5.0",
            "_view_name": "HTMLView",
            "description": "",
            "description_tooltip": null,
            "layout": "IPY_MODEL_841e5652ff7040c5afbc8bb580becb9d",
            "placeholder": "​",
            "style": "IPY_MODEL_0f6c306f4e4d4e3f8bce4bc570aa9010",
            "value": " 743/743 [00:00&lt;00:00, 61.3kB/s]"
          }
        },
        "4c1956b0ce9f49d5ab3b4dd5cd221e1d": {
          "model_module": "@jupyter-widgets/base",
          "model_name": "LayoutModel",
          "model_module_version": "1.2.0",
          "state": {
            "_model_module": "@jupyter-widgets/base",
            "_model_module_version": "1.2.0",
            "_model_name": "LayoutModel",
            "_view_count": null,
            "_view_module": "@jupyter-widgets/base",
            "_view_module_version": "1.2.0",
            "_view_name": "LayoutView",
            "align_content": null,
            "align_items": null,
            "align_self": null,
            "border": null,
            "bottom": null,
            "display": null,
            "flex": null,
            "flex_flow": null,
            "grid_area": null,
            "grid_auto_columns": null,
            "grid_auto_flow": null,
            "grid_auto_rows": null,
            "grid_column": null,
            "grid_gap": null,
            "grid_row": null,
            "grid_template_areas": null,
            "grid_template_columns": null,
            "grid_template_rows": null,
            "height": null,
            "justify_content": null,
            "justify_items": null,
            "left": null,
            "margin": null,
            "max_height": null,
            "max_width": null,
            "min_height": null,
            "min_width": null,
            "object_fit": null,
            "object_position": null,
            "order": null,
            "overflow": null,
            "overflow_x": null,
            "overflow_y": null,
            "padding": null,
            "right": null,
            "top": null,
            "visibility": null,
            "width": null
          }
        },
        "32d3a43c4e894053be37f90065672710": {
          "model_module": "@jupyter-widgets/base",
          "model_name": "LayoutModel",
          "model_module_version": "1.2.0",
          "state": {
            "_model_module": "@jupyter-widgets/base",
            "_model_module_version": "1.2.0",
            "_model_name": "LayoutModel",
            "_view_count": null,
            "_view_module": "@jupyter-widgets/base",
            "_view_module_version": "1.2.0",
            "_view_name": "LayoutView",
            "align_content": null,
            "align_items": null,
            "align_self": null,
            "border": null,
            "bottom": null,
            "display": null,
            "flex": null,
            "flex_flow": null,
            "grid_area": null,
            "grid_auto_columns": null,
            "grid_auto_flow": null,
            "grid_auto_rows": null,
            "grid_column": null,
            "grid_gap": null,
            "grid_row": null,
            "grid_template_areas": null,
            "grid_template_columns": null,
            "grid_template_rows": null,
            "height": null,
            "justify_content": null,
            "justify_items": null,
            "left": null,
            "margin": null,
            "max_height": null,
            "max_width": null,
            "min_height": null,
            "min_width": null,
            "object_fit": null,
            "object_position": null,
            "order": null,
            "overflow": null,
            "overflow_x": null,
            "overflow_y": null,
            "padding": null,
            "right": null,
            "top": null,
            "visibility": null,
            "width": null
          }
        },
        "956d5fba8a504374bcacbe1353c0559e": {
          "model_module": "@jupyter-widgets/controls",
          "model_name": "DescriptionStyleModel",
          "model_module_version": "1.5.0",
          "state": {
            "_model_module": "@jupyter-widgets/controls",
            "_model_module_version": "1.5.0",
            "_model_name": "DescriptionStyleModel",
            "_view_count": null,
            "_view_module": "@jupyter-widgets/base",
            "_view_module_version": "1.2.0",
            "_view_name": "StyleView",
            "description_width": ""
          }
        },
        "3857e06cffea42fd85131d8263597e83": {
          "model_module": "@jupyter-widgets/base",
          "model_name": "LayoutModel",
          "model_module_version": "1.2.0",
          "state": {
            "_model_module": "@jupyter-widgets/base",
            "_model_module_version": "1.2.0",
            "_model_name": "LayoutModel",
            "_view_count": null,
            "_view_module": "@jupyter-widgets/base",
            "_view_module_version": "1.2.0",
            "_view_name": "LayoutView",
            "align_content": null,
            "align_items": null,
            "align_self": null,
            "border": null,
            "bottom": null,
            "display": null,
            "flex": null,
            "flex_flow": null,
            "grid_area": null,
            "grid_auto_columns": null,
            "grid_auto_flow": null,
            "grid_auto_rows": null,
            "grid_column": null,
            "grid_gap": null,
            "grid_row": null,
            "grid_template_areas": null,
            "grid_template_columns": null,
            "grid_template_rows": null,
            "height": null,
            "justify_content": null,
            "justify_items": null,
            "left": null,
            "margin": null,
            "max_height": null,
            "max_width": null,
            "min_height": null,
            "min_width": null,
            "object_fit": null,
            "object_position": null,
            "order": null,
            "overflow": null,
            "overflow_x": null,
            "overflow_y": null,
            "padding": null,
            "right": null,
            "top": null,
            "visibility": null,
            "width": null
          }
        },
        "b6f20845747c4e33ae39ea4ea7886326": {
          "model_module": "@jupyter-widgets/controls",
          "model_name": "ProgressStyleModel",
          "model_module_version": "1.5.0",
          "state": {
            "_model_module": "@jupyter-widgets/controls",
            "_model_module_version": "1.5.0",
            "_model_name": "ProgressStyleModel",
            "_view_count": null,
            "_view_module": "@jupyter-widgets/base",
            "_view_module_version": "1.2.0",
            "_view_name": "StyleView",
            "bar_color": null,
            "description_width": ""
          }
        },
        "841e5652ff7040c5afbc8bb580becb9d": {
          "model_module": "@jupyter-widgets/base",
          "model_name": "LayoutModel",
          "model_module_version": "1.2.0",
          "state": {
            "_model_module": "@jupyter-widgets/base",
            "_model_module_version": "1.2.0",
            "_model_name": "LayoutModel",
            "_view_count": null,
            "_view_module": "@jupyter-widgets/base",
            "_view_module_version": "1.2.0",
            "_view_name": "LayoutView",
            "align_content": null,
            "align_items": null,
            "align_self": null,
            "border": null,
            "bottom": null,
            "display": null,
            "flex": null,
            "flex_flow": null,
            "grid_area": null,
            "grid_auto_columns": null,
            "grid_auto_flow": null,
            "grid_auto_rows": null,
            "grid_column": null,
            "grid_gap": null,
            "grid_row": null,
            "grid_template_areas": null,
            "grid_template_columns": null,
            "grid_template_rows": null,
            "height": null,
            "justify_content": null,
            "justify_items": null,
            "left": null,
            "margin": null,
            "max_height": null,
            "max_width": null,
            "min_height": null,
            "min_width": null,
            "object_fit": null,
            "object_position": null,
            "order": null,
            "overflow": null,
            "overflow_x": null,
            "overflow_y": null,
            "padding": null,
            "right": null,
            "top": null,
            "visibility": null,
            "width": null
          }
        },
        "0f6c306f4e4d4e3f8bce4bc570aa9010": {
          "model_module": "@jupyter-widgets/controls",
          "model_name": "DescriptionStyleModel",
          "model_module_version": "1.5.0",
          "state": {
            "_model_module": "@jupyter-widgets/controls",
            "_model_module_version": "1.5.0",
            "_model_name": "DescriptionStyleModel",
            "_view_count": null,
            "_view_module": "@jupyter-widgets/base",
            "_view_module_version": "1.2.0",
            "_view_name": "StyleView",
            "description_width": ""
          }
        },
        "6be882decf5444b190809eb690b4f5a4": {
          "model_module": "@jupyter-widgets/controls",
          "model_name": "HBoxModel",
          "model_module_version": "1.5.0",
          "state": {
            "_dom_classes": [],
            "_model_module": "@jupyter-widgets/controls",
            "_model_module_version": "1.5.0",
            "_model_name": "HBoxModel",
            "_view_count": null,
            "_view_module": "@jupyter-widgets/controls",
            "_view_module_version": "1.5.0",
            "_view_name": "HBoxView",
            "box_style": "",
            "children": [
              "IPY_MODEL_4d04166139a54273b0e105699c802051",
              "IPY_MODEL_aaf97dd5312a401da1127d51c5364243",
              "IPY_MODEL_23943c4633414e8683aced7d5899af87"
            ],
            "layout": "IPY_MODEL_d4ba44230b4f408781c0b7269e452797"
          }
        },
        "4d04166139a54273b0e105699c802051": {
          "model_module": "@jupyter-widgets/controls",
          "model_name": "HTMLModel",
          "model_module_version": "1.5.0",
          "state": {
            "_dom_classes": [],
            "_model_module": "@jupyter-widgets/controls",
            "_model_module_version": "1.5.0",
            "_model_name": "HTMLModel",
            "_view_count": null,
            "_view_module": "@jupyter-widgets/controls",
            "_view_module_version": "1.5.0",
            "_view_name": "HTMLView",
            "description": "",
            "description_tooltip": null,
            "layout": "IPY_MODEL_2cf97fd271d04585a50d0baae621b156",
            "placeholder": "​",
            "style": "IPY_MODEL_ae2530607a26457e87d3b704719030bf",
            "value": "model.safetensors: 100%"
          }
        },
        "aaf97dd5312a401da1127d51c5364243": {
          "model_module": "@jupyter-widgets/controls",
          "model_name": "FloatProgressModel",
          "model_module_version": "1.5.0",
          "state": {
            "_dom_classes": [],
            "_model_module": "@jupyter-widgets/controls",
            "_model_module_version": "1.5.0",
            "_model_name": "FloatProgressModel",
            "_view_count": null,
            "_view_module": "@jupyter-widgets/controls",
            "_view_module_version": "1.5.0",
            "_view_name": "ProgressView",
            "bar_style": "success",
            "description": "",
            "description_tooltip": null,
            "layout": "IPY_MODEL_b7961a0ff1c2406f8f2a968932c9e5e7",
            "max": 133466304,
            "min": 0,
            "orientation": "horizontal",
            "style": "IPY_MODEL_118a8332cdd34e078c26db3146547d60",
            "value": 133466304
          }
        },
        "23943c4633414e8683aced7d5899af87": {
          "model_module": "@jupyter-widgets/controls",
          "model_name": "HTMLModel",
          "model_module_version": "1.5.0",
          "state": {
            "_dom_classes": [],
            "_model_module": "@jupyter-widgets/controls",
            "_model_module_version": "1.5.0",
            "_model_name": "HTMLModel",
            "_view_count": null,
            "_view_module": "@jupyter-widgets/controls",
            "_view_module_version": "1.5.0",
            "_view_name": "HTMLView",
            "description": "",
            "description_tooltip": null,
            "layout": "IPY_MODEL_9950ee35563a4a8ab9e64dda2bab7c85",
            "placeholder": "​",
            "style": "IPY_MODEL_e4dae5d635c8468586174dcb47a3b709",
            "value": " 133M/133M [00:00&lt;00:00, 214MB/s]"
          }
        },
        "d4ba44230b4f408781c0b7269e452797": {
          "model_module": "@jupyter-widgets/base",
          "model_name": "LayoutModel",
          "model_module_version": "1.2.0",
          "state": {
            "_model_module": "@jupyter-widgets/base",
            "_model_module_version": "1.2.0",
            "_model_name": "LayoutModel",
            "_view_count": null,
            "_view_module": "@jupyter-widgets/base",
            "_view_module_version": "1.2.0",
            "_view_name": "LayoutView",
            "align_content": null,
            "align_items": null,
            "align_self": null,
            "border": null,
            "bottom": null,
            "display": null,
            "flex": null,
            "flex_flow": null,
            "grid_area": null,
            "grid_auto_columns": null,
            "grid_auto_flow": null,
            "grid_auto_rows": null,
            "grid_column": null,
            "grid_gap": null,
            "grid_row": null,
            "grid_template_areas": null,
            "grid_template_columns": null,
            "grid_template_rows": null,
            "height": null,
            "justify_content": null,
            "justify_items": null,
            "left": null,
            "margin": null,
            "max_height": null,
            "max_width": null,
            "min_height": null,
            "min_width": null,
            "object_fit": null,
            "object_position": null,
            "order": null,
            "overflow": null,
            "overflow_x": null,
            "overflow_y": null,
            "padding": null,
            "right": null,
            "top": null,
            "visibility": null,
            "width": null
          }
        },
        "2cf97fd271d04585a50d0baae621b156": {
          "model_module": "@jupyter-widgets/base",
          "model_name": "LayoutModel",
          "model_module_version": "1.2.0",
          "state": {
            "_model_module": "@jupyter-widgets/base",
            "_model_module_version": "1.2.0",
            "_model_name": "LayoutModel",
            "_view_count": null,
            "_view_module": "@jupyter-widgets/base",
            "_view_module_version": "1.2.0",
            "_view_name": "LayoutView",
            "align_content": null,
            "align_items": null,
            "align_self": null,
            "border": null,
            "bottom": null,
            "display": null,
            "flex": null,
            "flex_flow": null,
            "grid_area": null,
            "grid_auto_columns": null,
            "grid_auto_flow": null,
            "grid_auto_rows": null,
            "grid_column": null,
            "grid_gap": null,
            "grid_row": null,
            "grid_template_areas": null,
            "grid_template_columns": null,
            "grid_template_rows": null,
            "height": null,
            "justify_content": null,
            "justify_items": null,
            "left": null,
            "margin": null,
            "max_height": null,
            "max_width": null,
            "min_height": null,
            "min_width": null,
            "object_fit": null,
            "object_position": null,
            "order": null,
            "overflow": null,
            "overflow_x": null,
            "overflow_y": null,
            "padding": null,
            "right": null,
            "top": null,
            "visibility": null,
            "width": null
          }
        },
        "ae2530607a26457e87d3b704719030bf": {
          "model_module": "@jupyter-widgets/controls",
          "model_name": "DescriptionStyleModel",
          "model_module_version": "1.5.0",
          "state": {
            "_model_module": "@jupyter-widgets/controls",
            "_model_module_version": "1.5.0",
            "_model_name": "DescriptionStyleModel",
            "_view_count": null,
            "_view_module": "@jupyter-widgets/base",
            "_view_module_version": "1.2.0",
            "_view_name": "StyleView",
            "description_width": ""
          }
        },
        "b7961a0ff1c2406f8f2a968932c9e5e7": {
          "model_module": "@jupyter-widgets/base",
          "model_name": "LayoutModel",
          "model_module_version": "1.2.0",
          "state": {
            "_model_module": "@jupyter-widgets/base",
            "_model_module_version": "1.2.0",
            "_model_name": "LayoutModel",
            "_view_count": null,
            "_view_module": "@jupyter-widgets/base",
            "_view_module_version": "1.2.0",
            "_view_name": "LayoutView",
            "align_content": null,
            "align_items": null,
            "align_self": null,
            "border": null,
            "bottom": null,
            "display": null,
            "flex": null,
            "flex_flow": null,
            "grid_area": null,
            "grid_auto_columns": null,
            "grid_auto_flow": null,
            "grid_auto_rows": null,
            "grid_column": null,
            "grid_gap": null,
            "grid_row": null,
            "grid_template_areas": null,
            "grid_template_columns": null,
            "grid_template_rows": null,
            "height": null,
            "justify_content": null,
            "justify_items": null,
            "left": null,
            "margin": null,
            "max_height": null,
            "max_width": null,
            "min_height": null,
            "min_width": null,
            "object_fit": null,
            "object_position": null,
            "order": null,
            "overflow": null,
            "overflow_x": null,
            "overflow_y": null,
            "padding": null,
            "right": null,
            "top": null,
            "visibility": null,
            "width": null
          }
        },
        "118a8332cdd34e078c26db3146547d60": {
          "model_module": "@jupyter-widgets/controls",
          "model_name": "ProgressStyleModel",
          "model_module_version": "1.5.0",
          "state": {
            "_model_module": "@jupyter-widgets/controls",
            "_model_module_version": "1.5.0",
            "_model_name": "ProgressStyleModel",
            "_view_count": null,
            "_view_module": "@jupyter-widgets/base",
            "_view_module_version": "1.2.0",
            "_view_name": "StyleView",
            "bar_color": null,
            "description_width": ""
          }
        },
        "9950ee35563a4a8ab9e64dda2bab7c85": {
          "model_module": "@jupyter-widgets/base",
          "model_name": "LayoutModel",
          "model_module_version": "1.2.0",
          "state": {
            "_model_module": "@jupyter-widgets/base",
            "_model_module_version": "1.2.0",
            "_model_name": "LayoutModel",
            "_view_count": null,
            "_view_module": "@jupyter-widgets/base",
            "_view_module_version": "1.2.0",
            "_view_name": "LayoutView",
            "align_content": null,
            "align_items": null,
            "align_self": null,
            "border": null,
            "bottom": null,
            "display": null,
            "flex": null,
            "flex_flow": null,
            "grid_area": null,
            "grid_auto_columns": null,
            "grid_auto_flow": null,
            "grid_auto_rows": null,
            "grid_column": null,
            "grid_gap": null,
            "grid_row": null,
            "grid_template_areas": null,
            "grid_template_columns": null,
            "grid_template_rows": null,
            "height": null,
            "justify_content": null,
            "justify_items": null,
            "left": null,
            "margin": null,
            "max_height": null,
            "max_width": null,
            "min_height": null,
            "min_width": null,
            "object_fit": null,
            "object_position": null,
            "order": null,
            "overflow": null,
            "overflow_x": null,
            "overflow_y": null,
            "padding": null,
            "right": null,
            "top": null,
            "visibility": null,
            "width": null
          }
        },
        "e4dae5d635c8468586174dcb47a3b709": {
          "model_module": "@jupyter-widgets/controls",
          "model_name": "DescriptionStyleModel",
          "model_module_version": "1.5.0",
          "state": {
            "_model_module": "@jupyter-widgets/controls",
            "_model_module_version": "1.5.0",
            "_model_name": "DescriptionStyleModel",
            "_view_count": null,
            "_view_module": "@jupyter-widgets/base",
            "_view_module_version": "1.2.0",
            "_view_name": "StyleView",
            "description_width": ""
          }
        },
        "78fba097d33245a3b21df2e19ba3dfe6": {
          "model_module": "@jupyter-widgets/controls",
          "model_name": "HBoxModel",
          "model_module_version": "1.5.0",
          "state": {
            "_dom_classes": [],
            "_model_module": "@jupyter-widgets/controls",
            "_model_module_version": "1.5.0",
            "_model_name": "HBoxModel",
            "_view_count": null,
            "_view_module": "@jupyter-widgets/controls",
            "_view_module_version": "1.5.0",
            "_view_name": "HBoxView",
            "box_style": "",
            "children": [
              "IPY_MODEL_46580f1067914939bde5b2b1a8553388",
              "IPY_MODEL_70c1add2769c43ff9579efd006252828",
              "IPY_MODEL_345961ba76b248e88cda2a9e495a4da8"
            ],
            "layout": "IPY_MODEL_c36de99d35b640d08f65098eb0080f02"
          }
        },
        "46580f1067914939bde5b2b1a8553388": {
          "model_module": "@jupyter-widgets/controls",
          "model_name": "HTMLModel",
          "model_module_version": "1.5.0",
          "state": {
            "_dom_classes": [],
            "_model_module": "@jupyter-widgets/controls",
            "_model_module_version": "1.5.0",
            "_model_name": "HTMLModel",
            "_view_count": null,
            "_view_module": "@jupyter-widgets/controls",
            "_view_module_version": "1.5.0",
            "_view_name": "HTMLView",
            "description": "",
            "description_tooltip": null,
            "layout": "IPY_MODEL_4b3b6b52aad84cd085dfc0709ce3366c",
            "placeholder": "​",
            "style": "IPY_MODEL_7ef1e26dd87549619235c69a7cd280a6",
            "value": "tokenizer_config.json: 100%"
          }
        },
        "70c1add2769c43ff9579efd006252828": {
          "model_module": "@jupyter-widgets/controls",
          "model_name": "FloatProgressModel",
          "model_module_version": "1.5.0",
          "state": {
            "_dom_classes": [],
            "_model_module": "@jupyter-widgets/controls",
            "_model_module_version": "1.5.0",
            "_model_name": "FloatProgressModel",
            "_view_count": null,
            "_view_module": "@jupyter-widgets/controls",
            "_view_module_version": "1.5.0",
            "_view_name": "ProgressView",
            "bar_style": "success",
            "description": "",
            "description_tooltip": null,
            "layout": "IPY_MODEL_5677983e05924ad1bf86834fadf751a3",
            "max": 366,
            "min": 0,
            "orientation": "horizontal",
            "style": "IPY_MODEL_aba20e2379b7409a8b5f9eb20cfc1f78",
            "value": 366
          }
        },
        "345961ba76b248e88cda2a9e495a4da8": {
          "model_module": "@jupyter-widgets/controls",
          "model_name": "HTMLModel",
          "model_module_version": "1.5.0",
          "state": {
            "_dom_classes": [],
            "_model_module": "@jupyter-widgets/controls",
            "_model_module_version": "1.5.0",
            "_model_name": "HTMLModel",
            "_view_count": null,
            "_view_module": "@jupyter-widgets/controls",
            "_view_module_version": "1.5.0",
            "_view_name": "HTMLView",
            "description": "",
            "description_tooltip": null,
            "layout": "IPY_MODEL_fb88b82076bd488685928666f3d9bf74",
            "placeholder": "​",
            "style": "IPY_MODEL_76911f1c658540149fcd99856288f105",
            "value": " 366/366 [00:00&lt;00:00, 13.2kB/s]"
          }
        },
        "c36de99d35b640d08f65098eb0080f02": {
          "model_module": "@jupyter-widgets/base",
          "model_name": "LayoutModel",
          "model_module_version": "1.2.0",
          "state": {
            "_model_module": "@jupyter-widgets/base",
            "_model_module_version": "1.2.0",
            "_model_name": "LayoutModel",
            "_view_count": null,
            "_view_module": "@jupyter-widgets/base",
            "_view_module_version": "1.2.0",
            "_view_name": "LayoutView",
            "align_content": null,
            "align_items": null,
            "align_self": null,
            "border": null,
            "bottom": null,
            "display": null,
            "flex": null,
            "flex_flow": null,
            "grid_area": null,
            "grid_auto_columns": null,
            "grid_auto_flow": null,
            "grid_auto_rows": null,
            "grid_column": null,
            "grid_gap": null,
            "grid_row": null,
            "grid_template_areas": null,
            "grid_template_columns": null,
            "grid_template_rows": null,
            "height": null,
            "justify_content": null,
            "justify_items": null,
            "left": null,
            "margin": null,
            "max_height": null,
            "max_width": null,
            "min_height": null,
            "min_width": null,
            "object_fit": null,
            "object_position": null,
            "order": null,
            "overflow": null,
            "overflow_x": null,
            "overflow_y": null,
            "padding": null,
            "right": null,
            "top": null,
            "visibility": null,
            "width": null
          }
        },
        "4b3b6b52aad84cd085dfc0709ce3366c": {
          "model_module": "@jupyter-widgets/base",
          "model_name": "LayoutModel",
          "model_module_version": "1.2.0",
          "state": {
            "_model_module": "@jupyter-widgets/base",
            "_model_module_version": "1.2.0",
            "_model_name": "LayoutModel",
            "_view_count": null,
            "_view_module": "@jupyter-widgets/base",
            "_view_module_version": "1.2.0",
            "_view_name": "LayoutView",
            "align_content": null,
            "align_items": null,
            "align_self": null,
            "border": null,
            "bottom": null,
            "display": null,
            "flex": null,
            "flex_flow": null,
            "grid_area": null,
            "grid_auto_columns": null,
            "grid_auto_flow": null,
            "grid_auto_rows": null,
            "grid_column": null,
            "grid_gap": null,
            "grid_row": null,
            "grid_template_areas": null,
            "grid_template_columns": null,
            "grid_template_rows": null,
            "height": null,
            "justify_content": null,
            "justify_items": null,
            "left": null,
            "margin": null,
            "max_height": null,
            "max_width": null,
            "min_height": null,
            "min_width": null,
            "object_fit": null,
            "object_position": null,
            "order": null,
            "overflow": null,
            "overflow_x": null,
            "overflow_y": null,
            "padding": null,
            "right": null,
            "top": null,
            "visibility": null,
            "width": null
          }
        },
        "7ef1e26dd87549619235c69a7cd280a6": {
          "model_module": "@jupyter-widgets/controls",
          "model_name": "DescriptionStyleModel",
          "model_module_version": "1.5.0",
          "state": {
            "_model_module": "@jupyter-widgets/controls",
            "_model_module_version": "1.5.0",
            "_model_name": "DescriptionStyleModel",
            "_view_count": null,
            "_view_module": "@jupyter-widgets/base",
            "_view_module_version": "1.2.0",
            "_view_name": "StyleView",
            "description_width": ""
          }
        },
        "5677983e05924ad1bf86834fadf751a3": {
          "model_module": "@jupyter-widgets/base",
          "model_name": "LayoutModel",
          "model_module_version": "1.2.0",
          "state": {
            "_model_module": "@jupyter-widgets/base",
            "_model_module_version": "1.2.0",
            "_model_name": "LayoutModel",
            "_view_count": null,
            "_view_module": "@jupyter-widgets/base",
            "_view_module_version": "1.2.0",
            "_view_name": "LayoutView",
            "align_content": null,
            "align_items": null,
            "align_self": null,
            "border": null,
            "bottom": null,
            "display": null,
            "flex": null,
            "flex_flow": null,
            "grid_area": null,
            "grid_auto_columns": null,
            "grid_auto_flow": null,
            "grid_auto_rows": null,
            "grid_column": null,
            "grid_gap": null,
            "grid_row": null,
            "grid_template_areas": null,
            "grid_template_columns": null,
            "grid_template_rows": null,
            "height": null,
            "justify_content": null,
            "justify_items": null,
            "left": null,
            "margin": null,
            "max_height": null,
            "max_width": null,
            "min_height": null,
            "min_width": null,
            "object_fit": null,
            "object_position": null,
            "order": null,
            "overflow": null,
            "overflow_x": null,
            "overflow_y": null,
            "padding": null,
            "right": null,
            "top": null,
            "visibility": null,
            "width": null
          }
        },
        "aba20e2379b7409a8b5f9eb20cfc1f78": {
          "model_module": "@jupyter-widgets/controls",
          "model_name": "ProgressStyleModel",
          "model_module_version": "1.5.0",
          "state": {
            "_model_module": "@jupyter-widgets/controls",
            "_model_module_version": "1.5.0",
            "_model_name": "ProgressStyleModel",
            "_view_count": null,
            "_view_module": "@jupyter-widgets/base",
            "_view_module_version": "1.2.0",
            "_view_name": "StyleView",
            "bar_color": null,
            "description_width": ""
          }
        },
        "fb88b82076bd488685928666f3d9bf74": {
          "model_module": "@jupyter-widgets/base",
          "model_name": "LayoutModel",
          "model_module_version": "1.2.0",
          "state": {
            "_model_module": "@jupyter-widgets/base",
            "_model_module_version": "1.2.0",
            "_model_name": "LayoutModel",
            "_view_count": null,
            "_view_module": "@jupyter-widgets/base",
            "_view_module_version": "1.2.0",
            "_view_name": "LayoutView",
            "align_content": null,
            "align_items": null,
            "align_self": null,
            "border": null,
            "bottom": null,
            "display": null,
            "flex": null,
            "flex_flow": null,
            "grid_area": null,
            "grid_auto_columns": null,
            "grid_auto_flow": null,
            "grid_auto_rows": null,
            "grid_column": null,
            "grid_gap": null,
            "grid_row": null,
            "grid_template_areas": null,
            "grid_template_columns": null,
            "grid_template_rows": null,
            "height": null,
            "justify_content": null,
            "justify_items": null,
            "left": null,
            "margin": null,
            "max_height": null,
            "max_width": null,
            "min_height": null,
            "min_width": null,
            "object_fit": null,
            "object_position": null,
            "order": null,
            "overflow": null,
            "overflow_x": null,
            "overflow_y": null,
            "padding": null,
            "right": null,
            "top": null,
            "visibility": null,
            "width": null
          }
        },
        "76911f1c658540149fcd99856288f105": {
          "model_module": "@jupyter-widgets/controls",
          "model_name": "DescriptionStyleModel",
          "model_module_version": "1.5.0",
          "state": {
            "_model_module": "@jupyter-widgets/controls",
            "_model_module_version": "1.5.0",
            "_model_name": "DescriptionStyleModel",
            "_view_count": null,
            "_view_module": "@jupyter-widgets/base",
            "_view_module_version": "1.2.0",
            "_view_name": "StyleView",
            "description_width": ""
          }
        },
        "df6a29a6c51445c6800f067ba60eff69": {
          "model_module": "@jupyter-widgets/controls",
          "model_name": "HBoxModel",
          "model_module_version": "1.5.0",
          "state": {
            "_dom_classes": [],
            "_model_module": "@jupyter-widgets/controls",
            "_model_module_version": "1.5.0",
            "_model_name": "HBoxModel",
            "_view_count": null,
            "_view_module": "@jupyter-widgets/controls",
            "_view_module_version": "1.5.0",
            "_view_name": "HBoxView",
            "box_style": "",
            "children": [
              "IPY_MODEL_e17da2b62e35428d8f11af6d7772f9b8",
              "IPY_MODEL_46f362d7257449e08c5e5d3e23213c85",
              "IPY_MODEL_916b66f1d8334befbab14840f975355e"
            ],
            "layout": "IPY_MODEL_2f8ea4a0246347ab8f2373c4a8f2c70d"
          }
        },
        "e17da2b62e35428d8f11af6d7772f9b8": {
          "model_module": "@jupyter-widgets/controls",
          "model_name": "HTMLModel",
          "model_module_version": "1.5.0",
          "state": {
            "_dom_classes": [],
            "_model_module": "@jupyter-widgets/controls",
            "_model_module_version": "1.5.0",
            "_model_name": "HTMLModel",
            "_view_count": null,
            "_view_module": "@jupyter-widgets/controls",
            "_view_module_version": "1.5.0",
            "_view_name": "HTMLView",
            "description": "",
            "description_tooltip": null,
            "layout": "IPY_MODEL_1dfac2574812472891067fbb34994fe5",
            "placeholder": "​",
            "style": "IPY_MODEL_a8097858af40453386392795f752559b",
            "value": "vocab.txt: 100%"
          }
        },
        "46f362d7257449e08c5e5d3e23213c85": {
          "model_module": "@jupyter-widgets/controls",
          "model_name": "FloatProgressModel",
          "model_module_version": "1.5.0",
          "state": {
            "_dom_classes": [],
            "_model_module": "@jupyter-widgets/controls",
            "_model_module_version": "1.5.0",
            "_model_name": "FloatProgressModel",
            "_view_count": null,
            "_view_module": "@jupyter-widgets/controls",
            "_view_module_version": "1.5.0",
            "_view_name": "ProgressView",
            "bar_style": "success",
            "description": "",
            "description_tooltip": null,
            "layout": "IPY_MODEL_2942c6cb19fc4f1b84cea6e091bff635",
            "max": 231508,
            "min": 0,
            "orientation": "horizontal",
            "style": "IPY_MODEL_d8b9b7eac1e7430795ab1dbdf60d03a7",
            "value": 231508
          }
        },
        "916b66f1d8334befbab14840f975355e": {
          "model_module": "@jupyter-widgets/controls",
          "model_name": "HTMLModel",
          "model_module_version": "1.5.0",
          "state": {
            "_dom_classes": [],
            "_model_module": "@jupyter-widgets/controls",
            "_model_module_version": "1.5.0",
            "_model_name": "HTMLModel",
            "_view_count": null,
            "_view_module": "@jupyter-widgets/controls",
            "_view_module_version": "1.5.0",
            "_view_name": "HTMLView",
            "description": "",
            "description_tooltip": null,
            "layout": "IPY_MODEL_8ee3f7cc55144155822e36eb1a90babc",
            "placeholder": "​",
            "style": "IPY_MODEL_27deb0dda35a480daaf8cfdebe84bd88",
            "value": " 232k/232k [00:00&lt;00:00, 544kB/s]"
          }
        },
        "2f8ea4a0246347ab8f2373c4a8f2c70d": {
          "model_module": "@jupyter-widgets/base",
          "model_name": "LayoutModel",
          "model_module_version": "1.2.0",
          "state": {
            "_model_module": "@jupyter-widgets/base",
            "_model_module_version": "1.2.0",
            "_model_name": "LayoutModel",
            "_view_count": null,
            "_view_module": "@jupyter-widgets/base",
            "_view_module_version": "1.2.0",
            "_view_name": "LayoutView",
            "align_content": null,
            "align_items": null,
            "align_self": null,
            "border": null,
            "bottom": null,
            "display": null,
            "flex": null,
            "flex_flow": null,
            "grid_area": null,
            "grid_auto_columns": null,
            "grid_auto_flow": null,
            "grid_auto_rows": null,
            "grid_column": null,
            "grid_gap": null,
            "grid_row": null,
            "grid_template_areas": null,
            "grid_template_columns": null,
            "grid_template_rows": null,
            "height": null,
            "justify_content": null,
            "justify_items": null,
            "left": null,
            "margin": null,
            "max_height": null,
            "max_width": null,
            "min_height": null,
            "min_width": null,
            "object_fit": null,
            "object_position": null,
            "order": null,
            "overflow": null,
            "overflow_x": null,
            "overflow_y": null,
            "padding": null,
            "right": null,
            "top": null,
            "visibility": null,
            "width": null
          }
        },
        "1dfac2574812472891067fbb34994fe5": {
          "model_module": "@jupyter-widgets/base",
          "model_name": "LayoutModel",
          "model_module_version": "1.2.0",
          "state": {
            "_model_module": "@jupyter-widgets/base",
            "_model_module_version": "1.2.0",
            "_model_name": "LayoutModel",
            "_view_count": null,
            "_view_module": "@jupyter-widgets/base",
            "_view_module_version": "1.2.0",
            "_view_name": "LayoutView",
            "align_content": null,
            "align_items": null,
            "align_self": null,
            "border": null,
            "bottom": null,
            "display": null,
            "flex": null,
            "flex_flow": null,
            "grid_area": null,
            "grid_auto_columns": null,
            "grid_auto_flow": null,
            "grid_auto_rows": null,
            "grid_column": null,
            "grid_gap": null,
            "grid_row": null,
            "grid_template_areas": null,
            "grid_template_columns": null,
            "grid_template_rows": null,
            "height": null,
            "justify_content": null,
            "justify_items": null,
            "left": null,
            "margin": null,
            "max_height": null,
            "max_width": null,
            "min_height": null,
            "min_width": null,
            "object_fit": null,
            "object_position": null,
            "order": null,
            "overflow": null,
            "overflow_x": null,
            "overflow_y": null,
            "padding": null,
            "right": null,
            "top": null,
            "visibility": null,
            "width": null
          }
        },
        "a8097858af40453386392795f752559b": {
          "model_module": "@jupyter-widgets/controls",
          "model_name": "DescriptionStyleModel",
          "model_module_version": "1.5.0",
          "state": {
            "_model_module": "@jupyter-widgets/controls",
            "_model_module_version": "1.5.0",
            "_model_name": "DescriptionStyleModel",
            "_view_count": null,
            "_view_module": "@jupyter-widgets/base",
            "_view_module_version": "1.2.0",
            "_view_name": "StyleView",
            "description_width": ""
          }
        },
        "2942c6cb19fc4f1b84cea6e091bff635": {
          "model_module": "@jupyter-widgets/base",
          "model_name": "LayoutModel",
          "model_module_version": "1.2.0",
          "state": {
            "_model_module": "@jupyter-widgets/base",
            "_model_module_version": "1.2.0",
            "_model_name": "LayoutModel",
            "_view_count": null,
            "_view_module": "@jupyter-widgets/base",
            "_view_module_version": "1.2.0",
            "_view_name": "LayoutView",
            "align_content": null,
            "align_items": null,
            "align_self": null,
            "border": null,
            "bottom": null,
            "display": null,
            "flex": null,
            "flex_flow": null,
            "grid_area": null,
            "grid_auto_columns": null,
            "grid_auto_flow": null,
            "grid_auto_rows": null,
            "grid_column": null,
            "grid_gap": null,
            "grid_row": null,
            "grid_template_areas": null,
            "grid_template_columns": null,
            "grid_template_rows": null,
            "height": null,
            "justify_content": null,
            "justify_items": null,
            "left": null,
            "margin": null,
            "max_height": null,
            "max_width": null,
            "min_height": null,
            "min_width": null,
            "object_fit": null,
            "object_position": null,
            "order": null,
            "overflow": null,
            "overflow_x": null,
            "overflow_y": null,
            "padding": null,
            "right": null,
            "top": null,
            "visibility": null,
            "width": null
          }
        },
        "d8b9b7eac1e7430795ab1dbdf60d03a7": {
          "model_module": "@jupyter-widgets/controls",
          "model_name": "ProgressStyleModel",
          "model_module_version": "1.5.0",
          "state": {
            "_model_module": "@jupyter-widgets/controls",
            "_model_module_version": "1.5.0",
            "_model_name": "ProgressStyleModel",
            "_view_count": null,
            "_view_module": "@jupyter-widgets/base",
            "_view_module_version": "1.2.0",
            "_view_name": "StyleView",
            "bar_color": null,
            "description_width": ""
          }
        },
        "8ee3f7cc55144155822e36eb1a90babc": {
          "model_module": "@jupyter-widgets/base",
          "model_name": "LayoutModel",
          "model_module_version": "1.2.0",
          "state": {
            "_model_module": "@jupyter-widgets/base",
            "_model_module_version": "1.2.0",
            "_model_name": "LayoutModel",
            "_view_count": null,
            "_view_module": "@jupyter-widgets/base",
            "_view_module_version": "1.2.0",
            "_view_name": "LayoutView",
            "align_content": null,
            "align_items": null,
            "align_self": null,
            "border": null,
            "bottom": null,
            "display": null,
            "flex": null,
            "flex_flow": null,
            "grid_area": null,
            "grid_auto_columns": null,
            "grid_auto_flow": null,
            "grid_auto_rows": null,
            "grid_column": null,
            "grid_gap": null,
            "grid_row": null,
            "grid_template_areas": null,
            "grid_template_columns": null,
            "grid_template_rows": null,
            "height": null,
            "justify_content": null,
            "justify_items": null,
            "left": null,
            "margin": null,
            "max_height": null,
            "max_width": null,
            "min_height": null,
            "min_width": null,
            "object_fit": null,
            "object_position": null,
            "order": null,
            "overflow": null,
            "overflow_x": null,
            "overflow_y": null,
            "padding": null,
            "right": null,
            "top": null,
            "visibility": null,
            "width": null
          }
        },
        "27deb0dda35a480daaf8cfdebe84bd88": {
          "model_module": "@jupyter-widgets/controls",
          "model_name": "DescriptionStyleModel",
          "model_module_version": "1.5.0",
          "state": {
            "_model_module": "@jupyter-widgets/controls",
            "_model_module_version": "1.5.0",
            "_model_name": "DescriptionStyleModel",
            "_view_count": null,
            "_view_module": "@jupyter-widgets/base",
            "_view_module_version": "1.2.0",
            "_view_name": "StyleView",
            "description_width": ""
          }
        },
        "49638576c88b4bae9f1b3eff0eb1bf26": {
          "model_module": "@jupyter-widgets/controls",
          "model_name": "HBoxModel",
          "model_module_version": "1.5.0",
          "state": {
            "_dom_classes": [],
            "_model_module": "@jupyter-widgets/controls",
            "_model_module_version": "1.5.0",
            "_model_name": "HBoxModel",
            "_view_count": null,
            "_view_module": "@jupyter-widgets/controls",
            "_view_module_version": "1.5.0",
            "_view_name": "HBoxView",
            "box_style": "",
            "children": [
              "IPY_MODEL_3606ca624bd2475cb4c944f672d02eed",
              "IPY_MODEL_bd5370513f40499caa58ab6ba81121b3",
              "IPY_MODEL_63ccb0d161204d0793de05d69a03be77"
            ],
            "layout": "IPY_MODEL_24521a0856594429b5588b8205459b19"
          }
        },
        "3606ca624bd2475cb4c944f672d02eed": {
          "model_module": "@jupyter-widgets/controls",
          "model_name": "HTMLModel",
          "model_module_version": "1.5.0",
          "state": {
            "_dom_classes": [],
            "_model_module": "@jupyter-widgets/controls",
            "_model_module_version": "1.5.0",
            "_model_name": "HTMLModel",
            "_view_count": null,
            "_view_module": "@jupyter-widgets/controls",
            "_view_module_version": "1.5.0",
            "_view_name": "HTMLView",
            "description": "",
            "description_tooltip": null,
            "layout": "IPY_MODEL_da75adea2c6b401883fd0bf0c635cdd6",
            "placeholder": "​",
            "style": "IPY_MODEL_51c6e32a228c47e5919f1c1f20278d61",
            "value": "tokenizer.json: 100%"
          }
        },
        "bd5370513f40499caa58ab6ba81121b3": {
          "model_module": "@jupyter-widgets/controls",
          "model_name": "FloatProgressModel",
          "model_module_version": "1.5.0",
          "state": {
            "_dom_classes": [],
            "_model_module": "@jupyter-widgets/controls",
            "_model_module_version": "1.5.0",
            "_model_name": "FloatProgressModel",
            "_view_count": null,
            "_view_module": "@jupyter-widgets/controls",
            "_view_module_version": "1.5.0",
            "_view_name": "ProgressView",
            "bar_style": "success",
            "description": "",
            "description_tooltip": null,
            "layout": "IPY_MODEL_e627ce04da174d9fb6accd06d2af1e89",
            "max": 711396,
            "min": 0,
            "orientation": "horizontal",
            "style": "IPY_MODEL_e2335125b2864721901e68ddca7db7a2",
            "value": 711396
          }
        },
        "63ccb0d161204d0793de05d69a03be77": {
          "model_module": "@jupyter-widgets/controls",
          "model_name": "HTMLModel",
          "model_module_version": "1.5.0",
          "state": {
            "_dom_classes": [],
            "_model_module": "@jupyter-widgets/controls",
            "_model_module_version": "1.5.0",
            "_model_name": "HTMLModel",
            "_view_count": null,
            "_view_module": "@jupyter-widgets/controls",
            "_view_module_version": "1.5.0",
            "_view_name": "HTMLView",
            "description": "",
            "description_tooltip": null,
            "layout": "IPY_MODEL_473754ff2f444d568d9df6fdda9be809",
            "placeholder": "​",
            "style": "IPY_MODEL_14b734d8141d4e62ac4f22535e74629f",
            "value": " 711k/711k [00:00&lt;00:00, 3.34MB/s]"
          }
        },
        "24521a0856594429b5588b8205459b19": {
          "model_module": "@jupyter-widgets/base",
          "model_name": "LayoutModel",
          "model_module_version": "1.2.0",
          "state": {
            "_model_module": "@jupyter-widgets/base",
            "_model_module_version": "1.2.0",
            "_model_name": "LayoutModel",
            "_view_count": null,
            "_view_module": "@jupyter-widgets/base",
            "_view_module_version": "1.2.0",
            "_view_name": "LayoutView",
            "align_content": null,
            "align_items": null,
            "align_self": null,
            "border": null,
            "bottom": null,
            "display": null,
            "flex": null,
            "flex_flow": null,
            "grid_area": null,
            "grid_auto_columns": null,
            "grid_auto_flow": null,
            "grid_auto_rows": null,
            "grid_column": null,
            "grid_gap": null,
            "grid_row": null,
            "grid_template_areas": null,
            "grid_template_columns": null,
            "grid_template_rows": null,
            "height": null,
            "justify_content": null,
            "justify_items": null,
            "left": null,
            "margin": null,
            "max_height": null,
            "max_width": null,
            "min_height": null,
            "min_width": null,
            "object_fit": null,
            "object_position": null,
            "order": null,
            "overflow": null,
            "overflow_x": null,
            "overflow_y": null,
            "padding": null,
            "right": null,
            "top": null,
            "visibility": null,
            "width": null
          }
        },
        "da75adea2c6b401883fd0bf0c635cdd6": {
          "model_module": "@jupyter-widgets/base",
          "model_name": "LayoutModel",
          "model_module_version": "1.2.0",
          "state": {
            "_model_module": "@jupyter-widgets/base",
            "_model_module_version": "1.2.0",
            "_model_name": "LayoutModel",
            "_view_count": null,
            "_view_module": "@jupyter-widgets/base",
            "_view_module_version": "1.2.0",
            "_view_name": "LayoutView",
            "align_content": null,
            "align_items": null,
            "align_self": null,
            "border": null,
            "bottom": null,
            "display": null,
            "flex": null,
            "flex_flow": null,
            "grid_area": null,
            "grid_auto_columns": null,
            "grid_auto_flow": null,
            "grid_auto_rows": null,
            "grid_column": null,
            "grid_gap": null,
            "grid_row": null,
            "grid_template_areas": null,
            "grid_template_columns": null,
            "grid_template_rows": null,
            "height": null,
            "justify_content": null,
            "justify_items": null,
            "left": null,
            "margin": null,
            "max_height": null,
            "max_width": null,
            "min_height": null,
            "min_width": null,
            "object_fit": null,
            "object_position": null,
            "order": null,
            "overflow": null,
            "overflow_x": null,
            "overflow_y": null,
            "padding": null,
            "right": null,
            "top": null,
            "visibility": null,
            "width": null
          }
        },
        "51c6e32a228c47e5919f1c1f20278d61": {
          "model_module": "@jupyter-widgets/controls",
          "model_name": "DescriptionStyleModel",
          "model_module_version": "1.5.0",
          "state": {
            "_model_module": "@jupyter-widgets/controls",
            "_model_module_version": "1.5.0",
            "_model_name": "DescriptionStyleModel",
            "_view_count": null,
            "_view_module": "@jupyter-widgets/base",
            "_view_module_version": "1.2.0",
            "_view_name": "StyleView",
            "description_width": ""
          }
        },
        "e627ce04da174d9fb6accd06d2af1e89": {
          "model_module": "@jupyter-widgets/base",
          "model_name": "LayoutModel",
          "model_module_version": "1.2.0",
          "state": {
            "_model_module": "@jupyter-widgets/base",
            "_model_module_version": "1.2.0",
            "_model_name": "LayoutModel",
            "_view_count": null,
            "_view_module": "@jupyter-widgets/base",
            "_view_module_version": "1.2.0",
            "_view_name": "LayoutView",
            "align_content": null,
            "align_items": null,
            "align_self": null,
            "border": null,
            "bottom": null,
            "display": null,
            "flex": null,
            "flex_flow": null,
            "grid_area": null,
            "grid_auto_columns": null,
            "grid_auto_flow": null,
            "grid_auto_rows": null,
            "grid_column": null,
            "grid_gap": null,
            "grid_row": null,
            "grid_template_areas": null,
            "grid_template_columns": null,
            "grid_template_rows": null,
            "height": null,
            "justify_content": null,
            "justify_items": null,
            "left": null,
            "margin": null,
            "max_height": null,
            "max_width": null,
            "min_height": null,
            "min_width": null,
            "object_fit": null,
            "object_position": null,
            "order": null,
            "overflow": null,
            "overflow_x": null,
            "overflow_y": null,
            "padding": null,
            "right": null,
            "top": null,
            "visibility": null,
            "width": null
          }
        },
        "e2335125b2864721901e68ddca7db7a2": {
          "model_module": "@jupyter-widgets/controls",
          "model_name": "ProgressStyleModel",
          "model_module_version": "1.5.0",
          "state": {
            "_model_module": "@jupyter-widgets/controls",
            "_model_module_version": "1.5.0",
            "_model_name": "ProgressStyleModel",
            "_view_count": null,
            "_view_module": "@jupyter-widgets/base",
            "_view_module_version": "1.2.0",
            "_view_name": "StyleView",
            "bar_color": null,
            "description_width": ""
          }
        },
        "473754ff2f444d568d9df6fdda9be809": {
          "model_module": "@jupyter-widgets/base",
          "model_name": "LayoutModel",
          "model_module_version": "1.2.0",
          "state": {
            "_model_module": "@jupyter-widgets/base",
            "_model_module_version": "1.2.0",
            "_model_name": "LayoutModel",
            "_view_count": null,
            "_view_module": "@jupyter-widgets/base",
            "_view_module_version": "1.2.0",
            "_view_name": "LayoutView",
            "align_content": null,
            "align_items": null,
            "align_self": null,
            "border": null,
            "bottom": null,
            "display": null,
            "flex": null,
            "flex_flow": null,
            "grid_area": null,
            "grid_auto_columns": null,
            "grid_auto_flow": null,
            "grid_auto_rows": null,
            "grid_column": null,
            "grid_gap": null,
            "grid_row": null,
            "grid_template_areas": null,
            "grid_template_columns": null,
            "grid_template_rows": null,
            "height": null,
            "justify_content": null,
            "justify_items": null,
            "left": null,
            "margin": null,
            "max_height": null,
            "max_width": null,
            "min_height": null,
            "min_width": null,
            "object_fit": null,
            "object_position": null,
            "order": null,
            "overflow": null,
            "overflow_x": null,
            "overflow_y": null,
            "padding": null,
            "right": null,
            "top": null,
            "visibility": null,
            "width": null
          }
        },
        "14b734d8141d4e62ac4f22535e74629f": {
          "model_module": "@jupyter-widgets/controls",
          "model_name": "DescriptionStyleModel",
          "model_module_version": "1.5.0",
          "state": {
            "_model_module": "@jupyter-widgets/controls",
            "_model_module_version": "1.5.0",
            "_model_name": "DescriptionStyleModel",
            "_view_count": null,
            "_view_module": "@jupyter-widgets/base",
            "_view_module_version": "1.2.0",
            "_view_name": "StyleView",
            "description_width": ""
          }
        },
        "76ffdf691864483ca19036e46d8cb112": {
          "model_module": "@jupyter-widgets/controls",
          "model_name": "HBoxModel",
          "model_module_version": "1.5.0",
          "state": {
            "_dom_classes": [],
            "_model_module": "@jupyter-widgets/controls",
            "_model_module_version": "1.5.0",
            "_model_name": "HBoxModel",
            "_view_count": null,
            "_view_module": "@jupyter-widgets/controls",
            "_view_module_version": "1.5.0",
            "_view_name": "HBoxView",
            "box_style": "",
            "children": [
              "IPY_MODEL_5a8b935f4233488e8fa292a18a8e2fa8",
              "IPY_MODEL_8a163701491145ac8305d484f992c6e5",
              "IPY_MODEL_ccfff8d71e5b4181b3eb70a65b048fd3"
            ],
            "layout": "IPY_MODEL_68de1eddffe3454292575d63647294b8"
          }
        },
        "5a8b935f4233488e8fa292a18a8e2fa8": {
          "model_module": "@jupyter-widgets/controls",
          "model_name": "HTMLModel",
          "model_module_version": "1.5.0",
          "state": {
            "_dom_classes": [],
            "_model_module": "@jupyter-widgets/controls",
            "_model_module_version": "1.5.0",
            "_model_name": "HTMLModel",
            "_view_count": null,
            "_view_module": "@jupyter-widgets/controls",
            "_view_module_version": "1.5.0",
            "_view_name": "HTMLView",
            "description": "",
            "description_tooltip": null,
            "layout": "IPY_MODEL_047ac5ca6e31428f92b949ddc2a06c6e",
            "placeholder": "​",
            "style": "IPY_MODEL_21a03545a9eb4a2997b8ec05abbcd2a4",
            "value": "special_tokens_map.json: 100%"
          }
        },
        "8a163701491145ac8305d484f992c6e5": {
          "model_module": "@jupyter-widgets/controls",
          "model_name": "FloatProgressModel",
          "model_module_version": "1.5.0",
          "state": {
            "_dom_classes": [],
            "_model_module": "@jupyter-widgets/controls",
            "_model_module_version": "1.5.0",
            "_model_name": "FloatProgressModel",
            "_view_count": null,
            "_view_module": "@jupyter-widgets/controls",
            "_view_module_version": "1.5.0",
            "_view_name": "ProgressView",
            "bar_style": "success",
            "description": "",
            "description_tooltip": null,
            "layout": "IPY_MODEL_8c7e9974cc5b4ecba5a4d2f187242764",
            "max": 125,
            "min": 0,
            "orientation": "horizontal",
            "style": "IPY_MODEL_c4645ec4df024e99865e45dd7673c438",
            "value": 125
          }
        },
        "ccfff8d71e5b4181b3eb70a65b048fd3": {
          "model_module": "@jupyter-widgets/controls",
          "model_name": "HTMLModel",
          "model_module_version": "1.5.0",
          "state": {
            "_dom_classes": [],
            "_model_module": "@jupyter-widgets/controls",
            "_model_module_version": "1.5.0",
            "_model_name": "HTMLModel",
            "_view_count": null,
            "_view_module": "@jupyter-widgets/controls",
            "_view_module_version": "1.5.0",
            "_view_name": "HTMLView",
            "description": "",
            "description_tooltip": null,
            "layout": "IPY_MODEL_90b1f951b1f84b0889e0998300020e3f",
            "placeholder": "​",
            "style": "IPY_MODEL_41cc53c8c14741678992798ebca9fec6",
            "value": " 125/125 [00:00&lt;00:00, 3.71kB/s]"
          }
        },
        "68de1eddffe3454292575d63647294b8": {
          "model_module": "@jupyter-widgets/base",
          "model_name": "LayoutModel",
          "model_module_version": "1.2.0",
          "state": {
            "_model_module": "@jupyter-widgets/base",
            "_model_module_version": "1.2.0",
            "_model_name": "LayoutModel",
            "_view_count": null,
            "_view_module": "@jupyter-widgets/base",
            "_view_module_version": "1.2.0",
            "_view_name": "LayoutView",
            "align_content": null,
            "align_items": null,
            "align_self": null,
            "border": null,
            "bottom": null,
            "display": null,
            "flex": null,
            "flex_flow": null,
            "grid_area": null,
            "grid_auto_columns": null,
            "grid_auto_flow": null,
            "grid_auto_rows": null,
            "grid_column": null,
            "grid_gap": null,
            "grid_row": null,
            "grid_template_areas": null,
            "grid_template_columns": null,
            "grid_template_rows": null,
            "height": null,
            "justify_content": null,
            "justify_items": null,
            "left": null,
            "margin": null,
            "max_height": null,
            "max_width": null,
            "min_height": null,
            "min_width": null,
            "object_fit": null,
            "object_position": null,
            "order": null,
            "overflow": null,
            "overflow_x": null,
            "overflow_y": null,
            "padding": null,
            "right": null,
            "top": null,
            "visibility": null,
            "width": null
          }
        },
        "047ac5ca6e31428f92b949ddc2a06c6e": {
          "model_module": "@jupyter-widgets/base",
          "model_name": "LayoutModel",
          "model_module_version": "1.2.0",
          "state": {
            "_model_module": "@jupyter-widgets/base",
            "_model_module_version": "1.2.0",
            "_model_name": "LayoutModel",
            "_view_count": null,
            "_view_module": "@jupyter-widgets/base",
            "_view_module_version": "1.2.0",
            "_view_name": "LayoutView",
            "align_content": null,
            "align_items": null,
            "align_self": null,
            "border": null,
            "bottom": null,
            "display": null,
            "flex": null,
            "flex_flow": null,
            "grid_area": null,
            "grid_auto_columns": null,
            "grid_auto_flow": null,
            "grid_auto_rows": null,
            "grid_column": null,
            "grid_gap": null,
            "grid_row": null,
            "grid_template_areas": null,
            "grid_template_columns": null,
            "grid_template_rows": null,
            "height": null,
            "justify_content": null,
            "justify_items": null,
            "left": null,
            "margin": null,
            "max_height": null,
            "max_width": null,
            "min_height": null,
            "min_width": null,
            "object_fit": null,
            "object_position": null,
            "order": null,
            "overflow": null,
            "overflow_x": null,
            "overflow_y": null,
            "padding": null,
            "right": null,
            "top": null,
            "visibility": null,
            "width": null
          }
        },
        "21a03545a9eb4a2997b8ec05abbcd2a4": {
          "model_module": "@jupyter-widgets/controls",
          "model_name": "DescriptionStyleModel",
          "model_module_version": "1.5.0",
          "state": {
            "_model_module": "@jupyter-widgets/controls",
            "_model_module_version": "1.5.0",
            "_model_name": "DescriptionStyleModel",
            "_view_count": null,
            "_view_module": "@jupyter-widgets/base",
            "_view_module_version": "1.2.0",
            "_view_name": "StyleView",
            "description_width": ""
          }
        },
        "8c7e9974cc5b4ecba5a4d2f187242764": {
          "model_module": "@jupyter-widgets/base",
          "model_name": "LayoutModel",
          "model_module_version": "1.2.0",
          "state": {
            "_model_module": "@jupyter-widgets/base",
            "_model_module_version": "1.2.0",
            "_model_name": "LayoutModel",
            "_view_count": null,
            "_view_module": "@jupyter-widgets/base",
            "_view_module_version": "1.2.0",
            "_view_name": "LayoutView",
            "align_content": null,
            "align_items": null,
            "align_self": null,
            "border": null,
            "bottom": null,
            "display": null,
            "flex": null,
            "flex_flow": null,
            "grid_area": null,
            "grid_auto_columns": null,
            "grid_auto_flow": null,
            "grid_auto_rows": null,
            "grid_column": null,
            "grid_gap": null,
            "grid_row": null,
            "grid_template_areas": null,
            "grid_template_columns": null,
            "grid_template_rows": null,
            "height": null,
            "justify_content": null,
            "justify_items": null,
            "left": null,
            "margin": null,
            "max_height": null,
            "max_width": null,
            "min_height": null,
            "min_width": null,
            "object_fit": null,
            "object_position": null,
            "order": null,
            "overflow": null,
            "overflow_x": null,
            "overflow_y": null,
            "padding": null,
            "right": null,
            "top": null,
            "visibility": null,
            "width": null
          }
        },
        "c4645ec4df024e99865e45dd7673c438": {
          "model_module": "@jupyter-widgets/controls",
          "model_name": "ProgressStyleModel",
          "model_module_version": "1.5.0",
          "state": {
            "_model_module": "@jupyter-widgets/controls",
            "_model_module_version": "1.5.0",
            "_model_name": "ProgressStyleModel",
            "_view_count": null,
            "_view_module": "@jupyter-widgets/base",
            "_view_module_version": "1.2.0",
            "_view_name": "StyleView",
            "bar_color": null,
            "description_width": ""
          }
        },
        "90b1f951b1f84b0889e0998300020e3f": {
          "model_module": "@jupyter-widgets/base",
          "model_name": "LayoutModel",
          "model_module_version": "1.2.0",
          "state": {
            "_model_module": "@jupyter-widgets/base",
            "_model_module_version": "1.2.0",
            "_model_name": "LayoutModel",
            "_view_count": null,
            "_view_module": "@jupyter-widgets/base",
            "_view_module_version": "1.2.0",
            "_view_name": "LayoutView",
            "align_content": null,
            "align_items": null,
            "align_self": null,
            "border": null,
            "bottom": null,
            "display": null,
            "flex": null,
            "flex_flow": null,
            "grid_area": null,
            "grid_auto_columns": null,
            "grid_auto_flow": null,
            "grid_auto_rows": null,
            "grid_column": null,
            "grid_gap": null,
            "grid_row": null,
            "grid_template_areas": null,
            "grid_template_columns": null,
            "grid_template_rows": null,
            "height": null,
            "justify_content": null,
            "justify_items": null,
            "left": null,
            "margin": null,
            "max_height": null,
            "max_width": null,
            "min_height": null,
            "min_width": null,
            "object_fit": null,
            "object_position": null,
            "order": null,
            "overflow": null,
            "overflow_x": null,
            "overflow_y": null,
            "padding": null,
            "right": null,
            "top": null,
            "visibility": null,
            "width": null
          }
        },
        "41cc53c8c14741678992798ebca9fec6": {
          "model_module": "@jupyter-widgets/controls",
          "model_name": "DescriptionStyleModel",
          "model_module_version": "1.5.0",
          "state": {
            "_model_module": "@jupyter-widgets/controls",
            "_model_module_version": "1.5.0",
            "_model_name": "DescriptionStyleModel",
            "_view_count": null,
            "_view_module": "@jupyter-widgets/base",
            "_view_module_version": "1.2.0",
            "_view_name": "StyleView",
            "description_width": ""
          }
        },
        "6e3228717719447aa66841b21b8f5dc2": {
          "model_module": "@jupyter-widgets/controls",
          "model_name": "HBoxModel",
          "model_module_version": "1.5.0",
          "state": {
            "_dom_classes": [],
            "_model_module": "@jupyter-widgets/controls",
            "_model_module_version": "1.5.0",
            "_model_name": "HBoxModel",
            "_view_count": null,
            "_view_module": "@jupyter-widgets/controls",
            "_view_module_version": "1.5.0",
            "_view_name": "HBoxView",
            "box_style": "",
            "children": [
              "IPY_MODEL_d350f1dd80ac46d1aa1ca779dc132ec6",
              "IPY_MODEL_c84e02c689cf42dea4ade44580a50545",
              "IPY_MODEL_ca8af20408ac4305940870362779fa34"
            ],
            "layout": "IPY_MODEL_55af79d7eb9541708780df54f3830280"
          }
        },
        "d350f1dd80ac46d1aa1ca779dc132ec6": {
          "model_module": "@jupyter-widgets/controls",
          "model_name": "HTMLModel",
          "model_module_version": "1.5.0",
          "state": {
            "_dom_classes": [],
            "_model_module": "@jupyter-widgets/controls",
            "_model_module_version": "1.5.0",
            "_model_name": "HTMLModel",
            "_view_count": null,
            "_view_module": "@jupyter-widgets/controls",
            "_view_module_version": "1.5.0",
            "_view_name": "HTMLView",
            "description": "",
            "description_tooltip": null,
            "layout": "IPY_MODEL_806e0f042cb2478c9a361030b0577115",
            "placeholder": "​",
            "style": "IPY_MODEL_214c9f8002c944a7ae5e6b2e349d94da",
            "value": "1_Pooling/config.json: 100%"
          }
        },
        "c84e02c689cf42dea4ade44580a50545": {
          "model_module": "@jupyter-widgets/controls",
          "model_name": "FloatProgressModel",
          "model_module_version": "1.5.0",
          "state": {
            "_dom_classes": [],
            "_model_module": "@jupyter-widgets/controls",
            "_model_module_version": "1.5.0",
            "_model_name": "FloatProgressModel",
            "_view_count": null,
            "_view_module": "@jupyter-widgets/controls",
            "_view_module_version": "1.5.0",
            "_view_name": "ProgressView",
            "bar_style": "success",
            "description": "",
            "description_tooltip": null,
            "layout": "IPY_MODEL_3879b3bc27054579b9ba95b37d32a83b",
            "max": 190,
            "min": 0,
            "orientation": "horizontal",
            "style": "IPY_MODEL_27addca1d87a4ce39cfdf100804de5b8",
            "value": 190
          }
        },
        "ca8af20408ac4305940870362779fa34": {
          "model_module": "@jupyter-widgets/controls",
          "model_name": "HTMLModel",
          "model_module_version": "1.5.0",
          "state": {
            "_dom_classes": [],
            "_model_module": "@jupyter-widgets/controls",
            "_model_module_version": "1.5.0",
            "_model_name": "HTMLModel",
            "_view_count": null,
            "_view_module": "@jupyter-widgets/controls",
            "_view_module_version": "1.5.0",
            "_view_name": "HTMLView",
            "description": "",
            "description_tooltip": null,
            "layout": "IPY_MODEL_f452fc86d98148d0acb9355d4e5f181c",
            "placeholder": "​",
            "style": "IPY_MODEL_11399c47e6934b7ba9f55371f2d755a5",
            "value": " 190/190 [00:00&lt;00:00, 3.41kB/s]"
          }
        },
        "55af79d7eb9541708780df54f3830280": {
          "model_module": "@jupyter-widgets/base",
          "model_name": "LayoutModel",
          "model_module_version": "1.2.0",
          "state": {
            "_model_module": "@jupyter-widgets/base",
            "_model_module_version": "1.2.0",
            "_model_name": "LayoutModel",
            "_view_count": null,
            "_view_module": "@jupyter-widgets/base",
            "_view_module_version": "1.2.0",
            "_view_name": "LayoutView",
            "align_content": null,
            "align_items": null,
            "align_self": null,
            "border": null,
            "bottom": null,
            "display": null,
            "flex": null,
            "flex_flow": null,
            "grid_area": null,
            "grid_auto_columns": null,
            "grid_auto_flow": null,
            "grid_auto_rows": null,
            "grid_column": null,
            "grid_gap": null,
            "grid_row": null,
            "grid_template_areas": null,
            "grid_template_columns": null,
            "grid_template_rows": null,
            "height": null,
            "justify_content": null,
            "justify_items": null,
            "left": null,
            "margin": null,
            "max_height": null,
            "max_width": null,
            "min_height": null,
            "min_width": null,
            "object_fit": null,
            "object_position": null,
            "order": null,
            "overflow": null,
            "overflow_x": null,
            "overflow_y": null,
            "padding": null,
            "right": null,
            "top": null,
            "visibility": null,
            "width": null
          }
        },
        "806e0f042cb2478c9a361030b0577115": {
          "model_module": "@jupyter-widgets/base",
          "model_name": "LayoutModel",
          "model_module_version": "1.2.0",
          "state": {
            "_model_module": "@jupyter-widgets/base",
            "_model_module_version": "1.2.0",
            "_model_name": "LayoutModel",
            "_view_count": null,
            "_view_module": "@jupyter-widgets/base",
            "_view_module_version": "1.2.0",
            "_view_name": "LayoutView",
            "align_content": null,
            "align_items": null,
            "align_self": null,
            "border": null,
            "bottom": null,
            "display": null,
            "flex": null,
            "flex_flow": null,
            "grid_area": null,
            "grid_auto_columns": null,
            "grid_auto_flow": null,
            "grid_auto_rows": null,
            "grid_column": null,
            "grid_gap": null,
            "grid_row": null,
            "grid_template_areas": null,
            "grid_template_columns": null,
            "grid_template_rows": null,
            "height": null,
            "justify_content": null,
            "justify_items": null,
            "left": null,
            "margin": null,
            "max_height": null,
            "max_width": null,
            "min_height": null,
            "min_width": null,
            "object_fit": null,
            "object_position": null,
            "order": null,
            "overflow": null,
            "overflow_x": null,
            "overflow_y": null,
            "padding": null,
            "right": null,
            "top": null,
            "visibility": null,
            "width": null
          }
        },
        "214c9f8002c944a7ae5e6b2e349d94da": {
          "model_module": "@jupyter-widgets/controls",
          "model_name": "DescriptionStyleModel",
          "model_module_version": "1.5.0",
          "state": {
            "_model_module": "@jupyter-widgets/controls",
            "_model_module_version": "1.5.0",
            "_model_name": "DescriptionStyleModel",
            "_view_count": null,
            "_view_module": "@jupyter-widgets/base",
            "_view_module_version": "1.2.0",
            "_view_name": "StyleView",
            "description_width": ""
          }
        },
        "3879b3bc27054579b9ba95b37d32a83b": {
          "model_module": "@jupyter-widgets/base",
          "model_name": "LayoutModel",
          "model_module_version": "1.2.0",
          "state": {
            "_model_module": "@jupyter-widgets/base",
            "_model_module_version": "1.2.0",
            "_model_name": "LayoutModel",
            "_view_count": null,
            "_view_module": "@jupyter-widgets/base",
            "_view_module_version": "1.2.0",
            "_view_name": "LayoutView",
            "align_content": null,
            "align_items": null,
            "align_self": null,
            "border": null,
            "bottom": null,
            "display": null,
            "flex": null,
            "flex_flow": null,
            "grid_area": null,
            "grid_auto_columns": null,
            "grid_auto_flow": null,
            "grid_auto_rows": null,
            "grid_column": null,
            "grid_gap": null,
            "grid_row": null,
            "grid_template_areas": null,
            "grid_template_columns": null,
            "grid_template_rows": null,
            "height": null,
            "justify_content": null,
            "justify_items": null,
            "left": null,
            "margin": null,
            "max_height": null,
            "max_width": null,
            "min_height": null,
            "min_width": null,
            "object_fit": null,
            "object_position": null,
            "order": null,
            "overflow": null,
            "overflow_x": null,
            "overflow_y": null,
            "padding": null,
            "right": null,
            "top": null,
            "visibility": null,
            "width": null
          }
        },
        "27addca1d87a4ce39cfdf100804de5b8": {
          "model_module": "@jupyter-widgets/controls",
          "model_name": "ProgressStyleModel",
          "model_module_version": "1.5.0",
          "state": {
            "_model_module": "@jupyter-widgets/controls",
            "_model_module_version": "1.5.0",
            "_model_name": "ProgressStyleModel",
            "_view_count": null,
            "_view_module": "@jupyter-widgets/base",
            "_view_module_version": "1.2.0",
            "_view_name": "StyleView",
            "bar_color": null,
            "description_width": ""
          }
        },
        "f452fc86d98148d0acb9355d4e5f181c": {
          "model_module": "@jupyter-widgets/base",
          "model_name": "LayoutModel",
          "model_module_version": "1.2.0",
          "state": {
            "_model_module": "@jupyter-widgets/base",
            "_model_module_version": "1.2.0",
            "_model_name": "LayoutModel",
            "_view_count": null,
            "_view_module": "@jupyter-widgets/base",
            "_view_module_version": "1.2.0",
            "_view_name": "LayoutView",
            "align_content": null,
            "align_items": null,
            "align_self": null,
            "border": null,
            "bottom": null,
            "display": null,
            "flex": null,
            "flex_flow": null,
            "grid_area": null,
            "grid_auto_columns": null,
            "grid_auto_flow": null,
            "grid_auto_rows": null,
            "grid_column": null,
            "grid_gap": null,
            "grid_row": null,
            "grid_template_areas": null,
            "grid_template_columns": null,
            "grid_template_rows": null,
            "height": null,
            "justify_content": null,
            "justify_items": null,
            "left": null,
            "margin": null,
            "max_height": null,
            "max_width": null,
            "min_height": null,
            "min_width": null,
            "object_fit": null,
            "object_position": null,
            "order": null,
            "overflow": null,
            "overflow_x": null,
            "overflow_y": null,
            "padding": null,
            "right": null,
            "top": null,
            "visibility": null,
            "width": null
          }
        },
        "11399c47e6934b7ba9f55371f2d755a5": {
          "model_module": "@jupyter-widgets/controls",
          "model_name": "DescriptionStyleModel",
          "model_module_version": "1.5.0",
          "state": {
            "_model_module": "@jupyter-widgets/controls",
            "_model_module_version": "1.5.0",
            "_model_name": "DescriptionStyleModel",
            "_view_count": null,
            "_view_module": "@jupyter-widgets/base",
            "_view_module_version": "1.2.0",
            "_view_name": "StyleView",
            "description_width": ""
          }
        }
      }
    }
  },
  "cells": [
    {
      "cell_type": "markdown",
      "metadata": {
        "id": "view-in-github",
        "colab_type": "text"
      },
      "source": [
        "<a href=\"https://colab.research.google.com/github/mgfrantz/CTME-llm-lecture-resources/blob/main/prototyping_ai/01_getting_started_with_openai.ipynb\" target=\"_parent\"><img src=\"https://colab.research.google.com/assets/colab-badge.svg\" alt=\"Open In Colab\"/></a>"
      ]
    },
    {
      "cell_type": "markdown",
      "source": [
        "# Making our first LLM API call\n",
        "\n"
      ],
      "metadata": {
        "id": "4HDOGmN6OmF0"
      }
    },
    {
      "cell_type": "markdown",
      "source": [
        "## Setup"
      ],
      "metadata": {
        "id": "uZDWgZfZQGcU"
      }
    },
    {
      "cell_type": "code",
      "execution_count": 1,
      "metadata": {
        "id": "JYQyB8QUIhOm",
        "colab": {
          "base_uri": "https://localhost:8080/"
        },
        "outputId": "041219f1-4000-4a49-9230-cdf65dc724d2"
      },
      "outputs": [
        {
          "output_type": "stream",
          "name": "stdout",
          "text": [
            "\u001b[?25l   \u001b[90m━━━━━━━━━━━━━━━━━━━━━━━━━━━━━━━━━━━━━━━━\u001b[0m \u001b[32m0.0/389.6 kB\u001b[0m \u001b[31m?\u001b[0m eta \u001b[36m-:--:--\u001b[0m\r\u001b[2K   \u001b[90m━━━━━━━━━━━━━━━━━━━━━━━━━━━━━━━━━━━━━━━━\u001b[0m \u001b[32m389.6/389.6 kB\u001b[0m \u001b[31m15.9 MB/s\u001b[0m eta \u001b[36m0:00:00\u001b[0m\n",
            "\u001b[?25h"
          ]
        }
      ],
      "source": [
        "!pip install -Uqqqq openai"
      ]
    },
    {
      "cell_type": "code",
      "source": [
        "# Imports\n",
        "from rich import print"
      ],
      "metadata": {
        "id": "z7bXGANBPZk-"
      },
      "execution_count": 2,
      "outputs": []
    },
    {
      "cell_type": "markdown",
      "source": [
        "## Setting our `OPENAI_API_KEY` environment variable\n",
        "\n",
        "When we use any LLM provider like OpenAI, Anthropic, or Google, we need some way to tell them who we are making the request.\n",
        "Today, we'll be using OpenAI.\n",
        "The most straightforward way to provide this key is through the environment variable `OPENAI_API_KEY`.\n",
        "The OpenAI python client looks for this environment variable to use in authentication.\n",
        "\n",
        "In the cell below, we load it from the Google Colab secrets manager on the left 👈.\n",
        "Before runnign this code, make sure your API key is set as shown below:\n",
        "\n",
        "![](https://github.com/mgfrantz/CTME-llm-lecture-resources/blob/main/images/colabSecrets.png?raw=true)"
      ],
      "metadata": {
        "id": "XfqCJ9bmLDG2"
      }
    },
    {
      "cell_type": "code",
      "source": [
        "# Set the OPENAI_API_KEY environment variable\n",
        "from google.colab import userdata # import the environment variables from secrets\n",
        "import os\n",
        "os.environ['OPENAI_API_KEY'] = userdata.get('OPENAI_API_KEY') # Set the OPENAI_API_KEY environmnet variable"
      ],
      "metadata": {
        "id": "N2nPVwzrIpPQ"
      },
      "execution_count": 3,
      "outputs": []
    },
    {
      "cell_type": "markdown",
      "source": [
        "## Under the hood: `curl`\n",
        "\n",
        "Almost all of the interactions we will have with LLMs are through API calls.\n",
        "Below is one of the most low-level ways we can call an LLM, using the `curl` command.\n",
        "This command gives us a lot of information about how the API request is structured.\n",
        "We pass a JSON with an authorization header containing our `OPENAI_API_KEY`.\n",
        "We also pass the model we want to call, the chat messages, and hyperparameters such as `temperature` that help control how text is generated."
      ],
      "metadata": {
        "id": "e-_7WDTwPyZo"
      }
    },
    {
      "cell_type": "code",
      "source": [
        "# Make the API call to OpenAI and store the response in test.json\n",
        "!curl https://api.openai.com/v1/chat/completions \\\n",
        "  -H \"Content-Type: application/json\" \\\n",
        "  -H \"Authorization: Bearer $OPENAI_API_KEY\" \\\n",
        "  -d '{ \\\n",
        "     \"model\": \"gpt-4o-mini\", \\\n",
        "     \"messages\": [{\"role\": \"user\", \"content\": \"Say: This is a test!\"}], \\\n",
        "     \"temperature\": 0.7 \\\n",
        "    }' > test.json\n",
        "# Show the output of test.json formatted nicely\n",
        "!cat test.json | python -m json.tool"
      ],
      "metadata": {
        "id": "s47r5FtcOyLG",
        "colab": {
          "base_uri": "https://localhost:8080/"
        },
        "outputId": "2e0f6607-85e8-4967-edf0-7cda0c28fb89"
      },
      "execution_count": 4,
      "outputs": [
        {
          "output_type": "stream",
          "name": "stdout",
          "text": [
            "  % Total    % Received % Xferd  Average Speed   Time    Time     Time  Current\n",
            "                                 Dload  Upload   Total   Spent    Left  Speed\n",
            "100   901  100   765  100   136    736    130  0:00:01  0:00:01 --:--:--   868\n",
            "{\n",
            "    \"id\": \"chatcmpl-AR5Xfe2ByVqhgkp2vOmMmn7cFySE3\",\n",
            "    \"object\": \"chat.completion\",\n",
            "    \"created\": 1731019523,\n",
            "    \"model\": \"gpt-4o-mini-2024-07-18\",\n",
            "    \"choices\": [\n",
            "        {\n",
            "            \"index\": 0,\n",
            "            \"message\": {\n",
            "                \"role\": \"assistant\",\n",
            "                \"content\": \"This is a test!\",\n",
            "                \"refusal\": null\n",
            "            },\n",
            "            \"logprobs\": null,\n",
            "            \"finish_reason\": \"stop\"\n",
            "        }\n",
            "    ],\n",
            "    \"usage\": {\n",
            "        \"prompt_tokens\": 14,\n",
            "        \"completion_tokens\": 5,\n",
            "        \"total_tokens\": 19,\n",
            "        \"prompt_tokens_details\": {\n",
            "            \"cached_tokens\": 0,\n",
            "            \"audio_tokens\": 0\n",
            "        },\n",
            "        \"completion_tokens_details\": {\n",
            "            \"reasoning_tokens\": 0,\n",
            "            \"audio_tokens\": 0,\n",
            "            \"accepted_prediction_tokens\": 0,\n",
            "            \"rejected_prediction_tokens\": 0\n",
            "        }\n",
            "    },\n",
            "    \"system_fingerprint\": \"fp_0ba0d124f1\"\n",
            "}\n"
          ]
        }
      ]
    },
    {
      "cell_type": "markdown",
      "source": [
        "## Using the OpenAI Python client\n",
        "\n",
        "While the `curl` command shows us how the API call is made, it's not something that we can easily use in more complex applications.\n",
        "One thing we can use is the OpenAI python client.\n",
        "We can do the exact same thing, but the API call is a bit more abstracted from the developer.\n",
        "Let's see how to perform the exact same API call using the OpenAI clinet 👇:"
      ],
      "metadata": {
        "id": "DPRgn2_IP3w6"
      }
    },
    {
      "cell_type": "code",
      "source": [
        "from openai import OpenAI # import OpenAI\n",
        "client = OpenAI() # Create the OpenAI client"
      ],
      "metadata": {
        "id": "fPRvearuIz86"
      },
      "execution_count": 5,
      "outputs": []
    },
    {
      "cell_type": "code",
      "source": [
        "# Create the messages (same as above)\n",
        "messages = [\n",
        "    {\"role\": \"user\", \"content\": \"Say: This is a test!\"},\n",
        "]\n",
        "\n",
        "# Make the API call\n",
        "chat_completion = client.chat.completions.create(\n",
        "    model=\"gpt-4o-mini\",\n",
        "    messages=messages,\n",
        "    # stream=True\n",
        ")"
      ],
      "metadata": {
        "id": "vYbGuKC8I3na"
      },
      "execution_count": 6,
      "outputs": []
    },
    {
      "cell_type": "code",
      "source": [
        "# Display the output\n",
        "print(chat_completion)"
      ],
      "metadata": {
        "id": "2gd5AitgI9kU",
        "colab": {
          "base_uri": "https://localhost:8080/",
          "height": 592
        },
        "outputId": "64113803-3b2a-4945-e480-b2a56808a949"
      },
      "execution_count": 9,
      "outputs": [
        {
          "output_type": "display_data",
          "data": {
            "text/plain": [
              "\u001b[1;35mChatCompletion\u001b[0m\u001b[1m(\u001b[0m\n",
              "    \u001b[33mid\u001b[0m=\u001b[32m'chatcmpl-AR5XhXKrhcOjmSEAddvKCcA6iFmaS'\u001b[0m,\n",
              "    \u001b[33mchoices\u001b[0m=\u001b[1m[\u001b[0m\n",
              "        \u001b[1;35mChoice\u001b[0m\u001b[1m(\u001b[0m\n",
              "            \u001b[33mfinish_reason\u001b[0m=\u001b[32m'stop'\u001b[0m,\n",
              "            \u001b[33mindex\u001b[0m=\u001b[1;36m0\u001b[0m,\n",
              "            \u001b[33mlogprobs\u001b[0m=\u001b[3;35mNone\u001b[0m,\n",
              "            \u001b[33mmessage\u001b[0m=\u001b[1;35mChatCompletionMessage\u001b[0m\u001b[1m(\u001b[0m\n",
              "                \u001b[33mcontent\u001b[0m=\u001b[32m'This is a test!'\u001b[0m,\n",
              "                \u001b[33mrefusal\u001b[0m=\u001b[3;35mNone\u001b[0m,\n",
              "                \u001b[33mrole\u001b[0m=\u001b[32m'assistant'\u001b[0m,\n",
              "                \u001b[33maudio\u001b[0m=\u001b[3;35mNone\u001b[0m,\n",
              "                \u001b[33mfunction_call\u001b[0m=\u001b[3;35mNone\u001b[0m,\n",
              "                \u001b[33mtool_calls\u001b[0m=\u001b[3;35mNone\u001b[0m\n",
              "            \u001b[1m)\u001b[0m\n",
              "        \u001b[1m)\u001b[0m\n",
              "    \u001b[1m]\u001b[0m,\n",
              "    \u001b[33mcreated\u001b[0m=\u001b[1;36m1731019525\u001b[0m,\n",
              "    \u001b[33mmodel\u001b[0m=\u001b[32m'gpt-4o-mini-2024-07-18'\u001b[0m,\n",
              "    \u001b[33mobject\u001b[0m=\u001b[32m'chat.completion'\u001b[0m,\n",
              "    \u001b[33mservice_tier\u001b[0m=\u001b[3;35mNone\u001b[0m,\n",
              "    \u001b[33msystem_fingerprint\u001b[0m=\u001b[32m'fp_0ba0d124f1'\u001b[0m,\n",
              "    \u001b[33musage\u001b[0m=\u001b[1;35mCompletionUsage\u001b[0m\u001b[1m(\u001b[0m\n",
              "        \u001b[33mcompletion_tokens\u001b[0m=\u001b[1;36m5\u001b[0m,\n",
              "        \u001b[33mprompt_tokens\u001b[0m=\u001b[1;36m14\u001b[0m,\n",
              "        \u001b[33mtotal_tokens\u001b[0m=\u001b[1;36m19\u001b[0m,\n",
              "        \u001b[33mcompletion_tokens_details\u001b[0m=\u001b[1;35mCompletionTokensDetails\u001b[0m\u001b[1m(\u001b[0m\n",
              "            \u001b[33maccepted_prediction_tokens\u001b[0m=\u001b[1;36m0\u001b[0m,\n",
              "            \u001b[33maudio_tokens\u001b[0m=\u001b[1;36m0\u001b[0m,\n",
              "            \u001b[33mreasoning_tokens\u001b[0m=\u001b[1;36m0\u001b[0m,\n",
              "            \u001b[33mrejected_prediction_tokens\u001b[0m=\u001b[1;36m0\u001b[0m\n",
              "        \u001b[1m)\u001b[0m,\n",
              "        \u001b[33mprompt_tokens_details\u001b[0m=\u001b[1;35mPromptTokensDetails\u001b[0m\u001b[1m(\u001b[0m\u001b[33maudio_tokens\u001b[0m=\u001b[1;36m0\u001b[0m, \u001b[33mcached_tokens\u001b[0m=\u001b[1;36m0\u001b[0m\u001b[1m)\u001b[0m\n",
              "    \u001b[1m)\u001b[0m\n",
              "\u001b[1m)\u001b[0m\n"
            ],
            "text/html": [
              "<pre style=\"white-space:pre;overflow-x:auto;line-height:normal;font-family:Menlo,'DejaVu Sans Mono',consolas,'Courier New',monospace\"><span style=\"color: #800080; text-decoration-color: #800080; font-weight: bold\">ChatCompletion</span><span style=\"font-weight: bold\">(</span>\n",
              "    <span style=\"color: #808000; text-decoration-color: #808000\">id</span>=<span style=\"color: #008000; text-decoration-color: #008000\">'chatcmpl-AR5XhXKrhcOjmSEAddvKCcA6iFmaS'</span>,\n",
              "    <span style=\"color: #808000; text-decoration-color: #808000\">choices</span>=<span style=\"font-weight: bold\">[</span>\n",
              "        <span style=\"color: #800080; text-decoration-color: #800080; font-weight: bold\">Choice</span><span style=\"font-weight: bold\">(</span>\n",
              "            <span style=\"color: #808000; text-decoration-color: #808000\">finish_reason</span>=<span style=\"color: #008000; text-decoration-color: #008000\">'stop'</span>,\n",
              "            <span style=\"color: #808000; text-decoration-color: #808000\">index</span>=<span style=\"color: #008080; text-decoration-color: #008080; font-weight: bold\">0</span>,\n",
              "            <span style=\"color: #808000; text-decoration-color: #808000\">logprobs</span>=<span style=\"color: #800080; text-decoration-color: #800080; font-style: italic\">None</span>,\n",
              "            <span style=\"color: #808000; text-decoration-color: #808000\">message</span>=<span style=\"color: #800080; text-decoration-color: #800080; font-weight: bold\">ChatCompletionMessage</span><span style=\"font-weight: bold\">(</span>\n",
              "                <span style=\"color: #808000; text-decoration-color: #808000\">content</span>=<span style=\"color: #008000; text-decoration-color: #008000\">'This is a test!'</span>,\n",
              "                <span style=\"color: #808000; text-decoration-color: #808000\">refusal</span>=<span style=\"color: #800080; text-decoration-color: #800080; font-style: italic\">None</span>,\n",
              "                <span style=\"color: #808000; text-decoration-color: #808000\">role</span>=<span style=\"color: #008000; text-decoration-color: #008000\">'assistant'</span>,\n",
              "                <span style=\"color: #808000; text-decoration-color: #808000\">audio</span>=<span style=\"color: #800080; text-decoration-color: #800080; font-style: italic\">None</span>,\n",
              "                <span style=\"color: #808000; text-decoration-color: #808000\">function_call</span>=<span style=\"color: #800080; text-decoration-color: #800080; font-style: italic\">None</span>,\n",
              "                <span style=\"color: #808000; text-decoration-color: #808000\">tool_calls</span>=<span style=\"color: #800080; text-decoration-color: #800080; font-style: italic\">None</span>\n",
              "            <span style=\"font-weight: bold\">)</span>\n",
              "        <span style=\"font-weight: bold\">)</span>\n",
              "    <span style=\"font-weight: bold\">]</span>,\n",
              "    <span style=\"color: #808000; text-decoration-color: #808000\">created</span>=<span style=\"color: #008080; text-decoration-color: #008080; font-weight: bold\">1731019525</span>,\n",
              "    <span style=\"color: #808000; text-decoration-color: #808000\">model</span>=<span style=\"color: #008000; text-decoration-color: #008000\">'gpt-4o-mini-2024-07-18'</span>,\n",
              "    <span style=\"color: #808000; text-decoration-color: #808000\">object</span>=<span style=\"color: #008000; text-decoration-color: #008000\">'chat.completion'</span>,\n",
              "    <span style=\"color: #808000; text-decoration-color: #808000\">service_tier</span>=<span style=\"color: #800080; text-decoration-color: #800080; font-style: italic\">None</span>,\n",
              "    <span style=\"color: #808000; text-decoration-color: #808000\">system_fingerprint</span>=<span style=\"color: #008000; text-decoration-color: #008000\">'fp_0ba0d124f1'</span>,\n",
              "    <span style=\"color: #808000; text-decoration-color: #808000\">usage</span>=<span style=\"color: #800080; text-decoration-color: #800080; font-weight: bold\">CompletionUsage</span><span style=\"font-weight: bold\">(</span>\n",
              "        <span style=\"color: #808000; text-decoration-color: #808000\">completion_tokens</span>=<span style=\"color: #008080; text-decoration-color: #008080; font-weight: bold\">5</span>,\n",
              "        <span style=\"color: #808000; text-decoration-color: #808000\">prompt_tokens</span>=<span style=\"color: #008080; text-decoration-color: #008080; font-weight: bold\">14</span>,\n",
              "        <span style=\"color: #808000; text-decoration-color: #808000\">total_tokens</span>=<span style=\"color: #008080; text-decoration-color: #008080; font-weight: bold\">19</span>,\n",
              "        <span style=\"color: #808000; text-decoration-color: #808000\">completion_tokens_details</span>=<span style=\"color: #800080; text-decoration-color: #800080; font-weight: bold\">CompletionTokensDetails</span><span style=\"font-weight: bold\">(</span>\n",
              "            <span style=\"color: #808000; text-decoration-color: #808000\">accepted_prediction_tokens</span>=<span style=\"color: #008080; text-decoration-color: #008080; font-weight: bold\">0</span>,\n",
              "            <span style=\"color: #808000; text-decoration-color: #808000\">audio_tokens</span>=<span style=\"color: #008080; text-decoration-color: #008080; font-weight: bold\">0</span>,\n",
              "            <span style=\"color: #808000; text-decoration-color: #808000\">reasoning_tokens</span>=<span style=\"color: #008080; text-decoration-color: #008080; font-weight: bold\">0</span>,\n",
              "            <span style=\"color: #808000; text-decoration-color: #808000\">rejected_prediction_tokens</span>=<span style=\"color: #008080; text-decoration-color: #008080; font-weight: bold\">0</span>\n",
              "        <span style=\"font-weight: bold\">)</span>,\n",
              "        <span style=\"color: #808000; text-decoration-color: #808000\">prompt_tokens_details</span>=<span style=\"color: #800080; text-decoration-color: #800080; font-weight: bold\">PromptTokensDetails</span><span style=\"font-weight: bold\">(</span><span style=\"color: #808000; text-decoration-color: #808000\">audio_tokens</span>=<span style=\"color: #008080; text-decoration-color: #008080; font-weight: bold\">0</span>, <span style=\"color: #808000; text-decoration-color: #808000\">cached_tokens</span>=<span style=\"color: #008080; text-decoration-color: #008080; font-weight: bold\">0</span><span style=\"font-weight: bold\">)</span>\n",
              "    <span style=\"font-weight: bold\">)</span>\n",
              "<span style=\"font-weight: bold\">)</span>\n",
              "</pre>\n"
            ]
          },
          "metadata": {}
        }
      ]
    },
    {
      "cell_type": "markdown",
      "source": [
        "# Build our first chatbots\n",
        "\n",
        "In this section, we'll go through several demos.\n",
        "By the end of this section, you should be able to:\n",
        "- Build a basic chatbot with the popular `gradio` Python library\n",
        "- Understand key hyperparameters like `temperature`, `top_p`, and `top_k`\n",
        "- Build an advanced chatbot with hyperparameter controls"
      ],
      "metadata": {
        "id": "yJ0qYsS0Y4DZ"
      }
    },
    {
      "cell_type": "markdown",
      "source": [
        "## Exercise: Building a basic chatbot with `gradio`\n",
        "\n",
        "User interfaces (UIs) are a great way to demo work in AI.\n",
        "In the next several lessons, we will be using the `gradio` framework to demonstrate our growing skillset.\n",
        "In this exercise, we will get a gentle introduction to creating chatbots with `gradio`.\n",
        "\n",
        "Please follow the [ChatInterface](https://www.gradio.app/docs/gradio/chatinterface) documentation and the [Creating a chatbot fast](https://www.gradio.app/guides/creating-a-chatbot-fast) guide to make your first AI chatbot.\n",
        "Your chatbot must:\n",
        "- respond to messages\n",
        "\n",
        "If this too easy, try to:\n",
        "- add a system prompt\n",
        "- use `stream=True` in your chat function"
      ],
      "metadata": {
        "id": "JTQ-yAmFQVOM"
      }
    },
    {
      "cell_type": "code",
      "source": [
        "!pip install -Uqqqq gradio gradio_client"
      ],
      "metadata": {
        "id": "qOq34PZ-QjYO",
        "colab": {
          "base_uri": "https://localhost:8080/"
        },
        "outputId": "2580993e-32ea-438f-b0ce-4b04bfbb3f09"
      },
      "execution_count": 10,
      "outputs": [
        {
          "output_type": "stream",
          "name": "stdout",
          "text": [
            "\u001b[2K   \u001b[90m━━━━━━━━━━━━━━━━━━━━━━━━━━━━━━━━━━━━━━━━\u001b[0m \u001b[32m56.7/56.7 MB\u001b[0m \u001b[31m11.5 MB/s\u001b[0m eta \u001b[36m0:00:00\u001b[0m\n",
            "\u001b[2K   \u001b[90m━━━━━━━━━━━━━━━━━━━━━━━━━━━━━━━━━━━━━━━━\u001b[0m \u001b[32m319.8/319.8 kB\u001b[0m \u001b[31m26.6 MB/s\u001b[0m eta \u001b[36m0:00:00\u001b[0m\n",
            "\u001b[2K   \u001b[90m━━━━━━━━━━━━━━━━━━━━━━━━━━━━━━━━━━━━━━━━\u001b[0m \u001b[32m94.7/94.7 kB\u001b[0m \u001b[31m9.7 MB/s\u001b[0m eta \u001b[36m0:00:00\u001b[0m\n",
            "\u001b[2K   \u001b[90m━━━━━━━━━━━━━━━━━━━━━━━━━━━━━━━━━━━━━━━━\u001b[0m \u001b[32m447.5/447.5 kB\u001b[0m \u001b[31m37.2 MB/s\u001b[0m eta \u001b[36m0:00:00\u001b[0m\n",
            "\u001b[2K   \u001b[90m━━━━━━━━━━━━━━━━━━━━━━━━━━━━━━━━━━━━━━━━\u001b[0m \u001b[32m11.0/11.0 MB\u001b[0m \u001b[31m97.8 MB/s\u001b[0m eta \u001b[36m0:00:00\u001b[0m\n",
            "\u001b[2K   \u001b[90m━━━━━━━━━━━━━━━━━━━━━━━━━━━━━━━━━━━━━━━━\u001b[0m \u001b[32m73.3/73.3 kB\u001b[0m \u001b[31m6.3 MB/s\u001b[0m eta \u001b[36m0:00:00\u001b[0m\n",
            "\u001b[2K   \u001b[90m━━━━━━━━━━━━━━━━━━━━━━━━━━━━━━━━━━━━━━━━\u001b[0m \u001b[32m63.7/63.7 kB\u001b[0m \u001b[31m6.2 MB/s\u001b[0m eta \u001b[36m0:00:00\u001b[0m\n",
            "\u001b[2K   \u001b[90m━━━━━━━━━━━━━━━━━━━━━━━━━━━━━━━━━━━━━━━━\u001b[0m \u001b[32m130.2/130.2 kB\u001b[0m \u001b[31m12.8 MB/s\u001b[0m eta \u001b[36m0:00:00\u001b[0m\n",
            "\u001b[?25h"
          ]
        }
      ]
    },
    {
      "cell_type": "code",
      "source": [
        "import gradio as gr"
      ],
      "metadata": {
        "id": "4_tJtXNMRHA6"
      },
      "execution_count": 11,
      "outputs": []
    },
    {
      "cell_type": "code",
      "source": [
        "def chat(message, history):\n",
        "    if not history:\n",
        "        history = [\n",
        "            {\"role\": \"system\", \"content\": \"You are a helpful assistant who speaks like a pirate.\"},\n",
        "        ]\n",
        "    response = client.chat.completions.create(\n",
        "        model=\"gpt-4o-mini\",\n",
        "        messages=history,\n",
        "        stream=True,\n",
        "    )\n",
        "    partial_message = \"\"\n",
        "    for chunk in response:\n",
        "        if chunk.choices[0].delta.content is not None:\n",
        "              partial_message = partial_message + chunk.choices[0].delta.content\n",
        "              yield partial_message"
      ],
      "metadata": {
        "id": "DL3d7elhRkj3"
      },
      "execution_count": 12,
      "outputs": []
    },
    {
      "cell_type": "code",
      "source": [
        "gr.ChatInterface(chat, type='messages').launch()"
      ],
      "metadata": {
        "id": "zy5lPNy9R7ur",
        "colab": {
          "base_uri": "https://localhost:8080/",
          "height": 0
        },
        "outputId": "df318798-43c7-4b95-f99d-1e1633ec476f"
      },
      "execution_count": 13,
      "outputs": [
        {
          "output_type": "stream",
          "name": "stdout",
          "text": [
            "Running Gradio in a Colab notebook requires sharing enabled. Automatically setting `share=True` (you can turn this off by setting `share=False` in `launch()` explicitly).\n",
            "\n",
            "Colab notebook detected. To show errors in colab notebook, set debug=True in launch()\n",
            "* Running on public URL: https://af0474a55a92d45038.gradio.live\n",
            "\n",
            "This share link expires in 72 hours. For free permanent hosting and GPU upgrades, run `gradio deploy` from the terminal in the working directory to deploy to Hugging Face Spaces (https://huggingface.co/spaces)\n"
          ]
        },
        {
          "output_type": "display_data",
          "data": {
            "text/plain": [
              "<IPython.core.display.HTML object>"
            ],
            "text/html": [
              "<div><iframe src=\"https://af0474a55a92d45038.gradio.live\" width=\"100%\" height=\"500\" allow=\"autoplay; camera; microphone; clipboard-read; clipboard-write;\" frameborder=\"0\" allowfullscreen></iframe></div>"
            ]
          },
          "metadata": {}
        },
        {
          "output_type": "execute_result",
          "data": {
            "text/plain": []
          },
          "metadata": {},
          "execution_count": 13
        }
      ]
    },
    {
      "cell_type": "markdown",
      "source": [
        "## Text generation hyperparameters\n",
        "\n",
        "There are several hyperparameters we can play with that determine how text is generated.\n",
        "For each token, the model outputs a score distribution over words, and that distribution is normalized using the softmax function to sum to 1.0.\n",
        "We have several options to modify this probability distribution in ways that affect the way text is generated."
      ],
      "metadata": {
        "id": "-bHAfnK9YizZ"
      }
    },
    {
      "cell_type": "markdown",
      "source": [
        "### `temperature`\n",
        "\n",
        "The softmax function is shown below:\n",
        "\n",
        "$$\n",
        "\\text{softmax}(p) = \\frac{e^{x_i}}{\\sum_{j=0}^ne^{x_j}}\n",
        "$$\n",
        "\n",
        "The softmax function is defined in python below:\n"
      ],
      "metadata": {
        "id": "pibw6nM-YncC"
      }
    },
    {
      "cell_type": "code",
      "source": [
        "import numpy as np\n",
        "\n",
        "def softmax(p):\n",
        "    return np.exp(p) / np.sum(np.exp(p))\n",
        "\n",
        "# Example usage\n",
        "p = np.array([1, 2, 3, 4, 5])\n",
        "print(softmax(p))"
      ],
      "metadata": {
        "id": "bIskN3MLMdmx",
        "colab": {
          "base_uri": "https://localhost:8080/",
          "height": 0
        },
        "outputId": "57821bb7-4fe7-471a-eb1e-fa8737da1313"
      },
      "execution_count": 14,
      "outputs": [
        {
          "output_type": "display_data",
          "data": {
            "text/plain": [
              "\u001b[1m[\u001b[0m\u001b[1;36m0.01165623\u001b[0m \u001b[1;36m0.03168492\u001b[0m \u001b[1;36m0.08612854\u001b[0m \u001b[1;36m0.23412166\u001b[0m \u001b[1;36m0.63640865\u001b[0m\u001b[1m]\u001b[0m\n"
            ],
            "text/html": [
              "<pre style=\"white-space:pre;overflow-x:auto;line-height:normal;font-family:Menlo,'DejaVu Sans Mono',consolas,'Courier New',monospace\"><span style=\"font-weight: bold\">[</span><span style=\"color: #008080; text-decoration-color: #008080; font-weight: bold\">0.01165623</span> <span style=\"color: #008080; text-decoration-color: #008080; font-weight: bold\">0.03168492</span> <span style=\"color: #008080; text-decoration-color: #008080; font-weight: bold\">0.08612854</span> <span style=\"color: #008080; text-decoration-color: #008080; font-weight: bold\">0.23412166</span> <span style=\"color: #008080; text-decoration-color: #008080; font-weight: bold\">0.63640865</span><span style=\"font-weight: bold\">]</span>\n",
              "</pre>\n"
            ]
          },
          "metadata": {}
        }
      ]
    },
    {
      "cell_type": "markdown",
      "source": [
        "The `temperature` paramater allows us to make the most probable words more probable (temperature < 1) or less probable (temperature > 1) than vanilla softmax (temperature = 1).\n",
        "The formula for softmax with temperature is show below:\n",
        "\n",
        "$$\n",
        "\\text{softmax}(p, T) = \\frac{e^{\\frac{x_i}{T}}}{\\sum_{j=0}^ne^{\\frac{x_j}{T}}}\n",
        "$$\n",
        "\n",
        "All you do is divide everything by T before taking the exponent; larger values of $T$ flatten the distribution, while smaller values of $T$ skew the distribution towards the most probable tokens."
      ],
      "metadata": {
        "id": "3kdVu2JRp1Yi"
      }
    },
    {
      "cell_type": "markdown",
      "source": [
        "### Demo: Softmax with temperature"
      ],
      "metadata": {
        "id": "qNo9GVX_r9g_"
      }
    },
    {
      "cell_type": "code",
      "source": [
        "# Softmax function with temperature parameter\n",
        "def softmax_with_temperature(probs, temperature):\n",
        "    exp_probs = np.exp(np.log(probs) / temperature)\n",
        "    return exp_probs / np.sum(exp_probs)"
      ],
      "metadata": {
        "id": "Wt5DWn9psCqD"
      },
      "execution_count": 15,
      "outputs": []
    },
    {
      "cell_type": "code",
      "source": [
        "import matplotlib.pyplot as plt\n",
        "from ipywidgets import interact\n",
        "\n",
        "# Define a small probability distribution\n",
        "probs = np.array([0.5, 0.3, 0.1, 0.05, 0.05])\n",
        "\n",
        "# Plot the distribution with numbers on top of each bar\n",
        "def plot_distribution(temperature):\n",
        "    adjusted_probs = softmax_with_temperature(probs, temperature)\n",
        "    plt.figure(figsize=(6, 4))\n",
        "    bars = plt.bar(range(len(probs)), adjusted_probs, tick_label=['A', 'B', 'C', 'D', 'E'])\n",
        "    plt.ylim(0, 1)\n",
        "    plt.title(f'Softmax with Temperature = {temperature:.2f}')\n",
        "    plt.ylabel('Probability')\n",
        "    plt.xlabel('Tokens')\n",
        "\n",
        "    # Add numbers on top of each bar\n",
        "    for bar in bars:\n",
        "        yval = bar.get_height()\n",
        "        plt.text(bar.get_x() + bar.get_width()/2, yval, f'{yval:.2f}', ha='center', va='bottom')\n",
        "\n",
        "    plt.show()\n",
        "\n",
        "# Interactive widget\n",
        "interact(plot_distribution, temperature=(0.1, 2.0, 0.1));"
      ],
      "metadata": {
        "id": "pz-eytfxLA6I",
        "colab": {
          "base_uri": "https://localhost:8080/",
          "height": 0,
          "referenced_widgets": [
            "801ec1b00f7c4d20b4176bef14fc51f8",
            "122fb4a897244375afd8b731a6920060",
            "13fd9e957ba64865a65cba199ac5be18",
            "4c49589ae5bb4b48a9cc6b244ee74f30",
            "13f71f6b63924150beba5cd872e0af61",
            "48d65f63e10e491baaa5029b53fd9d2c",
            "8065536cf4f3427e9fb595e375c47546"
          ]
        },
        "outputId": "26085404-0a29-467d-b655-ef02f65a98de"
      },
      "execution_count": 16,
      "outputs": [
        {
          "output_type": "display_data",
          "data": {
            "text/plain": [
              "interactive(children=(FloatSlider(value=1.0, description='temperature', max=2.0, min=0.1), Output()), _dom_cla…"
            ],
            "application/vnd.jupyter.widget-view+json": {
              "version_major": 2,
              "version_minor": 0,
              "model_id": "801ec1b00f7c4d20b4176bef14fc51f8"
            }
          },
          "metadata": {}
        }
      ]
    },
    {
      "cell_type": "markdown",
      "source": [
        "### Demo: Alter the `temperature` parameter\n",
        "\n",
        "In this demo, we generate several messages from the same prompt.\n",
        "If we lower the temperature to 0, what do you notice about the results?\n",
        "What if we raise it above 1.0?"
      ],
      "metadata": {
        "id": "QiAOWzFosPZ0"
      }
    },
    {
      "cell_type": "code",
      "source": [
        "messages = [\n",
        "    {\"role\": \"user\", \"content\": \"Write a python function that reverses as tring. Tell a joke in the docstring!\"},\n",
        "]\n",
        "\n",
        "response = client.chat.completions.create(\n",
        "    model=\"gpt-4o-mini\",\n",
        "    messages=messages,\n",
        "    temperature=1.0, # change this number between 0 and 2 to see the outcome\n",
        "    n=3 # generate 3 choices\n",
        ")"
      ],
      "metadata": {
        "id": "pOnm4SUoKSFu"
      },
      "execution_count": 17,
      "outputs": []
    },
    {
      "cell_type": "code",
      "source": [
        "for choice in response.choices:\n",
        "    print(choice.message.content)\n",
        "    print('\\n\\n' + '='*50 + '\\n')"
      ],
      "metadata": {
        "id": "IJNXwiCmKhJW",
        "colab": {
          "base_uri": "https://localhost:8080/",
          "height": 0
        },
        "outputId": "9d986aca-991a-4f2f-a1eb-d247f014f92c"
      },
      "execution_count": 18,
      "outputs": [
        {
          "output_type": "display_data",
          "data": {
            "text/plain": [
              "Sure! Here's a Python function that reverses a string, along with a joke in the docstring:\n",
              "\n",
              "```python\n",
              "def \u001b[1;35mreverse_string\u001b[0m\u001b[1m(\u001b[0ms\u001b[1m)\u001b[0m:\n",
              "    \u001b[32m\"\"\u001b[0m\"\n",
              "    This function takes a string and returns it reversed.\n",
              "    \n",
              "    Why did the scarecrow win an award?\n",
              "    Because he was outstanding in his field!\n",
              "    \u001b[32m\"\"\u001b[0m\"\n",
              "    return s\u001b[1m[\u001b[0m::\u001b[1;36m-1\u001b[0m\u001b[1m]\u001b[0m\n",
              "\n",
              "# Example usage\n",
              "if __name__ == \u001b[32m\"__main__\"\u001b[0m:\n",
              "    original_string = \u001b[32m\"Hello, World!\"\u001b[0m\n",
              "    reversed_string = \u001b[1;35mreverse_string\u001b[0m\u001b[1m(\u001b[0moriginal_string\u001b[1m)\u001b[0m\n",
              "    \u001b[1;35mprint\u001b[0m\u001b[1m(\u001b[0mreversed_string\u001b[1m)\u001b[0m  # Output: !dlroW ,olleH\n",
              "```\n",
              "\n",
              "Feel free to use this function in your code!\n"
            ],
            "text/html": [
              "<pre style=\"white-space:pre;overflow-x:auto;line-height:normal;font-family:Menlo,'DejaVu Sans Mono',consolas,'Courier New',monospace\">Sure! Here's a Python function that reverses a string, along with a joke in the docstring:\n",
              "\n",
              "```python\n",
              "def <span style=\"color: #800080; text-decoration-color: #800080; font-weight: bold\">reverse_string</span><span style=\"font-weight: bold\">(</span>s<span style=\"font-weight: bold\">)</span>:\n",
              "    <span style=\"color: #008000; text-decoration-color: #008000\">\"\"</span>\"\n",
              "    This function takes a string and returns it reversed.\n",
              "    \n",
              "    Why did the scarecrow win an award?\n",
              "    Because he was outstanding in his field!\n",
              "    <span style=\"color: #008000; text-decoration-color: #008000\">\"\"</span>\"\n",
              "    return s<span style=\"font-weight: bold\">[</span>::<span style=\"color: #008080; text-decoration-color: #008080; font-weight: bold\">-1</span><span style=\"font-weight: bold\">]</span>\n",
              "\n",
              "# Example usage\n",
              "if __name__ == <span style=\"color: #008000; text-decoration-color: #008000\">\"__main__\"</span>:\n",
              "    original_string = <span style=\"color: #008000; text-decoration-color: #008000\">\"Hello, World!\"</span>\n",
              "    reversed_string = <span style=\"color: #800080; text-decoration-color: #800080; font-weight: bold\">reverse_string</span><span style=\"font-weight: bold\">(</span>original_string<span style=\"font-weight: bold\">)</span>\n",
              "    <span style=\"color: #800080; text-decoration-color: #800080; font-weight: bold\">print</span><span style=\"font-weight: bold\">(</span>reversed_string<span style=\"font-weight: bold\">)</span>  # Output: !dlroW ,olleH\n",
              "```\n",
              "\n",
              "Feel free to use this function in your code!\n",
              "</pre>\n"
            ]
          },
          "metadata": {}
        },
        {
          "output_type": "display_data",
          "data": {
            "text/plain": [
              "\n",
              "\n",
              "==================================================\n",
              "\n"
            ],
            "text/html": [
              "<pre style=\"white-space:pre;overflow-x:auto;line-height:normal;font-family:Menlo,'DejaVu Sans Mono',consolas,'Courier New',monospace\">\n",
              "\n",
              "==================================================\n",
              "\n",
              "</pre>\n"
            ]
          },
          "metadata": {}
        },
        {
          "output_type": "display_data",
          "data": {
            "text/plain": [
              "Here's a Python function that reverses a string, along with a joke in the docstring:\n",
              "\n",
              "```python\n",
              "def \u001b[1;35mreverse_string\u001b[0m\u001b[1m(\u001b[0ms\u001b[1m)\u001b[0m:\n",
              "    \u001b[32m\"\"\u001b[0m\"\n",
              "    Reverses the given string.\n",
              "\n",
              "    Why did the programmer quit his job?\n",
              "    Because he didn't get arrays!\n",
              "    \u001b[32m\"\"\u001b[0m\"\n",
              "    return s\u001b[1m[\u001b[0m::\u001b[1;36m-1\u001b[0m\u001b[1m]\u001b[0m\n",
              "\n",
              "# Example usage:\n",
              "reversed_string = \u001b[1;35mreverse_string\u001b[0m\u001b[1m(\u001b[0m\u001b[32m\"Hello, World!\"\u001b[0m\u001b[1m)\u001b[0m\n",
              "\u001b[1;35mprint\u001b[0m\u001b[1m(\u001b[0mreversed_string\u001b[1m)\u001b[0m  # Output: !dlroW ,olleH\n",
              "```\n",
              "\n",
              "This function uses Python's slicing feature to reverse the string efficiently. The joke in the docstring adds a bit\n",
              "of humor to the explanation!\n"
            ],
            "text/html": [
              "<pre style=\"white-space:pre;overflow-x:auto;line-height:normal;font-family:Menlo,'DejaVu Sans Mono',consolas,'Courier New',monospace\">Here's a Python function that reverses a string, along with a joke in the docstring:\n",
              "\n",
              "```python\n",
              "def <span style=\"color: #800080; text-decoration-color: #800080; font-weight: bold\">reverse_string</span><span style=\"font-weight: bold\">(</span>s<span style=\"font-weight: bold\">)</span>:\n",
              "    <span style=\"color: #008000; text-decoration-color: #008000\">\"\"</span>\"\n",
              "    Reverses the given string.\n",
              "\n",
              "    Why did the programmer quit his job?\n",
              "    Because he didn't get arrays!\n",
              "    <span style=\"color: #008000; text-decoration-color: #008000\">\"\"</span>\"\n",
              "    return s<span style=\"font-weight: bold\">[</span>::<span style=\"color: #008080; text-decoration-color: #008080; font-weight: bold\">-1</span><span style=\"font-weight: bold\">]</span>\n",
              "\n",
              "# Example usage:\n",
              "reversed_string = <span style=\"color: #800080; text-decoration-color: #800080; font-weight: bold\">reverse_string</span><span style=\"font-weight: bold\">(</span><span style=\"color: #008000; text-decoration-color: #008000\">\"Hello, World!\"</span><span style=\"font-weight: bold\">)</span>\n",
              "<span style=\"color: #800080; text-decoration-color: #800080; font-weight: bold\">print</span><span style=\"font-weight: bold\">(</span>reversed_string<span style=\"font-weight: bold\">)</span>  # Output: !dlroW ,olleH\n",
              "```\n",
              "\n",
              "This function uses Python's slicing feature to reverse the string efficiently. The joke in the docstring adds a bit\n",
              "of humor to the explanation!\n",
              "</pre>\n"
            ]
          },
          "metadata": {}
        },
        {
          "output_type": "display_data",
          "data": {
            "text/plain": [
              "\n",
              "\n",
              "==================================================\n",
              "\n"
            ],
            "text/html": [
              "<pre style=\"white-space:pre;overflow-x:auto;line-height:normal;font-family:Menlo,'DejaVu Sans Mono',consolas,'Courier New',monospace\">\n",
              "\n",
              "==================================================\n",
              "\n",
              "</pre>\n"
            ]
          },
          "metadata": {}
        },
        {
          "output_type": "display_data",
          "data": {
            "text/plain": [
              "Sure! Here’s a Python function that reverses a string, along with a joke in the docstring:\n",
              "\n",
              "```python\n",
              "def \u001b[1;35mreverse_string\u001b[0m\u001b[1m(\u001b[0ms\u001b[1m)\u001b[0m:\n",
              "    \u001b[32m\"\"\u001b[0m\"\n",
              "    Reverses the given string.\n",
              "\n",
              "    Why do programmers prefer dark mode?\n",
              "    Because light attracts bugs!\n",
              "\n",
              "    Parameters:\n",
              "    s \u001b[1m(\u001b[0mstr\u001b[1m)\u001b[0m: The string to be reversed.\n",
              "\n",
              "    Returns:\n",
              "    str: The reversed string.\n",
              "    \u001b[32m\"\"\u001b[0m\"\n",
              "    return s\u001b[1m[\u001b[0m::\u001b[1;36m-1\u001b[0m\u001b[1m]\u001b[0m\n",
              "```\n",
              "\n",
              "You can use this function by passing a string to it:\n",
              "\n",
              "```python\n",
              "\u001b[1;35mprint\u001b[0m\u001b[1m(\u001b[0m\u001b[1;35mreverse_string\u001b[0m\u001b[1m(\u001b[0m\u001b[32m\"Hello, World!\"\u001b[0m\u001b[1m)\u001b[0m\u001b[1m)\u001b[0m\n",
              "```\n",
              "\n",
              "This will output:\n",
              "\n",
              "```\n",
              "!dlroW ,olleH\n",
              "```\n"
            ],
            "text/html": [
              "<pre style=\"white-space:pre;overflow-x:auto;line-height:normal;font-family:Menlo,'DejaVu Sans Mono',consolas,'Courier New',monospace\">Sure! Here’s a Python function that reverses a string, along with a joke in the docstring:\n",
              "\n",
              "```python\n",
              "def <span style=\"color: #800080; text-decoration-color: #800080; font-weight: bold\">reverse_string</span><span style=\"font-weight: bold\">(</span>s<span style=\"font-weight: bold\">)</span>:\n",
              "    <span style=\"color: #008000; text-decoration-color: #008000\">\"\"</span>\"\n",
              "    Reverses the given string.\n",
              "\n",
              "    Why do programmers prefer dark mode?\n",
              "    Because light attracts bugs!\n",
              "\n",
              "    Parameters:\n",
              "    s <span style=\"font-weight: bold\">(</span>str<span style=\"font-weight: bold\">)</span>: The string to be reversed.\n",
              "\n",
              "    Returns:\n",
              "    str: The reversed string.\n",
              "    <span style=\"color: #008000; text-decoration-color: #008000\">\"\"</span>\"\n",
              "    return s<span style=\"font-weight: bold\">[</span>::<span style=\"color: #008080; text-decoration-color: #008080; font-weight: bold\">-1</span><span style=\"font-weight: bold\">]</span>\n",
              "```\n",
              "\n",
              "You can use this function by passing a string to it:\n",
              "\n",
              "```python\n",
              "<span style=\"color: #800080; text-decoration-color: #800080; font-weight: bold\">print</span><span style=\"font-weight: bold\">(</span><span style=\"color: #800080; text-decoration-color: #800080; font-weight: bold\">reverse_string</span><span style=\"font-weight: bold\">(</span><span style=\"color: #008000; text-decoration-color: #008000\">\"Hello, World!\"</span><span style=\"font-weight: bold\">))</span>\n",
              "```\n",
              "\n",
              "This will output:\n",
              "\n",
              "```\n",
              "!dlroW ,olleH\n",
              "```\n",
              "</pre>\n"
            ]
          },
          "metadata": {}
        },
        {
          "output_type": "display_data",
          "data": {
            "text/plain": [
              "\n",
              "\n",
              "==================================================\n",
              "\n"
            ],
            "text/html": [
              "<pre style=\"white-space:pre;overflow-x:auto;line-height:normal;font-family:Menlo,'DejaVu Sans Mono',consolas,'Courier New',monospace\">\n",
              "\n",
              "==================================================\n",
              "\n",
              "</pre>\n"
            ]
          },
          "metadata": {}
        }
      ]
    },
    {
      "cell_type": "markdown",
      "source": [
        "### Demo: `top_k`\n",
        "\n",
        "In top k sampling, we define the number of tokens we want to consider to sample from.\n",
        "For example if `top_k = 3`, we will take the scores of the top 3 tokens and apply the softmax to only those 3 scores.\n",
        "Run the code block below to see how `top_k` normalizes the scores at different values."
      ],
      "metadata": {
        "id": "WxkYh5ZkYrb-"
      }
    },
    {
      "cell_type": "code",
      "source": [
        "# Define a small probability distribution\n",
        "probs = np.array([0.5, 0.3, 0.1, 0.05, 0.05])\n",
        "\n",
        "# Plot the distribution with numbers on top of each bar\n",
        "def plot_top_k(top_k):\n",
        "    ticks = ['A', 'B', 'C', 'D', 'E']\n",
        "    sorted_probs = np.sort(probs)[::-1]\n",
        "    top_k_probs = sorted_probs[:top_k]\n",
        "    fig, axes = plt.subplots(1, 2, figsize=(12, 5))\n",
        "    adjusted_probs = softmax(probs)\n",
        "    ax = axes[0]\n",
        "    bars = ax.bar(range(len(probs)), adjusted_probs, tick_label=ticks)\n",
        "    ax.set_ylim(0, 1)\n",
        "    ax.set_title('Original Probabilities')\n",
        "    ax.set_ylabel('Probability')\n",
        "    ax.set_xlabel('Token')\n",
        "\n",
        "    # Add numbers on top of each bar\n",
        "    for bar in bars:\n",
        "        yval = bar.get_height()\n",
        "        ax.text(bar.get_x() + bar.get_width()/2, yval, f'{yval:.2f}', ha='center', va='bottom')\n",
        "\n",
        "    ax = axes[1]\n",
        "    if top_k < len(probs):\n",
        "        updated_probs = softmax(probs[:top_k])\n",
        "        bars = ax.bar(range(top_k), updated_probs, tick_label=ticks[:top_k])\n",
        "    else:\n",
        "        bars = ax.bar(range(len(probs)), softmax(probs), tick_label=ticks)\n",
        "    ax.set_ylim(0, 1)\n",
        "    ax.set_title(f'Top {top_k} Probabilities')\n",
        "    ax.set_ylabel('Probability')\n",
        "    ax.set_xlabel('Token')\n",
        "    for bar in bars:\n",
        "        yval = bar.get_height()\n",
        "        ax.text(bar.get_x() + bar.get_width()/2, yval, f'{yval:.2f}', ha='center', va='bottom')\n",
        "\n",
        "    plt.show()\n",
        "\n",
        "# Interactive widget\n",
        "interact(plot_top_k, top_k=(1, len(probs), 1));"
      ],
      "metadata": {
        "colab": {
          "base_uri": "https://localhost:8080/",
          "height": 0,
          "referenced_widgets": [
            "f35a224937424f24857d8fb4314018d1",
            "b36eadc1af72495c890f18b7df3f5d93",
            "632aaa1db0604bc096627444e4588ca1",
            "ab8f3cee19b0427aac788e0d1a060409",
            "0c82abbb7b1f4591a73039ac5f05efe0",
            "85a7f005f6b7463cb94b4b1b3c1baf55",
            "e39d4b8c4a4e4618a6442ebf554c7cec"
          ]
        },
        "id": "uqptc8mIr0hq",
        "outputId": "d93828ee-66f8-4a0e-97f7-acb9d22d45e2"
      },
      "execution_count": 19,
      "outputs": [
        {
          "output_type": "display_data",
          "data": {
            "text/plain": [
              "interactive(children=(IntSlider(value=3, description='top_k', max=5, min=1), Output()), _dom_classes=('widget-…"
            ],
            "application/vnd.jupyter.widget-view+json": {
              "version_major": 2,
              "version_minor": 0,
              "model_id": "f35a224937424f24857d8fb4314018d1"
            }
          },
          "metadata": {}
        }
      ]
    },
    {
      "cell_type": "markdown",
      "source": [
        "### Demo: `top_p` (aka nucleus sampling)\n",
        "\n",
        "`top_p` is similar to `top_k`, but instead of defining the number of tokens to consider, you define a cutoff for cumulative probability.\n",
        "For example, if you have a top_p of 0.6 and score of ('cat', 0.4), ('dog', 0.15), ('llama', 0.1), and ('parakeet', 0.01), you would cut only consider 'cat', 'dog', and 'llama' because 0.4 + 0.15 is less than 0.6, but 0.4 + 0.15 + 0.1 is greater.\n",
        "Because you have a probability cutoff instead of number of tokens, this may mean you have different numbers of tokens considered at each decoding step.\n",
        "\n",
        "Play around with the `top_p` slider below 👇 to get some intuition for how it works."
      ],
      "metadata": {
        "id": "d-x9f33bYvPN"
      }
    },
    {
      "cell_type": "code",
      "source": [
        "# Define a small probability distribution (can simulate a language model's logits)\n",
        "probs = np.array([0.4, 0.2, 0.15, 0.1, 0.08, 0.05, 0.02])\n",
        "\n",
        "# Function to apply top-p filtering with a minimum of one token selected\n",
        "def top_p_filter(probs, p):\n",
        "    sorted_probs = np.sort(probs)[::-1]\n",
        "    cumulative_probs = np.cumsum(sorted_probs)\n",
        "\n",
        "    # Ensure at least one token is selected\n",
        "    if p < sorted_probs[0]:\n",
        "        cutoff = 1\n",
        "    else:\n",
        "        cutoff = np.argmax(cumulative_probs >= p) + 1\n",
        "\n",
        "    filtered_probs = sorted_probs[:cutoff]\n",
        "    return filtered_probs, cutoff\n",
        "\n",
        "# Plot the distribution with top-p filtering\n",
        "def plot_top_p(p):\n",
        "    filtered_probs, cutoff = top_p_filter(probs, p)\n",
        "    normalized_probs = filtered_probs / np.sum(filtered_probs)  # Normalize the selected probabilities\n",
        "\n",
        "    # Create two subplots\n",
        "    fig, axs = plt.subplots(1, 2, figsize=(12, 5))\n",
        "    labels = ['A', 'B', 'C', 'D', 'E', 'F', 'G']\n",
        "\n",
        "    # Plot 1: Original distribution with top-p filtering\n",
        "    bars1 = axs[0].bar(range(len(probs)), np.sort(probs)[::-1], tick_label=labels)\n",
        "    axs[0].set_ylim(0, 1)\n",
        "    axs[0].set_title(f'Top-p Sampling (p = {p:.2f}) - Original Probabilities')\n",
        "    axs[0].set_ylabel('Probability')\n",
        "    axs[0].set_xlabel('Tokens')\n",
        "\n",
        "    # Highlight selected and unselected probabilities\n",
        "    for i, bar in enumerate(bars1):\n",
        "        if i >= cutoff:\n",
        "            bar.set_color('gray')  # Color the bars outside top-p as gray\n",
        "        else:\n",
        "            bar.set_color('blue')  # Highlight the selected probabilities\n",
        "\n",
        "    # Add numbers on top of each bar for original distribution\n",
        "    for bar in bars1:\n",
        "        yval = bar.get_height()\n",
        "        axs[0].text(bar.get_x() + bar.get_width()/2, yval, f'{yval:.2f}', ha='center', va='bottom')\n",
        "\n",
        "    # Plot 2: Normalized probabilities of the selected tokens\n",
        "    bars2 = axs[1].bar(range(len(filtered_probs)), normalized_probs, tick_label=labels[:len(filtered_probs)])\n",
        "    axs[1].set_ylim(0, 1)\n",
        "    axs[1].set_title(f'Normalized Probabilities of Selected Tokens (p = {p:.2f})')\n",
        "    axs[1].set_ylabel('Normalized Probability')\n",
        "    axs[1].set_xlabel('Selected Tokens')\n",
        "\n",
        "    # Add numbers on top of each bar for normalized probabilities\n",
        "    for bar in bars2:\n",
        "        yval = bar.get_height()\n",
        "        axs[1].text(bar.get_x() + bar.get_width()/2, yval, f'{yval:.2f}', ha='center', va='bottom')\n",
        "\n",
        "    plt.tight_layout()\n",
        "    plt.show()\n",
        "\n",
        "# Interactive widget\n",
        "interact(plot_top_p, p=(0.01, 1.0, 0.05));"
      ],
      "metadata": {
        "colab": {
          "base_uri": "https://localhost:8080/",
          "height": 0,
          "referenced_widgets": [
            "d03d7517e2e04567a7f1c312a71349d0",
            "f110466be9b240399444d86f16e5399b",
            "b812da5e98be45ac97ae87629f238813",
            "5e8b7c1b642c4df8b0509b6c60c8c848",
            "548f4ce5abaf4aef9003416a4a0258bd",
            "779a02f25da840928452018d10f18754",
            "f6836e6ff95c43d4b1deba72245feddc"
          ]
        },
        "id": "1nUXAXiPsGlA",
        "outputId": "6365649d-f538-4c6f-81c1-87098f4ccf97"
      },
      "execution_count": 20,
      "outputs": [
        {
          "output_type": "display_data",
          "data": {
            "text/plain": [
              "interactive(children=(FloatSlider(value=0.46, description='p', max=1.0, min=0.01, step=0.05), Output()), _dom_…"
            ],
            "application/vnd.jupyter.widget-view+json": {
              "version_major": 2,
              "version_minor": 0,
              "model_id": "d03d7517e2e04567a7f1c312a71349d0"
            }
          },
          "metadata": {}
        }
      ]
    },
    {
      "cell_type": "markdown",
      "source": [
        "## Exercise: Advanced chatbot with hyperparameter controls\n",
        "\n",
        "Now that you've learned about roles and generation hyperparameters, let's create a new chatbot that allows you to contol at them.\n",
        "Your chatbot must:\n",
        "- allow for control of at least 1 generation hyperparameter (ex: `temperature`)\n",
        "- allow for user input of a system message\n",
        "\n",
        "If this is too easy, try to:\n",
        "- allow for control over `temperature` and `top_p`\n",
        "- improve the UI by putting all the controls in a sidebar\n",
        "- have a `Clear` button that restarts the conversation\n",
        "- add documentation with markdown\n",
        "- implement streaming responses"
      ],
      "metadata": {
        "id": "ktB3q7OrYW72"
      }
    },
    {
      "cell_type": "code",
      "source": [
        "def user(message:str, history:list, system_message:str):\n",
        "    if not history and system_message:\n",
        "        history.append(\n",
        "            {\"role\": \"system\", \"content\": system_message},\n",
        "        )\n",
        "    # Append the user's message to the conversation history\n",
        "    history.append({\"role\": \"user\", \"content\": message})\n",
        "    return \"\", history\n",
        "\n",
        "def bot(history, temperature, top_p):\n",
        "    response = client.chat.completions.create(\n",
        "        model=\"gpt-4o-mini\",\n",
        "        messages=history,\n",
        "        temperature=temperature,\n",
        "        top_p=top_p,\n",
        "        stream=True,\n",
        "    )\n",
        "    history.append({\"role\": \"assistant\", \"content\": \"\"})\n",
        "    for chunk in response:\n",
        "        if chunk.choices[0].delta.content is not None:\n",
        "              history[-1]['content'] += chunk.choices[0].delta.content\n",
        "              yield history\n",
        "\n",
        "def clear():\n",
        "    return \"\", []"
      ],
      "metadata": {
        "id": "ozv16NX5WLzT"
      },
      "execution_count": 21,
      "outputs": []
    },
    {
      "cell_type": "code",
      "source": [
        "with gr.Blocks() as demo:\n",
        "    with gr.Row():\n",
        "        with gr.Column(scale=1):\n",
        "            temperature = gr.Slider(minimum=0, maximum=1, value=0.7, label=\"Temperature\")\n",
        "            top_p = gr.Slider(minimum=0, maximum=1, value=1, label=\"Top p\")\n",
        "            system_message = gr.Textbox(label=\"System message\", value=\"You are a helpful assistant who speaks like a pirate.\")\n",
        "            clear_button = gr.Button(\"Clear messages\")\n",
        "        with gr.Column(scale=3):\n",
        "            chatbot = gr.Chatbot(type='messages')\n",
        "            input = gr.Textbox(label=\"Message\", value=\"\")\n",
        "            input.submit(user, [input, chatbot, system_message], [input, chatbot]).then(\n",
        "                bot, [chatbot, temperature, top_p], chatbot\n",
        "            )\n",
        "            clear_button.click(clear, [], [input, chatbot])\n",
        "\n",
        "demo.launch()\n",
        "\n"
      ],
      "metadata": {
        "id": "S_qTM-_-UkG6",
        "colab": {
          "base_uri": "https://localhost:8080/",
          "height": 646
        },
        "outputId": "1549fdd7-6446-44cf-8468-1126f9671b0b"
      },
      "execution_count": 22,
      "outputs": [
        {
          "output_type": "stream",
          "name": "stdout",
          "text": [
            "Running Gradio in a Colab notebook requires sharing enabled. Automatically setting `share=True` (you can turn this off by setting `share=False` in `launch()` explicitly).\n",
            "\n",
            "Colab notebook detected. To show errors in colab notebook, set debug=True in launch()\n",
            "* Running on public URL: https://944325f63036d61359.gradio.live\n",
            "\n",
            "This share link expires in 72 hours. For free permanent hosting and GPU upgrades, run `gradio deploy` from the terminal in the working directory to deploy to Hugging Face Spaces (https://huggingface.co/spaces)\n"
          ]
        },
        {
          "output_type": "display_data",
          "data": {
            "text/plain": [
              "<IPython.core.display.HTML object>"
            ],
            "text/html": [
              "<div><iframe src=\"https://944325f63036d61359.gradio.live\" width=\"100%\" height=\"500\" allow=\"autoplay; camera; microphone; clipboard-read; clipboard-write;\" frameborder=\"0\" allowfullscreen></iframe></div>"
            ]
          },
          "metadata": {}
        },
        {
          "output_type": "execute_result",
          "data": {
            "text/plain": []
          },
          "metadata": {},
          "execution_count": 22
        }
      ]
    },
    {
      "cell_type": "markdown",
      "source": [
        "# Prompt engineering 1: zero-shot prompting\n",
        "\n",
        "To really benchmark how each of these techniques do, we need a baseline.\n",
        "We will use zero-shot prompting to get a base level of performance on our task.\n",
        "\n",
        "So far, we've been using the low-level `openai` library.\n",
        "However, there are several very competent higher-level libraries that provide great abstractions such as `langchain` and `llama-index`.\n",
        "Today, we'll be using `llama-index` to make our LLM calls a bit easier."
      ],
      "metadata": {
        "id": "koHpg9S2jthm"
      }
    },
    {
      "cell_type": "code",
      "source": [
        "!pip install -qqqq datasets llama-index llama-index-llms-openai"
      ],
      "metadata": {
        "colab": {
          "base_uri": "https://localhost:8080/"
        },
        "id": "Q3CeEJwF12jk",
        "outputId": "06df3e97-3c41-4e44-d185-2c2ba8daf170"
      },
      "execution_count": 24,
      "outputs": [
        {
          "output_type": "stream",
          "name": "stdout",
          "text": [
            "\u001b[?25l   \u001b[90m━━━━━━━━━━━━━━━━━━━━━━━━━━━━━━━━━━━━━━━━\u001b[0m \u001b[32m0.0/480.6 kB\u001b[0m \u001b[31m?\u001b[0m eta \u001b[36m-:--:--\u001b[0m\r\u001b[2K   \u001b[90m━━━━━━━━━━━━━━━━━━━━━━━━━━━━━━━━━━━━━━━━\u001b[0m \u001b[32m480.6/480.6 kB\u001b[0m \u001b[31m32.9 MB/s\u001b[0m eta \u001b[36m0:00:00\u001b[0m\n",
            "\u001b[?25h\u001b[?25l   \u001b[90m━━━━━━━━━━━━━━━━━━━━━━━━━━━━━━━━━━━━━━━━\u001b[0m \u001b[32m0.0/116.3 kB\u001b[0m \u001b[31m?\u001b[0m eta \u001b[36m-:--:--\u001b[0m\r\u001b[2K   \u001b[90m━━━━━━━━━━━━━━━━━━━━━━━━━━━━━━━━━━━━━━━━\u001b[0m \u001b[32m116.3/116.3 kB\u001b[0m \u001b[31m12.3 MB/s\u001b[0m eta \u001b[36m0:00:00\u001b[0m\n",
            "\u001b[?25h\u001b[?25l   \u001b[90m━━━━━━━━━━━━━━━━━━━━━━━━━━━━━━━━━━━━━━━━\u001b[0m \u001b[32m0.0/179.3 kB\u001b[0m \u001b[31m?\u001b[0m eta \u001b[36m-:--:--\u001b[0m\r\u001b[2K   \u001b[90m━━━━━━━━━━━━━━━━━━━━━━━━━━━━━━━━━━━━━━━━\u001b[0m \u001b[32m179.3/179.3 kB\u001b[0m \u001b[31m16.5 MB/s\u001b[0m eta \u001b[36m0:00:00\u001b[0m\n",
            "\u001b[?25h\u001b[?25l   \u001b[90m━━━━━━━━━━━━━━━━━━━━━━━━━━━━━━━━━━━━━━━━\u001b[0m \u001b[32m0.0/1.6 MB\u001b[0m \u001b[31m?\u001b[0m eta \u001b[36m-:--:--\u001b[0m\r\u001b[2K   \u001b[90m━━━━━━━━━━━━━━━━━━━━━━━━━━━━━━━━━━━━━━━━\u001b[0m \u001b[32m1.6/1.6 MB\u001b[0m \u001b[31m77.5 MB/s\u001b[0m eta \u001b[36m0:00:00\u001b[0m\n",
            "\u001b[2K   \u001b[90m━━━━━━━━━━━━━━━━━━━━━━━━━━━━━━━━━━━━━━━━\u001b[0m \u001b[32m1.2/1.2 MB\u001b[0m \u001b[31m70.1 MB/s\u001b[0m eta \u001b[36m0:00:00\u001b[0m\n",
            "\u001b[2K   \u001b[90m━━━━━━━━━━━━━━━━━━━━━━━━━━━━━━━━━━━━━━━━\u001b[0m \u001b[32m134.8/134.8 kB\u001b[0m \u001b[31m14.3 MB/s\u001b[0m eta \u001b[36m0:00:00\u001b[0m\n",
            "\u001b[2K   \u001b[90m━━━━━━━━━━━━━━━━━━━━━━━━━━━━━━━━━━━━━━━━\u001b[0m \u001b[32m1.5/1.5 MB\u001b[0m \u001b[31m78.5 MB/s\u001b[0m eta \u001b[36m0:00:00\u001b[0m\n",
            "\u001b[2K   \u001b[90m━━━━━━━━━━━━━━━━━━━━━━━━━━━━━━━━━━━━━━━━\u001b[0m \u001b[32m194.1/194.1 kB\u001b[0m \u001b[31m18.7 MB/s\u001b[0m eta \u001b[36m0:00:00\u001b[0m\n",
            "\u001b[2K   \u001b[90m━━━━━━━━━━━━━━━━━━━━━━━━━━━━━━━━━━━━━━━━\u001b[0m \u001b[32m176.8/176.8 kB\u001b[0m \u001b[31m17.0 MB/s\u001b[0m eta \u001b[36m0:00:00\u001b[0m\n",
            "\u001b[2K   \u001b[90m━━━━━━━━━━━━━━━━━━━━━━━━━━━━━━━━━━━━━━━━\u001b[0m \u001b[32m295.8/295.8 kB\u001b[0m \u001b[31m26.6 MB/s\u001b[0m eta \u001b[36m0:00:00\u001b[0m\n",
            "\u001b[2K   \u001b[90m━━━━━━━━━━━━━━━━━━━━━━━━━━━━━━━━━━━━━━━━\u001b[0m \u001b[32m1.2/1.2 MB\u001b[0m \u001b[31m67.3 MB/s\u001b[0m eta \u001b[36m0:00:00\u001b[0m\n",
            "\u001b[2K   \u001b[90m━━━━━━━━━━━━━━━━━━━━━━━━━━━━━━━━━━━━━━━━\u001b[0m \u001b[32m49.5/49.5 kB\u001b[0m \u001b[31m4.8 MB/s\u001b[0m eta \u001b[36m0:00:00\u001b[0m\n",
            "\u001b[?25h\u001b[31mERROR: pip's dependency resolver does not currently take into account all the packages that are installed. This behaviour is the source of the following dependency conflicts.\n",
            "gcsfs 2024.10.0 requires fsspec==2024.10.0, but you have fsspec 2024.9.0 which is incompatible.\u001b[0m\u001b[31m\n",
            "\u001b[0m"
          ]
        }
      ]
    },
    {
      "cell_type": "markdown",
      "source": [
        "## Prepare our dataset"
      ],
      "metadata": {
        "id": "cagMwLN4kKVP"
      }
    },
    {
      "cell_type": "code",
      "source": [
        "from datasets import load_dataset\n",
        "\n",
        "def add_rating(example):\n",
        "    example[\"label\"] = example[\"prediction\"][0][\"label\"]\n",
        "    return example\n",
        "\n",
        "# Load the dataset from huggingface\n",
        "ds = load_dataset(\"argilla/uber-reviews\")['train']\n",
        "# Parse the data to just the text and the label\n",
        "ds = ds.map(add_rating).select_columns(['text', 'label'])\n",
        "# Split the data into train, valid, and test\n",
        "valid_size = test_size = int(0.1 * len(ds))\n",
        "ds = ds.train_test_split(test_size=test_size)\n",
        "train = ds['train']\n",
        "test = ds['test']\n",
        "ds = train.train_test_split(test_size=valid_size)\n",
        "train = ds['train']\n",
        "valid = ds['test']\n",
        "\n",
        "print(len(train), len(valid), len(test))"
      ],
      "metadata": {
        "colab": {
          "base_uri": "https://localhost:8080/",
          "height": 161,
          "referenced_widgets": [
            "88f74855297f4d4982767f000c75f2f9",
            "21e92c47553b429d8ddf645667202603",
            "9c856e886c9d4239a48a33f96f178011",
            "a472868ff54d4893bcd6f3a9b07cd611",
            "1899dd56a9d648d4808908f683b439fe",
            "c76462857bd04f77b7aee05222bab56b",
            "e848ede4943047d4b5e5e39266e6b414",
            "d1c86876f3af41b6b15634992ce44e59",
            "6b27847ca6424bd59cccf881c9486e82",
            "59d0221a3e4f495cae7c73c503ca2f69",
            "2c9bae027c9e4eb3bf90ad585a6d2765",
            "23034952a1f040f1918f08c651f78179",
            "0c5853b7186b4c9380a906bfd5b52ec6",
            "18aa7e1278e7473292b97d6b3f20f596",
            "6a6a4609e5f649bc8e66452402dea1d1",
            "5396db88319642c6a16400a2768286a3",
            "cff743fe61334cc2bb1fed00af8f83fb",
            "80caed4806124d3ba3de692647e76e78",
            "e43eecd05e2645d78d1225ae54ee1dc1",
            "a70f3f79df6d457d93d95fb6f37acdff",
            "d1cece6c029b4d9e83b5c93bc8a71c7c",
            "6bb6f4dfbfb04aa19ec5f9224caf61fd",
            "a04205649ae9405c877477c6b581e1f5",
            "1f9b329458e443fdae3d3fd2b59d145f",
            "e80a4a8ddc3a40cd92069c530d4d6923",
            "5804e822e7b741e28dd0febf954ed3af",
            "3b1ef486c5bc45ea8e2f3bf3536323f9",
            "630a53094c4241be82c2496184f10ea7",
            "7f15fa89acf54e91926f23a1380fbb09",
            "7ed56b188c7447089a4b8eb16a7f29e9",
            "16d3d4c43f19418cbbb10bfd65114863",
            "f9ce7fc8fc144dbcb3996f5f22560841",
            "331f8f1bed954e52b58985c81a8ac349",
            "38cda708bb634618b88e190c7e7530c8",
            "744717a4e77d4769a5fe5851c9d1dae4",
            "54131837f30e4a8d97287559412d431f",
            "0d58efd0d9d043abaa961fc87acb33bc",
            "a0a56ba7fe924112a256c40befe5e39b",
            "a2f2bf74e486473187089e845157c413",
            "d3f8091164c94a0e9067ee5166fd5414",
            "22f27dfa59274c14871942f8ecedc2bf",
            "eafdb6f4de124c8ba61cdc5a041701e4",
            "d76c5dc53c2342c3b46188d8c6b6feef",
            "c60db0ae284d43e8a6d5e1fb64b2bd04"
          ]
        },
        "id": "aIu_1OVA0UpS",
        "outputId": "a850bf6e-ec38-43d3-bf6c-b4b28325ca7c"
      },
      "execution_count": 25,
      "outputs": [
        {
          "output_type": "display_data",
          "data": {
            "text/plain": [
              "README.md:   0%|          | 0.00/1.78k [00:00<?, ?B/s]"
            ],
            "application/vnd.jupyter.widget-view+json": {
              "version_major": 2,
              "version_minor": 0,
              "model_id": "88f74855297f4d4982767f000c75f2f9"
            }
          },
          "metadata": {}
        },
        {
          "output_type": "display_data",
          "data": {
            "text/plain": [
              "(…)-00000-of-00001-ada007d4eb4ddc62.parquet:   0%|          | 0.00/1.69M [00:00<?, ?B/s]"
            ],
            "application/vnd.jupyter.widget-view+json": {
              "version_major": 2,
              "version_minor": 0,
              "model_id": "23034952a1f040f1918f08c651f78179"
            }
          },
          "metadata": {}
        },
        {
          "output_type": "display_data",
          "data": {
            "text/plain": [
              "Generating train split:   0%|          | 0/2347 [00:00<?, ? examples/s]"
            ],
            "application/vnd.jupyter.widget-view+json": {
              "version_major": 2,
              "version_minor": 0,
              "model_id": "a04205649ae9405c877477c6b581e1f5"
            }
          },
          "metadata": {}
        },
        {
          "output_type": "display_data",
          "data": {
            "text/plain": [
              "Map:   0%|          | 0/2347 [00:00<?, ? examples/s]"
            ],
            "application/vnd.jupyter.widget-view+json": {
              "version_major": 2,
              "version_minor": 0,
              "model_id": "38cda708bb634618b88e190c7e7530c8"
            }
          },
          "metadata": {}
        },
        {
          "output_type": "display_data",
          "data": {
            "text/plain": [
              "\u001b[1;36m1879\u001b[0m \u001b[1;36m234\u001b[0m \u001b[1;36m234\u001b[0m\n"
            ],
            "text/html": [
              "<pre style=\"white-space:pre;overflow-x:auto;line-height:normal;font-family:Menlo,'DejaVu Sans Mono',consolas,'Courier New',monospace\"><span style=\"color: #008080; text-decoration-color: #008080; font-weight: bold\">1879</span> <span style=\"color: #008080; text-decoration-color: #008080; font-weight: bold\">234</span> <span style=\"color: #008080; text-decoration-color: #008080; font-weight: bold\">234</span>\n",
              "</pre>\n"
            ]
          },
          "metadata": {}
        }
      ]
    },
    {
      "cell_type": "code",
      "source": [
        "train.to_pandas().head(3)"
      ],
      "metadata": {
        "colab": {
          "base_uri": "https://localhost:8080/",
          "height": 143
        },
        "id": "uf6l_lA33OV-",
        "outputId": "d365eeaa-f52b-4120-a06a-bcca75a36843"
      },
      "execution_count": 26,
      "outputs": [
        {
          "output_type": "execute_result",
          "data": {
            "text/plain": [
              "                                                text label\n",
              "0  I've been driving for Uber for a while now and...     1\n",
              "1  When Uber runs over its customers.  Buyer betw...     1\n",
              "2  I schedule two Ubers for a trip to the airport...     1"
            ],
            "text/html": [
              "\n",
              "  <div id=\"df-fb96e5e1-58cc-422c-8f6a-515f748a45d4\" class=\"colab-df-container\">\n",
              "    <div>\n",
              "<style scoped>\n",
              "    .dataframe tbody tr th:only-of-type {\n",
              "        vertical-align: middle;\n",
              "    }\n",
              "\n",
              "    .dataframe tbody tr th {\n",
              "        vertical-align: top;\n",
              "    }\n",
              "\n",
              "    .dataframe thead th {\n",
              "        text-align: right;\n",
              "    }\n",
              "</style>\n",
              "<table border=\"1\" class=\"dataframe\">\n",
              "  <thead>\n",
              "    <tr style=\"text-align: right;\">\n",
              "      <th></th>\n",
              "      <th>text</th>\n",
              "      <th>label</th>\n",
              "    </tr>\n",
              "  </thead>\n",
              "  <tbody>\n",
              "    <tr>\n",
              "      <th>0</th>\n",
              "      <td>I've been driving for Uber for a while now and...</td>\n",
              "      <td>1</td>\n",
              "    </tr>\n",
              "    <tr>\n",
              "      <th>1</th>\n",
              "      <td>When Uber runs over its customers.  Buyer betw...</td>\n",
              "      <td>1</td>\n",
              "    </tr>\n",
              "    <tr>\n",
              "      <th>2</th>\n",
              "      <td>I schedule two Ubers for a trip to the airport...</td>\n",
              "      <td>1</td>\n",
              "    </tr>\n",
              "  </tbody>\n",
              "</table>\n",
              "</div>\n",
              "    <div class=\"colab-df-buttons\">\n",
              "\n",
              "  <div class=\"colab-df-container\">\n",
              "    <button class=\"colab-df-convert\" onclick=\"convertToInteractive('df-fb96e5e1-58cc-422c-8f6a-515f748a45d4')\"\n",
              "            title=\"Convert this dataframe to an interactive table.\"\n",
              "            style=\"display:none;\">\n",
              "\n",
              "  <svg xmlns=\"http://www.w3.org/2000/svg\" height=\"24px\" viewBox=\"0 -960 960 960\">\n",
              "    <path d=\"M120-120v-720h720v720H120Zm60-500h600v-160H180v160Zm220 220h160v-160H400v160Zm0 220h160v-160H400v160ZM180-400h160v-160H180v160Zm440 0h160v-160H620v160ZM180-180h160v-160H180v160Zm440 0h160v-160H620v160Z\"/>\n",
              "  </svg>\n",
              "    </button>\n",
              "\n",
              "  <style>\n",
              "    .colab-df-container {\n",
              "      display:flex;\n",
              "      gap: 12px;\n",
              "    }\n",
              "\n",
              "    .colab-df-convert {\n",
              "      background-color: #E8F0FE;\n",
              "      border: none;\n",
              "      border-radius: 50%;\n",
              "      cursor: pointer;\n",
              "      display: none;\n",
              "      fill: #1967D2;\n",
              "      height: 32px;\n",
              "      padding: 0 0 0 0;\n",
              "      width: 32px;\n",
              "    }\n",
              "\n",
              "    .colab-df-convert:hover {\n",
              "      background-color: #E2EBFA;\n",
              "      box-shadow: 0px 1px 2px rgba(60, 64, 67, 0.3), 0px 1px 3px 1px rgba(60, 64, 67, 0.15);\n",
              "      fill: #174EA6;\n",
              "    }\n",
              "\n",
              "    .colab-df-buttons div {\n",
              "      margin-bottom: 4px;\n",
              "    }\n",
              "\n",
              "    [theme=dark] .colab-df-convert {\n",
              "      background-color: #3B4455;\n",
              "      fill: #D2E3FC;\n",
              "    }\n",
              "\n",
              "    [theme=dark] .colab-df-convert:hover {\n",
              "      background-color: #434B5C;\n",
              "      box-shadow: 0px 1px 3px 1px rgba(0, 0, 0, 0.15);\n",
              "      filter: drop-shadow(0px 1px 2px rgba(0, 0, 0, 0.3));\n",
              "      fill: #FFFFFF;\n",
              "    }\n",
              "  </style>\n",
              "\n",
              "    <script>\n",
              "      const buttonEl =\n",
              "        document.querySelector('#df-fb96e5e1-58cc-422c-8f6a-515f748a45d4 button.colab-df-convert');\n",
              "      buttonEl.style.display =\n",
              "        google.colab.kernel.accessAllowed ? 'block' : 'none';\n",
              "\n",
              "      async function convertToInteractive(key) {\n",
              "        const element = document.querySelector('#df-fb96e5e1-58cc-422c-8f6a-515f748a45d4');\n",
              "        const dataTable =\n",
              "          await google.colab.kernel.invokeFunction('convertToInteractive',\n",
              "                                                    [key], {});\n",
              "        if (!dataTable) return;\n",
              "\n",
              "        const docLinkHtml = 'Like what you see? Visit the ' +\n",
              "          '<a target=\"_blank\" href=https://colab.research.google.com/notebooks/data_table.ipynb>data table notebook</a>'\n",
              "          + ' to learn more about interactive tables.';\n",
              "        element.innerHTML = '';\n",
              "        dataTable['output_type'] = 'display_data';\n",
              "        await google.colab.output.renderOutput(dataTable, element);\n",
              "        const docLink = document.createElement('div');\n",
              "        docLink.innerHTML = docLinkHtml;\n",
              "        element.appendChild(docLink);\n",
              "      }\n",
              "    </script>\n",
              "  </div>\n",
              "\n",
              "\n",
              "<div id=\"df-50712f31-fc49-42a3-8f33-05c8ce107a83\">\n",
              "  <button class=\"colab-df-quickchart\" onclick=\"quickchart('df-50712f31-fc49-42a3-8f33-05c8ce107a83')\"\n",
              "            title=\"Suggest charts\"\n",
              "            style=\"display:none;\">\n",
              "\n",
              "<svg xmlns=\"http://www.w3.org/2000/svg\" height=\"24px\"viewBox=\"0 0 24 24\"\n",
              "     width=\"24px\">\n",
              "    <g>\n",
              "        <path d=\"M19 3H5c-1.1 0-2 .9-2 2v14c0 1.1.9 2 2 2h14c1.1 0 2-.9 2-2V5c0-1.1-.9-2-2-2zM9 17H7v-7h2v7zm4 0h-2V7h2v10zm4 0h-2v-4h2v4z\"/>\n",
              "    </g>\n",
              "</svg>\n",
              "  </button>\n",
              "\n",
              "<style>\n",
              "  .colab-df-quickchart {\n",
              "      --bg-color: #E8F0FE;\n",
              "      --fill-color: #1967D2;\n",
              "      --hover-bg-color: #E2EBFA;\n",
              "      --hover-fill-color: #174EA6;\n",
              "      --disabled-fill-color: #AAA;\n",
              "      --disabled-bg-color: #DDD;\n",
              "  }\n",
              "\n",
              "  [theme=dark] .colab-df-quickchart {\n",
              "      --bg-color: #3B4455;\n",
              "      --fill-color: #D2E3FC;\n",
              "      --hover-bg-color: #434B5C;\n",
              "      --hover-fill-color: #FFFFFF;\n",
              "      --disabled-bg-color: #3B4455;\n",
              "      --disabled-fill-color: #666;\n",
              "  }\n",
              "\n",
              "  .colab-df-quickchart {\n",
              "    background-color: var(--bg-color);\n",
              "    border: none;\n",
              "    border-radius: 50%;\n",
              "    cursor: pointer;\n",
              "    display: none;\n",
              "    fill: var(--fill-color);\n",
              "    height: 32px;\n",
              "    padding: 0;\n",
              "    width: 32px;\n",
              "  }\n",
              "\n",
              "  .colab-df-quickchart:hover {\n",
              "    background-color: var(--hover-bg-color);\n",
              "    box-shadow: 0 1px 2px rgba(60, 64, 67, 0.3), 0 1px 3px 1px rgba(60, 64, 67, 0.15);\n",
              "    fill: var(--button-hover-fill-color);\n",
              "  }\n",
              "\n",
              "  .colab-df-quickchart-complete:disabled,\n",
              "  .colab-df-quickchart-complete:disabled:hover {\n",
              "    background-color: var(--disabled-bg-color);\n",
              "    fill: var(--disabled-fill-color);\n",
              "    box-shadow: none;\n",
              "  }\n",
              "\n",
              "  .colab-df-spinner {\n",
              "    border: 2px solid var(--fill-color);\n",
              "    border-color: transparent;\n",
              "    border-bottom-color: var(--fill-color);\n",
              "    animation:\n",
              "      spin 1s steps(1) infinite;\n",
              "  }\n",
              "\n",
              "  @keyframes spin {\n",
              "    0% {\n",
              "      border-color: transparent;\n",
              "      border-bottom-color: var(--fill-color);\n",
              "      border-left-color: var(--fill-color);\n",
              "    }\n",
              "    20% {\n",
              "      border-color: transparent;\n",
              "      border-left-color: var(--fill-color);\n",
              "      border-top-color: var(--fill-color);\n",
              "    }\n",
              "    30% {\n",
              "      border-color: transparent;\n",
              "      border-left-color: var(--fill-color);\n",
              "      border-top-color: var(--fill-color);\n",
              "      border-right-color: var(--fill-color);\n",
              "    }\n",
              "    40% {\n",
              "      border-color: transparent;\n",
              "      border-right-color: var(--fill-color);\n",
              "      border-top-color: var(--fill-color);\n",
              "    }\n",
              "    60% {\n",
              "      border-color: transparent;\n",
              "      border-right-color: var(--fill-color);\n",
              "    }\n",
              "    80% {\n",
              "      border-color: transparent;\n",
              "      border-right-color: var(--fill-color);\n",
              "      border-bottom-color: var(--fill-color);\n",
              "    }\n",
              "    90% {\n",
              "      border-color: transparent;\n",
              "      border-bottom-color: var(--fill-color);\n",
              "    }\n",
              "  }\n",
              "</style>\n",
              "\n",
              "  <script>\n",
              "    async function quickchart(key) {\n",
              "      const quickchartButtonEl =\n",
              "        document.querySelector('#' + key + ' button');\n",
              "      quickchartButtonEl.disabled = true;  // To prevent multiple clicks.\n",
              "      quickchartButtonEl.classList.add('colab-df-spinner');\n",
              "      try {\n",
              "        const charts = await google.colab.kernel.invokeFunction(\n",
              "            'suggestCharts', [key], {});\n",
              "      } catch (error) {\n",
              "        console.error('Error during call to suggestCharts:', error);\n",
              "      }\n",
              "      quickchartButtonEl.classList.remove('colab-df-spinner');\n",
              "      quickchartButtonEl.classList.add('colab-df-quickchart-complete');\n",
              "    }\n",
              "    (() => {\n",
              "      let quickchartButtonEl =\n",
              "        document.querySelector('#df-50712f31-fc49-42a3-8f33-05c8ce107a83 button');\n",
              "      quickchartButtonEl.style.display =\n",
              "        google.colab.kernel.accessAllowed ? 'block' : 'none';\n",
              "    })();\n",
              "  </script>\n",
              "</div>\n",
              "\n",
              "    </div>\n",
              "  </div>\n"
            ],
            "application/vnd.google.colaboratory.intrinsic+json": {
              "type": "dataframe",
              "summary": "{\n  \"name\": \"train\",\n  \"rows\": 3,\n  \"fields\": [\n    {\n      \"column\": \"text\",\n      \"properties\": {\n        \"dtype\": \"string\",\n        \"num_unique_values\": 3,\n        \"samples\": [\n          \"I've been driving for Uber for a while now and the Uber navigation application is a total disappointment. When you accept a rider request the address for the rider disappears from the application screen leaving you at the mercy of the Uber application which doesn't navigate very well. So you don't have time to enter it in your vehicle GPS application. Then the Uber application routes you to the wrong location and doesn't understand what direction your car is actually going I used both Google maps and Waze applications and had the same issue. The Uber application doesn't interface with either well and has you going in circles quite often. Uber will waste your time and money when you make some. Uber gets a big portion of it in fees. They should have done a better job of development. My car GPS runs circles around Uber's application and has no problems getting me to specific addresses. So what's wrong with Uber's application?\",\n          \"When Uber runs over its customers.  Buyer betware - Ueber is not all that is seems.  At first I liked it. Ninety percent of the drivers are decent hard working honest people.  But it's a crap shoot.  I'd estimate ten percent are unscroupulous and should you ride with one of them Uber has no customer support.  There's no phone whereby you can reach the driver or company.  Case in point:  Take Bill an apparently affable guy who will offer you a beverage on the way to your destination.  Bill drives a Grand Cherokee and all indicators indicate that he is a criminal or accomplice to a crime.  When Bill dropped me off at Planet Fitness I immediately noticed I left my bag containing an IPod and Bose headphones in the back seat. About $600 worth of equipment.  I tried to wave him down but he wouldn't stop.  Since then I have sent over 30 texts to him, the local Ueber office, and the corporate hub in Stamford.  I even asked the Stamford police to investigate.  As of this moment neither Bill nor Uebr care about larceny and they have no moral compass or desire for customer service.  The car will get you from point A to poing B but after that your on your own.  Uber won't lift a finger to help.  Do you reaally want to take a chance with this company when you have your wallet, or keys, or handbag, or smartphone, or lose engagement ring on your finger? The smart answer is no. Bill is still out there. Lyft is the same as Uber.  I'll check later today but smart money says they are much more conscientious than Uber who thinks its customer service is of no importance, even when expensive items disapper in one of their cars.\",\n          \"I schedule two Ubers for a trip to the airport for a group of 6. The first Uber arrived and took half of the group. The second Uber was late. As per their policy, I was credited $10 for being late. I could see the Uber coming up the street, then turn around and cancel us. He said he had car trouble. My guess is he had just been notified he lost $10 for running late and decided not to complete the ride. There were no other rides available for more than an hour. We had to drive ourselves and pay for parking for the entire trip, plus pay for the additional Uber which we would not have needed if I knew we were driving ourselves. Uber just sent a canned response/apology. Unacceptable service!\"\n        ],\n        \"semantic_type\": \"\",\n        \"description\": \"\"\n      }\n    },\n    {\n      \"column\": \"label\",\n      \"properties\": {\n        \"dtype\": \"category\",\n        \"num_unique_values\": 1,\n        \"samples\": [\n          \"1\"\n        ],\n        \"semantic_type\": \"\",\n        \"description\": \"\"\n      }\n    }\n  ]\n}"
            }
          },
          "metadata": {},
          "execution_count": 26
        }
      ]
    },
    {
      "cell_type": "markdown",
      "source": [
        "## Zero-shot prompt"
      ],
      "metadata": {
        "id": "FMAydzy6kT2k"
      }
    },
    {
      "cell_type": "code",
      "source": [
        "from llama_index.core.schema import TextNode\n",
        "from llama_index.core import PromptTemplate\n",
        "from llama_index.core.prompts import ChatMessage\n",
        "from llama_index.llms.openai import OpenAI\n",
        "from pydantic import BaseModel, Field\n",
        "from IPython.display import display\n",
        "import asyncio"
      ],
      "metadata": {
        "id": "gBcNdIaW2ejj"
      },
      "execution_count": 27,
      "outputs": []
    },
    {
      "cell_type": "code",
      "source": [
        "prompt_tmpl_str = \"\"\"\\\n",
        "The review text is below.\n",
        "---------------------\n",
        "{review}\n",
        "---------------------\n",
        "Given the context information and not prior knowledge, \\\n",
        "please attempt to predict the review score of the context.\n",
        "\n",
        "Query: What is the rating of this review?\n",
        "Answer: \\\n",
        "\"\"\"\n",
        "\n",
        "prompt_tmpl = PromptTemplate(\n",
        "    prompt_tmpl_str,\n",
        ")"
      ],
      "metadata": {
        "id": "9KNSnSPikdh1"
      },
      "execution_count": 29,
      "outputs": []
    },
    {
      "cell_type": "code",
      "source": [
        "class Rating(BaseModel):\n",
        "    rating: int = Field(..., description=\"Rating of the review\", enum=[1, 2, 3, 4, 5])\n",
        "\n",
        "llm = OpenAI(model=\"gpt-4o-mini\")\n",
        "zero_shot_structured_llm = llm.as_structured_llm(Rating)"
      ],
      "metadata": {
        "id": "0rJk61JskmHa"
      },
      "execution_count": 30,
      "outputs": []
    },
    {
      "cell_type": "code",
      "source": [
        "from sklearn.metrics import ConfusionMatrixDisplay, confusion_matrix, classification_report\n",
        "\n",
        "async def predict_and_evaluate(predict_fn):\n",
        "    labels = [int(x) for x in valid['label']]\n",
        "    tasks = [\n",
        "        predict_fn(text)\n",
        "        for text in valid['text']\n",
        "    ]\n",
        "    predictions = await asyncio.gather(*tasks)\n",
        "    cm = ConfusionMatrixDisplay.from_predictions(labels, predictions, normalize='true')\n",
        "    cr = classification_report(labels, predictions)\n",
        "    return labels, predictions, cm, cr"
      ],
      "metadata": {
        "id": "yImq_5z9kulX"
      },
      "execution_count": 31,
      "outputs": []
    },
    {
      "cell_type": "code",
      "source": [
        "async def zero_shot_predict(text):\n",
        "    messages = [\n",
        "        ChatMessage.from_str(prompt_tmpl.format(review=text))\n",
        "    ]\n",
        "    response = await zero_shot_structured_llm.achat(messages)\n",
        "    return response.raw.rating"
      ],
      "metadata": {
        "id": "idqg4yf-lPDi"
      },
      "execution_count": 19,
      "outputs": []
    },
    {
      "cell_type": "code",
      "source": [
        "zero_shot_labels, zero_shot_predictions, zero_shot_cm, zero_shot_cr = await predict_and_evaluate(zero_shot_predict)\n",
        "print(zero_shot_cr)"
      ],
      "metadata": {
        "colab": {
          "base_uri": "https://localhost:8080/",
          "height": 663
        },
        "id": "8bOBOElala6d",
        "outputId": "e515ff76-ab6c-4898-9c54-b5fb53bd09d7"
      },
      "execution_count": 22,
      "outputs": [
        {
          "output_type": "display_data",
          "data": {
            "text/plain": [
              "<sklearn.metrics._plot.confusion_matrix.ConfusionMatrixDisplay at 0x7848e9cb4070>"
            ]
          },
          "metadata": {}
        },
        {
          "output_type": "display_data",
          "data": {
            "text/plain": [
              "              precision    recall  f1-score   support\n",
              "\n",
              "           \u001b[1;36m1\u001b[0m       \u001b[1;36m0.94\u001b[0m      \u001b[1;36m0.90\u001b[0m      \u001b[1;36m0.92\u001b[0m       \u001b[1;36m179\u001b[0m\n",
              "           \u001b[1;36m2\u001b[0m       \u001b[1;36m0.21\u001b[0m      \u001b[1;36m0.45\u001b[0m      \u001b[1;36m0.29\u001b[0m        \u001b[1;36m11\u001b[0m\n",
              "           \u001b[1;36m3\u001b[0m       \u001b[1;36m0.50\u001b[0m      \u001b[1;36m0.30\u001b[0m      \u001b[1;36m0.38\u001b[0m        \u001b[1;36m10\u001b[0m\n",
              "           \u001b[1;36m4\u001b[0m       \u001b[1;36m0.43\u001b[0m      \u001b[1;36m0.75\u001b[0m      \u001b[1;36m0.55\u001b[0m         \u001b[1;36m8\u001b[0m\n",
              "           \u001b[1;36m5\u001b[0m       \u001b[1;36m0.89\u001b[0m      \u001b[1;36m0.65\u001b[0m      \u001b[1;36m0.76\u001b[0m        \u001b[1;36m26\u001b[0m\n",
              "\n",
              "    accuracy                           \u001b[1;36m0.82\u001b[0m       \u001b[1;36m234\u001b[0m\n",
              "   macro avg       \u001b[1;36m0.59\u001b[0m      \u001b[1;36m0.61\u001b[0m      \u001b[1;36m0.58\u001b[0m       \u001b[1;36m234\u001b[0m\n",
              "weighted avg       \u001b[1;36m0.87\u001b[0m      \u001b[1;36m0.82\u001b[0m      \u001b[1;36m0.84\u001b[0m       \u001b[1;36m234\u001b[0m\n",
              "\n"
            ],
            "text/html": [
              "<pre style=\"white-space:pre;overflow-x:auto;line-height:normal;font-family:Menlo,'DejaVu Sans Mono',consolas,'Courier New',monospace\">              precision    recall  f1-score   support\n",
              "\n",
              "           <span style=\"color: #008080; text-decoration-color: #008080; font-weight: bold\">1</span>       <span style=\"color: #008080; text-decoration-color: #008080; font-weight: bold\">0.94</span>      <span style=\"color: #008080; text-decoration-color: #008080; font-weight: bold\">0.90</span>      <span style=\"color: #008080; text-decoration-color: #008080; font-weight: bold\">0.92</span>       <span style=\"color: #008080; text-decoration-color: #008080; font-weight: bold\">179</span>\n",
              "           <span style=\"color: #008080; text-decoration-color: #008080; font-weight: bold\">2</span>       <span style=\"color: #008080; text-decoration-color: #008080; font-weight: bold\">0.21</span>      <span style=\"color: #008080; text-decoration-color: #008080; font-weight: bold\">0.45</span>      <span style=\"color: #008080; text-decoration-color: #008080; font-weight: bold\">0.29</span>        <span style=\"color: #008080; text-decoration-color: #008080; font-weight: bold\">11</span>\n",
              "           <span style=\"color: #008080; text-decoration-color: #008080; font-weight: bold\">3</span>       <span style=\"color: #008080; text-decoration-color: #008080; font-weight: bold\">0.50</span>      <span style=\"color: #008080; text-decoration-color: #008080; font-weight: bold\">0.30</span>      <span style=\"color: #008080; text-decoration-color: #008080; font-weight: bold\">0.38</span>        <span style=\"color: #008080; text-decoration-color: #008080; font-weight: bold\">10</span>\n",
              "           <span style=\"color: #008080; text-decoration-color: #008080; font-weight: bold\">4</span>       <span style=\"color: #008080; text-decoration-color: #008080; font-weight: bold\">0.43</span>      <span style=\"color: #008080; text-decoration-color: #008080; font-weight: bold\">0.75</span>      <span style=\"color: #008080; text-decoration-color: #008080; font-weight: bold\">0.55</span>         <span style=\"color: #008080; text-decoration-color: #008080; font-weight: bold\">8</span>\n",
              "           <span style=\"color: #008080; text-decoration-color: #008080; font-weight: bold\">5</span>       <span style=\"color: #008080; text-decoration-color: #008080; font-weight: bold\">0.89</span>      <span style=\"color: #008080; text-decoration-color: #008080; font-weight: bold\">0.65</span>      <span style=\"color: #008080; text-decoration-color: #008080; font-weight: bold\">0.76</span>        <span style=\"color: #008080; text-decoration-color: #008080; font-weight: bold\">26</span>\n",
              "\n",
              "    accuracy                           <span style=\"color: #008080; text-decoration-color: #008080; font-weight: bold\">0.82</span>       <span style=\"color: #008080; text-decoration-color: #008080; font-weight: bold\">234</span>\n",
              "   macro avg       <span style=\"color: #008080; text-decoration-color: #008080; font-weight: bold\">0.59</span>      <span style=\"color: #008080; text-decoration-color: #008080; font-weight: bold\">0.61</span>      <span style=\"color: #008080; text-decoration-color: #008080; font-weight: bold\">0.58</span>       <span style=\"color: #008080; text-decoration-color: #008080; font-weight: bold\">234</span>\n",
              "weighted avg       <span style=\"color: #008080; text-decoration-color: #008080; font-weight: bold\">0.87</span>      <span style=\"color: #008080; text-decoration-color: #008080; font-weight: bold\">0.82</span>      <span style=\"color: #008080; text-decoration-color: #008080; font-weight: bold\">0.84</span>       <span style=\"color: #008080; text-decoration-color: #008080; font-weight: bold\">234</span>\n",
              "\n",
              "</pre>\n"
            ]
          },
          "metadata": {}
        },
        {
          "output_type": "display_data",
          "data": {
            "text/plain": [
              "<Figure size 640x480 with 2 Axes>"
            ],
            "image/png": "[encoded data removed]"
          },
          "metadata": {}
        }
      ]
    },
    {
      "cell_type": "markdown",
      "source": [
        "# Prompt engineering 2: zero-shot chain-of-thought (CoT) prompting"
      ],
      "metadata": {
        "id": "zOcCGv1qjybF"
      }
    },
    {
      "cell_type": "code",
      "source": [
        "class RatingWithRationale(BaseModel):\n",
        "    rationale: str = Field(..., description=\"Brief for the rating\")\n",
        "    rating: int = Field(..., description=\"Rating of the review\", enum=[1, 2, 3, 4, 5])\n",
        "\n",
        "llm = OpenAI(model=\"gpt-4o-mini\")\n",
        "zero_shot_cot_structured_llm = llm.as_structured_llm(RatingWithRationale)"
      ],
      "metadata": {
        "id": "tb1c_YlWqTgu"
      },
      "execution_count": 32,
      "outputs": []
    },
    {
      "cell_type": "code",
      "source": [
        "cot_prompt_tmpl_str = \"\"\"\\\n",
        "The review text is below.\n",
        "---------------------\n",
        "{review}\n",
        "---------------------\n",
        "Given the context information and not prior knowledge, \\\n",
        "please attempt to analyze the text and provide rationale as to \\\n",
        "why it might be a good or bad review. \\\n",
        "Then, finally predict the rating associated with the review.\n",
        "\n",
        "Let's think step by step: \\\n",
        "\"\"\"\n",
        "\n",
        "cot_prompt_tmpl = PromptTemplate(\n",
        "    cot_prompt_tmpl_str,\n",
        ")"
      ],
      "metadata": {
        "id": "uJQlcgn8qgVE"
      },
      "execution_count": 33,
      "outputs": []
    },
    {
      "cell_type": "code",
      "source": [
        "async def zero_shot_cot_predict(text):\n",
        "    messages = [\n",
        "        ChatMessage.from_str(cot_prompt_tmpl.format(review=text))\n",
        "    ]\n",
        "    response = await zero_shot_cot_structured_llm.achat(messages)\n",
        "    return response.raw.rating"
      ],
      "metadata": {
        "id": "Afok5R13qri9"
      },
      "execution_count": 34,
      "outputs": []
    },
    {
      "cell_type": "code",
      "source": [
        "zero_shot_cot_labels, zero_shot_cot_predictions, zero_shot_cot_cm, zero_shot_cot_cr = await predict_and_evaluate(zero_shot_cot_predict)\n",
        "print(zero_shot_cot_cr)"
      ],
      "metadata": {
        "colab": {
          "base_uri": "https://localhost:8080/",
          "height": 646
        },
        "id": "H5wCcyroqyvP",
        "outputId": "d9171a65-5d5e-443b-a18c-346645b1a26a"
      },
      "execution_count": 35,
      "outputs": [
        {
          "output_type": "display_data",
          "data": {
            "text/plain": [
              "              precision    recall  f1-score   support\n",
              "\n",
              "           \u001b[1;36m1\u001b[0m       \u001b[1;36m0.92\u001b[0m      \u001b[1;36m0.87\u001b[0m      \u001b[1;36m0.90\u001b[0m       \u001b[1;36m182\u001b[0m\n",
              "           \u001b[1;36m2\u001b[0m       \u001b[1;36m0.23\u001b[0m      \u001b[1;36m0.37\u001b[0m      \u001b[1;36m0.29\u001b[0m        \u001b[1;36m19\u001b[0m\n",
              "           \u001b[1;36m3\u001b[0m       \u001b[1;36m0.33\u001b[0m      \u001b[1;36m0.12\u001b[0m      \u001b[1;36m0.18\u001b[0m         \u001b[1;36m8\u001b[0m\n",
              "           \u001b[1;36m4\u001b[0m       \u001b[1;36m0.33\u001b[0m      \u001b[1;36m0.50\u001b[0m      \u001b[1;36m0.40\u001b[0m         \u001b[1;36m6\u001b[0m\n",
              "           \u001b[1;36m5\u001b[0m       \u001b[1;36m0.84\u001b[0m      \u001b[1;36m0.84\u001b[0m      \u001b[1;36m0.84\u001b[0m        \u001b[1;36m19\u001b[0m\n",
              "\n",
              "    accuracy                           \u001b[1;36m0.79\u001b[0m       \u001b[1;36m234\u001b[0m\n",
              "   macro avg       \u001b[1;36m0.53\u001b[0m      \u001b[1;36m0.54\u001b[0m      \u001b[1;36m0.52\u001b[0m       \u001b[1;36m234\u001b[0m\n",
              "weighted avg       \u001b[1;36m0.82\u001b[0m      \u001b[1;36m0.79\u001b[0m      \u001b[1;36m0.80\u001b[0m       \u001b[1;36m234\u001b[0m\n",
              "\n"
            ],
            "text/html": [
              "<pre style=\"white-space:pre;overflow-x:auto;line-height:normal;font-family:Menlo,'DejaVu Sans Mono',consolas,'Courier New',monospace\">              precision    recall  f1-score   support\n",
              "\n",
              "           <span style=\"color: #008080; text-decoration-color: #008080; font-weight: bold\">1</span>       <span style=\"color: #008080; text-decoration-color: #008080; font-weight: bold\">0.92</span>      <span style=\"color: #008080; text-decoration-color: #008080; font-weight: bold\">0.87</span>      <span style=\"color: #008080; text-decoration-color: #008080; font-weight: bold\">0.90</span>       <span style=\"color: #008080; text-decoration-color: #008080; font-weight: bold\">182</span>\n",
              "           <span style=\"color: #008080; text-decoration-color: #008080; font-weight: bold\">2</span>       <span style=\"color: #008080; text-decoration-color: #008080; font-weight: bold\">0.23</span>      <span style=\"color: #008080; text-decoration-color: #008080; font-weight: bold\">0.37</span>      <span style=\"color: #008080; text-decoration-color: #008080; font-weight: bold\">0.29</span>        <span style=\"color: #008080; text-decoration-color: #008080; font-weight: bold\">19</span>\n",
              "           <span style=\"color: #008080; text-decoration-color: #008080; font-weight: bold\">3</span>       <span style=\"color: #008080; text-decoration-color: #008080; font-weight: bold\">0.33</span>      <span style=\"color: #008080; text-decoration-color: #008080; font-weight: bold\">0.12</span>      <span style=\"color: #008080; text-decoration-color: #008080; font-weight: bold\">0.18</span>         <span style=\"color: #008080; text-decoration-color: #008080; font-weight: bold\">8</span>\n",
              "           <span style=\"color: #008080; text-decoration-color: #008080; font-weight: bold\">4</span>       <span style=\"color: #008080; text-decoration-color: #008080; font-weight: bold\">0.33</span>      <span style=\"color: #008080; text-decoration-color: #008080; font-weight: bold\">0.50</span>      <span style=\"color: #008080; text-decoration-color: #008080; font-weight: bold\">0.40</span>         <span style=\"color: #008080; text-decoration-color: #008080; font-weight: bold\">6</span>\n",
              "           <span style=\"color: #008080; text-decoration-color: #008080; font-weight: bold\">5</span>       <span style=\"color: #008080; text-decoration-color: #008080; font-weight: bold\">0.84</span>      <span style=\"color: #008080; text-decoration-color: #008080; font-weight: bold\">0.84</span>      <span style=\"color: #008080; text-decoration-color: #008080; font-weight: bold\">0.84</span>        <span style=\"color: #008080; text-decoration-color: #008080; font-weight: bold\">19</span>\n",
              "\n",
              "    accuracy                           <span style=\"color: #008080; text-decoration-color: #008080; font-weight: bold\">0.79</span>       <span style=\"color: #008080; text-decoration-color: #008080; font-weight: bold\">234</span>\n",
              "   macro avg       <span style=\"color: #008080; text-decoration-color: #008080; font-weight: bold\">0.53</span>      <span style=\"color: #008080; text-decoration-color: #008080; font-weight: bold\">0.54</span>      <span style=\"color: #008080; text-decoration-color: #008080; font-weight: bold\">0.52</span>       <span style=\"color: #008080; text-decoration-color: #008080; font-weight: bold\">234</span>\n",
              "weighted avg       <span style=\"color: #008080; text-decoration-color: #008080; font-weight: bold\">0.82</span>      <span style=\"color: #008080; text-decoration-color: #008080; font-weight: bold\">0.79</span>      <span style=\"color: #008080; text-decoration-color: #008080; font-weight: bold\">0.80</span>       <span style=\"color: #008080; text-decoration-color: #008080; font-weight: bold\">234</span>\n",
              "\n",
              "</pre>\n"
            ]
          },
          "metadata": {}
        },
        {
          "output_type": "display_data",
          "data": {
            "text/plain": [
              "<Figure size 640x480 with 2 Axes>"
            ],
            "image/png": "[encoded data removed]"
          },
          "metadata": {}
        }
      ]
    },
    {
      "cell_type": "markdown",
      "source": [
        "# Prompt engineering 3: few-shot promting"
      ],
      "metadata": {
        "id": "0vnpPQUOZpPX"
      }
    },
    {
      "cell_type": "markdown",
      "source": [
        "In the following cell, we load and parse the data.\n",
        "The data here is uber reviews"
      ],
      "metadata": {
        "id": "W-_rhqOV7lzY"
      }
    },
    {
      "cell_type": "code",
      "source": [
        "train_nodes = [\n",
        "    TextNode(\n",
        "        text=row['text'],\n",
        "        metadata={\n",
        "            \"rating\": row['label'],\n",
        "        }\n",
        "    )\n",
        "    for row in ds['train']\n",
        "]"
      ],
      "metadata": {
        "id": "5HfKiC5M5axh"
      },
      "execution_count": 36,
      "outputs": []
    },
    {
      "cell_type": "code",
      "source": [
        "def random_few_shot_examples_fn(**kwargs):\n",
        "    retrieved_nodes = np.random.choice(train_nodes, size=5)\n",
        "    result_strs = []\n",
        "    for node in retrieved_nodes:\n",
        "        result_strs.append(f\"Text: {node.text}\\nRating: {node.metadata.get('rating')}\")\n",
        "    return \"\\n\\n\".join(result_strs)"
      ],
      "metadata": {
        "id": "OGLdG-Hz3a4h"
      },
      "execution_count": 37,
      "outputs": []
    },
    {
      "cell_type": "code",
      "source": [
        "print(random_few_shot_examples_fn())"
      ],
      "metadata": {
        "colab": {
          "base_uri": "https://localhost:8080/",
          "height": 543
        },
        "id": "dYCRyZFT48eM",
        "outputId": "9850f882-1a3a-4a2a-b7fe-0a150f470c90"
      },
      "execution_count": 38,
      "outputs": [
        {
          "output_type": "display_data",
          "data": {
            "text/plain": [
              "Text: I asked to be picked up from Uber on \u001b[1;36m2\u001b[0m/\u001b[1;36m13\u001b[0m/\u001b[1;36m18\u001b[0m. It was really cold out that day. When I made my appointment \n",
              "they said \u001b[1;36m5\u001b[0m min away. I waited \u001b[1;36m20\u001b[0m min. Then I got a phone call from the driver saying he wouldn't be able to pick \n",
              "me up. This happened \u001b[1;36m3\u001b[0m times with other drivers! I finally got a guy to pick me up. After bribing him with a big \n",
              "tip. Then I get the charge from Uber it was more than it was supposed to be. Come to find out after complaining \n",
              "they bumped me up to UberXL. Even after telling them everything I went through to get a driver to pick me up and \n",
              "that I didn't order XL they still would give me back the extra money they charged me. This company is a joke and \n",
              "wouldn't recommend anyone to use this service. I give it no stars!\n",
              "Rating: \u001b[1;36m1\u001b[0m\n",
              "\n",
              "Text: Driver passed me up then showed her on her way back then all of a sudden nothing. By cancelling it wanted to \n",
              "charge me \u001b[1;36m5.00\u001b[0m$. Lost a ton of time and now I have to miss work. Because I didnt pick up my car before closing. \n",
              "Your driver just cost me a days work. Not happy!!! Lic plate#**.\n",
              "Rating: \u001b[1;36m1\u001b[0m\n",
              "\n",
              "Text: I've made the same journey multiple times. On one occasion I trusted Uber to reflect my pick up location \n",
              "rather than my position when I requested the ride. When I request the ride the quote given is around $\u001b[1;36m48\u001b[0m but \n",
              "usually from my pick up location it's about $\u001b[1;36m11\u001b[0m-\u001b[1;36m12\u001b[0m. They refunded $\u001b[1;36m10\u001b[0m for a change in route. Here's all my journeys\n",
              "below showing an obvious trend with - hiccup on this mentioned ride. The help desk keeps blaming price rises but \n",
              "that's a \u001b[1;36m350\u001b[0m% price rise!!! 6th March at \u001b[1;36m1803\u001b[0m cost $\u001b[1;36m11.77\u001b[0m. 4th March at \u001b[1;36m1808\u001b[0m cost $\u001b[1;36m48.22\u001b[0m but they gave me $\u001b[1;36m10\u001b[0m back.\n",
              "4th March at \u001b[1;36m1041\u001b[0m cost $\u001b[1;36m11.19\u001b[0m. 28th February at \u001b[1;36m1807\u001b[0m cost $\u001b[1;36m11.44\u001b[0m. 26th February at \u001b[1;36m1811\u001b[0m cost $\u001b[1;36m11.64\u001b[0m. 19th February \n",
              "at \u001b[1;36m1809\u001b[0m cost $\u001b[1;36m11.95\u001b[0m. 13th February at \u001b[1;36m1805\u001b[0m cost $\u001b[1;36m11.69\u001b[0m. 12th February at \u001b[1;36m1803\u001b[0m cost $\u001b[1;36m11.63\u001b[0m.\n",
              "Rating: \u001b[1;36m1\u001b[0m\n",
              "\n",
              "Text: Tonight at \u001b[1;36m1\u001b[0m am while coming back from phoenix market city i put my phone on charging and forgot to take \n",
              "it\u001b[33m...\u001b[0mi called the cab driver after \u001b[1;36m15\u001b[0m mins asking for the phone and he started giving random excuses\u001b[33m...\u001b[0m.i called \n",
              "the police as well and plan to file an fir tomorrow morning\u001b[33m...\u001b[0mhis name is manjunath and his number is *******\u001b[1;36m422\u001b[0m\n",
              "Rating: \u001b[1;36m1\u001b[0m\n",
              "\n",
              "Text: Uber takes the WORST routes! They will take you in circles, then bring you back to your starting point to \n",
              "pick up another rider to make $\u001b[1;36m2\u001b[0m. LYFT is no better! Cant wait for more competitors to join the market. Maybe then \n",
              "theyll take their customers best interests into consideration.\n",
              "Rating: \u001b[1;36m1\u001b[0m\n"
            ],
            "text/html": [
              "<pre style=\"white-space:pre;overflow-x:auto;line-height:normal;font-family:Menlo,'DejaVu Sans Mono',consolas,'Courier New',monospace\">Text: I asked to be picked up from Uber on <span style=\"color: #008080; text-decoration-color: #008080; font-weight: bold\">2</span>/<span style=\"color: #008080; text-decoration-color: #008080; font-weight: bold\">13</span>/<span style=\"color: #008080; text-decoration-color: #008080; font-weight: bold\">18</span>. It was really cold out that day. When I made my appointment \n",
              "they said <span style=\"color: #008080; text-decoration-color: #008080; font-weight: bold\">5</span> min away. I waited <span style=\"color: #008080; text-decoration-color: #008080; font-weight: bold\">20</span> min. Then I got a phone call from the driver saying he wouldn't be able to pick \n",
              "me up. This happened <span style=\"color: #008080; text-decoration-color: #008080; font-weight: bold\">3</span> times with other drivers! I finally got a guy to pick me up. After bribing him with a big \n",
              "tip. Then I get the charge from Uber it was more than it was supposed to be. Come to find out after complaining \n",
              "they bumped me up to UberXL. Even after telling them everything I went through to get a driver to pick me up and \n",
              "that I didn't order XL they still would give me back the extra money they charged me. This company is a joke and \n",
              "wouldn't recommend anyone to use this service. I give it no stars!\n",
              "Rating: <span style=\"color: #008080; text-decoration-color: #008080; font-weight: bold\">1</span>\n",
              "\n",
              "Text: Driver passed me up then showed her on her way back then all of a sudden nothing. By cancelling it wanted to \n",
              "charge me <span style=\"color: #008080; text-decoration-color: #008080; font-weight: bold\">5.00</span>$. Lost a ton of time and now I have to miss work. Because I didnt pick up my car before closing. \n",
              "Your driver just cost me a days work. Not happy!!! Lic plate#**.\n",
              "Rating: <span style=\"color: #008080; text-decoration-color: #008080; font-weight: bold\">1</span>\n",
              "\n",
              "Text: I've made the same journey multiple times. On one occasion I trusted Uber to reflect my pick up location \n",
              "rather than my position when I requested the ride. When I request the ride the quote given is around $<span style=\"color: #008080; text-decoration-color: #008080; font-weight: bold\">48</span> but \n",
              "usually from my pick up location it's about $<span style=\"color: #008080; text-decoration-color: #008080; font-weight: bold\">11</span>-<span style=\"color: #008080; text-decoration-color: #008080; font-weight: bold\">12</span>. They refunded $<span style=\"color: #008080; text-decoration-color: #008080; font-weight: bold\">10</span> for a change in route. Here's all my journeys\n",
              "below showing an obvious trend with - hiccup on this mentioned ride. The help desk keeps blaming price rises but \n",
              "that's a <span style=\"color: #008080; text-decoration-color: #008080; font-weight: bold\">350</span>% price rise!!! 6th March at <span style=\"color: #008080; text-decoration-color: #008080; font-weight: bold\">1803</span> cost $<span style=\"color: #008080; text-decoration-color: #008080; font-weight: bold\">11.77</span>. 4th March at <span style=\"color: #008080; text-decoration-color: #008080; font-weight: bold\">1808</span> cost $<span style=\"color: #008080; text-decoration-color: #008080; font-weight: bold\">48.22</span> but they gave me $<span style=\"color: #008080; text-decoration-color: #008080; font-weight: bold\">10</span> back.\n",
              "4th March at <span style=\"color: #008080; text-decoration-color: #008080; font-weight: bold\">1041</span> cost $<span style=\"color: #008080; text-decoration-color: #008080; font-weight: bold\">11.19</span>. 28th February at <span style=\"color: #008080; text-decoration-color: #008080; font-weight: bold\">1807</span> cost $<span style=\"color: #008080; text-decoration-color: #008080; font-weight: bold\">11.44</span>. 26th February at <span style=\"color: #008080; text-decoration-color: #008080; font-weight: bold\">1811</span> cost $<span style=\"color: #008080; text-decoration-color: #008080; font-weight: bold\">11.64</span>. 19th February \n",
              "at <span style=\"color: #008080; text-decoration-color: #008080; font-weight: bold\">1809</span> cost $<span style=\"color: #008080; text-decoration-color: #008080; font-weight: bold\">11.95</span>. 13th February at <span style=\"color: #008080; text-decoration-color: #008080; font-weight: bold\">1805</span> cost $<span style=\"color: #008080; text-decoration-color: #008080; font-weight: bold\">11.69</span>. 12th February at <span style=\"color: #008080; text-decoration-color: #008080; font-weight: bold\">1803</span> cost $<span style=\"color: #008080; text-decoration-color: #008080; font-weight: bold\">11.63</span>.\n",
              "Rating: <span style=\"color: #008080; text-decoration-color: #008080; font-weight: bold\">1</span>\n",
              "\n",
              "Text: Tonight at <span style=\"color: #008080; text-decoration-color: #008080; font-weight: bold\">1</span> am while coming back from phoenix market city i put my phone on charging and forgot to take \n",
              "it<span style=\"color: #808000; text-decoration-color: #808000\">...</span>i called the cab driver after <span style=\"color: #008080; text-decoration-color: #008080; font-weight: bold\">15</span> mins asking for the phone and he started giving random excuses<span style=\"color: #808000; text-decoration-color: #808000\">...</span>.i called \n",
              "the police as well and plan to file an fir tomorrow morning<span style=\"color: #808000; text-decoration-color: #808000\">...</span>his name is manjunath and his number is *******<span style=\"color: #008080; text-decoration-color: #008080; font-weight: bold\">422</span>\n",
              "Rating: <span style=\"color: #008080; text-decoration-color: #008080; font-weight: bold\">1</span>\n",
              "\n",
              "Text: Uber takes the WORST routes! They will take you in circles, then bring you back to your starting point to \n",
              "pick up another rider to make $<span style=\"color: #008080; text-decoration-color: #008080; font-weight: bold\">2</span>. LYFT is no better! Cant wait for more competitors to join the market. Maybe then \n",
              "theyll take their customers best interests into consideration.\n",
              "Rating: <span style=\"color: #008080; text-decoration-color: #008080; font-weight: bold\">1</span>\n",
              "</pre>\n"
            ]
          },
          "metadata": {}
        }
      ]
    },
    {
      "cell_type": "code",
      "source": [
        "few_shot_prompt_tmpl_str = \"\"\"\\\n",
        "The review text is below.\n",
        "---------------------\n",
        "{review}\n",
        "---------------------\n",
        "Given the context information and not prior knowledge, \\\n",
        "please attempt to predict the review score of the context.\n",
        "Here are several examples of reviews and their ratings:\n",
        "\n",
        "{random_few_shot_examples}\n",
        "\n",
        "Query: What is the rating of this review?\n",
        "Answer: \\\n",
        "\"\"\"\n",
        "\n",
        "few_shot_prompt_tmpl = PromptTemplate(\n",
        "    few_shot_prompt_tmpl_str,\n",
        "    function_mappings={\"random_few_shot_examples\": random_few_shot_examples_fn},\n",
        ")"
      ],
      "metadata": {
        "id": "GGk-w7fL5XW5"
      },
      "execution_count": 39,
      "outputs": []
    },
    {
      "cell_type": "code",
      "source": [
        "class Rating(BaseModel):\n",
        "    rating: int = Field(..., description=\"Rating of the review\", enum=[1, 2, 3, 4, 5])\n",
        "\n",
        "llm = OpenAI(model=\"gpt-4o-mini\")\n",
        "rand_few_shot_structured_llm = llm.as_structured_llm(Rating)"
      ],
      "metadata": {
        "id": "PSGk69O33Hfo"
      },
      "execution_count": 40,
      "outputs": []
    },
    {
      "cell_type": "code",
      "source": [
        "idx = 6\n",
        "one_item = valid[idx]\n",
        "text = one_item['text']\n",
        "rating = one_item['label']\n",
        "\n",
        "print(f\"Text: {text}\")\n",
        "print(f\"Rating: {rating}\")"
      ],
      "metadata": {
        "colab": {
          "base_uri": "https://localhost:8080/",
          "height": 83
        },
        "id": "fKXRkvoa3Yv8",
        "outputId": "695b2564-0232-4c75-b740-3038b6336485"
      },
      "execution_count": 41,
      "outputs": [
        {
          "output_type": "display_data",
          "data": {
            "text/plain": [
              "Text: My experience with Uber was in San Francisco in April \u001b[1;36m2017\u001b[0m. Uber is still hiding in the shadow and will not \n",
              "come up front and center to pick you up, they lurk around the corner, and if the wait too long for you they cancel \n",
              "the ride. This is a damaged game of hide and seek.\n"
            ],
            "text/html": [
              "<pre style=\"white-space:pre;overflow-x:auto;line-height:normal;font-family:Menlo,'DejaVu Sans Mono',consolas,'Courier New',monospace\">Text: My experience with Uber was in San Francisco in April <span style=\"color: #008080; text-decoration-color: #008080; font-weight: bold\">2017</span>. Uber is still hiding in the shadow and will not \n",
              "come up front and center to pick you up, they lurk around the corner, and if the wait too long for you they cancel \n",
              "the ride. This is a damaged game of hide and seek.\n",
              "</pre>\n"
            ]
          },
          "metadata": {}
        },
        {
          "output_type": "display_data",
          "data": {
            "text/plain": [
              "Rating: \u001b[1;36m2\u001b[0m\n"
            ],
            "text/html": [
              "<pre style=\"white-space:pre;overflow-x:auto;line-height:normal;font-family:Menlo,'DejaVu Sans Mono',consolas,'Courier New',monospace\">Rating: <span style=\"color: #008080; text-decoration-color: #008080; font-weight: bold\">2</span>\n",
              "</pre>\n"
            ]
          },
          "metadata": {}
        }
      ]
    },
    {
      "cell_type": "code",
      "source": [
        "async def random_few_shot_predict(text):\n",
        "    messages = [\n",
        "        ChatMessage.from_str(prompt_tmpl.format(review=text))\n",
        "    ]\n",
        "    response = await rand_few_shot_structured_llm.achat(messages)\n",
        "    return response.raw.rating"
      ],
      "metadata": {
        "id": "TBZuZeBK440q"
      },
      "execution_count": 42,
      "outputs": []
    },
    {
      "cell_type": "code",
      "source": [
        "random_few_shot_labels, random_few_shot_predictions, random_few_shot_cm, random_few_shot_cr = await predict_and_evaluate(random_few_shot_predict)\n",
        "print(random_few_shot_cr)"
      ],
      "metadata": {
        "colab": {
          "base_uri": "https://localhost:8080/",
          "height": 646
        },
        "id": "QRAMqSGKre1j",
        "outputId": "4e3bd3e0-60e2-4261-a9d5-e5bf332c37a8"
      },
      "execution_count": 43,
      "outputs": [
        {
          "output_type": "display_data",
          "data": {
            "text/plain": [
              "              precision    recall  f1-score   support\n",
              "\n",
              "           \u001b[1;36m1\u001b[0m       \u001b[1;36m0.92\u001b[0m      \u001b[1;36m0.89\u001b[0m      \u001b[1;36m0.91\u001b[0m       \u001b[1;36m182\u001b[0m\n",
              "           \u001b[1;36m2\u001b[0m       \u001b[1;36m0.30\u001b[0m      \u001b[1;36m0.42\u001b[0m      \u001b[1;36m0.35\u001b[0m        \u001b[1;36m19\u001b[0m\n",
              "           \u001b[1;36m3\u001b[0m       \u001b[1;36m0.33\u001b[0m      \u001b[1;36m0.12\u001b[0m      \u001b[1;36m0.18\u001b[0m         \u001b[1;36m8\u001b[0m\n",
              "           \u001b[1;36m4\u001b[0m       \u001b[1;36m0.43\u001b[0m      \u001b[1;36m0.50\u001b[0m      \u001b[1;36m0.46\u001b[0m         \u001b[1;36m6\u001b[0m\n",
              "           \u001b[1;36m5\u001b[0m       \u001b[1;36m0.81\u001b[0m      \u001b[1;36m0.89\u001b[0m      \u001b[1;36m0.85\u001b[0m        \u001b[1;36m19\u001b[0m\n",
              "\n",
              "    accuracy                           \u001b[1;36m0.82\u001b[0m       \u001b[1;36m234\u001b[0m\n",
              "   macro avg       \u001b[1;36m0.56\u001b[0m      \u001b[1;36m0.57\u001b[0m      \u001b[1;36m0.55\u001b[0m       \u001b[1;36m234\u001b[0m\n",
              "weighted avg       \u001b[1;36m0.83\u001b[0m      \u001b[1;36m0.82\u001b[0m      \u001b[1;36m0.82\u001b[0m       \u001b[1;36m234\u001b[0m\n",
              "\n"
            ],
            "text/html": [
              "<pre style=\"white-space:pre;overflow-x:auto;line-height:normal;font-family:Menlo,'DejaVu Sans Mono',consolas,'Courier New',monospace\">              precision    recall  f1-score   support\n",
              "\n",
              "           <span style=\"color: #008080; text-decoration-color: #008080; font-weight: bold\">1</span>       <span style=\"color: #008080; text-decoration-color: #008080; font-weight: bold\">0.92</span>      <span style=\"color: #008080; text-decoration-color: #008080; font-weight: bold\">0.89</span>      <span style=\"color: #008080; text-decoration-color: #008080; font-weight: bold\">0.91</span>       <span style=\"color: #008080; text-decoration-color: #008080; font-weight: bold\">182</span>\n",
              "           <span style=\"color: #008080; text-decoration-color: #008080; font-weight: bold\">2</span>       <span style=\"color: #008080; text-decoration-color: #008080; font-weight: bold\">0.30</span>      <span style=\"color: #008080; text-decoration-color: #008080; font-weight: bold\">0.42</span>      <span style=\"color: #008080; text-decoration-color: #008080; font-weight: bold\">0.35</span>        <span style=\"color: #008080; text-decoration-color: #008080; font-weight: bold\">19</span>\n",
              "           <span style=\"color: #008080; text-decoration-color: #008080; font-weight: bold\">3</span>       <span style=\"color: #008080; text-decoration-color: #008080; font-weight: bold\">0.33</span>      <span style=\"color: #008080; text-decoration-color: #008080; font-weight: bold\">0.12</span>      <span style=\"color: #008080; text-decoration-color: #008080; font-weight: bold\">0.18</span>         <span style=\"color: #008080; text-decoration-color: #008080; font-weight: bold\">8</span>\n",
              "           <span style=\"color: #008080; text-decoration-color: #008080; font-weight: bold\">4</span>       <span style=\"color: #008080; text-decoration-color: #008080; font-weight: bold\">0.43</span>      <span style=\"color: #008080; text-decoration-color: #008080; font-weight: bold\">0.50</span>      <span style=\"color: #008080; text-decoration-color: #008080; font-weight: bold\">0.46</span>         <span style=\"color: #008080; text-decoration-color: #008080; font-weight: bold\">6</span>\n",
              "           <span style=\"color: #008080; text-decoration-color: #008080; font-weight: bold\">5</span>       <span style=\"color: #008080; text-decoration-color: #008080; font-weight: bold\">0.81</span>      <span style=\"color: #008080; text-decoration-color: #008080; font-weight: bold\">0.89</span>      <span style=\"color: #008080; text-decoration-color: #008080; font-weight: bold\">0.85</span>        <span style=\"color: #008080; text-decoration-color: #008080; font-weight: bold\">19</span>\n",
              "\n",
              "    accuracy                           <span style=\"color: #008080; text-decoration-color: #008080; font-weight: bold\">0.82</span>       <span style=\"color: #008080; text-decoration-color: #008080; font-weight: bold\">234</span>\n",
              "   macro avg       <span style=\"color: #008080; text-decoration-color: #008080; font-weight: bold\">0.56</span>      <span style=\"color: #008080; text-decoration-color: #008080; font-weight: bold\">0.57</span>      <span style=\"color: #008080; text-decoration-color: #008080; font-weight: bold\">0.55</span>       <span style=\"color: #008080; text-decoration-color: #008080; font-weight: bold\">234</span>\n",
              "weighted avg       <span style=\"color: #008080; text-decoration-color: #008080; font-weight: bold\">0.83</span>      <span style=\"color: #008080; text-decoration-color: #008080; font-weight: bold\">0.82</span>      <span style=\"color: #008080; text-decoration-color: #008080; font-weight: bold\">0.82</span>       <span style=\"color: #008080; text-decoration-color: #008080; font-weight: bold\">234</span>\n",
              "\n",
              "</pre>\n"
            ]
          },
          "metadata": {}
        },
        {
          "output_type": "display_data",
          "data": {
            "text/plain": [
              "<Figure size 640x480 with 2 Axes>"
            ],
            "image/png": "[encoded data removed]"
          },
          "metadata": {}
        }
      ]
    },
    {
      "cell_type": "markdown",
      "source": [
        "# Demo: Embeddings and vector stores\n",
        "\n",
        "In the previous demonstration, we saw that providing several randomly-selected examples to the LLM at inference time does decently well - it's decently good at predicting the review score, especially within 1 point of the actual review.\n",
        "In a little bit, we'll see that providing better examples to the model at inference time helps improve these scores.\n",
        "But we need efficient ways of searching over our `train` examples to determine which one to use.\n",
        "\n",
        "This is when you want to use a vector store.\n",
        "Vector stores can be in-memory stors, on-disk stores, database extensions like pgvector for Postgres, or even external APIs like Pinecone.\n",
        "\n",
        "Today, we'll use a popular open-source vectore database called `chromadb`.\n",
        "This tool allows us to ingest our documents and search over them effectively to determine which examples to use.\n",
        "\n",
        "In this demo, we'll go over the basics of how to use ChromaDB.\n",
        "We will also use `sentence-transformers` for embeddings as an example of how to use open-weights embedding models."
      ],
      "metadata": {
        "id": "tfedNl_UZyWj"
      }
    },
    {
      "cell_type": "code",
      "source": [
        "# Install chromadb and sentence-transformers\n",
        "!pip install -qqqq chromadb sentence-transformers"
      ],
      "metadata": {
        "colab": {
          "base_uri": "https://localhost:8080/"
        },
        "id": "q19yCvLQ76CV",
        "outputId": "ec6f851b-7d93-4ecc-f00c-516127e2c98e"
      },
      "execution_count": 44,
      "outputs": [
        {
          "output_type": "stream",
          "name": "stdout",
          "text": [
            "\u001b[?25l     \u001b[90m━━━━━━━━━━━━━━━━━━━━━━━━━━━━━━━━━━━━━━━━\u001b[0m \u001b[32m0.0/67.3 kB\u001b[0m \u001b[31m?\u001b[0m eta \u001b[36m-:--:--\u001b[0m\r\u001b[2K     \u001b[90m━━━━━━━━━━━━━━━━━━━━━━━━━━━━━━━━━━━━━━━━\u001b[0m \u001b[32m67.3/67.3 kB\u001b[0m \u001b[31m5.4 MB/s\u001b[0m eta \u001b[36m0:00:00\u001b[0m\n",
            "\u001b[?25h  Installing build dependencies ... \u001b[?25l\u001b[?25hdone\n",
            "  Getting requirements to build wheel ... \u001b[?25l\u001b[?25hdone\n",
            "  Preparing metadata (pyproject.toml) ... \u001b[?25l\u001b[?25hdone\n",
            "\u001b[2K   \u001b[90m━━━━━━━━━━━━━━━━━━━━━━━━━━━━━━━━━━━━━━━━\u001b[0m \u001b[32m615.5/615.5 kB\u001b[0m \u001b[31m43.4 MB/s\u001b[0m eta \u001b[36m0:00:00\u001b[0m\n",
            "\u001b[2K   \u001b[90m━━━━━━━━━━━━━━━━━━━━━━━━━━━━━━━━━━━━━━━━\u001b[0m \u001b[32m2.4/2.4 MB\u001b[0m \u001b[31m86.6 MB/s\u001b[0m eta \u001b[36m0:00:00\u001b[0m\n",
            "\u001b[2K   \u001b[90m━━━━━━━━━━━━━━━━━━━━━━━━━━━━━━━━━━━━━━━━\u001b[0m \u001b[32m273.8/273.8 kB\u001b[0m \u001b[31m24.5 MB/s\u001b[0m eta \u001b[36m0:00:00\u001b[0m\n",
            "\u001b[2K   \u001b[90m━━━━━━━━━━━━━━━━━━━━━━━━━━━━━━━━━━━━━━━━\u001b[0m \u001b[32m1.9/1.9 MB\u001b[0m \u001b[31m79.5 MB/s\u001b[0m eta \u001b[36m0:00:00\u001b[0m\n",
            "\u001b[2K   \u001b[90m━━━━━━━━━━━━━━━━━━━━━━━━━━━━━━━━━━━━━━━━\u001b[0m \u001b[32m93.2/93.2 kB\u001b[0m \u001b[31m8.8 MB/s\u001b[0m eta \u001b[36m0:00:00\u001b[0m\n",
            "\u001b[2K   \u001b[90m━━━━━━━━━━━━━━━━━━━━━━━━━━━━━━━━━━━━━━━━\u001b[0m \u001b[32m13.3/13.3 MB\u001b[0m \u001b[31m69.7 MB/s\u001b[0m eta \u001b[36m0:00:00\u001b[0m\n",
            "\u001b[2K   \u001b[90m━━━━━━━━━━━━━━━━━━━━━━━━━━━━━━━━━━━━━━━━\u001b[0m \u001b[32m55.8/55.8 kB\u001b[0m \u001b[31m5.5 MB/s\u001b[0m eta \u001b[36m0:00:00\u001b[0m\n",
            "\u001b[2K   \u001b[90m━━━━━━━━━━━━━━━━━━━━━━━━━━━━━━━━━━━━━━━━\u001b[0m \u001b[32m159.2/159.2 kB\u001b[0m \u001b[31m14.5 MB/s\u001b[0m eta \u001b[36m0:00:00\u001b[0m\n",
            "\u001b[2K   \u001b[90m━━━━━━━━━━━━━━━━━━━━━━━━━━━━━━━━━━━━━━━━\u001b[0m \u001b[32m64.3/64.3 kB\u001b[0m \u001b[31m5.9 MB/s\u001b[0m eta \u001b[36m0:00:00\u001b[0m\n",
            "\u001b[2K   \u001b[90m━━━━━━━━━━━━━━━━━━━━━━━━━━━━━━━━━━━━━━━━\u001b[0m \u001b[32m118.7/118.7 kB\u001b[0m \u001b[31m11.7 MB/s\u001b[0m eta \u001b[36m0:00:00\u001b[0m\n",
            "\u001b[2K   \u001b[90m━━━━━━━━━━━━━━━━━━━━━━━━━━━━━━━━━━━━━━━━\u001b[0m \u001b[32m54.4/54.4 kB\u001b[0m \u001b[31m5.4 MB/s\u001b[0m eta \u001b[36m0:00:00\u001b[0m\n",
            "\u001b[2K   \u001b[90m━━━━━━━━━━━━━━━━━━━━━━━━━━━━━━━━━━━━━━━━\u001b[0m \u001b[32m442.1/442.1 kB\u001b[0m \u001b[31m34.6 MB/s\u001b[0m eta \u001b[36m0:00:00\u001b[0m\n",
            "\u001b[2K   \u001b[90m━━━━━━━━━━━━━━━━━━━━━━━━━━━━━━━━━━━━━━━━\u001b[0m \u001b[32m316.6/316.6 kB\u001b[0m \u001b[31m25.2 MB/s\u001b[0m eta \u001b[36m0:00:00\u001b[0m\n",
            "\u001b[2K   \u001b[90m━━━━━━━━━━━━━━━━━━━━━━━━━━━━━━━━━━━━━━━━\u001b[0m \u001b[32m3.8/3.8 MB\u001b[0m \u001b[31m78.0 MB/s\u001b[0m eta \u001b[36m0:00:00\u001b[0m\n",
            "\u001b[2K   \u001b[90m━━━━━━━━━━━━━━━━━━━━━━━━━━━━━━━━━━━━━━━━\u001b[0m \u001b[32m425.7/425.7 kB\u001b[0m \u001b[31m34.5 MB/s\u001b[0m eta \u001b[36m0:00:00\u001b[0m\n",
            "\u001b[2K   \u001b[90m━━━━━━━━━━━━━━━━━━━━━━━━━━━━━━━━━━━━━━━━\u001b[0m \u001b[32m46.0/46.0 kB\u001b[0m \u001b[31m4.0 MB/s\u001b[0m eta \u001b[36m0:00:00\u001b[0m\n",
            "\u001b[2K   \u001b[90m━━━━━━━━━━━━━━━━━━━━━━━━━━━━━━━━━━━━━━━━\u001b[0m \u001b[32m86.8/86.8 kB\u001b[0m \u001b[31m8.9 MB/s\u001b[0m eta \u001b[36m0:00:00\u001b[0m\n",
            "\u001b[?25h  Building wheel for pypika (pyproject.toml) ... \u001b[?25l\u001b[?25hdone\n",
            "\u001b[31mERROR: pip's dependency resolver does not currently take into account all the packages that are installed. This behaviour is the source of the following dependency conflicts.\n",
            "google-cloud-datastore 2.19.0 requires protobuf!=3.20.0,!=3.20.1,!=4.21.0,!=4.21.1,!=4.21.2,!=4.21.3,!=4.21.4,!=4.21.5,<5.0.0dev,>=3.19.5, but you have protobuf 5.28.3 which is incompatible.\n",
            "google-cloud-firestore 2.16.1 requires protobuf!=3.20.0,!=3.20.1,!=4.21.0,!=4.21.1,!=4.21.2,!=4.21.3,!=4.21.4,!=4.21.5,<5.0.0dev,>=3.19.5, but you have protobuf 5.28.3 which is incompatible.\n",
            "tensorboard 2.17.0 requires protobuf!=4.24.0,<5.0.0,>=3.19.6, but you have protobuf 5.28.3 which is incompatible.\n",
            "tensorflow 2.17.0 requires protobuf!=4.21.0,!=4.21.1,!=4.21.2,!=4.21.3,!=4.21.4,!=4.21.5,<5.0.0dev,>=3.20.3, but you have protobuf 5.28.3 which is incompatible.\n",
            "tensorflow-metadata 1.16.1 requires protobuf<4.21,>=3.20.3; python_version < \"3.11\", but you have protobuf 5.28.3 which is incompatible.\u001b[0m\u001b[31m\n",
            "\u001b[0m"
          ]
        }
      ]
    },
    {
      "cell_type": "code",
      "source": [
        "# Imports\n",
        "from sentence_transformers import SentenceTransformer\n",
        "from chromadb import Client\n",
        "from chromadb.utils.embedding_functions import SentenceTransformerEmbeddingFunction"
      ],
      "metadata": {
        "colab": {
          "base_uri": "https://localhost:8080/",
          "height": 86,
          "referenced_widgets": [
            "0a1e1d3a073848b4a11ff8fde9c140ff",
            "78e34ae69819430fa321d19e1a6dd058",
            "3e802a6bc2e34259bd300150ceb7c43e",
            "283960e1206049e6ad00bd6a4dc6bcb7",
            "90057eabb3864639b49d4c5bcc36a4cb",
            "04e1f69e6fdd40b785385dd8ebfd84a5",
            "a878524af28f4e0fa9694e1f639e68af",
            "8a712d9e6f5849de96bcaa4146b2edd4",
            "45568e2d04964d5d8528193c1a531e13",
            "db32fdad345a4eae964eb2156960a715",
            "b5d8b02bb8e14c408515f4abd51f7cbc"
          ]
        },
        "id": "ij1wKj_P8hbl",
        "outputId": "06c62950-aade-4aeb-a840-e951d6fd9c53"
      },
      "execution_count": 45,
      "outputs": [
        {
          "output_type": "stream",
          "name": "stderr",
          "text": [
            "The cache for model files in Transformers v4.22.0 has been updated. Migrating your old cache. This is a one-time only operation. You can interrupt this and resume the migration later on by calling `transformers.utils.move_cache()`.\n"
          ]
        },
        {
          "output_type": "display_data",
          "data": {
            "text/plain": [
              "0it [00:00, ?it/s]"
            ],
            "application/vnd.jupyter.widget-view+json": {
              "version_major": 2,
              "version_minor": 0,
              "model_id": "0a1e1d3a073848b4a11ff8fde9c140ff"
            }
          },
          "metadata": {}
        }
      ]
    },
    {
      "cell_type": "markdown",
      "source": [
        "In this cell, we declare our embedding function.\n",
        "We will use the small but powerful [BGE-small](https://huggingface.co/BAAI/bge-small-en-v1.5) model to embed our documents."
      ],
      "metadata": {
        "id": "89FH9DtpcI3r"
      }
    },
    {
      "cell_type": "code",
      "source": [
        "embed_fn = SentenceTransformerEmbeddingFunction('BAAI/bge-small-en-v1.5')"
      ],
      "metadata": {
        "colab": {
          "base_uri": "https://localhost:8080/",
          "height": 369,
          "referenced_widgets": [
            "0e9493e3306e475e8ae5c64fd6d4eb76",
            "2e217b239e834f2aa2a96799af718cac",
            "2687591e87cd4d85b212257298e87477",
            "a58fd4455e504f6c933a1582d53e32d1",
            "8a379996369843b8a8c94da038f814ec",
            "a97215a915d54833bb2f9df3031fa7e7",
            "ed095ffbe81743ec859d63684c41b47f",
            "5b6b046f12c74cdda2950f928d750e33",
            "eaca446105db48529193a7e712cf79e2",
            "2bddd094d0e24d67a0c62a852206f6c1",
            "e0e01db6b1dd4f76aec58d790e0ce83a",
            "8dd609db5e32401ba2cb0e36f3dcb597",
            "8ad613bd8b3a4162a6277a8e9306b31a",
            "c732daceefc549f7b25b89662b4d5e8e",
            "2636e671f20e41ea85e0e3e88d6bece7",
            "684ed606fe8e4b598be8399ffe124095",
            "81a7a0b866314527a00d40044ea8ba36",
            "362f94a3593642869c808be07d1caa65",
            "55578d525ec9448b8b8024c4e0595e9e",
            "0feab00658654f31b28962d3f09ea5b4",
            "525364fa5a66458fa96138ac60475f3a",
            "38e90aaa0d924466a8c248cf69adf60f",
            "d05fce015e5d44fa9346407c5aee9822",
            "ebec29a098824b1bb85824464d68bada",
            "a2323322d3c945f6954e0ac98a9ff4c8",
            "aba46c23585a491888ee18ef63697218",
            "8818515f67244453b086bf54e69603c0",
            "b6f4d94e62f14c20b489d6319cb7086e",
            "9a26391e31ea4630b1c9b3fd2f8cfecc",
            "4da8dd4e87934c1ba203de3c3750dc8c",
            "299c3dbcc68e487b83f3c1623160acfc",
            "2522ef9dbd124cb390ec396779f37482",
            "7599662248e249138b75e1c1366cc093",
            "72d69ad27da442409e055df1c5783c37",
            "0520bf6cb4e34a928f67c2301a047307",
            "ccfde54f1be246db988ad422d116c179",
            "a4b41e683f83453089f39098ca42ae68",
            "ee1c0b456e074ae28be73177a33a259e",
            "8177b35301e04d5c8525292072d08859",
            "71ccc1f5eb7945568a14b301e8fd8ff0",
            "3139378a699f40079170b222be539d98",
            "712c94c87e84488398efd14536daab1a",
            "e3dc3f1c923c4587b9498e123194b47f",
            "1c91ad939f704de3a93c5ea118ce1e0c",
            "b92fd10c57dd4c9fa70ef26b67b53376",
            "586de4e6577d4146aa6706ba0f646992",
            "0d57947de3ac4aa5af67b788fa10dc61",
            "f36a818d84ed4224ad92fb1566110744",
            "4c1956b0ce9f49d5ab3b4dd5cd221e1d",
            "32d3a43c4e894053be37f90065672710",
            "956d5fba8a504374bcacbe1353c0559e",
            "3857e06cffea42fd85131d8263597e83",
            "b6f20845747c4e33ae39ea4ea7886326",
            "841e5652ff7040c5afbc8bb580becb9d",
            "0f6c306f4e4d4e3f8bce4bc570aa9010",
            "6be882decf5444b190809eb690b4f5a4",
            "4d04166139a54273b0e105699c802051",
            "aaf97dd5312a401da1127d51c5364243",
            "23943c4633414e8683aced7d5899af87",
            "d4ba44230b4f408781c0b7269e452797",
            "2cf97fd271d04585a50d0baae621b156",
            "ae2530607a26457e87d3b704719030bf",
            "b7961a0ff1c2406f8f2a968932c9e5e7",
            "118a8332cdd34e078c26db3146547d60",
            "9950ee35563a4a8ab9e64dda2bab7c85",
            "e4dae5d635c8468586174dcb47a3b709",
            "78fba097d33245a3b21df2e19ba3dfe6",
            "46580f1067914939bde5b2b1a8553388",
            "70c1add2769c43ff9579efd006252828",
            "345961ba76b248e88cda2a9e495a4da8",
            "c36de99d35b640d08f65098eb0080f02",
            "4b3b6b52aad84cd085dfc0709ce3366c",
            "7ef1e26dd87549619235c69a7cd280a6",
            "5677983e05924ad1bf86834fadf751a3",
            "aba20e2379b7409a8b5f9eb20cfc1f78",
            "fb88b82076bd488685928666f3d9bf74",
            "76911f1c658540149fcd99856288f105",
            "df6a29a6c51445c6800f067ba60eff69",
            "e17da2b62e35428d8f11af6d7772f9b8",
            "46f362d7257449e08c5e5d3e23213c85",
            "916b66f1d8334befbab14840f975355e",
            "2f8ea4a0246347ab8f2373c4a8f2c70d",
            "1dfac2574812472891067fbb34994fe5",
            "a8097858af40453386392795f752559b",
            "2942c6cb19fc4f1b84cea6e091bff635",
            "d8b9b7eac1e7430795ab1dbdf60d03a7",
            "8ee3f7cc55144155822e36eb1a90babc",
            "27deb0dda35a480daaf8cfdebe84bd88",
            "49638576c88b4bae9f1b3eff0eb1bf26",
            "3606ca624bd2475cb4c944f672d02eed",
            "bd5370513f40499caa58ab6ba81121b3",
            "63ccb0d161204d0793de05d69a03be77",
            "24521a0856594429b5588b8205459b19",
            "da75adea2c6b401883fd0bf0c635cdd6",
            "51c6e32a228c47e5919f1c1f20278d61",
            "e627ce04da174d9fb6accd06d2af1e89",
            "e2335125b2864721901e68ddca7db7a2",
            "473754ff2f444d568d9df6fdda9be809",
            "14b734d8141d4e62ac4f22535e74629f",
            "76ffdf691864483ca19036e46d8cb112",
            "5a8b935f4233488e8fa292a18a8e2fa8",
            "8a163701491145ac8305d484f992c6e5",
            "ccfff8d71e5b4181b3eb70a65b048fd3",
            "68de1eddffe3454292575d63647294b8",
            "047ac5ca6e31428f92b949ddc2a06c6e",
            "21a03545a9eb4a2997b8ec05abbcd2a4",
            "8c7e9974cc5b4ecba5a4d2f187242764",
            "c4645ec4df024e99865e45dd7673c438",
            "90b1f951b1f84b0889e0998300020e3f",
            "41cc53c8c14741678992798ebca9fec6",
            "6e3228717719447aa66841b21b8f5dc2",
            "d350f1dd80ac46d1aa1ca779dc132ec6",
            "c84e02c689cf42dea4ade44580a50545",
            "ca8af20408ac4305940870362779fa34",
            "55af79d7eb9541708780df54f3830280",
            "806e0f042cb2478c9a361030b0577115",
            "214c9f8002c944a7ae5e6b2e349d94da",
            "3879b3bc27054579b9ba95b37d32a83b",
            "27addca1d87a4ce39cfdf100804de5b8",
            "f452fc86d98148d0acb9355d4e5f181c",
            "11399c47e6934b7ba9f55371f2d755a5"
          ]
        },
        "id": "WpQdhTRP92MM",
        "outputId": "38751d5b-4fc6-488b-f391-dde1740ceb15"
      },
      "execution_count": 46,
      "outputs": [
        {
          "output_type": "display_data",
          "data": {
            "text/plain": [
              "modules.json:   0%|          | 0.00/349 [00:00<?, ?B/s]"
            ],
            "application/vnd.jupyter.widget-view+json": {
              "version_major": 2,
              "version_minor": 0,
              "model_id": "0e9493e3306e475e8ae5c64fd6d4eb76"
            }
          },
          "metadata": {}
        },
        {
          "output_type": "display_data",
          "data": {
            "text/plain": [
              "config_sentence_transformers.json:   0%|          | 0.00/124 [00:00<?, ?B/s]"
            ],
            "application/vnd.jupyter.widget-view+json": {
              "version_major": 2,
              "version_minor": 0,
              "model_id": "8dd609db5e32401ba2cb0e36f3dcb597"
            }
          },
          "metadata": {}
        },
        {
          "output_type": "display_data",
          "data": {
            "text/plain": [
              "README.md:   0%|          | 0.00/94.8k [00:00<?, ?B/s]"
            ],
            "application/vnd.jupyter.widget-view+json": {
              "version_major": 2,
              "version_minor": 0,
              "model_id": "d05fce015e5d44fa9346407c5aee9822"
            }
          },
          "metadata": {}
        },
        {
          "output_type": "display_data",
          "data": {
            "text/plain": [
              "sentence_bert_config.json:   0%|          | 0.00/52.0 [00:00<?, ?B/s]"
            ],
            "application/vnd.jupyter.widget-view+json": {
              "version_major": 2,
              "version_minor": 0,
              "model_id": "72d69ad27da442409e055df1c5783c37"
            }
          },
          "metadata": {}
        },
        {
          "output_type": "display_data",
          "data": {
            "text/plain": [
              "config.json:   0%|          | 0.00/743 [00:00<?, ?B/s]"
            ],
            "application/vnd.jupyter.widget-view+json": {
              "version_major": 2,
              "version_minor": 0,
              "model_id": "b92fd10c57dd4c9fa70ef26b67b53376"
            }
          },
          "metadata": {}
        },
        {
          "output_type": "display_data",
          "data": {
            "text/plain": [
              "model.safetensors:   0%|          | 0.00/133M [00:00<?, ?B/s]"
            ],
            "application/vnd.jupyter.widget-view+json": {
              "version_major": 2,
              "version_minor": 0,
              "model_id": "6be882decf5444b190809eb690b4f5a4"
            }
          },
          "metadata": {}
        },
        {
          "output_type": "display_data",
          "data": {
            "text/plain": [
              "tokenizer_config.json:   0%|          | 0.00/366 [00:00<?, ?B/s]"
            ],
            "application/vnd.jupyter.widget-view+json": {
              "version_major": 2,
              "version_minor": 0,
              "model_id": "78fba097d33245a3b21df2e19ba3dfe6"
            }
          },
          "metadata": {}
        },
        {
          "output_type": "display_data",
          "data": {
            "text/plain": [
              "vocab.txt:   0%|          | 0.00/232k [00:00<?, ?B/s]"
            ],
            "application/vnd.jupyter.widget-view+json": {
              "version_major": 2,
              "version_minor": 0,
              "model_id": "df6a29a6c51445c6800f067ba60eff69"
            }
          },
          "metadata": {}
        },
        {
          "output_type": "display_data",
          "data": {
            "text/plain": [
              "tokenizer.json:   0%|          | 0.00/711k [00:00<?, ?B/s]"
            ],
            "application/vnd.jupyter.widget-view+json": {
              "version_major": 2,
              "version_minor": 0,
              "model_id": "49638576c88b4bae9f1b3eff0eb1bf26"
            }
          },
          "metadata": {}
        },
        {
          "output_type": "display_data",
          "data": {
            "text/plain": [
              "special_tokens_map.json:   0%|          | 0.00/125 [00:00<?, ?B/s]"
            ],
            "application/vnd.jupyter.widget-view+json": {
              "version_major": 2,
              "version_minor": 0,
              "model_id": "76ffdf691864483ca19036e46d8cb112"
            }
          },
          "metadata": {}
        },
        {
          "output_type": "display_data",
          "data": {
            "text/plain": [
              "1_Pooling/config.json:   0%|          | 0.00/190 [00:00<?, ?B/s]"
            ],
            "application/vnd.jupyter.widget-view+json": {
              "version_major": 2,
              "version_minor": 0,
              "model_id": "6e3228717719447aa66841b21b8f5dc2"
            }
          },
          "metadata": {}
        }
      ]
    },
    {
      "cell_type": "markdown",
      "source": [
        "Next, we can create our `chromadb` client and use it to create our collection (think table).\n",
        "Notice that we pass our embedding function.\n",
        "That way, when we add documents to the table, the the text is automatically embedded."
      ],
      "metadata": {
        "id": "WQtyevhXceZ9"
      }
    },
    {
      "cell_type": "code",
      "source": [
        "client = Client()"
      ],
      "metadata": {
        "id": "gjN4Byls-sl4"
      },
      "execution_count": 47,
      "outputs": []
    },
    {
      "cell_type": "code",
      "source": [
        "reviews = client.create_collection(\n",
        "    name='uber-reviews',\n",
        "    embedding_function=embed_fn,\n",
        "    get_or_create=True\n",
        ")"
      ],
      "metadata": {
        "id": "TU6DBPIP-tyS"
      },
      "execution_count": 48,
      "outputs": []
    },
    {
      "cell_type": "code",
      "source": [
        "reviews.add(documents=train['text'], metadatas=[{'rating': x} for x in train['label']], ids=[str(x) for x in range(len(train))])"
      ],
      "metadata": {
        "id": "dMu6Dqs4_3Bm"
      },
      "execution_count": 49,
      "outputs": []
    },
    {
      "cell_type": "markdown",
      "source": [
        "Once we have created our vector store, we can search over it using plain text.\n",
        "Here are 3 queries - good review, a neutral review, and a bad review.\n",
        "Let's search our train documents and observe the average rating for the closest 5 documents to each fake review."
      ],
      "metadata": {
        "id": "sJuCCU5pcvvU"
      }
    },
    {
      "cell_type": "code",
      "source": [
        "queries = [\n",
        "    \"This is the best uber ride of my life!\",\n",
        "    \"This uber ride was pretty typical - not good or bad.\",\n",
        "    \"This uber ride was awful\",\n",
        "]"
      ],
      "metadata": {
        "id": "QHhwQkgSZmQW"
      },
      "execution_count": 50,
      "outputs": []
    },
    {
      "cell_type": "code",
      "source": [
        "retrievals = reviews.query(\n",
        "    query_texts=queries,\n",
        "    n_results=5\n",
        ")"
      ],
      "metadata": {
        "id": "iNW6jiGX-1kg"
      },
      "execution_count": 51,
      "outputs": []
    },
    {
      "cell_type": "code",
      "source": [
        "for query, metadatas in zip(queries, retrievals['metadatas']):\n",
        "    ratings = [float(i.get('rating')) for i in metadatas]\n",
        "    print(f\"Review {query}\")\n",
        "    print(f\"Avg rating of retrieved passages: {np.mean(ratings)}\")"
      ],
      "metadata": {
        "colab": {
          "base_uri": "https://localhost:8080/",
          "height": 116
        },
        "id": "226vy3W6Y9kz",
        "outputId": "3ec22014-fed7-4c23-f338-0d06c2bdc341"
      },
      "execution_count": 52,
      "outputs": [
        {
          "output_type": "display_data",
          "data": {
            "text/plain": [
              "Review This is the best uber ride of my life!\n"
            ],
            "text/html": [
              "<pre style=\"white-space:pre;overflow-x:auto;line-height:normal;font-family:Menlo,'DejaVu Sans Mono',consolas,'Courier New',monospace\">Review This is the best uber ride of my life!\n",
              "</pre>\n"
            ]
          },
          "metadata": {}
        },
        {
          "output_type": "display_data",
          "data": {
            "text/plain": [
              "Avg rating of retrieved passages: \u001b[1;36m5.0\u001b[0m\n"
            ],
            "text/html": [
              "<pre style=\"white-space:pre;overflow-x:auto;line-height:normal;font-family:Menlo,'DejaVu Sans Mono',consolas,'Courier New',monospace\">Avg rating of retrieved passages: <span style=\"color: #008080; text-decoration-color: #008080; font-weight: bold\">5.0</span>\n",
              "</pre>\n"
            ]
          },
          "metadata": {}
        },
        {
          "output_type": "display_data",
          "data": {
            "text/plain": [
              "Review This uber ride was pretty typical - not good or bad.\n"
            ],
            "text/html": [
              "<pre style=\"white-space:pre;overflow-x:auto;line-height:normal;font-family:Menlo,'DejaVu Sans Mono',consolas,'Courier New',monospace\">Review This uber ride was pretty typical - not good or bad.\n",
              "</pre>\n"
            ]
          },
          "metadata": {}
        },
        {
          "output_type": "display_data",
          "data": {
            "text/plain": [
              "Avg rating of retrieved passages: \u001b[1;36m2.0\u001b[0m\n"
            ],
            "text/html": [
              "<pre style=\"white-space:pre;overflow-x:auto;line-height:normal;font-family:Menlo,'DejaVu Sans Mono',consolas,'Courier New',monospace\">Avg rating of retrieved passages: <span style=\"color: #008080; text-decoration-color: #008080; font-weight: bold\">2.0</span>\n",
              "</pre>\n"
            ]
          },
          "metadata": {}
        },
        {
          "output_type": "display_data",
          "data": {
            "text/plain": [
              "Review This uber ride was awful\n"
            ],
            "text/html": [
              "<pre style=\"white-space:pre;overflow-x:auto;line-height:normal;font-family:Menlo,'DejaVu Sans Mono',consolas,'Courier New',monospace\">Review This uber ride was awful\n",
              "</pre>\n"
            ]
          },
          "metadata": {}
        },
        {
          "output_type": "display_data",
          "data": {
            "text/plain": [
              "Avg rating of retrieved passages: \u001b[1;36m1.0\u001b[0m\n"
            ],
            "text/html": [
              "<pre style=\"white-space:pre;overflow-x:auto;line-height:normal;font-family:Menlo,'DejaVu Sans Mono',consolas,'Courier New',monospace\">Avg rating of retrieved passages: <span style=\"color: #008080; text-decoration-color: #008080; font-weight: bold\">1.0</span>\n",
              "</pre>\n"
            ]
          },
          "metadata": {}
        }
      ]
    },
    {
      "cell_type": "code",
      "source": [
        "reviews.query(query_texts = 'hello!')['documents']"
      ],
      "metadata": {
        "colab": {
          "base_uri": "https://localhost:8080/"
        },
        "id": "sQOW_7KZ30XH",
        "outputId": "85dced61-8723-4e73-ad94-2db994a2cb07"
      },
      "execution_count": 57,
      "outputs": [
        {
          "output_type": "execute_result",
          "data": {
            "text/plain": [
              "[['App was great. Driver responded immediately and came on time. Early am. Respected my need to wake up. Quiet ride and easy arrival at airport.',\n",
              "  'I left my holiday present in the Uber ride and Elaine brought to back to me. Hooray for Uber and Elaine!!!',\n",
              "  'I just wanted to write and let all of you at Uber that I had the most amazing driver the other day! As soon as I got in the car, he handed me a bowl of delicious treats, I thought that was so sweet! Then he handed me a bottle of water.  This may not be a big deal to some, however, it actually made my day! He was so polite, helpful, generous and all around awesome!!! Please please let this driver, Jasur Nazarou # 5756433 know that he is awesome!! He deserves some sort of praise from all of you at Uber! All of your drivers should take notes from this guy! All of your drivers need to be like him!!! WONDEEFUL EXPERIENCE!!!!Stephanie Angelini  @Angelinistephanie.  *****@yahoo.com.',\n",
              "  'My daughter used uber for the first time today. She was very happy with the lady that assisted her. Sweet as can be her name was Gail. I was initially worried about her using the service at first. Gail picked her up from a school activity and it was a pleasant experience fir my daughter.',\n",
              "  'I suddenly became very ill at work. I usually take the bus home, but was too ill to do that. I got on my phone and saw that many Uber vehicles were already circling my block at work, so a vehicle arrived promptly, before I could even come down on the elevator. The driver was a woman who was a previous healthcare worker, and she assured me that I could relax, and not to worry. If I got sick she could take care of me. Talk about customer service! She was so kind, I immediately felt better.',\n",
              "  \"Fun time with meeting an Uber driver. Was our first ride in Tampa, and he was awesome to recommend places. We gave him an extra tip. Wasn't pushy. Wasn't hard to talk with. Very outgoing. Knew the area well.\",\n",
              "  'Out of desperation, I signed up for Uber for an appointment. Registration was easy, and the app kept me informed about the time of arrival, which was FAST. A driver happened to be in my area and came right away. I was texted a photo and his ID by Uber, so I was reassured - but I did forward it to a family member as a security precaution. The driver was SO kind - congenial and eager to please. It was such a great introduction to Uber and I have been happy ever since.',\n",
              "  'Drivers were nice and receptive to directions and much cheaper than a taxi! If you wanna try Uber for free use promo code RACHILLRUE and your first ride is on me!',\n",
              "  'Great service. e driver was friendly and picked me up within 5 minutes of sending the request. App is easy to load. I was hesitant at first but was impressed with the service so far. Use code hsu2r and we both get a free ride.',\n",
              "  'Both of my Uber drivers were prompt. The conversation was great! They made my ride very pleasant and enjoyable. Also my car was down at the time and they were a big help!']]"
            ]
          },
          "metadata": {},
          "execution_count": 57
        }
      ]
    },
    {
      "cell_type": "markdown",
      "source": [
        "## Discussion: Using vector stores\n",
        "\n",
        "Now that we have our data encoded this way, can anyone tell me how we might use this object to improve the way we classify reviews?"
      ],
      "metadata": {
        "id": "UIRfHOCFdBY_"
      }
    },
    {
      "cell_type": "markdown",
      "source": [
        "# Prompt engineering 2: dynamic few-shot prompting"
      ],
      "metadata": {
        "id": "whSrknBwZ1hA"
      }
    },
    {
      "cell_type": "code",
      "source": [
        "def dynamic_few_shot_examples_fn(**kwargs):\n",
        "    retrievals = reviews.query(\n",
        "        query_texts=[kwargs['review']],\n",
        "        n_results=5\n",
        "    )\n",
        "    result_strs = []\n",
        "    documents = retrievals['documents'][0]\n",
        "    metadatas = retrievals['metadatas'][0]\n",
        "    for document, metadata in zip(documents, metadatas):\n",
        "        result_strs.append(f\"Text: {document}\\nRating: {metadata.get('rating')}\")\n",
        "    return \"\\n\\n\".join(result_strs)"
      ],
      "metadata": {
        "id": "cdM9igtyZ4ZA"
      },
      "execution_count": 60,
      "outputs": []
    },
    {
      "cell_type": "code",
      "source": [
        "print(dynamic_few_shot_examples_fn(review=\"This is the best uber ride of my life!\"))"
      ],
      "metadata": {
        "colab": {
          "base_uri": "https://localhost:8080/",
          "height": 411
        },
        "id": "hSjfOxUP1V69",
        "outputId": "d9e049a3-10d7-41cd-c84b-1712e45c7c83"
      },
      "execution_count": 61,
      "outputs": [
        {
          "output_type": "display_data",
          "data": {
            "text/plain": [
              "Text: Uber is like a dream come true! yes nice and comfortable ride which picks you right from your house no need \n",
              "to go to the main road to catch a taxi! thumbs up to uber !\n",
              "Rating: \u001b[1;36m5\u001b[0m\n",
              "\n",
              "Text: Uber rides have always been convenient, plentiful and prompt. All rides have been with good and friendly \n",
              "drivers. Always been impressed with the cleanliness and newness of the vehicles I've ridden in.\n",
              "Rating: \u001b[1;36m5\u001b[0m\n",
              "\n",
              "Text: I have only had one ride experience I wish not to repeat - I love the ease of getting a ride and the \n",
              "efficiency of the drivers. The costs are always reasonable as well. I will definitely use Uber in my future.\n",
              "Rating: \u001b[1;36m5\u001b[0m\n",
              "\n",
              "Text: I've been using Uber for a good \u001b[1;36m3\u001b[0m years now.  Going to and from the airport, events and other places I want \n",
              "to go but don't want to hassle with finding parking or walking through acres of parking lot after I've arrived.  \n",
              "Love the convenience of being picked up and dropped of right at the front door and I've had such nice experiences \n",
              "with meeting the most kind and positive Uber drivers. I've been around for a long time and am glad there is a \n",
              "service like this now. Sometimes I am afraid to go here or there because I'm concerned I'll get lost but with Uber \n",
              "I no longer worry and just go! One more thing\u001b[33m...\u001b[0m. ** If you want to sign up with coupon code jodir282ue you can get\n",
              "up to $\u001b[1;36m20\u001b[0m off your first ride. **\n",
              "Rating: \u001b[1;36m5\u001b[0m\n",
              "\n",
              "Text: I have used Uber many times, and each time I have been exceedingly pleased. The drivers were prompt, \n",
              "courteous, and professional. I highly recommend Uber.\n",
              "Rating: \u001b[1;36m5\u001b[0m\n"
            ],
            "text/html": [
              "<pre style=\"white-space:pre;overflow-x:auto;line-height:normal;font-family:Menlo,'DejaVu Sans Mono',consolas,'Courier New',monospace\">Text: Uber is like a dream come true! yes nice and comfortable ride which picks you right from your house no need \n",
              "to go to the main road to catch a taxi! thumbs up to uber !\n",
              "Rating: <span style=\"color: #008080; text-decoration-color: #008080; font-weight: bold\">5</span>\n",
              "\n",
              "Text: Uber rides have always been convenient, plentiful and prompt. All rides have been with good and friendly \n",
              "drivers. Always been impressed with the cleanliness and newness of the vehicles I've ridden in.\n",
              "Rating: <span style=\"color: #008080; text-decoration-color: #008080; font-weight: bold\">5</span>\n",
              "\n",
              "Text: I have only had one ride experience I wish not to repeat - I love the ease of getting a ride and the \n",
              "efficiency of the drivers. The costs are always reasonable as well. I will definitely use Uber in my future.\n",
              "Rating: <span style=\"color: #008080; text-decoration-color: #008080; font-weight: bold\">5</span>\n",
              "\n",
              "Text: I've been using Uber for a good <span style=\"color: #008080; text-decoration-color: #008080; font-weight: bold\">3</span> years now.  Going to and from the airport, events and other places I want \n",
              "to go but don't want to hassle with finding parking or walking through acres of parking lot after I've arrived.  \n",
              "Love the convenience of being picked up and dropped of right at the front door and I've had such nice experiences \n",
              "with meeting the most kind and positive Uber drivers. I've been around for a long time and am glad there is a \n",
              "service like this now. Sometimes I am afraid to go here or there because I'm concerned I'll get lost but with Uber \n",
              "I no longer worry and just go! One more thing<span style=\"color: #808000; text-decoration-color: #808000\">...</span>. ** If you want to sign up with coupon code jodir282ue you can get\n",
              "up to $<span style=\"color: #008080; text-decoration-color: #008080; font-weight: bold\">20</span> off your first ride. **\n",
              "Rating: <span style=\"color: #008080; text-decoration-color: #008080; font-weight: bold\">5</span>\n",
              "\n",
              "Text: I have used Uber many times, and each time I have been exceedingly pleased. The drivers were prompt, \n",
              "courteous, and professional. I highly recommend Uber.\n",
              "Rating: <span style=\"color: #008080; text-decoration-color: #008080; font-weight: bold\">5</span>\n",
              "</pre>\n"
            ]
          },
          "metadata": {}
        }
      ]
    },
    {
      "cell_type": "code",
      "source": [
        "dynamic_few_shot_prompt_tmpl_str = \"\"\"\\\n",
        "The review text is below.\n",
        "---------------------\n",
        "{review}\n",
        "---------------------\n",
        "Given the context information and not prior knowledge, \\\n",
        "please attempt to predict the review score of the context.\n",
        "Here are several examples of reviews and their ratings:\n",
        "\n",
        "{dynamic_few_shot_examples}\n",
        "\n",
        "Query: What is the rating of this review?\n",
        "Answer: \\\n",
        "\"\"\"\n",
        "\n",
        "dynamic_few_shot_prompt_tmpl = PromptTemplate(\n",
        "    few_shot_prompt_tmpl_str,\n",
        "    function_mappings={\"dynamic_few_shot_examples\": dynamic_few_shot_examples_fn},\n",
        ")"
      ],
      "metadata": {
        "id": "SFqomajG4YyU"
      },
      "execution_count": 62,
      "outputs": []
    },
    {
      "cell_type": "code",
      "source": [
        "async def dynamic_few_shot_predict(text):\n",
        "    messages = [\n",
        "        ChatMessage.from_str(few_shot_prompt_tmpl.format(review=text))\n",
        "    ]\n",
        "    response = await zero_shot_structured_llm.achat(messages)\n",
        "    return response.raw.rating"
      ],
      "metadata": {
        "id": "3Sg2NzM-1ZXY"
      },
      "execution_count": 65,
      "outputs": []
    },
    {
      "cell_type": "code",
      "source": [
        "dynamic_few_shot_labels, dynamic_few_shot_predictions, dynamic_few_shot_cm, dynamic_few_shot_cr = await predict_and_evaluate(dynamic_few_shot_predict)\n",
        "print(dynamic_few_shot_cr)"
      ],
      "metadata": {
        "colab": {
          "base_uri": "https://localhost:8080/",
          "height": 646
        },
        "id": "IU7jjKtk4s28",
        "outputId": "9a2d40d0-92c2-4279-a9e3-b7c1113fd1d1"
      },
      "execution_count": 67,
      "outputs": [
        {
          "output_type": "display_data",
          "data": {
            "text/plain": [
              "              precision    recall  f1-score   support\n",
              "\n",
              "           \u001b[1;36m1\u001b[0m       \u001b[1;36m0.91\u001b[0m      \u001b[1;36m0.93\u001b[0m      \u001b[1;36m0.92\u001b[0m       \u001b[1;36m182\u001b[0m\n",
              "           \u001b[1;36m2\u001b[0m       \u001b[1;36m0.37\u001b[0m      \u001b[1;36m0.37\u001b[0m      \u001b[1;36m0.37\u001b[0m        \u001b[1;36m19\u001b[0m\n",
              "           \u001b[1;36m3\u001b[0m       \u001b[1;36m0.00\u001b[0m      \u001b[1;36m0.00\u001b[0m      \u001b[1;36m0.00\u001b[0m         \u001b[1;36m8\u001b[0m\n",
              "           \u001b[1;36m4\u001b[0m       \u001b[1;36m0.57\u001b[0m      \u001b[1;36m0.67\u001b[0m      \u001b[1;36m0.62\u001b[0m         \u001b[1;36m6\u001b[0m\n",
              "           \u001b[1;36m5\u001b[0m       \u001b[1;36m0.86\u001b[0m      \u001b[1;36m0.95\u001b[0m      \u001b[1;36m0.90\u001b[0m        \u001b[1;36m19\u001b[0m\n",
              "\n",
              "    accuracy                           \u001b[1;36m0.85\u001b[0m       \u001b[1;36m234\u001b[0m\n",
              "   macro avg       \u001b[1;36m0.54\u001b[0m      \u001b[1;36m0.58\u001b[0m      \u001b[1;36m0.56\u001b[0m       \u001b[1;36m234\u001b[0m\n",
              "weighted avg       \u001b[1;36m0.82\u001b[0m      \u001b[1;36m0.85\u001b[0m      \u001b[1;36m0.84\u001b[0m       \u001b[1;36m234\u001b[0m\n",
              "\n"
            ],
            "text/html": [
              "<pre style=\"white-space:pre;overflow-x:auto;line-height:normal;font-family:Menlo,'DejaVu Sans Mono',consolas,'Courier New',monospace\">              precision    recall  f1-score   support\n",
              "\n",
              "           <span style=\"color: #008080; text-decoration-color: #008080; font-weight: bold\">1</span>       <span style=\"color: #008080; text-decoration-color: #008080; font-weight: bold\">0.91</span>      <span style=\"color: #008080; text-decoration-color: #008080; font-weight: bold\">0.93</span>      <span style=\"color: #008080; text-decoration-color: #008080; font-weight: bold\">0.92</span>       <span style=\"color: #008080; text-decoration-color: #008080; font-weight: bold\">182</span>\n",
              "           <span style=\"color: #008080; text-decoration-color: #008080; font-weight: bold\">2</span>       <span style=\"color: #008080; text-decoration-color: #008080; font-weight: bold\">0.37</span>      <span style=\"color: #008080; text-decoration-color: #008080; font-weight: bold\">0.37</span>      <span style=\"color: #008080; text-decoration-color: #008080; font-weight: bold\">0.37</span>        <span style=\"color: #008080; text-decoration-color: #008080; font-weight: bold\">19</span>\n",
              "           <span style=\"color: #008080; text-decoration-color: #008080; font-weight: bold\">3</span>       <span style=\"color: #008080; text-decoration-color: #008080; font-weight: bold\">0.00</span>      <span style=\"color: #008080; text-decoration-color: #008080; font-weight: bold\">0.00</span>      <span style=\"color: #008080; text-decoration-color: #008080; font-weight: bold\">0.00</span>         <span style=\"color: #008080; text-decoration-color: #008080; font-weight: bold\">8</span>\n",
              "           <span style=\"color: #008080; text-decoration-color: #008080; font-weight: bold\">4</span>       <span style=\"color: #008080; text-decoration-color: #008080; font-weight: bold\">0.57</span>      <span style=\"color: #008080; text-decoration-color: #008080; font-weight: bold\">0.67</span>      <span style=\"color: #008080; text-decoration-color: #008080; font-weight: bold\">0.62</span>         <span style=\"color: #008080; text-decoration-color: #008080; font-weight: bold\">6</span>\n",
              "           <span style=\"color: #008080; text-decoration-color: #008080; font-weight: bold\">5</span>       <span style=\"color: #008080; text-decoration-color: #008080; font-weight: bold\">0.86</span>      <span style=\"color: #008080; text-decoration-color: #008080; font-weight: bold\">0.95</span>      <span style=\"color: #008080; text-decoration-color: #008080; font-weight: bold\">0.90</span>        <span style=\"color: #008080; text-decoration-color: #008080; font-weight: bold\">19</span>\n",
              "\n",
              "    accuracy                           <span style=\"color: #008080; text-decoration-color: #008080; font-weight: bold\">0.85</span>       <span style=\"color: #008080; text-decoration-color: #008080; font-weight: bold\">234</span>\n",
              "   macro avg       <span style=\"color: #008080; text-decoration-color: #008080; font-weight: bold\">0.54</span>      <span style=\"color: #008080; text-decoration-color: #008080; font-weight: bold\">0.58</span>      <span style=\"color: #008080; text-decoration-color: #008080; font-weight: bold\">0.56</span>       <span style=\"color: #008080; text-decoration-color: #008080; font-weight: bold\">234</span>\n",
              "weighted avg       <span style=\"color: #008080; text-decoration-color: #008080; font-weight: bold\">0.82</span>      <span style=\"color: #008080; text-decoration-color: #008080; font-weight: bold\">0.85</span>      <span style=\"color: #008080; text-decoration-color: #008080; font-weight: bold\">0.84</span>       <span style=\"color: #008080; text-decoration-color: #008080; font-weight: bold\">234</span>\n",
              "\n",
              "</pre>\n"
            ]
          },
          "metadata": {}
        },
        {
          "output_type": "display_data",
          "data": {
            "text/plain": [
              "<Figure size 640x480 with 2 Axes>"
            ],
            "image/png": "[encoded data removed]"
          },
          "metadata": {}
        }
      ]
    },
    {
      "cell_type": "code",
      "source": [],
      "metadata": {
        "id": "a8a4sjKO45-z"
      },
      "execution_count": null,
      "outputs": []
    }
  ]
}