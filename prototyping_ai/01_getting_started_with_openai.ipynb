{
  "nbformat": 4,
  "nbformat_minor": 0,
  "metadata": {
    "colab": {
      "provenance": [],
      "collapsed_sections": [
        "4HDOGmN6OmF0",
        "uZDWgZfZQGcU",
        "yJ0qYsS0Y4DZ",
        "JTQ-yAmFQVOM",
        "ktB3q7OrYW72"
      ],
      "authorship_tag": "ABX9TyNTrNFR9MzFfsd/PDFOuI+c",
      "include_colab_link": true
    },
    "kernelspec": {
      "name": "python3",
      "display_name": "Python 3"
    },
    "language_info": {
      "name": "python"
    },
    "widgets": {
      "application/vnd.jupyter.widget-state+json": {
        "57a05256848345e4956a8a3c23135fd0": {
          "model_module": "@jupyter-widgets/controls",
          "model_name": "VBoxModel",
          "model_module_version": "1.5.0",
          "state": {
            "_dom_classes": [
              "widget-interact"
            ],
            "_model_module": "@jupyter-widgets/controls",
            "_model_module_version": "1.5.0",
            "_model_name": "VBoxModel",
            "_view_count": null,
            "_view_module": "@jupyter-widgets/controls",
            "_view_module_version": "1.5.0",
            "_view_name": "VBoxView",
            "box_style": "",
            "children": [
              "IPY_MODEL_2112a7e303514c658de8d06961b54eae",
              "IPY_MODEL_de3a57125cf04ce4a8ad6e76f2a295f1"
            ],
            "layout": "IPY_MODEL_17e68979484249a79aa928ccc19ca5cc"
          }
        },
        "2112a7e303514c658de8d06961b54eae": {
          "model_module": "@jupyter-widgets/controls",
          "model_name": "FloatSliderModel",
          "model_module_version": "1.5.0",
          "state": {
            "_dom_classes": [],
            "_model_module": "@jupyter-widgets/controls",
            "_model_module_version": "1.5.0",
            "_model_name": "FloatSliderModel",
            "_view_count": null,
            "_view_module": "@jupyter-widgets/controls",
            "_view_module_version": "1.5.0",
            "_view_name": "FloatSliderView",
            "continuous_update": true,
            "description": "temperature",
            "description_tooltip": null,
            "disabled": false,
            "layout": "IPY_MODEL_9f886354ab8448659ff1e11974a862ed",
            "max": 2,
            "min": 0.1,
            "orientation": "horizontal",
            "readout": true,
            "readout_format": ".2f",
            "step": 0.1,
            "style": "IPY_MODEL_1aea5aa28e984ab7aceabec405962f8e",
            "value": 1
          }
        },
        "de3a57125cf04ce4a8ad6e76f2a295f1": {
          "model_module": "@jupyter-widgets/output",
          "model_name": "OutputModel",
          "model_module_version": "1.0.0",
          "state": {
            "_dom_classes": [],
            "_model_module": "@jupyter-widgets/output",
            "_model_module_version": "1.0.0",
            "_model_name": "OutputModel",
            "_view_count": null,
            "_view_module": "@jupyter-widgets/output",
            "_view_module_version": "1.0.0",
            "_view_name": "OutputView",
            "layout": "IPY_MODEL_83c00968f6b94b08ae41aabd83769e62",
            "msg_id": "",
            "outputs": [
              {
                "output_type": "display_data",
                "data": {
                  "text/plain": "<Figure size 600x400 with 1 Axes>",
                  "image/png": "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\n"
                },
                "metadata": {}
              }
            ]
          }
        },
        "17e68979484249a79aa928ccc19ca5cc": {
          "model_module": "@jupyter-widgets/base",
          "model_name": "LayoutModel",
          "model_module_version": "1.2.0",
          "state": {
            "_model_module": "@jupyter-widgets/base",
            "_model_module_version": "1.2.0",
            "_model_name": "LayoutModel",
            "_view_count": null,
            "_view_module": "@jupyter-widgets/base",
            "_view_module_version": "1.2.0",
            "_view_name": "LayoutView",
            "align_content": null,
            "align_items": null,
            "align_self": null,
            "border": null,
            "bottom": null,
            "display": null,
            "flex": null,
            "flex_flow": null,
            "grid_area": null,
            "grid_auto_columns": null,
            "grid_auto_flow": null,
            "grid_auto_rows": null,
            "grid_column": null,
            "grid_gap": null,
            "grid_row": null,
            "grid_template_areas": null,
            "grid_template_columns": null,
            "grid_template_rows": null,
            "height": null,
            "justify_content": null,
            "justify_items": null,
            "left": null,
            "margin": null,
            "max_height": null,
            "max_width": null,
            "min_height": null,
            "min_width": null,
            "object_fit": null,
            "object_position": null,
            "order": null,
            "overflow": null,
            "overflow_x": null,
            "overflow_y": null,
            "padding": null,
            "right": null,
            "top": null,
            "visibility": null,
            "width": null
          }
        },
        "9f886354ab8448659ff1e11974a862ed": {
          "model_module": "@jupyter-widgets/base",
          "model_name": "LayoutModel",
          "model_module_version": "1.2.0",
          "state": {
            "_model_module": "@jupyter-widgets/base",
            "_model_module_version": "1.2.0",
            "_model_name": "LayoutModel",
            "_view_count": null,
            "_view_module": "@jupyter-widgets/base",
            "_view_module_version": "1.2.0",
            "_view_name": "LayoutView",
            "align_content": null,
            "align_items": null,
            "align_self": null,
            "border": null,
            "bottom": null,
            "display": null,
            "flex": null,
            "flex_flow": null,
            "grid_area": null,
            "grid_auto_columns": null,
            "grid_auto_flow": null,
            "grid_auto_rows": null,
            "grid_column": null,
            "grid_gap": null,
            "grid_row": null,
            "grid_template_areas": null,
            "grid_template_columns": null,
            "grid_template_rows": null,
            "height": null,
            "justify_content": null,
            "justify_items": null,
            "left": null,
            "margin": null,
            "max_height": null,
            "max_width": null,
            "min_height": null,
            "min_width": null,
            "object_fit": null,
            "object_position": null,
            "order": null,
            "overflow": null,
            "overflow_x": null,
            "overflow_y": null,
            "padding": null,
            "right": null,
            "top": null,
            "visibility": null,
            "width": null
          }
        },
        "1aea5aa28e984ab7aceabec405962f8e": {
          "model_module": "@jupyter-widgets/controls",
          "model_name": "SliderStyleModel",
          "model_module_version": "1.5.0",
          "state": {
            "_model_module": "@jupyter-widgets/controls",
            "_model_module_version": "1.5.0",
            "_model_name": "SliderStyleModel",
            "_view_count": null,
            "_view_module": "@jupyter-widgets/base",
            "_view_module_version": "1.2.0",
            "_view_name": "StyleView",
            "description_width": "",
            "handle_color": null
          }
        },
        "83c00968f6b94b08ae41aabd83769e62": {
          "model_module": "@jupyter-widgets/base",
          "model_name": "LayoutModel",
          "model_module_version": "1.2.0",
          "state": {
            "_model_module": "@jupyter-widgets/base",
            "_model_module_version": "1.2.0",
            "_model_name": "LayoutModel",
            "_view_count": null,
            "_view_module": "@jupyter-widgets/base",
            "_view_module_version": "1.2.0",
            "_view_name": "LayoutView",
            "align_content": null,
            "align_items": null,
            "align_self": null,
            "border": null,
            "bottom": null,
            "display": null,
            "flex": null,
            "flex_flow": null,
            "grid_area": null,
            "grid_auto_columns": null,
            "grid_auto_flow": null,
            "grid_auto_rows": null,
            "grid_column": null,
            "grid_gap": null,
            "grid_row": null,
            "grid_template_areas": null,
            "grid_template_columns": null,
            "grid_template_rows": null,
            "height": null,
            "justify_content": null,
            "justify_items": null,
            "left": null,
            "margin": null,
            "max_height": null,
            "max_width": null,
            "min_height": null,
            "min_width": null,
            "object_fit": null,
            "object_position": null,
            "order": null,
            "overflow": null,
            "overflow_x": null,
            "overflow_y": null,
            "padding": null,
            "right": null,
            "top": null,
            "visibility": null,
            "width": null
          }
        },
        "03ae1d09fa424872b6d0db612bd28c9c": {
          "model_module": "@jupyter-widgets/controls",
          "model_name": "HBoxModel",
          "model_module_version": "1.5.0",
          "state": {
            "_dom_classes": [],
            "_model_module": "@jupyter-widgets/controls",
            "_model_module_version": "1.5.0",
            "_model_name": "HBoxModel",
            "_view_count": null,
            "_view_module": "@jupyter-widgets/controls",
            "_view_module_version": "1.5.0",
            "_view_name": "HBoxView",
            "box_style": "",
            "children": [
              "IPY_MODEL_7279e200aae64179bc8a9380f13de3f2",
              "IPY_MODEL_27f35087cddd4e5493cb1cfe6bf88472",
              "IPY_MODEL_193c86131c1f4089bf81188f72ed41f4"
            ],
            "layout": "IPY_MODEL_5451579920654f12b60b226362b2883b"
          }
        },
        "7279e200aae64179bc8a9380f13de3f2": {
          "model_module": "@jupyter-widgets/controls",
          "model_name": "HTMLModel",
          "model_module_version": "1.5.0",
          "state": {
            "_dom_classes": [],
            "_model_module": "@jupyter-widgets/controls",
            "_model_module_version": "1.5.0",
            "_model_name": "HTMLModel",
            "_view_count": null,
            "_view_module": "@jupyter-widgets/controls",
            "_view_module_version": "1.5.0",
            "_view_name": "HTMLView",
            "description": "",
            "description_tooltip": null,
            "layout": "IPY_MODEL_001a8684fe8541febf8df2e0f34f9675",
            "placeholder": "​",
            "style": "IPY_MODEL_9dbd7d209bfe46b3bb2c7b00de9acf40",
            "value": ""
          }
        },
        "27f35087cddd4e5493cb1cfe6bf88472": {
          "model_module": "@jupyter-widgets/controls",
          "model_name": "FloatProgressModel",
          "model_module_version": "1.5.0",
          "state": {
            "_dom_classes": [],
            "_model_module": "@jupyter-widgets/controls",
            "_model_module_version": "1.5.0",
            "_model_name": "FloatProgressModel",
            "_view_count": null,
            "_view_module": "@jupyter-widgets/controls",
            "_view_module_version": "1.5.0",
            "_view_name": "ProgressView",
            "bar_style": "success",
            "description": "",
            "description_tooltip": null,
            "layout": "IPY_MODEL_5c6e127ddc004d13b06abc5960462ac3",
            "max": 1,
            "min": 0,
            "orientation": "horizontal",
            "style": "IPY_MODEL_09d6a6e4e59247a3b20533098adbe518",
            "value": 0
          }
        },
        "193c86131c1f4089bf81188f72ed41f4": {
          "model_module": "@jupyter-widgets/controls",
          "model_name": "HTMLModel",
          "model_module_version": "1.5.0",
          "state": {
            "_dom_classes": [],
            "_model_module": "@jupyter-widgets/controls",
            "_model_module_version": "1.5.0",
            "_model_name": "HTMLModel",
            "_view_count": null,
            "_view_module": "@jupyter-widgets/controls",
            "_view_module_version": "1.5.0",
            "_view_name": "HTMLView",
            "description": "",
            "description_tooltip": null,
            "layout": "IPY_MODEL_e5de3921842e4cccad090026b23dc2f8",
            "placeholder": "​",
            "style": "IPY_MODEL_c1af1451ad454783bda2f95d58626e60",
            "value": " 0/0 [00:00&lt;?, ?it/s]"
          }
        },
        "5451579920654f12b60b226362b2883b": {
          "model_module": "@jupyter-widgets/base",
          "model_name": "LayoutModel",
          "model_module_version": "1.2.0",
          "state": {
            "_model_module": "@jupyter-widgets/base",
            "_model_module_version": "1.2.0",
            "_model_name": "LayoutModel",
            "_view_count": null,
            "_view_module": "@jupyter-widgets/base",
            "_view_module_version": "1.2.0",
            "_view_name": "LayoutView",
            "align_content": null,
            "align_items": null,
            "align_self": null,
            "border": null,
            "bottom": null,
            "display": null,
            "flex": null,
            "flex_flow": null,
            "grid_area": null,
            "grid_auto_columns": null,
            "grid_auto_flow": null,
            "grid_auto_rows": null,
            "grid_column": null,
            "grid_gap": null,
            "grid_row": null,
            "grid_template_areas": null,
            "grid_template_columns": null,
            "grid_template_rows": null,
            "height": null,
            "justify_content": null,
            "justify_items": null,
            "left": null,
            "margin": null,
            "max_height": null,
            "max_width": null,
            "min_height": null,
            "min_width": null,
            "object_fit": null,
            "object_position": null,
            "order": null,
            "overflow": null,
            "overflow_x": null,
            "overflow_y": null,
            "padding": null,
            "right": null,
            "top": null,
            "visibility": null,
            "width": null
          }
        },
        "001a8684fe8541febf8df2e0f34f9675": {
          "model_module": "@jupyter-widgets/base",
          "model_name": "LayoutModel",
          "model_module_version": "1.2.0",
          "state": {
            "_model_module": "@jupyter-widgets/base",
            "_model_module_version": "1.2.0",
            "_model_name": "LayoutModel",
            "_view_count": null,
            "_view_module": "@jupyter-widgets/base",
            "_view_module_version": "1.2.0",
            "_view_name": "LayoutView",
            "align_content": null,
            "align_items": null,
            "align_self": null,
            "border": null,
            "bottom": null,
            "display": null,
            "flex": null,
            "flex_flow": null,
            "grid_area": null,
            "grid_auto_columns": null,
            "grid_auto_flow": null,
            "grid_auto_rows": null,
            "grid_column": null,
            "grid_gap": null,
            "grid_row": null,
            "grid_template_areas": null,
            "grid_template_columns": null,
            "grid_template_rows": null,
            "height": null,
            "justify_content": null,
            "justify_items": null,
            "left": null,
            "margin": null,
            "max_height": null,
            "max_width": null,
            "min_height": null,
            "min_width": null,
            "object_fit": null,
            "object_position": null,
            "order": null,
            "overflow": null,
            "overflow_x": null,
            "overflow_y": null,
            "padding": null,
            "right": null,
            "top": null,
            "visibility": null,
            "width": null
          }
        },
        "9dbd7d209bfe46b3bb2c7b00de9acf40": {
          "model_module": "@jupyter-widgets/controls",
          "model_name": "DescriptionStyleModel",
          "model_module_version": "1.5.0",
          "state": {
            "_model_module": "@jupyter-widgets/controls",
            "_model_module_version": "1.5.0",
            "_model_name": "DescriptionStyleModel",
            "_view_count": null,
            "_view_module": "@jupyter-widgets/base",
            "_view_module_version": "1.2.0",
            "_view_name": "StyleView",
            "description_width": ""
          }
        },
        "5c6e127ddc004d13b06abc5960462ac3": {
          "model_module": "@jupyter-widgets/base",
          "model_name": "LayoutModel",
          "model_module_version": "1.2.0",
          "state": {
            "_model_module": "@jupyter-widgets/base",
            "_model_module_version": "1.2.0",
            "_model_name": "LayoutModel",
            "_view_count": null,
            "_view_module": "@jupyter-widgets/base",
            "_view_module_version": "1.2.0",
            "_view_name": "LayoutView",
            "align_content": null,
            "align_items": null,
            "align_self": null,
            "border": null,
            "bottom": null,
            "display": null,
            "flex": null,
            "flex_flow": null,
            "grid_area": null,
            "grid_auto_columns": null,
            "grid_auto_flow": null,
            "grid_auto_rows": null,
            "grid_column": null,
            "grid_gap": null,
            "grid_row": null,
            "grid_template_areas": null,
            "grid_template_columns": null,
            "grid_template_rows": null,
            "height": null,
            "justify_content": null,
            "justify_items": null,
            "left": null,
            "margin": null,
            "max_height": null,
            "max_width": null,
            "min_height": null,
            "min_width": null,
            "object_fit": null,
            "object_position": null,
            "order": null,
            "overflow": null,
            "overflow_x": null,
            "overflow_y": null,
            "padding": null,
            "right": null,
            "top": null,
            "visibility": null,
            "width": "20px"
          }
        },
        "09d6a6e4e59247a3b20533098adbe518": {
          "model_module": "@jupyter-widgets/controls",
          "model_name": "ProgressStyleModel",
          "model_module_version": "1.5.0",
          "state": {
            "_model_module": "@jupyter-widgets/controls",
            "_model_module_version": "1.5.0",
            "_model_name": "ProgressStyleModel",
            "_view_count": null,
            "_view_module": "@jupyter-widgets/base",
            "_view_module_version": "1.2.0",
            "_view_name": "StyleView",
            "bar_color": null,
            "description_width": ""
          }
        },
        "e5de3921842e4cccad090026b23dc2f8": {
          "model_module": "@jupyter-widgets/base",
          "model_name": "LayoutModel",
          "model_module_version": "1.2.0",
          "state": {
            "_model_module": "@jupyter-widgets/base",
            "_model_module_version": "1.2.0",
            "_model_name": "LayoutModel",
            "_view_count": null,
            "_view_module": "@jupyter-widgets/base",
            "_view_module_version": "1.2.0",
            "_view_name": "LayoutView",
            "align_content": null,
            "align_items": null,
            "align_self": null,
            "border": null,
            "bottom": null,
            "display": null,
            "flex": null,
            "flex_flow": null,
            "grid_area": null,
            "grid_auto_columns": null,
            "grid_auto_flow": null,
            "grid_auto_rows": null,
            "grid_column": null,
            "grid_gap": null,
            "grid_row": null,
            "grid_template_areas": null,
            "grid_template_columns": null,
            "grid_template_rows": null,
            "height": null,
            "justify_content": null,
            "justify_items": null,
            "left": null,
            "margin": null,
            "max_height": null,
            "max_width": null,
            "min_height": null,
            "min_width": null,
            "object_fit": null,
            "object_position": null,
            "order": null,
            "overflow": null,
            "overflow_x": null,
            "overflow_y": null,
            "padding": null,
            "right": null,
            "top": null,
            "visibility": null,
            "width": null
          }
        },
        "c1af1451ad454783bda2f95d58626e60": {
          "model_module": "@jupyter-widgets/controls",
          "model_name": "DescriptionStyleModel",
          "model_module_version": "1.5.0",
          "state": {
            "_model_module": "@jupyter-widgets/controls",
            "_model_module_version": "1.5.0",
            "_model_name": "DescriptionStyleModel",
            "_view_count": null,
            "_view_module": "@jupyter-widgets/base",
            "_view_module_version": "1.2.0",
            "_view_name": "StyleView",
            "description_width": ""
          }
        },
        "367ff706fc354388871a331dfe1875c7": {
          "model_module": "@jupyter-widgets/controls",
          "model_name": "HBoxModel",
          "model_module_version": "1.5.0",
          "state": {
            "_dom_classes": [],
            "_model_module": "@jupyter-widgets/controls",
            "_model_module_version": "1.5.0",
            "_model_name": "HBoxModel",
            "_view_count": null,
            "_view_module": "@jupyter-widgets/controls",
            "_view_module_version": "1.5.0",
            "_view_name": "HBoxView",
            "box_style": "",
            "children": [
              "IPY_MODEL_108db7f20d9846e3b1ab72f17f6a8240",
              "IPY_MODEL_c0a295a359f140709f04f0660eb40dc7",
              "IPY_MODEL_944bf542aa2940d38e14853e09bdca04"
            ],
            "layout": "IPY_MODEL_975dac67c751470ab0c5e948aa668ebb"
          }
        },
        "108db7f20d9846e3b1ab72f17f6a8240": {
          "model_module": "@jupyter-widgets/controls",
          "model_name": "HTMLModel",
          "model_module_version": "1.5.0",
          "state": {
            "_dom_classes": [],
            "_model_module": "@jupyter-widgets/controls",
            "_model_module_version": "1.5.0",
            "_model_name": "HTMLModel",
            "_view_count": null,
            "_view_module": "@jupyter-widgets/controls",
            "_view_module_version": "1.5.0",
            "_view_name": "HTMLView",
            "description": "",
            "description_tooltip": null,
            "layout": "IPY_MODEL_f87248b4b2eb40ebb59786c8a5caa192",
            "placeholder": "​",
            "style": "IPY_MODEL_30904473f9d34e1dbccbc85902c6b852",
            "value": "modules.json: 100%"
          }
        },
        "c0a295a359f140709f04f0660eb40dc7": {
          "model_module": "@jupyter-widgets/controls",
          "model_name": "FloatProgressModel",
          "model_module_version": "1.5.0",
          "state": {
            "_dom_classes": [],
            "_model_module": "@jupyter-widgets/controls",
            "_model_module_version": "1.5.0",
            "_model_name": "FloatProgressModel",
            "_view_count": null,
            "_view_module": "@jupyter-widgets/controls",
            "_view_module_version": "1.5.0",
            "_view_name": "ProgressView",
            "bar_style": "success",
            "description": "",
            "description_tooltip": null,
            "layout": "IPY_MODEL_30ee8e7f1a2f410ab88d95255cdbaab5",
            "max": 349,
            "min": 0,
            "orientation": "horizontal",
            "style": "IPY_MODEL_edaf37efc2e74de399d4eecf5583d343",
            "value": 349
          }
        },
        "944bf542aa2940d38e14853e09bdca04": {
          "model_module": "@jupyter-widgets/controls",
          "model_name": "HTMLModel",
          "model_module_version": "1.5.0",
          "state": {
            "_dom_classes": [],
            "_model_module": "@jupyter-widgets/controls",
            "_model_module_version": "1.5.0",
            "_model_name": "HTMLModel",
            "_view_count": null,
            "_view_module": "@jupyter-widgets/controls",
            "_view_module_version": "1.5.0",
            "_view_name": "HTMLView",
            "description": "",
            "description_tooltip": null,
            "layout": "IPY_MODEL_b190b26045494dbe83a0e3cdf075f38d",
            "placeholder": "​",
            "style": "IPY_MODEL_9cf5afa17e8041939a9ef634c39f7786",
            "value": " 349/349 [00:00&lt;00:00, 6.90kB/s]"
          }
        },
        "975dac67c751470ab0c5e948aa668ebb": {
          "model_module": "@jupyter-widgets/base",
          "model_name": "LayoutModel",
          "model_module_version": "1.2.0",
          "state": {
            "_model_module": "@jupyter-widgets/base",
            "_model_module_version": "1.2.0",
            "_model_name": "LayoutModel",
            "_view_count": null,
            "_view_module": "@jupyter-widgets/base",
            "_view_module_version": "1.2.0",
            "_view_name": "LayoutView",
            "align_content": null,
            "align_items": null,
            "align_self": null,
            "border": null,
            "bottom": null,
            "display": null,
            "flex": null,
            "flex_flow": null,
            "grid_area": null,
            "grid_auto_columns": null,
            "grid_auto_flow": null,
            "grid_auto_rows": null,
            "grid_column": null,
            "grid_gap": null,
            "grid_row": null,
            "grid_template_areas": null,
            "grid_template_columns": null,
            "grid_template_rows": null,
            "height": null,
            "justify_content": null,
            "justify_items": null,
            "left": null,
            "margin": null,
            "max_height": null,
            "max_width": null,
            "min_height": null,
            "min_width": null,
            "object_fit": null,
            "object_position": null,
            "order": null,
            "overflow": null,
            "overflow_x": null,
            "overflow_y": null,
            "padding": null,
            "right": null,
            "top": null,
            "visibility": null,
            "width": null
          }
        },
        "f87248b4b2eb40ebb59786c8a5caa192": {
          "model_module": "@jupyter-widgets/base",
          "model_name": "LayoutModel",
          "model_module_version": "1.2.0",
          "state": {
            "_model_module": "@jupyter-widgets/base",
            "_model_module_version": "1.2.0",
            "_model_name": "LayoutModel",
            "_view_count": null,
            "_view_module": "@jupyter-widgets/base",
            "_view_module_version": "1.2.0",
            "_view_name": "LayoutView",
            "align_content": null,
            "align_items": null,
            "align_self": null,
            "border": null,
            "bottom": null,
            "display": null,
            "flex": null,
            "flex_flow": null,
            "grid_area": null,
            "grid_auto_columns": null,
            "grid_auto_flow": null,
            "grid_auto_rows": null,
            "grid_column": null,
            "grid_gap": null,
            "grid_row": null,
            "grid_template_areas": null,
            "grid_template_columns": null,
            "grid_template_rows": null,
            "height": null,
            "justify_content": null,
            "justify_items": null,
            "left": null,
            "margin": null,
            "max_height": null,
            "max_width": null,
            "min_height": null,
            "min_width": null,
            "object_fit": null,
            "object_position": null,
            "order": null,
            "overflow": null,
            "overflow_x": null,
            "overflow_y": null,
            "padding": null,
            "right": null,
            "top": null,
            "visibility": null,
            "width": null
          }
        },
        "30904473f9d34e1dbccbc85902c6b852": {
          "model_module": "@jupyter-widgets/controls",
          "model_name": "DescriptionStyleModel",
          "model_module_version": "1.5.0",
          "state": {
            "_model_module": "@jupyter-widgets/controls",
            "_model_module_version": "1.5.0",
            "_model_name": "DescriptionStyleModel",
            "_view_count": null,
            "_view_module": "@jupyter-widgets/base",
            "_view_module_version": "1.2.0",
            "_view_name": "StyleView",
            "description_width": ""
          }
        },
        "30ee8e7f1a2f410ab88d95255cdbaab5": {
          "model_module": "@jupyter-widgets/base",
          "model_name": "LayoutModel",
          "model_module_version": "1.2.0",
          "state": {
            "_model_module": "@jupyter-widgets/base",
            "_model_module_version": "1.2.0",
            "_model_name": "LayoutModel",
            "_view_count": null,
            "_view_module": "@jupyter-widgets/base",
            "_view_module_version": "1.2.0",
            "_view_name": "LayoutView",
            "align_content": null,
            "align_items": null,
            "align_self": null,
            "border": null,
            "bottom": null,
            "display": null,
            "flex": null,
            "flex_flow": null,
            "grid_area": null,
            "grid_auto_columns": null,
            "grid_auto_flow": null,
            "grid_auto_rows": null,
            "grid_column": null,
            "grid_gap": null,
            "grid_row": null,
            "grid_template_areas": null,
            "grid_template_columns": null,
            "grid_template_rows": null,
            "height": null,
            "justify_content": null,
            "justify_items": null,
            "left": null,
            "margin": null,
            "max_height": null,
            "max_width": null,
            "min_height": null,
            "min_width": null,
            "object_fit": null,
            "object_position": null,
            "order": null,
            "overflow": null,
            "overflow_x": null,
            "overflow_y": null,
            "padding": null,
            "right": null,
            "top": null,
            "visibility": null,
            "width": null
          }
        },
        "edaf37efc2e74de399d4eecf5583d343": {
          "model_module": "@jupyter-widgets/controls",
          "model_name": "ProgressStyleModel",
          "model_module_version": "1.5.0",
          "state": {
            "_model_module": "@jupyter-widgets/controls",
            "_model_module_version": "1.5.0",
            "_model_name": "ProgressStyleModel",
            "_view_count": null,
            "_view_module": "@jupyter-widgets/base",
            "_view_module_version": "1.2.0",
            "_view_name": "StyleView",
            "bar_color": null,
            "description_width": ""
          }
        },
        "b190b26045494dbe83a0e3cdf075f38d": {
          "model_module": "@jupyter-widgets/base",
          "model_name": "LayoutModel",
          "model_module_version": "1.2.0",
          "state": {
            "_model_module": "@jupyter-widgets/base",
            "_model_module_version": "1.2.0",
            "_model_name": "LayoutModel",
            "_view_count": null,
            "_view_module": "@jupyter-widgets/base",
            "_view_module_version": "1.2.0",
            "_view_name": "LayoutView",
            "align_content": null,
            "align_items": null,
            "align_self": null,
            "border": null,
            "bottom": null,
            "display": null,
            "flex": null,
            "flex_flow": null,
            "grid_area": null,
            "grid_auto_columns": null,
            "grid_auto_flow": null,
            "grid_auto_rows": null,
            "grid_column": null,
            "grid_gap": null,
            "grid_row": null,
            "grid_template_areas": null,
            "grid_template_columns": null,
            "grid_template_rows": null,
            "height": null,
            "justify_content": null,
            "justify_items": null,
            "left": null,
            "margin": null,
            "max_height": null,
            "max_width": null,
            "min_height": null,
            "min_width": null,
            "object_fit": null,
            "object_position": null,
            "order": null,
            "overflow": null,
            "overflow_x": null,
            "overflow_y": null,
            "padding": null,
            "right": null,
            "top": null,
            "visibility": null,
            "width": null
          }
        },
        "9cf5afa17e8041939a9ef634c39f7786": {
          "model_module": "@jupyter-widgets/controls",
          "model_name": "DescriptionStyleModel",
          "model_module_version": "1.5.0",
          "state": {
            "_model_module": "@jupyter-widgets/controls",
            "_model_module_version": "1.5.0",
            "_model_name": "DescriptionStyleModel",
            "_view_count": null,
            "_view_module": "@jupyter-widgets/base",
            "_view_module_version": "1.2.0",
            "_view_name": "StyleView",
            "description_width": ""
          }
        },
        "da015feb5a1a4e389a8e7e0e4d70f7fa": {
          "model_module": "@jupyter-widgets/controls",
          "model_name": "HBoxModel",
          "model_module_version": "1.5.0",
          "state": {
            "_dom_classes": [],
            "_model_module": "@jupyter-widgets/controls",
            "_model_module_version": "1.5.0",
            "_model_name": "HBoxModel",
            "_view_count": null,
            "_view_module": "@jupyter-widgets/controls",
            "_view_module_version": "1.5.0",
            "_view_name": "HBoxView",
            "box_style": "",
            "children": [
              "IPY_MODEL_26f50b5a63bd4cac9dc2020ce19fb0fd",
              "IPY_MODEL_230435ebb5324026a3595aa0b61d7a89",
              "IPY_MODEL_c786085b9fa5411685be71f7f8660edc"
            ],
            "layout": "IPY_MODEL_c53b5265928d41179db6533ba213c7f9"
          }
        },
        "26f50b5a63bd4cac9dc2020ce19fb0fd": {
          "model_module": "@jupyter-widgets/controls",
          "model_name": "HTMLModel",
          "model_module_version": "1.5.0",
          "state": {
            "_dom_classes": [],
            "_model_module": "@jupyter-widgets/controls",
            "_model_module_version": "1.5.0",
            "_model_name": "HTMLModel",
            "_view_count": null,
            "_view_module": "@jupyter-widgets/controls",
            "_view_module_version": "1.5.0",
            "_view_name": "HTMLView",
            "description": "",
            "description_tooltip": null,
            "layout": "IPY_MODEL_4bcb9f469e3c413bac9cea04a56eb8ed",
            "placeholder": "​",
            "style": "IPY_MODEL_71150423dc84477696871920b61da655",
            "value": "config_sentence_transformers.json: 100%"
          }
        },
        "230435ebb5324026a3595aa0b61d7a89": {
          "model_module": "@jupyter-widgets/controls",
          "model_name": "FloatProgressModel",
          "model_module_version": "1.5.0",
          "state": {
            "_dom_classes": [],
            "_model_module": "@jupyter-widgets/controls",
            "_model_module_version": "1.5.0",
            "_model_name": "FloatProgressModel",
            "_view_count": null,
            "_view_module": "@jupyter-widgets/controls",
            "_view_module_version": "1.5.0",
            "_view_name": "ProgressView",
            "bar_style": "success",
            "description": "",
            "description_tooltip": null,
            "layout": "IPY_MODEL_0dffd5b8c84e472da0886c1a8bdd3c3e",
            "max": 124,
            "min": 0,
            "orientation": "horizontal",
            "style": "IPY_MODEL_85bee875df9d4444bb61ad593a2af7b2",
            "value": 124
          }
        },
        "c786085b9fa5411685be71f7f8660edc": {
          "model_module": "@jupyter-widgets/controls",
          "model_name": "HTMLModel",
          "model_module_version": "1.5.0",
          "state": {
            "_dom_classes": [],
            "_model_module": "@jupyter-widgets/controls",
            "_model_module_version": "1.5.0",
            "_model_name": "HTMLModel",
            "_view_count": null,
            "_view_module": "@jupyter-widgets/controls",
            "_view_module_version": "1.5.0",
            "_view_name": "HTMLView",
            "description": "",
            "description_tooltip": null,
            "layout": "IPY_MODEL_c90f3921218b47e390786991210904f7",
            "placeholder": "​",
            "style": "IPY_MODEL_6023e006ed68401384ff02d2ce344d91",
            "value": " 124/124 [00:00&lt;00:00, 2.42kB/s]"
          }
        },
        "c53b5265928d41179db6533ba213c7f9": {
          "model_module": "@jupyter-widgets/base",
          "model_name": "LayoutModel",
          "model_module_version": "1.2.0",
          "state": {
            "_model_module": "@jupyter-widgets/base",
            "_model_module_version": "1.2.0",
            "_model_name": "LayoutModel",
            "_view_count": null,
            "_view_module": "@jupyter-widgets/base",
            "_view_module_version": "1.2.0",
            "_view_name": "LayoutView",
            "align_content": null,
            "align_items": null,
            "align_self": null,
            "border": null,
            "bottom": null,
            "display": null,
            "flex": null,
            "flex_flow": null,
            "grid_area": null,
            "grid_auto_columns": null,
            "grid_auto_flow": null,
            "grid_auto_rows": null,
            "grid_column": null,
            "grid_gap": null,
            "grid_row": null,
            "grid_template_areas": null,
            "grid_template_columns": null,
            "grid_template_rows": null,
            "height": null,
            "justify_content": null,
            "justify_items": null,
            "left": null,
            "margin": null,
            "max_height": null,
            "max_width": null,
            "min_height": null,
            "min_width": null,
            "object_fit": null,
            "object_position": null,
            "order": null,
            "overflow": null,
            "overflow_x": null,
            "overflow_y": null,
            "padding": null,
            "right": null,
            "top": null,
            "visibility": null,
            "width": null
          }
        },
        "4bcb9f469e3c413bac9cea04a56eb8ed": {
          "model_module": "@jupyter-widgets/base",
          "model_name": "LayoutModel",
          "model_module_version": "1.2.0",
          "state": {
            "_model_module": "@jupyter-widgets/base",
            "_model_module_version": "1.2.0",
            "_model_name": "LayoutModel",
            "_view_count": null,
            "_view_module": "@jupyter-widgets/base",
            "_view_module_version": "1.2.0",
            "_view_name": "LayoutView",
            "align_content": null,
            "align_items": null,
            "align_self": null,
            "border": null,
            "bottom": null,
            "display": null,
            "flex": null,
            "flex_flow": null,
            "grid_area": null,
            "grid_auto_columns": null,
            "grid_auto_flow": null,
            "grid_auto_rows": null,
            "grid_column": null,
            "grid_gap": null,
            "grid_row": null,
            "grid_template_areas": null,
            "grid_template_columns": null,
            "grid_template_rows": null,
            "height": null,
            "justify_content": null,
            "justify_items": null,
            "left": null,
            "margin": null,
            "max_height": null,
            "max_width": null,
            "min_height": null,
            "min_width": null,
            "object_fit": null,
            "object_position": null,
            "order": null,
            "overflow": null,
            "overflow_x": null,
            "overflow_y": null,
            "padding": null,
            "right": null,
            "top": null,
            "visibility": null,
            "width": null
          }
        },
        "71150423dc84477696871920b61da655": {
          "model_module": "@jupyter-widgets/controls",
          "model_name": "DescriptionStyleModel",
          "model_module_version": "1.5.0",
          "state": {
            "_model_module": "@jupyter-widgets/controls",
            "_model_module_version": "1.5.0",
            "_model_name": "DescriptionStyleModel",
            "_view_count": null,
            "_view_module": "@jupyter-widgets/base",
            "_view_module_version": "1.2.0",
            "_view_name": "StyleView",
            "description_width": ""
          }
        },
        "0dffd5b8c84e472da0886c1a8bdd3c3e": {
          "model_module": "@jupyter-widgets/base",
          "model_name": "LayoutModel",
          "model_module_version": "1.2.0",
          "state": {
            "_model_module": "@jupyter-widgets/base",
            "_model_module_version": "1.2.0",
            "_model_name": "LayoutModel",
            "_view_count": null,
            "_view_module": "@jupyter-widgets/base",
            "_view_module_version": "1.2.0",
            "_view_name": "LayoutView",
            "align_content": null,
            "align_items": null,
            "align_self": null,
            "border": null,
            "bottom": null,
            "display": null,
            "flex": null,
            "flex_flow": null,
            "grid_area": null,
            "grid_auto_columns": null,
            "grid_auto_flow": null,
            "grid_auto_rows": null,
            "grid_column": null,
            "grid_gap": null,
            "grid_row": null,
            "grid_template_areas": null,
            "grid_template_columns": null,
            "grid_template_rows": null,
            "height": null,
            "justify_content": null,
            "justify_items": null,
            "left": null,
            "margin": null,
            "max_height": null,
            "max_width": null,
            "min_height": null,
            "min_width": null,
            "object_fit": null,
            "object_position": null,
            "order": null,
            "overflow": null,
            "overflow_x": null,
            "overflow_y": null,
            "padding": null,
            "right": null,
            "top": null,
            "visibility": null,
            "width": null
          }
        },
        "85bee875df9d4444bb61ad593a2af7b2": {
          "model_module": "@jupyter-widgets/controls",
          "model_name": "ProgressStyleModel",
          "model_module_version": "1.5.0",
          "state": {
            "_model_module": "@jupyter-widgets/controls",
            "_model_module_version": "1.5.0",
            "_model_name": "ProgressStyleModel",
            "_view_count": null,
            "_view_module": "@jupyter-widgets/base",
            "_view_module_version": "1.2.0",
            "_view_name": "StyleView",
            "bar_color": null,
            "description_width": ""
          }
        },
        "c90f3921218b47e390786991210904f7": {
          "model_module": "@jupyter-widgets/base",
          "model_name": "LayoutModel",
          "model_module_version": "1.2.0",
          "state": {
            "_model_module": "@jupyter-widgets/base",
            "_model_module_version": "1.2.0",
            "_model_name": "LayoutModel",
            "_view_count": null,
            "_view_module": "@jupyter-widgets/base",
            "_view_module_version": "1.2.0",
            "_view_name": "LayoutView",
            "align_content": null,
            "align_items": null,
            "align_self": null,
            "border": null,
            "bottom": null,
            "display": null,
            "flex": null,
            "flex_flow": null,
            "grid_area": null,
            "grid_auto_columns": null,
            "grid_auto_flow": null,
            "grid_auto_rows": null,
            "grid_column": null,
            "grid_gap": null,
            "grid_row": null,
            "grid_template_areas": null,
            "grid_template_columns": null,
            "grid_template_rows": null,
            "height": null,
            "justify_content": null,
            "justify_items": null,
            "left": null,
            "margin": null,
            "max_height": null,
            "max_width": null,
            "min_height": null,
            "min_width": null,
            "object_fit": null,
            "object_position": null,
            "order": null,
            "overflow": null,
            "overflow_x": null,
            "overflow_y": null,
            "padding": null,
            "right": null,
            "top": null,
            "visibility": null,
            "width": null
          }
        },
        "6023e006ed68401384ff02d2ce344d91": {
          "model_module": "@jupyter-widgets/controls",
          "model_name": "DescriptionStyleModel",
          "model_module_version": "1.5.0",
          "state": {
            "_model_module": "@jupyter-widgets/controls",
            "_model_module_version": "1.5.0",
            "_model_name": "DescriptionStyleModel",
            "_view_count": null,
            "_view_module": "@jupyter-widgets/base",
            "_view_module_version": "1.2.0",
            "_view_name": "StyleView",
            "description_width": ""
          }
        },
        "ac1f6388db9f4dc4b2c5db7a00e44b9c": {
          "model_module": "@jupyter-widgets/controls",
          "model_name": "HBoxModel",
          "model_module_version": "1.5.0",
          "state": {
            "_dom_classes": [],
            "_model_module": "@jupyter-widgets/controls",
            "_model_module_version": "1.5.0",
            "_model_name": "HBoxModel",
            "_view_count": null,
            "_view_module": "@jupyter-widgets/controls",
            "_view_module_version": "1.5.0",
            "_view_name": "HBoxView",
            "box_style": "",
            "children": [
              "IPY_MODEL_31a7b659620c4b1381d7c9b75bdc8d4a",
              "IPY_MODEL_c25cd2a048324eff8d4a2f26983c8ca5",
              "IPY_MODEL_18f98e673ccd457392fcdd3f0bce98bf"
            ],
            "layout": "IPY_MODEL_b75a7bd74df744c684cfdd24045d121d"
          }
        },
        "31a7b659620c4b1381d7c9b75bdc8d4a": {
          "model_module": "@jupyter-widgets/controls",
          "model_name": "HTMLModel",
          "model_module_version": "1.5.0",
          "state": {
            "_dom_classes": [],
            "_model_module": "@jupyter-widgets/controls",
            "_model_module_version": "1.5.0",
            "_model_name": "HTMLModel",
            "_view_count": null,
            "_view_module": "@jupyter-widgets/controls",
            "_view_module_version": "1.5.0",
            "_view_name": "HTMLView",
            "description": "",
            "description_tooltip": null,
            "layout": "IPY_MODEL_62d1aeb708b94684961140b56390b5a5",
            "placeholder": "​",
            "style": "IPY_MODEL_2deeedde22ce478a9234f32bfcce7e00",
            "value": "README.md: 100%"
          }
        },
        "c25cd2a048324eff8d4a2f26983c8ca5": {
          "model_module": "@jupyter-widgets/controls",
          "model_name": "FloatProgressModel",
          "model_module_version": "1.5.0",
          "state": {
            "_dom_classes": [],
            "_model_module": "@jupyter-widgets/controls",
            "_model_module_version": "1.5.0",
            "_model_name": "FloatProgressModel",
            "_view_count": null,
            "_view_module": "@jupyter-widgets/controls",
            "_view_module_version": "1.5.0",
            "_view_name": "ProgressView",
            "bar_style": "success",
            "description": "",
            "description_tooltip": null,
            "layout": "IPY_MODEL_bfa66ff2d2f24459a7b1914325762556",
            "max": 94783,
            "min": 0,
            "orientation": "horizontal",
            "style": "IPY_MODEL_8eb99d35bc0d43e089dcffefae6507ca",
            "value": 94783
          }
        },
        "18f98e673ccd457392fcdd3f0bce98bf": {
          "model_module": "@jupyter-widgets/controls",
          "model_name": "HTMLModel",
          "model_module_version": "1.5.0",
          "state": {
            "_dom_classes": [],
            "_model_module": "@jupyter-widgets/controls",
            "_model_module_version": "1.5.0",
            "_model_name": "HTMLModel",
            "_view_count": null,
            "_view_module": "@jupyter-widgets/controls",
            "_view_module_version": "1.5.0",
            "_view_name": "HTMLView",
            "description": "",
            "description_tooltip": null,
            "layout": "IPY_MODEL_6db4a90af23a47de864477c318f20a6e",
            "placeholder": "​",
            "style": "IPY_MODEL_b95b60d6f7ed4addb33e1612ed3de7d3",
            "value": " 94.8k/94.8k [00:00&lt;00:00, 1.53MB/s]"
          }
        },
        "b75a7bd74df744c684cfdd24045d121d": {
          "model_module": "@jupyter-widgets/base",
          "model_name": "LayoutModel",
          "model_module_version": "1.2.0",
          "state": {
            "_model_module": "@jupyter-widgets/base",
            "_model_module_version": "1.2.0",
            "_model_name": "LayoutModel",
            "_view_count": null,
            "_view_module": "@jupyter-widgets/base",
            "_view_module_version": "1.2.0",
            "_view_name": "LayoutView",
            "align_content": null,
            "align_items": null,
            "align_self": null,
            "border": null,
            "bottom": null,
            "display": null,
            "flex": null,
            "flex_flow": null,
            "grid_area": null,
            "grid_auto_columns": null,
            "grid_auto_flow": null,
            "grid_auto_rows": null,
            "grid_column": null,
            "grid_gap": null,
            "grid_row": null,
            "grid_template_areas": null,
            "grid_template_columns": null,
            "grid_template_rows": null,
            "height": null,
            "justify_content": null,
            "justify_items": null,
            "left": null,
            "margin": null,
            "max_height": null,
            "max_width": null,
            "min_height": null,
            "min_width": null,
            "object_fit": null,
            "object_position": null,
            "order": null,
            "overflow": null,
            "overflow_x": null,
            "overflow_y": null,
            "padding": null,
            "right": null,
            "top": null,
            "visibility": null,
            "width": null
          }
        },
        "62d1aeb708b94684961140b56390b5a5": {
          "model_module": "@jupyter-widgets/base",
          "model_name": "LayoutModel",
          "model_module_version": "1.2.0",
          "state": {
            "_model_module": "@jupyter-widgets/base",
            "_model_module_version": "1.2.0",
            "_model_name": "LayoutModel",
            "_view_count": null,
            "_view_module": "@jupyter-widgets/base",
            "_view_module_version": "1.2.0",
            "_view_name": "LayoutView",
            "align_content": null,
            "align_items": null,
            "align_self": null,
            "border": null,
            "bottom": null,
            "display": null,
            "flex": null,
            "flex_flow": null,
            "grid_area": null,
            "grid_auto_columns": null,
            "grid_auto_flow": null,
            "grid_auto_rows": null,
            "grid_column": null,
            "grid_gap": null,
            "grid_row": null,
            "grid_template_areas": null,
            "grid_template_columns": null,
            "grid_template_rows": null,
            "height": null,
            "justify_content": null,
            "justify_items": null,
            "left": null,
            "margin": null,
            "max_height": null,
            "max_width": null,
            "min_height": null,
            "min_width": null,
            "object_fit": null,
            "object_position": null,
            "order": null,
            "overflow": null,
            "overflow_x": null,
            "overflow_y": null,
            "padding": null,
            "right": null,
            "top": null,
            "visibility": null,
            "width": null
          }
        },
        "2deeedde22ce478a9234f32bfcce7e00": {
          "model_module": "@jupyter-widgets/controls",
          "model_name": "DescriptionStyleModel",
          "model_module_version": "1.5.0",
          "state": {
            "_model_module": "@jupyter-widgets/controls",
            "_model_module_version": "1.5.0",
            "_model_name": "DescriptionStyleModel",
            "_view_count": null,
            "_view_module": "@jupyter-widgets/base",
            "_view_module_version": "1.2.0",
            "_view_name": "StyleView",
            "description_width": ""
          }
        },
        "bfa66ff2d2f24459a7b1914325762556": {
          "model_module": "@jupyter-widgets/base",
          "model_name": "LayoutModel",
          "model_module_version": "1.2.0",
          "state": {
            "_model_module": "@jupyter-widgets/base",
            "_model_module_version": "1.2.0",
            "_model_name": "LayoutModel",
            "_view_count": null,
            "_view_module": "@jupyter-widgets/base",
            "_view_module_version": "1.2.0",
            "_view_name": "LayoutView",
            "align_content": null,
            "align_items": null,
            "align_self": null,
            "border": null,
            "bottom": null,
            "display": null,
            "flex": null,
            "flex_flow": null,
            "grid_area": null,
            "grid_auto_columns": null,
            "grid_auto_flow": null,
            "grid_auto_rows": null,
            "grid_column": null,
            "grid_gap": null,
            "grid_row": null,
            "grid_template_areas": null,
            "grid_template_columns": null,
            "grid_template_rows": null,
            "height": null,
            "justify_content": null,
            "justify_items": null,
            "left": null,
            "margin": null,
            "max_height": null,
            "max_width": null,
            "min_height": null,
            "min_width": null,
            "object_fit": null,
            "object_position": null,
            "order": null,
            "overflow": null,
            "overflow_x": null,
            "overflow_y": null,
            "padding": null,
            "right": null,
            "top": null,
            "visibility": null,
            "width": null
          }
        },
        "8eb99d35bc0d43e089dcffefae6507ca": {
          "model_module": "@jupyter-widgets/controls",
          "model_name": "ProgressStyleModel",
          "model_module_version": "1.5.0",
          "state": {
            "_model_module": "@jupyter-widgets/controls",
            "_model_module_version": "1.5.0",
            "_model_name": "ProgressStyleModel",
            "_view_count": null,
            "_view_module": "@jupyter-widgets/base",
            "_view_module_version": "1.2.0",
            "_view_name": "StyleView",
            "bar_color": null,
            "description_width": ""
          }
        },
        "6db4a90af23a47de864477c318f20a6e": {
          "model_module": "@jupyter-widgets/base",
          "model_name": "LayoutModel",
          "model_module_version": "1.2.0",
          "state": {
            "_model_module": "@jupyter-widgets/base",
            "_model_module_version": "1.2.0",
            "_model_name": "LayoutModel",
            "_view_count": null,
            "_view_module": "@jupyter-widgets/base",
            "_view_module_version": "1.2.0",
            "_view_name": "LayoutView",
            "align_content": null,
            "align_items": null,
            "align_self": null,
            "border": null,
            "bottom": null,
            "display": null,
            "flex": null,
            "flex_flow": null,
            "grid_area": null,
            "grid_auto_columns": null,
            "grid_auto_flow": null,
            "grid_auto_rows": null,
            "grid_column": null,
            "grid_gap": null,
            "grid_row": null,
            "grid_template_areas": null,
            "grid_template_columns": null,
            "grid_template_rows": null,
            "height": null,
            "justify_content": null,
            "justify_items": null,
            "left": null,
            "margin": null,
            "max_height": null,
            "max_width": null,
            "min_height": null,
            "min_width": null,
            "object_fit": null,
            "object_position": null,
            "order": null,
            "overflow": null,
            "overflow_x": null,
            "overflow_y": null,
            "padding": null,
            "right": null,
            "top": null,
            "visibility": null,
            "width": null
          }
        },
        "b95b60d6f7ed4addb33e1612ed3de7d3": {
          "model_module": "@jupyter-widgets/controls",
          "model_name": "DescriptionStyleModel",
          "model_module_version": "1.5.0",
          "state": {
            "_model_module": "@jupyter-widgets/controls",
            "_model_module_version": "1.5.0",
            "_model_name": "DescriptionStyleModel",
            "_view_count": null,
            "_view_module": "@jupyter-widgets/base",
            "_view_module_version": "1.2.0",
            "_view_name": "StyleView",
            "description_width": ""
          }
        },
        "ee816f11540243de9e65fb12a795030d": {
          "model_module": "@jupyter-widgets/controls",
          "model_name": "HBoxModel",
          "model_module_version": "1.5.0",
          "state": {
            "_dom_classes": [],
            "_model_module": "@jupyter-widgets/controls",
            "_model_module_version": "1.5.0",
            "_model_name": "HBoxModel",
            "_view_count": null,
            "_view_module": "@jupyter-widgets/controls",
            "_view_module_version": "1.5.0",
            "_view_name": "HBoxView",
            "box_style": "",
            "children": [
              "IPY_MODEL_7252a8d53b8a431a80008290b4e53b72",
              "IPY_MODEL_e5b84c7bb498489c9f73af89494299d0",
              "IPY_MODEL_dfea34a7666e4c59ad784ad31cb1f978"
            ],
            "layout": "IPY_MODEL_c2fce9a6fbc74156baaaf3312742c2c6"
          }
        },
        "7252a8d53b8a431a80008290b4e53b72": {
          "model_module": "@jupyter-widgets/controls",
          "model_name": "HTMLModel",
          "model_module_version": "1.5.0",
          "state": {
            "_dom_classes": [],
            "_model_module": "@jupyter-widgets/controls",
            "_model_module_version": "1.5.0",
            "_model_name": "HTMLModel",
            "_view_count": null,
            "_view_module": "@jupyter-widgets/controls",
            "_view_module_version": "1.5.0",
            "_view_name": "HTMLView",
            "description": "",
            "description_tooltip": null,
            "layout": "IPY_MODEL_c2ebe6b7f2ed4e9fa41deca1098ab121",
            "placeholder": "​",
            "style": "IPY_MODEL_ae33928b26c84434b236a54cfbda6357",
            "value": "sentence_bert_config.json: 100%"
          }
        },
        "e5b84c7bb498489c9f73af89494299d0": {
          "model_module": "@jupyter-widgets/controls",
          "model_name": "FloatProgressModel",
          "model_module_version": "1.5.0",
          "state": {
            "_dom_classes": [],
            "_model_module": "@jupyter-widgets/controls",
            "_model_module_version": "1.5.0",
            "_model_name": "FloatProgressModel",
            "_view_count": null,
            "_view_module": "@jupyter-widgets/controls",
            "_view_module_version": "1.5.0",
            "_view_name": "ProgressView",
            "bar_style": "success",
            "description": "",
            "description_tooltip": null,
            "layout": "IPY_MODEL_b0aa62664a964af4a5c3dc46190abc51",
            "max": 52,
            "min": 0,
            "orientation": "horizontal",
            "style": "IPY_MODEL_5960c9fa08c142f38b16e90896b43eb5",
            "value": 52
          }
        },
        "dfea34a7666e4c59ad784ad31cb1f978": {
          "model_module": "@jupyter-widgets/controls",
          "model_name": "HTMLModel",
          "model_module_version": "1.5.0",
          "state": {
            "_dom_classes": [],
            "_model_module": "@jupyter-widgets/controls",
            "_model_module_version": "1.5.0",
            "_model_name": "HTMLModel",
            "_view_count": null,
            "_view_module": "@jupyter-widgets/controls",
            "_view_module_version": "1.5.0",
            "_view_name": "HTMLView",
            "description": "",
            "description_tooltip": null,
            "layout": "IPY_MODEL_7f23794d97784a97b813fbf6b12d9d83",
            "placeholder": "​",
            "style": "IPY_MODEL_93b88a4af8604d2eb437af7f2d9c2ea4",
            "value": " 52.0/52.0 [00:00&lt;00:00, 727B/s]"
          }
        },
        "c2fce9a6fbc74156baaaf3312742c2c6": {
          "model_module": "@jupyter-widgets/base",
          "model_name": "LayoutModel",
          "model_module_version": "1.2.0",
          "state": {
            "_model_module": "@jupyter-widgets/base",
            "_model_module_version": "1.2.0",
            "_model_name": "LayoutModel",
            "_view_count": null,
            "_view_module": "@jupyter-widgets/base",
            "_view_module_version": "1.2.0",
            "_view_name": "LayoutView",
            "align_content": null,
            "align_items": null,
            "align_self": null,
            "border": null,
            "bottom": null,
            "display": null,
            "flex": null,
            "flex_flow": null,
            "grid_area": null,
            "grid_auto_columns": null,
            "grid_auto_flow": null,
            "grid_auto_rows": null,
            "grid_column": null,
            "grid_gap": null,
            "grid_row": null,
            "grid_template_areas": null,
            "grid_template_columns": null,
            "grid_template_rows": null,
            "height": null,
            "justify_content": null,
            "justify_items": null,
            "left": null,
            "margin": null,
            "max_height": null,
            "max_width": null,
            "min_height": null,
            "min_width": null,
            "object_fit": null,
            "object_position": null,
            "order": null,
            "overflow": null,
            "overflow_x": null,
            "overflow_y": null,
            "padding": null,
            "right": null,
            "top": null,
            "visibility": null,
            "width": null
          }
        },
        "c2ebe6b7f2ed4e9fa41deca1098ab121": {
          "model_module": "@jupyter-widgets/base",
          "model_name": "LayoutModel",
          "model_module_version": "1.2.0",
          "state": {
            "_model_module": "@jupyter-widgets/base",
            "_model_module_version": "1.2.0",
            "_model_name": "LayoutModel",
            "_view_count": null,
            "_view_module": "@jupyter-widgets/base",
            "_view_module_version": "1.2.0",
            "_view_name": "LayoutView",
            "align_content": null,
            "align_items": null,
            "align_self": null,
            "border": null,
            "bottom": null,
            "display": null,
            "flex": null,
            "flex_flow": null,
            "grid_area": null,
            "grid_auto_columns": null,
            "grid_auto_flow": null,
            "grid_auto_rows": null,
            "grid_column": null,
            "grid_gap": null,
            "grid_row": null,
            "grid_template_areas": null,
            "grid_template_columns": null,
            "grid_template_rows": null,
            "height": null,
            "justify_content": null,
            "justify_items": null,
            "left": null,
            "margin": null,
            "max_height": null,
            "max_width": null,
            "min_height": null,
            "min_width": null,
            "object_fit": null,
            "object_position": null,
            "order": null,
            "overflow": null,
            "overflow_x": null,
            "overflow_y": null,
            "padding": null,
            "right": null,
            "top": null,
            "visibility": null,
            "width": null
          }
        },
        "ae33928b26c84434b236a54cfbda6357": {
          "model_module": "@jupyter-widgets/controls",
          "model_name": "DescriptionStyleModel",
          "model_module_version": "1.5.0",
          "state": {
            "_model_module": "@jupyter-widgets/controls",
            "_model_module_version": "1.5.0",
            "_model_name": "DescriptionStyleModel",
            "_view_count": null,
            "_view_module": "@jupyter-widgets/base",
            "_view_module_version": "1.2.0",
            "_view_name": "StyleView",
            "description_width": ""
          }
        },
        "b0aa62664a964af4a5c3dc46190abc51": {
          "model_module": "@jupyter-widgets/base",
          "model_name": "LayoutModel",
          "model_module_version": "1.2.0",
          "state": {
            "_model_module": "@jupyter-widgets/base",
            "_model_module_version": "1.2.0",
            "_model_name": "LayoutModel",
            "_view_count": null,
            "_view_module": "@jupyter-widgets/base",
            "_view_module_version": "1.2.0",
            "_view_name": "LayoutView",
            "align_content": null,
            "align_items": null,
            "align_self": null,
            "border": null,
            "bottom": null,
            "display": null,
            "flex": null,
            "flex_flow": null,
            "grid_area": null,
            "grid_auto_columns": null,
            "grid_auto_flow": null,
            "grid_auto_rows": null,
            "grid_column": null,
            "grid_gap": null,
            "grid_row": null,
            "grid_template_areas": null,
            "grid_template_columns": null,
            "grid_template_rows": null,
            "height": null,
            "justify_content": null,
            "justify_items": null,
            "left": null,
            "margin": null,
            "max_height": null,
            "max_width": null,
            "min_height": null,
            "min_width": null,
            "object_fit": null,
            "object_position": null,
            "order": null,
            "overflow": null,
            "overflow_x": null,
            "overflow_y": null,
            "padding": null,
            "right": null,
            "top": null,
            "visibility": null,
            "width": null
          }
        },
        "5960c9fa08c142f38b16e90896b43eb5": {
          "model_module": "@jupyter-widgets/controls",
          "model_name": "ProgressStyleModel",
          "model_module_version": "1.5.0",
          "state": {
            "_model_module": "@jupyter-widgets/controls",
            "_model_module_version": "1.5.0",
            "_model_name": "ProgressStyleModel",
            "_view_count": null,
            "_view_module": "@jupyter-widgets/base",
            "_view_module_version": "1.2.0",
            "_view_name": "StyleView",
            "bar_color": null,
            "description_width": ""
          }
        },
        "7f23794d97784a97b813fbf6b12d9d83": {
          "model_module": "@jupyter-widgets/base",
          "model_name": "LayoutModel",
          "model_module_version": "1.2.0",
          "state": {
            "_model_module": "@jupyter-widgets/base",
            "_model_module_version": "1.2.0",
            "_model_name": "LayoutModel",
            "_view_count": null,
            "_view_module": "@jupyter-widgets/base",
            "_view_module_version": "1.2.0",
            "_view_name": "LayoutView",
            "align_content": null,
            "align_items": null,
            "align_self": null,
            "border": null,
            "bottom": null,
            "display": null,
            "flex": null,
            "flex_flow": null,
            "grid_area": null,
            "grid_auto_columns": null,
            "grid_auto_flow": null,
            "grid_auto_rows": null,
            "grid_column": null,
            "grid_gap": null,
            "grid_row": null,
            "grid_template_areas": null,
            "grid_template_columns": null,
            "grid_template_rows": null,
            "height": null,
            "justify_content": null,
            "justify_items": null,
            "left": null,
            "margin": null,
            "max_height": null,
            "max_width": null,
            "min_height": null,
            "min_width": null,
            "object_fit": null,
            "object_position": null,
            "order": null,
            "overflow": null,
            "overflow_x": null,
            "overflow_y": null,
            "padding": null,
            "right": null,
            "top": null,
            "visibility": null,
            "width": null
          }
        },
        "93b88a4af8604d2eb437af7f2d9c2ea4": {
          "model_module": "@jupyter-widgets/controls",
          "model_name": "DescriptionStyleModel",
          "model_module_version": "1.5.0",
          "state": {
            "_model_module": "@jupyter-widgets/controls",
            "_model_module_version": "1.5.0",
            "_model_name": "DescriptionStyleModel",
            "_view_count": null,
            "_view_module": "@jupyter-widgets/base",
            "_view_module_version": "1.2.0",
            "_view_name": "StyleView",
            "description_width": ""
          }
        },
        "166b4a4a22784566b4d6c5d4024eb228": {
          "model_module": "@jupyter-widgets/controls",
          "model_name": "HBoxModel",
          "model_module_version": "1.5.0",
          "state": {
            "_dom_classes": [],
            "_model_module": "@jupyter-widgets/controls",
            "_model_module_version": "1.5.0",
            "_model_name": "HBoxModel",
            "_view_count": null,
            "_view_module": "@jupyter-widgets/controls",
            "_view_module_version": "1.5.0",
            "_view_name": "HBoxView",
            "box_style": "",
            "children": [
              "IPY_MODEL_947e7df00aa846d5a58a979932a50c62",
              "IPY_MODEL_1a05829833544d45bc0f3d1295cd36ec",
              "IPY_MODEL_1f6a4dcb1bee49f0bb7a2ee80445761c"
            ],
            "layout": "IPY_MODEL_be108ab049a14656b1af5b5fcac7710e"
          }
        },
        "947e7df00aa846d5a58a979932a50c62": {
          "model_module": "@jupyter-widgets/controls",
          "model_name": "HTMLModel",
          "model_module_version": "1.5.0",
          "state": {
            "_dom_classes": [],
            "_model_module": "@jupyter-widgets/controls",
            "_model_module_version": "1.5.0",
            "_model_name": "HTMLModel",
            "_view_count": null,
            "_view_module": "@jupyter-widgets/controls",
            "_view_module_version": "1.5.0",
            "_view_name": "HTMLView",
            "description": "",
            "description_tooltip": null,
            "layout": "IPY_MODEL_0b3345a943d54ddca8561c95315dd9d8",
            "placeholder": "​",
            "style": "IPY_MODEL_899c684b59ef4dd79a42cd4bd88f4329",
            "value": "config.json: 100%"
          }
        },
        "1a05829833544d45bc0f3d1295cd36ec": {
          "model_module": "@jupyter-widgets/controls",
          "model_name": "FloatProgressModel",
          "model_module_version": "1.5.0",
          "state": {
            "_dom_classes": [],
            "_model_module": "@jupyter-widgets/controls",
            "_model_module_version": "1.5.0",
            "_model_name": "FloatProgressModel",
            "_view_count": null,
            "_view_module": "@jupyter-widgets/controls",
            "_view_module_version": "1.5.0",
            "_view_name": "ProgressView",
            "bar_style": "success",
            "description": "",
            "description_tooltip": null,
            "layout": "IPY_MODEL_a27fa74467e648cebd6781643f14484c",
            "max": 743,
            "min": 0,
            "orientation": "horizontal",
            "style": "IPY_MODEL_8105e80038494dd285d5f4817d550079",
            "value": 743
          }
        },
        "1f6a4dcb1bee49f0bb7a2ee80445761c": {
          "model_module": "@jupyter-widgets/controls",
          "model_name": "HTMLModel",
          "model_module_version": "1.5.0",
          "state": {
            "_dom_classes": [],
            "_model_module": "@jupyter-widgets/controls",
            "_model_module_version": "1.5.0",
            "_model_name": "HTMLModel",
            "_view_count": null,
            "_view_module": "@jupyter-widgets/controls",
            "_view_module_version": "1.5.0",
            "_view_name": "HTMLView",
            "description": "",
            "description_tooltip": null,
            "layout": "IPY_MODEL_b9e6dc8f804c4d9f8dd9ad9fd8f6291e",
            "placeholder": "​",
            "style": "IPY_MODEL_89eaec32e8a042dfa2066834573491b5",
            "value": " 743/743 [00:00&lt;00:00, 8.87kB/s]"
          }
        },
        "be108ab049a14656b1af5b5fcac7710e": {
          "model_module": "@jupyter-widgets/base",
          "model_name": "LayoutModel",
          "model_module_version": "1.2.0",
          "state": {
            "_model_module": "@jupyter-widgets/base",
            "_model_module_version": "1.2.0",
            "_model_name": "LayoutModel",
            "_view_count": null,
            "_view_module": "@jupyter-widgets/base",
            "_view_module_version": "1.2.0",
            "_view_name": "LayoutView",
            "align_content": null,
            "align_items": null,
            "align_self": null,
            "border": null,
            "bottom": null,
            "display": null,
            "flex": null,
            "flex_flow": null,
            "grid_area": null,
            "grid_auto_columns": null,
            "grid_auto_flow": null,
            "grid_auto_rows": null,
            "grid_column": null,
            "grid_gap": null,
            "grid_row": null,
            "grid_template_areas": null,
            "grid_template_columns": null,
            "grid_template_rows": null,
            "height": null,
            "justify_content": null,
            "justify_items": null,
            "left": null,
            "margin": null,
            "max_height": null,
            "max_width": null,
            "min_height": null,
            "min_width": null,
            "object_fit": null,
            "object_position": null,
            "order": null,
            "overflow": null,
            "overflow_x": null,
            "overflow_y": null,
            "padding": null,
            "right": null,
            "top": null,
            "visibility": null,
            "width": null
          }
        },
        "0b3345a943d54ddca8561c95315dd9d8": {
          "model_module": "@jupyter-widgets/base",
          "model_name": "LayoutModel",
          "model_module_version": "1.2.0",
          "state": {
            "_model_module": "@jupyter-widgets/base",
            "_model_module_version": "1.2.0",
            "_model_name": "LayoutModel",
            "_view_count": null,
            "_view_module": "@jupyter-widgets/base",
            "_view_module_version": "1.2.0",
            "_view_name": "LayoutView",
            "align_content": null,
            "align_items": null,
            "align_self": null,
            "border": null,
            "bottom": null,
            "display": null,
            "flex": null,
            "flex_flow": null,
            "grid_area": null,
            "grid_auto_columns": null,
            "grid_auto_flow": null,
            "grid_auto_rows": null,
            "grid_column": null,
            "grid_gap": null,
            "grid_row": null,
            "grid_template_areas": null,
            "grid_template_columns": null,
            "grid_template_rows": null,
            "height": null,
            "justify_content": null,
            "justify_items": null,
            "left": null,
            "margin": null,
            "max_height": null,
            "max_width": null,
            "min_height": null,
            "min_width": null,
            "object_fit": null,
            "object_position": null,
            "order": null,
            "overflow": null,
            "overflow_x": null,
            "overflow_y": null,
            "padding": null,
            "right": null,
            "top": null,
            "visibility": null,
            "width": null
          }
        },
        "899c684b59ef4dd79a42cd4bd88f4329": {
          "model_module": "@jupyter-widgets/controls",
          "model_name": "DescriptionStyleModel",
          "model_module_version": "1.5.0",
          "state": {
            "_model_module": "@jupyter-widgets/controls",
            "_model_module_version": "1.5.0",
            "_model_name": "DescriptionStyleModel",
            "_view_count": null,
            "_view_module": "@jupyter-widgets/base",
            "_view_module_version": "1.2.0",
            "_view_name": "StyleView",
            "description_width": ""
          }
        },
        "a27fa74467e648cebd6781643f14484c": {
          "model_module": "@jupyter-widgets/base",
          "model_name": "LayoutModel",
          "model_module_version": "1.2.0",
          "state": {
            "_model_module": "@jupyter-widgets/base",
            "_model_module_version": "1.2.0",
            "_model_name": "LayoutModel",
            "_view_count": null,
            "_view_module": "@jupyter-widgets/base",
            "_view_module_version": "1.2.0",
            "_view_name": "LayoutView",
            "align_content": null,
            "align_items": null,
            "align_self": null,
            "border": null,
            "bottom": null,
            "display": null,
            "flex": null,
            "flex_flow": null,
            "grid_area": null,
            "grid_auto_columns": null,
            "grid_auto_flow": null,
            "grid_auto_rows": null,
            "grid_column": null,
            "grid_gap": null,
            "grid_row": null,
            "grid_template_areas": null,
            "grid_template_columns": null,
            "grid_template_rows": null,
            "height": null,
            "justify_content": null,
            "justify_items": null,
            "left": null,
            "margin": null,
            "max_height": null,
            "max_width": null,
            "min_height": null,
            "min_width": null,
            "object_fit": null,
            "object_position": null,
            "order": null,
            "overflow": null,
            "overflow_x": null,
            "overflow_y": null,
            "padding": null,
            "right": null,
            "top": null,
            "visibility": null,
            "width": null
          }
        },
        "8105e80038494dd285d5f4817d550079": {
          "model_module": "@jupyter-widgets/controls",
          "model_name": "ProgressStyleModel",
          "model_module_version": "1.5.0",
          "state": {
            "_model_module": "@jupyter-widgets/controls",
            "_model_module_version": "1.5.0",
            "_model_name": "ProgressStyleModel",
            "_view_count": null,
            "_view_module": "@jupyter-widgets/base",
            "_view_module_version": "1.2.0",
            "_view_name": "StyleView",
            "bar_color": null,
            "description_width": ""
          }
        },
        "b9e6dc8f804c4d9f8dd9ad9fd8f6291e": {
          "model_module": "@jupyter-widgets/base",
          "model_name": "LayoutModel",
          "model_module_version": "1.2.0",
          "state": {
            "_model_module": "@jupyter-widgets/base",
            "_model_module_version": "1.2.0",
            "_model_name": "LayoutModel",
            "_view_count": null,
            "_view_module": "@jupyter-widgets/base",
            "_view_module_version": "1.2.0",
            "_view_name": "LayoutView",
            "align_content": null,
            "align_items": null,
            "align_self": null,
            "border": null,
            "bottom": null,
            "display": null,
            "flex": null,
            "flex_flow": null,
            "grid_area": null,
            "grid_auto_columns": null,
            "grid_auto_flow": null,
            "grid_auto_rows": null,
            "grid_column": null,
            "grid_gap": null,
            "grid_row": null,
            "grid_template_areas": null,
            "grid_template_columns": null,
            "grid_template_rows": null,
            "height": null,
            "justify_content": null,
            "justify_items": null,
            "left": null,
            "margin": null,
            "max_height": null,
            "max_width": null,
            "min_height": null,
            "min_width": null,
            "object_fit": null,
            "object_position": null,
            "order": null,
            "overflow": null,
            "overflow_x": null,
            "overflow_y": null,
            "padding": null,
            "right": null,
            "top": null,
            "visibility": null,
            "width": null
          }
        },
        "89eaec32e8a042dfa2066834573491b5": {
          "model_module": "@jupyter-widgets/controls",
          "model_name": "DescriptionStyleModel",
          "model_module_version": "1.5.0",
          "state": {
            "_model_module": "@jupyter-widgets/controls",
            "_model_module_version": "1.5.0",
            "_model_name": "DescriptionStyleModel",
            "_view_count": null,
            "_view_module": "@jupyter-widgets/base",
            "_view_module_version": "1.2.0",
            "_view_name": "StyleView",
            "description_width": ""
          }
        },
        "16cdc09676e8480ca8e4473d273fc707": {
          "model_module": "@jupyter-widgets/controls",
          "model_name": "HBoxModel",
          "model_module_version": "1.5.0",
          "state": {
            "_dom_classes": [],
            "_model_module": "@jupyter-widgets/controls",
            "_model_module_version": "1.5.0",
            "_model_name": "HBoxModel",
            "_view_count": null,
            "_view_module": "@jupyter-widgets/controls",
            "_view_module_version": "1.5.0",
            "_view_name": "HBoxView",
            "box_style": "",
            "children": [
              "IPY_MODEL_1f881a2b844f4d6380da19bd92a8d99e",
              "IPY_MODEL_5e63fa840a874d209bf096e5c395ec3b",
              "IPY_MODEL_46f771ad89cf4acd994bd25f4737735b"
            ],
            "layout": "IPY_MODEL_f9ad94bf3fbe490fb18ede7db32b2169"
          }
        },
        "1f881a2b844f4d6380da19bd92a8d99e": {
          "model_module": "@jupyter-widgets/controls",
          "model_name": "HTMLModel",
          "model_module_version": "1.5.0",
          "state": {
            "_dom_classes": [],
            "_model_module": "@jupyter-widgets/controls",
            "_model_module_version": "1.5.0",
            "_model_name": "HTMLModel",
            "_view_count": null,
            "_view_module": "@jupyter-widgets/controls",
            "_view_module_version": "1.5.0",
            "_view_name": "HTMLView",
            "description": "",
            "description_tooltip": null,
            "layout": "IPY_MODEL_08c856ccc96444859146bbbca8c4d0e8",
            "placeholder": "​",
            "style": "IPY_MODEL_8053339df8f1434fb22d13b54430c561",
            "value": "model.safetensors: 100%"
          }
        },
        "5e63fa840a874d209bf096e5c395ec3b": {
          "model_module": "@jupyter-widgets/controls",
          "model_name": "FloatProgressModel",
          "model_module_version": "1.5.0",
          "state": {
            "_dom_classes": [],
            "_model_module": "@jupyter-widgets/controls",
            "_model_module_version": "1.5.0",
            "_model_name": "FloatProgressModel",
            "_view_count": null,
            "_view_module": "@jupyter-widgets/controls",
            "_view_module_version": "1.5.0",
            "_view_name": "ProgressView",
            "bar_style": "success",
            "description": "",
            "description_tooltip": null,
            "layout": "IPY_MODEL_b83dcfdc5e0a46e58301ac56e91f4d6c",
            "max": 133466304,
            "min": 0,
            "orientation": "horizontal",
            "style": "IPY_MODEL_7d0d51b2671248578924ba282481ae92",
            "value": 133466304
          }
        },
        "46f771ad89cf4acd994bd25f4737735b": {
          "model_module": "@jupyter-widgets/controls",
          "model_name": "HTMLModel",
          "model_module_version": "1.5.0",
          "state": {
            "_dom_classes": [],
            "_model_module": "@jupyter-widgets/controls",
            "_model_module_version": "1.5.0",
            "_model_name": "HTMLModel",
            "_view_count": null,
            "_view_module": "@jupyter-widgets/controls",
            "_view_module_version": "1.5.0",
            "_view_name": "HTMLView",
            "description": "",
            "description_tooltip": null,
            "layout": "IPY_MODEL_88b1bc563d964cd9a401e359abb8a9e3",
            "placeholder": "​",
            "style": "IPY_MODEL_f884d2684aba41f888a7276774356cc8",
            "value": " 133M/133M [00:01&lt;00:00, 94.1MB/s]"
          }
        },
        "f9ad94bf3fbe490fb18ede7db32b2169": {
          "model_module": "@jupyter-widgets/base",
          "model_name": "LayoutModel",
          "model_module_version": "1.2.0",
          "state": {
            "_model_module": "@jupyter-widgets/base",
            "_model_module_version": "1.2.0",
            "_model_name": "LayoutModel",
            "_view_count": null,
            "_view_module": "@jupyter-widgets/base",
            "_view_module_version": "1.2.0",
            "_view_name": "LayoutView",
            "align_content": null,
            "align_items": null,
            "align_self": null,
            "border": null,
            "bottom": null,
            "display": null,
            "flex": null,
            "flex_flow": null,
            "grid_area": null,
            "grid_auto_columns": null,
            "grid_auto_flow": null,
            "grid_auto_rows": null,
            "grid_column": null,
            "grid_gap": null,
            "grid_row": null,
            "grid_template_areas": null,
            "grid_template_columns": null,
            "grid_template_rows": null,
            "height": null,
            "justify_content": null,
            "justify_items": null,
            "left": null,
            "margin": null,
            "max_height": null,
            "max_width": null,
            "min_height": null,
            "min_width": null,
            "object_fit": null,
            "object_position": null,
            "order": null,
            "overflow": null,
            "overflow_x": null,
            "overflow_y": null,
            "padding": null,
            "right": null,
            "top": null,
            "visibility": null,
            "width": null
          }
        },
        "08c856ccc96444859146bbbca8c4d0e8": {
          "model_module": "@jupyter-widgets/base",
          "model_name": "LayoutModel",
          "model_module_version": "1.2.0",
          "state": {
            "_model_module": "@jupyter-widgets/base",
            "_model_module_version": "1.2.0",
            "_model_name": "LayoutModel",
            "_view_count": null,
            "_view_module": "@jupyter-widgets/base",
            "_view_module_version": "1.2.0",
            "_view_name": "LayoutView",
            "align_content": null,
            "align_items": null,
            "align_self": null,
            "border": null,
            "bottom": null,
            "display": null,
            "flex": null,
            "flex_flow": null,
            "grid_area": null,
            "grid_auto_columns": null,
            "grid_auto_flow": null,
            "grid_auto_rows": null,
            "grid_column": null,
            "grid_gap": null,
            "grid_row": null,
            "grid_template_areas": null,
            "grid_template_columns": null,
            "grid_template_rows": null,
            "height": null,
            "justify_content": null,
            "justify_items": null,
            "left": null,
            "margin": null,
            "max_height": null,
            "max_width": null,
            "min_height": null,
            "min_width": null,
            "object_fit": null,
            "object_position": null,
            "order": null,
            "overflow": null,
            "overflow_x": null,
            "overflow_y": null,
            "padding": null,
            "right": null,
            "top": null,
            "visibility": null,
            "width": null
          }
        },
        "8053339df8f1434fb22d13b54430c561": {
          "model_module": "@jupyter-widgets/controls",
          "model_name": "DescriptionStyleModel",
          "model_module_version": "1.5.0",
          "state": {
            "_model_module": "@jupyter-widgets/controls",
            "_model_module_version": "1.5.0",
            "_model_name": "DescriptionStyleModel",
            "_view_count": null,
            "_view_module": "@jupyter-widgets/base",
            "_view_module_version": "1.2.0",
            "_view_name": "StyleView",
            "description_width": ""
          }
        },
        "b83dcfdc5e0a46e58301ac56e91f4d6c": {
          "model_module": "@jupyter-widgets/base",
          "model_name": "LayoutModel",
          "model_module_version": "1.2.0",
          "state": {
            "_model_module": "@jupyter-widgets/base",
            "_model_module_version": "1.2.0",
            "_model_name": "LayoutModel",
            "_view_count": null,
            "_view_module": "@jupyter-widgets/base",
            "_view_module_version": "1.2.0",
            "_view_name": "LayoutView",
            "align_content": null,
            "align_items": null,
            "align_self": null,
            "border": null,
            "bottom": null,
            "display": null,
            "flex": null,
            "flex_flow": null,
            "grid_area": null,
            "grid_auto_columns": null,
            "grid_auto_flow": null,
            "grid_auto_rows": null,
            "grid_column": null,
            "grid_gap": null,
            "grid_row": null,
            "grid_template_areas": null,
            "grid_template_columns": null,
            "grid_template_rows": null,
            "height": null,
            "justify_content": null,
            "justify_items": null,
            "left": null,
            "margin": null,
            "max_height": null,
            "max_width": null,
            "min_height": null,
            "min_width": null,
            "object_fit": null,
            "object_position": null,
            "order": null,
            "overflow": null,
            "overflow_x": null,
            "overflow_y": null,
            "padding": null,
            "right": null,
            "top": null,
            "visibility": null,
            "width": null
          }
        },
        "7d0d51b2671248578924ba282481ae92": {
          "model_module": "@jupyter-widgets/controls",
          "model_name": "ProgressStyleModel",
          "model_module_version": "1.5.0",
          "state": {
            "_model_module": "@jupyter-widgets/controls",
            "_model_module_version": "1.5.0",
            "_model_name": "ProgressStyleModel",
            "_view_count": null,
            "_view_module": "@jupyter-widgets/base",
            "_view_module_version": "1.2.0",
            "_view_name": "StyleView",
            "bar_color": null,
            "description_width": ""
          }
        },
        "88b1bc563d964cd9a401e359abb8a9e3": {
          "model_module": "@jupyter-widgets/base",
          "model_name": "LayoutModel",
          "model_module_version": "1.2.0",
          "state": {
            "_model_module": "@jupyter-widgets/base",
            "_model_module_version": "1.2.0",
            "_model_name": "LayoutModel",
            "_view_count": null,
            "_view_module": "@jupyter-widgets/base",
            "_view_module_version": "1.2.0",
            "_view_name": "LayoutView",
            "align_content": null,
            "align_items": null,
            "align_self": null,
            "border": null,
            "bottom": null,
            "display": null,
            "flex": null,
            "flex_flow": null,
            "grid_area": null,
            "grid_auto_columns": null,
            "grid_auto_flow": null,
            "grid_auto_rows": null,
            "grid_column": null,
            "grid_gap": null,
            "grid_row": null,
            "grid_template_areas": null,
            "grid_template_columns": null,
            "grid_template_rows": null,
            "height": null,
            "justify_content": null,
            "justify_items": null,
            "left": null,
            "margin": null,
            "max_height": null,
            "max_width": null,
            "min_height": null,
            "min_width": null,
            "object_fit": null,
            "object_position": null,
            "order": null,
            "overflow": null,
            "overflow_x": null,
            "overflow_y": null,
            "padding": null,
            "right": null,
            "top": null,
            "visibility": null,
            "width": null
          }
        },
        "f884d2684aba41f888a7276774356cc8": {
          "model_module": "@jupyter-widgets/controls",
          "model_name": "DescriptionStyleModel",
          "model_module_version": "1.5.0",
          "state": {
            "_model_module": "@jupyter-widgets/controls",
            "_model_module_version": "1.5.0",
            "_model_name": "DescriptionStyleModel",
            "_view_count": null,
            "_view_module": "@jupyter-widgets/base",
            "_view_module_version": "1.2.0",
            "_view_name": "StyleView",
            "description_width": ""
          }
        },
        "18c0310900b3410587e9cdb347ea3994": {
          "model_module": "@jupyter-widgets/controls",
          "model_name": "HBoxModel",
          "model_module_version": "1.5.0",
          "state": {
            "_dom_classes": [],
            "_model_module": "@jupyter-widgets/controls",
            "_model_module_version": "1.5.0",
            "_model_name": "HBoxModel",
            "_view_count": null,
            "_view_module": "@jupyter-widgets/controls",
            "_view_module_version": "1.5.0",
            "_view_name": "HBoxView",
            "box_style": "",
            "children": [
              "IPY_MODEL_eeeed7831dd24e1ebda3039a6267e4c4",
              "IPY_MODEL_41cd48d2f5f84a4c98e996f7646ee45f",
              "IPY_MODEL_dfa82362eeb24f7d83e258cbea25b17b"
            ],
            "layout": "IPY_MODEL_39979629db3c40ef8802c2532e4379f5"
          }
        },
        "eeeed7831dd24e1ebda3039a6267e4c4": {
          "model_module": "@jupyter-widgets/controls",
          "model_name": "HTMLModel",
          "model_module_version": "1.5.0",
          "state": {
            "_dom_classes": [],
            "_model_module": "@jupyter-widgets/controls",
            "_model_module_version": "1.5.0",
            "_model_name": "HTMLModel",
            "_view_count": null,
            "_view_module": "@jupyter-widgets/controls",
            "_view_module_version": "1.5.0",
            "_view_name": "HTMLView",
            "description": "",
            "description_tooltip": null,
            "layout": "IPY_MODEL_f5b8e8d974034021a4246a231ed54fdd",
            "placeholder": "​",
            "style": "IPY_MODEL_8caba0eb311d4509bb6dc79d6c507741",
            "value": "tokenizer_config.json: 100%"
          }
        },
        "41cd48d2f5f84a4c98e996f7646ee45f": {
          "model_module": "@jupyter-widgets/controls",
          "model_name": "FloatProgressModel",
          "model_module_version": "1.5.0",
          "state": {
            "_dom_classes": [],
            "_model_module": "@jupyter-widgets/controls",
            "_model_module_version": "1.5.0",
            "_model_name": "FloatProgressModel",
            "_view_count": null,
            "_view_module": "@jupyter-widgets/controls",
            "_view_module_version": "1.5.0",
            "_view_name": "ProgressView",
            "bar_style": "success",
            "description": "",
            "description_tooltip": null,
            "layout": "IPY_MODEL_014eaa7647b24e0ea3deed2cfa1f5d8f",
            "max": 366,
            "min": 0,
            "orientation": "horizontal",
            "style": "IPY_MODEL_38950a2cbadd494b81ef648cb0546dab",
            "value": 366
          }
        },
        "dfa82362eeb24f7d83e258cbea25b17b": {
          "model_module": "@jupyter-widgets/controls",
          "model_name": "HTMLModel",
          "model_module_version": "1.5.0",
          "state": {
            "_dom_classes": [],
            "_model_module": "@jupyter-widgets/controls",
            "_model_module_version": "1.5.0",
            "_model_name": "HTMLModel",
            "_view_count": null,
            "_view_module": "@jupyter-widgets/controls",
            "_view_module_version": "1.5.0",
            "_view_name": "HTMLView",
            "description": "",
            "description_tooltip": null,
            "layout": "IPY_MODEL_518328a84ecd47d49b4e3c18d27d7e9c",
            "placeholder": "​",
            "style": "IPY_MODEL_4a1c4e4938b64393a93aae277d12dac1",
            "value": " 366/366 [00:00&lt;00:00, 9.68kB/s]"
          }
        },
        "39979629db3c40ef8802c2532e4379f5": {
          "model_module": "@jupyter-widgets/base",
          "model_name": "LayoutModel",
          "model_module_version": "1.2.0",
          "state": {
            "_model_module": "@jupyter-widgets/base",
            "_model_module_version": "1.2.0",
            "_model_name": "LayoutModel",
            "_view_count": null,
            "_view_module": "@jupyter-widgets/base",
            "_view_module_version": "1.2.0",
            "_view_name": "LayoutView",
            "align_content": null,
            "align_items": null,
            "align_self": null,
            "border": null,
            "bottom": null,
            "display": null,
            "flex": null,
            "flex_flow": null,
            "grid_area": null,
            "grid_auto_columns": null,
            "grid_auto_flow": null,
            "grid_auto_rows": null,
            "grid_column": null,
            "grid_gap": null,
            "grid_row": null,
            "grid_template_areas": null,
            "grid_template_columns": null,
            "grid_template_rows": null,
            "height": null,
            "justify_content": null,
            "justify_items": null,
            "left": null,
            "margin": null,
            "max_height": null,
            "max_width": null,
            "min_height": null,
            "min_width": null,
            "object_fit": null,
            "object_position": null,
            "order": null,
            "overflow": null,
            "overflow_x": null,
            "overflow_y": null,
            "padding": null,
            "right": null,
            "top": null,
            "visibility": null,
            "width": null
          }
        },
        "f5b8e8d974034021a4246a231ed54fdd": {
          "model_module": "@jupyter-widgets/base",
          "model_name": "LayoutModel",
          "model_module_version": "1.2.0",
          "state": {
            "_model_module": "@jupyter-widgets/base",
            "_model_module_version": "1.2.0",
            "_model_name": "LayoutModel",
            "_view_count": null,
            "_view_module": "@jupyter-widgets/base",
            "_view_module_version": "1.2.0",
            "_view_name": "LayoutView",
            "align_content": null,
            "align_items": null,
            "align_self": null,
            "border": null,
            "bottom": null,
            "display": null,
            "flex": null,
            "flex_flow": null,
            "grid_area": null,
            "grid_auto_columns": null,
            "grid_auto_flow": null,
            "grid_auto_rows": null,
            "grid_column": null,
            "grid_gap": null,
            "grid_row": null,
            "grid_template_areas": null,
            "grid_template_columns": null,
            "grid_template_rows": null,
            "height": null,
            "justify_content": null,
            "justify_items": null,
            "left": null,
            "margin": null,
            "max_height": null,
            "max_width": null,
            "min_height": null,
            "min_width": null,
            "object_fit": null,
            "object_position": null,
            "order": null,
            "overflow": null,
            "overflow_x": null,
            "overflow_y": null,
            "padding": null,
            "right": null,
            "top": null,
            "visibility": null,
            "width": null
          }
        },
        "8caba0eb311d4509bb6dc79d6c507741": {
          "model_module": "@jupyter-widgets/controls",
          "model_name": "DescriptionStyleModel",
          "model_module_version": "1.5.0",
          "state": {
            "_model_module": "@jupyter-widgets/controls",
            "_model_module_version": "1.5.0",
            "_model_name": "DescriptionStyleModel",
            "_view_count": null,
            "_view_module": "@jupyter-widgets/base",
            "_view_module_version": "1.2.0",
            "_view_name": "StyleView",
            "description_width": ""
          }
        },
        "014eaa7647b24e0ea3deed2cfa1f5d8f": {
          "model_module": "@jupyter-widgets/base",
          "model_name": "LayoutModel",
          "model_module_version": "1.2.0",
          "state": {
            "_model_module": "@jupyter-widgets/base",
            "_model_module_version": "1.2.0",
            "_model_name": "LayoutModel",
            "_view_count": null,
            "_view_module": "@jupyter-widgets/base",
            "_view_module_version": "1.2.0",
            "_view_name": "LayoutView",
            "align_content": null,
            "align_items": null,
            "align_self": null,
            "border": null,
            "bottom": null,
            "display": null,
            "flex": null,
            "flex_flow": null,
            "grid_area": null,
            "grid_auto_columns": null,
            "grid_auto_flow": null,
            "grid_auto_rows": null,
            "grid_column": null,
            "grid_gap": null,
            "grid_row": null,
            "grid_template_areas": null,
            "grid_template_columns": null,
            "grid_template_rows": null,
            "height": null,
            "justify_content": null,
            "justify_items": null,
            "left": null,
            "margin": null,
            "max_height": null,
            "max_width": null,
            "min_height": null,
            "min_width": null,
            "object_fit": null,
            "object_position": null,
            "order": null,
            "overflow": null,
            "overflow_x": null,
            "overflow_y": null,
            "padding": null,
            "right": null,
            "top": null,
            "visibility": null,
            "width": null
          }
        },
        "38950a2cbadd494b81ef648cb0546dab": {
          "model_module": "@jupyter-widgets/controls",
          "model_name": "ProgressStyleModel",
          "model_module_version": "1.5.0",
          "state": {
            "_model_module": "@jupyter-widgets/controls",
            "_model_module_version": "1.5.0",
            "_model_name": "ProgressStyleModel",
            "_view_count": null,
            "_view_module": "@jupyter-widgets/base",
            "_view_module_version": "1.2.0",
            "_view_name": "StyleView",
            "bar_color": null,
            "description_width": ""
          }
        },
        "518328a84ecd47d49b4e3c18d27d7e9c": {
          "model_module": "@jupyter-widgets/base",
          "model_name": "LayoutModel",
          "model_module_version": "1.2.0",
          "state": {
            "_model_module": "@jupyter-widgets/base",
            "_model_module_version": "1.2.0",
            "_model_name": "LayoutModel",
            "_view_count": null,
            "_view_module": "@jupyter-widgets/base",
            "_view_module_version": "1.2.0",
            "_view_name": "LayoutView",
            "align_content": null,
            "align_items": null,
            "align_self": null,
            "border": null,
            "bottom": null,
            "display": null,
            "flex": null,
            "flex_flow": null,
            "grid_area": null,
            "grid_auto_columns": null,
            "grid_auto_flow": null,
            "grid_auto_rows": null,
            "grid_column": null,
            "grid_gap": null,
            "grid_row": null,
            "grid_template_areas": null,
            "grid_template_columns": null,
            "grid_template_rows": null,
            "height": null,
            "justify_content": null,
            "justify_items": null,
            "left": null,
            "margin": null,
            "max_height": null,
            "max_width": null,
            "min_height": null,
            "min_width": null,
            "object_fit": null,
            "object_position": null,
            "order": null,
            "overflow": null,
            "overflow_x": null,
            "overflow_y": null,
            "padding": null,
            "right": null,
            "top": null,
            "visibility": null,
            "width": null
          }
        },
        "4a1c4e4938b64393a93aae277d12dac1": {
          "model_module": "@jupyter-widgets/controls",
          "model_name": "DescriptionStyleModel",
          "model_module_version": "1.5.0",
          "state": {
            "_model_module": "@jupyter-widgets/controls",
            "_model_module_version": "1.5.0",
            "_model_name": "DescriptionStyleModel",
            "_view_count": null,
            "_view_module": "@jupyter-widgets/base",
            "_view_module_version": "1.2.0",
            "_view_name": "StyleView",
            "description_width": ""
          }
        },
        "7161de52e8d34c508e724070bf22811e": {
          "model_module": "@jupyter-widgets/controls",
          "model_name": "HBoxModel",
          "model_module_version": "1.5.0",
          "state": {
            "_dom_classes": [],
            "_model_module": "@jupyter-widgets/controls",
            "_model_module_version": "1.5.0",
            "_model_name": "HBoxModel",
            "_view_count": null,
            "_view_module": "@jupyter-widgets/controls",
            "_view_module_version": "1.5.0",
            "_view_name": "HBoxView",
            "box_style": "",
            "children": [
              "IPY_MODEL_ec0fcfcf9be94bb78a2818fa1220f5b8",
              "IPY_MODEL_086ebd5ebed8432eae7c4d6cc33ad672",
              "IPY_MODEL_dc3a1700cf2b449fbd71c5105523fa56"
            ],
            "layout": "IPY_MODEL_11f06c562a6b4bc0bcb3cd3c9f264b0a"
          }
        },
        "ec0fcfcf9be94bb78a2818fa1220f5b8": {
          "model_module": "@jupyter-widgets/controls",
          "model_name": "HTMLModel",
          "model_module_version": "1.5.0",
          "state": {
            "_dom_classes": [],
            "_model_module": "@jupyter-widgets/controls",
            "_model_module_version": "1.5.0",
            "_model_name": "HTMLModel",
            "_view_count": null,
            "_view_module": "@jupyter-widgets/controls",
            "_view_module_version": "1.5.0",
            "_view_name": "HTMLView",
            "description": "",
            "description_tooltip": null,
            "layout": "IPY_MODEL_3aab660434b446a99c06320c30941c32",
            "placeholder": "​",
            "style": "IPY_MODEL_2e4a7f9eb19a4bc8bea38027a6f3e295",
            "value": "vocab.txt: 100%"
          }
        },
        "086ebd5ebed8432eae7c4d6cc33ad672": {
          "model_module": "@jupyter-widgets/controls",
          "model_name": "FloatProgressModel",
          "model_module_version": "1.5.0",
          "state": {
            "_dom_classes": [],
            "_model_module": "@jupyter-widgets/controls",
            "_model_module_version": "1.5.0",
            "_model_name": "FloatProgressModel",
            "_view_count": null,
            "_view_module": "@jupyter-widgets/controls",
            "_view_module_version": "1.5.0",
            "_view_name": "ProgressView",
            "bar_style": "success",
            "description": "",
            "description_tooltip": null,
            "layout": "IPY_MODEL_0ca73ba1ecda48b28b672875602c2421",
            "max": 231508,
            "min": 0,
            "orientation": "horizontal",
            "style": "IPY_MODEL_0a8c89ca1d5b454096f78f20cdb72a79",
            "value": 231508
          }
        },
        "dc3a1700cf2b449fbd71c5105523fa56": {
          "model_module": "@jupyter-widgets/controls",
          "model_name": "HTMLModel",
          "model_module_version": "1.5.0",
          "state": {
            "_dom_classes": [],
            "_model_module": "@jupyter-widgets/controls",
            "_model_module_version": "1.5.0",
            "_model_name": "HTMLModel",
            "_view_count": null,
            "_view_module": "@jupyter-widgets/controls",
            "_view_module_version": "1.5.0",
            "_view_name": "HTMLView",
            "description": "",
            "description_tooltip": null,
            "layout": "IPY_MODEL_a6bd0f9148c04599ac67bc80be329287",
            "placeholder": "​",
            "style": "IPY_MODEL_de58570315aa422fb554be5dcd2d2969",
            "value": " 232k/232k [00:00&lt;00:00, 1.81MB/s]"
          }
        },
        "11f06c562a6b4bc0bcb3cd3c9f264b0a": {
          "model_module": "@jupyter-widgets/base",
          "model_name": "LayoutModel",
          "model_module_version": "1.2.0",
          "state": {
            "_model_module": "@jupyter-widgets/base",
            "_model_module_version": "1.2.0",
            "_model_name": "LayoutModel",
            "_view_count": null,
            "_view_module": "@jupyter-widgets/base",
            "_view_module_version": "1.2.0",
            "_view_name": "LayoutView",
            "align_content": null,
            "align_items": null,
            "align_self": null,
            "border": null,
            "bottom": null,
            "display": null,
            "flex": null,
            "flex_flow": null,
            "grid_area": null,
            "grid_auto_columns": null,
            "grid_auto_flow": null,
            "grid_auto_rows": null,
            "grid_column": null,
            "grid_gap": null,
            "grid_row": null,
            "grid_template_areas": null,
            "grid_template_columns": null,
            "grid_template_rows": null,
            "height": null,
            "justify_content": null,
            "justify_items": null,
            "left": null,
            "margin": null,
            "max_height": null,
            "max_width": null,
            "min_height": null,
            "min_width": null,
            "object_fit": null,
            "object_position": null,
            "order": null,
            "overflow": null,
            "overflow_x": null,
            "overflow_y": null,
            "padding": null,
            "right": null,
            "top": null,
            "visibility": null,
            "width": null
          }
        },
        "3aab660434b446a99c06320c30941c32": {
          "model_module": "@jupyter-widgets/base",
          "model_name": "LayoutModel",
          "model_module_version": "1.2.0",
          "state": {
            "_model_module": "@jupyter-widgets/base",
            "_model_module_version": "1.2.0",
            "_model_name": "LayoutModel",
            "_view_count": null,
            "_view_module": "@jupyter-widgets/base",
            "_view_module_version": "1.2.0",
            "_view_name": "LayoutView",
            "align_content": null,
            "align_items": null,
            "align_self": null,
            "border": null,
            "bottom": null,
            "display": null,
            "flex": null,
            "flex_flow": null,
            "grid_area": null,
            "grid_auto_columns": null,
            "grid_auto_flow": null,
            "grid_auto_rows": null,
            "grid_column": null,
            "grid_gap": null,
            "grid_row": null,
            "grid_template_areas": null,
            "grid_template_columns": null,
            "grid_template_rows": null,
            "height": null,
            "justify_content": null,
            "justify_items": null,
            "left": null,
            "margin": null,
            "max_height": null,
            "max_width": null,
            "min_height": null,
            "min_width": null,
            "object_fit": null,
            "object_position": null,
            "order": null,
            "overflow": null,
            "overflow_x": null,
            "overflow_y": null,
            "padding": null,
            "right": null,
            "top": null,
            "visibility": null,
            "width": null
          }
        },
        "2e4a7f9eb19a4bc8bea38027a6f3e295": {
          "model_module": "@jupyter-widgets/controls",
          "model_name": "DescriptionStyleModel",
          "model_module_version": "1.5.0",
          "state": {
            "_model_module": "@jupyter-widgets/controls",
            "_model_module_version": "1.5.0",
            "_model_name": "DescriptionStyleModel",
            "_view_count": null,
            "_view_module": "@jupyter-widgets/base",
            "_view_module_version": "1.2.0",
            "_view_name": "StyleView",
            "description_width": ""
          }
        },
        "0ca73ba1ecda48b28b672875602c2421": {
          "model_module": "@jupyter-widgets/base",
          "model_name": "LayoutModel",
          "model_module_version": "1.2.0",
          "state": {
            "_model_module": "@jupyter-widgets/base",
            "_model_module_version": "1.2.0",
            "_model_name": "LayoutModel",
            "_view_count": null,
            "_view_module": "@jupyter-widgets/base",
            "_view_module_version": "1.2.0",
            "_view_name": "LayoutView",
            "align_content": null,
            "align_items": null,
            "align_self": null,
            "border": null,
            "bottom": null,
            "display": null,
            "flex": null,
            "flex_flow": null,
            "grid_area": null,
            "grid_auto_columns": null,
            "grid_auto_flow": null,
            "grid_auto_rows": null,
            "grid_column": null,
            "grid_gap": null,
            "grid_row": null,
            "grid_template_areas": null,
            "grid_template_columns": null,
            "grid_template_rows": null,
            "height": null,
            "justify_content": null,
            "justify_items": null,
            "left": null,
            "margin": null,
            "max_height": null,
            "max_width": null,
            "min_height": null,
            "min_width": null,
            "object_fit": null,
            "object_position": null,
            "order": null,
            "overflow": null,
            "overflow_x": null,
            "overflow_y": null,
            "padding": null,
            "right": null,
            "top": null,
            "visibility": null,
            "width": null
          }
        },
        "0a8c89ca1d5b454096f78f20cdb72a79": {
          "model_module": "@jupyter-widgets/controls",
          "model_name": "ProgressStyleModel",
          "model_module_version": "1.5.0",
          "state": {
            "_model_module": "@jupyter-widgets/controls",
            "_model_module_version": "1.5.0",
            "_model_name": "ProgressStyleModel",
            "_view_count": null,
            "_view_module": "@jupyter-widgets/base",
            "_view_module_version": "1.2.0",
            "_view_name": "StyleView",
            "bar_color": null,
            "description_width": ""
          }
        },
        "a6bd0f9148c04599ac67bc80be329287": {
          "model_module": "@jupyter-widgets/base",
          "model_name": "LayoutModel",
          "model_module_version": "1.2.0",
          "state": {
            "_model_module": "@jupyter-widgets/base",
            "_model_module_version": "1.2.0",
            "_model_name": "LayoutModel",
            "_view_count": null,
            "_view_module": "@jupyter-widgets/base",
            "_view_module_version": "1.2.0",
            "_view_name": "LayoutView",
            "align_content": null,
            "align_items": null,
            "align_self": null,
            "border": null,
            "bottom": null,
            "display": null,
            "flex": null,
            "flex_flow": null,
            "grid_area": null,
            "grid_auto_columns": null,
            "grid_auto_flow": null,
            "grid_auto_rows": null,
            "grid_column": null,
            "grid_gap": null,
            "grid_row": null,
            "grid_template_areas": null,
            "grid_template_columns": null,
            "grid_template_rows": null,
            "height": null,
            "justify_content": null,
            "justify_items": null,
            "left": null,
            "margin": null,
            "max_height": null,
            "max_width": null,
            "min_height": null,
            "min_width": null,
            "object_fit": null,
            "object_position": null,
            "order": null,
            "overflow": null,
            "overflow_x": null,
            "overflow_y": null,
            "padding": null,
            "right": null,
            "top": null,
            "visibility": null,
            "width": null
          }
        },
        "de58570315aa422fb554be5dcd2d2969": {
          "model_module": "@jupyter-widgets/controls",
          "model_name": "DescriptionStyleModel",
          "model_module_version": "1.5.0",
          "state": {
            "_model_module": "@jupyter-widgets/controls",
            "_model_module_version": "1.5.0",
            "_model_name": "DescriptionStyleModel",
            "_view_count": null,
            "_view_module": "@jupyter-widgets/base",
            "_view_module_version": "1.2.0",
            "_view_name": "StyleView",
            "description_width": ""
          }
        },
        "a8764a3145a9498d8c8a2dd0d34ecd9e": {
          "model_module": "@jupyter-widgets/controls",
          "model_name": "HBoxModel",
          "model_module_version": "1.5.0",
          "state": {
            "_dom_classes": [],
            "_model_module": "@jupyter-widgets/controls",
            "_model_module_version": "1.5.0",
            "_model_name": "HBoxModel",
            "_view_count": null,
            "_view_module": "@jupyter-widgets/controls",
            "_view_module_version": "1.5.0",
            "_view_name": "HBoxView",
            "box_style": "",
            "children": [
              "IPY_MODEL_2f7e3ebad11f4f0bbe080a5b8dc8b603",
              "IPY_MODEL_1fed8630507f420f905a343855fc1cdd",
              "IPY_MODEL_af3fa0e6f7ac4e2f92336e51fc215d54"
            ],
            "layout": "IPY_MODEL_c10aa22c7ab94609b8dd93c9334e331a"
          }
        },
        "2f7e3ebad11f4f0bbe080a5b8dc8b603": {
          "model_module": "@jupyter-widgets/controls",
          "model_name": "HTMLModel",
          "model_module_version": "1.5.0",
          "state": {
            "_dom_classes": [],
            "_model_module": "@jupyter-widgets/controls",
            "_model_module_version": "1.5.0",
            "_model_name": "HTMLModel",
            "_view_count": null,
            "_view_module": "@jupyter-widgets/controls",
            "_view_module_version": "1.5.0",
            "_view_name": "HTMLView",
            "description": "",
            "description_tooltip": null,
            "layout": "IPY_MODEL_336db712194e4f7c81d25bb869e4f026",
            "placeholder": "​",
            "style": "IPY_MODEL_18b8ac5321ee4bd89c376effcc838199",
            "value": "tokenizer.json: 100%"
          }
        },
        "1fed8630507f420f905a343855fc1cdd": {
          "model_module": "@jupyter-widgets/controls",
          "model_name": "FloatProgressModel",
          "model_module_version": "1.5.0",
          "state": {
            "_dom_classes": [],
            "_model_module": "@jupyter-widgets/controls",
            "_model_module_version": "1.5.0",
            "_model_name": "FloatProgressModel",
            "_view_count": null,
            "_view_module": "@jupyter-widgets/controls",
            "_view_module_version": "1.5.0",
            "_view_name": "ProgressView",
            "bar_style": "success",
            "description": "",
            "description_tooltip": null,
            "layout": "IPY_MODEL_8087f83920a541a991b7ed1ecdfd97b6",
            "max": 711396,
            "min": 0,
            "orientation": "horizontal",
            "style": "IPY_MODEL_aa610099d9ca43b08be675f6beb71b80",
            "value": 711396
          }
        },
        "af3fa0e6f7ac4e2f92336e51fc215d54": {
          "model_module": "@jupyter-widgets/controls",
          "model_name": "HTMLModel",
          "model_module_version": "1.5.0",
          "state": {
            "_dom_classes": [],
            "_model_module": "@jupyter-widgets/controls",
            "_model_module_version": "1.5.0",
            "_model_name": "HTMLModel",
            "_view_count": null,
            "_view_module": "@jupyter-widgets/controls",
            "_view_module_version": "1.5.0",
            "_view_name": "HTMLView",
            "description": "",
            "description_tooltip": null,
            "layout": "IPY_MODEL_27d429f4109c4104872c5c86c6f0b87e",
            "placeholder": "​",
            "style": "IPY_MODEL_dfc750742ec54f3a9700a6a4d03430da",
            "value": " 711k/711k [00:00&lt;00:00, 1.17MB/s]"
          }
        },
        "c10aa22c7ab94609b8dd93c9334e331a": {
          "model_module": "@jupyter-widgets/base",
          "model_name": "LayoutModel",
          "model_module_version": "1.2.0",
          "state": {
            "_model_module": "@jupyter-widgets/base",
            "_model_module_version": "1.2.0",
            "_model_name": "LayoutModel",
            "_view_count": null,
            "_view_module": "@jupyter-widgets/base",
            "_view_module_version": "1.2.0",
            "_view_name": "LayoutView",
            "align_content": null,
            "align_items": null,
            "align_self": null,
            "border": null,
            "bottom": null,
            "display": null,
            "flex": null,
            "flex_flow": null,
            "grid_area": null,
            "grid_auto_columns": null,
            "grid_auto_flow": null,
            "grid_auto_rows": null,
            "grid_column": null,
            "grid_gap": null,
            "grid_row": null,
            "grid_template_areas": null,
            "grid_template_columns": null,
            "grid_template_rows": null,
            "height": null,
            "justify_content": null,
            "justify_items": null,
            "left": null,
            "margin": null,
            "max_height": null,
            "max_width": null,
            "min_height": null,
            "min_width": null,
            "object_fit": null,
            "object_position": null,
            "order": null,
            "overflow": null,
            "overflow_x": null,
            "overflow_y": null,
            "padding": null,
            "right": null,
            "top": null,
            "visibility": null,
            "width": null
          }
        },
        "336db712194e4f7c81d25bb869e4f026": {
          "model_module": "@jupyter-widgets/base",
          "model_name": "LayoutModel",
          "model_module_version": "1.2.0",
          "state": {
            "_model_module": "@jupyter-widgets/base",
            "_model_module_version": "1.2.0",
            "_model_name": "LayoutModel",
            "_view_count": null,
            "_view_module": "@jupyter-widgets/base",
            "_view_module_version": "1.2.0",
            "_view_name": "LayoutView",
            "align_content": null,
            "align_items": null,
            "align_self": null,
            "border": null,
            "bottom": null,
            "display": null,
            "flex": null,
            "flex_flow": null,
            "grid_area": null,
            "grid_auto_columns": null,
            "grid_auto_flow": null,
            "grid_auto_rows": null,
            "grid_column": null,
            "grid_gap": null,
            "grid_row": null,
            "grid_template_areas": null,
            "grid_template_columns": null,
            "grid_template_rows": null,
            "height": null,
            "justify_content": null,
            "justify_items": null,
            "left": null,
            "margin": null,
            "max_height": null,
            "max_width": null,
            "min_height": null,
            "min_width": null,
            "object_fit": null,
            "object_position": null,
            "order": null,
            "overflow": null,
            "overflow_x": null,
            "overflow_y": null,
            "padding": null,
            "right": null,
            "top": null,
            "visibility": null,
            "width": null
          }
        },
        "18b8ac5321ee4bd89c376effcc838199": {
          "model_module": "@jupyter-widgets/controls",
          "model_name": "DescriptionStyleModel",
          "model_module_version": "1.5.0",
          "state": {
            "_model_module": "@jupyter-widgets/controls",
            "_model_module_version": "1.5.0",
            "_model_name": "DescriptionStyleModel",
            "_view_count": null,
            "_view_module": "@jupyter-widgets/base",
            "_view_module_version": "1.2.0",
            "_view_name": "StyleView",
            "description_width": ""
          }
        },
        "8087f83920a541a991b7ed1ecdfd97b6": {
          "model_module": "@jupyter-widgets/base",
          "model_name": "LayoutModel",
          "model_module_version": "1.2.0",
          "state": {
            "_model_module": "@jupyter-widgets/base",
            "_model_module_version": "1.2.0",
            "_model_name": "LayoutModel",
            "_view_count": null,
            "_view_module": "@jupyter-widgets/base",
            "_view_module_version": "1.2.0",
            "_view_name": "LayoutView",
            "align_content": null,
            "align_items": null,
            "align_self": null,
            "border": null,
            "bottom": null,
            "display": null,
            "flex": null,
            "flex_flow": null,
            "grid_area": null,
            "grid_auto_columns": null,
            "grid_auto_flow": null,
            "grid_auto_rows": null,
            "grid_column": null,
            "grid_gap": null,
            "grid_row": null,
            "grid_template_areas": null,
            "grid_template_columns": null,
            "grid_template_rows": null,
            "height": null,
            "justify_content": null,
            "justify_items": null,
            "left": null,
            "margin": null,
            "max_height": null,
            "max_width": null,
            "min_height": null,
            "min_width": null,
            "object_fit": null,
            "object_position": null,
            "order": null,
            "overflow": null,
            "overflow_x": null,
            "overflow_y": null,
            "padding": null,
            "right": null,
            "top": null,
            "visibility": null,
            "width": null
          }
        },
        "aa610099d9ca43b08be675f6beb71b80": {
          "model_module": "@jupyter-widgets/controls",
          "model_name": "ProgressStyleModel",
          "model_module_version": "1.5.0",
          "state": {
            "_model_module": "@jupyter-widgets/controls",
            "_model_module_version": "1.5.0",
            "_model_name": "ProgressStyleModel",
            "_view_count": null,
            "_view_module": "@jupyter-widgets/base",
            "_view_module_version": "1.2.0",
            "_view_name": "StyleView",
            "bar_color": null,
            "description_width": ""
          }
        },
        "27d429f4109c4104872c5c86c6f0b87e": {
          "model_module": "@jupyter-widgets/base",
          "model_name": "LayoutModel",
          "model_module_version": "1.2.0",
          "state": {
            "_model_module": "@jupyter-widgets/base",
            "_model_module_version": "1.2.0",
            "_model_name": "LayoutModel",
            "_view_count": null,
            "_view_module": "@jupyter-widgets/base",
            "_view_module_version": "1.2.0",
            "_view_name": "LayoutView",
            "align_content": null,
            "align_items": null,
            "align_self": null,
            "border": null,
            "bottom": null,
            "display": null,
            "flex": null,
            "flex_flow": null,
            "grid_area": null,
            "grid_auto_columns": null,
            "grid_auto_flow": null,
            "grid_auto_rows": null,
            "grid_column": null,
            "grid_gap": null,
            "grid_row": null,
            "grid_template_areas": null,
            "grid_template_columns": null,
            "grid_template_rows": null,
            "height": null,
            "justify_content": null,
            "justify_items": null,
            "left": null,
            "margin": null,
            "max_height": null,
            "max_width": null,
            "min_height": null,
            "min_width": null,
            "object_fit": null,
            "object_position": null,
            "order": null,
            "overflow": null,
            "overflow_x": null,
            "overflow_y": null,
            "padding": null,
            "right": null,
            "top": null,
            "visibility": null,
            "width": null
          }
        },
        "dfc750742ec54f3a9700a6a4d03430da": {
          "model_module": "@jupyter-widgets/controls",
          "model_name": "DescriptionStyleModel",
          "model_module_version": "1.5.0",
          "state": {
            "_model_module": "@jupyter-widgets/controls",
            "_model_module_version": "1.5.0",
            "_model_name": "DescriptionStyleModel",
            "_view_count": null,
            "_view_module": "@jupyter-widgets/base",
            "_view_module_version": "1.2.0",
            "_view_name": "StyleView",
            "description_width": ""
          }
        },
        "078fcbdc2cd04090bd4d1945da28a2b9": {
          "model_module": "@jupyter-widgets/controls",
          "model_name": "HBoxModel",
          "model_module_version": "1.5.0",
          "state": {
            "_dom_classes": [],
            "_model_module": "@jupyter-widgets/controls",
            "_model_module_version": "1.5.0",
            "_model_name": "HBoxModel",
            "_view_count": null,
            "_view_module": "@jupyter-widgets/controls",
            "_view_module_version": "1.5.0",
            "_view_name": "HBoxView",
            "box_style": "",
            "children": [
              "IPY_MODEL_bc62f944748341489d5c4868e2b945d3",
              "IPY_MODEL_c4477e12afb24622baaedaf46f0ece9f",
              "IPY_MODEL_db1c44d3416d435db64a7c17deade6aa"
            ],
            "layout": "IPY_MODEL_49b7a3d9b44348ab8b1edd54f3c0cfad"
          }
        },
        "bc62f944748341489d5c4868e2b945d3": {
          "model_module": "@jupyter-widgets/controls",
          "model_name": "HTMLModel",
          "model_module_version": "1.5.0",
          "state": {
            "_dom_classes": [],
            "_model_module": "@jupyter-widgets/controls",
            "_model_module_version": "1.5.0",
            "_model_name": "HTMLModel",
            "_view_count": null,
            "_view_module": "@jupyter-widgets/controls",
            "_view_module_version": "1.5.0",
            "_view_name": "HTMLView",
            "description": "",
            "description_tooltip": null,
            "layout": "IPY_MODEL_f28c40e80ebd45f7b4f316239fe0ac3a",
            "placeholder": "​",
            "style": "IPY_MODEL_ebb2e609667d4464a35952180357b4fa",
            "value": "special_tokens_map.json: 100%"
          }
        },
        "c4477e12afb24622baaedaf46f0ece9f": {
          "model_module": "@jupyter-widgets/controls",
          "model_name": "FloatProgressModel",
          "model_module_version": "1.5.0",
          "state": {
            "_dom_classes": [],
            "_model_module": "@jupyter-widgets/controls",
            "_model_module_version": "1.5.0",
            "_model_name": "FloatProgressModel",
            "_view_count": null,
            "_view_module": "@jupyter-widgets/controls",
            "_view_module_version": "1.5.0",
            "_view_name": "ProgressView",
            "bar_style": "success",
            "description": "",
            "description_tooltip": null,
            "layout": "IPY_MODEL_6b8b516bd8c74e51a06dbce63b2967d2",
            "max": 125,
            "min": 0,
            "orientation": "horizontal",
            "style": "IPY_MODEL_cec34860d31c4127bc8db4a93fbbc4b8",
            "value": 125
          }
        },
        "db1c44d3416d435db64a7c17deade6aa": {
          "model_module": "@jupyter-widgets/controls",
          "model_name": "HTMLModel",
          "model_module_version": "1.5.0",
          "state": {
            "_dom_classes": [],
            "_model_module": "@jupyter-widgets/controls",
            "_model_module_version": "1.5.0",
            "_model_name": "HTMLModel",
            "_view_count": null,
            "_view_module": "@jupyter-widgets/controls",
            "_view_module_version": "1.5.0",
            "_view_name": "HTMLView",
            "description": "",
            "description_tooltip": null,
            "layout": "IPY_MODEL_ff227b3a642a4dde9e97000b14856bcc",
            "placeholder": "​",
            "style": "IPY_MODEL_cb04ad53414b4a7d82de00690d049aaa",
            "value": " 125/125 [00:00&lt;00:00, 1.97kB/s]"
          }
        },
        "49b7a3d9b44348ab8b1edd54f3c0cfad": {
          "model_module": "@jupyter-widgets/base",
          "model_name": "LayoutModel",
          "model_module_version": "1.2.0",
          "state": {
            "_model_module": "@jupyter-widgets/base",
            "_model_module_version": "1.2.0",
            "_model_name": "LayoutModel",
            "_view_count": null,
            "_view_module": "@jupyter-widgets/base",
            "_view_module_version": "1.2.0",
            "_view_name": "LayoutView",
            "align_content": null,
            "align_items": null,
            "align_self": null,
            "border": null,
            "bottom": null,
            "display": null,
            "flex": null,
            "flex_flow": null,
            "grid_area": null,
            "grid_auto_columns": null,
            "grid_auto_flow": null,
            "grid_auto_rows": null,
            "grid_column": null,
            "grid_gap": null,
            "grid_row": null,
            "grid_template_areas": null,
            "grid_template_columns": null,
            "grid_template_rows": null,
            "height": null,
            "justify_content": null,
            "justify_items": null,
            "left": null,
            "margin": null,
            "max_height": null,
            "max_width": null,
            "min_height": null,
            "min_width": null,
            "object_fit": null,
            "object_position": null,
            "order": null,
            "overflow": null,
            "overflow_x": null,
            "overflow_y": null,
            "padding": null,
            "right": null,
            "top": null,
            "visibility": null,
            "width": null
          }
        },
        "f28c40e80ebd45f7b4f316239fe0ac3a": {
          "model_module": "@jupyter-widgets/base",
          "model_name": "LayoutModel",
          "model_module_version": "1.2.0",
          "state": {
            "_model_module": "@jupyter-widgets/base",
            "_model_module_version": "1.2.0",
            "_model_name": "LayoutModel",
            "_view_count": null,
            "_view_module": "@jupyter-widgets/base",
            "_view_module_version": "1.2.0",
            "_view_name": "LayoutView",
            "align_content": null,
            "align_items": null,
            "align_self": null,
            "border": null,
            "bottom": null,
            "display": null,
            "flex": null,
            "flex_flow": null,
            "grid_area": null,
            "grid_auto_columns": null,
            "grid_auto_flow": null,
            "grid_auto_rows": null,
            "grid_column": null,
            "grid_gap": null,
            "grid_row": null,
            "grid_template_areas": null,
            "grid_template_columns": null,
            "grid_template_rows": null,
            "height": null,
            "justify_content": null,
            "justify_items": null,
            "left": null,
            "margin": null,
            "max_height": null,
            "max_width": null,
            "min_height": null,
            "min_width": null,
            "object_fit": null,
            "object_position": null,
            "order": null,
            "overflow": null,
            "overflow_x": null,
            "overflow_y": null,
            "padding": null,
            "right": null,
            "top": null,
            "visibility": null,
            "width": null
          }
        },
        "ebb2e609667d4464a35952180357b4fa": {
          "model_module": "@jupyter-widgets/controls",
          "model_name": "DescriptionStyleModel",
          "model_module_version": "1.5.0",
          "state": {
            "_model_module": "@jupyter-widgets/controls",
            "_model_module_version": "1.5.0",
            "_model_name": "DescriptionStyleModel",
            "_view_count": null,
            "_view_module": "@jupyter-widgets/base",
            "_view_module_version": "1.2.0",
            "_view_name": "StyleView",
            "description_width": ""
          }
        },
        "6b8b516bd8c74e51a06dbce63b2967d2": {
          "model_module": "@jupyter-widgets/base",
          "model_name": "LayoutModel",
          "model_module_version": "1.2.0",
          "state": {
            "_model_module": "@jupyter-widgets/base",
            "_model_module_version": "1.2.0",
            "_model_name": "LayoutModel",
            "_view_count": null,
            "_view_module": "@jupyter-widgets/base",
            "_view_module_version": "1.2.0",
            "_view_name": "LayoutView",
            "align_content": null,
            "align_items": null,
            "align_self": null,
            "border": null,
            "bottom": null,
            "display": null,
            "flex": null,
            "flex_flow": null,
            "grid_area": null,
            "grid_auto_columns": null,
            "grid_auto_flow": null,
            "grid_auto_rows": null,
            "grid_column": null,
            "grid_gap": null,
            "grid_row": null,
            "grid_template_areas": null,
            "grid_template_columns": null,
            "grid_template_rows": null,
            "height": null,
            "justify_content": null,
            "justify_items": null,
            "left": null,
            "margin": null,
            "max_height": null,
            "max_width": null,
            "min_height": null,
            "min_width": null,
            "object_fit": null,
            "object_position": null,
            "order": null,
            "overflow": null,
            "overflow_x": null,
            "overflow_y": null,
            "padding": null,
            "right": null,
            "top": null,
            "visibility": null,
            "width": null
          }
        },
        "cec34860d31c4127bc8db4a93fbbc4b8": {
          "model_module": "@jupyter-widgets/controls",
          "model_name": "ProgressStyleModel",
          "model_module_version": "1.5.0",
          "state": {
            "_model_module": "@jupyter-widgets/controls",
            "_model_module_version": "1.5.0",
            "_model_name": "ProgressStyleModel",
            "_view_count": null,
            "_view_module": "@jupyter-widgets/base",
            "_view_module_version": "1.2.0",
            "_view_name": "StyleView",
            "bar_color": null,
            "description_width": ""
          }
        },
        "ff227b3a642a4dde9e97000b14856bcc": {
          "model_module": "@jupyter-widgets/base",
          "model_name": "LayoutModel",
          "model_module_version": "1.2.0",
          "state": {
            "_model_module": "@jupyter-widgets/base",
            "_model_module_version": "1.2.0",
            "_model_name": "LayoutModel",
            "_view_count": null,
            "_view_module": "@jupyter-widgets/base",
            "_view_module_version": "1.2.0",
            "_view_name": "LayoutView",
            "align_content": null,
            "align_items": null,
            "align_self": null,
            "border": null,
            "bottom": null,
            "display": null,
            "flex": null,
            "flex_flow": null,
            "grid_area": null,
            "grid_auto_columns": null,
            "grid_auto_flow": null,
            "grid_auto_rows": null,
            "grid_column": null,
            "grid_gap": null,
            "grid_row": null,
            "grid_template_areas": null,
            "grid_template_columns": null,
            "grid_template_rows": null,
            "height": null,
            "justify_content": null,
            "justify_items": null,
            "left": null,
            "margin": null,
            "max_height": null,
            "max_width": null,
            "min_height": null,
            "min_width": null,
            "object_fit": null,
            "object_position": null,
            "order": null,
            "overflow": null,
            "overflow_x": null,
            "overflow_y": null,
            "padding": null,
            "right": null,
            "top": null,
            "visibility": null,
            "width": null
          }
        },
        "cb04ad53414b4a7d82de00690d049aaa": {
          "model_module": "@jupyter-widgets/controls",
          "model_name": "DescriptionStyleModel",
          "model_module_version": "1.5.0",
          "state": {
            "_model_module": "@jupyter-widgets/controls",
            "_model_module_version": "1.5.0",
            "_model_name": "DescriptionStyleModel",
            "_view_count": null,
            "_view_module": "@jupyter-widgets/base",
            "_view_module_version": "1.2.0",
            "_view_name": "StyleView",
            "description_width": ""
          }
        },
        "eca1cbb6da7943f19612382c1ca1d6be": {
          "model_module": "@jupyter-widgets/controls",
          "model_name": "HBoxModel",
          "model_module_version": "1.5.0",
          "state": {
            "_dom_classes": [],
            "_model_module": "@jupyter-widgets/controls",
            "_model_module_version": "1.5.0",
            "_model_name": "HBoxModel",
            "_view_count": null,
            "_view_module": "@jupyter-widgets/controls",
            "_view_module_version": "1.5.0",
            "_view_name": "HBoxView",
            "box_style": "",
            "children": [
              "IPY_MODEL_e047fb92ac324a2185d7bdef673a745b",
              "IPY_MODEL_1826b441ba134c9fbf9eab8c6577d1a2",
              "IPY_MODEL_b5c3edee696a4539aa3c0591a204c4d8"
            ],
            "layout": "IPY_MODEL_5246f8543b5941c99a387849796be1e1"
          }
        },
        "e047fb92ac324a2185d7bdef673a745b": {
          "model_module": "@jupyter-widgets/controls",
          "model_name": "HTMLModel",
          "model_module_version": "1.5.0",
          "state": {
            "_dom_classes": [],
            "_model_module": "@jupyter-widgets/controls",
            "_model_module_version": "1.5.0",
            "_model_name": "HTMLModel",
            "_view_count": null,
            "_view_module": "@jupyter-widgets/controls",
            "_view_module_version": "1.5.0",
            "_view_name": "HTMLView",
            "description": "",
            "description_tooltip": null,
            "layout": "IPY_MODEL_b687aee57b6b4be18557306387154339",
            "placeholder": "​",
            "style": "IPY_MODEL_78a3cf0be7604417a00015320db5715a",
            "value": "1_Pooling/config.json: 100%"
          }
        },
        "1826b441ba134c9fbf9eab8c6577d1a2": {
          "model_module": "@jupyter-widgets/controls",
          "model_name": "FloatProgressModel",
          "model_module_version": "1.5.0",
          "state": {
            "_dom_classes": [],
            "_model_module": "@jupyter-widgets/controls",
            "_model_module_version": "1.5.0",
            "_model_name": "FloatProgressModel",
            "_view_count": null,
            "_view_module": "@jupyter-widgets/controls",
            "_view_module_version": "1.5.0",
            "_view_name": "ProgressView",
            "bar_style": "success",
            "description": "",
            "description_tooltip": null,
            "layout": "IPY_MODEL_c602a6f2513b4cdbab718a42ba99529c",
            "max": 190,
            "min": 0,
            "orientation": "horizontal",
            "style": "IPY_MODEL_801e101bf9964cd092ddc8c7553eb786",
            "value": 190
          }
        },
        "b5c3edee696a4539aa3c0591a204c4d8": {
          "model_module": "@jupyter-widgets/controls",
          "model_name": "HTMLModel",
          "model_module_version": "1.5.0",
          "state": {
            "_dom_classes": [],
            "_model_module": "@jupyter-widgets/controls",
            "_model_module_version": "1.5.0",
            "_model_name": "HTMLModel",
            "_view_count": null,
            "_view_module": "@jupyter-widgets/controls",
            "_view_module_version": "1.5.0",
            "_view_name": "HTMLView",
            "description": "",
            "description_tooltip": null,
            "layout": "IPY_MODEL_3bcf26f024a6492e928d5c2201e5ea31",
            "placeholder": "​",
            "style": "IPY_MODEL_33c7898f8237425da86cc3aaac92bc90",
            "value": " 190/190 [00:00&lt;00:00, 3.14kB/s]"
          }
        },
        "5246f8543b5941c99a387849796be1e1": {
          "model_module": "@jupyter-widgets/base",
          "model_name": "LayoutModel",
          "model_module_version": "1.2.0",
          "state": {
            "_model_module": "@jupyter-widgets/base",
            "_model_module_version": "1.2.0",
            "_model_name": "LayoutModel",
            "_view_count": null,
            "_view_module": "@jupyter-widgets/base",
            "_view_module_version": "1.2.0",
            "_view_name": "LayoutView",
            "align_content": null,
            "align_items": null,
            "align_self": null,
            "border": null,
            "bottom": null,
            "display": null,
            "flex": null,
            "flex_flow": null,
            "grid_area": null,
            "grid_auto_columns": null,
            "grid_auto_flow": null,
            "grid_auto_rows": null,
            "grid_column": null,
            "grid_gap": null,
            "grid_row": null,
            "grid_template_areas": null,
            "grid_template_columns": null,
            "grid_template_rows": null,
            "height": null,
            "justify_content": null,
            "justify_items": null,
            "left": null,
            "margin": null,
            "max_height": null,
            "max_width": null,
            "min_height": null,
            "min_width": null,
            "object_fit": null,
            "object_position": null,
            "order": null,
            "overflow": null,
            "overflow_x": null,
            "overflow_y": null,
            "padding": null,
            "right": null,
            "top": null,
            "visibility": null,
            "width": null
          }
        },
        "b687aee57b6b4be18557306387154339": {
          "model_module": "@jupyter-widgets/base",
          "model_name": "LayoutModel",
          "model_module_version": "1.2.0",
          "state": {
            "_model_module": "@jupyter-widgets/base",
            "_model_module_version": "1.2.0",
            "_model_name": "LayoutModel",
            "_view_count": null,
            "_view_module": "@jupyter-widgets/base",
            "_view_module_version": "1.2.0",
            "_view_name": "LayoutView",
            "align_content": null,
            "align_items": null,
            "align_self": null,
            "border": null,
            "bottom": null,
            "display": null,
            "flex": null,
            "flex_flow": null,
            "grid_area": null,
            "grid_auto_columns": null,
            "grid_auto_flow": null,
            "grid_auto_rows": null,
            "grid_column": null,
            "grid_gap": null,
            "grid_row": null,
            "grid_template_areas": null,
            "grid_template_columns": null,
            "grid_template_rows": null,
            "height": null,
            "justify_content": null,
            "justify_items": null,
            "left": null,
            "margin": null,
            "max_height": null,
            "max_width": null,
            "min_height": null,
            "min_width": null,
            "object_fit": null,
            "object_position": null,
            "order": null,
            "overflow": null,
            "overflow_x": null,
            "overflow_y": null,
            "padding": null,
            "right": null,
            "top": null,
            "visibility": null,
            "width": null
          }
        },
        "78a3cf0be7604417a00015320db5715a": {
          "model_module": "@jupyter-widgets/controls",
          "model_name": "DescriptionStyleModel",
          "model_module_version": "1.5.0",
          "state": {
            "_model_module": "@jupyter-widgets/controls",
            "_model_module_version": "1.5.0",
            "_model_name": "DescriptionStyleModel",
            "_view_count": null,
            "_view_module": "@jupyter-widgets/base",
            "_view_module_version": "1.2.0",
            "_view_name": "StyleView",
            "description_width": ""
          }
        },
        "c602a6f2513b4cdbab718a42ba99529c": {
          "model_module": "@jupyter-widgets/base",
          "model_name": "LayoutModel",
          "model_module_version": "1.2.0",
          "state": {
            "_model_module": "@jupyter-widgets/base",
            "_model_module_version": "1.2.0",
            "_model_name": "LayoutModel",
            "_view_count": null,
            "_view_module": "@jupyter-widgets/base",
            "_view_module_version": "1.2.0",
            "_view_name": "LayoutView",
            "align_content": null,
            "align_items": null,
            "align_self": null,
            "border": null,
            "bottom": null,
            "display": null,
            "flex": null,
            "flex_flow": null,
            "grid_area": null,
            "grid_auto_columns": null,
            "grid_auto_flow": null,
            "grid_auto_rows": null,
            "grid_column": null,
            "grid_gap": null,
            "grid_row": null,
            "grid_template_areas": null,
            "grid_template_columns": null,
            "grid_template_rows": null,
            "height": null,
            "justify_content": null,
            "justify_items": null,
            "left": null,
            "margin": null,
            "max_height": null,
            "max_width": null,
            "min_height": null,
            "min_width": null,
            "object_fit": null,
            "object_position": null,
            "order": null,
            "overflow": null,
            "overflow_x": null,
            "overflow_y": null,
            "padding": null,
            "right": null,
            "top": null,
            "visibility": null,
            "width": null
          }
        },
        "801e101bf9964cd092ddc8c7553eb786": {
          "model_module": "@jupyter-widgets/controls",
          "model_name": "ProgressStyleModel",
          "model_module_version": "1.5.0",
          "state": {
            "_model_module": "@jupyter-widgets/controls",
            "_model_module_version": "1.5.0",
            "_model_name": "ProgressStyleModel",
            "_view_count": null,
            "_view_module": "@jupyter-widgets/base",
            "_view_module_version": "1.2.0",
            "_view_name": "StyleView",
            "bar_color": null,
            "description_width": ""
          }
        },
        "3bcf26f024a6492e928d5c2201e5ea31": {
          "model_module": "@jupyter-widgets/base",
          "model_name": "LayoutModel",
          "model_module_version": "1.2.0",
          "state": {
            "_model_module": "@jupyter-widgets/base",
            "_model_module_version": "1.2.0",
            "_model_name": "LayoutModel",
            "_view_count": null,
            "_view_module": "@jupyter-widgets/base",
            "_view_module_version": "1.2.0",
            "_view_name": "LayoutView",
            "align_content": null,
            "align_items": null,
            "align_self": null,
            "border": null,
            "bottom": null,
            "display": null,
            "flex": null,
            "flex_flow": null,
            "grid_area": null,
            "grid_auto_columns": null,
            "grid_auto_flow": null,
            "grid_auto_rows": null,
            "grid_column": null,
            "grid_gap": null,
            "grid_row": null,
            "grid_template_areas": null,
            "grid_template_columns": null,
            "grid_template_rows": null,
            "height": null,
            "justify_content": null,
            "justify_items": null,
            "left": null,
            "margin": null,
            "max_height": null,
            "max_width": null,
            "min_height": null,
            "min_width": null,
            "object_fit": null,
            "object_position": null,
            "order": null,
            "overflow": null,
            "overflow_x": null,
            "overflow_y": null,
            "padding": null,
            "right": null,
            "top": null,
            "visibility": null,
            "width": null
          }
        },
        "33c7898f8237425da86cc3aaac92bc90": {
          "model_module": "@jupyter-widgets/controls",
          "model_name": "DescriptionStyleModel",
          "model_module_version": "1.5.0",
          "state": {
            "_model_module": "@jupyter-widgets/controls",
            "_model_module_version": "1.5.0",
            "_model_name": "DescriptionStyleModel",
            "_view_count": null,
            "_view_module": "@jupyter-widgets/base",
            "_view_module_version": "1.2.0",
            "_view_name": "StyleView",
            "description_width": ""
          }
        }
      }
    }
  },
  "cells": [
    {
      "cell_type": "markdown",
      "metadata": {
        "id": "view-in-github",
        "colab_type": "text"
      },
      "source": [
        "<a href=\"https://colab.research.google.com/github/mgfrantz/CTME-llm-lecture-resources/blob/main/prototyping_ai/01_getting_started_with_openai.ipynb\" target=\"_parent\"><img src=\"https://colab.research.google.com/assets/colab-badge.svg\" alt=\"Open In Colab\"/></a>"
      ]
    },
    {
      "cell_type": "markdown",
      "source": [
        "# Making our first LLM API call\n",
        "\n"
      ],
      "metadata": {
        "id": "4HDOGmN6OmF0"
      }
    },
    {
      "cell_type": "markdown",
      "source": [
        "## Setup"
      ],
      "metadata": {
        "id": "uZDWgZfZQGcU"
      }
    },
    {
      "cell_type": "code",
      "execution_count": null,
      "metadata": {
        "id": "JYQyB8QUIhOm",
        "colab": {
          "base_uri": "https://localhost:8080/"
        },
        "outputId": "20761969-a7d2-4629-f919-0783fe32f5f5"
      },
      "outputs": [
        {
          "output_type": "stream",
          "name": "stdout",
          "text": [
            "\u001b[?25l   \u001b[90m━━━━━━━━━━━━━━━━━━━━━━━━━━━━━━━━━━━━━━━━\u001b[0m \u001b[32m0.0/389.6 kB\u001b[0m \u001b[31m?\u001b[0m eta \u001b[36m-:--:--\u001b[0m\r\u001b[2K   \u001b[91m━━━━━━━━━━━━━━━━━━━━━━━━━━\u001b[0m\u001b[90m╺\u001b[0m\u001b[90m━━━━━━━━━━━━━\u001b[0m \u001b[32m256.0/389.6 kB\u001b[0m \u001b[31m11.5 MB/s\u001b[0m eta \u001b[36m0:00:01\u001b[0m\r\u001b[2K   \u001b[90m━━━━━━━━━━━━━━━━━━━━━━━━━━━━━━━━━━━━━━━━\u001b[0m \u001b[32m389.6/389.6 kB\u001b[0m \u001b[31m6.7 MB/s\u001b[0m eta \u001b[36m0:00:00\u001b[0m\n",
            "\u001b[?25h"
          ]
        }
      ],
      "source": [
        "!pip install -Uqqqq openai"
      ]
    },
    {
      "cell_type": "code",
      "source": [
        "# Imports\n",
        "from rich import print"
      ],
      "metadata": {
        "id": "z7bXGANBPZk-"
      },
      "execution_count": null,
      "outputs": []
    },
    {
      "cell_type": "markdown",
      "source": [
        "## Setting our `OPENAI_API_KEY` environment variable\n",
        "\n",
        "When we use any LLM provider like OpenAI, Anthropic, or Google, we need some way to tell them who we are making the request.\n",
        "Today, we'll be using OpenAI.\n",
        "The most straightforward way to provide this key is through the environment variable `OPENAI_API_KEY`.\n",
        "The OpenAI python client looks for this environment variable to use in authentication.\n",
        "\n",
        "In the cell below, we load it from the Google Colab secrets manager on the left 👈.\n",
        "Before runnign this code, make sure your API key is set as shown below:\n",
        "\n",
        "![](https://github.com/mgfrantz/CTME-llm-lecture-resources/blob/main/images/colabSecrets.png?raw=true)"
      ],
      "metadata": {
        "id": "XfqCJ9bmLDG2"
      }
    },
    {
      "cell_type": "code",
      "source": [
        "# Set the OPENAI_API_KEY environment variable\n",
        "from google.colab import userdata # import the environment variables from secrets\n",
        "import os\n",
        "os.environ['OPENAI_API_KEY'] = userdata.get('OPENAI_API_KEY') # Set the OPENAI_API_KEY environmnet variable"
      ],
      "metadata": {
        "id": "N2nPVwzrIpPQ"
      },
      "execution_count": null,
      "outputs": []
    },
    {
      "cell_type": "markdown",
      "source": [
        "## Under the hood: `curl`\n",
        "\n",
        "Almost all of the interactions we will have with LLMs are through API calls.\n",
        "Below is one of the most low-level ways we can call an LLM, using the `curl` command.\n",
        "This command gives us a lot of information about how the API request is structured.\n",
        "We pass a JSON with an authorization header containing our `OPENAI_API_KEY`.\n",
        "We also pass the model we want to call, the chat messages, and hyperparameters such as `temperature` that help control how text is generated."
      ],
      "metadata": {
        "id": "e-_7WDTwPyZo"
      }
    },
    {
      "cell_type": "code",
      "source": [
        "# Make the API call to OpenAI and store the response in test.json\n",
        "!curl https://api.openai.com/v1/chat/completions \\\n",
        "  -H \"Content-Type: application/json\" \\\n",
        "  -H \"Authorization: Bearer $OPENAI_API_KEY\" \\\n",
        "  -d '{ \\\n",
        "     \"model\": \"gpt-4o-mini\", \\\n",
        "     \"messages\": [{\"role\": \"user\", \"content\": \"Say: This is a test!\"}], \\\n",
        "     \"temperature\": 0.7 \\\n",
        "    }' > test.json\n",
        "# Show the output of test.json formatted nicely\n",
        "!cat test.json | python -m json.tool"
      ],
      "metadata": {
        "id": "s47r5FtcOyLG",
        "colab": {
          "base_uri": "https://localhost:8080/"
        },
        "outputId": "2e0f6607-85e8-4967-edf0-7cda0c28fb89"
      },
      "execution_count": null,
      "outputs": [
        {
          "output_type": "stream",
          "name": "stdout",
          "text": [
            "  % Total    % Received % Xferd  Average Speed   Time    Time     Time  Current\n",
            "                                 Dload  Upload   Total   Spent    Left  Speed\n",
            "100   901  100   765  100   136    736    130  0:00:01  0:00:01 --:--:--   868\n",
            "{\n",
            "    \"id\": \"chatcmpl-AR5Xfe2ByVqhgkp2vOmMmn7cFySE3\",\n",
            "    \"object\": \"chat.completion\",\n",
            "    \"created\": 1731019523,\n",
            "    \"model\": \"gpt-4o-mini-2024-07-18\",\n",
            "    \"choices\": [\n",
            "        {\n",
            "            \"index\": 0,\n",
            "            \"message\": {\n",
            "                \"role\": \"assistant\",\n",
            "                \"content\": \"This is a test!\",\n",
            "                \"refusal\": null\n",
            "            },\n",
            "            \"logprobs\": null,\n",
            "            \"finish_reason\": \"stop\"\n",
            "        }\n",
            "    ],\n",
            "    \"usage\": {\n",
            "        \"prompt_tokens\": 14,\n",
            "        \"completion_tokens\": 5,\n",
            "        \"total_tokens\": 19,\n",
            "        \"prompt_tokens_details\": {\n",
            "            \"cached_tokens\": 0,\n",
            "            \"audio_tokens\": 0\n",
            "        },\n",
            "        \"completion_tokens_details\": {\n",
            "            \"reasoning_tokens\": 0,\n",
            "            \"audio_tokens\": 0,\n",
            "            \"accepted_prediction_tokens\": 0,\n",
            "            \"rejected_prediction_tokens\": 0\n",
            "        }\n",
            "    },\n",
            "    \"system_fingerprint\": \"fp_0ba0d124f1\"\n",
            "}\n"
          ]
        }
      ]
    },
    {
      "cell_type": "markdown",
      "source": [
        "## Using the OpenAI Python client\n",
        "\n",
        "While the `curl` command shows us how the API call is made, it's not something that we can easily use in more complex applications.\n",
        "One thing we can use is the OpenAI python client.\n",
        "We can do the exact same thing, but the API call is a bit more abstracted from the developer.\n",
        "Let's see how to perform the exact same API call using the OpenAI clinet 👇:"
      ],
      "metadata": {
        "id": "DPRgn2_IP3w6"
      }
    },
    {
      "cell_type": "code",
      "source": [
        "from openai import OpenAI # import OpenAI\n",
        "client = OpenAI() # Create the OpenAI client"
      ],
      "metadata": {
        "id": "fPRvearuIz86"
      },
      "execution_count": null,
      "outputs": []
    },
    {
      "cell_type": "code",
      "source": [
        "# Create the messages (same as above)\n",
        "messages = [\n",
        "    {\"role\": \"user\", \"content\": \"Say: This is a test!\"},\n",
        "]\n",
        "\n",
        "# Make the API call\n",
        "chat_completion = client.chat.completions.create(\n",
        "    model=\"gpt-4o-mini\",\n",
        "    messages=messages,\n",
        "    # stream=True\n",
        ")"
      ],
      "metadata": {
        "id": "vYbGuKC8I3na"
      },
      "execution_count": null,
      "outputs": []
    },
    {
      "cell_type": "code",
      "source": [
        "# Display the output\n",
        "print(chat_completion)"
      ],
      "metadata": {
        "id": "2gd5AitgI9kU",
        "colab": {
          "base_uri": "https://localhost:8080/",
          "height": 592
        },
        "outputId": "64113803-3b2a-4945-e480-b2a56808a949"
      },
      "execution_count": null,
      "outputs": [
        {
          "output_type": "display_data",
          "data": {
            "text/plain": [
              "\u001b[1;35mChatCompletion\u001b[0m\u001b[1m(\u001b[0m\n",
              "    \u001b[33mid\u001b[0m=\u001b[32m'chatcmpl-AR5XhXKrhcOjmSEAddvKCcA6iFmaS'\u001b[0m,\n",
              "    \u001b[33mchoices\u001b[0m=\u001b[1m[\u001b[0m\n",
              "        \u001b[1;35mChoice\u001b[0m\u001b[1m(\u001b[0m\n",
              "            \u001b[33mfinish_reason\u001b[0m=\u001b[32m'stop'\u001b[0m,\n",
              "            \u001b[33mindex\u001b[0m=\u001b[1;36m0\u001b[0m,\n",
              "            \u001b[33mlogprobs\u001b[0m=\u001b[3;35mNone\u001b[0m,\n",
              "            \u001b[33mmessage\u001b[0m=\u001b[1;35mChatCompletionMessage\u001b[0m\u001b[1m(\u001b[0m\n",
              "                \u001b[33mcontent\u001b[0m=\u001b[32m'This is a test!'\u001b[0m,\n",
              "                \u001b[33mrefusal\u001b[0m=\u001b[3;35mNone\u001b[0m,\n",
              "                \u001b[33mrole\u001b[0m=\u001b[32m'assistant'\u001b[0m,\n",
              "                \u001b[33maudio\u001b[0m=\u001b[3;35mNone\u001b[0m,\n",
              "                \u001b[33mfunction_call\u001b[0m=\u001b[3;35mNone\u001b[0m,\n",
              "                \u001b[33mtool_calls\u001b[0m=\u001b[3;35mNone\u001b[0m\n",
              "            \u001b[1m)\u001b[0m\n",
              "        \u001b[1m)\u001b[0m\n",
              "    \u001b[1m]\u001b[0m,\n",
              "    \u001b[33mcreated\u001b[0m=\u001b[1;36m1731019525\u001b[0m,\n",
              "    \u001b[33mmodel\u001b[0m=\u001b[32m'gpt-4o-mini-2024-07-18'\u001b[0m,\n",
              "    \u001b[33mobject\u001b[0m=\u001b[32m'chat.completion'\u001b[0m,\n",
              "    \u001b[33mservice_tier\u001b[0m=\u001b[3;35mNone\u001b[0m,\n",
              "    \u001b[33msystem_fingerprint\u001b[0m=\u001b[32m'fp_0ba0d124f1'\u001b[0m,\n",
              "    \u001b[33musage\u001b[0m=\u001b[1;35mCompletionUsage\u001b[0m\u001b[1m(\u001b[0m\n",
              "        \u001b[33mcompletion_tokens\u001b[0m=\u001b[1;36m5\u001b[0m,\n",
              "        \u001b[33mprompt_tokens\u001b[0m=\u001b[1;36m14\u001b[0m,\n",
              "        \u001b[33mtotal_tokens\u001b[0m=\u001b[1;36m19\u001b[0m,\n",
              "        \u001b[33mcompletion_tokens_details\u001b[0m=\u001b[1;35mCompletionTokensDetails\u001b[0m\u001b[1m(\u001b[0m\n",
              "            \u001b[33maccepted_prediction_tokens\u001b[0m=\u001b[1;36m0\u001b[0m,\n",
              "            \u001b[33maudio_tokens\u001b[0m=\u001b[1;36m0\u001b[0m,\n",
              "            \u001b[33mreasoning_tokens\u001b[0m=\u001b[1;36m0\u001b[0m,\n",
              "            \u001b[33mrejected_prediction_tokens\u001b[0m=\u001b[1;36m0\u001b[0m\n",
              "        \u001b[1m)\u001b[0m,\n",
              "        \u001b[33mprompt_tokens_details\u001b[0m=\u001b[1;35mPromptTokensDetails\u001b[0m\u001b[1m(\u001b[0m\u001b[33maudio_tokens\u001b[0m=\u001b[1;36m0\u001b[0m, \u001b[33mcached_tokens\u001b[0m=\u001b[1;36m0\u001b[0m\u001b[1m)\u001b[0m\n",
              "    \u001b[1m)\u001b[0m\n",
              "\u001b[1m)\u001b[0m\n"
            ],
            "text/html": [
              "<pre style=\"white-space:pre;overflow-x:auto;line-height:normal;font-family:Menlo,'DejaVu Sans Mono',consolas,'Courier New',monospace\"><span style=\"color: #800080; text-decoration-color: #800080; font-weight: bold\">ChatCompletion</span><span style=\"font-weight: bold\">(</span>\n",
              "    <span style=\"color: #808000; text-decoration-color: #808000\">id</span>=<span style=\"color: #008000; text-decoration-color: #008000\">'chatcmpl-AR5XhXKrhcOjmSEAddvKCcA6iFmaS'</span>,\n",
              "    <span style=\"color: #808000; text-decoration-color: #808000\">choices</span>=<span style=\"font-weight: bold\">[</span>\n",
              "        <span style=\"color: #800080; text-decoration-color: #800080; font-weight: bold\">Choice</span><span style=\"font-weight: bold\">(</span>\n",
              "            <span style=\"color: #808000; text-decoration-color: #808000\">finish_reason</span>=<span style=\"color: #008000; text-decoration-color: #008000\">'stop'</span>,\n",
              "            <span style=\"color: #808000; text-decoration-color: #808000\">index</span>=<span style=\"color: #008080; text-decoration-color: #008080; font-weight: bold\">0</span>,\n",
              "            <span style=\"color: #808000; text-decoration-color: #808000\">logprobs</span>=<span style=\"color: #800080; text-decoration-color: #800080; font-style: italic\">None</span>,\n",
              "            <span style=\"color: #808000; text-decoration-color: #808000\">message</span>=<span style=\"color: #800080; text-decoration-color: #800080; font-weight: bold\">ChatCompletionMessage</span><span style=\"font-weight: bold\">(</span>\n",
              "                <span style=\"color: #808000; text-decoration-color: #808000\">content</span>=<span style=\"color: #008000; text-decoration-color: #008000\">'This is a test!'</span>,\n",
              "                <span style=\"color: #808000; text-decoration-color: #808000\">refusal</span>=<span style=\"color: #800080; text-decoration-color: #800080; font-style: italic\">None</span>,\n",
              "                <span style=\"color: #808000; text-decoration-color: #808000\">role</span>=<span style=\"color: #008000; text-decoration-color: #008000\">'assistant'</span>,\n",
              "                <span style=\"color: #808000; text-decoration-color: #808000\">audio</span>=<span style=\"color: #800080; text-decoration-color: #800080; font-style: italic\">None</span>,\n",
              "                <span style=\"color: #808000; text-decoration-color: #808000\">function_call</span>=<span style=\"color: #800080; text-decoration-color: #800080; font-style: italic\">None</span>,\n",
              "                <span style=\"color: #808000; text-decoration-color: #808000\">tool_calls</span>=<span style=\"color: #800080; text-decoration-color: #800080; font-style: italic\">None</span>\n",
              "            <span style=\"font-weight: bold\">)</span>\n",
              "        <span style=\"font-weight: bold\">)</span>\n",
              "    <span style=\"font-weight: bold\">]</span>,\n",
              "    <span style=\"color: #808000; text-decoration-color: #808000\">created</span>=<span style=\"color: #008080; text-decoration-color: #008080; font-weight: bold\">1731019525</span>,\n",
              "    <span style=\"color: #808000; text-decoration-color: #808000\">model</span>=<span style=\"color: #008000; text-decoration-color: #008000\">'gpt-4o-mini-2024-07-18'</span>,\n",
              "    <span style=\"color: #808000; text-decoration-color: #808000\">object</span>=<span style=\"color: #008000; text-decoration-color: #008000\">'chat.completion'</span>,\n",
              "    <span style=\"color: #808000; text-decoration-color: #808000\">service_tier</span>=<span style=\"color: #800080; text-decoration-color: #800080; font-style: italic\">None</span>,\n",
              "    <span style=\"color: #808000; text-decoration-color: #808000\">system_fingerprint</span>=<span style=\"color: #008000; text-decoration-color: #008000\">'fp_0ba0d124f1'</span>,\n",
              "    <span style=\"color: #808000; text-decoration-color: #808000\">usage</span>=<span style=\"color: #800080; text-decoration-color: #800080; font-weight: bold\">CompletionUsage</span><span style=\"font-weight: bold\">(</span>\n",
              "        <span style=\"color: #808000; text-decoration-color: #808000\">completion_tokens</span>=<span style=\"color: #008080; text-decoration-color: #008080; font-weight: bold\">5</span>,\n",
              "        <span style=\"color: #808000; text-decoration-color: #808000\">prompt_tokens</span>=<span style=\"color: #008080; text-decoration-color: #008080; font-weight: bold\">14</span>,\n",
              "        <span style=\"color: #808000; text-decoration-color: #808000\">total_tokens</span>=<span style=\"color: #008080; text-decoration-color: #008080; font-weight: bold\">19</span>,\n",
              "        <span style=\"color: #808000; text-decoration-color: #808000\">completion_tokens_details</span>=<span style=\"color: #800080; text-decoration-color: #800080; font-weight: bold\">CompletionTokensDetails</span><span style=\"font-weight: bold\">(</span>\n",
              "            <span style=\"color: #808000; text-decoration-color: #808000\">accepted_prediction_tokens</span>=<span style=\"color: #008080; text-decoration-color: #008080; font-weight: bold\">0</span>,\n",
              "            <span style=\"color: #808000; text-decoration-color: #808000\">audio_tokens</span>=<span style=\"color: #008080; text-decoration-color: #008080; font-weight: bold\">0</span>,\n",
              "            <span style=\"color: #808000; text-decoration-color: #808000\">reasoning_tokens</span>=<span style=\"color: #008080; text-decoration-color: #008080; font-weight: bold\">0</span>,\n",
              "            <span style=\"color: #808000; text-decoration-color: #808000\">rejected_prediction_tokens</span>=<span style=\"color: #008080; text-decoration-color: #008080; font-weight: bold\">0</span>\n",
              "        <span style=\"font-weight: bold\">)</span>,\n",
              "        <span style=\"color: #808000; text-decoration-color: #808000\">prompt_tokens_details</span>=<span style=\"color: #800080; text-decoration-color: #800080; font-weight: bold\">PromptTokensDetails</span><span style=\"font-weight: bold\">(</span><span style=\"color: #808000; text-decoration-color: #808000\">audio_tokens</span>=<span style=\"color: #008080; text-decoration-color: #008080; font-weight: bold\">0</span>, <span style=\"color: #808000; text-decoration-color: #808000\">cached_tokens</span>=<span style=\"color: #008080; text-decoration-color: #008080; font-weight: bold\">0</span><span style=\"font-weight: bold\">)</span>\n",
              "    <span style=\"font-weight: bold\">)</span>\n",
              "<span style=\"font-weight: bold\">)</span>\n",
              "</pre>\n"
            ]
          },
          "metadata": {}
        }
      ]
    },
    {
      "cell_type": "markdown",
      "source": [
        "# Build our first chatbots\n",
        "\n",
        "In this section, we'll go through several demos.\n",
        "By the end of this section, you should be able to:\n",
        "- Build a basic chatbot with the popular `gradio` Python library\n",
        "- Understand key hyperparameters like `temperature`, `top_p`, and `top_k`\n",
        "- Build an advanced chatbot with hyperparameter controls"
      ],
      "metadata": {
        "id": "yJ0qYsS0Y4DZ"
      }
    },
    {
      "cell_type": "markdown",
      "source": [
        "## Exercise: Building a basic chatbot with `gradio`\n",
        "\n",
        "User interfaces (UIs) are a great way to demo work in AI.\n",
        "In the next several lessons, we will be using the `gradio` framework to demonstrate our growing skillset.\n",
        "In this exercise, we will get a gentle introduction to creating chatbots with `gradio`.\n",
        "\n",
        "Please follow the [ChatInterface](https://www.gradio.app/docs/gradio/chatinterface) documentation and the [Creating a chatbot fast](https://www.gradio.app/guides/creating-a-chatbot-fast) guide to make your first AI chatbot.\n",
        "Your chatbot must:\n",
        "- respond to messages\n",
        "\n",
        "If this too easy, try to:\n",
        "- add a system prompt\n",
        "- use `stream=True` in your chat function"
      ],
      "metadata": {
        "id": "JTQ-yAmFQVOM"
      }
    },
    {
      "cell_type": "code",
      "source": [
        "!pip install -Uqqqq gradio gradio_client"
      ],
      "metadata": {
        "id": "qOq34PZ-QjYO",
        "colab": {
          "base_uri": "https://localhost:8080/"
        },
        "outputId": "2580993e-32ea-438f-b0ce-4b04bfbb3f09"
      },
      "execution_count": null,
      "outputs": [
        {
          "output_type": "stream",
          "name": "stdout",
          "text": [
            "\u001b[2K   \u001b[90m━━━━━━━━━━━━━━━━━━━━━━━━━━━━━━━━━━━━━━━━\u001b[0m \u001b[32m56.7/56.7 MB\u001b[0m \u001b[31m11.5 MB/s\u001b[0m eta \u001b[36m0:00:00\u001b[0m\n",
            "\u001b[2K   \u001b[90m━━━━━━━━━━━━━━━━━━━━━━━━━━━━━━━━━━━━━━━━\u001b[0m \u001b[32m319.8/319.8 kB\u001b[0m \u001b[31m26.6 MB/s\u001b[0m eta \u001b[36m0:00:00\u001b[0m\n",
            "\u001b[2K   \u001b[90m━━━━━━━━━━━━━━━━━━━━━━━━━━━━━━━━━━━━━━━━\u001b[0m \u001b[32m94.7/94.7 kB\u001b[0m \u001b[31m9.7 MB/s\u001b[0m eta \u001b[36m0:00:00\u001b[0m\n",
            "\u001b[2K   \u001b[90m━━━━━━━━━━━━━━━━━━━━━━━━━━━━━━━━━━━━━━━━\u001b[0m \u001b[32m447.5/447.5 kB\u001b[0m \u001b[31m37.2 MB/s\u001b[0m eta \u001b[36m0:00:00\u001b[0m\n",
            "\u001b[2K   \u001b[90m━━━━━━━━━━━━━━━━━━━━━━━━━━━━━━━━━━━━━━━━\u001b[0m \u001b[32m11.0/11.0 MB\u001b[0m \u001b[31m97.8 MB/s\u001b[0m eta \u001b[36m0:00:00\u001b[0m\n",
            "\u001b[2K   \u001b[90m━━━━━━━━━━━━━━━━━━━━━━━━━━━━━━━━━━━━━━━━\u001b[0m \u001b[32m73.3/73.3 kB\u001b[0m \u001b[31m6.3 MB/s\u001b[0m eta \u001b[36m0:00:00\u001b[0m\n",
            "\u001b[2K   \u001b[90m━━━━━━━━━━━━━━━━━━━━━━━━━━━━━━━━━━━━━━━━\u001b[0m \u001b[32m63.7/63.7 kB\u001b[0m \u001b[31m6.2 MB/s\u001b[0m eta \u001b[36m0:00:00\u001b[0m\n",
            "\u001b[2K   \u001b[90m━━━━━━━━━━━━━━━━━━━━━━━━━━━━━━━━━━━━━━━━\u001b[0m \u001b[32m130.2/130.2 kB\u001b[0m \u001b[31m12.8 MB/s\u001b[0m eta \u001b[36m0:00:00\u001b[0m\n",
            "\u001b[?25h"
          ]
        }
      ]
    },
    {
      "cell_type": "code",
      "source": [
        "import gradio as gr"
      ],
      "metadata": {
        "id": "4_tJtXNMRHA6"
      },
      "execution_count": null,
      "outputs": []
    },
    {
      "cell_type": "code",
      "source": [
        "def chat(message, history):\n",
        "    if not history:\n",
        "        history = [\n",
        "            {\"role\": \"system\", \"content\": \"You are a helpful assistant who speaks like a pirate.\"},\n",
        "        ]\n",
        "    response = client.chat.completions.create(\n",
        "        model=\"gpt-4o-mini\",\n",
        "        messages=history,\n",
        "        stream=True,\n",
        "    )\n",
        "    partial_message = \"\"\n",
        "    for chunk in response:\n",
        "        if chunk.choices[0].delta.content is not None:\n",
        "              partial_message = partial_message + chunk.choices[0].delta.content\n",
        "              yield partial_message"
      ],
      "metadata": {
        "id": "DL3d7elhRkj3"
      },
      "execution_count": null,
      "outputs": []
    },
    {
      "cell_type": "code",
      "source": [
        "gr.ChatInterface(chat, type='messages').launch()"
      ],
      "metadata": {
        "id": "zy5lPNy9R7ur",
        "colab": {
          "base_uri": "https://localhost:8080/"
        },
        "outputId": "df318798-43c7-4b95-f99d-1e1633ec476f"
      },
      "execution_count": null,
      "outputs": [
        {
          "output_type": "stream",
          "name": "stdout",
          "text": [
            "Running Gradio in a Colab notebook requires sharing enabled. Automatically setting `share=True` (you can turn this off by setting `share=False` in `launch()` explicitly).\n",
            "\n",
            "Colab notebook detected. To show errors in colab notebook, set debug=True in launch()\n",
            "* Running on public URL: https://af0474a55a92d45038.gradio.live\n",
            "\n",
            "This share link expires in 72 hours. For free permanent hosting and GPU upgrades, run `gradio deploy` from the terminal in the working directory to deploy to Hugging Face Spaces (https://huggingface.co/spaces)\n"
          ]
        },
        {
          "output_type": "display_data",
          "data": {
            "text/plain": [
              "<IPython.core.display.HTML object>"
            ],
            "text/html": [
              "<div><iframe src=\"https://af0474a55a92d45038.gradio.live\" width=\"100%\" height=\"500\" allow=\"autoplay; camera; microphone; clipboard-read; clipboard-write;\" frameborder=\"0\" allowfullscreen></iframe></div>"
            ]
          },
          "metadata": {}
        },
        {
          "output_type": "execute_result",
          "data": {
            "text/plain": []
          },
          "metadata": {},
          "execution_count": 13
        }
      ]
    },
    {
      "cell_type": "markdown",
      "source": [
        "## Text generation hyperparameters\n",
        "\n",
        "There are several hyperparameters we can play with that determine how text is generated.\n",
        "For each token, the model outputs a score distribution over words, and that distribution is normalized using the softmax function to sum to 1.0.\n",
        "We have several options to modify this probability distribution in ways that affect the way text is generated."
      ],
      "metadata": {
        "id": "-bHAfnK9YizZ"
      }
    },
    {
      "cell_type": "markdown",
      "source": [
        "### `temperature`\n",
        "\n",
        "The softmax function is shown below:\n",
        "\n",
        "$$\n",
        "\\text{softmax}(p) = \\frac{e^{x_i}}{\\sum_{j=0}^ne^{x_j}}\n",
        "$$\n",
        "\n",
        "The softmax function is defined in python below:\n"
      ],
      "metadata": {
        "id": "pibw6nM-YncC"
      }
    },
    {
      "cell_type": "code",
      "source": [
        "import numpy as np\n",
        "\n",
        "def softmax(p):\n",
        "    return np.exp(p) / np.sum(np.exp(p))\n",
        "\n",
        "# Example usage\n",
        "p = np.array([1, 2, 3, 4, 5])\n",
        "print(softmax(p))"
      ],
      "metadata": {
        "id": "bIskN3MLMdmx",
        "colab": {
          "base_uri": "https://localhost:8080/",
          "height": 33
        },
        "outputId": "8cd78605-94b5-45dc-9002-c9fc8b41d1c8"
      },
      "execution_count": null,
      "outputs": [
        {
          "output_type": "display_data",
          "data": {
            "text/plain": [
              "\u001b[1m[\u001b[0m\u001b[1;36m0.01165623\u001b[0m \u001b[1;36m0.03168492\u001b[0m \u001b[1;36m0.08612854\u001b[0m \u001b[1;36m0.23412166\u001b[0m \u001b[1;36m0.63640865\u001b[0m\u001b[1m]\u001b[0m\n"
            ],
            "text/html": [
              "<pre style=\"white-space:pre;overflow-x:auto;line-height:normal;font-family:Menlo,'DejaVu Sans Mono',consolas,'Courier New',monospace\"><span style=\"font-weight: bold\">[</span><span style=\"color: #008080; text-decoration-color: #008080; font-weight: bold\">0.01165623</span> <span style=\"color: #008080; text-decoration-color: #008080; font-weight: bold\">0.03168492</span> <span style=\"color: #008080; text-decoration-color: #008080; font-weight: bold\">0.08612854</span> <span style=\"color: #008080; text-decoration-color: #008080; font-weight: bold\">0.23412166</span> <span style=\"color: #008080; text-decoration-color: #008080; font-weight: bold\">0.63640865</span><span style=\"font-weight: bold\">]</span>\n",
              "</pre>\n"
            ]
          },
          "metadata": {}
        }
      ]
    },
    {
      "cell_type": "markdown",
      "source": [
        "The `temperature` paramater allows us to make the most probable words more probable (temperature < 1) or less probable (temperature > 1) than vanilla softmax (temperature = 1).\n",
        "The formula for softmax with temperature is show below:\n",
        "\n",
        "$$\n",
        "\\text{softmax}(p, T) = \\frac{e^{\\frac{x_i}{T}}}{\\sum_{j=0}^ne^{\\frac{x_j}{T}}}\n",
        "$$\n",
        "\n",
        "All you do is divide everything by T before taking the exponent; larger values of $T$ flatten the distribution, while smaller values of $T$ skew the distribution towards the most probable tokens."
      ],
      "metadata": {
        "id": "3kdVu2JRp1Yi"
      }
    },
    {
      "cell_type": "markdown",
      "source": [
        "### Demo: Softmax with temperature"
      ],
      "metadata": {
        "id": "qNo9GVX_r9g_"
      }
    },
    {
      "cell_type": "code",
      "source": [
        "# Softmax function with temperature parameter\n",
        "def softmax_with_temperature(probs, temperature):\n",
        "    exp_probs = np.exp(np.log(probs) / temperature)\n",
        "    return exp_probs / np.sum(exp_probs)"
      ],
      "metadata": {
        "id": "Wt5DWn9psCqD"
      },
      "execution_count": null,
      "outputs": []
    },
    {
      "cell_type": "code",
      "source": [
        "import matplotlib.pyplot as plt\n",
        "from ipywidgets import interact\n",
        "\n",
        "# Define a small probability distribution\n",
        "probs = np.array([0.5, 0.3, 0.1, 0.05, 0.05])\n",
        "\n",
        "# Plot the distribution with numbers on top of each bar\n",
        "def plot_distribution(temperature):\n",
        "    adjusted_probs = softmax_with_temperature(probs, temperature)\n",
        "    plt.figure(figsize=(6, 4))\n",
        "    bars = plt.bar(range(len(probs)), adjusted_probs, tick_label=['A', 'B', 'C', 'D', 'E'])\n",
        "    plt.ylim(0, 1)\n",
        "    plt.title(f'Softmax with Temperature = {temperature:.2f}')\n",
        "    plt.ylabel('Probability')\n",
        "    plt.xlabel('Tokens')\n",
        "\n",
        "    # Add numbers on top of each bar\n",
        "    for bar in bars:\n",
        "        yval = bar.get_height()\n",
        "        plt.text(bar.get_x() + bar.get_width()/2, yval, f'{yval:.2f}', ha='center', va='bottom')\n",
        "\n",
        "    plt.show()\n",
        "\n",
        "# Interactive widget\n",
        "interact(plot_distribution, temperature=(0.1, 2.0, 0.1));"
      ],
      "metadata": {
        "id": "pz-eytfxLA6I",
        "colab": {
          "base_uri": "https://localhost:8080/",
          "height": 442,
          "referenced_widgets": [
            "57a05256848345e4956a8a3c23135fd0",
            "2112a7e303514c658de8d06961b54eae",
            "de3a57125cf04ce4a8ad6e76f2a295f1",
            "17e68979484249a79aa928ccc19ca5cc",
            "9f886354ab8448659ff1e11974a862ed",
            "1aea5aa28e984ab7aceabec405962f8e",
            "83c00968f6b94b08ae41aabd83769e62"
          ]
        },
        "outputId": "ff322f09-923a-4777-c652-a6ac2b55cd4e"
      },
      "execution_count": null,
      "outputs": [
        {
          "output_type": "display_data",
          "data": {
            "text/plain": [
              "interactive(children=(FloatSlider(value=1.0, description='temperature', max=2.0, min=0.1), Output()), _dom_cla…"
            ],
            "application/vnd.jupyter.widget-view+json": {
              "version_major": 2,
              "version_minor": 0,
              "model_id": "57a05256848345e4956a8a3c23135fd0"
            }
          },
          "metadata": {}
        }
      ]
    },
    {
      "cell_type": "markdown",
      "source": [
        "### Demo: Alter the `temperature` parameter\n",
        "\n",
        "In this demo, we generate several messages from the same prompt.\n",
        "If we lower the temperature to 0, what do you notice about the results?\n",
        "What if we raise it above 1.0?"
      ],
      "metadata": {
        "id": "QiAOWzFosPZ0"
      }
    },
    {
      "cell_type": "code",
      "source": [
        "messages = [\n",
        "    {\"role\": \"user\", \"content\": \"Write a python function that reverses as tring. Tell a joke in the docstring!\"},\n",
        "]\n",
        "\n",
        "response = client.chat.completions.create(\n",
        "    model=\"gpt-4o-mini\",\n",
        "    messages=messages,\n",
        "    temperature=1.0, # change this number between 0 and 2 to see the outcome\n",
        "    n=3 # generate 3 choices\n",
        ")"
      ],
      "metadata": {
        "id": "pOnm4SUoKSFu",
        "colab": {
          "base_uri": "https://localhost:8080/",
          "height": 210
        },
        "outputId": "f02639da-80d6-4a51-9777-e405edd488ae"
      },
      "execution_count": null,
      "outputs": [
        {
          "output_type": "error",
          "ename": "NameError",
          "evalue": "name 'client' is not defined",
          "traceback": [
            "\u001b[0;31m---------------------------------------------------------------------------\u001b[0m",
            "\u001b[0;31mNameError\u001b[0m                                 Traceback (most recent call last)",
            "\u001b[0;32m<ipython-input-7-6e11a7491806>\u001b[0m in \u001b[0;36m<cell line: 5>\u001b[0;34m()\u001b[0m\n\u001b[1;32m      3\u001b[0m ]\n\u001b[1;32m      4\u001b[0m \u001b[0;34m\u001b[0m\u001b[0m\n\u001b[0;32m----> 5\u001b[0;31m response = client.chat.completions.create(\n\u001b[0m\u001b[1;32m      6\u001b[0m     \u001b[0mmodel\u001b[0m\u001b[0;34m=\u001b[0m\u001b[0;34m\"gpt-4o-mini\"\u001b[0m\u001b[0;34m,\u001b[0m\u001b[0;34m\u001b[0m\u001b[0;34m\u001b[0m\u001b[0m\n\u001b[1;32m      7\u001b[0m     \u001b[0mmessages\u001b[0m\u001b[0;34m=\u001b[0m\u001b[0mmessages\u001b[0m\u001b[0;34m,\u001b[0m\u001b[0;34m\u001b[0m\u001b[0;34m\u001b[0m\u001b[0m\n",
            "\u001b[0;31mNameError\u001b[0m: name 'client' is not defined"
          ]
        }
      ]
    },
    {
      "cell_type": "code",
      "source": [
        "for choice in response.choices:\n",
        "    print(choice.message.content)\n",
        "    print('\\n\\n' + '='*50 + '\\n')"
      ],
      "metadata": {
        "id": "IJNXwiCmKhJW"
      },
      "execution_count": null,
      "outputs": []
    },
    {
      "cell_type": "markdown",
      "source": [
        "### Demo: `top_k`\n",
        "\n",
        "In top k sampling, we define the number of tokens we want to consider to sample from.\n",
        "For example if `top_k = 3`, we will take the scores of the top 3 tokens and apply the softmax to only those 3 scores.\n",
        "Run the code block below to see how `top_k` normalizes the scores at different values."
      ],
      "metadata": {
        "id": "WxkYh5ZkYrb-"
      }
    },
    {
      "cell_type": "code",
      "source": [
        "# Define a small probability distribution\n",
        "probs = np.array([0.5, 0.3, 0.1, 0.05, 0.05])\n",
        "\n",
        "# Plot the distribution with numbers on top of each bar\n",
        "def plot_top_k(top_k):\n",
        "    ticks = ['A', 'B', 'C', 'D', 'E']\n",
        "    sorted_probs = np.sort(probs)[::-1]\n",
        "    top_k_probs = sorted_probs[:top_k]\n",
        "    fig, axes = plt.subplots(1, 2, figsize=(12, 5))\n",
        "    adjusted_probs = softmax(probs)\n",
        "    ax = axes[0]\n",
        "    bars = ax.bar(range(len(probs)), adjusted_probs, tick_label=ticks)\n",
        "    ax.set_ylim(0, 1)\n",
        "    ax.set_title('Original Probabilities')\n",
        "    ax.set_ylabel('Probability')\n",
        "    ax.set_xlabel('Token')\n",
        "\n",
        "    # Add numbers on top of each bar\n",
        "    for bar in bars:\n",
        "        yval = bar.get_height()\n",
        "        ax.text(bar.get_x() + bar.get_width()/2, yval, f'{yval:.2f}', ha='center', va='bottom')\n",
        "\n",
        "    ax = axes[1]\n",
        "    if top_k < len(probs):\n",
        "        updated_probs = softmax(probs[:top_k])\n",
        "        bars = ax.bar(range(top_k), updated_probs, tick_label=ticks[:top_k])\n",
        "    else:\n",
        "        bars = ax.bar(range(len(probs)), softmax(probs), tick_label=ticks)\n",
        "    ax.set_ylim(0, 1)\n",
        "    ax.set_title(f'Top {top_k} Probabilities')\n",
        "    ax.set_ylabel('Probability')\n",
        "    ax.set_xlabel('Token')\n",
        "    for bar in bars:\n",
        "        yval = bar.get_height()\n",
        "        ax.text(bar.get_x() + bar.get_width()/2, yval, f'{yval:.2f}', ha='center', va='bottom')\n",
        "\n",
        "    plt.show()\n",
        "\n",
        "# Interactive widget\n",
        "interact(plot_top_k, top_k=(1, len(probs), 1));"
      ],
      "metadata": {
        "id": "uqptc8mIr0hq"
      },
      "execution_count": null,
      "outputs": []
    },
    {
      "cell_type": "markdown",
      "source": [
        "### Demo: `top_p` (aka nucleus sampling)\n",
        "\n",
        "`top_p` is similar to `top_k`, but instead of defining the number of tokens to consider, you define a cutoff for cumulative probability.\n",
        "For example, if you have a top_p of 0.6 and score of ('cat', 0.4), ('dog', 0.15), ('llama', 0.1), and ('parakeet', 0.01), you would cut only consider 'cat', 'dog', and 'llama' because 0.4 + 0.15 is less than 0.6, but 0.4 + 0.15 + 0.1 is greater.\n",
        "Because you have a probability cutoff instead of number of tokens, this may mean you have different numbers of tokens considered at each decoding step.\n",
        "\n",
        "Play around with the `top_p` slider below 👇 to get some intuition for how it works."
      ],
      "metadata": {
        "id": "d-x9f33bYvPN"
      }
    },
    {
      "cell_type": "code",
      "source": [
        "# Define a small probability distribution (can simulate a language model's logits)\n",
        "probs = np.array([0.4, 0.2, 0.15, 0.1, 0.08, 0.05, 0.02])\n",
        "\n",
        "# Function to apply top-p filtering with a minimum of one token selected\n",
        "def top_p_filter(probs, p):\n",
        "    sorted_probs = np.sort(probs)[::-1]\n",
        "    cumulative_probs = np.cumsum(sorted_probs)\n",
        "\n",
        "    # Ensure at least one token is selected\n",
        "    if p < sorted_probs[0]:\n",
        "        cutoff = 1\n",
        "    else:\n",
        "        cutoff = np.argmax(cumulative_probs >= p) + 1\n",
        "\n",
        "    filtered_probs = sorted_probs[:cutoff]\n",
        "    return filtered_probs, cutoff\n",
        "\n",
        "# Plot the distribution with top-p filtering\n",
        "def plot_top_p(p):\n",
        "    filtered_probs, cutoff = top_p_filter(probs, p)\n",
        "    normalized_probs = filtered_probs / np.sum(filtered_probs)  # Normalize the selected probabilities\n",
        "\n",
        "    # Create two subplots\n",
        "    fig, axs = plt.subplots(1, 2, figsize=(12, 5))\n",
        "    labels = ['A', 'B', 'C', 'D', 'E', 'F', 'G']\n",
        "\n",
        "    # Plot 1: Original distribution with top-p filtering\n",
        "    bars1 = axs[0].bar(range(len(probs)), np.sort(probs)[::-1], tick_label=labels)\n",
        "    axs[0].set_ylim(0, 1)\n",
        "    axs[0].set_title(f'Top-p Sampling (p = {p:.2f}) - Original Probabilities')\n",
        "    axs[0].set_ylabel('Probability')\n",
        "    axs[0].set_xlabel('Tokens')\n",
        "\n",
        "    # Highlight selected and unselected probabilities\n",
        "    for i, bar in enumerate(bars1):\n",
        "        if i >= cutoff:\n",
        "            bar.set_color('gray')  # Color the bars outside top-p as gray\n",
        "        else:\n",
        "            bar.set_color('blue')  # Highlight the selected probabilities\n",
        "\n",
        "    # Add numbers on top of each bar for original distribution\n",
        "    for bar in bars1:\n",
        "        yval = bar.get_height()\n",
        "        axs[0].text(bar.get_x() + bar.get_width()/2, yval, f'{yval:.2f}', ha='center', va='bottom')\n",
        "\n",
        "    # Plot 2: Normalized probabilities of the selected tokens\n",
        "    bars2 = axs[1].bar(range(len(filtered_probs)), normalized_probs, tick_label=labels[:len(filtered_probs)])\n",
        "    axs[1].set_ylim(0, 1)\n",
        "    axs[1].set_title(f'Normalized Probabilities of Selected Tokens (p = {p:.2f})')\n",
        "    axs[1].set_ylabel('Normalized Probability')\n",
        "    axs[1].set_xlabel('Selected Tokens')\n",
        "\n",
        "    # Add numbers on top of each bar for normalized probabilities\n",
        "    for bar in bars2:\n",
        "        yval = bar.get_height()\n",
        "        axs[1].text(bar.get_x() + bar.get_width()/2, yval, f'{yval:.2f}', ha='center', va='bottom')\n",
        "\n",
        "    plt.tight_layout()\n",
        "    plt.show()\n",
        "\n",
        "# Interactive widget\n",
        "interact(plot_top_p, p=(0.01, 1.0, 0.05));"
      ],
      "metadata": {
        "id": "1nUXAXiPsGlA"
      },
      "execution_count": null,
      "outputs": []
    },
    {
      "cell_type": "markdown",
      "source": [
        "## Exercise: Advanced chatbot with hyperparameter controls\n",
        "\n",
        "Now that you've learned about roles and generation hyperparameters, let's create a new chatbot that allows you to contol at them.\n",
        "Your chatbot must:\n",
        "- allow for control of at least 1 generation hyperparameter (ex: `temperature`)\n",
        "- allow for user input of a system message\n",
        "\n",
        "If this is too easy, try to:\n",
        "- allow for control over `temperature` and `top_p`\n",
        "- improve the UI by putting all the controls in a sidebar\n",
        "- have a `Clear` button that restarts the conversation\n",
        "- add documentation with markdown\n",
        "- implement streaming responses"
      ],
      "metadata": {
        "id": "ktB3q7OrYW72"
      }
    },
    {
      "cell_type": "code",
      "source": [
        "def user(message:str, history:list, system_message:str):\n",
        "    if not history and system_message:\n",
        "        history.append(\n",
        "            {\"role\": \"system\", \"content\": system_message},\n",
        "        )\n",
        "    # Append the user's message to the conversation history\n",
        "    history.append({\"role\": \"user\", \"content\": message})\n",
        "    return \"\", history\n",
        "\n",
        "def bot(history, temperature, top_p):\n",
        "    response = client.chat.completions.create(\n",
        "        model=\"gpt-4o-mini\",\n",
        "        messages=history,\n",
        "        temperature=temperature,\n",
        "        top_p=top_p,\n",
        "        stream=True,\n",
        "    )\n",
        "    history.append({\"role\": \"assistant\", \"content\": \"\"})\n",
        "    for chunk in response:\n",
        "        if chunk.choices[0].delta.content is not None:\n",
        "              history[-1]['content'] += chunk.choices[0].delta.content\n",
        "              yield history\n",
        "\n",
        "def clear():\n",
        "    return \"\", []"
      ],
      "metadata": {
        "id": "ozv16NX5WLzT"
      },
      "execution_count": null,
      "outputs": []
    },
    {
      "cell_type": "code",
      "source": [
        "with gr.Blocks() as demo:\n",
        "    with gr.Row():\n",
        "        with gr.Column(scale=1):\n",
        "            temperature = gr.Slider(minimum=0, maximum=1, value=0.7, label=\"Temperature\")\n",
        "            top_p = gr.Slider(minimum=0, maximum=1, value=1, label=\"Top p\")\n",
        "            system_message = gr.Textbox(label=\"System message\", value=\"You are a helpful assistant who speaks like a pirate.\")\n",
        "            clear_button = gr.Button(\"Clear messages\")\n",
        "        with gr.Column(scale=3):\n",
        "            chatbot = gr.Chatbot(type='messages')\n",
        "            input = gr.Textbox(label=\"Message\", value=\"\")\n",
        "            input.submit(user, [input, chatbot, system_message], [input, chatbot]).then(\n",
        "                bot, [chatbot, temperature, top_p], chatbot\n",
        "            )\n",
        "            clear_button.click(clear, [], [input, chatbot])\n",
        "\n",
        "demo.launch()\n",
        "\n"
      ],
      "metadata": {
        "id": "S_qTM-_-UkG6",
        "colab": {
          "base_uri": "https://localhost:8080/",
          "height": 646
        },
        "outputId": "1549fdd7-6446-44cf-8468-1126f9671b0b"
      },
      "execution_count": null,
      "outputs": [
        {
          "output_type": "stream",
          "name": "stdout",
          "text": [
            "Running Gradio in a Colab notebook requires sharing enabled. Automatically setting `share=True` (you can turn this off by setting `share=False` in `launch()` explicitly).\n",
            "\n",
            "Colab notebook detected. To show errors in colab notebook, set debug=True in launch()\n",
            "* Running on public URL: https://944325f63036d61359.gradio.live\n",
            "\n",
            "This share link expires in 72 hours. For free permanent hosting and GPU upgrades, run `gradio deploy` from the terminal in the working directory to deploy to Hugging Face Spaces (https://huggingface.co/spaces)\n"
          ]
        },
        {
          "output_type": "display_data",
          "data": {
            "text/plain": [
              "<IPython.core.display.HTML object>"
            ],
            "text/html": [
              "<div><iframe src=\"https://944325f63036d61359.gradio.live\" width=\"100%\" height=\"500\" allow=\"autoplay; camera; microphone; clipboard-read; clipboard-write;\" frameborder=\"0\" allowfullscreen></iframe></div>"
            ]
          },
          "metadata": {}
        },
        {
          "output_type": "execute_result",
          "data": {
            "text/plain": []
          },
          "metadata": {},
          "execution_count": 22
        }
      ]
    },
    {
      "cell_type": "markdown",
      "source": [
        "# Prompt engineering 1: zero-shot prompting\n",
        "\n",
        "To really benchmark how each of these techniques do, we need a baseline.\n",
        "We will use zero-shot prompting to get a base level of performance on our task.\n",
        "\n",
        "So far, we've been using the low-level `openai` library.\n",
        "However, there are several very competent higher-level libraries that provide great abstractions such as `langchain` and `llama-index`.\n",
        "Today, we'll be using `llama-index` to make our LLM calls a bit easier."
      ],
      "metadata": {
        "id": "koHpg9S2jthm"
      }
    },
    {
      "cell_type": "code",
      "source": [
        "!pip install -qqqq datasets llama-index llama-index-llms-openai"
      ],
      "metadata": {
        "colab": {
          "base_uri": "https://localhost:8080/"
        },
        "id": "Q3CeEJwF12jk",
        "outputId": "440d8902-db53-4318-ea29-c97654b05062"
      },
      "execution_count": null,
      "outputs": [
        {
          "output_type": "stream",
          "name": "stdout",
          "text": [
            "\u001b[?25l   \u001b[90m━━━━━━━━━━━━━━━━━━━━━━━━━━━━━━━━━━━━━━━━\u001b[0m \u001b[32m0.0/480.6 kB\u001b[0m \u001b[31m?\u001b[0m eta \u001b[36m-:--:--\u001b[0m\r\u001b[2K   \u001b[91m━━━━━━━━━━━━━━━━━━━━━━━━━━━━━\u001b[0m\u001b[91m╸\u001b[0m\u001b[90m━━━━━━━━━━\u001b[0m \u001b[32m358.4/480.6 kB\u001b[0m \u001b[31m11.6 MB/s\u001b[0m eta \u001b[36m0:00:01\u001b[0m\r\u001b[2K   \u001b[90m━━━━━━━━━━━━━━━━━━━━━━━━━━━━━━━━━━━━━━━━\u001b[0m \u001b[32m480.6/480.6 kB\u001b[0m \u001b[31m9.1 MB/s\u001b[0m eta \u001b[36m0:00:00\u001b[0m\n",
            "\u001b[2K   \u001b[90m━━━━━━━━━━━━━━━━━━━━━━━━━━━━━━━━━━━━━━━━\u001b[0m \u001b[32m116.3/116.3 kB\u001b[0m \u001b[31m8.4 MB/s\u001b[0m eta \u001b[36m0:00:00\u001b[0m\n",
            "\u001b[2K   \u001b[90m━━━━━━━━━━━━━━━━━━━━━━━━━━━━━━━━━━━━━━━━\u001b[0m \u001b[32m179.3/179.3 kB\u001b[0m \u001b[31m6.9 MB/s\u001b[0m eta \u001b[36m0:00:00\u001b[0m\n",
            "\u001b[2K   \u001b[90m━━━━━━━━━━━━━━━━━━━━━━━━━━━━━━━━━━━━━━━━\u001b[0m \u001b[32m1.6/1.6 MB\u001b[0m \u001b[31m27.8 MB/s\u001b[0m eta \u001b[36m0:00:00\u001b[0m\n",
            "\u001b[2K   \u001b[90m━━━━━━━━━━━━━━━━━━━━━━━━━━━━━━━━━━━━━━━━\u001b[0m \u001b[32m1.2/1.2 MB\u001b[0m \u001b[31m16.3 MB/s\u001b[0m eta \u001b[36m0:00:00\u001b[0m\n",
            "\u001b[2K   \u001b[90m━━━━━━━━━━━━━━━━━━━━━━━━━━━━━━━━━━━━━━━━\u001b[0m \u001b[32m134.8/134.8 kB\u001b[0m \u001b[31m11.7 MB/s\u001b[0m eta \u001b[36m0:00:00\u001b[0m\n",
            "\u001b[2K   \u001b[90m━━━━━━━━━━━━━━━━━━━━━━━━━━━━━━━━━━━━━━━━\u001b[0m \u001b[32m1.5/1.5 MB\u001b[0m \u001b[31m52.6 MB/s\u001b[0m eta \u001b[36m0:00:00\u001b[0m\n",
            "\u001b[2K   \u001b[90m━━━━━━━━━━━━━━━━━━━━━━━━━━━━━━━━━━━━━━━━\u001b[0m \u001b[32m194.1/194.1 kB\u001b[0m \u001b[31m12.9 MB/s\u001b[0m eta \u001b[36m0:00:00\u001b[0m\n",
            "\u001b[2K   \u001b[90m━━━━━━━━━━━━━━━━━━━━━━━━━━━━━━━━━━━━━━━━\u001b[0m \u001b[32m176.8/176.8 kB\u001b[0m \u001b[31m13.4 MB/s\u001b[0m eta \u001b[36m0:00:00\u001b[0m\n",
            "\u001b[2K   \u001b[90m━━━━━━━━━━━━━━━━━━━━━━━━━━━━━━━━━━━━━━━━\u001b[0m \u001b[32m295.8/295.8 kB\u001b[0m \u001b[31m15.6 MB/s\u001b[0m eta \u001b[36m0:00:00\u001b[0m\n",
            "\u001b[2K   \u001b[90m━━━━━━━━━━━━━━━━━━━━━━━━━━━━━━━━━━━━━━━━\u001b[0m \u001b[32m1.2/1.2 MB\u001b[0m \u001b[31m24.6 MB/s\u001b[0m eta \u001b[36m0:00:00\u001b[0m\n",
            "\u001b[2K   \u001b[90m━━━━━━━━━━━━━━━━━━━━━━━━━━━━━━━━━━━━━━━━\u001b[0m \u001b[32m49.5/49.5 kB\u001b[0m \u001b[31m1.9 MB/s\u001b[0m eta \u001b[36m0:00:00\u001b[0m\n",
            "\u001b[?25h\u001b[31mERROR: pip's dependency resolver does not currently take into account all the packages that are installed. This behaviour is the source of the following dependency conflicts.\n",
            "gcsfs 2024.10.0 requires fsspec==2024.10.0, but you have fsspec 2024.9.0 which is incompatible.\u001b[0m\u001b[31m\n",
            "\u001b[0m"
          ]
        }
      ]
    },
    {
      "cell_type": "markdown",
      "source": [
        "## Prepare our dataset"
      ],
      "metadata": {
        "id": "cagMwLN4kKVP"
      }
    },
    {
      "cell_type": "code",
      "source": [
        "from datasets import load_dataset, Dataset"
      ],
      "metadata": {
        "id": "ZMjogiZ2x7kb"
      },
      "execution_count": null,
      "outputs": []
    },
    {
      "cell_type": "code",
      "source": [
        "ds = load_dataset('SetFit/amazon_reviews_multi_en')"
      ],
      "metadata": {
        "id": "YAkjCmM4yP7T"
      },
      "execution_count": null,
      "outputs": []
    },
    {
      "cell_type": "code",
      "source": [
        "train_samples_per_class = 25\n",
        "eval_test_samples_per_class = 5\n",
        "train = Dataset.from_pandas(ds['train'].to_pandas().groupby('label').sample(train_samples_per_class).reset_index(drop=True))\n",
        "valid = Dataset.from_pandas(ds['validation'].to_pandas().groupby('label').sample(eval_test_samples_per_class).reset_index(drop=True))\n",
        "test = Dataset.from_pandas(ds['test'].to_pandas().groupby('label').sample(eval_test_samples_per_class).reset_index(drop=True))"
      ],
      "metadata": {
        "id": "lRlkTBciyz7S"
      },
      "execution_count": null,
      "outputs": []
    },
    {
      "cell_type": "code",
      "source": [
        "train.to_pandas().head(3)"
      ],
      "metadata": {
        "colab": {
          "base_uri": "https://localhost:8080/",
          "height": 143
        },
        "id": "uf6l_lA33OV-",
        "outputId": "e408013d-ac4c-4afe-81e3-a261d030615d"
      },
      "execution_count": null,
      "outputs": [
        {
          "output_type": "execute_result",
          "data": {
            "text/plain": [
              "           id                                               text  label  \\\n",
              "0  en_0725819   Never received can I get refunded on a gift card      0   \n",
              "1  en_0502930  These items were badly warped. I tried to stra...      0   \n",
              "2  en_0237275        No!!! I still haven’t received this item!!!      0   \n",
              "\n",
              "  label_text  \n",
              "0          0  \n",
              "1          0  \n",
              "2          0  "
            ],
            "text/html": [
              "\n",
              "  <div id=\"df-580427ac-b829-4ecc-82fd-64bfa248104f\" class=\"colab-df-container\">\n",
              "    <div>\n",
              "<style scoped>\n",
              "    .dataframe tbody tr th:only-of-type {\n",
              "        vertical-align: middle;\n",
              "    }\n",
              "\n",
              "    .dataframe tbody tr th {\n",
              "        vertical-align: top;\n",
              "    }\n",
              "\n",
              "    .dataframe thead th {\n",
              "        text-align: right;\n",
              "    }\n",
              "</style>\n",
              "<table border=\"1\" class=\"dataframe\">\n",
              "  <thead>\n",
              "    <tr style=\"text-align: right;\">\n",
              "      <th></th>\n",
              "      <th>id</th>\n",
              "      <th>text</th>\n",
              "      <th>label</th>\n",
              "      <th>label_text</th>\n",
              "    </tr>\n",
              "  </thead>\n",
              "  <tbody>\n",
              "    <tr>\n",
              "      <th>0</th>\n",
              "      <td>en_0725819</td>\n",
              "      <td>Never received can I get refunded on a gift card</td>\n",
              "      <td>0</td>\n",
              "      <td>0</td>\n",
              "    </tr>\n",
              "    <tr>\n",
              "      <th>1</th>\n",
              "      <td>en_0502930</td>\n",
              "      <td>These items were badly warped. I tried to stra...</td>\n",
              "      <td>0</td>\n",
              "      <td>0</td>\n",
              "    </tr>\n",
              "    <tr>\n",
              "      <th>2</th>\n",
              "      <td>en_0237275</td>\n",
              "      <td>No!!! I still haven’t received this item!!!</td>\n",
              "      <td>0</td>\n",
              "      <td>0</td>\n",
              "    </tr>\n",
              "  </tbody>\n",
              "</table>\n",
              "</div>\n",
              "    <div class=\"colab-df-buttons\">\n",
              "\n",
              "  <div class=\"colab-df-container\">\n",
              "    <button class=\"colab-df-convert\" onclick=\"convertToInteractive('df-580427ac-b829-4ecc-82fd-64bfa248104f')\"\n",
              "            title=\"Convert this dataframe to an interactive table.\"\n",
              "            style=\"display:none;\">\n",
              "\n",
              "  <svg xmlns=\"http://www.w3.org/2000/svg\" height=\"24px\" viewBox=\"0 -960 960 960\">\n",
              "    <path d=\"M120-120v-720h720v720H120Zm60-500h600v-160H180v160Zm220 220h160v-160H400v160Zm0 220h160v-160H400v160ZM180-400h160v-160H180v160Zm440 0h160v-160H620v160ZM180-180h160v-160H180v160Zm440 0h160v-160H620v160Z\"/>\n",
              "  </svg>\n",
              "    </button>\n",
              "\n",
              "  <style>\n",
              "    .colab-df-container {\n",
              "      display:flex;\n",
              "      gap: 12px;\n",
              "    }\n",
              "\n",
              "    .colab-df-convert {\n",
              "      background-color: #E8F0FE;\n",
              "      border: none;\n",
              "      border-radius: 50%;\n",
              "      cursor: pointer;\n",
              "      display: none;\n",
              "      fill: #1967D2;\n",
              "      height: 32px;\n",
              "      padding: 0 0 0 0;\n",
              "      width: 32px;\n",
              "    }\n",
              "\n",
              "    .colab-df-convert:hover {\n",
              "      background-color: #E2EBFA;\n",
              "      box-shadow: 0px 1px 2px rgba(60, 64, 67, 0.3), 0px 1px 3px 1px rgba(60, 64, 67, 0.15);\n",
              "      fill: #174EA6;\n",
              "    }\n",
              "\n",
              "    .colab-df-buttons div {\n",
              "      margin-bottom: 4px;\n",
              "    }\n",
              "\n",
              "    [theme=dark] .colab-df-convert {\n",
              "      background-color: #3B4455;\n",
              "      fill: #D2E3FC;\n",
              "    }\n",
              "\n",
              "    [theme=dark] .colab-df-convert:hover {\n",
              "      background-color: #434B5C;\n",
              "      box-shadow: 0px 1px 3px 1px rgba(0, 0, 0, 0.15);\n",
              "      filter: drop-shadow(0px 1px 2px rgba(0, 0, 0, 0.3));\n",
              "      fill: #FFFFFF;\n",
              "    }\n",
              "  </style>\n",
              "\n",
              "    <script>\n",
              "      const buttonEl =\n",
              "        document.querySelector('#df-580427ac-b829-4ecc-82fd-64bfa248104f button.colab-df-convert');\n",
              "      buttonEl.style.display =\n",
              "        google.colab.kernel.accessAllowed ? 'block' : 'none';\n",
              "\n",
              "      async function convertToInteractive(key) {\n",
              "        const element = document.querySelector('#df-580427ac-b829-4ecc-82fd-64bfa248104f');\n",
              "        const dataTable =\n",
              "          await google.colab.kernel.invokeFunction('convertToInteractive',\n",
              "                                                    [key], {});\n",
              "        if (!dataTable) return;\n",
              "\n",
              "        const docLinkHtml = 'Like what you see? Visit the ' +\n",
              "          '<a target=\"_blank\" href=https://colab.research.google.com/notebooks/data_table.ipynb>data table notebook</a>'\n",
              "          + ' to learn more about interactive tables.';\n",
              "        element.innerHTML = '';\n",
              "        dataTable['output_type'] = 'display_data';\n",
              "        await google.colab.output.renderOutput(dataTable, element);\n",
              "        const docLink = document.createElement('div');\n",
              "        docLink.innerHTML = docLinkHtml;\n",
              "        element.appendChild(docLink);\n",
              "      }\n",
              "    </script>\n",
              "  </div>\n",
              "\n",
              "\n",
              "<div id=\"df-67bdedcc-55aa-47d2-94f4-0c8e4a0021ac\">\n",
              "  <button class=\"colab-df-quickchart\" onclick=\"quickchart('df-67bdedcc-55aa-47d2-94f4-0c8e4a0021ac')\"\n",
              "            title=\"Suggest charts\"\n",
              "            style=\"display:none;\">\n",
              "\n",
              "<svg xmlns=\"http://www.w3.org/2000/svg\" height=\"24px\"viewBox=\"0 0 24 24\"\n",
              "     width=\"24px\">\n",
              "    <g>\n",
              "        <path d=\"M19 3H5c-1.1 0-2 .9-2 2v14c0 1.1.9 2 2 2h14c1.1 0 2-.9 2-2V5c0-1.1-.9-2-2-2zM9 17H7v-7h2v7zm4 0h-2V7h2v10zm4 0h-2v-4h2v4z\"/>\n",
              "    </g>\n",
              "</svg>\n",
              "  </button>\n",
              "\n",
              "<style>\n",
              "  .colab-df-quickchart {\n",
              "      --bg-color: #E8F0FE;\n",
              "      --fill-color: #1967D2;\n",
              "      --hover-bg-color: #E2EBFA;\n",
              "      --hover-fill-color: #174EA6;\n",
              "      --disabled-fill-color: #AAA;\n",
              "      --disabled-bg-color: #DDD;\n",
              "  }\n",
              "\n",
              "  [theme=dark] .colab-df-quickchart {\n",
              "      --bg-color: #3B4455;\n",
              "      --fill-color: #D2E3FC;\n",
              "      --hover-bg-color: #434B5C;\n",
              "      --hover-fill-color: #FFFFFF;\n",
              "      --disabled-bg-color: #3B4455;\n",
              "      --disabled-fill-color: #666;\n",
              "  }\n",
              "\n",
              "  .colab-df-quickchart {\n",
              "    background-color: var(--bg-color);\n",
              "    border: none;\n",
              "    border-radius: 50%;\n",
              "    cursor: pointer;\n",
              "    display: none;\n",
              "    fill: var(--fill-color);\n",
              "    height: 32px;\n",
              "    padding: 0;\n",
              "    width: 32px;\n",
              "  }\n",
              "\n",
              "  .colab-df-quickchart:hover {\n",
              "    background-color: var(--hover-bg-color);\n",
              "    box-shadow: 0 1px 2px rgba(60, 64, 67, 0.3), 0 1px 3px 1px rgba(60, 64, 67, 0.15);\n",
              "    fill: var(--button-hover-fill-color);\n",
              "  }\n",
              "\n",
              "  .colab-df-quickchart-complete:disabled,\n",
              "  .colab-df-quickchart-complete:disabled:hover {\n",
              "    background-color: var(--disabled-bg-color);\n",
              "    fill: var(--disabled-fill-color);\n",
              "    box-shadow: none;\n",
              "  }\n",
              "\n",
              "  .colab-df-spinner {\n",
              "    border: 2px solid var(--fill-color);\n",
              "    border-color: transparent;\n",
              "    border-bottom-color: var(--fill-color);\n",
              "    animation:\n",
              "      spin 1s steps(1) infinite;\n",
              "  }\n",
              "\n",
              "  @keyframes spin {\n",
              "    0% {\n",
              "      border-color: transparent;\n",
              "      border-bottom-color: var(--fill-color);\n",
              "      border-left-color: var(--fill-color);\n",
              "    }\n",
              "    20% {\n",
              "      border-color: transparent;\n",
              "      border-left-color: var(--fill-color);\n",
              "      border-top-color: var(--fill-color);\n",
              "    }\n",
              "    30% {\n",
              "      border-color: transparent;\n",
              "      border-left-color: var(--fill-color);\n",
              "      border-top-color: var(--fill-color);\n",
              "      border-right-color: var(--fill-color);\n",
              "    }\n",
              "    40% {\n",
              "      border-color: transparent;\n",
              "      border-right-color: var(--fill-color);\n",
              "      border-top-color: var(--fill-color);\n",
              "    }\n",
              "    60% {\n",
              "      border-color: transparent;\n",
              "      border-right-color: var(--fill-color);\n",
              "    }\n",
              "    80% {\n",
              "      border-color: transparent;\n",
              "      border-right-color: var(--fill-color);\n",
              "      border-bottom-color: var(--fill-color);\n",
              "    }\n",
              "    90% {\n",
              "      border-color: transparent;\n",
              "      border-bottom-color: var(--fill-color);\n",
              "    }\n",
              "  }\n",
              "</style>\n",
              "\n",
              "  <script>\n",
              "    async function quickchart(key) {\n",
              "      const quickchartButtonEl =\n",
              "        document.querySelector('#' + key + ' button');\n",
              "      quickchartButtonEl.disabled = true;  // To prevent multiple clicks.\n",
              "      quickchartButtonEl.classList.add('colab-df-spinner');\n",
              "      try {\n",
              "        const charts = await google.colab.kernel.invokeFunction(\n",
              "            'suggestCharts', [key], {});\n",
              "      } catch (error) {\n",
              "        console.error('Error during call to suggestCharts:', error);\n",
              "      }\n",
              "      quickchartButtonEl.classList.remove('colab-df-spinner');\n",
              "      quickchartButtonEl.classList.add('colab-df-quickchart-complete');\n",
              "    }\n",
              "    (() => {\n",
              "      let quickchartButtonEl =\n",
              "        document.querySelector('#df-67bdedcc-55aa-47d2-94f4-0c8e4a0021ac button');\n",
              "      quickchartButtonEl.style.display =\n",
              "        google.colab.kernel.accessAllowed ? 'block' : 'none';\n",
              "    })();\n",
              "  </script>\n",
              "</div>\n",
              "\n",
              "    </div>\n",
              "  </div>\n"
            ],
            "application/vnd.google.colaboratory.intrinsic+json": {
              "type": "dataframe",
              "summary": "{\n  \"name\": \"train\",\n  \"rows\": 3,\n  \"fields\": [\n    {\n      \"column\": \"id\",\n      \"properties\": {\n        \"dtype\": \"string\",\n        \"num_unique_values\": 3,\n        \"samples\": [\n          \"en_0725819\",\n          \"en_0502930\",\n          \"en_0237275\"\n        ],\n        \"semantic_type\": \"\",\n        \"description\": \"\"\n      }\n    },\n    {\n      \"column\": \"text\",\n      \"properties\": {\n        \"dtype\": \"string\",\n        \"num_unique_values\": 3,\n        \"samples\": [\n          \"Never received can I get refunded on a gift card\",\n          \"These items were badly warped. I tried to straighten them but they cracked. They are nor worthless. SAVE YOUR MONEY THESE ARE JUNK!\",\n          \"No!!! I still haven\\u2019t received this item!!!\"\n        ],\n        \"semantic_type\": \"\",\n        \"description\": \"\"\n      }\n    },\n    {\n      \"column\": \"label\",\n      \"properties\": {\n        \"dtype\": \"number\",\n        \"std\": 0,\n        \"min\": 0,\n        \"max\": 0,\n        \"num_unique_values\": 1,\n        \"samples\": [\n          0\n        ],\n        \"semantic_type\": \"\",\n        \"description\": \"\"\n      }\n    },\n    {\n      \"column\": \"label_text\",\n      \"properties\": {\n        \"dtype\": \"category\",\n        \"num_unique_values\": 1,\n        \"samples\": [\n          \"0\"\n        ],\n        \"semantic_type\": \"\",\n        \"description\": \"\"\n      }\n    }\n  ]\n}"
            }
          },
          "metadata": {},
          "execution_count": 33
        }
      ]
    },
    {
      "cell_type": "markdown",
      "source": [
        "## Zero-shot prompt"
      ],
      "metadata": {
        "id": "FMAydzy6kT2k"
      }
    },
    {
      "cell_type": "code",
      "source": [
        "from llama_index.core.schema import TextNode\n",
        "from llama_index.core import PromptTemplate\n",
        "from llama_index.core.prompts import ChatMessage\n",
        "from llama_index.llms.openai import OpenAI\n",
        "from pydantic import BaseModel, Field\n",
        "from IPython.display import display\n",
        "import asyncio"
      ],
      "metadata": {
        "id": "gBcNdIaW2ejj"
      },
      "execution_count": null,
      "outputs": []
    },
    {
      "cell_type": "code",
      "source": [
        "prompt_tmpl_str = \"\"\"\\\n",
        "The review text is below.\n",
        "---------------------\n",
        "{review}\n",
        "---------------------\n",
        "Given the review text and not prior knowledge, \\\n",
        "please attempt to predict the review score of the context.\n",
        "\n",
        "Query: What is the rating of this review?\n",
        "Answer: \\\n",
        "\"\"\"\n",
        "\n",
        "prompt_tmpl = PromptTemplate(\n",
        "    prompt_tmpl_str,\n",
        ")"
      ],
      "metadata": {
        "id": "9KNSnSPikdh1"
      },
      "execution_count": null,
      "outputs": []
    },
    {
      "cell_type": "code",
      "source": [
        "class Rating(BaseModel):\n",
        "    rating: int = Field(..., description=\"Rating of the review\", enum=[0, 1, 2, 3, 4])\n",
        "\n",
        "llm = OpenAI(model=\"gpt-4o-mini\")\n",
        "zero_shot_structured_llm = llm.as_structured_llm(Rating)"
      ],
      "metadata": {
        "id": "0rJk61JskmHa"
      },
      "execution_count": null,
      "outputs": []
    },
    {
      "cell_type": "code",
      "source": [
        "from sklearn.metrics import ConfusionMatrixDisplay, confusion_matrix, classification_report, cohen_kappa_score, mean_absolute_error\n",
        "\n",
        "async def predict_and_evaluate(predict_fn):\n",
        "    labels = [int(x) for x in valid['label']]\n",
        "    tasks = [\n",
        "        predict_fn(text)\n",
        "        for text in valid['text']\n",
        "    ]\n",
        "    predictions = await asyncio.gather(*tasks)\n",
        "    cm = ConfusionMatrixDisplay.from_predictions(labels, predictions, normalize='true')\n",
        "    cr = classification_report(labels, predictions)\n",
        "    kappa = cohen_kappa_score(labels, predictions, weights='quadratic')\n",
        "    mae = mean_absolute_error(labels, predictions)\n",
        "    return labels, predictions, kappa, mae, cm, cr"
      ],
      "metadata": {
        "id": "yImq_5z9kulX"
      },
      "execution_count": null,
      "outputs": []
    },
    {
      "cell_type": "code",
      "source": [
        "async def zero_shot_predict(text):\n",
        "    messages = [\n",
        "        ChatMessage.from_str(prompt_tmpl.format(review=text))\n",
        "    ]\n",
        "    response = await zero_shot_structured_llm.achat(messages)\n",
        "    return response.raw.rating"
      ],
      "metadata": {
        "id": "idqg4yf-lPDi"
      },
      "execution_count": null,
      "outputs": []
    },
    {
      "cell_type": "code",
      "source": [
        "zero_shot_labels, zero_shot_predictions, zero_shot_kappa, zero_shot_mae, zero_shot_cm, zero_shot_cr = await predict_and_evaluate(zero_shot_predict)\n",
        "print(f\"Cohen's Kappa: {zero_shot_kappa:.04f}, MAE: {zero_shot_mae}\")\n",
        "print(zero_shot_cr)"
      ],
      "metadata": {
        "colab": {
          "base_uri": "https://localhost:8080/",
          "height": 669
        },
        "id": "8bOBOElala6d",
        "outputId": "304c1e8e-d5b8-4aae-cf09-8062ea3f64ba"
      },
      "execution_count": null,
      "outputs": [
        {
          "output_type": "display_data",
          "data": {
            "text/plain": [
              "Cohen's Kappa: \u001b[1;36m0.8364\u001b[0m, MAE: \u001b[1;36m0.56\u001b[0m\n"
            ],
            "text/html": [
              "<pre style=\"white-space:pre;overflow-x:auto;line-height:normal;font-family:Menlo,'DejaVu Sans Mono',consolas,'Courier New',monospace\">Cohen's Kappa: <span style=\"color: #008080; text-decoration-color: #008080; font-weight: bold\">0.8364</span>, MAE: <span style=\"color: #008080; text-decoration-color: #008080; font-weight: bold\">0.56</span>\n",
              "</pre>\n"
            ]
          },
          "metadata": {}
        },
        {
          "output_type": "display_data",
          "data": {
            "text/plain": [
              "              precision    recall  f1-score   support\n",
              "\n",
              "           \u001b[1;36m0\u001b[0m       \u001b[1;36m1.00\u001b[0m      \u001b[1;36m0.40\u001b[0m      \u001b[1;36m0.57\u001b[0m         \u001b[1;36m5\u001b[0m\n",
              "           \u001b[1;36m1\u001b[0m       \u001b[1;36m0.50\u001b[0m      \u001b[1;36m0.80\u001b[0m      \u001b[1;36m0.62\u001b[0m         \u001b[1;36m5\u001b[0m\n",
              "           \u001b[1;36m2\u001b[0m       \u001b[1;36m0.00\u001b[0m      \u001b[1;36m0.00\u001b[0m      \u001b[1;36m0.00\u001b[0m         \u001b[1;36m5\u001b[0m\n",
              "           \u001b[1;36m3\u001b[0m       \u001b[1;36m0.50\u001b[0m      \u001b[1;36m0.40\u001b[0m      \u001b[1;36m0.44\u001b[0m         \u001b[1;36m5\u001b[0m\n",
              "           \u001b[1;36m4\u001b[0m       \u001b[1;36m0.50\u001b[0m      \u001b[1;36m1.00\u001b[0m      \u001b[1;36m0.67\u001b[0m         \u001b[1;36m5\u001b[0m\n",
              "\n",
              "    accuracy                           \u001b[1;36m0.52\u001b[0m        \u001b[1;36m25\u001b[0m\n",
              "   macro avg       \u001b[1;36m0.50\u001b[0m      \u001b[1;36m0.52\u001b[0m      \u001b[1;36m0.46\u001b[0m        \u001b[1;36m25\u001b[0m\n",
              "weighted avg       \u001b[1;36m0.50\u001b[0m      \u001b[1;36m0.52\u001b[0m      \u001b[1;36m0.46\u001b[0m        \u001b[1;36m25\u001b[0m\n",
              "\n"
            ],
            "text/html": [
              "<pre style=\"white-space:pre;overflow-x:auto;line-height:normal;font-family:Menlo,'DejaVu Sans Mono',consolas,'Courier New',monospace\">              precision    recall  f1-score   support\n",
              "\n",
              "           <span style=\"color: #008080; text-decoration-color: #008080; font-weight: bold\">0</span>       <span style=\"color: #008080; text-decoration-color: #008080; font-weight: bold\">1.00</span>      <span style=\"color: #008080; text-decoration-color: #008080; font-weight: bold\">0.40</span>      <span style=\"color: #008080; text-decoration-color: #008080; font-weight: bold\">0.57</span>         <span style=\"color: #008080; text-decoration-color: #008080; font-weight: bold\">5</span>\n",
              "           <span style=\"color: #008080; text-decoration-color: #008080; font-weight: bold\">1</span>       <span style=\"color: #008080; text-decoration-color: #008080; font-weight: bold\">0.50</span>      <span style=\"color: #008080; text-decoration-color: #008080; font-weight: bold\">0.80</span>      <span style=\"color: #008080; text-decoration-color: #008080; font-weight: bold\">0.62</span>         <span style=\"color: #008080; text-decoration-color: #008080; font-weight: bold\">5</span>\n",
              "           <span style=\"color: #008080; text-decoration-color: #008080; font-weight: bold\">2</span>       <span style=\"color: #008080; text-decoration-color: #008080; font-weight: bold\">0.00</span>      <span style=\"color: #008080; text-decoration-color: #008080; font-weight: bold\">0.00</span>      <span style=\"color: #008080; text-decoration-color: #008080; font-weight: bold\">0.00</span>         <span style=\"color: #008080; text-decoration-color: #008080; font-weight: bold\">5</span>\n",
              "           <span style=\"color: #008080; text-decoration-color: #008080; font-weight: bold\">3</span>       <span style=\"color: #008080; text-decoration-color: #008080; font-weight: bold\">0.50</span>      <span style=\"color: #008080; text-decoration-color: #008080; font-weight: bold\">0.40</span>      <span style=\"color: #008080; text-decoration-color: #008080; font-weight: bold\">0.44</span>         <span style=\"color: #008080; text-decoration-color: #008080; font-weight: bold\">5</span>\n",
              "           <span style=\"color: #008080; text-decoration-color: #008080; font-weight: bold\">4</span>       <span style=\"color: #008080; text-decoration-color: #008080; font-weight: bold\">0.50</span>      <span style=\"color: #008080; text-decoration-color: #008080; font-weight: bold\">1.00</span>      <span style=\"color: #008080; text-decoration-color: #008080; font-weight: bold\">0.67</span>         <span style=\"color: #008080; text-decoration-color: #008080; font-weight: bold\">5</span>\n",
              "\n",
              "    accuracy                           <span style=\"color: #008080; text-decoration-color: #008080; font-weight: bold\">0.52</span>        <span style=\"color: #008080; text-decoration-color: #008080; font-weight: bold\">25</span>\n",
              "   macro avg       <span style=\"color: #008080; text-decoration-color: #008080; font-weight: bold\">0.50</span>      <span style=\"color: #008080; text-decoration-color: #008080; font-weight: bold\">0.52</span>      <span style=\"color: #008080; text-decoration-color: #008080; font-weight: bold\">0.46</span>        <span style=\"color: #008080; text-decoration-color: #008080; font-weight: bold\">25</span>\n",
              "weighted avg       <span style=\"color: #008080; text-decoration-color: #008080; font-weight: bold\">0.50</span>      <span style=\"color: #008080; text-decoration-color: #008080; font-weight: bold\">0.52</span>      <span style=\"color: #008080; text-decoration-color: #008080; font-weight: bold\">0.46</span>        <span style=\"color: #008080; text-decoration-color: #008080; font-weight: bold\">25</span>\n",
              "\n",
              "</pre>\n"
            ]
          },
          "metadata": {}
        },
        {
          "output_type": "display_data",
          "data": {
            "text/plain": [
              "<Figure size 640x480 with 2 Axes>"
            ],
            "image/png": "[encoded data removed]"
          },
          "metadata": {}
        }
      ]
    },
    {
      "cell_type": "markdown",
      "source": [
        "# Prompt engineering 2: few-shot promting"
      ],
      "metadata": {
        "id": "0vnpPQUOZpPX"
      }
    },
    {
      "cell_type": "markdown",
      "source": [
        "In the following cell, we load and parse the data.\n",
        "The data here is uber reviews"
      ],
      "metadata": {
        "id": "W-_rhqOV7lzY"
      }
    },
    {
      "cell_type": "code",
      "source": [
        "train.shuffle()[:5]"
      ],
      "metadata": {
        "colab": {
          "base_uri": "https://localhost:8080/"
        },
        "id": "dozUZ9OS433K",
        "outputId": "2a35b488-99b9-4724-ad29-8ea4969b8f9d"
      },
      "execution_count": null,
      "outputs": [
        {
          "output_type": "execute_result",
          "data": {
            "text/plain": [
              "{'id': ['en_0229331', 'en_0067389', 'en_0945335', 'en_0539354', 'en_0156256'],\n",
              " 'text': [\"These bowls are awesome for the price. They have a good solid weight to them and don't feel like they are going to break when i set them down on my granite counters. The depth and width are almost perfect.\",\n",
              "  'Enjoyed the layout better in this one has spaces for seating charts, field trips, birthdays and more.',\n",
              "  'I hand craft stationery and these stickers are perfect for making monograms with. They stick on nice and secure and the edges are clear, not white paper.',\n",
              "  'Great mat a bit squeaky when using for hot yoga on the floor, but it still gets 5 stars in my book.',\n",
              "  'My daughter participates in a school outing.I bought her this thermal underwear to keep her warm in the cold outdoors.Not only are they warm, but they are comfortable and elastic against her skin.They are thin enough for her to wear them at all times'],\n",
              " 'label': [3, 2, 4, 4, 4],\n",
              " 'label_text': ['3', '2', '4', '4', '4']}"
            ]
          },
          "metadata": {},
          "execution_count": 111
        }
      ]
    },
    {
      "cell_type": "code",
      "source": [
        "def random_few_shot_examples_fn(**kwargs):\n",
        "    random_examples = train.shuffle()[:5]\n",
        "    result_strs = []\n",
        "    for text, rating in zip(random_examples['text'], random_examples['label']):\n",
        "        result_strs.append(f\"Text: {text}\\nRating: {rating}\")\n",
        "    return \"\\n\\n\".join(result_strs)"
      ],
      "metadata": {
        "id": "OGLdG-Hz3a4h"
      },
      "execution_count": null,
      "outputs": []
    },
    {
      "cell_type": "code",
      "source": [
        "print(random_few_shot_examples_fn())"
      ],
      "metadata": {
        "colab": {
          "base_uri": "https://localhost:8080/",
          "height": 411
        },
        "id": "dYCRyZFT48eM",
        "outputId": "65dca3c1-0b87-4826-c5fc-3bdf9c41bab1"
      },
      "execution_count": null,
      "outputs": [
        {
          "output_type": "display_data",
          "data": {
            "text/plain": [
              "Text: These are the thinnest, smallest bully sticks I’ve ever kid eyes on. I didn’t even know they could be made \n",
              "this small. It looks like I’m holding a pack on incense in the picture. My pup finished one in under three minutes \n",
              "when it usually takes him about \u001b[1;36m20\u001b[0m - \u001b[1;36m35\u001b[0m minutes to get through a normal sized bully stick. All in all, dog loved \n",
              "it, so I give them an extra star. If you have a very small dog like a chihuahua or even a puppy, these might work \n",
              "out, but this isn’t a very good value for the price for anyone else.\n",
              "Rating: \u001b[1;36m1\u001b[0m\n",
              "\n",
              "Text: Nice bags. Wished they had a white area to write on. Ended up switching to lansinoh.\n",
              "Rating: \u001b[1;36m3\u001b[0m\n",
              "\n",
              "Text: Bigger than expected. Awkward even. Too \u001b[33m...\u001b[0m Plastic. Thinner than a gal. of milk. Should at least have some \n",
              "sort of a handle to make up for its awkwardness.\n",
              "Rating: \u001b[1;36m2\u001b[0m\n",
              "\n",
              "Text: This product does work, however, even after reading the instructions, my patchwork wasn't the greatest. I \n",
              "recommend that if you are using this on matte finished leather or faux leather products that you use very little of\n",
              "the glue and definitely make sure that your glue is completely dry and that you smooth out the surface. There is a \n",
              "definite difference in sheen when applying the paint colour to your item that needs repair. In essence, this \n",
              "product does patch tears, but it still is very noticeable.\n",
              "Rating: \u001b[1;36m2\u001b[0m\n",
              "\n",
              "Text: Didn’t like these. The khaki colored pants are see-through and the fabric is very rough. Although they may \n",
              "soften with washing, I’m returning.\n",
              "Rating: \u001b[1;36m0\u001b[0m\n"
            ],
            "text/html": [
              "<pre style=\"white-space:pre;overflow-x:auto;line-height:normal;font-family:Menlo,'DejaVu Sans Mono',consolas,'Courier New',monospace\">Text: These are the thinnest, smallest bully sticks I’ve ever kid eyes on. I didn’t even know they could be made \n",
              "this small. It looks like I’m holding a pack on incense in the picture. My pup finished one in under three minutes \n",
              "when it usually takes him about <span style=\"color: #008080; text-decoration-color: #008080; font-weight: bold\">20</span> - <span style=\"color: #008080; text-decoration-color: #008080; font-weight: bold\">35</span> minutes to get through a normal sized bully stick. All in all, dog loved \n",
              "it, so I give them an extra star. If you have a very small dog like a chihuahua or even a puppy, these might work \n",
              "out, but this isn’t a very good value for the price for anyone else.\n",
              "Rating: <span style=\"color: #008080; text-decoration-color: #008080; font-weight: bold\">1</span>\n",
              "\n",
              "Text: Nice bags. Wished they had a white area to write on. Ended up switching to lansinoh.\n",
              "Rating: <span style=\"color: #008080; text-decoration-color: #008080; font-weight: bold\">3</span>\n",
              "\n",
              "Text: Bigger than expected. Awkward even. Too <span style=\"color: #808000; text-decoration-color: #808000\">...</span> Plastic. Thinner than a gal. of milk. Should at least have some \n",
              "sort of a handle to make up for its awkwardness.\n",
              "Rating: <span style=\"color: #008080; text-decoration-color: #008080; font-weight: bold\">2</span>\n",
              "\n",
              "Text: This product does work, however, even after reading the instructions, my patchwork wasn't the greatest. I \n",
              "recommend that if you are using this on matte finished leather or faux leather products that you use very little of\n",
              "the glue and definitely make sure that your glue is completely dry and that you smooth out the surface. There is a \n",
              "definite difference in sheen when applying the paint colour to your item that needs repair. In essence, this \n",
              "product does patch tears, but it still is very noticeable.\n",
              "Rating: <span style=\"color: #008080; text-decoration-color: #008080; font-weight: bold\">2</span>\n",
              "\n",
              "Text: Didn’t like these. The khaki colored pants are see-through and the fabric is very rough. Although they may \n",
              "soften with washing, I’m returning.\n",
              "Rating: <span style=\"color: #008080; text-decoration-color: #008080; font-weight: bold\">0</span>\n",
              "</pre>\n"
            ]
          },
          "metadata": {}
        }
      ]
    },
    {
      "cell_type": "code",
      "source": [
        "few_shot_prompt_tmpl_str = \"\"\"\\\n",
        "The review text is below.\n",
        "---------------------\n",
        "{review}\n",
        "---------------------\n",
        "Given the review text and not prior knowledge, \\\n",
        "please attempt to predict the review score of the context. \\\n",
        "Here are several examples of reviews and their ratings:\n",
        "\n",
        "{random_few_shot_examples}\n",
        "\n",
        "Query: What is the rating of this review?\n",
        "Answer: \\\n",
        "\"\"\"\n",
        "\n",
        "few_shot_prompt_tmpl = PromptTemplate(\n",
        "    few_shot_prompt_tmpl_str,\n",
        "    function_mappings={\"random_few_shot_examples\": random_few_shot_examples_fn},\n",
        ")"
      ],
      "metadata": {
        "id": "GGk-w7fL5XW5"
      },
      "execution_count": null,
      "outputs": []
    },
    {
      "cell_type": "code",
      "source": [
        "print(few_shot_prompt_tmpl.format(review='I loved this product!'))"
      ],
      "metadata": {
        "colab": {
          "base_uri": "https://localhost:8080/",
          "height": 953
        },
        "id": "apaZeBI35qcL",
        "outputId": "23c9f7f6-fcb0-450e-8a8f-67cdc0068a1d"
      },
      "execution_count": null,
      "outputs": [
        {
          "output_type": "display_data",
          "data": {
            "text/plain": [
              "The review text is below.\n",
              "---------------------\n",
              "I loved this product!\n",
              "---------------------\n",
              "Given the review text and not prior knowledge, please attempt to predict the review score of the context. Here are \n",
              "several examples of reviews and their ratings:\n",
              "\n",
              "Text: First, these do not cycle well from magazines in either pistols or rifles. They may even damage feed lips on \n",
              "mags. Therefore, these are worthless for a training aid. Second, they are brittle and have a limited life span. The\n",
              "only use for these would be for function testing since you can see a notch cut out in the cap after firing it so \n",
              "you can see if your firing pin is working.\n",
              "Rating: \u001b[1;36m1\u001b[0m\n",
              "\n",
              "Text: First I want to state that the hot tub itself is awesome. The lights are awesome and it runs off a regular \n",
              "electrical outlet. Two major problems that I have with this. Number one is the controls are hard to figure out. \n",
              "Even after reading the manual it still gets confusing with all the different types of mode plus there are things \n",
              "you figure out along the way as to why your hot tub isn't heating up, trying to find the correct setting on how \n",
              "many people will be in it to how much it is going to be used, need to really read up on chemicals that need to be \n",
              "in it and where to buy those along with the filters. this hot tub does get on stuck mode quite a bit. You have to \n",
              "be careful changing the different modes on it because if your temp is too high it may think it needs to be heated \n",
              "if your temperature setting is on low. For example, you have it set for \u001b[1;36m98\u001b[0m degrees but then you decide that you \n",
              "want it cooler to \u001b[1;36m95\u001b[0m. If you are in economy mode and it is over \u001b[1;36m95\u001b[0m degrees then the hot tub will run non stop no \n",
              "matter what setting or filteration setting it is on. The main issue I have with this hot tub is the Hudson Bay \n",
              "customer service. I was on the phone with them for a total of a week trying to figure out why my hot tub was not \n",
              "turning off and why some of my jets were not working. I fear that if I ever have to order parts and have them \n",
              "installed it just will not happen with this company. I kept asking for someone to come out and look at it but I \n",
              "kept getting the run around. As for ordering any parts of the company I was told by the service department that I \n",
              "would be better off buying my parts such as chemicals and filters from someplace else because they were way to \n",
              "expensive and shipping time can be as long as a month after I placed my order. I was finally able to talk to \n",
              "someone in the service department that was able to explain to me how to fix stuff and to check stuff but it took me\n",
              "a forever to find him. Average length of phone call was \u001b[1;36m3\u001b[0m hours where they just kept telling me to do the same \n",
              "thing over and over again. Very frusterating. So if you do not need customer service at all then feel free to buy \n",
              "this hot tub.\n",
              "Rating: \u001b[1;36m3\u001b[0m\n",
              "\n",
              "Text: Looks like it is a remnant\n",
              "Rating: \u001b[1;36m1\u001b[0m\n",
              "\n",
              "Text: I purchased this item. I really doubt that it is RFID blocking though, since it looks like most other pouch \n",
              "type holders. But just to be safe on that, I went ahead and purchased the RFID blocking sleeves to put our \n",
              "passports into. This item holds a good deal, although its not super big. Rather thinly made too.\n",
              "Rating: \u001b[1;36m3\u001b[0m\n",
              "\n",
              "Text: Overall, good build quality, works as a bike pump, and I like the general design. However, it has several \n",
              "minuses that, while individually were just annoyances, cumulatively added up to be a deal killer: - It's single \n",
              "action, so it takes about twice as many strokes to inflate a tire. - The handle doesn't lock when not in use, so \n",
              "you have to secure it tightly to keep it from extending while stored and getting full of crud. - When I checked the\n",
              "pressure gauge against a decent automotive one, the reading was \u001b[1;36m5\u001b[0m psi low. Not a lot, but when you're shooting for \n",
              "\u001b[1;36m25\u001b[0m psi, that's a \u001b[1;36m20\u001b[0m% error. - The presta side of the adapter hose does not depress the end of the presta valves on \n",
              "my tires, so the pressure gauge is useless for me anyway. - The strap that came with it was flimsy, and on my first\n",
              "actual ride with it mounted in the bracket, I looked down after a quarter mile to see the frayed remains of the \n",
              "strap and no pump. I'll be buying a replacement of a different brand, but I would easily buy this one again if the \n",
              "above flaws were fixed.\n",
              "Rating: \u001b[1;36m2\u001b[0m\n",
              "\n",
              "Query: What is the rating of this review?\n",
              "Answer: \n"
            ],
            "text/html": [
              "<pre style=\"white-space:pre;overflow-x:auto;line-height:normal;font-family:Menlo,'DejaVu Sans Mono',consolas,'Courier New',monospace\">The review text is below.\n",
              "---------------------\n",
              "I loved this product!\n",
              "---------------------\n",
              "Given the review text and not prior knowledge, please attempt to predict the review score of the context. Here are \n",
              "several examples of reviews and their ratings:\n",
              "\n",
              "Text: First, these do not cycle well from magazines in either pistols or rifles. They may even damage feed lips on \n",
              "mags. Therefore, these are worthless for a training aid. Second, they are brittle and have a limited life span. The\n",
              "only use for these would be for function testing since you can see a notch cut out in the cap after firing it so \n",
              "you can see if your firing pin is working.\n",
              "Rating: <span style=\"color: #008080; text-decoration-color: #008080; font-weight: bold\">1</span>\n",
              "\n",
              "Text: First I want to state that the hot tub itself is awesome. The lights are awesome and it runs off a regular \n",
              "electrical outlet. Two major problems that I have with this. Number one is the controls are hard to figure out. \n",
              "Even after reading the manual it still gets confusing with all the different types of mode plus there are things \n",
              "you figure out along the way as to why your hot tub isn't heating up, trying to find the correct setting on how \n",
              "many people will be in it to how much it is going to be used, need to really read up on chemicals that need to be \n",
              "in it and where to buy those along with the filters. this hot tub does get on stuck mode quite a bit. You have to \n",
              "be careful changing the different modes on it because if your temp is too high it may think it needs to be heated \n",
              "if your temperature setting is on low. For example, you have it set for <span style=\"color: #008080; text-decoration-color: #008080; font-weight: bold\">98</span> degrees but then you decide that you \n",
              "want it cooler to <span style=\"color: #008080; text-decoration-color: #008080; font-weight: bold\">95</span>. If you are in economy mode and it is over <span style=\"color: #008080; text-decoration-color: #008080; font-weight: bold\">95</span> degrees then the hot tub will run non stop no \n",
              "matter what setting or filteration setting it is on. The main issue I have with this hot tub is the Hudson Bay \n",
              "customer service. I was on the phone with them for a total of a week trying to figure out why my hot tub was not \n",
              "turning off and why some of my jets were not working. I fear that if I ever have to order parts and have them \n",
              "installed it just will not happen with this company. I kept asking for someone to come out and look at it but I \n",
              "kept getting the run around. As for ordering any parts of the company I was told by the service department that I \n",
              "would be better off buying my parts such as chemicals and filters from someplace else because they were way to \n",
              "expensive and shipping time can be as long as a month after I placed my order. I was finally able to talk to \n",
              "someone in the service department that was able to explain to me how to fix stuff and to check stuff but it took me\n",
              "a forever to find him. Average length of phone call was <span style=\"color: #008080; text-decoration-color: #008080; font-weight: bold\">3</span> hours where they just kept telling me to do the same \n",
              "thing over and over again. Very frusterating. So if you do not need customer service at all then feel free to buy \n",
              "this hot tub.\n",
              "Rating: <span style=\"color: #008080; text-decoration-color: #008080; font-weight: bold\">3</span>\n",
              "\n",
              "Text: Looks like it is a remnant\n",
              "Rating: <span style=\"color: #008080; text-decoration-color: #008080; font-weight: bold\">1</span>\n",
              "\n",
              "Text: I purchased this item. I really doubt that it is RFID blocking though, since it looks like most other pouch \n",
              "type holders. But just to be safe on that, I went ahead and purchased the RFID blocking sleeves to put our \n",
              "passports into. This item holds a good deal, although its not super big. Rather thinly made too.\n",
              "Rating: <span style=\"color: #008080; text-decoration-color: #008080; font-weight: bold\">3</span>\n",
              "\n",
              "Text: Overall, good build quality, works as a bike pump, and I like the general design. However, it has several \n",
              "minuses that, while individually were just annoyances, cumulatively added up to be a deal killer: - It's single \n",
              "action, so it takes about twice as many strokes to inflate a tire. - The handle doesn't lock when not in use, so \n",
              "you have to secure it tightly to keep it from extending while stored and getting full of crud. - When I checked the\n",
              "pressure gauge against a decent automotive one, the reading was <span style=\"color: #008080; text-decoration-color: #008080; font-weight: bold\">5</span> psi low. Not a lot, but when you're shooting for \n",
              "<span style=\"color: #008080; text-decoration-color: #008080; font-weight: bold\">25</span> psi, that's a <span style=\"color: #008080; text-decoration-color: #008080; font-weight: bold\">20</span>% error. - The presta side of the adapter hose does not depress the end of the presta valves on \n",
              "my tires, so the pressure gauge is useless for me anyway. - The strap that came with it was flimsy, and on my first\n",
              "actual ride with it mounted in the bracket, I looked down after a quarter mile to see the frayed remains of the \n",
              "strap and no pump. I'll be buying a replacement of a different brand, but I would easily buy this one again if the \n",
              "above flaws were fixed.\n",
              "Rating: <span style=\"color: #008080; text-decoration-color: #008080; font-weight: bold\">2</span>\n",
              "\n",
              "Query: What is the rating of this review?\n",
              "Answer: \n",
              "</pre>\n"
            ]
          },
          "metadata": {}
        }
      ]
    },
    {
      "cell_type": "code",
      "source": [
        "class Rating(BaseModel):\n",
        "    rating: int = Field(..., description=\"Rating of the review\", enum=[0, 1, 2, 3, 4])\n",
        "\n",
        "llm = OpenAI(model=\"gpt-4o-mini\")\n",
        "rand_few_shot_structured_llm = llm.as_structured_llm(Rating)"
      ],
      "metadata": {
        "id": "PSGk69O33Hfo"
      },
      "execution_count": null,
      "outputs": []
    },
    {
      "cell_type": "code",
      "source": [
        "async def random_few_shot_predict(text):\n",
        "    messages = [\n",
        "        ChatMessage.from_str(prompt_tmpl.format(review=text))\n",
        "    ]\n",
        "    response = await rand_few_shot_structured_llm.achat(messages)\n",
        "    return response.raw.rating"
      ],
      "metadata": {
        "id": "TBZuZeBK440q"
      },
      "execution_count": null,
      "outputs": []
    },
    {
      "cell_type": "code",
      "source": [
        "random_few_shot_labels, random_few_shot_predictions, random_few_shot_kappa, random_few_shot_mae, random_few_shot_cm, random_few_shot_cr = await predict_and_evaluate(random_few_shot_predict)\n",
        "print(f\"Cohen's Kappa: {random_few_shot_kappa:.04f}, MAE: {random_few_shot_mae}\")\n",
        "print(random_few_shot_cr)"
      ],
      "metadata": {
        "colab": {
          "base_uri": "https://localhost:8080/",
          "height": 669
        },
        "id": "QRAMqSGKre1j",
        "outputId": "215b182f-e412-44ed-8e78-8c22c4d0b101"
      },
      "execution_count": null,
      "outputs": [
        {
          "output_type": "display_data",
          "data": {
            "text/plain": [
              "Cohen's Kappa: \u001b[1;36m0.8496\u001b[0m, MAE: \u001b[1;36m0.52\u001b[0m\n"
            ],
            "text/html": [
              "<pre style=\"white-space:pre;overflow-x:auto;line-height:normal;font-family:Menlo,'DejaVu Sans Mono',consolas,'Courier New',monospace\">Cohen's Kappa: <span style=\"color: #008080; text-decoration-color: #008080; font-weight: bold\">0.8496</span>, MAE: <span style=\"color: #008080; text-decoration-color: #008080; font-weight: bold\">0.52</span>\n",
              "</pre>\n"
            ]
          },
          "metadata": {}
        },
        {
          "output_type": "display_data",
          "data": {
            "text/plain": [
              "              precision    recall  f1-score   support\n",
              "\n",
              "           \u001b[1;36m0\u001b[0m       \u001b[1;36m1.00\u001b[0m      \u001b[1;36m0.60\u001b[0m      \u001b[1;36m0.75\u001b[0m         \u001b[1;36m5\u001b[0m\n",
              "           \u001b[1;36m1\u001b[0m       \u001b[1;36m0.57\u001b[0m      \u001b[1;36m0.80\u001b[0m      \u001b[1;36m0.67\u001b[0m         \u001b[1;36m5\u001b[0m\n",
              "           \u001b[1;36m2\u001b[0m       \u001b[1;36m0.00\u001b[0m      \u001b[1;36m0.00\u001b[0m      \u001b[1;36m0.00\u001b[0m         \u001b[1;36m5\u001b[0m\n",
              "           \u001b[1;36m3\u001b[0m       \u001b[1;36m0.50\u001b[0m      \u001b[1;36m0.40\u001b[0m      \u001b[1;36m0.44\u001b[0m         \u001b[1;36m5\u001b[0m\n",
              "           \u001b[1;36m4\u001b[0m       \u001b[1;36m0.50\u001b[0m      \u001b[1;36m1.00\u001b[0m      \u001b[1;36m0.67\u001b[0m         \u001b[1;36m5\u001b[0m\n",
              "\n",
              "    accuracy                           \u001b[1;36m0.56\u001b[0m        \u001b[1;36m25\u001b[0m\n",
              "   macro avg       \u001b[1;36m0.51\u001b[0m      \u001b[1;36m0.56\u001b[0m      \u001b[1;36m0.51\u001b[0m        \u001b[1;36m25\u001b[0m\n",
              "weighted avg       \u001b[1;36m0.51\u001b[0m      \u001b[1;36m0.56\u001b[0m      \u001b[1;36m0.51\u001b[0m        \u001b[1;36m25\u001b[0m\n",
              "\n"
            ],
            "text/html": [
              "<pre style=\"white-space:pre;overflow-x:auto;line-height:normal;font-family:Menlo,'DejaVu Sans Mono',consolas,'Courier New',monospace\">              precision    recall  f1-score   support\n",
              "\n",
              "           <span style=\"color: #008080; text-decoration-color: #008080; font-weight: bold\">0</span>       <span style=\"color: #008080; text-decoration-color: #008080; font-weight: bold\">1.00</span>      <span style=\"color: #008080; text-decoration-color: #008080; font-weight: bold\">0.60</span>      <span style=\"color: #008080; text-decoration-color: #008080; font-weight: bold\">0.75</span>         <span style=\"color: #008080; text-decoration-color: #008080; font-weight: bold\">5</span>\n",
              "           <span style=\"color: #008080; text-decoration-color: #008080; font-weight: bold\">1</span>       <span style=\"color: #008080; text-decoration-color: #008080; font-weight: bold\">0.57</span>      <span style=\"color: #008080; text-decoration-color: #008080; font-weight: bold\">0.80</span>      <span style=\"color: #008080; text-decoration-color: #008080; font-weight: bold\">0.67</span>         <span style=\"color: #008080; text-decoration-color: #008080; font-weight: bold\">5</span>\n",
              "           <span style=\"color: #008080; text-decoration-color: #008080; font-weight: bold\">2</span>       <span style=\"color: #008080; text-decoration-color: #008080; font-weight: bold\">0.00</span>      <span style=\"color: #008080; text-decoration-color: #008080; font-weight: bold\">0.00</span>      <span style=\"color: #008080; text-decoration-color: #008080; font-weight: bold\">0.00</span>         <span style=\"color: #008080; text-decoration-color: #008080; font-weight: bold\">5</span>\n",
              "           <span style=\"color: #008080; text-decoration-color: #008080; font-weight: bold\">3</span>       <span style=\"color: #008080; text-decoration-color: #008080; font-weight: bold\">0.50</span>      <span style=\"color: #008080; text-decoration-color: #008080; font-weight: bold\">0.40</span>      <span style=\"color: #008080; text-decoration-color: #008080; font-weight: bold\">0.44</span>         <span style=\"color: #008080; text-decoration-color: #008080; font-weight: bold\">5</span>\n",
              "           <span style=\"color: #008080; text-decoration-color: #008080; font-weight: bold\">4</span>       <span style=\"color: #008080; text-decoration-color: #008080; font-weight: bold\">0.50</span>      <span style=\"color: #008080; text-decoration-color: #008080; font-weight: bold\">1.00</span>      <span style=\"color: #008080; text-decoration-color: #008080; font-weight: bold\">0.67</span>         <span style=\"color: #008080; text-decoration-color: #008080; font-weight: bold\">5</span>\n",
              "\n",
              "    accuracy                           <span style=\"color: #008080; text-decoration-color: #008080; font-weight: bold\">0.56</span>        <span style=\"color: #008080; text-decoration-color: #008080; font-weight: bold\">25</span>\n",
              "   macro avg       <span style=\"color: #008080; text-decoration-color: #008080; font-weight: bold\">0.51</span>      <span style=\"color: #008080; text-decoration-color: #008080; font-weight: bold\">0.56</span>      <span style=\"color: #008080; text-decoration-color: #008080; font-weight: bold\">0.51</span>        <span style=\"color: #008080; text-decoration-color: #008080; font-weight: bold\">25</span>\n",
              "weighted avg       <span style=\"color: #008080; text-decoration-color: #008080; font-weight: bold\">0.51</span>      <span style=\"color: #008080; text-decoration-color: #008080; font-weight: bold\">0.56</span>      <span style=\"color: #008080; text-decoration-color: #008080; font-weight: bold\">0.51</span>        <span style=\"color: #008080; text-decoration-color: #008080; font-weight: bold\">25</span>\n",
              "\n",
              "</pre>\n"
            ]
          },
          "metadata": {}
        },
        {
          "output_type": "display_data",
          "data": {
            "text/plain": [
              "<Figure size 640x480 with 2 Axes>"
            ],
            "image/png": "[encoded data removed]"
          },
          "metadata": {}
        }
      ]
    },
    {
      "cell_type": "markdown",
      "source": [
        "# Demo: Embeddings and vector stores\n",
        "\n",
        "In the previous demonstration, we saw that providing several randomly-selected examples to the LLM at inference time does decently well - it's decently good at predicting the review score, especially within 1 point of the actual review.\n",
        "In a little bit, we'll see that providing better examples to the model at inference time helps improve these scores.\n",
        "But we need efficient ways of searching over our `train` examples to determine which one to use.\n",
        "\n",
        "This is when you want to use a vector store.\n",
        "Vector stores can be in-memory stors, on-disk stores, database extensions like pgvector for Postgres, or even external APIs like Pinecone.\n",
        "\n",
        "Today, we'll use a popular open-source vectore database called `chromadb`.\n",
        "This tool allows us to ingest our documents and search over them effectively to determine which examples to use.\n",
        "\n",
        "In this demo, we'll go over the basics of how to use ChromaDB.\n",
        "We will also use `sentence-transformers` for embeddings as an example of how to use open-weights embedding models."
      ],
      "metadata": {
        "id": "tfedNl_UZyWj"
      }
    },
    {
      "cell_type": "code",
      "source": [
        "# Install chromadb and sentence-transformers\n",
        "!pip install -qqqq chromadb sentence-transformers"
      ],
      "metadata": {
        "colab": {
          "base_uri": "https://localhost:8080/"
        },
        "id": "q19yCvLQ76CV",
        "outputId": "e5465dbb-145b-4cf7-88bc-6348cace37f2"
      },
      "execution_count": null,
      "outputs": [
        {
          "output_type": "stream",
          "name": "stdout",
          "text": [
            "\u001b[?25l     \u001b[90m━━━━━━━━━━━━━━━━━━━━━━━━━━━━━━━━━━━━━━━━\u001b[0m \u001b[32m0.0/67.3 kB\u001b[0m \u001b[31m?\u001b[0m eta \u001b[36m-:--:--\u001b[0m\r\u001b[2K     \u001b[91m━━━━━━━━━━━━━━━━━━\u001b[0m\u001b[90m╺\u001b[0m\u001b[90m━━━━━━━━━━━━━━━━━━━━━\u001b[0m \u001b[32m30.7/67.3 kB\u001b[0m \u001b[31m3.0 MB/s\u001b[0m eta \u001b[36m0:00:01\u001b[0m\r\u001b[2K     \u001b[90m━━━━━━━━━━━━━━━━━━━━━━━━━━━━━━━━━━━━━━━━\u001b[0m \u001b[32m67.3/67.3 kB\u001b[0m \u001b[31m1.1 MB/s\u001b[0m eta \u001b[36m0:00:00\u001b[0m\n",
            "\u001b[?25h  Installing build dependencies ... \u001b[?25l\u001b[?25hdone\n",
            "  Getting requirements to build wheel ... \u001b[?25l\u001b[?25hdone\n",
            "  Preparing metadata (pyproject.toml) ... \u001b[?25l\u001b[?25hdone\n",
            "\u001b[2K   \u001b[90m━━━━━━━━━━━━━━━━━━━━━━━━━━━━━━━━━━━━━━━━\u001b[0m \u001b[32m615.5/615.5 kB\u001b[0m \u001b[31m417.5 kB/s\u001b[0m eta \u001b[36m0:00:00\u001b[0m\n",
            "\u001b[2K   \u001b[90m━━━━━━━━━━━━━━━━━━━━━━━━━━━━━━━━━━━━━━━━\u001b[0m \u001b[32m2.4/2.4 MB\u001b[0m \u001b[31m480.4 kB/s\u001b[0m eta \u001b[36m0:00:00\u001b[0m\n",
            "\u001b[2K   \u001b[90m━━━━━━━━━━━━━━━━━━━━━━━━━━━━━━━━━━━━━━━━\u001b[0m \u001b[32m273.8/273.8 kB\u001b[0m \u001b[31m677.8 kB/s\u001b[0m eta \u001b[36m0:00:00\u001b[0m\n",
            "\u001b[2K   \u001b[90m━━━━━━━━━━━━━━━━━━━━━━━━━━━━━━━━━━━━━━━━\u001b[0m \u001b[32m94.7/94.7 kB\u001b[0m \u001b[31m293.4 kB/s\u001b[0m eta \u001b[36m0:00:00\u001b[0m\n",
            "\u001b[2K   \u001b[90m━━━━━━━━━━━━━━━━━━━━━━━━━━━━━━━━━━━━━━━━\u001b[0m \u001b[32m1.9/1.9 MB\u001b[0m \u001b[31m479.4 kB/s\u001b[0m eta \u001b[36m0:00:00\u001b[0m\n",
            "\u001b[2K   \u001b[90m━━━━━━━━━━━━━━━━━━━━━━━━━━━━━━━━━━━━━━━━\u001b[0m \u001b[32m93.2/93.2 kB\u001b[0m \u001b[31m338.1 kB/s\u001b[0m eta \u001b[36m0:00:00\u001b[0m\n",
            "\u001b[2K   \u001b[90m━━━━━━━━━━━━━━━━━━━━━━━━━━━━━━━━━━━━━━━━\u001b[0m \u001b[32m13.3/13.3 MB\u001b[0m \u001b[31m451.4 kB/s\u001b[0m eta \u001b[36m0:00:00\u001b[0m\n",
            "\u001b[2K   \u001b[90m━━━━━━━━━━━━━━━━━━━━━━━━━━━━━━━━━━━━━━━━\u001b[0m \u001b[32m55.8/55.8 kB\u001b[0m \u001b[31m337.5 kB/s\u001b[0m eta \u001b[36m0:00:00\u001b[0m\n",
            "\u001b[2K   \u001b[90m━━━━━━━━━━━━━━━━━━━━━━━━━━━━━━━━━━━━━━━━\u001b[0m \u001b[32m159.2/159.2 kB\u001b[0m \u001b[31m370.9 kB/s\u001b[0m eta \u001b[36m0:00:00\u001b[0m\n",
            "\u001b[2K   \u001b[90m━━━━━━━━━━━━━━━━━━━━━━━━━━━━━━━━━━━━━━━━\u001b[0m \u001b[32m64.3/64.3 kB\u001b[0m \u001b[31m338.6 kB/s\u001b[0m eta \u001b[36m0:00:00\u001b[0m\n",
            "\u001b[2K   \u001b[90m━━━━━━━━━━━━━━━━━━━━━━━━━━━━━━━━━━━━━━━━\u001b[0m \u001b[32m118.7/118.7 kB\u001b[0m \u001b[31m318.9 kB/s\u001b[0m eta \u001b[36m0:00:00\u001b[0m\n",
            "\u001b[2K   \u001b[90m━━━━━━━━━━━━━━━━━━━━━━━━━━━━━━━━━━━━━━━━\u001b[0m \u001b[32m54.4/54.4 kB\u001b[0m \u001b[31m617.7 kB/s\u001b[0m eta \u001b[36m0:00:00\u001b[0m\n",
            "\u001b[2K   \u001b[90m━━━━━━━━━━━━━━━━━━━━━━━━━━━━━━━━━━━━━━━━\u001b[0m \u001b[32m63.7/63.7 kB\u001b[0m \u001b[31m696.2 kB/s\u001b[0m eta \u001b[36m0:00:00\u001b[0m\n",
            "\u001b[2K   \u001b[90m━━━━━━━━━━━━━━━━━━━━━━━━━━━━━━━━━━━━━━━━\u001b[0m \u001b[32m442.1/442.1 kB\u001b[0m \u001b[31m600.2 kB/s\u001b[0m eta \u001b[36m0:00:00\u001b[0m\n",
            "\u001b[2K   \u001b[90m━━━━━━━━━━━━━━━━━━━━━━━━━━━━━━━━━━━━━━━━\u001b[0m \u001b[32m316.6/316.6 kB\u001b[0m \u001b[31m441.2 kB/s\u001b[0m eta \u001b[36m0:00:00\u001b[0m\n",
            "\u001b[2K   \u001b[90m━━━━━━━━━━━━━━━━━━━━━━━━━━━━━━━━━━━━━━━━\u001b[0m \u001b[32m73.3/73.3 kB\u001b[0m \u001b[31m842.6 kB/s\u001b[0m eta \u001b[36m0:00:00\u001b[0m\n",
            "\u001b[2K   \u001b[90m━━━━━━━━━━━━━━━━━━━━━━━━━━━━━━━━━━━━━━━━\u001b[0m \u001b[32m3.8/3.8 MB\u001b[0m \u001b[31m519.5 kB/s\u001b[0m eta \u001b[36m0:00:00\u001b[0m\n",
            "\u001b[2K   \u001b[90m━━━━━━━━━━━━━━━━━━━━━━━━━━━━━━━━━━━━━━━━\u001b[0m \u001b[32m425.7/425.7 kB\u001b[0m \u001b[31m508.8 kB/s\u001b[0m eta \u001b[36m0:00:00\u001b[0m\n",
            "\u001b[2K   \u001b[90m━━━━━━━━━━━━━━━━━━━━━━━━━━━━━━━━━━━━━━━━\u001b[0m \u001b[32m164.1/164.1 kB\u001b[0m \u001b[31m633.5 kB/s\u001b[0m eta \u001b[36m0:00:00\u001b[0m\n",
            "\u001b[2K   \u001b[90m━━━━━━━━━━━━━━━━━━━━━━━━━━━━━━━━━━━━━━━━\u001b[0m \u001b[32m46.0/46.0 kB\u001b[0m \u001b[31m517.5 kB/s\u001b[0m eta \u001b[36m0:00:00\u001b[0m\n",
            "\u001b[2K   \u001b[90m━━━━━━━━━━━━━━━━━━━━━━━━━━━━━━━━━━━━━━━━\u001b[0m \u001b[32m86.8/86.8 kB\u001b[0m \u001b[31m577.6 kB/s\u001b[0m eta \u001b[36m0:00:00\u001b[0m\n",
            "\u001b[?25h  Building wheel for pypika (pyproject.toml) ... \u001b[?25l\u001b[?25hdone\n",
            "\u001b[31mERROR: pip's dependency resolver does not currently take into account all the packages that are installed. This behaviour is the source of the following dependency conflicts.\n",
            "google-cloud-datastore 2.19.0 requires protobuf!=3.20.0,!=3.20.1,!=4.21.0,!=4.21.1,!=4.21.2,!=4.21.3,!=4.21.4,!=4.21.5,<5.0.0dev,>=3.19.5, but you have protobuf 5.28.3 which is incompatible.\n",
            "google-cloud-firestore 2.16.1 requires protobuf!=3.20.0,!=3.20.1,!=4.21.0,!=4.21.1,!=4.21.2,!=4.21.3,!=4.21.4,!=4.21.5,<5.0.0dev,>=3.19.5, but you have protobuf 5.28.3 which is incompatible.\n",
            "tensorboard 2.17.0 requires protobuf!=4.24.0,<5.0.0,>=3.19.6, but you have protobuf 5.28.3 which is incompatible.\n",
            "tensorflow 2.17.0 requires protobuf!=4.21.0,!=4.21.1,!=4.21.2,!=4.21.3,!=4.21.4,!=4.21.5,<5.0.0dev,>=3.20.3, but you have protobuf 5.28.3 which is incompatible.\n",
            "tensorflow-metadata 1.16.1 requires protobuf<4.21,>=3.20.3; python_version < \"3.11\", but you have protobuf 5.28.3 which is incompatible.\u001b[0m\u001b[31m\n",
            "\u001b[0m"
          ]
        }
      ]
    },
    {
      "cell_type": "code",
      "source": [
        "# Imports\n",
        "from sentence_transformers import SentenceTransformer\n",
        "from chromadb import Client\n",
        "from chromadb.utils.embedding_functions import SentenceTransformerEmbeddingFunction"
      ],
      "metadata": {
        "colab": {
          "base_uri": "https://localhost:8080/",
          "height": 86,
          "referenced_widgets": [
            "03ae1d09fa424872b6d0db612bd28c9c",
            "7279e200aae64179bc8a9380f13de3f2",
            "27f35087cddd4e5493cb1cfe6bf88472",
            "193c86131c1f4089bf81188f72ed41f4",
            "5451579920654f12b60b226362b2883b",
            "001a8684fe8541febf8df2e0f34f9675",
            "9dbd7d209bfe46b3bb2c7b00de9acf40",
            "5c6e127ddc004d13b06abc5960462ac3",
            "09d6a6e4e59247a3b20533098adbe518",
            "e5de3921842e4cccad090026b23dc2f8",
            "c1af1451ad454783bda2f95d58626e60"
          ]
        },
        "id": "ij1wKj_P8hbl",
        "outputId": "1218e7a9-4be4-43ed-a43b-a76dc5f913b4"
      },
      "execution_count": null,
      "outputs": [
        {
          "output_type": "stream",
          "name": "stderr",
          "text": [
            "The cache for model files in Transformers v4.22.0 has been updated. Migrating your old cache. This is a one-time only operation. You can interrupt this and resume the migration later on by calling `transformers.utils.move_cache()`.\n"
          ]
        },
        {
          "output_type": "display_data",
          "data": {
            "text/plain": [
              "0it [00:00, ?it/s]"
            ],
            "application/vnd.jupyter.widget-view+json": {
              "version_major": 2,
              "version_minor": 0,
              "model_id": "03ae1d09fa424872b6d0db612bd28c9c"
            }
          },
          "metadata": {}
        }
      ]
    },
    {
      "cell_type": "markdown",
      "source": [
        "In this cell, we declare our embedding function.\n",
        "We will use the small but powerful [BGE-small](https://huggingface.co/BAAI/bge-small-en-v1.5) model to embed our documents."
      ],
      "metadata": {
        "id": "89FH9DtpcI3r"
      }
    },
    {
      "cell_type": "code",
      "source": [
        "embed_fn = SentenceTransformerEmbeddingFunction('BAAI/bge-small-en-v1.5')"
      ],
      "metadata": {
        "colab": {
          "base_uri": "https://localhost:8080/",
          "height": 369,
          "referenced_widgets": [
            "367ff706fc354388871a331dfe1875c7",
            "108db7f20d9846e3b1ab72f17f6a8240",
            "c0a295a359f140709f04f0660eb40dc7",
            "944bf542aa2940d38e14853e09bdca04",
            "975dac67c751470ab0c5e948aa668ebb",
            "f87248b4b2eb40ebb59786c8a5caa192",
            "30904473f9d34e1dbccbc85902c6b852",
            "30ee8e7f1a2f410ab88d95255cdbaab5",
            "edaf37efc2e74de399d4eecf5583d343",
            "b190b26045494dbe83a0e3cdf075f38d",
            "9cf5afa17e8041939a9ef634c39f7786",
            "da015feb5a1a4e389a8e7e0e4d70f7fa",
            "26f50b5a63bd4cac9dc2020ce19fb0fd",
            "230435ebb5324026a3595aa0b61d7a89",
            "c786085b9fa5411685be71f7f8660edc",
            "c53b5265928d41179db6533ba213c7f9",
            "4bcb9f469e3c413bac9cea04a56eb8ed",
            "71150423dc84477696871920b61da655",
            "0dffd5b8c84e472da0886c1a8bdd3c3e",
            "85bee875df9d4444bb61ad593a2af7b2",
            "c90f3921218b47e390786991210904f7",
            "6023e006ed68401384ff02d2ce344d91",
            "ac1f6388db9f4dc4b2c5db7a00e44b9c",
            "31a7b659620c4b1381d7c9b75bdc8d4a",
            "c25cd2a048324eff8d4a2f26983c8ca5",
            "18f98e673ccd457392fcdd3f0bce98bf",
            "b75a7bd74df744c684cfdd24045d121d",
            "62d1aeb708b94684961140b56390b5a5",
            "2deeedde22ce478a9234f32bfcce7e00",
            "bfa66ff2d2f24459a7b1914325762556",
            "8eb99d35bc0d43e089dcffefae6507ca",
            "6db4a90af23a47de864477c318f20a6e",
            "b95b60d6f7ed4addb33e1612ed3de7d3",
            "ee816f11540243de9e65fb12a795030d",
            "7252a8d53b8a431a80008290b4e53b72",
            "e5b84c7bb498489c9f73af89494299d0",
            "dfea34a7666e4c59ad784ad31cb1f978",
            "c2fce9a6fbc74156baaaf3312742c2c6",
            "c2ebe6b7f2ed4e9fa41deca1098ab121",
            "ae33928b26c84434b236a54cfbda6357",
            "b0aa62664a964af4a5c3dc46190abc51",
            "5960c9fa08c142f38b16e90896b43eb5",
            "7f23794d97784a97b813fbf6b12d9d83",
            "93b88a4af8604d2eb437af7f2d9c2ea4",
            "166b4a4a22784566b4d6c5d4024eb228",
            "947e7df00aa846d5a58a979932a50c62",
            "1a05829833544d45bc0f3d1295cd36ec",
            "1f6a4dcb1bee49f0bb7a2ee80445761c",
            "be108ab049a14656b1af5b5fcac7710e",
            "0b3345a943d54ddca8561c95315dd9d8",
            "899c684b59ef4dd79a42cd4bd88f4329",
            "a27fa74467e648cebd6781643f14484c",
            "8105e80038494dd285d5f4817d550079",
            "b9e6dc8f804c4d9f8dd9ad9fd8f6291e",
            "89eaec32e8a042dfa2066834573491b5",
            "16cdc09676e8480ca8e4473d273fc707",
            "1f881a2b844f4d6380da19bd92a8d99e",
            "5e63fa840a874d209bf096e5c395ec3b",
            "46f771ad89cf4acd994bd25f4737735b",
            "f9ad94bf3fbe490fb18ede7db32b2169",
            "08c856ccc96444859146bbbca8c4d0e8",
            "8053339df8f1434fb22d13b54430c561",
            "b83dcfdc5e0a46e58301ac56e91f4d6c",
            "7d0d51b2671248578924ba282481ae92",
            "88b1bc563d964cd9a401e359abb8a9e3",
            "f884d2684aba41f888a7276774356cc8",
            "18c0310900b3410587e9cdb347ea3994",
            "eeeed7831dd24e1ebda3039a6267e4c4",
            "41cd48d2f5f84a4c98e996f7646ee45f",
            "dfa82362eeb24f7d83e258cbea25b17b",
            "39979629db3c40ef8802c2532e4379f5",
            "f5b8e8d974034021a4246a231ed54fdd",
            "8caba0eb311d4509bb6dc79d6c507741",
            "014eaa7647b24e0ea3deed2cfa1f5d8f",
            "38950a2cbadd494b81ef648cb0546dab",
            "518328a84ecd47d49b4e3c18d27d7e9c",
            "4a1c4e4938b64393a93aae277d12dac1",
            "7161de52e8d34c508e724070bf22811e",
            "ec0fcfcf9be94bb78a2818fa1220f5b8",
            "086ebd5ebed8432eae7c4d6cc33ad672",
            "dc3a1700cf2b449fbd71c5105523fa56",
            "11f06c562a6b4bc0bcb3cd3c9f264b0a",
            "3aab660434b446a99c06320c30941c32",
            "2e4a7f9eb19a4bc8bea38027a6f3e295",
            "0ca73ba1ecda48b28b672875602c2421",
            "0a8c89ca1d5b454096f78f20cdb72a79",
            "a6bd0f9148c04599ac67bc80be329287",
            "de58570315aa422fb554be5dcd2d2969",
            "a8764a3145a9498d8c8a2dd0d34ecd9e",
            "2f7e3ebad11f4f0bbe080a5b8dc8b603",
            "1fed8630507f420f905a343855fc1cdd",
            "af3fa0e6f7ac4e2f92336e51fc215d54",
            "c10aa22c7ab94609b8dd93c9334e331a",
            "336db712194e4f7c81d25bb869e4f026",
            "18b8ac5321ee4bd89c376effcc838199",
            "8087f83920a541a991b7ed1ecdfd97b6",
            "aa610099d9ca43b08be675f6beb71b80",
            "27d429f4109c4104872c5c86c6f0b87e",
            "dfc750742ec54f3a9700a6a4d03430da",
            "078fcbdc2cd04090bd4d1945da28a2b9",
            "bc62f944748341489d5c4868e2b945d3",
            "c4477e12afb24622baaedaf46f0ece9f",
            "db1c44d3416d435db64a7c17deade6aa",
            "49b7a3d9b44348ab8b1edd54f3c0cfad",
            "f28c40e80ebd45f7b4f316239fe0ac3a",
            "ebb2e609667d4464a35952180357b4fa",
            "6b8b516bd8c74e51a06dbce63b2967d2",
            "cec34860d31c4127bc8db4a93fbbc4b8",
            "ff227b3a642a4dde9e97000b14856bcc",
            "cb04ad53414b4a7d82de00690d049aaa",
            "eca1cbb6da7943f19612382c1ca1d6be",
            "e047fb92ac324a2185d7bdef673a745b",
            "1826b441ba134c9fbf9eab8c6577d1a2",
            "b5c3edee696a4539aa3c0591a204c4d8",
            "5246f8543b5941c99a387849796be1e1",
            "b687aee57b6b4be18557306387154339",
            "78a3cf0be7604417a00015320db5715a",
            "c602a6f2513b4cdbab718a42ba99529c",
            "801e101bf9964cd092ddc8c7553eb786",
            "3bcf26f024a6492e928d5c2201e5ea31",
            "33c7898f8237425da86cc3aaac92bc90"
          ]
        },
        "id": "WpQdhTRP92MM",
        "outputId": "371a9ef5-dd3a-442d-9ab9-f1da52499c3f"
      },
      "execution_count": null,
      "outputs": [
        {
          "output_type": "display_data",
          "data": {
            "text/plain": [
              "modules.json:   0%|          | 0.00/349 [00:00<?, ?B/s]"
            ],
            "application/vnd.jupyter.widget-view+json": {
              "version_major": 2,
              "version_minor": 0,
              "model_id": "367ff706fc354388871a331dfe1875c7"
            }
          },
          "metadata": {}
        },
        {
          "output_type": "display_data",
          "data": {
            "text/plain": [
              "config_sentence_transformers.json:   0%|          | 0.00/124 [00:00<?, ?B/s]"
            ],
            "application/vnd.jupyter.widget-view+json": {
              "version_major": 2,
              "version_minor": 0,
              "model_id": "da015feb5a1a4e389a8e7e0e4d70f7fa"
            }
          },
          "metadata": {}
        },
        {
          "output_type": "display_data",
          "data": {
            "text/plain": [
              "README.md:   0%|          | 0.00/94.8k [00:00<?, ?B/s]"
            ],
            "application/vnd.jupyter.widget-view+json": {
              "version_major": 2,
              "version_minor": 0,
              "model_id": "ac1f6388db9f4dc4b2c5db7a00e44b9c"
            }
          },
          "metadata": {}
        },
        {
          "output_type": "display_data",
          "data": {
            "text/plain": [
              "sentence_bert_config.json:   0%|          | 0.00/52.0 [00:00<?, ?B/s]"
            ],
            "application/vnd.jupyter.widget-view+json": {
              "version_major": 2,
              "version_minor": 0,
              "model_id": "ee816f11540243de9e65fb12a795030d"
            }
          },
          "metadata": {}
        },
        {
          "output_type": "display_data",
          "data": {
            "text/plain": [
              "config.json:   0%|          | 0.00/743 [00:00<?, ?B/s]"
            ],
            "application/vnd.jupyter.widget-view+json": {
              "version_major": 2,
              "version_minor": 0,
              "model_id": "166b4a4a22784566b4d6c5d4024eb228"
            }
          },
          "metadata": {}
        },
        {
          "output_type": "display_data",
          "data": {
            "text/plain": [
              "model.safetensors:   0%|          | 0.00/133M [00:00<?, ?B/s]"
            ],
            "application/vnd.jupyter.widget-view+json": {
              "version_major": 2,
              "version_minor": 0,
              "model_id": "16cdc09676e8480ca8e4473d273fc707"
            }
          },
          "metadata": {}
        },
        {
          "output_type": "display_data",
          "data": {
            "text/plain": [
              "tokenizer_config.json:   0%|          | 0.00/366 [00:00<?, ?B/s]"
            ],
            "application/vnd.jupyter.widget-view+json": {
              "version_major": 2,
              "version_minor": 0,
              "model_id": "18c0310900b3410587e9cdb347ea3994"
            }
          },
          "metadata": {}
        },
        {
          "output_type": "display_data",
          "data": {
            "text/plain": [
              "vocab.txt:   0%|          | 0.00/232k [00:00<?, ?B/s]"
            ],
            "application/vnd.jupyter.widget-view+json": {
              "version_major": 2,
              "version_minor": 0,
              "model_id": "7161de52e8d34c508e724070bf22811e"
            }
          },
          "metadata": {}
        },
        {
          "output_type": "display_data",
          "data": {
            "text/plain": [
              "tokenizer.json:   0%|          | 0.00/711k [00:00<?, ?B/s]"
            ],
            "application/vnd.jupyter.widget-view+json": {
              "version_major": 2,
              "version_minor": 0,
              "model_id": "a8764a3145a9498d8c8a2dd0d34ecd9e"
            }
          },
          "metadata": {}
        },
        {
          "output_type": "display_data",
          "data": {
            "text/plain": [
              "special_tokens_map.json:   0%|          | 0.00/125 [00:00<?, ?B/s]"
            ],
            "application/vnd.jupyter.widget-view+json": {
              "version_major": 2,
              "version_minor": 0,
              "model_id": "078fcbdc2cd04090bd4d1945da28a2b9"
            }
          },
          "metadata": {}
        },
        {
          "output_type": "display_data",
          "data": {
            "text/plain": [
              "1_Pooling/config.json:   0%|          | 0.00/190 [00:00<?, ?B/s]"
            ],
            "application/vnd.jupyter.widget-view+json": {
              "version_major": 2,
              "version_minor": 0,
              "model_id": "eca1cbb6da7943f19612382c1ca1d6be"
            }
          },
          "metadata": {}
        }
      ]
    },
    {
      "cell_type": "markdown",
      "source": [
        "Next, we can create our `chromadb` client and use it to create our collection (think table).\n",
        "Notice that we pass our embedding function.\n",
        "That way, when we add documents to the table, the the text is automatically embedded."
      ],
      "metadata": {
        "id": "WQtyevhXceZ9"
      }
    },
    {
      "cell_type": "code",
      "source": [
        "client = Client()"
      ],
      "metadata": {
        "id": "gjN4Byls-sl4"
      },
      "execution_count": null,
      "outputs": []
    },
    {
      "cell_type": "code",
      "source": [
        "reviews = client.create_collection(\n",
        "    name='reviews',\n",
        "    embedding_function=embed_fn,\n",
        "    get_or_create=True\n",
        ")"
      ],
      "metadata": {
        "id": "TU6DBPIP-tyS"
      },
      "execution_count": null,
      "outputs": []
    },
    {
      "cell_type": "code",
      "source": [
        "reviews.add(documents=train['text'], metadatas=[{'rating': x} for x in train['label']], ids=train['id'])"
      ],
      "metadata": {
        "id": "dMu6Dqs4_3Bm"
      },
      "execution_count": null,
      "outputs": []
    },
    {
      "cell_type": "markdown",
      "source": [
        "Once we have created our vector store, we can search over it using plain text.\n",
        "Here are 3 queries - good review, a neutral review, and a bad review.\n",
        "Let's search our train documents and observe the average rating for the closest 5 documents to each fake review."
      ],
      "metadata": {
        "id": "sJuCCU5pcvvU"
      }
    },
    {
      "cell_type": "code",
      "source": [
        "queries = [\n",
        "    \"This product is great!\",\n",
        "    \"This product was pretty typical - not good or bad.\",\n",
        "    \"This product was awful\",\n",
        "]"
      ],
      "metadata": {
        "id": "QHhwQkgSZmQW"
      },
      "execution_count": null,
      "outputs": []
    },
    {
      "cell_type": "code",
      "source": [
        "retrievals = reviews.query(\n",
        "    query_texts=queries,\n",
        "    n_results=5\n",
        ")"
      ],
      "metadata": {
        "id": "iNW6jiGX-1kg"
      },
      "execution_count": null,
      "outputs": []
    },
    {
      "cell_type": "code",
      "source": [
        "for query, metadatas in zip(queries, retrievals['metadatas']):\n",
        "    ratings = [float(i.get('rating')) for i in metadatas]\n",
        "    print(f\"Review {query}\")\n",
        "    print(f\"Avg rating of retrieved passages: {np.mean(ratings)}\")"
      ],
      "metadata": {
        "colab": {
          "base_uri": "https://localhost:8080/",
          "height": 116
        },
        "id": "226vy3W6Y9kz",
        "outputId": "b83ee19a-f228-4c5b-cdfe-62f71d216618"
      },
      "execution_count": null,
      "outputs": [
        {
          "output_type": "display_data",
          "data": {
            "text/plain": [
              "Review This product is great!\n"
            ],
            "text/html": [
              "<pre style=\"white-space:pre;overflow-x:auto;line-height:normal;font-family:Menlo,'DejaVu Sans Mono',consolas,'Courier New',monospace\">Review This product is great!\n",
              "</pre>\n"
            ]
          },
          "metadata": {}
        },
        {
          "output_type": "display_data",
          "data": {
            "text/plain": [
              "Avg rating of retrieved passages: \u001b[1;36m4.0\u001b[0m\n"
            ],
            "text/html": [
              "<pre style=\"white-space:pre;overflow-x:auto;line-height:normal;font-family:Menlo,'DejaVu Sans Mono',consolas,'Courier New',monospace\">Avg rating of retrieved passages: <span style=\"color: #008080; text-decoration-color: #008080; font-weight: bold\">4.0</span>\n",
              "</pre>\n"
            ]
          },
          "metadata": {}
        },
        {
          "output_type": "display_data",
          "data": {
            "text/plain": [
              "Review This product was pretty typical - not good or bad.\n"
            ],
            "text/html": [
              "<pre style=\"white-space:pre;overflow-x:auto;line-height:normal;font-family:Menlo,'DejaVu Sans Mono',consolas,'Courier New',monospace\">Review This product was pretty typical - not good or bad.\n",
              "</pre>\n"
            ]
          },
          "metadata": {}
        },
        {
          "output_type": "display_data",
          "data": {
            "text/plain": [
              "Avg rating of retrieved passages: \u001b[1;36m1.4\u001b[0m\n"
            ],
            "text/html": [
              "<pre style=\"white-space:pre;overflow-x:auto;line-height:normal;font-family:Menlo,'DejaVu Sans Mono',consolas,'Courier New',monospace\">Avg rating of retrieved passages: <span style=\"color: #008080; text-decoration-color: #008080; font-weight: bold\">1.4</span>\n",
              "</pre>\n"
            ]
          },
          "metadata": {}
        },
        {
          "output_type": "display_data",
          "data": {
            "text/plain": [
              "Review This product was awful\n"
            ],
            "text/html": [
              "<pre style=\"white-space:pre;overflow-x:auto;line-height:normal;font-family:Menlo,'DejaVu Sans Mono',consolas,'Courier New',monospace\">Review This product was awful\n",
              "</pre>\n"
            ]
          },
          "metadata": {}
        },
        {
          "output_type": "display_data",
          "data": {
            "text/plain": [
              "Avg rating of retrieved passages: \u001b[1;36m0.6\u001b[0m\n"
            ],
            "text/html": [
              "<pre style=\"white-space:pre;overflow-x:auto;line-height:normal;font-family:Menlo,'DejaVu Sans Mono',consolas,'Courier New',monospace\">Avg rating of retrieved passages: <span style=\"color: #008080; text-decoration-color: #008080; font-weight: bold\">0.6</span>\n",
              "</pre>\n"
            ]
          },
          "metadata": {}
        }
      ]
    },
    {
      "cell_type": "code",
      "source": [
        "reviews.query(query_texts = 'hello!')['documents']"
      ],
      "metadata": {
        "colab": {
          "base_uri": "https://localhost:8080/"
        },
        "id": "sQOW_7KZ30XH",
        "outputId": "253cee25-de1e-4392-a2b7-63ce8f489379"
      },
      "execution_count": null,
      "outputs": [
        {
          "output_type": "execute_result",
          "data": {
            "text/plain": [
              "[['Timely arrival and as advertised!',\n",
              "  \"Ask the Organizer covers a lot of ground and is great for stimulating thinking about how my space could be improved. Here's the thing I liked best - she uses links to specific Pinterest pages for each area of the house. And it's great! I read it on my iPhone with the free Kindle App, and I could click on the Pinterest link and come right back. Yeah. It includes so much - some of which doesn't apply to me, but might apply to you - garage management, children organizing, time management, etc. etc. Altogether a great resource, conversational, inspiring, down-to-earth. Through it, the author's good spirit shines through, and motivates me.\",\n",
              "  'Product is what I wanted',\n",
              "  'Really nice durable case. The actual ring is hard to move at first, but after a few times it wasn’t difficult. I love the magnet feature. It pairs great with the magnetic dock I have for the car vent!',\n",
              "  'I was happy with this purchase. Nursing friendly and cute! I got a medium, I am 5’5” and about 140lbs right now and it fit perfectly.',\n",
              "  \"Love it! The vibration is a great feature, as well as the free little bottle of lube. My suction cup isn't the greatest, but it works. Customer service is the best, Amira was very helpful.\",\n",
              "  'Pretty Fun And Relaxing',\n",
              "  \"I recently got into acrylic paint pouring and this is going to help in a great way! I just received my wooden canvas and have already decided to purchase more. No sagging means no puddles of paint, it's got great durability, and I'm getting more ideas of what to paint with it. Practical and inspirational, how can you beat that?\",\n",
              "  'Very good product and recommend it!!',\n",
              "  'Well.. it does in fact look like a tomato, so it is easy to have laying around without alot of questions. believe it or not.. this works. This is easy to keep clean too! It works pretty simply. The lower part creates a suction and the suction bring the capillaries in your lips to the surface']]"
            ]
          },
          "metadata": {},
          "execution_count": 72
        }
      ]
    },
    {
      "cell_type": "markdown",
      "source": [
        "## Discussion: Using vector stores\n",
        "\n",
        "Now that we have our data encoded this way, can anyone tell me how we might use this object to improve the way we classify reviews?"
      ],
      "metadata": {
        "id": "UIRfHOCFdBY_"
      }
    },
    {
      "cell_type": "markdown",
      "source": [
        "# Prompt engineering 3: dynamic few-shot prompting"
      ],
      "metadata": {
        "id": "whSrknBwZ1hA"
      }
    },
    {
      "cell_type": "code",
      "source": [
        "def dynamic_few_shot_examples_fn(**kwargs):\n",
        "    retrievals = reviews.query(\n",
        "        query_texts=[kwargs['review']],\n",
        "        n_results=5\n",
        "    )\n",
        "    result_strs = []\n",
        "    documents = retrievals['documents'][0]\n",
        "    metadatas = retrievals['metadatas'][0]\n",
        "    for document, metadata in zip(documents, metadatas):\n",
        "        result_strs.append(f\"Text: {document}\\nRating: {metadata.get('rating')}\")\n",
        "    return \"\\n\\n\".join(result_strs)"
      ],
      "metadata": {
        "id": "cdM9igtyZ4ZA"
      },
      "execution_count": null,
      "outputs": []
    },
    {
      "cell_type": "code",
      "source": [
        "print(dynamic_few_shot_examples_fn(review=\"This is the best uber ride of my life!\"))"
      ],
      "metadata": {
        "colab": {
          "base_uri": "https://localhost:8080/",
          "height": 313
        },
        "id": "hSjfOxUP1V69",
        "outputId": "d28bb65c-1c64-4517-a933-70a9b81c2e5b"
      },
      "execution_count": null,
      "outputs": [
        {
          "output_type": "display_data",
          "data": {
            "text/plain": [
              "Text: Very well built. Over \u001b[1;36m800\u001b[0m pounds riding on them and doesnt change mobility. Great price.\n",
              "Rating: \u001b[1;36m4\u001b[0m\n",
              "\n",
              "Text: Really nice durable case. The actual ring is hard to move at first, but after a few times it wasn’t \n",
              "difficult. I love the magnet feature. It pairs great with the magnetic dock I have for the car vent!\n",
              "Rating: \u001b[1;36m4\u001b[0m\n",
              "\n",
              "Text: Love it! The vibration is a great feature, as well as the free little bottle of lube. My suction cup isn't \n",
              "the greatest, but it works. Customer service is the best, Amira was very helpful.\n",
              "Rating: \u001b[1;36m3\u001b[0m\n",
              "\n",
              "Text: Pretty Fun And Relaxing\n",
              "Rating: \u001b[1;36m3\u001b[0m\n",
              "\n",
              "Text: My cousin ask me to buy it for him since I have amazon Prime. I got it on the second day, it ships super fast\n",
              ". last week, my cousin got his new iphone \u001b[1;36m11\u001b[0m and this case fits his phone perfectly, it is light and flexible. it \n",
              "has simple design which is good for business man, but it can prevent breaking the phone.\n",
              "Rating: \u001b[1;36m4\u001b[0m\n"
            ],
            "text/html": [
              "<pre style=\"white-space:pre;overflow-x:auto;line-height:normal;font-family:Menlo,'DejaVu Sans Mono',consolas,'Courier New',monospace\">Text: Very well built. Over <span style=\"color: #008080; text-decoration-color: #008080; font-weight: bold\">800</span> pounds riding on them and doesnt change mobility. Great price.\n",
              "Rating: <span style=\"color: #008080; text-decoration-color: #008080; font-weight: bold\">4</span>\n",
              "\n",
              "Text: Really nice durable case. The actual ring is hard to move at first, but after a few times it wasn’t \n",
              "difficult. I love the magnet feature. It pairs great with the magnetic dock I have for the car vent!\n",
              "Rating: <span style=\"color: #008080; text-decoration-color: #008080; font-weight: bold\">4</span>\n",
              "\n",
              "Text: Love it! The vibration is a great feature, as well as the free little bottle of lube. My suction cup isn't \n",
              "the greatest, but it works. Customer service is the best, Amira was very helpful.\n",
              "Rating: <span style=\"color: #008080; text-decoration-color: #008080; font-weight: bold\">3</span>\n",
              "\n",
              "Text: Pretty Fun And Relaxing\n",
              "Rating: <span style=\"color: #008080; text-decoration-color: #008080; font-weight: bold\">3</span>\n",
              "\n",
              "Text: My cousin ask me to buy it for him since I have amazon Prime. I got it on the second day, it ships super fast\n",
              ". last week, my cousin got his new iphone <span style=\"color: #008080; text-decoration-color: #008080; font-weight: bold\">11</span> and this case fits his phone perfectly, it is light and flexible. it \n",
              "has simple design which is good for business man, but it can prevent breaking the phone.\n",
              "Rating: <span style=\"color: #008080; text-decoration-color: #008080; font-weight: bold\">4</span>\n",
              "</pre>\n"
            ]
          },
          "metadata": {}
        }
      ]
    },
    {
      "cell_type": "code",
      "source": [
        "dynamic_few_shot_prompt_tmpl_str = \"\"\"\\\n",
        "The review text is below.\n",
        "---------------------\n",
        "{review}\n",
        "---------------------\n",
        "Given the review text and not prior knowledge, \\\n",
        "please attempt to predict the review score of the context. \\\n",
        "Here are several examples of reviews and their ratings:\n",
        "\n",
        "{dynamic_few_shot_examples}\n",
        "\n",
        "Query: What is the rating of this review?\n",
        "Answer: \\\n",
        "\"\"\"\n",
        "\n",
        "dynamic_few_shot_prompt_tmpl = PromptTemplate(\n",
        "    few_shot_prompt_tmpl_str,\n",
        "    function_mappings={\"dynamic_few_shot_examples\": dynamic_few_shot_examples_fn},\n",
        ")"
      ],
      "metadata": {
        "id": "SFqomajG4YyU"
      },
      "execution_count": null,
      "outputs": []
    },
    {
      "cell_type": "code",
      "source": [
        "async def dynamic_few_shot_predict(text):\n",
        "    messages = [\n",
        "        ChatMessage.from_str(few_shot_prompt_tmpl.format(review=text))\n",
        "    ]\n",
        "    response = await zero_shot_structured_llm.achat(messages)\n",
        "    return response.raw.rating"
      ],
      "metadata": {
        "id": "3Sg2NzM-1ZXY"
      },
      "execution_count": null,
      "outputs": []
    },
    {
      "cell_type": "code",
      "source": [
        "dynamic_few_shot_labels, dynamic_few_shot_predictions, dynamic_few_shot_kappa, dynamic_few_shot_mae, dynamic_few_shot_cm, dynamic_few_shot_cr = await predict_and_evaluate(dynamic_few_shot_predict)\n",
        "print(f\"Cohen's Kappa: {dynamic_few_shot_kappa:.04f}, MAE: {dynamic_few_shot_mae}\")\n",
        "print(dynamic_few_shot_cr)"
      ],
      "metadata": {
        "colab": {
          "base_uri": "https://localhost:8080/",
          "height": 669
        },
        "id": "IU7jjKtk4s28",
        "outputId": "bb859339-4059-42d4-84e0-6e20ba1e2e9f"
      },
      "execution_count": null,
      "outputs": [
        {
          "output_type": "display_data",
          "data": {
            "text/plain": [
              "Cohen's Kappa: \u001b[1;36m0.8868\u001b[0m, MAE: \u001b[1;36m0.4\u001b[0m\n"
            ],
            "text/html": [
              "<pre style=\"white-space:pre;overflow-x:auto;line-height:normal;font-family:Menlo,'DejaVu Sans Mono',consolas,'Courier New',monospace\">Cohen's Kappa: <span style=\"color: #008080; text-decoration-color: #008080; font-weight: bold\">0.8868</span>, MAE: <span style=\"color: #008080; text-decoration-color: #008080; font-weight: bold\">0.4</span>\n",
              "</pre>\n"
            ]
          },
          "metadata": {}
        },
        {
          "output_type": "display_data",
          "data": {
            "text/plain": [
              "              precision    recall  f1-score   support\n",
              "\n",
              "           \u001b[1;36m0\u001b[0m       \u001b[1;36m1.00\u001b[0m      \u001b[1;36m0.60\u001b[0m      \u001b[1;36m0.75\u001b[0m         \u001b[1;36m5\u001b[0m\n",
              "           \u001b[1;36m1\u001b[0m       \u001b[1;36m0.67\u001b[0m      \u001b[1;36m0.80\u001b[0m      \u001b[1;36m0.73\u001b[0m         \u001b[1;36m5\u001b[0m\n",
              "           \u001b[1;36m2\u001b[0m       \u001b[1;36m0.50\u001b[0m      \u001b[1;36m0.20\u001b[0m      \u001b[1;36m0.29\u001b[0m         \u001b[1;36m5\u001b[0m\n",
              "           \u001b[1;36m3\u001b[0m       \u001b[1;36m0.50\u001b[0m      \u001b[1;36m0.60\u001b[0m      \u001b[1;36m0.55\u001b[0m         \u001b[1;36m5\u001b[0m\n",
              "           \u001b[1;36m4\u001b[0m       \u001b[1;36m0.62\u001b[0m      \u001b[1;36m1.00\u001b[0m      \u001b[1;36m0.77\u001b[0m         \u001b[1;36m5\u001b[0m\n",
              "\n",
              "    accuracy                           \u001b[1;36m0.64\u001b[0m        \u001b[1;36m25\u001b[0m\n",
              "   macro avg       \u001b[1;36m0.66\u001b[0m      \u001b[1;36m0.64\u001b[0m      \u001b[1;36m0.62\u001b[0m        \u001b[1;36m25\u001b[0m\n",
              "weighted avg       \u001b[1;36m0.66\u001b[0m      \u001b[1;36m0.64\u001b[0m      \u001b[1;36m0.62\u001b[0m        \u001b[1;36m25\u001b[0m\n",
              "\n"
            ],
            "text/html": [
              "<pre style=\"white-space:pre;overflow-x:auto;line-height:normal;font-family:Menlo,'DejaVu Sans Mono',consolas,'Courier New',monospace\">              precision    recall  f1-score   support\n",
              "\n",
              "           <span style=\"color: #008080; text-decoration-color: #008080; font-weight: bold\">0</span>       <span style=\"color: #008080; text-decoration-color: #008080; font-weight: bold\">1.00</span>      <span style=\"color: #008080; text-decoration-color: #008080; font-weight: bold\">0.60</span>      <span style=\"color: #008080; text-decoration-color: #008080; font-weight: bold\">0.75</span>         <span style=\"color: #008080; text-decoration-color: #008080; font-weight: bold\">5</span>\n",
              "           <span style=\"color: #008080; text-decoration-color: #008080; font-weight: bold\">1</span>       <span style=\"color: #008080; text-decoration-color: #008080; font-weight: bold\">0.67</span>      <span style=\"color: #008080; text-decoration-color: #008080; font-weight: bold\">0.80</span>      <span style=\"color: #008080; text-decoration-color: #008080; font-weight: bold\">0.73</span>         <span style=\"color: #008080; text-decoration-color: #008080; font-weight: bold\">5</span>\n",
              "           <span style=\"color: #008080; text-decoration-color: #008080; font-weight: bold\">2</span>       <span style=\"color: #008080; text-decoration-color: #008080; font-weight: bold\">0.50</span>      <span style=\"color: #008080; text-decoration-color: #008080; font-weight: bold\">0.20</span>      <span style=\"color: #008080; text-decoration-color: #008080; font-weight: bold\">0.29</span>         <span style=\"color: #008080; text-decoration-color: #008080; font-weight: bold\">5</span>\n",
              "           <span style=\"color: #008080; text-decoration-color: #008080; font-weight: bold\">3</span>       <span style=\"color: #008080; text-decoration-color: #008080; font-weight: bold\">0.50</span>      <span style=\"color: #008080; text-decoration-color: #008080; font-weight: bold\">0.60</span>      <span style=\"color: #008080; text-decoration-color: #008080; font-weight: bold\">0.55</span>         <span style=\"color: #008080; text-decoration-color: #008080; font-weight: bold\">5</span>\n",
              "           <span style=\"color: #008080; text-decoration-color: #008080; font-weight: bold\">4</span>       <span style=\"color: #008080; text-decoration-color: #008080; font-weight: bold\">0.62</span>      <span style=\"color: #008080; text-decoration-color: #008080; font-weight: bold\">1.00</span>      <span style=\"color: #008080; text-decoration-color: #008080; font-weight: bold\">0.77</span>         <span style=\"color: #008080; text-decoration-color: #008080; font-weight: bold\">5</span>\n",
              "\n",
              "    accuracy                           <span style=\"color: #008080; text-decoration-color: #008080; font-weight: bold\">0.64</span>        <span style=\"color: #008080; text-decoration-color: #008080; font-weight: bold\">25</span>\n",
              "   macro avg       <span style=\"color: #008080; text-decoration-color: #008080; font-weight: bold\">0.66</span>      <span style=\"color: #008080; text-decoration-color: #008080; font-weight: bold\">0.64</span>      <span style=\"color: #008080; text-decoration-color: #008080; font-weight: bold\">0.62</span>        <span style=\"color: #008080; text-decoration-color: #008080; font-weight: bold\">25</span>\n",
              "weighted avg       <span style=\"color: #008080; text-decoration-color: #008080; font-weight: bold\">0.66</span>      <span style=\"color: #008080; text-decoration-color: #008080; font-weight: bold\">0.64</span>      <span style=\"color: #008080; text-decoration-color: #008080; font-weight: bold\">0.62</span>        <span style=\"color: #008080; text-decoration-color: #008080; font-weight: bold\">25</span>\n",
              "\n",
              "</pre>\n"
            ]
          },
          "metadata": {}
        },
        {
          "output_type": "display_data",
          "data": {
            "text/plain": [
              "<Figure size 640x480 with 2 Axes>"
            ],
            "image/png": "[encoded data removed]"
          },
          "metadata": {}
        }
      ]
    },
    {
      "cell_type": "markdown",
      "source": [
        "# Exercise: Rating Reviews\n",
        "\n",
        "In today's session, we've learned about:\n",
        "- Chat models, interfaces, and `gradio`\n",
        "- Zero shot prompting\n",
        "- Few shot learning\n",
        "- Embeddings and vector stores\n",
        "- Dynamic few shot learning\n",
        "\n",
        "It's time to combine these principles into our final exercise of the day.\n",
        "Your task is to create a `gradio` app where a user can paste a review from Amazon and the app displays the predicted number of ⭐stars⭐.\n",
        "To complete this task, please:\n",
        "- Create a GradIO app with...\n",
        "  - an input field where a user can submit text\n",
        "  - a submit button and/or functionality to submit the text to the app when the user hits the return key\n",
        "  - an output field to display the predicted result\n",
        "\n",
        "If this is too easy, try to:\n",
        "- Add hyperparameters like the number of examples retrieved\n",
        "- Add details in markdown for how to use the app\n",
        "- Set up a Gemini API key and use [`llama-index-llms-gemini`](https://docs.llamaindex.ai/en/stable/examples/llm/gemini/) to give users an option to use a different LLM API\n",
        "\n"
      ],
      "metadata": {
        "id": "hA84jzIihOaw"
      }
    },
    {
      "cell_type": "code",
      "source": [],
      "metadata": {
        "id": "1RFMv54pkbGU"
      },
      "execution_count": null,
      "outputs": []
    }
  ]
}